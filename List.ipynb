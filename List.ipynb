{
 "cells": [
  {
   "cell_type": "markdown",
   "id": "063129ba-58f2-404b-87fd-c158678c8cb9",
   "metadata": {},
   "source": [
    "# List"
   ]
  },
  {
   "cell_type": "markdown",
   "id": "c25b5300-e394-48d5-89fa-343fdb80b703",
   "metadata": {},
   "source": [
    "## List is a Squence"
   ]
  },
  {
   "cell_type": "markdown",
   "id": "b69ea267-5515-45fd-9385-fe39a805661b",
   "metadata": {},
   "source": [
    "Previously, we learned that strings are Sequences."
   ]
  },
  {
   "cell_type": "markdown",
   "id": "8c00e88c-60d9-4ea4-9731-2743bf53300c",
   "metadata": {},
   "source": [
    "Lists are also Sequence Types."
   ]
  },
  {
   "cell_type": "markdown",
   "id": "d6c48210-0287-4652-b3c0-165bf5b25453",
   "metadata": {},
   "source": [
    "For Sequences, you can access elements via `index`."
   ]
  },
  {
   "cell_type": "markdown",
   "id": "88c6f12a-3876-4624-b120-d36a3168e31f",
   "metadata": {},
   "source": [
    "List are defined: `[]`"
   ]
  },
  {
   "cell_type": "code",
   "execution_count": 2,
   "id": "49cbefb7-5b73-4b6c-8ad4-f31354704b76",
   "metadata": {},
   "outputs": [
    {
     "data": {
      "text/plain": [
       "[10, 20, 30, 40]"
      ]
     },
     "execution_count": 2,
     "metadata": {},
     "output_type": "execute_result"
    }
   ],
   "source": [
    "my_list = [10, 20, 30, 40]\n",
    "my_list"
   ]
  },
  {
   "cell_type": "code",
   "execution_count": 3,
   "id": "a057048f-afb8-4fbc-8176-0bf47343e5f8",
   "metadata": {},
   "outputs": [
    {
     "name": "stdout",
     "output_type": "stream",
     "text": [
      "['a', 'b', 'c', 'd', 'e']\n"
     ]
    }
   ],
   "source": [
    "letters = ['a', 'b', 'c', 'd', 'e']\n",
    "print(letters)"
   ]
  },
  {
   "cell_type": "code",
   "execution_count": 4,
   "id": "cb44ab3c-5573-48a8-b6bb-000820b42087",
   "metadata": {},
   "outputs": [
    {
     "data": {
      "text/plain": [
       "list"
      ]
     },
     "execution_count": 4,
     "metadata": {},
     "output_type": "execute_result"
    }
   ],
   "source": [
    "type(letters)"
   ]
  },
  {
   "cell_type": "code",
   "execution_count": 5,
   "id": "0978d7ee-9620-4a80-bfe4-fd3ed0fb9539",
   "metadata": {},
   "outputs": [
    {
     "data": {
      "text/plain": [
       "[2, 'A', 'B', True, 'mail']"
      ]
     },
     "execution_count": 5,
     "metadata": {},
     "output_type": "execute_result"
    }
   ],
   "source": [
    "mixed_list = [2, 'A', 'B', True, 'mail']\n",
    "mixed_list"
   ]
  },
  {
   "cell_type": "code",
   "execution_count": 6,
   "id": "9ed282af-a7e1-4337-b90f-1cd6f4caae19",
   "metadata": {},
   "outputs": [
    {
     "data": {
      "text/plain": [
       "['city', 'name', 4, True, [1, 2, 3], 'A', ['a', 'b']]"
      ]
     },
     "execution_count": 6,
     "metadata": {},
     "output_type": "execute_result"
    }
   ],
   "source": [
    "nested_list = ['city', 'name', 4, True, [1, 2, 3], 'A', ['a', 'b']]\n",
    "nested_list"
   ]
  },
  {
   "cell_type": "code",
   "execution_count": 7,
   "id": "a2747f85-230a-40cf-ba84-c92469494095",
   "metadata": {},
   "outputs": [
    {
     "data": {
      "text/plain": [
       "'city'"
      ]
     },
     "execution_count": 7,
     "metadata": {},
     "output_type": "execute_result"
    }
   ],
   "source": [
    "nested_list[0]"
   ]
  },
  {
   "cell_type": "code",
   "execution_count": 8,
   "id": "83e4dc44-eb4e-4acc-9f16-32149c7af043",
   "metadata": {},
   "outputs": [
    {
     "data": {
      "text/plain": [
       "True"
      ]
     },
     "execution_count": 8,
     "metadata": {},
     "output_type": "execute_result"
    }
   ],
   "source": [
    "nested_list[3]"
   ]
  },
  {
   "cell_type": "code",
   "execution_count": 9,
   "id": "3c9eb9ca-a320-42ef-b387-f750611097f3",
   "metadata": {},
   "outputs": [
    {
     "data": {
      "text/plain": [
       "[1, 2, 3]"
      ]
     },
     "execution_count": 9,
     "metadata": {},
     "output_type": "execute_result"
    }
   ],
   "source": [
    "nested_list[4]"
   ]
  },
  {
   "cell_type": "code",
   "execution_count": 10,
   "id": "9ed4d793-d36e-4b0e-9456-2920580702ae",
   "metadata": {},
   "outputs": [
    {
     "data": {
      "text/plain": [
       "['a', 'b']"
      ]
     },
     "execution_count": 10,
     "metadata": {},
     "output_type": "execute_result"
    }
   ],
   "source": [
    "nested_list[6]"
   ]
  },
  {
   "cell_type": "code",
   "execution_count": 12,
   "id": "bbcb2227-c177-49b4-aeb3-5dd0144c3187",
   "metadata": {},
   "outputs": [
    {
     "data": {
      "text/plain": [
       "3"
      ]
     },
     "execution_count": 12,
     "metadata": {},
     "output_type": "execute_result"
    }
   ],
   "source": [
    "# acces into nested lists\n",
    "# double indexing\n",
    "\n",
    "nested_list[4][2]"
   ]
  },
  {
   "cell_type": "code",
   "execution_count": 13,
   "id": "f08e2597-9dd3-480a-acb7-07a6ff74a10b",
   "metadata": {},
   "outputs": [
    {
     "data": {
      "text/plain": [
       "['a', 'b']"
      ]
     },
     "execution_count": 13,
     "metadata": {},
     "output_type": "execute_result"
    }
   ],
   "source": [
    "nested_list[6]"
   ]
  },
  {
   "cell_type": "code",
   "execution_count": 14,
   "id": "1f44ad56-c069-4abe-9c07-a41979c9f261",
   "metadata": {},
   "outputs": [
    {
     "data": {
      "text/plain": [
       "'a'"
      ]
     },
     "execution_count": 14,
     "metadata": {},
     "output_type": "execute_result"
    }
   ],
   "source": [
    "nested_list[6][0]"
   ]
  },
  {
   "cell_type": "code",
   "execution_count": 15,
   "id": "72787cbb-d37c-4d4a-b2f7-772025764937",
   "metadata": {},
   "outputs": [
    {
     "data": {
      "text/plain": [
       "[]"
      ]
     },
     "execution_count": 15,
     "metadata": {},
     "output_type": "execute_result"
    }
   ],
   "source": [
    "# Empty lists\n",
    "\n",
    "empty = []\n",
    "empty"
   ]
  },
  {
   "cell_type": "code",
   "execution_count": 16,
   "id": "0b6afeaa-0571-4d25-92cb-3fce376c8d37",
   "metadata": {},
   "outputs": [
    {
     "data": {
      "text/plain": [
       "list"
      ]
     },
     "execution_count": 16,
     "metadata": {},
     "output_type": "execute_result"
    }
   ],
   "source": [
    "type(empty)"
   ]
  },
  {
   "cell_type": "markdown",
   "id": "b4d4b188-9d0c-4736-a6a5-58ec24303a96",
   "metadata": {},
   "source": [
    "# Lists are Mutable"
   ]
  },
  {
   "cell_type": "markdown",
   "id": "4d36e5b8-7746-4909-91c7-6b12b0b14b55",
   "metadata": {},
   "source": [
    "Strings are Immutable."
   ]
  },
  {
   "cell_type": "markdown",
   "id": "3db6d114-da34-414b-a460-dccb2043bce1",
   "metadata": {},
   "source": [
    "Lists are Mutable."
   ]
  },
  {
   "cell_type": "code",
   "execution_count": 1,
   "id": "7837b7ed-11f6-4df4-9809-93a25180b86f",
   "metadata": {},
   "outputs": [
    {
     "data": {
      "text/plain": [
       "['audi', 'Ford', 'Mazda']"
      ]
     },
     "execution_count": 1,
     "metadata": {},
     "output_type": "execute_result"
    }
   ],
   "source": [
    "cars = ['audi', 'Ford', 'Mazda']\n",
    "cars"
   ]
  },
  {
   "cell_type": "code",
   "execution_count": 2,
   "id": "d886c5be-1f3d-4545-b6d0-54db8c7dc4a3",
   "metadata": {},
   "outputs": [
    {
     "data": {
      "text/plain": [
       "['Audi', 'Ford', 'Mazda']"
      ]
     },
     "execution_count": 2,
     "metadata": {},
     "output_type": "execute_result"
    }
   ],
   "source": [
    "# mutate the list\n",
    "\n",
    "cars[0] = 'Audi'\n",
    "cars"
   ]
  },
  {
   "cell_type": "code",
   "execution_count": 3,
   "id": "d326b642-24f3-4b71-8cde-02efa80958e2",
   "metadata": {},
   "outputs": [
    {
     "data": {
      "text/plain": [
       "[1, 2, 3, 4, 5]"
      ]
     },
     "execution_count": 3,
     "metadata": {},
     "output_type": "execute_result"
    }
   ],
   "source": [
    "nums = [1, 2, 3, 4, 5]\n",
    "nums"
   ]
  },
  {
   "cell_type": "code",
   "execution_count": 4,
   "id": "398e6c09-c574-44e6-977b-9cb78c89b04a",
   "metadata": {},
   "outputs": [
    {
     "data": {
      "text/plain": [
       "5"
      ]
     },
     "execution_count": 4,
     "metadata": {},
     "output_type": "execute_result"
    }
   ],
   "source": [
    "nums[4]"
   ]
  },
  {
   "cell_type": "code",
   "execution_count": 5,
   "id": "05978982-d2be-475b-b449-d6aaaf0d5f7d",
   "metadata": {},
   "outputs": [
    {
     "data": {
      "text/plain": [
       "[1, 2, 3, 4, '55555']"
      ]
     },
     "execution_count": 5,
     "metadata": {},
     "output_type": "execute_result"
    }
   ],
   "source": [
    "nums[4] = '55555'\n",
    "nums"
   ]
  },
  {
   "cell_type": "code",
   "execution_count": 6,
   "id": "e7b380cb-a20e-400b-b706-7da40d3f17dc",
   "metadata": {},
   "outputs": [
    {
     "ename": "IndexError",
     "evalue": "list index out of range",
     "output_type": "error",
     "traceback": [
      "\u001b[1;31m---------------------------------------------------------------------------\u001b[0m",
      "\u001b[1;31mIndexError\u001b[0m                                Traceback (most recent call last)",
      "\u001b[1;32m~\\AppData\\Local\\Temp/ipykernel_7384/2413852561.py\u001b[0m in \u001b[0;36m<module>\u001b[1;34m\u001b[0m\n\u001b[0;32m      2\u001b[0m \u001b[1;31m# IndexError: list index out of range\u001b[0m\u001b[1;33m\u001b[0m\u001b[1;33m\u001b[0m\u001b[1;33m\u001b[0m\u001b[0m\n\u001b[0;32m      3\u001b[0m \u001b[1;33m\u001b[0m\u001b[0m\n\u001b[1;32m----> 4\u001b[1;33m \u001b[0mnums\u001b[0m\u001b[1;33m[\u001b[0m\u001b[1;36m6\u001b[0m\u001b[1;33m]\u001b[0m\u001b[1;33m\u001b[0m\u001b[1;33m\u001b[0m\u001b[0m\n\u001b[0m",
      "\u001b[1;31mIndexError\u001b[0m: list index out of range"
     ]
    }
   ],
   "source": [
    "# Access an index which does not exist\n",
    "# IndexError: list index out of range\n",
    "\n",
    "nums[6]"
   ]
  },
  {
   "cell_type": "code",
   "execution_count": 7,
   "id": "30fb197d-8908-4541-b539-76c8a0f7d51c",
   "metadata": {},
   "outputs": [
    {
     "data": {
      "text/plain": [
       "['Audi', 'Ford', 'Mazda']"
      ]
     },
     "execution_count": 7,
     "metadata": {},
     "output_type": "execute_result"
    }
   ],
   "source": [
    "cars"
   ]
  },
  {
   "cell_type": "raw",
   "id": "f59bcfea-15a3-4543-a236-33789faf2a2c",
   "metadata": {},
   "source": [
    "negative index: comes from Right to Left\n",
    "start from -1 \n",
    "\n",
    "index\n",
    "------------\n",
    "   0       1        2\n",
    "['Audi', 'Ford', 'Mazda']\n",
    "\n",
    "\n",
    "negative index\n",
    "<-----------\n",
    "   -3      -2      -1\n",
    "['Audi', 'Ford', 'Mazda']\n"
   ]
  },
  {
   "cell_type": "code",
   "execution_count": 8,
   "id": "9c004c00-b4fc-4404-a629-538314dbdc0a",
   "metadata": {},
   "outputs": [
    {
     "data": {
      "text/plain": [
       "'Mazda'"
      ]
     },
     "execution_count": 8,
     "metadata": {},
     "output_type": "execute_result"
    }
   ],
   "source": [
    "cars[-1]"
   ]
  },
  {
   "cell_type": "code",
   "execution_count": 9,
   "id": "7ad0d654-1026-4e21-b1d2-bbcfc8788e96",
   "metadata": {},
   "outputs": [
    {
     "data": {
      "text/plain": [
       "'Ford'"
      ]
     },
     "execution_count": 9,
     "metadata": {},
     "output_type": "execute_result"
    }
   ],
   "source": [
    "cars[-2]"
   ]
  },
  {
   "cell_type": "raw",
   "id": "bf691760-4b51-4a60-8d76-9ed90a5ea474",
   "metadata": {},
   "source": [
    "\n",
    "['Audi', 'Ford', 'Mazda'] | ['Audi', 'Ford', 'Mazda']\n",
    "   -3      -2      -1          0       1        2"
   ]
  },
  {
   "cell_type": "code",
   "execution_count": null,
   "id": "f0576581-e52e-4184-bb11-16835fdae845",
   "metadata": {},
   "outputs": [
    {
     "data": {
      "text/plain": [
       "'Audi'"
      ]
     },
     "execution_count": 10,
     "metadata": {},
     "output_type": "execute_result"
    }
   ],
   "source": [
    "cars[-3]"
   ]
  },
  {
   "cell_type": "markdown",
   "id": "fd203351-e35a-4bd4-9b14-e970352dc81e",
   "metadata": {},
   "source": [
    "# Loop Over a List"
   ]
  },
  {
   "cell_type": "code",
   "execution_count": 3,
   "id": "87fff3e6-e1ee-4e3a-8ec2-c1de07ac6649",
   "metadata": {},
   "outputs": [
    {
     "data": {
      "text/plain": [
       "['Audi', 'Ford', 'Mazda']"
      ]
     },
     "execution_count": 3,
     "metadata": {},
     "output_type": "execute_result"
    }
   ],
   "source": [
    "cars = ['Audi', 'Ford', 'Mazda']\n",
    "cars"
   ]
  },
  {
   "cell_type": "code",
   "execution_count": 4,
   "id": "adcb4d91-7100-4769-a45d-ef5c43ccbaae",
   "metadata": {},
   "outputs": [
    {
     "name": "stdout",
     "output_type": "stream",
     "text": [
      "Audi\n",
      "Ford\n",
      "Mazda\n"
     ]
    }
   ],
   "source": [
    "# loop over cars list\n",
    "\n",
    "for car in cars:\n",
    "    print(car)\n",
    "    "
   ]
  },
  {
   "cell_type": "code",
   "execution_count": 5,
   "id": "929087b7-c7f5-470e-8f59-285ebf172093",
   "metadata": {},
   "outputs": [
    {
     "name": "stdout",
     "output_type": "stream",
     "text": [
      "0 - Audi\n",
      "1 - Ford\n",
      "2 - Mazda\n"
     ]
    }
   ],
   "source": [
    "# we need the index -> enumerate()\n",
    "\n",
    "for index, car in enumerate(cars):\n",
    "    print(\"{0} - {1}\".format(index, car))\n",
    "    "
   ]
  },
  {
   "cell_type": "markdown",
   "id": "1524b9ce-50eb-4260-ae1a-6d611c3cd15c",
   "metadata": {},
   "source": [
    "We want to change the elemants during the loop."
   ]
  },
  {
   "cell_type": "code",
   "execution_count": 6,
   "id": "db710c35-5a2b-4107-b5e1-a74578b73278",
   "metadata": {},
   "outputs": [
    {
     "data": {
      "text/plain": [
       "{1, 2, 3, 4, 5}"
      ]
     },
     "execution_count": 6,
     "metadata": {},
     "output_type": "execute_result"
    }
   ],
   "source": [
    "nums = {1, 2, 3, 4, 5}\n",
    "nums"
   ]
  },
  {
   "cell_type": "code",
   "execution_count": 8,
   "id": "a592fa37-be6e-4620-9a9c-e82c67f318ab",
   "metadata": {},
   "outputs": [
    {
     "name": "stdout",
     "output_type": "stream",
     "text": [
      "10\n",
      "20\n",
      "30\n",
      "40\n",
      "50\n"
     ]
    }
   ],
   "source": [
    "# loop over the list -> multiply elements by 10\n",
    "\n",
    "for num in nums:\n",
    "    num *= 10\n",
    "    print(num)\n",
    "    "
   ]
  },
  {
   "cell_type": "code",
   "execution_count": 9,
   "id": "b2493715-e631-464b-9650-a213d5abb2d3",
   "metadata": {},
   "outputs": [
    {
     "data": {
      "text/plain": [
       "{1, 2, 3, 4, 5}"
      ]
     },
     "execution_count": 9,
     "metadata": {},
     "output_type": "execute_result"
    }
   ],
   "source": [
    "nums"
   ]
  },
  {
   "cell_type": "code",
   "execution_count": 16,
   "id": "4640d30d-eb70-471c-8a2f-5ba4cd8e5d13",
   "metadata": {},
   "outputs": [
    {
     "ename": "TypeError",
     "evalue": "'set' object does not support item assignment",
     "output_type": "error",
     "traceback": [
      "\u001b[1;31m---------------------------------------------------------------------------\u001b[0m",
      "\u001b[1;31mTypeError\u001b[0m                                 Traceback (most recent call last)",
      "\u001b[1;32m~\\AppData\\Local\\Temp/ipykernel_16720/1735687963.py\u001b[0m in \u001b[0;36m<module>\u001b[1;34m\u001b[0m\n\u001b[0;32m      8\u001b[0m \u001b[1;33m\u001b[0m\u001b[0m\n\u001b[0;32m      9\u001b[0m     \u001b[1;31m# update the list via index\u001b[0m\u001b[1;33m\u001b[0m\u001b[1;33m\u001b[0m\u001b[1;33m\u001b[0m\u001b[0m\n\u001b[1;32m---> 10\u001b[1;33m     \u001b[0mnums\u001b[0m\u001b[1;33m[\u001b[0m\u001b[0mindex\u001b[0m\u001b[1;33m]\u001b[0m \u001b[1;33m=\u001b[0m \u001b[0mnew_num\u001b[0m\u001b[1;33m\u001b[0m\u001b[1;33m\u001b[0m\u001b[0m\n\u001b[0m\u001b[0;32m     11\u001b[0m \u001b[1;33m\u001b[0m\u001b[0m\n",
      "\u001b[1;31mTypeError\u001b[0m: 'set' object does not support item assignment"
     ]
    }
   ],
   "source": [
    "# we want to change the original list in loop\n",
    "# we need index to update the element -> list\n",
    "\n",
    "for index, num in enumerate(nums):\n",
    "    \n",
    "    # calculate the new num\n",
    "    new_num = num * 10\n",
    "    \n",
    "    # update the list via index\n",
    "    nums[index] = new_num\n",
    "    "
   ]
  },
  {
   "cell_type": "code",
   "execution_count": 13,
   "id": "87e548fd-725d-4406-ad4f-0d4710813f0e",
   "metadata": {},
   "outputs": [
    {
     "data": {
      "text/plain": [
       "{1, 2, 3, 4, 5}"
      ]
     },
     "execution_count": 13,
     "metadata": {},
     "output_type": "execute_result"
    }
   ],
   "source": [
    "nums"
   ]
  },
  {
   "cell_type": "code",
   "execution_count": 17,
   "id": "b75f0601-9aa1-4753-8b0d-f0e70991520b",
   "metadata": {},
   "outputs": [],
   "source": [
    "# cars list \n",
    "# we will update each car as 'Car' -> Audi Car, Ford Car, Mazda Car\n",
    "\n",
    "for index, car in enumerate(cars):\n",
    "    \n",
    "    cars[index] = car + 'Car'\n",
    "    "
   ]
  },
  {
   "cell_type": "code",
   "execution_count": 18,
   "id": "6f38a9db-5a94-4d83-95f4-2e4c4845147b",
   "metadata": {},
   "outputs": [
    {
     "data": {
      "text/plain": [
       "['AudiCar', 'FordCar', 'MazdaCar']"
      ]
     },
     "execution_count": 18,
     "metadata": {},
     "output_type": "execute_result"
    }
   ],
   "source": [
    "cars"
   ]
  },
  {
   "cell_type": "code",
   "execution_count": null,
   "id": "0177658e-0ab9-4933-8869-160c25cb7c51",
   "metadata": {},
   "outputs": [],
   "source": []
  }
 ],
 "metadata": {
  "kernelspec": {
   "display_name": "Python 3 (ipykernel)",
   "language": "python",
   "name": "python3"
  },
  "language_info": {
   "codemirror_mode": {
    "name": "ipython",
    "version": 3
   },
   "file_extension": ".py",
   "mimetype": "text/x-python",
   "name": "python",
   "nbconvert_exporter": "python",
   "pygments_lexer": "ipython3",
   "version": "3.8.12"
  }
 },
 "nbformat": 4,
 "nbformat_minor": 5
}
