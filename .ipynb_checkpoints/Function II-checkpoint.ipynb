{
 "cells": [
  {
   "cell_type": "markdown",
   "id": "76671090-a331-4bb5-a44b-67777f8a496f",
   "metadata": {},
   "source": [
    "# Function II"
   ]
  },
  {
   "cell_type": "markdown",
   "id": "ed8d5d79-c223-400a-8bc5-5ce44d57ddad",
   "metadata": {},
   "source": [
    "## Return Value"
   ]
  },
  {
   "cell_type": "markdown",
   "id": "17afa188-4562-4959-86e0-ef63989eb26c",
   "metadata": {},
   "source": [
    "Most of the time functions return a value after execution.\n",
    "\n",
    "The caller of that function receives this returned value and uses it.\n",
    "\n",
    "There are functions which do not return any value -> **void functions**"
   ]
  },
  {
   "cell_type": "markdown",
   "id": "5940efa3-09ae-4962-be4f-7b8a601b232c",
   "metadata": {},
   "source": [
    "**Important:**"
   ]
  },
  {
   "cell_type": "markdown",
   "id": "2020da45-a9fe-4b34-a1bc-14d87670b0ce",
   "metadata": {},
   "source": [
    "In a function, the code lines below return is not executed\n",
    "\n",
    "Return is the final line in a function."
   ]
  },
  {
   "cell_type": "code",
   "execution_count": 1,
   "id": "81c47373-7d9b-4e46-ad2a-05099ee6301b",
   "metadata": {},
   "outputs": [
    {
     "name": "stdout",
     "output_type": "stream",
     "text": [
      "2.718281828459045\n"
     ]
    }
   ],
   "source": [
    "import math\n",
    "\n",
    "e = math.exp(1.0)\n",
    "\n",
    "print(e)"
   ]
  },
  {
   "cell_type": "markdown",
   "id": "9da01b8d-174a-4e6d-a2b8-4909e92e6c52",
   "metadata": {},
   "source": [
    "**Example:**\n",
    "\n",
    "Define a function to calculate the area of the circle and returns it.\n",
    "\n",
    "Then call this function, get the area and print it."
   ]
  },
  {
   "cell_type": "code",
   "execution_count": 2,
   "id": "18bf02d5-4e53-479a-a2da-a0e379521139",
   "metadata": {},
   "outputs": [],
   "source": [
    "def area_of_circle(radius):\n",
    "    \n",
    "    a = math.pi * radius**2\n",
    "    \n",
    "    return a\n"
   ]
  },
  {
   "cell_type": "code",
   "execution_count": 4,
   "id": "3c768d62-0546-46b9-8201-8e2542bd086b",
   "metadata": {},
   "outputs": [
    {
     "name": "stdout",
     "output_type": "stream",
     "text": [
      "50.26548245743669\n"
     ]
    }
   ],
   "source": [
    "area = area_of_circle(4)\n",
    "\n",
    "print(area)"
   ]
  },
  {
   "cell_type": "markdown",
   "id": "e5014536-0a65-40ca-8d3a-d71ed802d6fc",
   "metadata": {},
   "source": [
    "**Temporary Variable:**\n",
    "\n",
    "In the function above, the variable `a` is called temp variable.\n",
    "\n",
    "It's purpose is to keep the area and pass it to return statement."
   ]
  },
  {
   "cell_type": "markdown",
   "id": "63ef8bca-45ba-4cd5-8df8-6620baee3e40",
   "metadata": {},
   "source": [
    "We don't have use this temp variable."
   ]
  },
  {
   "cell_type": "code",
   "execution_count": 7,
   "id": "64f1b071-5e83-4e90-8c5f-f7491d4b040d",
   "metadata": {},
   "outputs": [],
   "source": [
    "# function without temp variable\n",
    "\n",
    "def area_of_circle_without_temp(radius):\n",
    "    \n",
    "    return math.pi * radius**2\n"
   ]
  },
  {
   "cell_type": "markdown",
   "id": "672776b9-d585-45b1-aed0-6865db90efe9",
   "metadata": {},
   "source": [
    "Mainly, temp variables are used for debugging purposes."
   ]
  },
  {
   "cell_type": "code",
   "execution_count": 8,
   "id": "8048a83f-3a9a-472d-8971-0be1a3e06a94",
   "metadata": {},
   "outputs": [
    {
     "name": "stdout",
     "output_type": "stream",
     "text": [
      "50.26548245743669\n"
     ]
    }
   ],
   "source": [
    "area = area_of_circle_without_temp(4)\n",
    "\n",
    "print(area)"
   ]
  },
  {
   "cell_type": "markdown",
   "id": "ef80babb-37a0-4972-8a2e-66f071edf7eb",
   "metadata": {},
   "source": [
    "In fucntion call -> `area` variable is a temp variable.\n",
    "\n",
    "We don't need to use it."
   ]
  },
  {
   "cell_type": "code",
   "execution_count": 10,
   "id": "fef79fa4-1502-4a9a-aaf5-79fc1f7ed71d",
   "metadata": {},
   "outputs": [
    {
     "name": "stdout",
     "output_type": "stream",
     "text": [
      "50.26548245743669\n"
     ]
    }
   ],
   "source": [
    "# More Functional Approach\n",
    "\n",
    "print(area_of_circle_without_temp(4))"
   ]
  },
  {
   "cell_type": "code",
   "execution_count": null,
   "id": "c7d848ef-d1bb-4327-a6a4-9c987a447d18",
   "metadata": {},
   "outputs": [],
   "source": []
  }
 ],
 "metadata": {
  "kernelspec": {
   "display_name": "Python 3 (ipykernel)",
   "language": "python",
   "name": "python3"
  },
  "language_info": {
   "codemirror_mode": {
    "name": "ipython",
    "version": 3
   },
   "file_extension": ".py",
   "mimetype": "text/x-python",
   "name": "python",
   "nbconvert_exporter": "python",
   "pygments_lexer": "ipython3",
   "version": "3.8.12"
  }
 },
 "nbformat": 4,
 "nbformat_minor": 5
}
