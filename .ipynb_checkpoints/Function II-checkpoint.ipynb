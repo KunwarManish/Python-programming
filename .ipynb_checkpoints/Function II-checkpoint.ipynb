{
 "cells": [
  {
   "cell_type": "markdown",
   "id": "76671090-a331-4bb5-a44b-67777f8a496f",
   "metadata": {},
   "source": [
    "# Function II"
   ]
  },
  {
   "cell_type": "markdown",
   "id": "ed8d5d79-c223-400a-8bc5-5ce44d57ddad",
   "metadata": {},
   "source": [
    "## Return Value"
   ]
  },
  {
   "cell_type": "markdown",
   "id": "17afa188-4562-4959-86e0-ef63989eb26c",
   "metadata": {},
   "source": [
    "Most of the time functions return a value after execution.\n",
    "\n",
    "The caller of that function receives this returned value and uses it.\n",
    "\n",
    "There are functions which do not return any value -> **void functions**"
   ]
  },
  {
   "cell_type": "markdown",
   "id": "5940efa3-09ae-4962-be4f-7b8a601b232c",
   "metadata": {},
   "source": [
    "**Important:**"
   ]
  },
  {
   "cell_type": "markdown",
   "id": "2020da45-a9fe-4b34-a1bc-14d87670b0ce",
   "metadata": {},
   "source": [
    "In a function, the code lines below return is not executed\n",
    "\n",
    "Return is the final line in a function."
   ]
  },
  {
   "cell_type": "code",
   "execution_count": 1,
   "id": "81c47373-7d9b-4e46-ad2a-05099ee6301b",
   "metadata": {},
   "outputs": [
    {
     "name": "stdout",
     "output_type": "stream",
     "text": [
      "2.718281828459045\n"
     ]
    }
   ],
   "source": [
    "import math\n",
    "\n",
    "e = math.exp(1.0)\n",
    "\n",
    "print(e)"
   ]
  },
  {
   "cell_type": "markdown",
   "id": "9da01b8d-174a-4e6d-a2b8-4909e92e6c52",
   "metadata": {},
   "source": [
    "**Example:**\n",
    "\n",
    "Define a function to calculate the area of the circle and returns it.\n",
    "\n",
    "Then call this function, get the area and print it."
   ]
  },
  {
   "cell_type": "code",
   "execution_count": 2,
   "id": "18bf02d5-4e53-479a-a2da-a0e379521139",
   "metadata": {},
   "outputs": [],
   "source": [
    "def area_of_circle(radius):\n",
    "    \n",
    "    a = math.pi * radius**2\n",
    "    \n",
    "    return a\n"
   ]
  },
  {
   "cell_type": "code",
   "execution_count": 4,
   "id": "3c768d62-0546-46b9-8201-8e2542bd086b",
   "metadata": {},
   "outputs": [
    {
     "name": "stdout",
     "output_type": "stream",
     "text": [
      "50.26548245743669\n"
     ]
    }
   ],
   "source": [
    "area = area_of_circle(4)\n",
    "\n",
    "print(area)"
   ]
  },
  {
   "cell_type": "markdown",
   "id": "e5014536-0a65-40ca-8d3a-d71ed802d6fc",
   "metadata": {},
   "source": [
    "**Temporary Variable:**\n",
    "\n",
    "In the function above, the variable `a` is called temp variable.\n",
    "\n",
    "It's purpose is to keep the area and pass it to return statement."
   ]
  },
  {
   "cell_type": "markdown",
   "id": "63ef8bca-45ba-4cd5-8df8-6620baee3e40",
   "metadata": {},
   "source": [
    "We don't have use this temp variable."
   ]
  },
  {
   "cell_type": "code",
   "execution_count": 7,
   "id": "64f1b071-5e83-4e90-8c5f-f7491d4b040d",
   "metadata": {},
   "outputs": [],
   "source": [
    "# function without temp variable\n",
    "\n",
    "def area_of_circle_without_temp(radius):\n",
    "    \n",
    "    return math.pi * radius**2\n"
   ]
  },
  {
   "cell_type": "markdown",
   "id": "672776b9-d585-45b1-aed0-6865db90efe9",
   "metadata": {},
   "source": [
    "Mainly, temp variables are used for debugging purposes."
   ]
  },
  {
   "cell_type": "code",
   "execution_count": 8,
   "id": "8048a83f-3a9a-472d-8971-0be1a3e06a94",
   "metadata": {},
   "outputs": [
    {
     "name": "stdout",
     "output_type": "stream",
     "text": [
      "50.26548245743669\n"
     ]
    }
   ],
   "source": [
    "area = area_of_circle_without_temp(4)\n",
    "\n",
    "print(area)"
   ]
  },
  {
   "cell_type": "markdown",
   "id": "ef80babb-37a0-4972-8a2e-66f071edf7eb",
   "metadata": {},
   "source": [
    "In fucntion call -> `area` variable is a temp variable.\n",
    "\n",
    "We don't need to use it."
   ]
  },
  {
   "cell_type": "code",
   "execution_count": 10,
   "id": "fef79fa4-1502-4a9a-aaf5-79fc1f7ed71d",
   "metadata": {},
   "outputs": [
    {
     "name": "stdout",
     "output_type": "stream",
     "text": [
      "50.26548245743669\n"
     ]
    }
   ],
   "source": [
    "# More Functional Approach\n",
    "\n",
    "print(area_of_circle_without_temp(4))"
   ]
  },
  {
   "cell_type": "markdown",
   "id": "f291da85-aabc-456b-93fa-2b0ff95792e2",
   "metadata": {},
   "source": [
    "## Incremental Development \n",
    "\n",
    "We can not consider and code everything at once, while developing programs.\n",
    "\n",
    "That's why we have to concentrate on **Incremental Development.** \n",
    "\n",
    "Incremental Development is essential for Debugging.\n",
    "\n",
    "If you can not debug every step of your code, and make sure that it works correctly, you can not be sure about its quality.\n",
    "\n",
    "**Example:** \n",
    "\n",
    "Let's say we are trying to calculate the distance between to points.\n",
    "\n",
    "In Math it is very easy to calculate via Pythagoras' Theorem \n",
    "\n",
    "**distance** = $\\sqrt{(x_{2} - x_{1})^2 + (x_{2} - x_{1})^2}$\n",
    "\n",
    "But this single line of equation is not that easy to do this calculation.\n",
    "\n",
    "Let's see it in a function:\n"
   ]
  },
  {
   "cell_type": "code",
   "execution_count": 1,
   "id": "827dd168-c695-4a59-9824-cb81f3168e8a",
   "metadata": {},
   "outputs": [],
   "source": [
    "\n",
    "def distance(x1, y1, x2, y2):\n",
    "    \n",
    "    # first diff of x's\n",
    "    dx = x2 - x1\n",
    "    \n",
    "    # diff of y's\n",
    "    dy = y2 - y1\n",
    "    \n",
    "    # <--------DEBUG ---------> #\n",
    "    \n",
    "    print(\"dx:\", dx)\n",
    "    print(\"dy:\", dy)\n",
    "    "
   ]
  },
  {
   "cell_type": "code",
   "execution_count": 2,
   "id": "bc5a89b3-b40b-4612-8009-d461afcd6d20",
   "metadata": {},
   "outputs": [
    {
     "name": "stdout",
     "output_type": "stream",
     "text": [
      "dx: 3\n",
      "dy: 4\n"
     ]
    }
   ],
   "source": [
    "distance(1, 6, 4, 10)"
   ]
  },
  {
   "cell_type": "markdown",
   "id": "9231db40-1499-4ca3-8e89-26870e30724c",
   "metadata": {},
   "source": [
    "Move on developing"
   ]
  },
  {
   "cell_type": "code",
   "execution_count": 5,
   "id": "e05da8c4-61bf-4058-9d6a-f6a24c975c7a",
   "metadata": {},
   "outputs": [],
   "source": [
    "\n",
    "def distance(x1, y1, x2, y2):\n",
    "    \n",
    "    # first diff of x's\n",
    "    dx = x2 - x1\n",
    "    \n",
    "    # diff of y's\n",
    "    dy = y2 - y1\n",
    "    \n",
    "    # <--------DEBUG ---------> #\n",
    "    \n",
    "    # print(\"dx:\", dx)\n",
    "    # print(\"dy:\", dy)\n",
    "    \n",
    "    # calculate sum of squares\n",
    "    sum_of_squares = dx**2 + dy**2\n",
    "    \n",
    "    print(\"sum_of_squares:\", sum_of_squares)\n",
    "    "
   ]
  },
  {
   "cell_type": "code",
   "execution_count": 6,
   "id": "42e521f2-fb5e-44df-b6bd-ec4bcfeb53a2",
   "metadata": {},
   "outputs": [
    {
     "name": "stdout",
     "output_type": "stream",
     "text": [
      "sum_of_squares: 25\n"
     ]
    }
   ],
   "source": [
    "distance(1, 6, 4, 10)"
   ]
  },
  {
   "cell_type": "code",
   "execution_count": 7,
   "id": "daf9f08a-885d-44ba-98e1-1c59489c1fc8",
   "metadata": {},
   "outputs": [
    {
     "name": "stdout",
     "output_type": "stream",
     "text": [
      "sum_of_squares: 289\n"
     ]
    }
   ],
   "source": [
    "distance(2, 6, 10, 21)"
   ]
  },
  {
   "cell_type": "markdown",
   "id": "848d57d4-05df-4881-9e9b-9d72470bb8de",
   "metadata": {},
   "source": [
    "**TDD (Test Driven Development)**\n",
    "\n",
    "We test every function and every step."
   ]
  },
  {
   "cell_type": "code",
   "execution_count": 8,
   "id": "6d246b34-f4e3-434b-bef0-77e3866253a4",
   "metadata": {},
   "outputs": [],
   "source": [
    "import math\n",
    "\n",
    "def distance(x1, y1, x2, y2):\n",
    "    \n",
    "    # first diff of x's\n",
    "    dx = x2 - x1\n",
    "    \n",
    "    # diff of y's\n",
    "    dy = y2 - y1\n",
    "    \n",
    "    # <--------DEBUG ---------> #\n",
    "    # print(\"dx:\", dx)\n",
    "    # print(\"dy:\", dy)\n",
    "    \n",
    "    # calculate sum of squares\n",
    "    sum_of_squares = dx**2 + dy**2\n",
    "    \n",
    "    # <--------DEBUG ---------> #\n",
    "    # print(\"sum_of_squares:\", sum_of_squares)\n",
    "    \n",
    "    return math.sqrt(sum_of_squares)\n",
    "    "
   ]
  },
  {
   "cell_type": "code",
   "execution_count": 9,
   "id": "6c54ac37-a211-4a3c-9795-72a358599951",
   "metadata": {},
   "outputs": [
    {
     "data": {
      "text/plain": [
       "5.0"
      ]
     },
     "execution_count": 9,
     "metadata": {},
     "output_type": "execute_result"
    }
   ],
   "source": [
    "distance(1, 6, 4, 10)"
   ]
  },
  {
   "cell_type": "code",
   "execution_count": 10,
   "id": "6bb8b451-75c4-43d1-a79d-74f5492c51d6",
   "metadata": {},
   "outputs": [
    {
     "data": {
      "text/plain": [
       "17.0"
      ]
     },
     "execution_count": 10,
     "metadata": {},
     "output_type": "execute_result"
    }
   ],
   "source": [
    "distance(2, 6, 10, 21)"
   ]
  },
  {
   "cell_type": "markdown",
   "id": "a5fa25ea-1783-47da-a091-ea9a3ed0dd04",
   "metadata": {},
   "source": [
    "# More Compositions"
   ]
  },
  {
   "cell_type": "markdown",
   "id": "1bfb40ef-544e-471c-aa31-f1f45d15c6af",
   "metadata": {},
   "source": [
    "**Functional Programming**"
   ]
  },
  {
   "cell_type": "markdown",
   "id": "56e220cd-25ee-4764-91a0-93ba05e26191",
   "metadata": {},
   "source": [
    "In its core, FP is dividing tasks into pieces and define seperate functions for these tasks.\n",
    "\n",
    "Each function is responsible from its own task."
   ]
  },
  {
   "cell_type": "markdown",
   "id": "96be2eac-f5ff-4f1b-973d-aaa37e325dc7",
   "metadata": {},
   "source": [
    "**Example:**"
   ]
  },
  {
   "cell_type": "markdown",
   "id": "3f4fac53-15af-412a-85a2-c57033b9fd8f",
   "metadata": {},
   "source": [
    "Let's say we have two points.\n",
    "\n",
    "And let's assume the line segment combining these two pieces as the radius.\n",
    "\n",
    "And let's try to calculate the area of the circle having this radius.\n",
    "\n",
    "Instead of doing all the steps in one giant function,\n",
    "\n",
    "We will create seperate functions for each task and call them when needed."
   ]
  },
  {
   "cell_type": "code",
   "execution_count": null,
   "id": "c31de9c9-fce0-4707-9574-e2c64bd920b0",
   "metadata": {},
   "outputs": [],
   "source": [
    "\n",
    "def area_of_circle_combining_two_points(x1, y1, x2, y2):\n",
    "    \"\"\"\n",
    "    Calculates the area f circle with radius from point one to point two.\n",
    "    Parameters: int x1, y1 first point, int x2, y2 second point\n",
    "    Returns: The area of circle\n",
    "    \"\"\"\n",
    "    \n",
    "    # calculate the radius from points\n",
    "    # distance between point 1 and point 2\n",
    "    r = distance(x1, y1, x2, y2)\n",
    "    \n",
    "    # calculate area\n",
    "    \n",
    "    \n",
    "    \n",
    "    # return the result"
   ]
  }
 ],
 "metadata": {
  "kernelspec": {
   "display_name": "Python 3 (ipykernel)",
   "language": "python",
   "name": "python3"
  },
  "language_info": {
   "codemirror_mode": {
    "name": "ipython",
    "version": 3
   },
   "file_extension": ".py",
   "mimetype": "text/x-python",
   "name": "python",
   "nbconvert_exporter": "python",
   "pygments_lexer": "ipython3",
   "version": "3.8.12"
  }
 },
 "nbformat": 4,
 "nbformat_minor": 5
}
