{
 "cells": [
  {
   "cell_type": "markdown",
   "id": "elect-future",
   "metadata": {},
   "source": [
    "## [10 Questions] QUIZ - Comprehension"
   ]
  },
  {
   "cell_type": "markdown",
   "id": "applied-satellite",
   "metadata": {},
   "source": [
    "**Q 1:**\n",
    "\n",
    "Define two functions named **get_squares** and **get_squares_comp**.\n",
    "\n",
    "They will give the list of squares of numbers from 1 to 10 (exc.).\n",
    "\n",
    "The first function will use for loops and the second one will use Comprehension.\n",
    "\n",
    "<pre style=\"background: gold\">\n",
    "[1, 4, 9, 16, 25, 36, 49, 64, 81]\n",
    "</pre>"
   ]
  },
  {
   "cell_type": "code",
   "execution_count": 1,
   "id": "pursuant-software",
   "metadata": {},
   "outputs": [],
   "source": [
    "# S 1:\n",
    "\n",
    "# for\n",
    "\n",
    "def get_squares():\n",
    "    \n",
    "    squares = []\n",
    "    \n",
    "    for i in range(1, 10):\n",
    "        squares.append(i**2)\n",
    "        \n",
    "    return squares\n"
   ]
  },
  {
   "cell_type": "code",
   "execution_count": 2,
   "id": "peripheral-yugoslavia",
   "metadata": {},
   "outputs": [
    {
     "data": {
      "text/plain": [
       "[1, 4, 9, 16, 25, 36, 49, 64, 81]"
      ]
     },
     "execution_count": 2,
     "metadata": {},
     "output_type": "execute_result"
    }
   ],
   "source": [
    "squares = get_squares()\n",
    "squares"
   ]
  },
  {
   "cell_type": "code",
   "execution_count": 3,
   "id": "twelve-retail",
   "metadata": {},
   "outputs": [],
   "source": [
    "# comprehension\n",
    "\n",
    "def get_squares_comp():\n",
    "    \n",
    "    squares = [x**2 for x in range(1, 10)]\n",
    "    \n",
    "    return squares\n"
   ]
  },
  {
   "cell_type": "code",
   "execution_count": 4,
   "id": "characteristic-milan",
   "metadata": {},
   "outputs": [
    {
     "data": {
      "text/plain": [
       "[1, 4, 9, 16, 25, 36, 49, 64, 81]"
      ]
     },
     "execution_count": 4,
     "metadata": {},
     "output_type": "execute_result"
    }
   ],
   "source": [
    "sqrs = get_squares_comp()\n",
    "sqrs"
   ]
  },
  {
   "cell_type": "markdown",
   "id": "printable-impact",
   "metadata": {},
   "source": [
    "---"
   ]
  },
  {
   "cell_type": "markdown",
   "id": "flexible-praise",
   "metadata": {},
   "source": [
    "**Q 2:**\n",
    "\n",
    "Define two functions named **get_sentences** and **get_centences_comp**.\n",
    "\n",
    "They will take a paragraph as parameter.\n",
    "\n",
    "And they will return the sentences as list.\n",
    "\n",
    "The first function will use for loops and second one will use Comprehension.\n",
    "\n",
    "<pre style=\"background: gold\">\n",
    "paragraph = [\"Lorem ipsum dolor sit amet, consectetur adipiscing elit.\",\n",
    "             \"Ut enim ad minim veniam, quis nostrud exercitation ullamco.\",\n",
    "             \"Duis aute irure dolor in reprehenderit in voluptate velit esse.\",\n",
    "             \"Excepteur sint occaecat cupidatat non proident.\"]\n",
    "</pre>"
   ]
  },
  {
   "cell_type": "code",
   "execution_count": 7,
   "id": "august-genius",
   "metadata": {},
   "outputs": [],
   "source": [
    "# S 2:\n",
    "\n",
    "# for \n",
    "\n",
    "\n"
   ]
  },
  {
   "cell_type": "code",
   "execution_count": 8,
   "id": "fitted-kingston",
   "metadata": {},
   "outputs": [],
   "source": [
    "paragraph = [\"Lorem ipsum dolor sit amet, consectetur adipiscing elit.\",\n",
    "             \"Ut enim ad minim veniam, quis nostrud exercitation ullamco.\",\n",
    "             \"Duis aute irure dolor in reprehenderit in voluptate velit esse.\",\n",
    "             \"Excepteur sint occaecat cupidatat non proident.\"]"
   ]
  },
  {
   "cell_type": "code",
   "execution_count": 9,
   "id": "pursuant-reality",
   "metadata": {},
   "outputs": [
    {
     "data": {
      "text/plain": [
       "['Lorem ipsum dolor sit amet, consectetur adipiscing elit.',\n",
       " 'Ut enim ad minim veniam, quis nostrud exercitation ullamco.',\n",
       " 'Duis aute irure dolor in reprehenderit in voluptate velit esse.',\n",
       " 'Excepteur sint occaecat cupidatat non proident.']"
      ]
     },
     "execution_count": 9,
     "metadata": {},
     "output_type": "execute_result"
    }
   ],
   "source": [
    "sentences = get_sentences(paragraph)\n",
    "sentences"
   ]
  },
  {
   "cell_type": "code",
   "execution_count": 10,
   "id": "selective-composition",
   "metadata": {},
   "outputs": [],
   "source": [
    "# comprehension\n",
    "\n",
    "\n"
   ]
  },
  {
   "cell_type": "code",
   "execution_count": 11,
   "id": "agreed-bronze",
   "metadata": {},
   "outputs": [
    {
     "data": {
      "text/plain": [
       "['Lorem ipsum dolor sit amet, consectetur adipiscing elit.',\n",
       " 'Ut enim ad minim veniam, quis nostrud exercitation ullamco.',\n",
       " 'Duis aute irure dolor in reprehenderit in voluptate velit esse.',\n",
       " 'Excepteur sint occaecat cupidatat non proident.']"
      ]
     },
     "execution_count": 11,
     "metadata": {},
     "output_type": "execute_result"
    }
   ],
   "source": [
    "sentences = get_sentences_comp(paragraph)\n",
    "sentences"
   ]
  },
  {
   "cell_type": "markdown",
   "id": "warming-beverage",
   "metadata": {},
   "source": [
    "---"
   ]
  },
  {
   "cell_type": "markdown",
   "id": "coordinated-train",
   "metadata": {},
   "source": [
    "**Q 3:**\n",
    "\n",
    "Use the functions in Q2 and this time define two functions named **get_words** and **get_words_comp**.\n",
    "\n",
    "These functions will return the words in the paragraph.\n",
    "\n",
    "The first one will use for loop and the second one will use Comprehension.\n",
    "\n",
    "<pre style=\"background: gold\">\n",
    "paragraph = [\"Lorem ipsum dolor sit amet, consectetur adipiscing elit.\",\n",
    "             \"Ut enim ad minim veniam, quis nostrud exercitation ullamco.\",\n",
    "             \"Duis aute irure dolor in reprehenderit in voluptate velit esse.\",\n",
    "             \"Excepteur sint occaecat cupidatat non proident.\"]\n",
    "             \n",
    "Expected Output:\n",
    "['Lorem', 'ipsum', 'dolor', 'sit', 'amet,', 'consectetur', 'adipiscing', 'elit.', 'Ut', 'enim', 'ad', 'minim', 'veniam,', 'quis', 'nostrud', 'exercitation', 'ullamco.', 'Duis', 'aute', 'irure', 'dolor', 'in', 'reprehenderit', 'in', 'voluptate', 'velit', 'esse.', 'Excepteur', 'sint', 'occaecat', 'cupidatat', 'non', 'proident.']\n",
    "</pre>"
   ]
  },
  {
   "cell_type": "code",
   "execution_count": 12,
   "id": "impossible-utilization",
   "metadata": {},
   "outputs": [],
   "source": [
    "# S 3:\n",
    "\n",
    "# for \n",
    "\n",
    "\n"
   ]
  },
  {
   "cell_type": "code",
   "execution_count": 14,
   "id": "hidden-tsunami",
   "metadata": {},
   "outputs": [
    {
     "name": "stdout",
     "output_type": "stream",
     "text": [
      "['Lorem', 'ipsum', 'dolor', 'sit', 'amet,', 'consectetur', 'adipiscing', 'elit.', 'Ut', 'enim', 'ad', 'minim', 'veniam,', 'quis', 'nostrud', 'exercitation', 'ullamco.', 'Duis', 'aute', 'irure', 'dolor', 'in', 'reprehenderit', 'in', 'voluptate', 'velit', 'esse.', 'Excepteur', 'sint', 'occaecat', 'cupidatat', 'non', 'proident.']\n"
     ]
    }
   ],
   "source": [
    "words = get_words(paragraph)\n",
    "print(words)"
   ]
  },
  {
   "cell_type": "code",
   "execution_count": 15,
   "id": "internal-bikini",
   "metadata": {},
   "outputs": [],
   "source": [
    "# comprehension\n",
    "\n",
    "\n"
   ]
  },
  {
   "cell_type": "code",
   "execution_count": 16,
   "id": "usual-barrel",
   "metadata": {},
   "outputs": [
    {
     "name": "stdout",
     "output_type": "stream",
     "text": [
      "['Lorem', 'ipsum', 'dolor', 'sit', 'amet,', 'consectetur', 'adipiscing', 'elit.', 'Ut', 'enim', 'ad', 'minim', 'veniam,', 'quis', 'nostrud', 'exercitation', 'ullamco.', 'Duis', 'aute', 'irure', 'dolor', 'in', 'reprehenderit', 'in', 'voluptate', 'velit', 'esse.', 'Excepteur', 'sint', 'occaecat', 'cupidatat', 'non', 'proident.']\n"
     ]
    }
   ],
   "source": [
    "words = get_words_comp(paragraph)\n",
    "print(words)"
   ]
  },
  {
   "cell_type": "markdown",
   "id": "orange-situation",
   "metadata": {},
   "source": [
    "---"
   ]
  },
  {
   "cell_type": "markdown",
   "id": "scenic-prayer",
   "metadata": {},
   "source": [
    "**Q 4:**\n",
    "\n",
    "Use the functions in Q2 and this time define two functions named **get_words_starting_with_vowels** and **get_words_starting_with_vowels_comp**.\n",
    "\n",
    "These functions will return the words in the paragraph.\n",
    "\n",
    "The first one will use for loop and the second one will use Comprehension.\n",
    "\n",
    "<pre style=\"background: gold\">\n",
    "paragraph = [\"Lorem ipsum dolor sit amet, consectetur adipiscing elit.\",\n",
    "             \"Ut enim ad minim veniam, quis nostrud exercitation ullamco.\",\n",
    "             \"Duis aute irure dolor in reprehenderit in voluptate velit esse.\",\n",
    "             \"Excepteur sint occaecat cupidatat non proident.\"]\n",
    "             \n",
    "Expected Output:\n",
    "['ipsum', 'amet,', 'adipiscing', 'elit.', 'Ut', 'enim', 'ad', 'exercitation', 'ullamco.', 'aute', 'irure', 'in', 'in', 'esse.', 'Excepteur', 'occaecat']\n",
    "</pre>"
   ]
  },
  {
   "cell_type": "code",
   "execution_count": 17,
   "id": "romantic-processing",
   "metadata": {},
   "outputs": [],
   "source": [
    "# S 4:\n",
    "\n",
    "# for \n",
    "\n",
    "\n"
   ]
  },
  {
   "cell_type": "code",
   "execution_count": 18,
   "id": "individual-maker",
   "metadata": {},
   "outputs": [
    {
     "name": "stdout",
     "output_type": "stream",
     "text": [
      "['ipsum', 'amet,', 'adipiscing', 'elit.', 'Ut', 'enim', 'ad', 'exercitation', 'ullamco.', 'aute', 'irure', 'in', 'in', 'esse.', 'Excepteur', 'occaecat']\n"
     ]
    }
   ],
   "source": [
    "vowel_words = get_words_starting_with_vowels(paragraph)\n",
    "print(vowel_words)"
   ]
  },
  {
   "cell_type": "code",
   "execution_count": 19,
   "id": "organic-suite",
   "metadata": {},
   "outputs": [],
   "source": [
    "# comprehension \n",
    "\n",
    "\n"
   ]
  },
  {
   "cell_type": "code",
   "execution_count": 20,
   "id": "swiss-prince",
   "metadata": {},
   "outputs": [
    {
     "name": "stdout",
     "output_type": "stream",
     "text": [
      "['ipsum', 'amet,', 'adipiscing', 'elit.', 'Ut', 'enim', 'ad', 'exercitation', 'ullamco.', 'aute', 'irure', 'in', 'in', 'esse.', 'Excepteur', 'occaecat']\n"
     ]
    }
   ],
   "source": [
    "vowels = get_words_starting_with_vowels_comp(paragraph)\n",
    "print(vowels)"
   ]
  },
  {
   "cell_type": "markdown",
   "id": "victorian-belize",
   "metadata": {},
   "source": [
    "---"
   ]
  },
  {
   "cell_type": "markdown",
   "id": "honey-syndication",
   "metadata": {},
   "source": [
    "**Q 5:**\n",
    "\n",
    "Define a function named **dict_of_squares**.\n",
    "\n",
    "It will return a dictionary fo squares of numbers from 0 to 20 (inc).\n",
    "\n",
    "Key will be the number itself and the value will be the square of this number.\n",
    "\n",
    "**{number: square}**.\n",
    "\n",
    "**Hints:**\n",
    "* no loops\n",
    "* use comprehension only\n",
    "\n",
    "<pre style=\"background: gold\">\n",
    "{0: 0, 1: 1, 2: 4, 3: 9, 4: 16, 5: 25, 6: 36, 7: 49, 8: 64, 9: 81, 10: 100, 11: 121, 12: 144, 13: 169, 14: 196, 15: 225, 16: 256, 17: 289, 18: 324, 19: 361, 20: 400}\n",
    "</pre>"
   ]
  },
  {
   "cell_type": "code",
   "execution_count": 21,
   "id": "inside-aggregate",
   "metadata": {},
   "outputs": [],
   "source": [
    "# S 5:\n",
    "\n",
    "\n"
   ]
  },
  {
   "cell_type": "code",
   "execution_count": 22,
   "id": "novel-lesson",
   "metadata": {},
   "outputs": [
    {
     "name": "stdout",
     "output_type": "stream",
     "text": [
      "{0: 0, 1: 1, 2: 4, 3: 9, 4: 16, 5: 25, 6: 36, 7: 49, 8: 64, 9: 81, 10: 100, 11: 121, 12: 144, 13: 169, 14: 196, 15: 225, 16: 256, 17: 289, 18: 324, 19: 361, 20: 400}\n"
     ]
    }
   ],
   "source": [
    "sqr_dict = dict_of_squares()\n",
    "print(sqr_dict)"
   ]
  },
  {
   "cell_type": "markdown",
   "id": "alternate-canon",
   "metadata": {},
   "source": [
    "---"
   ]
  },
  {
   "cell_type": "markdown",
   "id": "statistical-charlotte",
   "metadata": {},
   "source": [
    "**Q 6:**\n",
    "\n",
    "Define two functions named **numbers_and_names** and **numbers_and_names_comp**.\n",
    "\n",
    "They will take a dictionary as parameter.\n",
    "\n",
    "The dictionary is:\n",
    "<pre>\n",
    "{1: ['Spiderman', 24],\n",
    " 2: ['Wonder Woman', 100],\n",
    " 3: ['Batman', 45],\n",
    " 4: ['Superman', 70]}\n",
    "</pre>\n",
    "\n",
    "They will return a new dictionary containing only the numbers as the key and the name as value.\n",
    "\n",
    "<pre style=\"background: gold\">\n",
    "Expected Output:\n",
    "{1: 'Spiderman', 2: 'Wonder Woman', 3: 'Batman', 4: 'Superman'}\n",
    "</pre>"
   ]
  },
  {
   "cell_type": "code",
   "execution_count": 24,
   "id": "spoken-arctic",
   "metadata": {},
   "outputs": [],
   "source": [
    "# S 6:\n",
    "\n",
    "# for\n",
    "\n",
    "    "
   ]
  },
  {
   "cell_type": "code",
   "execution_count": 26,
   "id": "elegant-member",
   "metadata": {},
   "outputs": [
    {
     "data": {
      "text/plain": [
       "{1: 'Spiderman', 2: 'Wonder Woman', 3: 'Batman', 4: 'Superman'}"
      ]
     },
     "execution_count": 26,
     "metadata": {},
     "output_type": "execute_result"
    }
   ],
   "source": [
    "heroes = {1: ['Spiderman', 24],\n",
    "          2: ['Wonder Woman', 100],\n",
    "          3: ['Batman', 45],\n",
    "          4: ['Superman', 70]}\n",
    "\n",
    "names_dict = numbers_and_names(heroes)\n",
    "names_dict"
   ]
  },
  {
   "cell_type": "code",
   "execution_count": 27,
   "id": "medical-airplane",
   "metadata": {},
   "outputs": [],
   "source": [
    "# comprehension \n",
    "\n",
    "\n"
   ]
  },
  {
   "cell_type": "code",
   "execution_count": 28,
   "id": "proud-kidney",
   "metadata": {},
   "outputs": [
    {
     "data": {
      "text/plain": [
       "{1: 'Spiderman', 2: 'Wonder Woman', 3: 'Batman', 4: 'Superman'}"
      ]
     },
     "execution_count": 28,
     "metadata": {},
     "output_type": "execute_result"
    }
   ],
   "source": [
    "heroes = {1: ['Spiderman', 24],\n",
    "          2: ['Wonder Woman', 100],\n",
    "          3: ['Batman', 45],\n",
    "          4: ['Superman', 70]}\n",
    "\n",
    "names_dict = numbers_and_names_comp(heroes)\n",
    "names_dict"
   ]
  },
  {
   "cell_type": "markdown",
   "id": "proved-internship",
   "metadata": {},
   "source": [
    "---"
   ]
  },
  {
   "cell_type": "markdown",
   "id": "fifteen-regard",
   "metadata": {},
   "source": [
    "**Q 7:**\n",
    "\n",
    "Define a function named **odd_numbered_names**.\n",
    "\n",
    "It will take a dictionary as parameter.\n",
    "\n",
    "The dictionary is:\n",
    "<pre>\n",
    "{1: ['Spiderman', 24],\n",
    " 2: ['Wonder Woman', 100],\n",
    " 3: ['Batman', 45],\n",
    " 4: ['Superman', 70]}\n",
    "</pre>\n",
    "\n",
    "It will return a new dictionary containing only the **odd numbers** as the key and the name as value.\n",
    "\n",
    "**Hints:**\n",
    "* no loops\n",
    "* only with comprehension\n",
    "\n",
    "<pre style=\"background: gold\">\n",
    "Expected Output:\n",
    "{1: 'Spiderman', 3: 'Batman'}\n",
    "</pre>"
   ]
  },
  {
   "cell_type": "code",
   "execution_count": 29,
   "id": "processed-traffic",
   "metadata": {},
   "outputs": [],
   "source": [
    "# S 7:\n",
    "\n",
    "\n",
    "\n"
   ]
  },
  {
   "cell_type": "code",
   "execution_count": 30,
   "id": "helpful-floating",
   "metadata": {},
   "outputs": [
    {
     "data": {
      "text/plain": [
       "{1: 'Spiderman', 3: 'Batman'}"
      ]
     },
     "execution_count": 30,
     "metadata": {},
     "output_type": "execute_result"
    }
   ],
   "source": [
    "heroes = {1: ['Spiderman', 24],\n",
    "          2: ['Wonder Woman', 100],\n",
    "          3: ['Batman', 45],\n",
    "          4: ['Superman', 70]}\n",
    "\n",
    "names_dict = odd_numbered_names(heroes)\n",
    "names_dict"
   ]
  },
  {
   "cell_type": "markdown",
   "id": "fluid-farmer",
   "metadata": {},
   "source": [
    "---"
   ]
  },
  {
   "cell_type": "markdown",
   "id": "exposed-function",
   "metadata": {},
   "source": [
    "**Q 8:**\n",
    "\n",
    "Define a function named **word_lengths**.\n",
    "\n",
    "It will take a text as parameter.\n",
    "\n",
    "The function will return two lists.\n",
    "\n",
    "The first list is going to be the words in the text.\n",
    "\n",
    "And the second list will contain the lengths of these words.\n",
    "\n",
    "If the word is one ('the', 'in', 'as', 'at') it will ignore the word.\n",
    "\n",
    "**Hints:**\n",
    "* how a function returns multiple values -> Tuple\n",
    "* no loops\n",
    "* comprehensions only\n",
    "\n",
    "<pre style=\"background: gold\">\n",
    "Parameter:\n",
    "\"It takes all the running you can do, to keep in the same place. If you want to get somewhere else, you must run at least twice as fast as that!\"\n",
    "\n",
    "Expected Output:\n",
    "['It', 'takes', 'all', 'running', 'you', 'can', 'do,', 'to', 'keep', 'same', 'place.', 'If', 'you', 'want', 'to', 'get', 'somewhere', 'else,', 'you', 'must', 'run', 'least', 'twice', 'fast', 'that!']\n",
    "[2, 5, 3, 7, 3, 3, 3, 2, 4, 4, 6, 2, 3, 4, 2, 3, 9, 5, 3, 4, 3, 5, 5, 4, 5]\n",
    "</pre>"
   ]
  },
  {
   "cell_type": "code",
   "execution_count": 31,
   "id": "requested-making",
   "metadata": {},
   "outputs": [],
   "source": [
    "# S 8:\n",
    "\n",
    "\n"
   ]
  },
  {
   "cell_type": "code",
   "execution_count": 32,
   "id": "growing-award",
   "metadata": {},
   "outputs": [
    {
     "name": "stdout",
     "output_type": "stream",
     "text": [
      "It takes all the running you can do, to keep in the same place. \n",
      "If you want to get somewhere else, you must run at least twice as fast as that!\n"
     ]
    }
   ],
   "source": [
    "# Alice's Adventures in Wonderland\n",
    "\n",
    "alice_in_wonderland = \"\"\"It takes all the running you can do, to keep in the same place. \n",
    "If you want to get somewhere else, you must run at least twice as fast as that!\"\"\"\n",
    "\n",
    "print(alice_in_wonderland)"
   ]
  },
  {
   "cell_type": "code",
   "execution_count": 33,
   "id": "decent-worry",
   "metadata": {},
   "outputs": [],
   "source": [
    "# call the function and unpack the returning Tuple\n",
    "\n",
    "words, lengths = word_lengths(alice_in_wonderland)"
   ]
  },
  {
   "cell_type": "code",
   "execution_count": 34,
   "id": "synthetic-trailer",
   "metadata": {},
   "outputs": [
    {
     "name": "stdout",
     "output_type": "stream",
     "text": [
      "['It', 'takes', 'all', 'running', 'you', 'can', 'do,', 'to', 'keep', 'same', 'place.', 'If', 'you', 'want', 'to', 'get', 'somewhere', 'else,', 'you', 'must', 'run', 'least', 'twice', 'fast', 'that!']\n",
      "[2, 5, 3, 7, 3, 3, 3, 2, 4, 4, 6, 2, 3, 4, 2, 3, 9, 5, 3, 4, 3, 5, 5, 4, 5]\n"
     ]
    }
   ],
   "source": [
    "# now print them\n",
    "\n",
    "print(words)\n",
    "print(lengths)"
   ]
  },
  {
   "cell_type": "markdown",
   "id": "organic-hollywood",
   "metadata": {},
   "source": [
    "---"
   ]
  },
  {
   "cell_type": "markdown",
   "id": "retired-reaction",
   "metadata": {},
   "source": [
    "**Q 9:**\n",
    "\n",
    "Define a function named **only_positives**.\n",
    "\n",
    "It will take a list of numbers (integers and floats) as parameter.\n",
    "\n",
    "It will take only the positive numbers and cast them into integers and return the final list.\n",
    "\n",
    "**Hints:**\n",
    "* no loops\n",
    "* use comprehension\n",
    "\n",
    "<pre style=\"background: gold\">\n",
    "Parameter:\n",
    "[12.8, -27.2, -34.5, 58.4, -82.0, 66.6, 14.9]\n",
    "\n",
    "Expected Output:\n",
    "[12, 58, 66, 14]\n",
    "</pre>"
   ]
  },
  {
   "cell_type": "code",
   "execution_count": 35,
   "id": "coordinate-lending",
   "metadata": {},
   "outputs": [],
   "source": [
    "# S 9:\n",
    "\n",
    "\n",
    "    "
   ]
  },
  {
   "cell_type": "code",
   "execution_count": 36,
   "id": "signed-convention",
   "metadata": {},
   "outputs": [
    {
     "name": "stdout",
     "output_type": "stream",
     "text": [
      "[12, 58, 66, 14]\n"
     ]
    }
   ],
   "source": [
    "numbers = [12.8, -27.2, -34.5, 58.4, -82.0, 66.6, 14.9]\n",
    "\n",
    "positives = only_positives(numbers)\n",
    "\n",
    "print(positives)"
   ]
  },
  {
   "cell_type": "markdown",
   "id": "substantial-circle",
   "metadata": {},
   "source": [
    "---"
   ]
  },
  {
   "cell_type": "markdown",
   "id": "advisory-hundred",
   "metadata": {},
   "source": [
    "**Q 10:**\n",
    "\n",
    "Define a function named **flatten**.\n",
    "\n",
    "It will take a list as parameter.\n",
    "\n",
    "This list will be containing lists as elements.\n",
    "\n",
    "Namely it is a nested list.\n",
    "\n",
    "The function will flatten the list and return a final list which contains only the individual elements. (not nested anymore)\n",
    "\n",
    "**Hints:**\n",
    "* no loops\n",
    "* comprehension only\n",
    "\n",
    "<pre style=\"background: gold\">\n",
    "Parameter:\n",
    "list_of_lists = [[8,6], [3,1,4], [2,0,9], [5]]\n",
    "          \n",
    "Expected Output:\n",
    "[8, 6, 3, 1, 4, 2, 0, 9, 5]\n",
    "</pre>"
   ]
  },
  {
   "cell_type": "code",
   "execution_count": 37,
   "id": "colonial-audio",
   "metadata": {},
   "outputs": [],
   "source": [
    "# S 10:\n",
    "\n",
    "\n",
    "\n"
   ]
  },
  {
   "cell_type": "code",
   "execution_count": 38,
   "id": "computational-detail",
   "metadata": {},
   "outputs": [
    {
     "data": {
      "text/plain": [
       "[8, 6, 3, 1, 4, 2, 0, 9, 5]"
      ]
     },
     "execution_count": 38,
     "metadata": {},
     "output_type": "execute_result"
    }
   ],
   "source": [
    "list_of_lists = [[8,6], [3,1,4], [2,0,9], [5]]\n",
    "\n",
    "flattened = flatten(list_of_lists)\n",
    "\n",
    "flattened"
   ]
  }
 ],
 "metadata": {
  "kernelspec": {
   "display_name": "Python 3 (ipykernel)",
   "language": "python",
   "name": "python3"
  },
  "language_info": {
   "codemirror_mode": {
    "name": "ipython",
    "version": 3
   },
   "file_extension": ".py",
   "mimetype": "text/x-python",
   "name": "python",
   "nbconvert_exporter": "python",
   "pygments_lexer": "ipython3",
   "version": "3.8.12"
  }
 },
 "nbformat": 4,
 "nbformat_minor": 5
}
