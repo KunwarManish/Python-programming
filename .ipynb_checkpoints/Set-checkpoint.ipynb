{
 "cells": [
  {
   "cell_type": "markdown",
   "id": "b7cde7c1-b983-4a59-b6ef-deea96fa42c7",
   "metadata": {},
   "source": [
    "# Set Creation"
   ]
  },
  {
   "cell_type": "markdown",
   "id": "0b50d58f-bf13-41d4-8a7a-70c430ec8f16",
   "metadata": {},
   "source": [
    "So far, we have covered List, Dictionary and Tuple.\n",
    "\n",
    "Now we will learn another built-in data type in Python: `Set`"
   ]
  },
  {
   "cell_type": "markdown",
   "id": "877b63de-0006-41d2-81d0-3fdcdd09b19c",
   "metadata": {},
   "source": [
    "`Set:`\n",
    "\n",
    "* is a datatype that include other data types (like List, Dict, String)\n",
    "* is **unordered** and **unindexed**\n",
    "* elements are **unique**\n",
    "* is created:\n",
    "    * `{}` -> but with elements in it\n",
    "    * `set()`"
   ]
  },
  {
   "cell_type": "markdown",
   "id": "e7355ca0-7d82-4141-b487-f3eeddcb52f8",
   "metadata": {},
   "source": [
    "**Create a Set via** `{}`"
   ]
  },
  {
   "cell_type": "code",
   "execution_count": 1,
   "id": "37a34383-6563-4dd7-a925-54f2ac1bf95c",
   "metadata": {},
   "outputs": [
    {
     "data": {
      "text/plain": [
       "{}"
      ]
     },
     "execution_count": 1,
     "metadata": {},
     "output_type": "execute_result"
    }
   ],
   "source": [
    "# Create Set\n",
    "\n",
    "my_set = {}\n",
    "\n",
    "my_set"
   ]
  },
  {
   "cell_type": "code",
   "execution_count": 2,
   "id": "4be0af1d-c8bb-49a7-a3e8-672bbde6765a",
   "metadata": {},
   "outputs": [
    {
     "data": {
      "text/plain": [
       "dict"
      ]
     },
     "execution_count": 2,
     "metadata": {},
     "output_type": "execute_result"
    }
   ],
   "source": [
    "type(my_set)"
   ]
  },
  {
   "cell_type": "code",
   "execution_count": 3,
   "id": "446e216a-02f9-4a98-b8d2-141af30d91d8",
   "metadata": {},
   "outputs": [
    {
     "data": {
      "text/plain": [
       "{'cat', 'dog', 'horse'}"
      ]
     },
     "execution_count": 3,
     "metadata": {},
     "output_type": "execute_result"
    }
   ],
   "source": [
    "# empty {} -> dict\n",
    "\n",
    "my_set = {'dog', 'cat', 'horse'}\n",
    "\n",
    "my_set"
   ]
  },
  {
   "cell_type": "code",
   "execution_count": 4,
   "id": "eca587f1-3c9d-4215-8a36-968e96f9ea68",
   "metadata": {},
   "outputs": [
    {
     "data": {
      "text/plain": [
       "set"
      ]
     },
     "execution_count": 4,
     "metadata": {},
     "output_type": "execute_result"
    }
   ],
   "source": [
    "type(my_set)"
   ]
  },
  {
   "cell_type": "markdown",
   "id": "3eb872dd-a6c6-4000-b839-1b46d313fd7b",
   "metadata": {},
   "source": [
    "**Create a Set via** `set()`"
   ]
  },
  {
   "cell_type": "code",
   "execution_count": 5,
   "id": "8a4dc9be-20e3-410b-bc3d-4f139e3acd1c",
   "metadata": {},
   "outputs": [
    {
     "data": {
      "text/plain": [
       "{'A', 'B', 'C', 'D'}"
      ]
     },
     "execution_count": 5,
     "metadata": {},
     "output_type": "execute_result"
    }
   ],
   "source": [
    "# set({})\n",
    "\n",
    "letters = set({'A', 'B', 'C', 'D'})\n",
    "\n",
    "letters"
   ]
  },
  {
   "cell_type": "code",
   "execution_count": 6,
   "id": "ac729860-1c94-4663-a347-7092a3bfb5db",
   "metadata": {},
   "outputs": [
    {
     "data": {
      "text/plain": [
       "set"
      ]
     },
     "execution_count": 6,
     "metadata": {},
     "output_type": "execute_result"
    }
   ],
   "source": [
    "type(letters)"
   ]
  },
  {
   "cell_type": "code",
   "execution_count": 7,
   "id": "04c9084a-1c51-46f6-8d63-1cbc81a1cd6c",
   "metadata": {},
   "outputs": [
    {
     "name": "stdout",
     "output_type": "stream",
     "text": [
      "['A', 'A', 'B', 'C', 'B', 'C']\n"
     ]
    }
   ],
   "source": [
    "# Some element in a set -> only once\n",
    "\n",
    "grades = ['A', 'A', 'B', 'C', 'B', 'C']\n",
    "\n",
    "print(grades)"
   ]
  },
  {
   "cell_type": "code",
   "execution_count": 8,
   "id": "614e4575-8d6a-4f53-a8b4-b72a86024e4f",
   "metadata": {},
   "outputs": [
    {
     "data": {
      "text/plain": [
       "{'A', 'B', 'C'}"
      ]
     },
     "execution_count": 8,
     "metadata": {},
     "output_type": "execute_result"
    }
   ],
   "source": [
    "# convert the List -> Set\n",
    "\n",
    "# the same elements -> removed\n",
    "grades_set = set(grades)\n",
    "\n",
    "grades_set"
   ]
  },
  {
   "cell_type": "code",
   "execution_count": 9,
   "id": "b19593f0-8a79-4960-b07b-e7cfa29f1a5c",
   "metadata": {},
   "outputs": [
    {
     "data": {
      "text/plain": [
       "{' ', 'D', 'P', 'S', 'a', 'c', 'e', 'h', 'i', 'n', 'o', 't', 'y'}"
      ]
     },
     "execution_count": 9,
     "metadata": {},
     "output_type": "execute_result"
    }
   ],
   "source": [
    "# String -> Set\n",
    "\n",
    "text = 'Python Data Science'\n",
    "\n",
    "text_set = set(text)\n",
    "\n",
    "text_set"
   ]
  },
  {
   "cell_type": "code",
   "execution_count": 10,
   "id": "c488087d-91be-445d-b259-43b878dbb00b",
   "metadata": {},
   "outputs": [
    {
     "data": {
      "text/plain": [
       "{'c', 'e', 'n', 's', 't'}"
      ]
     },
     "execution_count": 10,
     "metadata": {},
     "output_type": "execute_result"
    }
   ],
   "source": [
    "sentence = 'sentence'\n",
    "set(sentence)"
   ]
  },
  {
   "cell_type": "code",
   "execution_count": 11,
   "id": "a58124d7-faf9-4c88-a599-8bb276a03d9e",
   "metadata": {},
   "outputs": [
    {
     "data": {
      "text/plain": [
       "{' ', 'D', 'P', 'S', 'a', 'c', 'e', 'h', 'i', 'n', 'o', 't', 'y'}"
      ]
     },
     "execution_count": 11,
     "metadata": {},
     "output_type": "execute_result"
    }
   ],
   "source": [
    "# try to access the elements of a Set with index\n",
    "\n",
    "text_set"
   ]
  },
  {
   "cell_type": "code",
   "execution_count": 12,
   "id": "536c4819-3d5b-4d47-b01a-fc3168e5d043",
   "metadata": {},
   "outputs": [
    {
     "ename": "TypeError",
     "evalue": "'set' object is not subscriptable",
     "output_type": "error",
     "traceback": [
      "\u001b[1;31m---------------------------------------------------------------------------\u001b[0m",
      "\u001b[1;31mTypeError\u001b[0m                                 Traceback (most recent call last)",
      "\u001b[1;32m~\\AppData\\Local\\Temp/ipykernel_15040/2767761451.py\u001b[0m in \u001b[0;36m<module>\u001b[1;34m\u001b[0m\n\u001b[1;32m----> 1\u001b[1;33m \u001b[0mtext_set\u001b[0m\u001b[1;33m[\u001b[0m\u001b[1;36m0\u001b[0m\u001b[1;33m]\u001b[0m\u001b[1;33m\u001b[0m\u001b[1;33m\u001b[0m\u001b[0m\n\u001b[0m",
      "\u001b[1;31mTypeError\u001b[0m: 'set' object is not subscriptable"
     ]
    }
   ],
   "source": [
    "text_set[0]"
   ]
  },
  {
   "cell_type": "markdown",
   "id": "61f6e5a5-b4d5-4740-a847-3de2ed355708",
   "metadata": {},
   "source": [
    "**index -> subscritable**"
   ]
  },
  {
   "cell_type": "code",
   "execution_count": null,
   "id": "e35b97db-4011-405c-ba4e-f520ad84055b",
   "metadata": {},
   "outputs": [],
   "source": []
  }
 ],
 "metadata": {
  "kernelspec": {
   "display_name": "Python 3 (ipykernel)",
   "language": "python",
   "name": "python3"
  },
  "language_info": {
   "codemirror_mode": {
    "name": "ipython",
    "version": 3
   },
   "file_extension": ".py",
   "mimetype": "text/x-python",
   "name": "python",
   "nbconvert_exporter": "python",
   "pygments_lexer": "ipython3",
   "version": "3.8.12"
  }
 },
 "nbformat": 4,
 "nbformat_minor": 5
}
