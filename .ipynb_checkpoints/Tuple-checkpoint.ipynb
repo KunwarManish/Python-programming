{
 "cells": [
  {
   "cell_type": "markdown",
   "id": "3e237187-a491-437d-9e69-9aaefd5db9ba",
   "metadata": {},
   "source": [
    "# Tuple Creation"
   ]
  },
  {
   "cell_type": "markdown",
   "id": "29eb44a8-1bd8-4f51-ae6e-17027b9b8e33",
   "metadata": {},
   "source": [
    "Tuple is a Sequence Type like String and List.\n",
    "\n",
    "They can take any type as elements.\n",
    "\n",
    "Tuple's are indexed by integers (implicitly).\n",
    "\n",
    "They look like List.\n",
    "\n",
    "Main Difference:\n",
    "    \n",
    "    * List -> Mutable\n",
    "    * Tuple -> Immutable\n",
    "    \n",
    "**Tuple** is a sequence seperated by comma.\n",
    "\n",
    "**Creating a Tuple by assigning elements seperated with comma**"
   ]
  },
  {
   "cell_type": "code",
   "execution_count": 1,
   "id": "0175639d-bd9e-4124-84b8-f04b1e1c0d78",
   "metadata": {},
   "outputs": [
    {
     "data": {
      "text/plain": [
       "('x', 'y', 'z', 'q', 'p')"
      ]
     },
     "execution_count": 1,
     "metadata": {},
     "output_type": "execute_result"
    }
   ],
   "source": [
    "t = 'x', 'y', 'z', 'q', 'p'\n",
    "t"
   ]
  },
  {
   "cell_type": "code",
   "execution_count": 2,
   "id": "22a98f98-d4f3-452f-a966-2a85643882ff",
   "metadata": {},
   "outputs": [
    {
     "data": {
      "text/plain": [
       "tuple"
      ]
     },
     "execution_count": 2,
     "metadata": {},
     "output_type": "execute_result"
    }
   ],
   "source": [
    "type(t)"
   ]
  },
  {
   "cell_type": "code",
   "execution_count": 3,
   "id": "7b5b4912-c809-47fa-af82-1a12c6fffe15",
   "metadata": {},
   "outputs": [
    {
     "data": {
      "text/plain": [
       "(1, 2, 4, 6, 8, 20)"
      ]
     },
     "execution_count": 3,
     "metadata": {},
     "output_type": "execute_result"
    }
   ],
   "source": [
    "t2 = (1, 2, 4, 6, 8, 20)\n",
    "t2"
   ]
  },
  {
   "cell_type": "code",
   "execution_count": 4,
   "id": "dc25987b-ce29-4186-bb72-b9ae92222e13",
   "metadata": {},
   "outputs": [
    {
     "data": {
      "text/plain": [
       "(1, 2, 4, 6, 8, 20)"
      ]
     },
     "execution_count": 4,
     "metadata": {},
     "output_type": "execute_result"
    }
   ],
   "source": [
    "tuple(t2)"
   ]
  },
  {
   "cell_type": "code",
   "execution_count": 5,
   "id": "fc543cb8-a785-4951-88e3-b18c79e458b7",
   "metadata": {},
   "outputs": [
    {
     "data": {
      "text/plain": [
       "True"
      ]
     },
     "execution_count": 5,
     "metadata": {},
     "output_type": "execute_result"
    }
   ],
   "source": [
    "isinstance(t2, tuple)"
   ]
  },
  {
   "cell_type": "code",
   "execution_count": 7,
   "id": "8a9b4388-a610-40cd-bfd7-68b4411562ea",
   "metadata": {},
   "outputs": [
    {
     "data": {
      "text/plain": [
       "False"
      ]
     },
     "execution_count": 7,
     "metadata": {},
     "output_type": "execute_result"
    }
   ],
   "source": [
    "isinstance(t2, list)"
   ]
  },
  {
   "cell_type": "markdown",
   "id": "00c60c76-994c-42f9-9232-b79905d08118",
   "metadata": {},
   "source": [
    "**Question:**\n",
    "\n",
    "How to create a tuple with only one element?"
   ]
  },
  {
   "cell_type": "code",
   "execution_count": 8,
   "id": "4150a011-2d73-4f59-b57c-2b0bd025d0c3",
   "metadata": {},
   "outputs": [],
   "source": [
    "one_tuple = 'x'"
   ]
  },
  {
   "cell_type": "code",
   "execution_count": 9,
   "id": "093e6b47-be0f-4baa-8ae3-a364489d71dd",
   "metadata": {},
   "outputs": [
    {
     "data": {
      "text/plain": [
       "str"
      ]
     },
     "execution_count": 9,
     "metadata": {},
     "output_type": "execute_result"
    }
   ],
   "source": [
    "type(one_tuple)"
   ]
  },
  {
   "cell_type": "code",
   "execution_count": 10,
   "id": "498c02a3-ea7b-43a0-92ca-7e40e35059a0",
   "metadata": {},
   "outputs": [
    {
     "data": {
      "text/plain": [
       "'x'"
      ]
     },
     "execution_count": 10,
     "metadata": {},
     "output_type": "execute_result"
    }
   ],
   "source": [
    "one_tuple = ('x')\n",
    "one_tuple"
   ]
  },
  {
   "cell_type": "code",
   "execution_count": 11,
   "id": "3b5565b5-f842-47c6-bc79-863411a4a369",
   "metadata": {},
   "outputs": [
    {
     "data": {
      "text/plain": [
       "str"
      ]
     },
     "execution_count": 11,
     "metadata": {},
     "output_type": "execute_result"
    }
   ],
   "source": [
    "type(one_tuple)"
   ]
  },
  {
   "cell_type": "markdown",
   "id": "f5fe895c-f95a-40fd-bbb9-06e1aa498582",
   "metadata": {},
   "source": [
    "**Answer:**\n",
    "\n",
    "You add a comma after the element."
   ]
  },
  {
   "cell_type": "code",
   "execution_count": 12,
   "id": "e770b7d3-3ec8-4112-9d8d-54217be86601",
   "metadata": {},
   "outputs": [
    {
     "data": {
      "text/plain": [
       "('x',)"
      ]
     },
     "execution_count": 12,
     "metadata": {},
     "output_type": "execute_result"
    }
   ],
   "source": [
    "one_tuple = ('x',)\n",
    "one_tuple"
   ]
  },
  {
   "cell_type": "code",
   "execution_count": 13,
   "id": "3d85402f-8d87-4198-830c-18149bde1a45",
   "metadata": {},
   "outputs": [
    {
     "data": {
      "text/plain": [
       "tuple"
      ]
     },
     "execution_count": 13,
     "metadata": {},
     "output_type": "execute_result"
    }
   ],
   "source": [
    "type(one_tuple)"
   ]
  },
  {
   "cell_type": "code",
   "execution_count": 16,
   "id": "5ca647d5-7357-4fad-b0b9-f0f1148944db",
   "metadata": {},
   "outputs": [
    {
     "data": {
      "text/plain": [
       "('y',)"
      ]
     },
     "execution_count": 16,
     "metadata": {},
     "output_type": "execute_result"
    }
   ],
   "source": [
    "one_tuple_2 = 'y',\n",
    "one_tuple_2"
   ]
  },
  {
   "cell_type": "code",
   "execution_count": 17,
   "id": "509d7fda-4513-4cf9-88e2-659e76a24508",
   "metadata": {},
   "outputs": [
    {
     "data": {
      "text/plain": [
       "tuple"
      ]
     },
     "execution_count": 17,
     "metadata": {},
     "output_type": "execute_result"
    }
   ],
   "source": [
    "type(one_tuple_2)"
   ]
  },
  {
   "cell_type": "markdown",
   "id": "3e33e703-1a83-4848-97e4-8d59bbb6465e",
   "metadata": {},
   "source": [
    "**Create Tuple with ->  `tuple()`**"
   ]
  },
  {
   "cell_type": "code",
   "execution_count": 18,
   "id": "9f1fcb7c-1c04-4363-b3de-8f7afcf2f04c",
   "metadata": {},
   "outputs": [
    {
     "data": {
      "text/plain": [
       "()"
      ]
     },
     "execution_count": 18,
     "metadata": {},
     "output_type": "execute_result"
    }
   ],
   "source": [
    "t = tuple()\n",
    "t"
   ]
  },
  {
   "cell_type": "code",
   "execution_count": 19,
   "id": "cd22c5ed-3711-4d23-a050-9673c8229267",
   "metadata": {},
   "outputs": [
    {
     "data": {
      "text/plain": [
       "True"
      ]
     },
     "execution_count": 19,
     "metadata": {},
     "output_type": "execute_result"
    }
   ],
   "source": [
    "isinstance(t, tuple)"
   ]
  },
  {
   "cell_type": "code",
   "execution_count": 20,
   "id": "e07301f5-2103-4e0f-a839-7ff6120454b7",
   "metadata": {},
   "outputs": [
    {
     "data": {
      "text/plain": [
       "('x',)"
      ]
     },
     "execution_count": 20,
     "metadata": {},
     "output_type": "execute_result"
    }
   ],
   "source": [
    "# let's create a tuple with single element\n",
    "\n",
    "single = tuple('x')\n",
    "single"
   ]
  },
  {
   "cell_type": "code",
   "execution_count": 21,
   "id": "67d4fb55-f465-4022-9905-e79ca4bbd12f",
   "metadata": {},
   "outputs": [
    {
     "data": {
      "text/plain": [
       "tuple"
      ]
     },
     "execution_count": 21,
     "metadata": {},
     "output_type": "execute_result"
    }
   ],
   "source": [
    "type(single)"
   ]
  },
  {
   "cell_type": "markdown",
   "id": "67505fba-cb85-4cc1-af8e-bf3a6070ecd5",
   "metadata": {},
   "source": [
    "**tuple()** -> enter a string, it will convert into a Tuple"
   ]
  },
  {
   "cell_type": "code",
   "execution_count": 22,
   "id": "74f9dac2-a748-4550-b1a3-9e7decb4aeeb",
   "metadata": {},
   "outputs": [
    {
     "data": {
      "text/plain": [
       "('P', 'y', 't', 'h', 'o', 'n')"
      ]
     },
     "execution_count": 22,
     "metadata": {},
     "output_type": "execute_result"
    }
   ],
   "source": [
    "lang = tuple('Python')\n",
    "lang"
   ]
  },
  {
   "cell_type": "code",
   "execution_count": 24,
   "id": "d31edf07-f23a-48b9-841b-7feb939f5d77",
   "metadata": {},
   "outputs": [
    {
     "data": {
      "text/plain": [
       "'P'"
      ]
     },
     "execution_count": 24,
     "metadata": {},
     "output_type": "execute_result"
    }
   ],
   "source": [
    "lang[0]"
   ]
  },
  {
   "cell_type": "code",
   "execution_count": 25,
   "id": "194ad3da-53ea-49de-8f5a-4ff44c64325a",
   "metadata": {},
   "outputs": [
    {
     "data": {
      "text/plain": [
       "'t'"
      ]
     },
     "execution_count": 25,
     "metadata": {},
     "output_type": "execute_result"
    }
   ],
   "source": [
    "lang[2]"
   ]
  },
  {
   "cell_type": "markdown",
   "id": "9e689eda-b75e-4ea2-ab7d-53df9332e5ab",
   "metadata": {},
   "source": [
    "**tuple()** -> enter a list, it will convert into a Tuple"
   ]
  },
  {
   "cell_type": "code",
   "execution_count": 26,
   "id": "eec3b0f1-6531-4377-83f0-5609e42a7a7d",
   "metadata": {},
   "outputs": [
    {
     "data": {
      "text/plain": [
       "('A', 'B', 'C', 'D')"
      ]
     },
     "execution_count": 26,
     "metadata": {},
     "output_type": "execute_result"
    }
   ],
   "source": [
    "my_list = ['A', 'B', 'C', 'D']\n",
    "\n",
    "list_tuple = tuple(my_list)\n",
    "\n",
    "list_tuple"
   ]
  },
  {
   "cell_type": "code",
   "execution_count": 27,
   "id": "d2de3c5d-0917-451f-8236-ff4da9eaf085",
   "metadata": {},
   "outputs": [
    {
     "data": {
      "text/plain": [
       "tuple"
      ]
     },
     "execution_count": 27,
     "metadata": {},
     "output_type": "execute_result"
    }
   ],
   "source": [
    "type(list_tuple)"
   ]
  },
  {
   "cell_type": "code",
   "execution_count": 28,
   "id": "df67892b-174c-4793-aa14-56880ed431c3",
   "metadata": {},
   "outputs": [
    {
     "data": {
      "text/plain": [
       "'D'"
      ]
     },
     "execution_count": 28,
     "metadata": {},
     "output_type": "execute_result"
    }
   ],
   "source": [
    "list_tuple[3]"
   ]
  },
  {
   "cell_type": "code",
   "execution_count": null,
   "id": "0c5ed893-bda3-4cb4-a8fd-255338cc0175",
   "metadata": {},
   "outputs": [],
   "source": []
  }
 ],
 "metadata": {
  "kernelspec": {
   "display_name": "Python 3 (ipykernel)",
   "language": "python",
   "name": "python3"
  },
  "language_info": {
   "codemirror_mode": {
    "name": "ipython",
    "version": 3
   },
   "file_extension": ".py",
   "mimetype": "text/x-python",
   "name": "python",
   "nbconvert_exporter": "python",
   "pygments_lexer": "ipython3",
   "version": "3.8.12"
  }
 },
 "nbformat": 4,
 "nbformat_minor": 5
}
