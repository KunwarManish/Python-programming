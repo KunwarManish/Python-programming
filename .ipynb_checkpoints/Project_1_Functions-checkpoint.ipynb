{
 "cells": [
  {
   "cell_type": "markdown",
   "id": "5b193289-218a-49f9-9f46-9686387e4cac",
   "metadata": {},
   "source": [
    "## Project 1 - Functions"
   ]
  },
  {
   "cell_type": "markdown",
   "id": "4828d680-30ea-472d-bf95-965f8c906298",
   "metadata": {},
   "source": [
    "https://docs.python.org/3/library/turtle.html"
   ]
  },
  {
   "cell_type": "code",
   "execution_count": 1,
   "id": "b8f363b1-b253-40ce-a5fb-f37f186eb23c",
   "metadata": {},
   "outputs": [],
   "source": [
    "# import the module -> turtle\n",
    "\n",
    "import turtle"
   ]
  },
  {
   "cell_type": "code",
   "execution_count": 2,
   "id": "12a5a50e-b48a-4568-a404-b164da37c7ff",
   "metadata": {},
   "outputs": [],
   "source": [
    "t = turtle.Turtle()"
   ]
  },
  {
   "cell_type": "code",
   "execution_count": 3,
   "id": "d89e8add-d8b5-42d4-a0d1-a817ee027f60",
   "metadata": {},
   "outputs": [],
   "source": [
    "t.fd(100)"
   ]
  },
  {
   "cell_type": "code",
   "execution_count": 4,
   "id": "002f0e31-a0eb-4eb2-bb24-a4c05dc33670",
   "metadata": {},
   "outputs": [],
   "source": [
    "t.lt(90)"
   ]
  },
  {
   "cell_type": "code",
   "execution_count": 5,
   "id": "051ba930-fad4-4a72-b87f-4302ca46b1ec",
   "metadata": {},
   "outputs": [],
   "source": [
    "t.fd(300)"
   ]
  },
  {
   "cell_type": "code",
   "execution_count": 6,
   "id": "548013a6-aaf9-4233-bb71-45ba48908e8b",
   "metadata": {},
   "outputs": [],
   "source": [
    "t.lt(90)"
   ]
  },
  {
   "cell_type": "code",
   "execution_count": 7,
   "id": "ad2a4ee7-2fdd-42fe-8004-8c147de4ce5c",
   "metadata": {},
   "outputs": [],
   "source": [
    "t.fd(100)"
   ]
  },
  {
   "cell_type": "code",
   "execution_count": 8,
   "id": "3886e36f-bc82-44d7-b633-59010776c466",
   "metadata": {},
   "outputs": [],
   "source": [
    "t.lt(90)"
   ]
  },
  {
   "cell_type": "code",
   "execution_count": 9,
   "id": "ea94aad5-b51b-4353-84e0-0233e1694eae",
   "metadata": {},
   "outputs": [],
   "source": [
    "t.fd(300)"
   ]
  },
  {
   "cell_type": "markdown",
   "id": "d9b0ba2b-3021-4770-87f6-fe4a5d96863c",
   "metadata": {},
   "source": [
    "Move functions:\n",
    "* fd(px) -> forward\n",
    "* bk(px) -> backward\n",
    "* lt(angle) -> turns left\n",
    "* rt(angle) -> turns right"
   ]
  },
  {
   "cell_type": "code",
   "execution_count": 10,
   "id": "062656c0-d9ac-4bed-9e8f-8a4721fc9264",
   "metadata": {},
   "outputs": [],
   "source": [
    "# clear screen\n",
    "\n",
    "t.clear()"
   ]
  },
  {
   "cell_type": "code",
   "execution_count": 11,
   "id": "6539c96c-91a9-444d-aa0c-ee62f1936ee4",
   "metadata": {},
   "outputs": [],
   "source": [
    "turtle.resetscreen()"
   ]
  },
  {
   "cell_type": "code",
   "execution_count": 12,
   "id": "8e1a2424-56f0-40b7-86fd-f18c8e29da72",
   "metadata": {},
   "outputs": [],
   "source": [
    "# We want to create a square \n",
    "\n",
    "\n",
    "# Move 100 pixel forward \n",
    "# Turn left 90 deg\n",
    "\n",
    "# Move 100 pixel forward\n",
    "# Turn left 90 deg\n",
    "\n",
    "# Move 100 pixel forward\n",
    "# Turn left 90 deg\n",
    "\n",
    "# Move 100 pixel forward\n",
    "# Turn left 90 deg\n",
    "\n",
    "t.fd(100)\n",
    "t.lt(90)\n",
    "\n",
    "t.fd(100)\n",
    "t.lt(90)\n",
    "\n",
    "t.fd(100)\n",
    "t.lt(90)\n",
    "\n",
    "t.fd(100)\n",
    "t.lt(90)"
   ]
  },
  {
   "cell_type": "code",
   "execution_count": 13,
   "id": "7a4c57c8-12a7-4968-95bf-2875f64fd094",
   "metadata": {},
   "outputs": [],
   "source": [
    "turtle.resetscreen()"
   ]
  },
  {
   "cell_type": "code",
   "execution_count": 14,
   "id": "89dd9b8e-d567-4c5d-b149-df7db162abb0",
   "metadata": {},
   "outputs": [],
   "source": [
    "\n",
    "# with loop\n",
    "\n",
    "\n",
    "for i in range(4):\n",
    "    t.fd(100)\n",
    "    t.lt(90)\n",
    "    \n"
   ]
  },
  {
   "cell_type": "markdown",
   "id": "a3187767-76bc-410d-a513-fff208e9df9c",
   "metadata": {},
   "source": [
    "**Example 1:**\n",
    "\n",
    "Create a square with a function -> **square**\n",
    "\n",
    "Parameters: turtle object, d in pixels"
   ]
  },
  {
   "cell_type": "code",
   "execution_count": 15,
   "id": "f463e0f6-bd74-4c6e-8148-530a205fb3b1",
   "metadata": {},
   "outputs": [],
   "source": [
    "# square \n",
    "\n",
    "def square(t, d, is_screen_reset):\n",
    "    \"\"\"\n",
    "    \n",
    "    It draws square with turtle.\n",
    "    Parameters: turtle t, int d, bool is_screen_reset\n",
    "    Returns: None\n",
    "    \"\"\"\n",
    "    # reset screen\n",
    "    if is_screen_reset == True:\n",
    "        reset()\n",
    "    \n",
    "    # draw a square\n",
    "    for i in range(4):\n",
    "        t.fd(d)\n",
    "        t.lt(90)"
   ]
  },
  {
   "cell_type": "code",
   "execution_count": 16,
   "id": "5135d894-0268-4087-9e03-d604ba779ee6",
   "metadata": {},
   "outputs": [],
   "source": [
    "# reset \n",
    "\n",
    "def reset():\n",
    "    turtle.resetscreen()"
   ]
  },
  {
   "cell_type": "code",
   "execution_count": 17,
   "id": "c909604a-c780-4ead-9569-63c92c66e6d7",
   "metadata": {},
   "outputs": [],
   "source": [
    "square(t, 200, True)"
   ]
  },
  {
   "cell_type": "code",
   "execution_count": 18,
   "id": "5ad44e97-9a27-4246-b5e1-bafd34bdb5f2",
   "metadata": {},
   "outputs": [],
   "source": [
    "square(t, 300, True)"
   ]
  },
  {
   "cell_type": "code",
   "execution_count": 19,
   "id": "06e5f996-9c2e-4a24-a2d2-d6bac1d66311",
   "metadata": {},
   "outputs": [],
   "source": [
    "square(t, 100, False)"
   ]
  },
  {
   "cell_type": "code",
   "execution_count": 20,
   "id": "50ffb1ee-5b62-463e-8f87-8f8b87134c4e",
   "metadata": {},
   "outputs": [],
   "source": [
    "# 20 - 40 - 60 80 - ... - 200\n",
    "\n",
    "reset()\n",
    "\n",
    "for i in range(10):\n",
    "    square(t, i * 20, False)\n",
    "    "
   ]
  },
  {
   "cell_type": "markdown",
   "id": "a174d86e-e160-403c-9c6b-e6d8be239b2b",
   "metadata": {},
   "source": [
    "**Example 2:**\n",
    "\n",
    "Draw a polygon."
   ]
  },
  {
   "cell_type": "code",
   "execution_count": 21,
   "id": "a2869c22-adff-4173-81df-a0165720dbaa",
   "metadata": {},
   "outputs": [],
   "source": [
    "# polygon\n",
    "\n",
    "def polygon(t , d, n, is_screen_reset):\n",
    "    \"\"\"\n",
    "    Draw a polygon.\n",
    "    Parameters: turtle t, int d (pixels), int n (number of sides), \n",
    "    bool is_screen_reset\n",
    "    Returns: None\n",
    "    \"\"\"\n",
    "    \n",
    "    # resetting\n",
    "    if is_screen_reset:\n",
    "        reset()\n",
    "    \n",
    "    # angle\n",
    "    \n",
    "    angle = 360 / n\n",
    "    \n",
    "    # polygon\n",
    "    \n",
    "    for i in range(n):\n",
    "        t.fd(d)\n",
    "        t.lt(angle)\n",
    "        \n",
    "    "
   ]
  },
  {
   "cell_type": "code",
   "execution_count": 22,
   "id": "62e87586-9548-4aa5-b43a-dec4dccd4afa",
   "metadata": {},
   "outputs": [],
   "source": [
    "polygon(t , 100, 6, True)"
   ]
  },
  {
   "cell_type": "markdown",
   "id": "d7fbf3e3-a1d6-467b-bf5b-04ded0d2af58",
   "metadata": {},
   "source": [
    "**Named Arguments:**\n",
    "\n",
    "when you call a function and passing parameters.\n",
    "\n",
    "`function_name(parameter_name = parameter_value)`\n"
   ]
  },
  {
   "cell_type": "code",
   "execution_count": 23,
   "id": "d4c548d6-e7d5-47cb-9960-060041a90641",
   "metadata": {},
   "outputs": [],
   "source": [
    "polygon(t=t , d=200, n=8, is_screen_reset = False)"
   ]
  },
  {
   "cell_type": "code",
   "execution_count": 24,
   "id": "1dc9674a-127d-4292-b89e-c4c9581673be",
   "metadata": {},
   "outputs": [],
   "source": [
    "square(t, d=250, is_screen_reset= True)"
   ]
  },
  {
   "cell_type": "markdown",
   "id": "fb51fe9d-1311-4b29-8067-7b761e01a127",
   "metadata": {},
   "source": [
    "**Example 3:**\n",
    "\n",
    "Draw a Circle ->\n",
    "\n",
    "* t\n",
    "* r"
   ]
  },
  {
   "cell_type": "code",
   "execution_count": 25,
   "id": "f5ae8b1a-5cfc-4a80-9d85-a301b42d8139",
   "metadata": {},
   "outputs": [],
   "source": [
    "import math\n",
    "\n",
    "def circle(t, r, is_screen_reset):\n",
    "    \n",
    "    \"\"\"\n",
    "    Draws a circle.\n",
    "    Parameters: turtle t, int r\n",
    "    Returns: None(void)\n",
    "    \"\"\"\n",
    "    \n",
    "    # perimeter -> total distance to draw\n",
    "    perimeter = 2 * math.pi * r\n",
    "    \n",
    "    # steps -> 360 / angles\n",
    "    \n",
    "    # angle of an arc\n",
    "    steps = int(360 / 10) \n",
    "    \n",
    "    \n",
    "    #distance -> distance to drawa in each arc\n",
    "    distance = perimeter / steps \n",
    "    \n",
    "    \n",
    "    # call polygon \n",
    "    polygon(t, d = distance, n = steps, is_screen_reset = is_screen_reset)\n",
    "    \n",
    "    "
   ]
  },
  {
   "cell_type": "code",
   "execution_count": 26,
   "id": "5e20cdef-29a2-468c-ae65-552024eb27dd",
   "metadata": {},
   "outputs": [],
   "source": [
    "circle(t, 200, True)"
   ]
  },
  {
   "cell_type": "code",
   "execution_count": 27,
   "id": "da083ce1-53f3-4232-b4ae-cc3b3473dbb9",
   "metadata": {},
   "outputs": [],
   "source": [
    "reset()\n",
    "for i in range(1, 4):\n",
    "    \n",
    "    circle(t, i * 50, False)\n",
    "    "
   ]
  },
  {
   "cell_type": "markdown",
   "id": "86ae83fb-637a-49c6-912c-8e0d0ef9bef6",
   "metadata": {},
   "source": [
    "**EXample 4:**\n",
    "\n",
    "Draw a Star."
   ]
  },
  {
   "cell_type": "code",
   "execution_count": 28,
   "id": "f14aff0a-3347-47e0-8794-0762b238a919",
   "metadata": {},
   "outputs": [
    {
     "data": {
      "text/plain": [
       "144.0"
      ]
     },
     "execution_count": 28,
     "metadata": {},
     "output_type": "execute_result"
    }
   ],
   "source": [
    "# angle of a 5 sized star\n",
    "\n",
    "angle = 180 / 5\n",
    "angle = 180 - angle\n",
    "angle"
   ]
  },
  {
   "cell_type": "markdown",
   "id": "5fae33c0-19c6-40e8-9a1e-ee0600a01c60",
   "metadata": {},
   "source": [
    "Fixed size star."
   ]
  },
  {
   "cell_type": "code",
   "execution_count": 32,
   "id": "2885e141-e0e9-4b8f-b96f-255af8d907f8",
   "metadata": {},
   "outputs": [],
   "source": [
    "def star(t, d, is_screen_reset, color):\n",
    "    \"\"\"\n",
    "    Draws a star with 5 sizes.\n",
    "    Parameters: turtle t, int d, bool is_screen_reset\n",
    "    \"\"\"\n",
    "    \n",
    "     # resetting\n",
    "    if is_screen_reset:\n",
    "        reset()\n",
    "    \n",
    "    # angle\n",
    "    angle = 180 / 5\n",
    "    angle = 180 - angle\n",
    "    \n",
    "    # line color -> pen color\n",
    "    t.color(color)\n",
    "    \n",
    "    # start the filling\n",
    "    t.fillcolor(color)\n",
    "    t.begin_fill()\n",
    "    \n",
    "    for i in range(5):\n",
    "        t.fd(d)\n",
    "        t.lt(angle)\n",
    "    \n",
    "    # end the filling\n",
    "    t.end_fill()\n",
    "    \n",
    "    "
   ]
  },
  {
   "cell_type": "code",
   "execution_count": 33,
   "id": "efde782d-f8f8-40ef-a949-d40c50fee14c",
   "metadata": {},
   "outputs": [],
   "source": [
    "star(t, 300, is_screen_reset=True, color='green')"
   ]
  },
  {
   "cell_type": "code",
   "execution_count": 35,
   "id": "0b926657-b94b-4d50-a538-144358ce2150",
   "metadata": {},
   "outputs": [],
   "source": [
    "star(t, 200, is_screen_reset=False, color='orange')"
   ]
  },
  {
   "cell_type": "code",
   "execution_count": 36,
   "id": "e7bd57b1-342a-4091-b719-eabced1806c9",
   "metadata": {},
   "outputs": [],
   "source": [
    "star(t, 100, is_screen_reset=False, color='purple')"
   ]
  },
  {
   "cell_type": "code",
   "execution_count": null,
   "id": "e64463ad-3cea-4949-9c6d-dc81b1a814ae",
   "metadata": {},
   "outputs": [],
   "source": [
    "Variable size star."
   ]
  },
  {
   "cell_type": "code",
   "execution_count": 37,
   "id": "a26e5f82-6a3f-4793-9f38-48d268e81218",
   "metadata": {},
   "outputs": [],
   "source": [
    "def star(t, d, n, is_screen_reset, color):\n",
    "    \"\"\"\n",
    "    Draws a star with n sizes.\n",
    "    Parameters: turtle t, int d, int n, bool is_screen_reset\n",
    "    \"\"\"\n",
    "    \n",
    "     # resetting\n",
    "    if is_screen_reset:\n",
    "        reset()\n",
    "    \n",
    "    # angle\n",
    "    angle = 180 / n\n",
    "    angle = 180 - angle\n",
    "    \n",
    "    # line color -> pen color\n",
    "    t.color(color)\n",
    "    \n",
    "    # start the filling\n",
    "    t.fillcolor(color)\n",
    "    t.begin_fill()\n",
    "    \n",
    "    for i in range(n):\n",
    "        t.fd(d)\n",
    "        t.lt(angle)\n",
    "    \n",
    "    # end the filling\n",
    "    t.end_fill()\n",
    "    \n",
    "    "
   ]
  },
  {
   "cell_type": "code",
   "execution_count": 39,
   "id": "68373127-781b-4dfe-9d94-f4a57ccbf38c",
   "metadata": {},
   "outputs": [],
   "source": [
    "star(t, 300, 10, is_screen_reset=True, color='red')"
   ]
  },
  {
   "cell_type": "code",
   "execution_count": 41,
   "id": "ea5edde2-2188-43a6-90f8-d477e3579f1b",
   "metadata": {},
   "outputs": [],
   "source": [
    "star(t, 300, 11, is_screen_reset=False, color='yellow')"
   ]
  },
  {
   "cell_type": "markdown",
   "id": "3666e98a-e249-4917-86fa-ebbc51060093",
   "metadata": {},
   "source": [
    "Different fill and pen colors."
   ]
  },
  {
   "cell_type": "code",
   "execution_count": 42,
   "id": "d778d1e3-d693-4e0b-acf2-27fb3f432c95",
   "metadata": {},
   "outputs": [],
   "source": [
    "def star(t, d, n, is_screen_reset, pen_color, fill_color):\n",
    "    \"\"\"\n",
    "    Draws a star with n sizes.\n",
    "    Parameters: turtle t, int d, int n, bool is_screen_reset, str pen_color, fill_color\n",
    "    \"\"\"\n",
    "    \n",
    "     # resetting\n",
    "    if is_screen_reset:\n",
    "        reset()\n",
    "    \n",
    "    # angle\n",
    "    angle = 180 / n\n",
    "    angle = 180 - angle\n",
    "    \n",
    "    # line color -> pen color\n",
    "    t.color(pen_color)\n",
    "    \n",
    "    # start the filling\n",
    "    t.fillcolor(fill_color)\n",
    "    t.begin_fill()\n",
    "    \n",
    "    for i in range(n):\n",
    "        t.fd(d)\n",
    "        t.lt(angle)\n",
    "    \n",
    "    # end the filling\n",
    "    t.end_fill()\n",
    "    \n",
    "    "
   ]
  },
  {
   "cell_type": "code",
   "execution_count": 44,
   "id": "07debd48-a791-4a31-959b-c0a748ee1ca9",
   "metadata": {},
   "outputs": [],
   "source": [
    "star(t, 300, 15, is_screen_reset=True, pen_color='red', fill_color = 'yellow')"
   ]
  },
  {
   "cell_type": "code",
   "execution_count": null,
   "id": "68e48b28-651c-40a1-bd10-854e0571a948",
   "metadata": {},
   "outputs": [],
   "source": []
  },
  {
   "cell_type": "code",
   "execution_count": null,
   "id": "353ff1e0-7d90-4381-ae6b-ea93d788ac75",
   "metadata": {},
   "outputs": [],
   "source": [
    "# last statement -> before close \n",
    "# restart the kernel after you close the turtle\n",
    "\n",
    "turtle.mainloop()"
   ]
  },
  {
   "cell_type": "code",
   "execution_count": null,
   "id": "1aee3b46-e3bc-4ed1-91f1-73e9960e1f4f",
   "metadata": {},
   "outputs": [],
   "source": []
  },
  {
   "cell_type": "code",
   "execution_count": null,
   "id": "973a6862-a690-4a49-bf6b-a99123d75639",
   "metadata": {},
   "outputs": [],
   "source": []
  }
 ],
 "metadata": {
  "kernelspec": {
   "display_name": "Python 3 (ipykernel)",
   "language": "python",
   "name": "python3"
  },
  "language_info": {
   "codemirror_mode": {
    "name": "ipython",
    "version": 3
   },
   "file_extension": ".py",
   "mimetype": "text/x-python",
   "name": "python",
   "nbconvert_exporter": "python",
   "pygments_lexer": "ipython3",
   "version": "3.8.12"
  }
 },
 "nbformat": 4,
 "nbformat_minor": 5
}
