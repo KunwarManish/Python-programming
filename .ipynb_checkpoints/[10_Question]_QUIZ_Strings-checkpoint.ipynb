{
 "cells": [
  {
   "cell_type": "markdown",
   "id": "resistant-tension",
   "metadata": {},
   "source": [
    "## [10 Questions] QUIZ - Strings"
   ]
  },
  {
   "cell_type": "markdown",
   "id": "decreased-wildlife",
   "metadata": {},
   "source": [
    "**Q 1:**\n",
    "\n",
    "Define a function named **only_first_letters**.\n",
    "\n",
    "It will take a string as the parameter.\n",
    "\n",
    "And it will convert all the first letters of each word into upper case.\n",
    "\n",
    "All the remaining letter will be lowe case."
   ]
  },
  {
   "cell_type": "code",
   "execution_count": 4,
   "id": "binary-family",
   "metadata": {},
   "outputs": [],
   "source": [
    "# S 1:\n",
    "\n",
    "# Long Way\n",
    "def only_first_letters(text):\n",
    "    \n",
    "    # make all letters -> lower\n",
    "    lower_text = text.lower()\n",
    "    \n",
    "    # then, only make first letters as capital\n",
    "    capital_text = lower_text.title()\n",
    "    \n",
    "    return capital_text\n",
    "    "
   ]
  },
  {
   "cell_type": "code",
   "execution_count": 5,
   "id": "sharp-setup",
   "metadata": {},
   "outputs": [
    {
     "name": "stdout",
     "output_type": "stream",
     "text": [
      "Python Is Great\n"
     ]
    }
   ],
   "source": [
    "proper_text = only_first_letters('pyThon iS grEAt')\n",
    "print(proper_text)"
   ]
  },
  {
   "cell_type": "markdown",
   "id": "assigned-greene",
   "metadata": {},
   "source": [
    "---"
   ]
  },
  {
   "cell_type": "markdown",
   "id": "critical-irrigation",
   "metadata": {},
   "source": [
    "**Q 2:**\n",
    "\n",
    "Define a function taking a text and a letter as paramaters.\n",
    "\n",
    "The function name will be **count_the_letter**.\n",
    "\n",
    "Function will return the number (count) of occurences of the letter in the text.\n",
    "\n",
    "**Hints:**\n",
    "* use built-in function\n",
    "* your function body should be one line of code\n",
    "* https://docs.python.org/3/library/stdtypes.html#string-methods"
   ]
  },
  {
   "cell_type": "code",
   "execution_count": 1,
   "id": "educated-consensus",
   "metadata": {},
   "outputs": [],
   "source": [
    "# S 2:\n",
    "\n",
    "def count_the_letter(text, letter):\n",
    "    \n",
    "    return text.count(letter)\n",
    "    "
   ]
  },
  {
   "cell_type": "code",
   "execution_count": 2,
   "id": "lovely-diameter",
   "metadata": {},
   "outputs": [
    {
     "name": "stdin",
     "output_type": "stream",
     "text": [
      "Please enter a text:  Python Hands-On is a perfect course.\n",
      "Now a letter:  e\n"
     ]
    },
    {
     "data": {
      "text/plain": [
       "3"
      ]
     },
     "execution_count": 2,
     "metadata": {},
     "output_type": "execute_result"
    }
   ],
   "source": [
    "text = input('Please enter a text: ')\n",
    "letter = input('Now a letter: ')\n",
    "count_the_letter(text, letter)"
   ]
  },
  {
   "cell_type": "markdown",
   "id": "quick-jewelry",
   "metadata": {},
   "source": [
    "---"
   ]
  },
  {
   "cell_type": "markdown",
   "id": "continuous-genealogy",
   "metadata": {},
   "source": [
    "**Q 3:**\n",
    "\n",
    "Define a function named **count_letters**.\n",
    "\n",
    "It will ask for sentence from the user.\n",
    "\n",
    "And it will count the occurences of each letter and print it.\n",
    "\n",
    "**Hints:**\n",
    "* Do not count space character\n",
    "* Use the function you defined in Q2.\n",
    "\n",
    "<pre>\n",
    "Expected Output:\n",
    "\n",
    "Please enter a sentence:  pandas\n",
    "letter p: 1 time(s)\n",
    "letter a: 2 time(s)\n",
    "letter n: 1 time(s)\n",
    "letter d: 1 time(s)\n",
    "letter s: 1 time(s)\n",
    "</pre>"
   ]
  },
  {
   "cell_type": "code",
   "execution_count": 16,
   "id": "committed-newark",
   "metadata": {},
   "outputs": [],
   "source": [
    "# S 3:\n",
    "\n",
    "\n",
    "        "
   ]
  },
  {
   "cell_type": "code",
   "execution_count": 17,
   "id": "civil-helena",
   "metadata": {},
   "outputs": [
    {
     "name": "stdin",
     "output_type": "stream",
     "text": [
      "Please enter a sentence:  pandas\n"
     ]
    },
    {
     "name": "stdout",
     "output_type": "stream",
     "text": [
      "letter p: 1 time(s)\n",
      "letter a: 2 time(s)\n",
      "letter n: 1 time(s)\n",
      "letter d: 1 time(s)\n",
      "letter s: 1 time(s)\n"
     ]
    }
   ],
   "source": [
    "count_letters()"
   ]
  },
  {
   "cell_type": "markdown",
   "id": "narrative-apache",
   "metadata": {},
   "source": [
    "---"
   ]
  },
  {
   "cell_type": "markdown",
   "id": "arabic-korea",
   "metadata": {},
   "source": [
    "**Q 4:**\n",
    "\n",
    "Your text is:\n",
    "\n",
    "'Monday Tuesday Wednesday Thursday Friday'.\n",
    "\n",
    "Do slicing operations on this text and answer the following questions:\n",
    "\n",
    "<pre>\n",
    "* find the first 3 chars\n",
    "* find the chars between index 7 and 10 (inc.)\n",
    "* find the chars between index 2 and 12 (exc.)\n",
    "* find the chars at indices 3, 4 and 5\n",
    "</pre>"
   ]
  },
  {
   "cell_type": "code",
   "execution_count": 19,
   "id": "parental-germany",
   "metadata": {},
   "outputs": [],
   "source": [
    "# S 4:\n",
    "\n",
    "text = 'Monday Tuesday Wednesday Thursday Friday'"
   ]
  },
  {
   "cell_type": "markdown",
   "id": "fallen-miracle",
   "metadata": {},
   "source": [
    "---"
   ]
  },
  {
   "cell_type": "markdown",
   "id": "spanish-medicare",
   "metadata": {},
   "source": [
    "**Q 5:**\n",
    "\n",
    "Your text is:\n",
    "\n",
    "'Monday Tuesday Wednesday'\n",
    "\n",
    "Do slicing operations on this text and answer the following questions:\n",
    "\n",
    "<pre>\n",
    "* find the chars from index 1 to 7 with step size 2\n",
    "* find the chars from index 3 to 20 with step size 3\n",
    "* find the chars with even indices (0, 2, 4, 6 ...)\n",
    "* find the chars with odd indices (1, 3, 5, 7 ...)\n",
    "</pre>"
   ]
  },
  {
   "cell_type": "code",
   "execution_count": 24,
   "id": "varying-fight",
   "metadata": {},
   "outputs": [],
   "source": [
    "# S 5:\n",
    "\n",
    "text = 'Monday Tuesday Wednesday'"
   ]
  },
  {
   "cell_type": "markdown",
   "id": "systematic-confirmation",
   "metadata": {},
   "source": [
    "---"
   ]
  },
  {
   "cell_type": "markdown",
   "id": "backed-module",
   "metadata": {},
   "source": [
    "**Q 6:**\n",
    "\n",
    "Your text:\n",
    "\n",
    "'Monday Tuesday Wednesday'\n",
    "\n",
    "Do slicing operations on this text and answer the following questions:\n",
    "\n",
    "<pre>\n",
    "* find the last character\n",
    "* find the 3rd character from last\n",
    "* find last 3 characters\n",
    "* print the text in reverse order\n",
    "</pre>"
   ]
  },
  {
   "cell_type": "code",
   "execution_count": 24,
   "id": "structural-marketing",
   "metadata": {},
   "outputs": [],
   "source": [
    "# S 6:\n",
    "\n",
    "text = 'Monday Tuesday Wednesday'"
   ]
  },
  {
   "cell_type": "markdown",
   "id": "confidential-porter",
   "metadata": {},
   "source": [
    "---"
   ]
  },
  {
   "cell_type": "markdown",
   "id": "purple-leisure",
   "metadata": {},
   "source": [
    "**Q 7:**\n",
    "\n",
    "Your text:\n",
    "\n",
    "'Monday Tuesday Wednesday'\n",
    "\n",
    "Do slicing operations on this text and answer the following questions:\n",
    "\n",
    "<pre>\n",
    "* find the chars between 2nd and 6th from last\n",
    "* find the chars between 2nd (inc.) and 6th from last\n",
    "* find the negative index which correspond to the char with index 10\n",
    "* find all characters except the last one\n",
    "* find all characters except the fist and the last one\n",
    "</pre>"
   ]
  },
  {
   "cell_type": "code",
   "execution_count": 35,
   "id": "round-vegetable",
   "metadata": {},
   "outputs": [],
   "source": [
    "# S 7:\n",
    "\n",
    "text = 'Monday Tuesday Wednesday'"
   ]
  },
  {
   "cell_type": "markdown",
   "id": "coordinate-tension",
   "metadata": {},
   "source": [
    "---"
   ]
  },
  {
   "cell_type": "markdown",
   "id": "bored-playlist",
   "metadata": {},
   "source": [
    "**Q 8:**\n",
    "\n",
    "Define a function named **split_email**.\n",
    "\n",
    "It will ask for an email from the user.\n",
    "\n",
    "And it will split the email into user name and domain name using **index**.\n",
    "\n",
    "**Hints:**\n",
    "* if the input doesn't include '@' char, return a text as 'Invalid email format.'\n",
    "\n",
    "<pre>\n",
    "Expected output:\n",
    "\n",
    "Please enter an email:  abc@acme.corp\n",
    "User Name: abc\n",
    "Domain: acme.corp\n",
    "</pre>"
   ]
  },
  {
   "cell_type": "code",
   "execution_count": 44,
   "id": "possible-chase",
   "metadata": {},
   "outputs": [],
   "source": [
    "# S 8:\n",
    "\n",
    "\n",
    "    "
   ]
  },
  {
   "cell_type": "code",
   "execution_count": 45,
   "id": "inside-outside",
   "metadata": {},
   "outputs": [
    {
     "name": "stdin",
     "output_type": "stream",
     "text": [
      "Please enter an email:  sdfasf\n"
     ]
    },
    {
     "name": "stdout",
     "output_type": "stream",
     "text": [
      "Invalid email format.\n"
     ]
    }
   ],
   "source": [
    "split_email()"
   ]
  },
  {
   "cell_type": "code",
   "execution_count": 47,
   "id": "reverse-archive",
   "metadata": {},
   "outputs": [
    {
     "name": "stdin",
     "output_type": "stream",
     "text": [
      "Please enter an email:  example_email@test.com\n"
     ]
    },
    {
     "name": "stdout",
     "output_type": "stream",
     "text": [
      "User Name: example_email\n",
      "Domain: test.com\n"
     ]
    }
   ],
   "source": [
    "split_email()"
   ]
  },
  {
   "cell_type": "code",
   "execution_count": 48,
   "id": "completed-campbell",
   "metadata": {},
   "outputs": [
    {
     "name": "stdin",
     "output_type": "stream",
     "text": [
      "Please enter an email:  abc@acme.corp\n"
     ]
    },
    {
     "name": "stdout",
     "output_type": "stream",
     "text": [
      "User Name: abc\n",
      "Domain: acme.corp\n"
     ]
    }
   ],
   "source": [
    "split_email()"
   ]
  },
  {
   "cell_type": "markdown",
   "id": "honey-prescription",
   "metadata": {},
   "source": [
    "---"
   ]
  },
  {
   "cell_type": "markdown",
   "id": "black-bride",
   "metadata": {},
   "source": [
    "**Q 9:**\n",
    "\n",
    "Define a function named **reverse**.\n",
    "\n",
    "It will ask for a sentence from the user and return the reverse of this sentence.\n",
    "\n",
    "<pre>\n",
    "Expected Output:\n",
    "\n",
    "Please enter a sentence:  yesterday came suddenly\n",
    "'ylneddus emac yadretsey\n",
    "</pre>"
   ]
  },
  {
   "cell_type": "code",
   "execution_count": 49,
   "id": "acceptable-conviction",
   "metadata": {},
   "outputs": [],
   "source": [
    "# S 9:\n",
    "\n",
    "\n"
   ]
  },
  {
   "cell_type": "code",
   "execution_count": 51,
   "id": "adjacent-official",
   "metadata": {},
   "outputs": [
    {
     "name": "stdin",
     "output_type": "stream",
     "text": [
      "Please enter a sentence:  yesterday came suddenly\n"
     ]
    },
    {
     "data": {
      "text/plain": [
       "'ylneddus emac yadretsey'"
      ]
     },
     "execution_count": 51,
     "metadata": {},
     "output_type": "execute_result"
    }
   ],
   "source": [
    "reverse()"
   ]
  },
  {
   "cell_type": "code",
   "execution_count": 52,
   "id": "affecting-terror",
   "metadata": {},
   "outputs": [
    {
     "name": "stdin",
     "output_type": "stream",
     "text": [
      "Please enter a sentence:  python data science\n"
     ]
    },
    {
     "data": {
      "text/plain": [
       "'ecneics atad nohtyp'"
      ]
     },
     "execution_count": 52,
     "metadata": {},
     "output_type": "execute_result"
    }
   ],
   "source": [
    "reverse()"
   ]
  },
  {
   "cell_type": "markdown",
   "id": "colored-boost",
   "metadata": {},
   "source": [
    "---"
   ]
  },
  {
   "cell_type": "markdown",
   "id": "encouraging-shirt",
   "metadata": {},
   "source": [
    "**Q 10:**\n",
    "\n",
    "Define a function named **replace_with_next_letter**.\n",
    "\n",
    "It will ask for an input from the user.\n",
    "\n",
    "And will replace every character with the next letter in the English alphabet.\n",
    "\n",
    "**Hints:**\n",
    "* use nested functions\n",
    "* there should be is_lower() and is_upper() functions to check whether the char is small or upper\n",
    "* there should be next_letter() function to take a letter and return the next one from alphabet\n",
    "* alphabets:\n",
    "    * alphabet_lower = 'abcdefghijklmnoprstuvyz'\n",
    "    * alphabet_upper = 'ABCDEFGHIJKLMNOPRSTUVYZ'\n",
    "* use index to get the related letter\n",
    "\n",
    "<pre>\n",
    "Expected Output:\n",
    "\n",
    "Please enter a text:  Python\n",
    "Rzuipo\n",
    "\n",
    "Please enter a text:  abcZ\n",
    "bcdA\n",
    "</pre>"
   ]
  },
  {
   "cell_type": "code",
   "execution_count": 58,
   "id": "novel-hollywood",
   "metadata": {},
   "outputs": [],
   "source": [
    "# S 10:\n",
    "\n",
    "\n",
    "\n",
    "    "
   ]
  },
  {
   "cell_type": "code",
   "execution_count": 59,
   "id": "electoral-panama",
   "metadata": {},
   "outputs": [
    {
     "name": "stdin",
     "output_type": "stream",
     "text": [
      "Please enter a text:  Python\n"
     ]
    },
    {
     "name": "stdout",
     "output_type": "stream",
     "text": [
      "Rzuipo\n"
     ]
    }
   ],
   "source": [
    "new_text = replace_with_next_letter()\n",
    "print(new_text)"
   ]
  },
  {
   "cell_type": "code",
   "execution_count": 60,
   "id": "advisory-python",
   "metadata": {},
   "outputs": [
    {
     "name": "stdin",
     "output_type": "stream",
     "text": [
      "Please enter a text:  abcZ\n"
     ]
    },
    {
     "name": "stdout",
     "output_type": "stream",
     "text": [
      "bcdA\n"
     ]
    }
   ],
   "source": [
    "new_text = replace_with_next_letter()\n",
    "print(new_text)"
   ]
  },
  {
   "cell_type": "code",
   "execution_count": null,
   "id": "compressed-saint",
   "metadata": {},
   "outputs": [],
   "source": []
  }
 ],
 "metadata": {
  "kernelspec": {
   "display_name": "Python 3 (ipykernel)",
   "language": "python",
   "name": "python3"
  },
  "language_info": {
   "codemirror_mode": {
    "name": "ipython",
    "version": 3
   },
   "file_extension": ".py",
   "mimetype": "text/x-python",
   "name": "python",
   "nbconvert_exporter": "python",
   "pygments_lexer": "ipython3",
   "version": "3.8.12"
  }
 },
 "nbformat": 4,
 "nbformat_minor": 5
}
