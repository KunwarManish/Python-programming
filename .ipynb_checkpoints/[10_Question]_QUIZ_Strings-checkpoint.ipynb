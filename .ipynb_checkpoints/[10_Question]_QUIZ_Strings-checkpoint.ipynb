{
 "cells": [
  {
   "cell_type": "markdown",
   "id": "resistant-tension",
   "metadata": {},
   "source": [
    "## [10 Questions] QUIZ - Strings"
   ]
  },
  {
   "cell_type": "markdown",
   "id": "decreased-wildlife",
   "metadata": {},
   "source": [
    "**Q 1:**\n",
    "\n",
    "Define a function named **only_first_letters**.\n",
    "\n",
    "It will take a string as the parameter.\n",
    "\n",
    "And it will convert all the first letters of each word into upper case.\n",
    "\n",
    "All the remaining letter will be lowe case."
   ]
  },
  {
   "cell_type": "code",
   "execution_count": 4,
   "id": "binary-family",
   "metadata": {},
   "outputs": [],
   "source": [
    "# S 1:\n",
    "\n",
    "# Long Way\n",
    "def only_first_letters(text):\n",
    "    \n",
    "    # make all letters -> lower\n",
    "    lower_text = text.lower()\n",
    "    \n",
    "    # then, only make first letters as capital\n",
    "    capital_text = lower_text.title()\n",
    "    \n",
    "    return capital_text\n",
    "    "
   ]
  },
  {
   "cell_type": "code",
   "execution_count": 5,
   "id": "sharp-setup",
   "metadata": {},
   "outputs": [
    {
     "name": "stdout",
     "output_type": "stream",
     "text": [
      "Python Is Great\n"
     ]
    }
   ],
   "source": [
    "proper_text = only_first_letters('pyThon iS grEAt')\n",
    "print(proper_text)"
   ]
  },
  {
   "cell_type": "markdown",
   "id": "assigned-greene",
   "metadata": {},
   "source": [
    "---"
   ]
  },
  {
   "cell_type": "markdown",
   "id": "critical-irrigation",
   "metadata": {},
   "source": [
    "**Q 2:**\n",
    "\n",
    "Define a function taking a text and a letter as paramaters.\n",
    "\n",
    "The function name will be **count_the_letter**.\n",
    "\n",
    "Function will return the number (count) of occurences of the letter in the text.\n",
    "\n",
    "**Hints:**\n",
    "* use built-in function\n",
    "* your function body should be one line of code\n",
    "* https://docs.python.org/3/library/stdtypes.html#string-methods"
   ]
  },
  {
   "cell_type": "code",
   "execution_count": 1,
   "id": "educated-consensus",
   "metadata": {},
   "outputs": [],
   "source": [
    "# S 2:\n",
    "\n",
    "def count_the_letter(text, letter):\n",
    "    \n",
    "    return text.count(letter)\n",
    "    "
   ]
  },
  {
   "cell_type": "code",
   "execution_count": 2,
   "id": "lovely-diameter",
   "metadata": {},
   "outputs": [
    {
     "name": "stdin",
     "output_type": "stream",
     "text": [
      "Please enter a text:  Python Hands-On is a perfect course.\n",
      "Now a letter:  e\n"
     ]
    },
    {
     "data": {
      "text/plain": [
       "3"
      ]
     },
     "execution_count": 2,
     "metadata": {},
     "output_type": "execute_result"
    }
   ],
   "source": [
    "text = input('Please enter a text: ')\n",
    "letter = input('Now a letter: ')\n",
    "count_the_letter(text, letter)"
   ]
  },
  {
   "cell_type": "markdown",
   "id": "quick-jewelry",
   "metadata": {},
   "source": [
    "---"
   ]
  },
  {
   "cell_type": "markdown",
   "id": "continuous-genealogy",
   "metadata": {},
   "source": [
    "**Q 3:**\n",
    "\n",
    "Define a function named **count_letters**.\n",
    "\n",
    "It will ask for sentence from the user.\n",
    "\n",
    "And it will count the occurences of each letter and print it.\n",
    "\n",
    "**Hints:**\n",
    "* Do not count space character\n",
    "* Use the function you defined in Q2.\n",
    "\n",
    "<pre>\n",
    "Expected Output:\n",
    "\n",
    "Please enter a sentence:  pandas\n",
    "letter p: 1 time(s)\n",
    "letter a: 2 time(s)\n",
    "letter n: 1 time(s)\n",
    "letter d: 1 time(s)\n",
    "letter s: 1 time(s)\n",
    "</pre>"
   ]
  },
  {
   "cell_type": "code",
   "execution_count": 9,
   "id": "committed-newark",
   "metadata": {},
   "outputs": [],
   "source": [
    "# S 3:\n",
    "\n",
    "def count_letters():\n",
    "    \n",
    "    sentence = input('Please enter a sentence: ')\n",
    "    \n",
    "    letters_printed = \"\"\n",
    "    \n",
    "    for letter in sentence:\n",
    "        \n",
    "        # if it's a space -> continue\n",
    "        if letter == ' ':\n",
    "            continue\n",
    "            \n",
    "        # this letter is not a space\n",
    "        count = count_the_letter(sentence, letter)\n",
    "        \n",
    "        # print\n",
    "        # check if already printed\n",
    "        if not letter in letters_printed:\n",
    "            print(\"letter {0}: {1} time(s)\".format(letter, count))\n",
    "            letters_printed += letter\n",
    "        "
   ]
  },
  {
   "cell_type": "code",
   "execution_count": 10,
   "id": "civil-helena",
   "metadata": {},
   "outputs": [
    {
     "name": "stdin",
     "output_type": "stream",
     "text": [
      "Please enter a sentence:  pandas\n"
     ]
    },
    {
     "name": "stdout",
     "output_type": "stream",
     "text": [
      "letter p: 1 time(s)\n",
      "letter a: 2 time(s)\n",
      "letter n: 1 time(s)\n",
      "letter d: 1 time(s)\n",
      "letter s: 1 time(s)\n"
     ]
    }
   ],
   "source": [
    "count_letters()"
   ]
  },
  {
   "cell_type": "markdown",
   "id": "narrative-apache",
   "metadata": {},
   "source": [
    "---"
   ]
  },
  {
   "cell_type": "markdown",
   "id": "arabic-korea",
   "metadata": {},
   "source": [
    "**Q 4:**\n",
    "\n",
    "Your text is:\n",
    "\n",
    "'Monday Tuesday Wednesday Thursday Friday'.\n",
    "\n",
    "Do slicing operations on this text and answer the following questions:\n",
    "\n",
    "<pre>\n",
    "* find the first 3 chars\n",
    "* find the chars between index 7 and 10 (inc.)\n",
    "* find the chars between index 2 and 12 (exc.)\n",
    "* find the chars at indices 3, 4 and 5\n",
    "</pre>"
   ]
  },
  {
   "cell_type": "code",
   "execution_count": 11,
   "id": "parental-germany",
   "metadata": {},
   "outputs": [],
   "source": [
    "# S 4:\n",
    "\n",
    "text = 'Monday Tuesday Wednesday Thursday Friday'"
   ]
  },
  {
   "cell_type": "code",
   "execution_count": 12,
   "id": "d49b22bd-954d-4b23-97ff-817a40cfdc58",
   "metadata": {},
   "outputs": [
    {
     "data": {
      "text/plain": [
       "'Mon'"
      ]
     },
     "execution_count": 12,
     "metadata": {},
     "output_type": "execute_result"
    }
   ],
   "source": [
    "# find the first 3 chars\n",
    "\n",
    "# text[0:3]\n",
    "\n",
    "text[:3]"
   ]
  },
  {
   "cell_type": "code",
   "execution_count": 13,
   "id": "1527793f-98b8-48c2-b93e-803f2f853b65",
   "metadata": {},
   "outputs": [
    {
     "data": {
      "text/plain": [
       "'Tues'"
      ]
     },
     "execution_count": 13,
     "metadata": {},
     "output_type": "execute_result"
    }
   ],
   "source": [
    "# find the chars between index 7 and 10 (inc.)\n",
    "\n",
    "text[7:11]"
   ]
  },
  {
   "cell_type": "code",
   "execution_count": 14,
   "id": "a0962e13-d5f9-4a7d-944d-e799ad300e37",
   "metadata": {},
   "outputs": [
    {
     "data": {
      "text/plain": [
       "'nday Tuesd'"
      ]
     },
     "execution_count": 14,
     "metadata": {},
     "output_type": "execute_result"
    }
   ],
   "source": [
    "# find the chars between index 2 and 12 (exc.)\n",
    "\n",
    "text[2:12]"
   ]
  },
  {
   "cell_type": "code",
   "execution_count": 15,
   "id": "1ddd82f3-1c7c-4c11-ba75-ab9fdf26a409",
   "metadata": {},
   "outputs": [
    {
     "data": {
      "text/plain": [
       "'day'"
      ]
     },
     "execution_count": 15,
     "metadata": {},
     "output_type": "execute_result"
    }
   ],
   "source": [
    "# find the chars at indices 3,4 and 5\n",
    "\n",
    "text[3:6]"
   ]
  },
  {
   "cell_type": "markdown",
   "id": "fallen-miracle",
   "metadata": {},
   "source": [
    "---"
   ]
  },
  {
   "cell_type": "markdown",
   "id": "spanish-medicare",
   "metadata": {},
   "source": [
    "**Q 5:**\n",
    "\n",
    "Your text is:\n",
    "\n",
    "'Monday Tuesday Wednesday'\n",
    "\n",
    "Do slicing operations on this text and answer the following questions:\n",
    "\n",
    "<pre>\n",
    "* find the chars from index 1 to 7 with step size 2\n",
    "* find the chars from index 3 to 20 with step size 3\n",
    "* find the chars with even indices (0, 2, 4, 6 ...)\n",
    "* find the chars with odd indices (1, 3, 5, 7 ...)\n",
    "</pre>"
   ]
  },
  {
   "cell_type": "code",
   "execution_count": 16,
   "id": "varying-fight",
   "metadata": {},
   "outputs": [],
   "source": [
    "# S 5:\n",
    "\n",
    "text = 'Monday Tuesday Wednesday'"
   ]
  },
  {
   "cell_type": "code",
   "execution_count": 17,
   "id": "d4410ce5-bcac-497d-be91-8e2e461b39d1",
   "metadata": {},
   "outputs": [
    {
     "data": {
      "text/plain": [
       "'ody'"
      ]
     },
     "execution_count": 17,
     "metadata": {},
     "output_type": "execute_result"
    }
   ],
   "source": [
    "# find the chars from index 1 to 7 with step size 2\n",
    "\n",
    "text[1:7:2]"
   ]
  },
  {
   "cell_type": "code",
   "execution_count": 18,
   "id": "34ce06aa-3593-4c3d-b071-7251b98dc4d8",
   "metadata": {},
   "outputs": [
    {
     "data": {
      "text/plain": [
       "'d eaWn'"
      ]
     },
     "execution_count": 18,
     "metadata": {},
     "output_type": "execute_result"
    }
   ],
   "source": [
    "# find the chars from index 3 to 20 with step size 3\n",
    "\n",
    "text[3:20:3]"
   ]
  },
  {
   "cell_type": "code",
   "execution_count": 19,
   "id": "ff50077f-9ad5-4942-a627-234277e3d108",
   "metadata": {},
   "outputs": [
    {
     "data": {
      "text/plain": [
       "'Mna usa ensa'"
      ]
     },
     "execution_count": 19,
     "metadata": {},
     "output_type": "execute_result"
    }
   ],
   "source": [
    "# find the chars with even indices (0, 2, 4, 6 ...)\n",
    "\n",
    "text[::2]"
   ]
  },
  {
   "cell_type": "code",
   "execution_count": 20,
   "id": "43ed06e4-399b-456e-89df-916708c17e6a",
   "metadata": {},
   "outputs": [
    {
     "data": {
      "text/plain": [
       "'odyTedyWdedy'"
      ]
     },
     "execution_count": 20,
     "metadata": {},
     "output_type": "execute_result"
    }
   ],
   "source": [
    "# find the chars with odd indices (1, 3, 5, 7 ...)\n",
    "\n",
    "text[1::2]"
   ]
  },
  {
   "cell_type": "markdown",
   "id": "systematic-confirmation",
   "metadata": {},
   "source": [
    "---"
   ]
  },
  {
   "cell_type": "markdown",
   "id": "backed-module",
   "metadata": {},
   "source": [
    "**Q 6:**\n",
    "\n",
    "Your text:\n",
    "\n",
    "'Monday Tuesday Wednesday'\n",
    "\n",
    "Do slicing operations on this text and answer the following questions:\n",
    "\n",
    "<pre>\n",
    "* find the last character\n",
    "* find the 3rd character from last\n",
    "* find last 3 characters\n",
    "* print the text in reverse order\n",
    "</pre>"
   ]
  },
  {
   "cell_type": "code",
   "execution_count": 21,
   "id": "structural-marketing",
   "metadata": {},
   "outputs": [],
   "source": [
    "# S 6:\n",
    "\n",
    "text = 'Monday Tuesday Wednesday'"
   ]
  },
  {
   "cell_type": "code",
   "execution_count": 23,
   "id": "574bd82b-d570-4314-9b22-811a6f9c1076",
   "metadata": {},
   "outputs": [
    {
     "data": {
      "text/plain": [
       "'y'"
      ]
     },
     "execution_count": 23,
     "metadata": {},
     "output_type": "execute_result"
    }
   ],
   "source": [
    "# find the last character\n",
    "\n",
    "text[-1]"
   ]
  },
  {
   "cell_type": "code",
   "execution_count": 24,
   "id": "b6b24603-cc94-44b2-830c-62bfd3ddb09b",
   "metadata": {},
   "outputs": [
    {
     "data": {
      "text/plain": [
       "'d'"
      ]
     },
     "execution_count": 24,
     "metadata": {},
     "output_type": "execute_result"
    }
   ],
   "source": [
    "# find the 3rd character from last\n",
    "\n",
    "text[-3]"
   ]
  },
  {
   "cell_type": "code",
   "execution_count": 25,
   "id": "83be3992-0fa5-4d97-a6ae-101d02b2a824",
   "metadata": {},
   "outputs": [
    {
     "data": {
      "text/plain": [
       "'day'"
      ]
     },
     "execution_count": 25,
     "metadata": {},
     "output_type": "execute_result"
    }
   ],
   "source": [
    "# find last 3 characters\n",
    "# -3, -2, -1\n",
    "\n",
    "text[-3:]"
   ]
  },
  {
   "cell_type": "code",
   "execution_count": 26,
   "id": "c94dfb71-2e26-4318-9779-9ac9ace996d4",
   "metadata": {},
   "outputs": [
    {
     "data": {
      "text/plain": [
       "'yadsendeW yadseuT yadnoM'"
      ]
     },
     "execution_count": 26,
     "metadata": {},
     "output_type": "execute_result"
    }
   ],
   "source": [
    "# print the text in reverse order\n",
    "\n",
    "text[::-1]"
   ]
  },
  {
   "cell_type": "markdown",
   "id": "confidential-porter",
   "metadata": {},
   "source": [
    "---"
   ]
  },
  {
   "cell_type": "markdown",
   "id": "purple-leisure",
   "metadata": {},
   "source": [
    "**Q 7:**\n",
    "\n",
    "Your text:\n",
    "\n",
    "'Monday Tuesday Wednesday'\n",
    "\n",
    "Do slicing operations on this text and answer the following questions:\n",
    "\n",
    "<pre>\n",
    "* find the chars between 2nd and 6th from last\n",
    "* find the chars between 2nd (inc.) and 6th from last\n",
    "* find the negative index which correspond to the char with index 10\n",
    "* find all characters except the last one\n",
    "* find all characters except the fist and the last one\n",
    "</pre>"
   ]
  },
  {
   "cell_type": "code",
   "execution_count": 27,
   "id": "round-vegetable",
   "metadata": {},
   "outputs": [],
   "source": [
    "# S 7:\n",
    "\n",
    "text = 'Monday Tuesday Wednesday'"
   ]
  },
  {
   "cell_type": "code",
   "execution_count": 28,
   "id": "d0d55936-1fde-4e97-a7e9-88f5f90351dc",
   "metadata": {},
   "outputs": [
    {
     "data": {
      "text/plain": [
       "'nesd'"
      ]
     },
     "execution_count": 28,
     "metadata": {},
     "output_type": "execute_result"
    }
   ],
   "source": [
    "# find the chars between 2nd and 6th from last\n",
    "# \"-6, -5, -4, -3,\" -2, -1\n",
    "\n",
    "text[-6:-2]"
   ]
  },
  {
   "cell_type": "code",
   "execution_count": 29,
   "id": "9e983917-ea26-486f-9b09-8c4a08e777da",
   "metadata": {},
   "outputs": [
    {
     "data": {
      "text/plain": [
       "'nesda'"
      ]
     },
     "execution_count": 29,
     "metadata": {},
     "output_type": "execute_result"
    }
   ],
   "source": [
    "# find the chars between 2nd (inc.) and 6th from last\n",
    "# \"-6, -5, -4, -3, -2,\" -1\n",
    "\n",
    "text[-6:-1]"
   ]
  },
  {
   "cell_type": "code",
   "execution_count": 31,
   "id": "dbc04fef-dc6d-4e34-8cae-5d363a886f21",
   "metadata": {},
   "outputs": [
    {
     "name": "stdout",
     "output_type": "stream",
     "text": [
      "negative_index:  -14\n"
     ]
    }
   ],
   "source": [
    "# find the negative index which correspond to the char with index 10\n",
    "\n",
    "# abs(index) + abs(negative_index) = length\n",
    "\n",
    "length = len(text)\n",
    "\n",
    "negative_index = length - 10\n",
    "\n",
    "negative_index = -negative_index\n",
    "\n",
    "print('negative_index: ', negative_index)\n"
   ]
  },
  {
   "cell_type": "code",
   "execution_count": 32,
   "id": "b302f3eb-2a89-4621-9c3f-89ca661a2aa1",
   "metadata": {},
   "outputs": [
    {
     "data": {
      "text/plain": [
       "('s', 's')"
      ]
     },
     "execution_count": 32,
     "metadata": {},
     "output_type": "execute_result"
    }
   ],
   "source": [
    "text[10], text[-14]"
   ]
  },
  {
   "cell_type": "code",
   "execution_count": 33,
   "id": "e3ee0a2d-8326-4acc-91ac-b568d73d2410",
   "metadata": {},
   "outputs": [
    {
     "data": {
      "text/plain": [
       "'Monday Tuesday Wednesda'"
      ]
     },
     "execution_count": 33,
     "metadata": {},
     "output_type": "execute_result"
    }
   ],
   "source": [
    "# find all characters except the last one\n",
    "\n",
    "text[:-1]"
   ]
  },
  {
   "cell_type": "code",
   "execution_count": 34,
   "id": "9865906b-fb9e-44c6-98c3-e5eac00cdaad",
   "metadata": {},
   "outputs": [
    {
     "data": {
      "text/plain": [
       "'onday Tuesday Wednesda'"
      ]
     },
     "execution_count": 34,
     "metadata": {},
     "output_type": "execute_result"
    }
   ],
   "source": [
    "# find all characters except the fist and the last one\n",
    "\n",
    "text[1:-1]"
   ]
  },
  {
   "cell_type": "markdown",
   "id": "coordinate-tension",
   "metadata": {},
   "source": [
    "---"
   ]
  },
  {
   "cell_type": "markdown",
   "id": "bored-playlist",
   "metadata": {},
   "source": [
    "**Q 8:**\n",
    "\n",
    "Define a function named **split_email**.\n",
    "\n",
    "It will ask for an email from the user.\n",
    "\n",
    "And it will split the email into user name and domain name using **index**.\n",
    "\n",
    "**Hints:**\n",
    "* if the input doesn't include '@' char, return a text as 'Invalid email format.'\n",
    "\n",
    "<pre>\n",
    "Expected output:\n",
    "\n",
    "Please enter an email:  abc@acme.corp\n",
    "User Name: abc\n",
    "Domain: acme.corp\n",
    "</pre>"
   ]
  },
  {
   "cell_type": "code",
   "execution_count": 44,
   "id": "possible-chase",
   "metadata": {},
   "outputs": [],
   "source": [
    "# S 8:\n",
    "\n",
    "\n",
    "    "
   ]
  },
  {
   "cell_type": "code",
   "execution_count": 45,
   "id": "inside-outside",
   "metadata": {},
   "outputs": [
    {
     "name": "stdin",
     "output_type": "stream",
     "text": [
      "Please enter an email:  sdfasf\n"
     ]
    },
    {
     "name": "stdout",
     "output_type": "stream",
     "text": [
      "Invalid email format.\n"
     ]
    }
   ],
   "source": [
    "split_email()"
   ]
  },
  {
   "cell_type": "code",
   "execution_count": 47,
   "id": "reverse-archive",
   "metadata": {},
   "outputs": [
    {
     "name": "stdin",
     "output_type": "stream",
     "text": [
      "Please enter an email:  example_email@test.com\n"
     ]
    },
    {
     "name": "stdout",
     "output_type": "stream",
     "text": [
      "User Name: example_email\n",
      "Domain: test.com\n"
     ]
    }
   ],
   "source": [
    "split_email()"
   ]
  },
  {
   "cell_type": "code",
   "execution_count": 48,
   "id": "completed-campbell",
   "metadata": {},
   "outputs": [
    {
     "name": "stdin",
     "output_type": "stream",
     "text": [
      "Please enter an email:  abc@acme.corp\n"
     ]
    },
    {
     "name": "stdout",
     "output_type": "stream",
     "text": [
      "User Name: abc\n",
      "Domain: acme.corp\n"
     ]
    }
   ],
   "source": [
    "split_email()"
   ]
  },
  {
   "cell_type": "markdown",
   "id": "honey-prescription",
   "metadata": {},
   "source": [
    "---"
   ]
  },
  {
   "cell_type": "markdown",
   "id": "black-bride",
   "metadata": {},
   "source": [
    "**Q 9:**\n",
    "\n",
    "Define a function named **reverse**.\n",
    "\n",
    "It will ask for a sentence from the user and return the reverse of this sentence.\n",
    "\n",
    "<pre>\n",
    "Expected Output:\n",
    "\n",
    "Please enter a sentence:  yesterday came suddenly\n",
    "'ylneddus emac yadretsey\n",
    "</pre>"
   ]
  },
  {
   "cell_type": "code",
   "execution_count": 49,
   "id": "acceptable-conviction",
   "metadata": {},
   "outputs": [],
   "source": [
    "# S 9:\n",
    "\n",
    "\n"
   ]
  },
  {
   "cell_type": "code",
   "execution_count": 51,
   "id": "adjacent-official",
   "metadata": {},
   "outputs": [
    {
     "name": "stdin",
     "output_type": "stream",
     "text": [
      "Please enter a sentence:  yesterday came suddenly\n"
     ]
    },
    {
     "data": {
      "text/plain": [
       "'ylneddus emac yadretsey'"
      ]
     },
     "execution_count": 51,
     "metadata": {},
     "output_type": "execute_result"
    }
   ],
   "source": [
    "reverse()"
   ]
  },
  {
   "cell_type": "code",
   "execution_count": 52,
   "id": "affecting-terror",
   "metadata": {},
   "outputs": [
    {
     "name": "stdin",
     "output_type": "stream",
     "text": [
      "Please enter a sentence:  python data science\n"
     ]
    },
    {
     "data": {
      "text/plain": [
       "'ecneics atad nohtyp'"
      ]
     },
     "execution_count": 52,
     "metadata": {},
     "output_type": "execute_result"
    }
   ],
   "source": [
    "reverse()"
   ]
  },
  {
   "cell_type": "markdown",
   "id": "colored-boost",
   "metadata": {},
   "source": [
    "---"
   ]
  },
  {
   "cell_type": "markdown",
   "id": "encouraging-shirt",
   "metadata": {},
   "source": [
    "**Q 10:**\n",
    "\n",
    "Define a function named **replace_with_next_letter**.\n",
    "\n",
    "It will ask for an input from the user.\n",
    "\n",
    "And will replace every character with the next letter in the English alphabet.\n",
    "\n",
    "**Hints:**\n",
    "* use nested functions\n",
    "* there should be is_lower() and is_upper() functions to check whether the char is small or upper\n",
    "* there should be next_letter() function to take a letter and return the next one from alphabet\n",
    "* alphabets:\n",
    "    * alphabet_lower = 'abcdefghijklmnoprstuvyz'\n",
    "    * alphabet_upper = 'ABCDEFGHIJKLMNOPRSTUVYZ'\n",
    "* use index to get the related letter\n",
    "\n",
    "<pre>\n",
    "Expected Output:\n",
    "\n",
    "Please enter a text:  Python\n",
    "Rzuipo\n",
    "\n",
    "Please enter a text:  abcZ\n",
    "bcdA\n",
    "</pre>"
   ]
  },
  {
   "cell_type": "code",
   "execution_count": 58,
   "id": "novel-hollywood",
   "metadata": {},
   "outputs": [],
   "source": [
    "# S 10:\n",
    "\n",
    "\n",
    "\n",
    "    "
   ]
  },
  {
   "cell_type": "code",
   "execution_count": 59,
   "id": "electoral-panama",
   "metadata": {},
   "outputs": [
    {
     "name": "stdin",
     "output_type": "stream",
     "text": [
      "Please enter a text:  Python\n"
     ]
    },
    {
     "name": "stdout",
     "output_type": "stream",
     "text": [
      "Rzuipo\n"
     ]
    }
   ],
   "source": [
    "new_text = replace_with_next_letter()\n",
    "print(new_text)"
   ]
  },
  {
   "cell_type": "code",
   "execution_count": 60,
   "id": "advisory-python",
   "metadata": {},
   "outputs": [
    {
     "name": "stdin",
     "output_type": "stream",
     "text": [
      "Please enter a text:  abcZ\n"
     ]
    },
    {
     "name": "stdout",
     "output_type": "stream",
     "text": [
      "bcdA\n"
     ]
    }
   ],
   "source": [
    "new_text = replace_with_next_letter()\n",
    "print(new_text)"
   ]
  },
  {
   "cell_type": "code",
   "execution_count": null,
   "id": "compressed-saint",
   "metadata": {},
   "outputs": [],
   "source": []
  }
 ],
 "metadata": {
  "kernelspec": {
   "display_name": "Python 3 (ipykernel)",
   "language": "python",
   "name": "python3"
  },
  "language_info": {
   "codemirror_mode": {
    "name": "ipython",
    "version": 3
   },
   "file_extension": ".py",
   "mimetype": "text/x-python",
   "name": "python",
   "nbconvert_exporter": "python",
   "pygments_lexer": "ipython3",
   "version": "3.8.12"
  }
 },
 "nbformat": 4,
 "nbformat_minor": 5
}
