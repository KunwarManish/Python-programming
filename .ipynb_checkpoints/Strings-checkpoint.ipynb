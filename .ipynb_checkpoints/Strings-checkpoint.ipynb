{
 "cells": [
  {
   "cell_type": "markdown",
   "id": "16bd5c2c-84bb-47c1-be1b-3291ee6122bb",
   "metadata": {},
   "source": [
    "# Strings"
   ]
  },
  {
   "cell_type": "markdown",
   "id": "3e8d466d-fa7d-40b9-9ae0-6d505f248f31",
   "metadata": {},
   "source": [
    "Strings are different from other primitive types, int, float, bool."
   ]
  },
  {
   "cell_type": "markdown",
   "id": "1f3d625b-2ada-4351-8f53-b0c7185941e2",
   "metadata": {},
   "source": [
    "Strings are sequence."
   ]
  },
  {
   "cell_type": "markdown",
   "id": "e96d1182-8340-479c-b017-d36684b362c2",
   "metadata": {},
   "source": [
    "Strings include array of characters in them."
   ]
  },
  {
   "cell_type": "markdown",
   "id": "5a0281dd-5d29-489e-b223-a9f228f73576",
   "metadata": {},
   "source": [
    "**Ex:**\n",
    "\n",
    "\"Python\" -> P y t h o n"
   ]
  },
  {
   "cell_type": "markdown",
   "id": "190981b6-c926-4d56-9fde-9d0355450312",
   "metadata": {},
   "source": [
    "**Sequence Types:**\n",
    "* String\n",
    "* List\n",
    "* Tuple"
   ]
  },
  {
   "cell_type": "markdown",
   "id": "39de65ca-e9dc-4455-b395-e9842457ec1d",
   "metadata": {},
   "source": [
    "# String is a Squence"
   ]
  },
  {
   "cell_type": "code",
   "execution_count": 1,
   "id": "61eb7327-c591-4901-bda3-91e4b0c966a2",
   "metadata": {},
   "outputs": [
    {
     "data": {
      "text/plain": [
       "'orange'"
      ]
     },
     "execution_count": 1,
     "metadata": {},
     "output_type": "execute_result"
    }
   ],
   "source": [
    "fruit = 'orange'\n",
    "fruit"
   ]
  },
  {
   "cell_type": "code",
   "execution_count": 2,
   "id": "6954d461-99f9-4154-b9e5-188ba695e4e3",
   "metadata": {},
   "outputs": [
    {
     "data": {
      "text/plain": [
       "'o'"
      ]
     },
     "execution_count": 2,
     "metadata": {},
     "output_type": "execute_result"
    }
   ],
   "source": [
    "fruit[0]"
   ]
  },
  {
   "cell_type": "code",
   "execution_count": 3,
   "id": "3fa2d8bf-1b46-4928-b7a0-444e9006a86d",
   "metadata": {},
   "outputs": [
    {
     "data": {
      "text/plain": [
       "'r'"
      ]
     },
     "execution_count": 3,
     "metadata": {},
     "output_type": "execute_result"
    }
   ],
   "source": [
    "fruit[1]"
   ]
  },
  {
   "cell_type": "markdown",
   "id": "9f06a11b-14c4-4ce1-91bd-314f8658f08e",
   "metadata": {},
   "source": [
    "In Python, for sequence types, we access elements via indices.\n",
    "\n",
    "`sequence[index]`"
   ]
  },
  {
   "cell_type": "markdown",
   "id": "ed052b8f-7900-4f67-a9c1-8c4d0dd44b0f",
   "metadata": {},
   "source": [
    "**In Python, index start from 0:**\n",
    "\n",
    "0,1,2,3,...."
   ]
  },
  {
   "cell_type": "raw",
   "id": "4548293d-3ad6-418d-91b8-fc59b53232fa",
   "metadata": {},
   "source": [
    "fruit\n",
    "get the element in the third  (3rd) order\n",
    "\n",
    "Orders:\n",
    "1 2 3 4 5 6     \n",
    "o r a n g e\n",
    "0 1 2 3 4 5\n",
    "Index: \n",
    "    "
   ]
  },
  {
   "cell_type": "code",
   "execution_count": 6,
   "id": "b45f64c8-a1fc-4cfc-a16a-b86cad9d98b2",
   "metadata": {},
   "outputs": [
    {
     "data": {
      "text/plain": [
       "'a'"
      ]
     },
     "execution_count": 6,
     "metadata": {},
     "output_type": "execute_result"
    }
   ],
   "source": [
    "# we want the letter in fruit of order 3\n",
    "# order 3 = index 2\n",
    "\n",
    "fruit[2]"
   ]
  },
  {
   "cell_type": "code",
   "execution_count": 7,
   "id": "cf1c09ec-7187-4380-a20c-9f87c9401338",
   "metadata": {},
   "outputs": [
    {
     "data": {
      "text/plain": [
       "'e'"
      ]
     },
     "execution_count": 7,
     "metadata": {},
     "output_type": "execute_result"
    }
   ],
   "source": [
    "# the letter in 6th order\n",
    "# order 6 = index 5\n",
    "\n",
    "fruit[5]"
   ]
  },
  {
   "cell_type": "code",
   "execution_count": null,
   "id": "40a1b958-d432-464f-9021-0745f37519ab",
   "metadata": {},
   "outputs": [],
   "source": [
    "# get the last element\n"
   ]
  }
 ],
 "metadata": {
  "kernelspec": {
   "display_name": "Python 3 (ipykernel)",
   "language": "python",
   "name": "python3"
  },
  "language_info": {
   "codemirror_mode": {
    "name": "ipython",
    "version": 3
   },
   "file_extension": ".py",
   "mimetype": "text/x-python",
   "name": "python",
   "nbconvert_exporter": "python",
   "pygments_lexer": "ipython3",
   "version": "3.8.12"
  }
 },
 "nbformat": 4,
 "nbformat_minor": 5
}
