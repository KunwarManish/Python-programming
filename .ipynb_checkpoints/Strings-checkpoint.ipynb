{
 "cells": [
  {
   "cell_type": "markdown",
   "id": "16bd5c2c-84bb-47c1-be1b-3291ee6122bb",
   "metadata": {},
   "source": [
    "# Strings"
   ]
  },
  {
   "cell_type": "markdown",
   "id": "3e8d466d-fa7d-40b9-9ae0-6d505f248f31",
   "metadata": {},
   "source": [
    "Strings are different from other primitive types, int, float, bool."
   ]
  },
  {
   "cell_type": "markdown",
   "id": "1f3d625b-2ada-4351-8f53-b0c7185941e2",
   "metadata": {},
   "source": [
    "Strings are sequence."
   ]
  },
  {
   "cell_type": "markdown",
   "id": "e96d1182-8340-479c-b017-d36684b362c2",
   "metadata": {},
   "source": [
    "Strings include array of characters in them."
   ]
  },
  {
   "cell_type": "markdown",
   "id": "5a0281dd-5d29-489e-b223-a9f228f73576",
   "metadata": {},
   "source": [
    "**Ex:**\n",
    "\n",
    "\"Python\" -> P y t h o n"
   ]
  },
  {
   "cell_type": "markdown",
   "id": "190981b6-c926-4d56-9fde-9d0355450312",
   "metadata": {},
   "source": [
    "**Sequence Types:**\n",
    "* String\n",
    "* List\n",
    "* Tuple"
   ]
  },
  {
   "cell_type": "markdown",
   "id": "39de65ca-e9dc-4455-b395-e9842457ec1d",
   "metadata": {},
   "source": [
    "# String is a Squence"
   ]
  },
  {
   "cell_type": "code",
   "execution_count": 1,
   "id": "61eb7327-c591-4901-bda3-91e4b0c966a2",
   "metadata": {},
   "outputs": [
    {
     "data": {
      "text/plain": [
       "'orange'"
      ]
     },
     "execution_count": 1,
     "metadata": {},
     "output_type": "execute_result"
    }
   ],
   "source": [
    "fruit = 'orange'\n",
    "fruit"
   ]
  },
  {
   "cell_type": "code",
   "execution_count": 2,
   "id": "6954d461-99f9-4154-b9e5-188ba695e4e3",
   "metadata": {},
   "outputs": [
    {
     "data": {
      "text/plain": [
       "'o'"
      ]
     },
     "execution_count": 2,
     "metadata": {},
     "output_type": "execute_result"
    }
   ],
   "source": [
    "fruit[0]"
   ]
  },
  {
   "cell_type": "code",
   "execution_count": 3,
   "id": "3fa2d8bf-1b46-4928-b7a0-444e9006a86d",
   "metadata": {},
   "outputs": [
    {
     "data": {
      "text/plain": [
       "'r'"
      ]
     },
     "execution_count": 3,
     "metadata": {},
     "output_type": "execute_result"
    }
   ],
   "source": [
    "fruit[1]"
   ]
  },
  {
   "cell_type": "markdown",
   "id": "9f06a11b-14c4-4ce1-91bd-314f8658f08e",
   "metadata": {},
   "source": [
    "In Python, for sequence types, we access elements via indices.\n",
    "\n",
    "`sequence[index]`"
   ]
  },
  {
   "cell_type": "markdown",
   "id": "ed052b8f-7900-4f67-a9c1-8c4d0dd44b0f",
   "metadata": {},
   "source": [
    "**In Python, index start from 0:**\n",
    "\n",
    "0,1,2,3,...."
   ]
  },
  {
   "cell_type": "raw",
   "id": "4548293d-3ad6-418d-91b8-fc59b53232fa",
   "metadata": {},
   "source": [
    "fruit\n",
    "get the element in the third  (3rd) order\n",
    "\n",
    "Orders:\n",
    "1 2 3 4 5 6     \n",
    "o r a n g e\n",
    "0 1 2 3 4 5\n",
    "Index: \n",
    "    "
   ]
  },
  {
   "cell_type": "code",
   "execution_count": 6,
   "id": "b45f64c8-a1fc-4cfc-a16a-b86cad9d98b2",
   "metadata": {},
   "outputs": [
    {
     "data": {
      "text/plain": [
       "'a'"
      ]
     },
     "execution_count": 6,
     "metadata": {},
     "output_type": "execute_result"
    }
   ],
   "source": [
    "# we want the letter in fruit of order 3\n",
    "# order 3 = index 2\n",
    "\n",
    "fruit[2]"
   ]
  },
  {
   "cell_type": "code",
   "execution_count": 7,
   "id": "cf1c09ec-7187-4380-a20c-9f87c9401338",
   "metadata": {},
   "outputs": [
    {
     "data": {
      "text/plain": [
       "'e'"
      ]
     },
     "execution_count": 7,
     "metadata": {},
     "output_type": "execute_result"
    }
   ],
   "source": [
    "# the letter in 6th order\n",
    "# order 6 = index 5\n",
    "\n",
    "fruit[5]"
   ]
  },
  {
   "cell_type": "code",
   "execution_count": 1,
   "id": "40a1b958-d432-464f-9021-0745f37519ab",
   "metadata": {},
   "outputs": [],
   "source": [
    "# get the last element"
   ]
  },
  {
   "cell_type": "markdown",
   "id": "7c767047-0db4-4ce9-94ab-988cc27cdd6f",
   "metadata": {},
   "source": [
    "## String Length (len)"
   ]
  },
  {
   "cell_type": "markdown",
   "id": "b7053c56-2d1b-4275-898c-f3ef6eefcdea",
   "metadata": {},
   "source": [
    "In Python, to get the length of sequence types we use standard function: `len()`"
   ]
  },
  {
   "cell_type": "code",
   "execution_count": 4,
   "id": "bb5e3d90-9805-4cb4-a490-2b8e75ed44bb",
   "metadata": {},
   "outputs": [
    {
     "data": {
      "text/plain": [
       "'orange'"
      ]
     },
     "execution_count": 4,
     "metadata": {},
     "output_type": "execute_result"
    }
   ],
   "source": [
    "fruit = 'orange'\n",
    "fruit"
   ]
  },
  {
   "cell_type": "code",
   "execution_count": 5,
   "id": "c657e967-6125-44a3-b01b-cf1c16b6e88d",
   "metadata": {},
   "outputs": [
    {
     "data": {
      "text/plain": [
       "6"
      ]
     },
     "execution_count": 5,
     "metadata": {},
     "output_type": "execute_result"
    }
   ],
   "source": [
    "# length of fruit\n",
    "\n",
    "len(fruit)"
   ]
  },
  {
   "cell_type": "markdown",
   "id": "31ec6b8e-c958-4fca-9508-90aa1be39491",
   "metadata": {},
   "source": [
    "We want to get the last element -> the index = 5"
   ]
  },
  {
   "cell_type": "code",
   "execution_count": 7,
   "id": "0376942a-a543-4842-9a10-251e6ad209c3",
   "metadata": {},
   "outputs": [
    {
     "name": "stdout",
     "output_type": "stream",
     "text": [
      "last index: 5\n",
      "last element: e\n"
     ]
    }
   ],
   "source": [
    "# the last element -> order 6\n",
    "# index = 5\n",
    "# last index = length -1\n",
    "\n",
    "last_index = len(fruit) -1\n",
    "print('last index:', last_index)\n",
    "\n",
    "last_element = fruit[last_index]\n",
    "print(\"last element:\", last_element)"
   ]
  },
  {
   "cell_type": "code",
   "execution_count": 8,
   "id": "0c567345-7f07-429a-a70f-191bf9b3e63c",
   "metadata": {},
   "outputs": [
    {
     "data": {
      "text/plain": [
       "'e'"
      ]
     },
     "execution_count": 8,
     "metadata": {},
     "output_type": "execute_result"
    }
   ],
   "source": [
    "# in one line\n",
    "# last element\n",
    "\n",
    "fruit[len(fruit)-1]"
   ]
  },
  {
   "cell_type": "code",
   "execution_count": 9,
   "id": "084639d7-ae27-495b-836d-7dfbcb39657e",
   "metadata": {},
   "outputs": [
    {
     "ename": "IndexError",
     "evalue": "string index out of range",
     "output_type": "error",
     "traceback": [
      "\u001b[1;31m---------------------------------------------------------------------------\u001b[0m",
      "\u001b[1;31mIndexError\u001b[0m                                Traceback (most recent call last)",
      "\u001b[1;32m~\\AppData\\Local\\Temp/ipykernel_9444/3643081050.py\u001b[0m in \u001b[0;36m<module>\u001b[1;34m\u001b[0m\n\u001b[0;32m      3\u001b[0m \u001b[1;31m# fruit[6]\u001b[0m\u001b[1;33m\u001b[0m\u001b[1;33m\u001b[0m\u001b[1;33m\u001b[0m\u001b[0m\n\u001b[0;32m      4\u001b[0m \u001b[1;33m\u001b[0m\u001b[0m\n\u001b[1;32m----> 5\u001b[1;33m \u001b[0mfruit\u001b[0m\u001b[1;33m[\u001b[0m\u001b[0mlen\u001b[0m\u001b[1;33m(\u001b[0m\u001b[0mfruit\u001b[0m\u001b[1;33m)\u001b[0m\u001b[1;33m]\u001b[0m\u001b[1;33m\u001b[0m\u001b[1;33m\u001b[0m\u001b[0m\n\u001b[0m\u001b[0;32m      6\u001b[0m \u001b[1;33m\u001b[0m\u001b[0m\n\u001b[0;32m      7\u001b[0m \u001b[1;31m# IndexError -> no index with this value\u001b[0m\u001b[1;33m\u001b[0m\u001b[1;33m\u001b[0m\u001b[1;33m\u001b[0m\u001b[0m\n",
      "\u001b[1;31mIndexError\u001b[0m: string index out of range"
     ]
    }
   ],
   "source": [
    "# wrong last index\n",
    "\n",
    "# fruit[6]\n",
    "\n",
    "fruit[len(fruit)]\n",
    "\n",
    "# IndexError -> no index with this value"
   ]
  },
  {
   "cell_type": "code",
   "execution_count": 10,
   "id": "a736c3f9-e889-48d9-8674-e13c5d8dfa00",
   "metadata": {},
   "outputs": [
    {
     "ename": "IndexError",
     "evalue": "string index out of range",
     "output_type": "error",
     "traceback": [
      "\u001b[1;31m---------------------------------------------------------------------------\u001b[0m",
      "\u001b[1;31mIndexError\u001b[0m                                Traceback (most recent call last)",
      "\u001b[1;32m~\\AppData\\Local\\Temp/ipykernel_9444/421212574.py\u001b[0m in \u001b[0;36m<module>\u001b[1;34m\u001b[0m\n\u001b[1;32m----> 1\u001b[1;33m \u001b[0mfruit\u001b[0m\u001b[1;33m[\u001b[0m\u001b[1;36m8\u001b[0m\u001b[1;33m]\u001b[0m\u001b[1;33m\u001b[0m\u001b[1;33m\u001b[0m\u001b[0m\n\u001b[0m",
      "\u001b[1;31mIndexError\u001b[0m: string index out of range"
     ]
    }
   ],
   "source": [
    "fruit[8]"
   ]
  },
  {
   "cell_type": "code",
   "execution_count": 11,
   "id": "2ca8d4c1-38e0-445c-9e5d-d2d0e504d19d",
   "metadata": {},
   "outputs": [
    {
     "data": {
      "text/plain": [
       "('Machine Learning', 'ALAN TURING')"
      ]
     },
     "execution_count": 11,
     "metadata": {},
     "output_type": "execute_result"
    }
   ],
   "source": [
    "\n",
    "x = 'Machine Learning'\n",
    "\n",
    "y = 'ALAN TURING'\n",
    "\n",
    "x,y"
   ]
  },
  {
   "cell_type": "code",
   "execution_count": 12,
   "id": "f1dfece3-845f-4731-85f4-4c6fad750d89",
   "metadata": {},
   "outputs": [
    {
     "data": {
      "text/plain": [
       "('Machine Learning', 'ALAN TURING')"
      ]
     },
     "execution_count": 12,
     "metadata": {},
     "output_type": "execute_result"
    }
   ],
   "source": [
    "x, y"
   ]
  },
  {
   "cell_type": "code",
   "execution_count": null,
   "id": "df1766b8-54c9-4b7f-9ec6-c56f6c34ccf1",
   "metadata": {},
   "outputs": [
    {
     "data": {
      "text/plain": [
       "(16, 11)"
      ]
     },
     "execution_count": 13,
     "metadata": {},
     "output_type": "execute_result"
    }
   ],
   "source": [
    "len(x), len(y)"
   ]
  },
  {
   "cell_type": "markdown",
   "id": "3ded09a3-2038-4faf-bc05-dea0d18c12c2",
   "metadata": {},
   "source": [
    "# String Slicing"
   ]
  },
  {
   "cell_type": "markdown",
   "id": "93fcd5c4-11df-4087-a3dd-2ea65a8971c9",
   "metadata": {},
   "source": [
    "A part of a sequence is called a `slice.`"
   ]
  },
  {
   "cell_type": "markdown",
   "id": "a17f3ca9-7041-49f6-9034-7502df394301",
   "metadata": {},
   "source": [
    "For slicing we use `indexing.`"
   ]
  },
  {
   "cell_type": "markdown",
   "id": "ef094634-433c-49b8-a4f7-e08bb647006c",
   "metadata": {},
   "source": [
    "**Slicing:**\n",
    "\n",
    "* `sequence[start : end : step]`\n",
    "* start -> leave blank -> default: 0\n",
    "* end -> leave blank -> default: last index\n",
    "* step -> leave blank -> default: 1\n",
    "* start is included, end is excluded -> [start, end]"
   ]
  },
  {
   "cell_type": "code",
   "execution_count": 7,
   "id": "2aab0f4e-5d52-4987-8ff4-374ecc996f6f",
   "metadata": {},
   "outputs": [],
   "source": [
    "s = 'Python Hands-On'"
   ]
  },
  {
   "cell_type": "markdown",
   "id": "13b2cb93-45d8-40ac-8372-063cc74e27f0",
   "metadata": {},
   "source": [
    "<pre>\n",
    "s       | P | y | t | h | o | n |   | H | a | n | d  | s  | -  | O  | n  |  \n",
    "\n",
    "index   | 0 | 1 | 2 | 3 | 4 | 5 | 6 | 7 | 8 | 9 | 10 | 11 | 12 | 13 | 14 | \n",
    "</pre>"
   ]
  },
  {
   "cell_type": "code",
   "execution_count": 4,
   "id": "6cd02e2c-6ba0-4531-849d-302880e31b20",
   "metadata": {},
   "outputs": [
    {
     "data": {
      "text/plain": [
       "'Python'"
      ]
     },
     "execution_count": 4,
     "metadata": {},
     "output_type": "execute_result"
    }
   ],
   "source": [
    "# We want to slice 'Python'\n",
    "\n",
    "s[0:6]"
   ]
  },
  {
   "cell_type": "code",
   "execution_count": 5,
   "id": "7d5e13b9-9564-47e8-93df-e0afbe2a9bd0",
   "metadata": {},
   "outputs": [
    {
     "data": {
      "text/plain": [
       "'Python'"
      ]
     },
     "execution_count": 5,
     "metadata": {},
     "output_type": "execute_result"
    }
   ],
   "source": [
    "# We don't need to put 0 for start\n",
    "\n",
    "s[:6]"
   ]
  },
  {
   "cell_type": "markdown",
   "id": "8334f436-06fd-4bed-a899-6ea22c412c19",
   "metadata": {},
   "source": [
    "**How to Read:**\n",
    "\n",
    "`s[0:6]` : Start slicing from index 0 up to index 6. (Step is 1)"
   ]
  },
  {
   "cell_type": "code",
   "execution_count": 8,
   "id": "0c246f62-d1ea-41fc-898d-7b4910273f56",
   "metadata": {},
   "outputs": [
    {
     "data": {
      "text/plain": [
       "'Hands'"
      ]
     },
     "execution_count": 8,
     "metadata": {},
     "output_type": "execute_result"
    }
   ],
   "source": [
    "# We want the word Hands\n",
    "\n",
    "s[7:12]"
   ]
  },
  {
   "cell_type": "markdown",
   "id": "32d6ff9c-1c3e-4d26-81e3-6e692f78e1c0",
   "metadata": {},
   "source": [
    "**How to Read:**\n",
    "\n",
    "`s[7:12]` : Start slicing from index 7 up to index 12. (Step is 1)"
   ]
  },
  {
   "cell_type": "markdown",
   "id": "cc89aad7-8d17-480b-ab31-967c06fdcc0d",
   "metadata": {},
   "source": [
    "**Step Size:**\n",
    "\n",
    "It determines by how much you increase/decrease the index."
   ]
  },
  {
   "cell_type": "code",
   "execution_count": 9,
   "id": "b1c41333-e0ac-42b7-a63c-417a5ef2e544",
   "metadata": {},
   "outputs": [
    {
     "data": {
      "text/plain": [
       "'123456789'"
      ]
     },
     "execution_count": 9,
     "metadata": {},
     "output_type": "execute_result"
    }
   ],
   "source": [
    "numbers = '123456789'\n",
    "numbers"
   ]
  },
  {
   "cell_type": "code",
   "execution_count": 10,
   "id": "761cdafb-1288-48eb-9d2c-b6ef49f350a1",
   "metadata": {},
   "outputs": [
    {
     "data": {
      "text/plain": [
       "'13579'"
      ]
     },
     "execution_count": 10,
     "metadata": {},
     "output_type": "execute_result"
    }
   ],
   "source": [
    "# get the odd numbers\n",
    "\n",
    "numbers[::2]"
   ]
  },
  {
   "cell_type": "code",
   "execution_count": 11,
   "id": "30afdd62-17a4-48b8-9f5c-5650ef7e473d",
   "metadata": {},
   "outputs": [
    {
     "data": {
      "text/plain": [
       "'2468'"
      ]
     },
     "execution_count": 11,
     "metadata": {},
     "output_type": "execute_result"
    }
   ],
   "source": [
    "# get even number\n",
    "\n",
    "numbers[1::2]"
   ]
  },
  {
   "cell_type": "code",
   "execution_count": 12,
   "id": "3d7f482f-a64d-4767-b865-882e51f91096",
   "metadata": {},
   "outputs": [
    {
     "data": {
      "text/plain": [
       "'123456789'"
      ]
     },
     "execution_count": 12,
     "metadata": {},
     "output_type": "execute_result"
    }
   ],
   "source": [
    "# we want to slice all \n",
    "# copy the whole sequence\n",
    "\n",
    "numbers[::]"
   ]
  },
  {
   "cell_type": "code",
   "execution_count": null,
   "id": "a676fc20-6cb2-4db8-8d2d-7fe608c59536",
   "metadata": {},
   "outputs": [
    {
     "data": {
      "text/plain": [
       "'123456789'"
      ]
     },
     "execution_count": 13,
     "metadata": {},
     "output_type": "execute_result"
    }
   ],
   "source": [
    "copy_of_numbers = numbers[::]\n",
    "copy_of_numbers"
   ]
  },
  {
   "cell_type": "markdown",
   "id": "1eab18c0-b39d-414f-9086-be04b3b10723",
   "metadata": {},
   "source": [
    "# Negative Index"
   ]
  },
  {
   "cell_type": "markdown",
   "id": "f6de4c64-3637-435e-bf61-e8d283d9c7eb",
   "metadata": {},
   "source": [
    "Index from Left to Right:\n",
    "* normal index\n",
    "* index\n",
    "* start from `0`\n",
    "\n",
    "Index from Right to Left:\n",
    "* reverse index\n",
    "* negative index\n",
    "* start from `-1`"
   ]
  },
  {
   "cell_type": "code",
   "execution_count": 1,
   "id": "d2dbde44-2e4e-47a6-8924-877eacc83baa",
   "metadata": {},
   "outputs": [
    {
     "data": {
      "text/plain": [
       "'123456789'"
      ]
     },
     "execution_count": 1,
     "metadata": {},
     "output_type": "execute_result"
    }
   ],
   "source": [
    "numbers = '123456789'\n",
    "numbers"
   ]
  },
  {
   "cell_type": "code",
   "execution_count": 3,
   "id": "0ed3e43a-b091-41ed-b9ff-2438bb857009",
   "metadata": {},
   "outputs": [
    {
     "data": {
      "text/plain": [
       "'9'"
      ]
     },
     "execution_count": 3,
     "metadata": {},
     "output_type": "execute_result"
    }
   ],
   "source": [
    "# get the last element\n",
    "# index (normal)\n",
    "\n",
    "numbers[8]"
   ]
  },
  {
   "cell_type": "code",
   "execution_count": 4,
   "id": "5d736f55-667d-4c64-b3e5-42f75fc02d2b",
   "metadata": {},
   "outputs": [
    {
     "data": {
      "text/plain": [
       "'9'"
      ]
     },
     "execution_count": 4,
     "metadata": {},
     "output_type": "execute_result"
    }
   ],
   "source": [
    "# get the last element\n",
    "# negative index\n",
    "\n",
    "numbers[-1]"
   ]
  },
  {
   "cell_type": "code",
   "execution_count": 5,
   "id": "69523aec-13db-4b50-9a67-e3c5ce0b21b6",
   "metadata": {},
   "outputs": [
    {
     "data": {
      "text/plain": [
       "'Python'"
      ]
     },
     "execution_count": 5,
     "metadata": {},
     "output_type": "execute_result"
    }
   ],
   "source": [
    "s = 'Python'\n",
    "s"
   ]
  },
  {
   "cell_type": "markdown",
   "id": "79869db4-0611-4a51-8323-e39a25dda9bc",
   "metadata": {},
   "source": [
    "Rule:\n",
    "* Going from Start to End (Left to Right) index starts at **0**.\n",
    "* Going from End to Start (Right to Left) index starts at **-1**."
   ]
  },
  {
   "cell_type": "markdown",
   "id": "6fcaee47-8dec-4858-a023-b4fa4fd0490b",
   "metadata": {},
   "source": [
    "<pre>\n",
    "s               |  P  |  y  |  t  |  h  |  o  |  n  | \n",
    "        \n",
    "                >>>>>>>>>>>\n",
    "index           |  0  |  1  |  2  |  3  |  4  |  5  | \n",
    "\n",
    "                <<<<<<<<<<<\n",
    "negative index  | -6  | -5  | -4  | -3  | -2  | -1  |\n",
    "</pre>"
   ]
  },
  {
   "cell_type": "code",
   "execution_count": 10,
   "id": "cf20b408-92de-4848-94ed-3c781e6c8a33",
   "metadata": {},
   "outputs": [
    {
     "data": {
      "text/plain": [
       "('n', 'n')"
      ]
     },
     "execution_count": 10,
     "metadata": {},
     "output_type": "execute_result"
    }
   ],
   "source": [
    "# Last letter (item)\n",
    "\n",
    "s[5], s[-1]"
   ]
  },
  {
   "cell_type": "code",
   "execution_count": 11,
   "id": "31b66f8f-6bad-48da-a350-0ab9a3c00313",
   "metadata": {},
   "outputs": [
    {
     "data": {
      "text/plain": [
       "('P', 'P')"
      ]
     },
     "execution_count": 11,
     "metadata": {},
     "output_type": "execute_result"
    }
   ],
   "source": [
    "# Frist letter (item)\n",
    "\n",
    "s[0], s[-6]"
   ]
  },
  {
   "cell_type": "code",
   "execution_count": 14,
   "id": "909c889d-060d-4c06-b3b7-608eec8ddc52",
   "metadata": {},
   "outputs": [
    {
     "data": {
      "text/plain": [
       "('o', 'o')"
      ]
     },
     "execution_count": 14,
     "metadata": {},
     "output_type": "execute_result"
    }
   ],
   "source": [
    "# 4th index (normal index)\n",
    "\n",
    "s[4], s[-2]"
   ]
  },
  {
   "cell_type": "code",
   "execution_count": 15,
   "id": "66a3187e-6883-494f-bf75-bbaf9ce0863c",
   "metadata": {},
   "outputs": [
    {
     "data": {
      "text/plain": [
       "6"
      ]
     },
     "execution_count": 15,
     "metadata": {},
     "output_type": "execute_result"
    }
   ],
   "source": [
    "len(s)"
   ]
  },
  {
   "cell_type": "markdown",
   "id": "e3db3141-8a2e-4ebe-8814-c8ed6a5abd27",
   "metadata": {},
   "source": [
    "**Hint:**\n",
    "\n",
    "**Sum** of absolute values of Normal Index and Negative Index is **Length** of sequence."
   ]
  },
  {
   "cell_type": "code",
   "execution_count": 16,
   "id": "f8856101-95de-4dd1-a886-84cc1fa7e454",
   "metadata": {},
   "outputs": [
    {
     "data": {
      "text/plain": [
       "'h'"
      ]
     },
     "execution_count": 16,
     "metadata": {},
     "output_type": "execute_result"
    }
   ],
   "source": [
    "# index -3\n",
    "# you want to get the same index (normal)\n",
    "\n",
    "s[-3]"
   ]
  },
  {
   "cell_type": "raw",
   "id": "aad17e4d-d952-43e7-a1fb-77bca4f23633",
   "metadata": {},
   "source": [
    "negative index = 3\n",
    "index = 3\n",
    "\n",
    "3 + ..3.. = 6"
   ]
  },
  {
   "cell_type": "code",
   "execution_count": 17,
   "id": "20bd92d4-b1b2-422f-9fd3-ba970e21903e",
   "metadata": {},
   "outputs": [
    {
     "data": {
      "text/plain": [
       "('h', 'h')"
      ]
     },
     "execution_count": 17,
     "metadata": {},
     "output_type": "execute_result"
    }
   ],
   "source": [
    "s[-3] , s[3]"
   ]
  },
  {
   "cell_type": "raw",
   "id": "5ca7ff65-6c9c-4c1a-901c-0c4114e605f4",
   "metadata": {},
   "source": [
    "negative index = -2\n",
    "index = 4\n",
    "\n",
    "2 + ..4.. = 6"
   ]
  },
  {
   "cell_type": "code",
   "execution_count": 18,
   "id": "2fb2829f-5f89-4ef1-b72c-1ccf3cfa6e25",
   "metadata": {},
   "outputs": [
    {
     "data": {
      "text/plain": [
       "('o', 'o')"
      ]
     },
     "execution_count": 18,
     "metadata": {},
     "output_type": "execute_result"
    }
   ],
   "source": [
    "s[-2], s[4]"
   ]
  },
  {
   "cell_type": "markdown",
   "id": "d5ae5655-405d-4c5a-bb5d-4c1c8462a9bd",
   "metadata": {},
   "source": [
    "**Practical Way**:\n",
    "\n",
    "For negative index:\n",
    "* you write the sequence at the begining of the original one\n",
    "* then you start from 0 for original one\n",
    "* then -1 and so on for the copy"
   ]
  },
  {
   "cell_type": "code",
   "execution_count": 19,
   "id": "078acd96-cb23-43ca-8c9d-ec1a79d9bbb6",
   "metadata": {},
   "outputs": [],
   "source": [
    "txt = 'numpy'  "
   ]
  },
  {
   "cell_type": "code",
   "execution_count": 20,
   "id": "ff11b747-56cf-43a0-8b49-ab0f35ccd168",
   "metadata": {},
   "outputs": [
    {
     "data": {
      "text/plain": [
       "'y'"
      ]
     },
     "execution_count": 20,
     "metadata": {},
     "output_type": "execute_result"
    }
   ],
   "source": [
    "txt[len(txt) - 1]"
   ]
  },
  {
   "cell_type": "code",
   "execution_count": 21,
   "id": "a582beb1-cba7-4ed4-a1a0-a0c39915cdde",
   "metadata": {},
   "outputs": [
    {
     "data": {
      "text/plain": [
       "5"
      ]
     },
     "execution_count": 21,
     "metadata": {},
     "output_type": "execute_result"
    }
   ],
   "source": [
    "len(txt)"
   ]
  },
  {
   "cell_type": "code",
   "execution_count": 22,
   "id": "4486b4fe-8196-4de8-afd6-caf2fc58c547",
   "metadata": {},
   "outputs": [
    {
     "data": {
      "text/plain": [
       "'y'"
      ]
     },
     "execution_count": 22,
     "metadata": {},
     "output_type": "execute_result"
    }
   ],
   "source": [
    "txt[4]"
   ]
  },
  {
   "cell_type": "code",
   "execution_count": 23,
   "id": "9289ad09-89ef-4a9c-8788-61c4f24bd13e",
   "metadata": {},
   "outputs": [
    {
     "data": {
      "text/plain": [
       "'y'"
      ]
     },
     "execution_count": 23,
     "metadata": {},
     "output_type": "execute_result"
    }
   ],
   "source": [
    "txt[-1]"
   ]
  },
  {
   "cell_type": "code",
   "execution_count": null,
   "id": "64caca8b-79dd-47fe-b61f-f389226e0727",
   "metadata": {},
   "outputs": [],
   "source": []
  }
 ],
 "metadata": {
  "kernelspec": {
   "display_name": "Python 3 (ipykernel)",
   "language": "python",
   "name": "python3"
  },
  "language_info": {
   "codemirror_mode": {
    "name": "ipython",
    "version": 3
   },
   "file_extension": ".py",
   "mimetype": "text/x-python",
   "name": "python",
   "nbconvert_exporter": "python",
   "pygments_lexer": "ipython3",
   "version": "3.8.12"
  }
 },
 "nbformat": 4,
 "nbformat_minor": 5
}
