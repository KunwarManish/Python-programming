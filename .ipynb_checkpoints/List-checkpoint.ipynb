{
 "cells": [
  {
   "cell_type": "markdown",
   "id": "063129ba-58f2-404b-87fd-c158678c8cb9",
   "metadata": {},
   "source": [
    "# List"
   ]
  },
  {
   "cell_type": "markdown",
   "id": "c25b5300-e394-48d5-89fa-343fdb80b703",
   "metadata": {},
   "source": [
    "## List is a Squence"
   ]
  },
  {
   "cell_type": "markdown",
   "id": "b69ea267-5515-45fd-9385-fe39a805661b",
   "metadata": {},
   "source": [
    "Previously, we learned that strings are Sequences."
   ]
  },
  {
   "cell_type": "markdown",
   "id": "8c00e88c-60d9-4ea4-9731-2743bf53300c",
   "metadata": {},
   "source": [
    "Lists are also Sequence Types."
   ]
  },
  {
   "cell_type": "markdown",
   "id": "d6c48210-0287-4652-b3c0-165bf5b25453",
   "metadata": {},
   "source": [
    "For Sequences, you can access elements via `index`."
   ]
  },
  {
   "cell_type": "markdown",
   "id": "88c6f12a-3876-4624-b120-d36a3168e31f",
   "metadata": {},
   "source": [
    "List are defined: `[]`"
   ]
  },
  {
   "cell_type": "code",
   "execution_count": 2,
   "id": "49cbefb7-5b73-4b6c-8ad4-f31354704b76",
   "metadata": {},
   "outputs": [
    {
     "data": {
      "text/plain": [
       "[10, 20, 30, 40]"
      ]
     },
     "execution_count": 2,
     "metadata": {},
     "output_type": "execute_result"
    }
   ],
   "source": [
    "my_list = [10, 20, 30, 40]\n",
    "my_list"
   ]
  },
  {
   "cell_type": "code",
   "execution_count": 3,
   "id": "a057048f-afb8-4fbc-8176-0bf47343e5f8",
   "metadata": {},
   "outputs": [
    {
     "name": "stdout",
     "output_type": "stream",
     "text": [
      "['a', 'b', 'c', 'd', 'e']\n"
     ]
    }
   ],
   "source": [
    "letters = ['a', 'b', 'c', 'd', 'e']\n",
    "print(letters)"
   ]
  },
  {
   "cell_type": "code",
   "execution_count": 4,
   "id": "cb44ab3c-5573-48a8-b6bb-000820b42087",
   "metadata": {},
   "outputs": [
    {
     "data": {
      "text/plain": [
       "list"
      ]
     },
     "execution_count": 4,
     "metadata": {},
     "output_type": "execute_result"
    }
   ],
   "source": [
    "type(letters)"
   ]
  },
  {
   "cell_type": "code",
   "execution_count": 5,
   "id": "0978d7ee-9620-4a80-bfe4-fd3ed0fb9539",
   "metadata": {},
   "outputs": [
    {
     "data": {
      "text/plain": [
       "[2, 'A', 'B', True, 'mail']"
      ]
     },
     "execution_count": 5,
     "metadata": {},
     "output_type": "execute_result"
    }
   ],
   "source": [
    "mixed_list = [2, 'A', 'B', True, 'mail']\n",
    "mixed_list"
   ]
  },
  {
   "cell_type": "code",
   "execution_count": 6,
   "id": "9ed282af-a7e1-4337-b90f-1cd6f4caae19",
   "metadata": {},
   "outputs": [
    {
     "data": {
      "text/plain": [
       "['city', 'name', 4, True, [1, 2, 3], 'A', ['a', 'b']]"
      ]
     },
     "execution_count": 6,
     "metadata": {},
     "output_type": "execute_result"
    }
   ],
   "source": [
    "nested_list = ['city', 'name', 4, True, [1, 2, 3], 'A', ['a', 'b']]\n",
    "nested_list"
   ]
  },
  {
   "cell_type": "code",
   "execution_count": 7,
   "id": "a2747f85-230a-40cf-ba84-c92469494095",
   "metadata": {},
   "outputs": [
    {
     "data": {
      "text/plain": [
       "'city'"
      ]
     },
     "execution_count": 7,
     "metadata": {},
     "output_type": "execute_result"
    }
   ],
   "source": [
    "nested_list[0]"
   ]
  },
  {
   "cell_type": "code",
   "execution_count": 8,
   "id": "83e4dc44-eb4e-4acc-9f16-32149c7af043",
   "metadata": {},
   "outputs": [
    {
     "data": {
      "text/plain": [
       "True"
      ]
     },
     "execution_count": 8,
     "metadata": {},
     "output_type": "execute_result"
    }
   ],
   "source": [
    "nested_list[3]"
   ]
  },
  {
   "cell_type": "code",
   "execution_count": 9,
   "id": "3c9eb9ca-a320-42ef-b387-f750611097f3",
   "metadata": {},
   "outputs": [
    {
     "data": {
      "text/plain": [
       "[1, 2, 3]"
      ]
     },
     "execution_count": 9,
     "metadata": {},
     "output_type": "execute_result"
    }
   ],
   "source": [
    "nested_list[4]"
   ]
  },
  {
   "cell_type": "code",
   "execution_count": 10,
   "id": "9ed4d793-d36e-4b0e-9456-2920580702ae",
   "metadata": {},
   "outputs": [
    {
     "data": {
      "text/plain": [
       "['a', 'b']"
      ]
     },
     "execution_count": 10,
     "metadata": {},
     "output_type": "execute_result"
    }
   ],
   "source": [
    "nested_list[6]"
   ]
  },
  {
   "cell_type": "code",
   "execution_count": 12,
   "id": "bbcb2227-c177-49b4-aeb3-5dd0144c3187",
   "metadata": {},
   "outputs": [
    {
     "data": {
      "text/plain": [
       "3"
      ]
     },
     "execution_count": 12,
     "metadata": {},
     "output_type": "execute_result"
    }
   ],
   "source": [
    "# acces into nested lists\n",
    "# double indexing\n",
    "\n",
    "nested_list[4][2]"
   ]
  },
  {
   "cell_type": "code",
   "execution_count": 13,
   "id": "f08e2597-9dd3-480a-acb7-07a6ff74a10b",
   "metadata": {},
   "outputs": [
    {
     "data": {
      "text/plain": [
       "['a', 'b']"
      ]
     },
     "execution_count": 13,
     "metadata": {},
     "output_type": "execute_result"
    }
   ],
   "source": [
    "nested_list[6]"
   ]
  },
  {
   "cell_type": "code",
   "execution_count": 14,
   "id": "1f44ad56-c069-4abe-9c07-a41979c9f261",
   "metadata": {},
   "outputs": [
    {
     "data": {
      "text/plain": [
       "'a'"
      ]
     },
     "execution_count": 14,
     "metadata": {},
     "output_type": "execute_result"
    }
   ],
   "source": [
    "nested_list[6][0]"
   ]
  },
  {
   "cell_type": "code",
   "execution_count": 15,
   "id": "72787cbb-d37c-4d4a-b2f7-772025764937",
   "metadata": {},
   "outputs": [
    {
     "data": {
      "text/plain": [
       "[]"
      ]
     },
     "execution_count": 15,
     "metadata": {},
     "output_type": "execute_result"
    }
   ],
   "source": [
    "# Empty lists\n",
    "\n",
    "empty = []\n",
    "empty"
   ]
  },
  {
   "cell_type": "code",
   "execution_count": 16,
   "id": "0b6afeaa-0571-4d25-92cb-3fce376c8d37",
   "metadata": {},
   "outputs": [
    {
     "data": {
      "text/plain": [
       "list"
      ]
     },
     "execution_count": 16,
     "metadata": {},
     "output_type": "execute_result"
    }
   ],
   "source": [
    "type(empty)"
   ]
  },
  {
   "cell_type": "markdown",
   "id": "b4d4b188-9d0c-4736-a6a5-58ec24303a96",
   "metadata": {},
   "source": [
    "# Lists are Mutable"
   ]
  },
  {
   "cell_type": "markdown",
   "id": "4d36e5b8-7746-4909-91c7-6b12b0b14b55",
   "metadata": {},
   "source": [
    "Strings are Immutable."
   ]
  },
  {
   "cell_type": "markdown",
   "id": "3db6d114-da34-414b-a460-dccb2043bce1",
   "metadata": {},
   "source": [
    "Lists are Mutable."
   ]
  },
  {
   "cell_type": "code",
   "execution_count": 1,
   "id": "7837b7ed-11f6-4df4-9809-93a25180b86f",
   "metadata": {},
   "outputs": [
    {
     "data": {
      "text/plain": [
       "['audi', 'Ford', 'Mazda']"
      ]
     },
     "execution_count": 1,
     "metadata": {},
     "output_type": "execute_result"
    }
   ],
   "source": [
    "cars = ['audi', 'Ford', 'Mazda']\n",
    "cars"
   ]
  },
  {
   "cell_type": "code",
   "execution_count": 2,
   "id": "d886c5be-1f3d-4545-b6d0-54db8c7dc4a3",
   "metadata": {},
   "outputs": [
    {
     "data": {
      "text/plain": [
       "['Audi', 'Ford', 'Mazda']"
      ]
     },
     "execution_count": 2,
     "metadata": {},
     "output_type": "execute_result"
    }
   ],
   "source": [
    "# mutate the list\n",
    "\n",
    "cars[0] = 'Audi'\n",
    "cars"
   ]
  },
  {
   "cell_type": "code",
   "execution_count": 3,
   "id": "d326b642-24f3-4b71-8cde-02efa80958e2",
   "metadata": {},
   "outputs": [
    {
     "data": {
      "text/plain": [
       "[1, 2, 3, 4, 5]"
      ]
     },
     "execution_count": 3,
     "metadata": {},
     "output_type": "execute_result"
    }
   ],
   "source": [
    "nums = [1, 2, 3, 4, 5]\n",
    "nums"
   ]
  },
  {
   "cell_type": "code",
   "execution_count": 4,
   "id": "398e6c09-c574-44e6-977b-9cb78c89b04a",
   "metadata": {},
   "outputs": [
    {
     "data": {
      "text/plain": [
       "5"
      ]
     },
     "execution_count": 4,
     "metadata": {},
     "output_type": "execute_result"
    }
   ],
   "source": [
    "nums[4]"
   ]
  },
  {
   "cell_type": "code",
   "execution_count": 5,
   "id": "05978982-d2be-475b-b449-d6aaaf0d5f7d",
   "metadata": {},
   "outputs": [
    {
     "data": {
      "text/plain": [
       "[1, 2, 3, 4, '55555']"
      ]
     },
     "execution_count": 5,
     "metadata": {},
     "output_type": "execute_result"
    }
   ],
   "source": [
    "nums[4] = '55555'\n",
    "nums"
   ]
  },
  {
   "cell_type": "code",
   "execution_count": 6,
   "id": "e7b380cb-a20e-400b-b706-7da40d3f17dc",
   "metadata": {},
   "outputs": [
    {
     "ename": "IndexError",
     "evalue": "list index out of range",
     "output_type": "error",
     "traceback": [
      "\u001b[1;31m---------------------------------------------------------------------------\u001b[0m",
      "\u001b[1;31mIndexError\u001b[0m                                Traceback (most recent call last)",
      "\u001b[1;32m~\\AppData\\Local\\Temp/ipykernel_7384/2413852561.py\u001b[0m in \u001b[0;36m<module>\u001b[1;34m\u001b[0m\n\u001b[0;32m      2\u001b[0m \u001b[1;31m# IndexError: list index out of range\u001b[0m\u001b[1;33m\u001b[0m\u001b[1;33m\u001b[0m\u001b[1;33m\u001b[0m\u001b[0m\n\u001b[0;32m      3\u001b[0m \u001b[1;33m\u001b[0m\u001b[0m\n\u001b[1;32m----> 4\u001b[1;33m \u001b[0mnums\u001b[0m\u001b[1;33m[\u001b[0m\u001b[1;36m6\u001b[0m\u001b[1;33m]\u001b[0m\u001b[1;33m\u001b[0m\u001b[1;33m\u001b[0m\u001b[0m\n\u001b[0m",
      "\u001b[1;31mIndexError\u001b[0m: list index out of range"
     ]
    }
   ],
   "source": [
    "# Access an index which does not exist\n",
    "# IndexError: list index out of range\n",
    "\n",
    "nums[6]"
   ]
  },
  {
   "cell_type": "code",
   "execution_count": 7,
   "id": "30fb197d-8908-4541-b539-76c8a0f7d51c",
   "metadata": {},
   "outputs": [
    {
     "data": {
      "text/plain": [
       "['Audi', 'Ford', 'Mazda']"
      ]
     },
     "execution_count": 7,
     "metadata": {},
     "output_type": "execute_result"
    }
   ],
   "source": [
    "cars"
   ]
  },
  {
   "cell_type": "raw",
   "id": "f59bcfea-15a3-4543-a236-33789faf2a2c",
   "metadata": {},
   "source": [
    "negative index: comes from Right to Left\n",
    "start from -1 \n",
    "\n",
    "index\n",
    "------------\n",
    "   0       1        2\n",
    "['Audi', 'Ford', 'Mazda']\n",
    "\n",
    "\n",
    "negative index\n",
    "<-----------\n",
    "   -3      -2      -1\n",
    "['Audi', 'Ford', 'Mazda']\n"
   ]
  },
  {
   "cell_type": "code",
   "execution_count": 8,
   "id": "9c004c00-b4fc-4404-a629-538314dbdc0a",
   "metadata": {},
   "outputs": [
    {
     "data": {
      "text/plain": [
       "'Mazda'"
      ]
     },
     "execution_count": 8,
     "metadata": {},
     "output_type": "execute_result"
    }
   ],
   "source": [
    "cars[-1]"
   ]
  },
  {
   "cell_type": "code",
   "execution_count": 9,
   "id": "7ad0d654-1026-4e21-b1d2-bbcfc8788e96",
   "metadata": {},
   "outputs": [
    {
     "data": {
      "text/plain": [
       "'Ford'"
      ]
     },
     "execution_count": 9,
     "metadata": {},
     "output_type": "execute_result"
    }
   ],
   "source": [
    "cars[-2]"
   ]
  },
  {
   "cell_type": "raw",
   "id": "bf691760-4b51-4a60-8d76-9ed90a5ea474",
   "metadata": {},
   "source": [
    "\n",
    "['Audi', 'Ford', 'Mazda'] | ['Audi', 'Ford', 'Mazda']\n",
    "   -3      -2      -1          0       1        2"
   ]
  },
  {
   "cell_type": "code",
   "execution_count": null,
   "id": "f0576581-e52e-4184-bb11-16835fdae845",
   "metadata": {},
   "outputs": [
    {
     "data": {
      "text/plain": [
       "'Audi'"
      ]
     },
     "execution_count": 10,
     "metadata": {},
     "output_type": "execute_result"
    }
   ],
   "source": [
    "cars[-3]"
   ]
  },
  {
   "cell_type": "markdown",
   "id": "fd203351-e35a-4bd4-9b14-e970352dc81e",
   "metadata": {},
   "source": [
    "# Loop Over a List"
   ]
  },
  {
   "cell_type": "code",
   "execution_count": 3,
   "id": "87fff3e6-e1ee-4e3a-8ec2-c1de07ac6649",
   "metadata": {},
   "outputs": [
    {
     "data": {
      "text/plain": [
       "['Audi', 'Ford', 'Mazda']"
      ]
     },
     "execution_count": 3,
     "metadata": {},
     "output_type": "execute_result"
    }
   ],
   "source": [
    "cars = ['Audi', 'Ford', 'Mazda']\n",
    "cars"
   ]
  },
  {
   "cell_type": "code",
   "execution_count": 4,
   "id": "adcb4d91-7100-4769-a45d-ef5c43ccbaae",
   "metadata": {},
   "outputs": [
    {
     "name": "stdout",
     "output_type": "stream",
     "text": [
      "Audi\n",
      "Ford\n",
      "Mazda\n"
     ]
    }
   ],
   "source": [
    "# loop over cars list\n",
    "\n",
    "for car in cars:\n",
    "    print(car)\n",
    "    "
   ]
  },
  {
   "cell_type": "code",
   "execution_count": 5,
   "id": "929087b7-c7f5-470e-8f59-285ebf172093",
   "metadata": {},
   "outputs": [
    {
     "name": "stdout",
     "output_type": "stream",
     "text": [
      "0 - Audi\n",
      "1 - Ford\n",
      "2 - Mazda\n"
     ]
    }
   ],
   "source": [
    "# we need the index -> enumerate()\n",
    "\n",
    "for index, car in enumerate(cars):\n",
    "    print(\"{0} - {1}\".format(index, car))\n",
    "    "
   ]
  },
  {
   "cell_type": "markdown",
   "id": "1524b9ce-50eb-4260-ae1a-6d611c3cd15c",
   "metadata": {},
   "source": [
    "We want to change the elemants during the loop."
   ]
  },
  {
   "cell_type": "code",
   "execution_count": 6,
   "id": "db710c35-5a2b-4107-b5e1-a74578b73278",
   "metadata": {},
   "outputs": [
    {
     "data": {
      "text/plain": [
       "{1, 2, 3, 4, 5}"
      ]
     },
     "execution_count": 6,
     "metadata": {},
     "output_type": "execute_result"
    }
   ],
   "source": [
    "nums = {1, 2, 3, 4, 5}\n",
    "nums"
   ]
  },
  {
   "cell_type": "code",
   "execution_count": 8,
   "id": "a592fa37-be6e-4620-9a9c-e82c67f318ab",
   "metadata": {},
   "outputs": [
    {
     "name": "stdout",
     "output_type": "stream",
     "text": [
      "10\n",
      "20\n",
      "30\n",
      "40\n",
      "50\n"
     ]
    }
   ],
   "source": [
    "# loop over the list -> multiply elements by 10\n",
    "\n",
    "for num in nums:\n",
    "    num *= 10\n",
    "    print(num)\n",
    "    "
   ]
  },
  {
   "cell_type": "code",
   "execution_count": 9,
   "id": "b2493715-e631-464b-9650-a213d5abb2d3",
   "metadata": {},
   "outputs": [
    {
     "data": {
      "text/plain": [
       "{1, 2, 3, 4, 5}"
      ]
     },
     "execution_count": 9,
     "metadata": {},
     "output_type": "execute_result"
    }
   ],
   "source": [
    "nums"
   ]
  },
  {
   "cell_type": "code",
   "execution_count": 16,
   "id": "4640d30d-eb70-471c-8a2f-5ba4cd8e5d13",
   "metadata": {},
   "outputs": [
    {
     "ename": "TypeError",
     "evalue": "'set' object does not support item assignment",
     "output_type": "error",
     "traceback": [
      "\u001b[1;31m---------------------------------------------------------------------------\u001b[0m",
      "\u001b[1;31mTypeError\u001b[0m                                 Traceback (most recent call last)",
      "\u001b[1;32m~\\AppData\\Local\\Temp/ipykernel_16720/1735687963.py\u001b[0m in \u001b[0;36m<module>\u001b[1;34m\u001b[0m\n\u001b[0;32m      8\u001b[0m \u001b[1;33m\u001b[0m\u001b[0m\n\u001b[0;32m      9\u001b[0m     \u001b[1;31m# update the list via index\u001b[0m\u001b[1;33m\u001b[0m\u001b[1;33m\u001b[0m\u001b[1;33m\u001b[0m\u001b[0m\n\u001b[1;32m---> 10\u001b[1;33m     \u001b[0mnums\u001b[0m\u001b[1;33m[\u001b[0m\u001b[0mindex\u001b[0m\u001b[1;33m]\u001b[0m \u001b[1;33m=\u001b[0m \u001b[0mnew_num\u001b[0m\u001b[1;33m\u001b[0m\u001b[1;33m\u001b[0m\u001b[0m\n\u001b[0m\u001b[0;32m     11\u001b[0m \u001b[1;33m\u001b[0m\u001b[0m\n",
      "\u001b[1;31mTypeError\u001b[0m: 'set' object does not support item assignment"
     ]
    }
   ],
   "source": [
    "# we want to change the original list in loop\n",
    "# we need index to update the element -> list\n",
    "\n",
    "for index, num in enumerate(nums):\n",
    "    \n",
    "    # calculate the new num\n",
    "    new_num = num * 10\n",
    "    \n",
    "    # update the list via index\n",
    "    nums[index] = new_num\n",
    "    "
   ]
  },
  {
   "cell_type": "code",
   "execution_count": 13,
   "id": "87e548fd-725d-4406-ad4f-0d4710813f0e",
   "metadata": {},
   "outputs": [
    {
     "data": {
      "text/plain": [
       "{1, 2, 3, 4, 5}"
      ]
     },
     "execution_count": 13,
     "metadata": {},
     "output_type": "execute_result"
    }
   ],
   "source": [
    "nums"
   ]
  },
  {
   "cell_type": "code",
   "execution_count": 17,
   "id": "b75f0601-9aa1-4753-8b0d-f0e70991520b",
   "metadata": {},
   "outputs": [],
   "source": [
    "# cars list \n",
    "# we will update each car as 'Car' -> Audi Car, Ford Car, Mazda Car\n",
    "\n",
    "for index, car in enumerate(cars):\n",
    "    \n",
    "    cars[index] = car + 'Car'\n",
    "    "
   ]
  },
  {
   "cell_type": "code",
   "execution_count": 18,
   "id": "6f38a9db-5a94-4d83-95f4-2e4c4845147b",
   "metadata": {},
   "outputs": [
    {
     "data": {
      "text/plain": [
       "['AudiCar', 'FordCar', 'MazdaCar']"
      ]
     },
     "execution_count": 18,
     "metadata": {},
     "output_type": "execute_result"
    }
   ],
   "source": [
    "cars"
   ]
  },
  {
   "cell_type": "markdown",
   "id": "398c3fe4-b9f6-43da-89f7-3b4cc4c755c4",
   "metadata": {},
   "source": [
    "# List Operations"
   ]
  },
  {
   "cell_type": "markdown",
   "id": "58bf9b22-2781-403e-9749-779e415c100e",
   "metadata": {},
   "source": [
    "In Lists +, * (addition and multiplication) operations are allowed.\n",
    "\n",
    "But with its own logic."
   ]
  },
  {
   "cell_type": "markdown",
   "id": "25e5102d-25f6-448f-9dfb-7689ec2b79ec",
   "metadata": {},
   "source": [
    "**`+`Operator**\n",
    "\n",
    "It concatenates lists."
   ]
  },
  {
   "cell_type": "code",
   "execution_count": 2,
   "id": "c5b4fcc6-e34c-4ce4-b95c-f5f029187e13",
   "metadata": {},
   "outputs": [
    {
     "data": {
      "text/plain": [
       "[10, 20, 30, 4, 8, 12]"
      ]
     },
     "execution_count": 2,
     "metadata": {},
     "output_type": "execute_result"
    }
   ],
   "source": [
    "a = [10, 20, 30]\n",
    "\n",
    "b = [4, 8, 12]\n",
    "\n",
    "c = a + b\n",
    "c"
   ]
  },
  {
   "cell_type": "code",
   "execution_count": 3,
   "id": "d78e38d0-21d5-4228-a802-3c908e8cb198",
   "metadata": {},
   "outputs": [
    {
     "data": {
      "text/plain": [
       "[10, 20, 30, 4, 8, 12, 'A', 'B', 'C']"
      ]
     },
     "execution_count": 3,
     "metadata": {},
     "output_type": "execute_result"
    }
   ],
   "source": [
    "a = [10, 20, 30]\n",
    "\n",
    "b = [4, 8, 12]\n",
    "\n",
    "c = ['A', 'B', 'C']\n",
    "\n",
    "d = a + b + c\n",
    "d"
   ]
  },
  {
   "cell_type": "code",
   "execution_count": 4,
   "id": "66849503-2625-466e-89c4-049b9f632413",
   "metadata": {},
   "outputs": [
    {
     "data": {
      "text/plain": [
       "['Monday', 'Tuesday', 'Wednesday', 'Thursday', 'Friday', 'Saturday', 'Sunday']"
      ]
     },
     "execution_count": 4,
     "metadata": {},
     "output_type": "execute_result"
    }
   ],
   "source": [
    "weekdays = ['Monday', 'Tuesday', 'Wednesday', 'Thursday', 'Friday']\n",
    "weekend = ['Saturday', 'Sunday']\n",
    "\n",
    "week = weekdays + weekend\n",
    "\n",
    "week"
   ]
  },
  {
   "cell_type": "markdown",
   "id": "63488b20-f665-4fd2-9c9e-9965159a17a6",
   "metadata": {},
   "source": [
    "**`*`Operator**\n",
    "\n",
    "It duplicates the list in the number of multiply."
   ]
  },
  {
   "cell_type": "code",
   "execution_count": 5,
   "id": "39b87b09-f33d-41df-af92-a407066d8dfb",
   "metadata": {},
   "outputs": [
    {
     "data": {
      "text/plain": [
       "'CarCarCar'"
      ]
     },
     "execution_count": 5,
     "metadata": {},
     "output_type": "execute_result"
    }
   ],
   "source": [
    "car = 'Car'\n",
    "\n",
    "3 * car"
   ]
  },
  {
   "cell_type": "code",
   "execution_count": 7,
   "id": "b8c81d3f-fc60-4926-b36c-af023a069b6c",
   "metadata": {},
   "outputs": [
    {
     "data": {
      "text/plain": [
       "['Audi', 'Ford', 'BMW', 'Audi', 'Ford', 'BMW', 'Audi', 'Ford', 'BMW']"
      ]
     },
     "execution_count": 7,
     "metadata": {},
     "output_type": "execute_result"
    }
   ],
   "source": [
    "cars = ['Audi', 'Ford', 'BMW']\n",
    "\n",
    "3 * cars"
   ]
  },
  {
   "cell_type": "code",
   "execution_count": 8,
   "id": "c0fa41f6-24f4-4d22-833c-4ffae23cfbde",
   "metadata": {},
   "outputs": [
    {
     "data": {
      "text/plain": [
       "[5, 5, 5, 5]"
      ]
     },
     "execution_count": 8,
     "metadata": {},
     "output_type": "execute_result"
    }
   ],
   "source": [
    "[5] * 4"
   ]
  },
  {
   "cell_type": "code",
   "execution_count": 10,
   "id": "7afad9ec-3450-42d4-96bb-e73a0ae9826d",
   "metadata": {},
   "outputs": [
    {
     "data": {
      "text/plain": [
       "[11, 22, 11, 22, 11, 22]"
      ]
     },
     "execution_count": 10,
     "metadata": {},
     "output_type": "execute_result"
    }
   ],
   "source": [
    "[11, 22] * 3"
   ]
  },
  {
   "cell_type": "code",
   "execution_count": 11,
   "id": "875089c8-5fa1-484b-bb59-d4d459741127",
   "metadata": {},
   "outputs": [
    {
     "data": {
      "text/plain": [
       "['Monday', 'Tuesday', 'Wednesday', 'Thursday', 'Friday', 'Saturday', 'Sunday']"
      ]
     },
     "execution_count": 11,
     "metadata": {},
     "output_type": "execute_result"
    }
   ],
   "source": [
    "week"
   ]
  },
  {
   "cell_type": "code",
   "execution_count": 12,
   "id": "99587a07-459e-4443-867d-73f976542dea",
   "metadata": {},
   "outputs": [
    {
     "data": {
      "text/plain": [
       "['Monday',\n",
       " 'Tuesday',\n",
       " 'Wednesday',\n",
       " 'Thursday',\n",
       " 'Friday',\n",
       " 'Saturday',\n",
       " 'Sunday',\n",
       " 'Monday',\n",
       " 'Tuesday',\n",
       " 'Wednesday',\n",
       " 'Thursday',\n",
       " 'Friday',\n",
       " 'Saturday',\n",
       " 'Sunday',\n",
       " 'Monday',\n",
       " 'Tuesday',\n",
       " 'Wednesday',\n",
       " 'Thursday',\n",
       " 'Friday',\n",
       " 'Saturday',\n",
       " 'Sunday',\n",
       " 'Monday',\n",
       " 'Tuesday',\n",
       " 'Wednesday',\n",
       " 'Thursday',\n",
       " 'Friday',\n",
       " 'Saturday',\n",
       " 'Sunday']"
      ]
     },
     "execution_count": 12,
     "metadata": {},
     "output_type": "execute_result"
    }
   ],
   "source": [
    "4 * week"
   ]
  },
  {
   "cell_type": "markdown",
   "id": "fbb5eaef-3660-419f-a9e7-d9447899594a",
   "metadata": {},
   "source": [
    "# List Slicing"
   ]
  },
  {
   "cell_type": "code",
   "execution_count": 13,
   "id": "11e45f4e-3ab2-4ea5-bf4d-1b8012db6896",
   "metadata": {},
   "outputs": [
    {
     "data": {
      "text/plain": [
       "['a', 'b', 'c', 'd', 'e', 'f']"
      ]
     },
     "execution_count": 13,
     "metadata": {},
     "output_type": "execute_result"
    }
   ],
   "source": [
    "\n",
    "my_list = ['a', 'b', 'c', 'd', 'e', 'f']\n",
    "my_list\n"
   ]
  },
  {
   "cell_type": "code",
   "execution_count": 14,
   "id": "b2da55ef-48f5-4bae-99c9-0b9724fac998",
   "metadata": {},
   "outputs": [
    {
     "data": {
      "text/plain": [
       "['b', 'c', 'd']"
      ]
     },
     "execution_count": 14,
     "metadata": {},
     "output_type": "execute_result"
    }
   ],
   "source": [
    "# we want elements from index 1 to 4 (exc)\n",
    "\n",
    "my_list[1:4]"
   ]
  },
  {
   "cell_type": "code",
   "execution_count": 15,
   "id": "7fb99087-dc90-4ab1-8865-cde602cc97c2",
   "metadata": {},
   "outputs": [
    {
     "data": {
      "text/plain": [
       "['a', 'b', 'c', 'd']"
      ]
     },
     "execution_count": 15,
     "metadata": {},
     "output_type": "execute_result"
    }
   ],
   "source": [
    "# we want first 4 elements\n",
    "# 0, 1, 2, 3\n",
    "\n",
    "my_list[0:4]"
   ]
  },
  {
   "cell_type": "code",
   "execution_count": 16,
   "id": "f3999a3f-8f03-4eb6-b813-80c09e0dc047",
   "metadata": {},
   "outputs": [
    {
     "data": {
      "text/plain": [
       "['a', 'b', 'c', 'd']"
      ]
     },
     "execution_count": 16,
     "metadata": {},
     "output_type": "execute_result"
    }
   ],
   "source": [
    "# commit 0 for start\n",
    "\n",
    "my_list[:4]"
   ]
  },
  {
   "cell_type": "code",
   "execution_count": 17,
   "id": "510e710f-ba2e-4a98-80e8-fbaa8bd9b35e",
   "metadata": {},
   "outputs": [
    {
     "data": {
      "text/plain": [
       "['a', 'b', 'c', 'd', 'e', 'f']"
      ]
     },
     "execution_count": 17,
     "metadata": {},
     "output_type": "execute_result"
    }
   ],
   "source": [
    "# get all elements of list\n",
    "\n",
    "my_list[::]"
   ]
  },
  {
   "cell_type": "code",
   "execution_count": 18,
   "id": "f787a6c3-5961-429a-af56-951da33e195c",
   "metadata": {},
   "outputs": [
    {
     "data": {
      "text/plain": [
       "['a', 'b', 'c', 'd', 'e', 'f']"
      ]
     },
     "execution_count": 18,
     "metadata": {},
     "output_type": "execute_result"
    }
   ],
   "source": [
    "my_list_copy = my_list[::]\n",
    "my_list_copy"
   ]
  },
  {
   "cell_type": "code",
   "execution_count": 19,
   "id": "c6c94aa9-e293-4763-b13f-6b3e17cf482a",
   "metadata": {},
   "outputs": [
    {
     "data": {
      "text/plain": [
       "['a', 'c', 'e']"
      ]
     },
     "execution_count": 19,
     "metadata": {},
     "output_type": "execute_result"
    }
   ],
   "source": [
    "# get the elements with even index\n",
    "# 0, 2, 4 ...\n",
    "\n",
    "my_list[::2]"
   ]
  },
  {
   "cell_type": "code",
   "execution_count": 20,
   "id": "2e6ec201-9db9-4de6-81ac-1fbe10754361",
   "metadata": {},
   "outputs": [
    {
     "data": {
      "text/plain": [
       "['b', 'd', 'f']"
      ]
     },
     "execution_count": 20,
     "metadata": {},
     "output_type": "execute_result"
    }
   ],
   "source": [
    "# get the elements with odd index\n",
    "# 1, 3, 5 ...\n",
    "\n",
    "my_list[1::2]"
   ]
  },
  {
   "cell_type": "code",
   "execution_count": 21,
   "id": "a89cd5a8-b3a8-4330-931e-352975cde4d4",
   "metadata": {},
   "outputs": [
    {
     "data": {
      "text/plain": [
       "['f', 'e', 'd', 'c', 'b', 'a']"
      ]
     },
     "execution_count": 21,
     "metadata": {},
     "output_type": "execute_result"
    }
   ],
   "source": [
    "# copy the reverse of the list\n",
    "\n",
    "my_list_copy_reverse = my_list[::-1]\n",
    "my_list_copy_reverse"
   ]
  },
  {
   "cell_type": "markdown",
   "id": "bda151ef-f2c1-4657-96a4-644835ab4db7",
   "metadata": {},
   "source": [
    "# List Copying and Ids"
   ]
  },
  {
   "cell_type": "markdown",
   "id": "83d50dec-f746-41e1-bdfe-f2a7f17947d7",
   "metadata": {},
   "source": [
    "Copying -> Create a NEW List"
   ]
  },
  {
   "cell_type": "code",
   "execution_count": 1,
   "id": "68872acd-6c22-4e42-91a1-2a2e9c6bad42",
   "metadata": {},
   "outputs": [
    {
     "data": {
      "text/plain": [
       "['a', 'b', 'c', 'd', 'e', 'f']"
      ]
     },
     "execution_count": 1,
     "metadata": {},
     "output_type": "execute_result"
    }
   ],
   "source": [
    "my_list = ['a', 'b', 'c', 'd', 'e', 'f']\n",
    "my_list"
   ]
  },
  {
   "cell_type": "code",
   "execution_count": 2,
   "id": "a047c366-fe99-4d53-b478-11a2644111d5",
   "metadata": {},
   "outputs": [
    {
     "data": {
      "text/plain": [
       "['a', 'b', 'c', 'd', 'e', 'f']"
      ]
     },
     "execution_count": 2,
     "metadata": {},
     "output_type": "execute_result"
    }
   ],
   "source": [
    "my_list_copy = my_list[:]\n",
    "my_list_copy"
   ]
  },
  {
   "cell_type": "code",
   "execution_count": 3,
   "id": "a219e6de-c9ad-45ae-b3b4-7c2761696322",
   "metadata": {},
   "outputs": [],
   "source": [
    "# mutate the new list -> if it affect the original list\n",
    "\n",
    "my_list_copy[0] = 'A'\n",
    "my_list_copy[1] = 'B'"
   ]
  },
  {
   "cell_type": "code",
   "execution_count": 4,
   "id": "bd40ace1-465d-456b-8837-c57aec1a5a97",
   "metadata": {},
   "outputs": [
    {
     "name": "stdout",
     "output_type": "stream",
     "text": [
      "My List: ['a', 'b', 'c', 'd', 'e', 'f']\n",
      "My List Copy: ['A', 'B', 'c', 'd', 'e', 'f']\n"
     ]
    }
   ],
   "source": [
    "\n",
    "print('My List:', my_list)\n",
    "print('My List Copy:', my_list_copy)"
   ]
  },
  {
   "cell_type": "code",
   "execution_count": 5,
   "id": "dd55c9c8-70db-412a-a445-0cb5503a7aa5",
   "metadata": {},
   "outputs": [
    {
     "data": {
      "text/plain": [
       "['a', 'b', 'c', 'd', 'e', 'f']"
      ]
     },
     "execution_count": 5,
     "metadata": {},
     "output_type": "execute_result"
    }
   ],
   "source": [
    "my_list_copy_2 = my_list[:]\n",
    "my_list_copy_2"
   ]
  },
  {
   "cell_type": "code",
   "execution_count": 6,
   "id": "b6d253cf-a83b-4fda-affd-f967039a67e3",
   "metadata": {},
   "outputs": [
    {
     "name": "stdout",
     "output_type": "stream",
     "text": [
      "My List: ['a', 'b', 'c', 'd', 'e', 'f']\n",
      "My List Copy: ['A', 'B', 'c', 'd', 'e', 'f']\n",
      "My List Copy 2: ['a', 'b', 'c', 'd', 'e', 'f']\n"
     ]
    }
   ],
   "source": [
    "print('My List:', my_list)\n",
    "print('My List Copy:', my_list_copy)\n",
    "print('My List Copy 2:', my_list_copy_2)"
   ]
  },
  {
   "cell_type": "code",
   "execution_count": 7,
   "id": "f5c0b7bd-f88e-4a05-a5ac-520f22c5df4f",
   "metadata": {},
   "outputs": [],
   "source": [
    "# mutate copy 2\n",
    "\n",
    "my_list_copy_2[0] = 'AA'\n",
    "my_list_copy_2[1] = 'BB'"
   ]
  },
  {
   "cell_type": "code",
   "execution_count": 8,
   "id": "094823e6-5f76-4dff-a2d2-64442589c57e",
   "metadata": {},
   "outputs": [
    {
     "name": "stdout",
     "output_type": "stream",
     "text": [
      "My List: ['a', 'b', 'c', 'd', 'e', 'f']\n",
      "My List Copy: ['A', 'B', 'c', 'd', 'e', 'f']\n",
      "My List Copy 2: ['AA', 'BB', 'c', 'd', 'e', 'f']\n"
     ]
    }
   ],
   "source": [
    "print('My List:', my_list)\n",
    "print('My List Copy:', my_list_copy)\n",
    "print('My List Copy 2:', my_list_copy_2)"
   ]
  },
  {
   "cell_type": "markdown",
   "id": "e4bc8b2a-fb08-41d7-ab2f-12fd6b20c5a6",
   "metadata": {},
   "source": [
    "**`id` method**"
   ]
  },
  {
   "cell_type": "code",
   "execution_count": 9,
   "id": "a91bae1b-5dd1-4836-8a2b-efa7250bec62",
   "metadata": {},
   "outputs": [
    {
     "data": {
      "text/plain": [
       "1883068327680"
      ]
     },
     "execution_count": 9,
     "metadata": {},
     "output_type": "execute_result"
    }
   ],
   "source": [
    "id(my_list)"
   ]
  },
  {
   "cell_type": "code",
   "execution_count": 10,
   "id": "5d29bf7e-7269-402a-a2c3-3c2a4f0b05f3",
   "metadata": {},
   "outputs": [
    {
     "data": {
      "text/plain": [
       "1883068329216"
      ]
     },
     "execution_count": 10,
     "metadata": {},
     "output_type": "execute_result"
    }
   ],
   "source": [
    "id(my_list_copy)"
   ]
  },
  {
   "cell_type": "code",
   "execution_count": 11,
   "id": "86accc69-f75f-4d0f-bcc2-7c820d57febd",
   "metadata": {},
   "outputs": [
    {
     "data": {
      "text/plain": [
       "1883068327936"
      ]
     },
     "execution_count": 11,
     "metadata": {},
     "output_type": "execute_result"
    }
   ],
   "source": [
    "id(my_list_copy_2)"
   ]
  },
  {
   "cell_type": "code",
   "execution_count": 12,
   "id": "acd2f44f-c0f3-49dd-a406-fdd025ed4fbc",
   "metadata": {},
   "outputs": [
    {
     "data": {
      "text/plain": [
       "False"
      ]
     },
     "execution_count": 12,
     "metadata": {},
     "output_type": "execute_result"
    }
   ],
   "source": [
    "id(my_list) == id(my_list_copy)"
   ]
  },
  {
   "cell_type": "markdown",
   "id": "9ba21d3c-c0a0-4631-825b-11cd0511bd83",
   "metadata": {},
   "source": [
    "# List Methods"
   ]
  },
  {
   "cell_type": "markdown",
   "id": "bf0050fb-8420-46b2-b16c-145b5167390e",
   "metadata": {},
   "source": [
    "Build-in List Methods:\n",
    "\n",
    "* append() : adds an element at the end of the list\n",
    "* insert() : adds an element at specified index\n",
    "* extend() : concats list to another\n",
    "* sort()   : sorts the list (in-place)\n",
    "* sorted() : sorts the list and returns a new list (doesn't mutate the original)"
   ]
  },
  {
   "cell_type": "code",
   "execution_count": 13,
   "id": "4616c44f-2cd6-42f7-b079-f7c96c8ac606",
   "metadata": {},
   "outputs": [
    {
     "data": {
      "text/plain": [
       "['a', 'b', 'c', 'd', 'e']"
      ]
     },
     "execution_count": 13,
     "metadata": {},
     "output_type": "execute_result"
    }
   ],
   "source": [
    "letters = ['a', 'b', 'c', 'd', 'e']\n",
    "letters"
   ]
  },
  {
   "cell_type": "markdown",
   "id": "8f9c4e00-3a46-4e24-8cab-7fe530d932f8",
   "metadata": {},
   "source": [
    "**append()**"
   ]
  },
  {
   "cell_type": "code",
   "execution_count": 14,
   "id": "9481781a-b306-4af6-8e67-4a00c72fea0f",
   "metadata": {},
   "outputs": [
    {
     "data": {
      "text/plain": [
       "['a', 'b', 'c', 'd', 'e', 'f']"
      ]
     },
     "execution_count": 14,
     "metadata": {},
     "output_type": "execute_result"
    }
   ],
   "source": [
    "letters.append('f')\n",
    "letters"
   ]
  },
  {
   "cell_type": "code",
   "execution_count": 15,
   "id": "5f381788-0ab7-4016-b6d5-9d1ac2793d4f",
   "metadata": {},
   "outputs": [
    {
     "data": {
      "text/plain": [
       "['a', 'b', 'c', 'd', 'e', 'f', 'a', 'x', 't']"
      ]
     },
     "execution_count": 15,
     "metadata": {},
     "output_type": "execute_result"
    }
   ],
   "source": [
    "# one at a time\n",
    "\n",
    "letters.append('a')\n",
    "letters.append('x')\n",
    "letters.append('t')\n",
    "\n",
    "letters"
   ]
  },
  {
   "cell_type": "markdown",
   "id": "eed2a96c-3253-4d61-80d5-85a9efd11f75",
   "metadata": {},
   "source": [
    "**insert():**"
   ]
  },
  {
   "cell_type": "code",
   "execution_count": 16,
   "id": "47ac6f2d-cbef-4042-bda5-3c624bd572ff",
   "metadata": {},
   "outputs": [
    {
     "data": {
      "text/plain": [
       "['a', 'e', 'i', 'o', 'u']"
      ]
     },
     "execution_count": 16,
     "metadata": {},
     "output_type": "execute_result"
    }
   ],
   "source": [
    "vowels = ['a', 'e', 'i', 'o', 'u']\n",
    "vowels"
   ]
  },
  {
   "cell_type": "code",
   "execution_count": 17,
   "id": "71badf5a-ece2-4186-a885-8566bf403956",
   "metadata": {},
   "outputs": [
    {
     "data": {
      "text/plain": [
       "['a', 'e', 'E', 'i', 'o', 'u']"
      ]
     },
     "execution_count": 17,
     "metadata": {},
     "output_type": "execute_result"
    }
   ],
   "source": [
    "# insert 'E' after 'e'\n",
    "\n",
    "vowels.insert(2, 'E')\n",
    "vowels"
   ]
  },
  {
   "cell_type": "markdown",
   "id": "cf88e981-6668-452c-bb1f-60ccc1d39612",
   "metadata": {},
   "source": [
    "**extend():**"
   ]
  },
  {
   "cell_type": "code",
   "execution_count": 19,
   "id": "c657d4a9-4dc8-44bd-9e0f-f0e28a3cb780",
   "metadata": {},
   "outputs": [],
   "source": [
    "letters = ['a', 'b', 'c', 'd', 'e']\n",
    "\n",
    "t = [1, 2, 3, 4, 5, 6, 7, 8, 9]"
   ]
  },
  {
   "cell_type": "code",
   "execution_count": 20,
   "id": "549af643-1f99-4f0b-8365-9e3b4b5f4277",
   "metadata": {},
   "outputs": [],
   "source": [
    "letters.extend(t)"
   ]
  },
  {
   "cell_type": "code",
   "execution_count": 21,
   "id": "9161e3db-0ac6-480b-9d00-bf08fbf9301b",
   "metadata": {},
   "outputs": [
    {
     "data": {
      "text/plain": [
       "['a', 'b', 'c', 'd', 'e', 1, 2, 3, 4, 5, 6, 7, 8, 9]"
      ]
     },
     "execution_count": 21,
     "metadata": {},
     "output_type": "execute_result"
    }
   ],
   "source": [
    "letters"
   ]
  },
  {
   "cell_type": "markdown",
   "id": "991067b9-1a6d-4c48-9b93-69ae7e0d750a",
   "metadata": {},
   "source": [
    "**sort():**"
   ]
  },
  {
   "cell_type": "code",
   "execution_count": 22,
   "id": "336a748c-1b95-456b-a057-f754256e0fe7",
   "metadata": {},
   "outputs": [
    {
     "data": {
      "text/plain": [
       "[1, 2, 3, 4, 5, 6, 7, 8, 9]"
      ]
     },
     "execution_count": 22,
     "metadata": {},
     "output_type": "execute_result"
    }
   ],
   "source": [
    "# sorts the list in-place\n",
    "\n",
    "t.sort()\n",
    "t"
   ]
  },
  {
   "cell_type": "code",
   "execution_count": 23,
   "id": "8fded3db-85f9-4e55-8ad9-fc9bd3b087cc",
   "metadata": {},
   "outputs": [],
   "source": [
    "t = [4, 2, 3, 1, 5, 6, 9, 8, 7]\n",
    "t.sort()"
   ]
  },
  {
   "cell_type": "code",
   "execution_count": 24,
   "id": "101263b8-eebd-462f-ad35-b17cd0301bb2",
   "metadata": {},
   "outputs": [
    {
     "data": {
      "text/plain": [
       "[1, 2, 3, 4, 5, 6, 7, 8, 9]"
      ]
     },
     "execution_count": 24,
     "metadata": {},
     "output_type": "execute_result"
    }
   ],
   "source": [
    "t"
   ]
  },
  {
   "cell_type": "code",
   "execution_count": 26,
   "id": "55d5bb0b-b6cd-4e6b-b8f0-5fd46d3603af",
   "metadata": {},
   "outputs": [
    {
     "data": {
      "text/plain": [
       "['c', 'b', 'a', 'd']"
      ]
     },
     "execution_count": 26,
     "metadata": {},
     "output_type": "execute_result"
    }
   ],
   "source": [
    "a = ['c', 'b', 'a', 'd']\n",
    "a"
   ]
  },
  {
   "cell_type": "code",
   "execution_count": 27,
   "id": "febb270b-66ec-416e-bb1e-c43be77299ba",
   "metadata": {},
   "outputs": [
    {
     "data": {
      "text/plain": [
       "['a', 'b', 'c', 'd']"
      ]
     },
     "execution_count": 27,
     "metadata": {},
     "output_type": "execute_result"
    }
   ],
   "source": [
    "a.sort()\n",
    "a"
   ]
  },
  {
   "cell_type": "code",
   "execution_count": null,
   "id": "f82c6aa9-8303-411b-89c8-363cb6c869d7",
   "metadata": {},
   "outputs": [],
   "source": []
  }
 ],
 "metadata": {
  "kernelspec": {
   "display_name": "Python 3 (ipykernel)",
   "language": "python",
   "name": "python3"
  },
  "language_info": {
   "codemirror_mode": {
    "name": "ipython",
    "version": 3
   },
   "file_extension": ".py",
   "mimetype": "text/x-python",
   "name": "python",
   "nbconvert_exporter": "python",
   "pygments_lexer": "ipython3",
   "version": "3.8.12"
  }
 },
 "nbformat": 4,
 "nbformat_minor": 5
}
