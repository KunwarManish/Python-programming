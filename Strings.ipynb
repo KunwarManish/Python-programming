{
 "cells": [
  {
   "cell_type": "markdown",
   "id": "16bd5c2c-84bb-47c1-be1b-3291ee6122bb",
   "metadata": {},
   "source": [
    "# Strings"
   ]
  },
  {
   "cell_type": "markdown",
   "id": "3e8d466d-fa7d-40b9-9ae0-6d505f248f31",
   "metadata": {},
   "source": [
    "Strings are different from other primitive types, int, float, bool."
   ]
  },
  {
   "cell_type": "markdown",
   "id": "1f3d625b-2ada-4351-8f53-b0c7185941e2",
   "metadata": {},
   "source": [
    "Strings are sequence."
   ]
  },
  {
   "cell_type": "markdown",
   "id": "e96d1182-8340-479c-b017-d36684b362c2",
   "metadata": {},
   "source": [
    "Strings include array of characters in them."
   ]
  },
  {
   "cell_type": "markdown",
   "id": "5a0281dd-5d29-489e-b223-a9f228f73576",
   "metadata": {},
   "source": [
    "**Ex:**\n",
    "\n",
    "\"Python\" -> P y t h o n"
   ]
  },
  {
   "cell_type": "markdown",
   "id": "190981b6-c926-4d56-9fde-9d0355450312",
   "metadata": {},
   "source": [
    "**Sequence Types:**\n",
    "* String\n",
    "* List\n",
    "* Tuple"
   ]
  },
  {
   "cell_type": "markdown",
   "id": "39de65ca-e9dc-4455-b395-e9842457ec1d",
   "metadata": {},
   "source": [
    "# String is a Squence"
   ]
  },
  {
   "cell_type": "code",
   "execution_count": 1,
   "id": "61eb7327-c591-4901-bda3-91e4b0c966a2",
   "metadata": {},
   "outputs": [
    {
     "data": {
      "text/plain": [
       "'orange'"
      ]
     },
     "execution_count": 1,
     "metadata": {},
     "output_type": "execute_result"
    }
   ],
   "source": [
    "fruit = 'orange'\n",
    "fruit"
   ]
  },
  {
   "cell_type": "code",
   "execution_count": 2,
   "id": "6954d461-99f9-4154-b9e5-188ba695e4e3",
   "metadata": {},
   "outputs": [
    {
     "data": {
      "text/plain": [
       "'o'"
      ]
     },
     "execution_count": 2,
     "metadata": {},
     "output_type": "execute_result"
    }
   ],
   "source": [
    "fruit[0]"
   ]
  },
  {
   "cell_type": "code",
   "execution_count": 3,
   "id": "3fa2d8bf-1b46-4928-b7a0-444e9006a86d",
   "metadata": {},
   "outputs": [
    {
     "data": {
      "text/plain": [
       "'r'"
      ]
     },
     "execution_count": 3,
     "metadata": {},
     "output_type": "execute_result"
    }
   ],
   "source": [
    "fruit[1]"
   ]
  },
  {
   "cell_type": "markdown",
   "id": "9f06a11b-14c4-4ce1-91bd-314f8658f08e",
   "metadata": {},
   "source": [
    "In Python, for sequence types, we access elements via indices.\n",
    "\n",
    "`sequence[index]`"
   ]
  },
  {
   "cell_type": "markdown",
   "id": "ed052b8f-7900-4f67-a9c1-8c4d0dd44b0f",
   "metadata": {},
   "source": [
    "**In Python, index start from 0:**\n",
    "\n",
    "0,1,2,3,...."
   ]
  },
  {
   "cell_type": "raw",
   "id": "4548293d-3ad6-418d-91b8-fc59b53232fa",
   "metadata": {},
   "source": [
    "fruit\n",
    "get the element in the third  (3rd) order\n",
    "\n",
    "Orders:\n",
    "1 2 3 4 5 6     \n",
    "o r a n g e\n",
    "0 1 2 3 4 5\n",
    "Index: \n",
    "    "
   ]
  },
  {
   "cell_type": "code",
   "execution_count": 6,
   "id": "b45f64c8-a1fc-4cfc-a16a-b86cad9d98b2",
   "metadata": {},
   "outputs": [
    {
     "data": {
      "text/plain": [
       "'a'"
      ]
     },
     "execution_count": 6,
     "metadata": {},
     "output_type": "execute_result"
    }
   ],
   "source": [
    "# we want the letter in fruit of order 3\n",
    "# order 3 = index 2\n",
    "\n",
    "fruit[2]"
   ]
  },
  {
   "cell_type": "code",
   "execution_count": 7,
   "id": "cf1c09ec-7187-4380-a20c-9f87c9401338",
   "metadata": {},
   "outputs": [
    {
     "data": {
      "text/plain": [
       "'e'"
      ]
     },
     "execution_count": 7,
     "metadata": {},
     "output_type": "execute_result"
    }
   ],
   "source": [
    "# the letter in 6th order\n",
    "# order 6 = index 5\n",
    "\n",
    "fruit[5]"
   ]
  },
  {
   "cell_type": "code",
   "execution_count": 1,
   "id": "40a1b958-d432-464f-9021-0745f37519ab",
   "metadata": {},
   "outputs": [],
   "source": [
    "# get the last element"
   ]
  },
  {
   "cell_type": "markdown",
   "id": "7c767047-0db4-4ce9-94ab-988cc27cdd6f",
   "metadata": {},
   "source": [
    "## String Length (len)"
   ]
  },
  {
   "cell_type": "markdown",
   "id": "b7053c56-2d1b-4275-898c-f3ef6eefcdea",
   "metadata": {},
   "source": [
    "In Python, to get the length of sequence types we use standard function: `len()`"
   ]
  },
  {
   "cell_type": "code",
   "execution_count": 4,
   "id": "bb5e3d90-9805-4cb4-a490-2b8e75ed44bb",
   "metadata": {},
   "outputs": [
    {
     "data": {
      "text/plain": [
       "'orange'"
      ]
     },
     "execution_count": 4,
     "metadata": {},
     "output_type": "execute_result"
    }
   ],
   "source": [
    "fruit = 'orange'\n",
    "fruit"
   ]
  },
  {
   "cell_type": "code",
   "execution_count": 5,
   "id": "c657e967-6125-44a3-b01b-cf1c16b6e88d",
   "metadata": {},
   "outputs": [
    {
     "data": {
      "text/plain": [
       "6"
      ]
     },
     "execution_count": 5,
     "metadata": {},
     "output_type": "execute_result"
    }
   ],
   "source": [
    "# length of fruit\n",
    "\n",
    "len(fruit)"
   ]
  },
  {
   "cell_type": "markdown",
   "id": "31ec6b8e-c958-4fca-9508-90aa1be39491",
   "metadata": {},
   "source": [
    "We want to get the last element -> the index = 5"
   ]
  },
  {
   "cell_type": "code",
   "execution_count": 7,
   "id": "0376942a-a543-4842-9a10-251e6ad209c3",
   "metadata": {},
   "outputs": [
    {
     "name": "stdout",
     "output_type": "stream",
     "text": [
      "last index: 5\n",
      "last element: e\n"
     ]
    }
   ],
   "source": [
    "# the last element -> order 6\n",
    "# index = 5\n",
    "# last index = length -1\n",
    "\n",
    "last_index = len(fruit) -1\n",
    "print('last index:', last_index)\n",
    "\n",
    "last_element = fruit[last_index]\n",
    "print(\"last element:\", last_element)"
   ]
  },
  {
   "cell_type": "code",
   "execution_count": 8,
   "id": "0c567345-7f07-429a-a70f-191bf9b3e63c",
   "metadata": {},
   "outputs": [
    {
     "data": {
      "text/plain": [
       "'e'"
      ]
     },
     "execution_count": 8,
     "metadata": {},
     "output_type": "execute_result"
    }
   ],
   "source": [
    "# in one line\n",
    "# last element\n",
    "\n",
    "fruit[len(fruit)-1]"
   ]
  },
  {
   "cell_type": "code",
   "execution_count": 9,
   "id": "084639d7-ae27-495b-836d-7dfbcb39657e",
   "metadata": {},
   "outputs": [
    {
     "ename": "IndexError",
     "evalue": "string index out of range",
     "output_type": "error",
     "traceback": [
      "\u001b[1;31m---------------------------------------------------------------------------\u001b[0m",
      "\u001b[1;31mIndexError\u001b[0m                                Traceback (most recent call last)",
      "\u001b[1;32m~\\AppData\\Local\\Temp/ipykernel_9444/3643081050.py\u001b[0m in \u001b[0;36m<module>\u001b[1;34m\u001b[0m\n\u001b[0;32m      3\u001b[0m \u001b[1;31m# fruit[6]\u001b[0m\u001b[1;33m\u001b[0m\u001b[1;33m\u001b[0m\u001b[1;33m\u001b[0m\u001b[0m\n\u001b[0;32m      4\u001b[0m \u001b[1;33m\u001b[0m\u001b[0m\n\u001b[1;32m----> 5\u001b[1;33m \u001b[0mfruit\u001b[0m\u001b[1;33m[\u001b[0m\u001b[0mlen\u001b[0m\u001b[1;33m(\u001b[0m\u001b[0mfruit\u001b[0m\u001b[1;33m)\u001b[0m\u001b[1;33m]\u001b[0m\u001b[1;33m\u001b[0m\u001b[1;33m\u001b[0m\u001b[0m\n\u001b[0m\u001b[0;32m      6\u001b[0m \u001b[1;33m\u001b[0m\u001b[0m\n\u001b[0;32m      7\u001b[0m \u001b[1;31m# IndexError -> no index with this value\u001b[0m\u001b[1;33m\u001b[0m\u001b[1;33m\u001b[0m\u001b[1;33m\u001b[0m\u001b[0m\n",
      "\u001b[1;31mIndexError\u001b[0m: string index out of range"
     ]
    }
   ],
   "source": [
    "# wrong last index\n",
    "\n",
    "# fruit[6]\n",
    "\n",
    "fruit[len(fruit)]\n",
    "\n",
    "# IndexError -> no index with this value"
   ]
  },
  {
   "cell_type": "code",
   "execution_count": 10,
   "id": "a736c3f9-e889-48d9-8674-e13c5d8dfa00",
   "metadata": {},
   "outputs": [
    {
     "ename": "IndexError",
     "evalue": "string index out of range",
     "output_type": "error",
     "traceback": [
      "\u001b[1;31m---------------------------------------------------------------------------\u001b[0m",
      "\u001b[1;31mIndexError\u001b[0m                                Traceback (most recent call last)",
      "\u001b[1;32m~\\AppData\\Local\\Temp/ipykernel_9444/421212574.py\u001b[0m in \u001b[0;36m<module>\u001b[1;34m\u001b[0m\n\u001b[1;32m----> 1\u001b[1;33m \u001b[0mfruit\u001b[0m\u001b[1;33m[\u001b[0m\u001b[1;36m8\u001b[0m\u001b[1;33m]\u001b[0m\u001b[1;33m\u001b[0m\u001b[1;33m\u001b[0m\u001b[0m\n\u001b[0m",
      "\u001b[1;31mIndexError\u001b[0m: string index out of range"
     ]
    }
   ],
   "source": [
    "fruit[8]"
   ]
  },
  {
   "cell_type": "code",
   "execution_count": 11,
   "id": "2ca8d4c1-38e0-445c-9e5d-d2d0e504d19d",
   "metadata": {},
   "outputs": [
    {
     "data": {
      "text/plain": [
       "('Machine Learning', 'ALAN TURING')"
      ]
     },
     "execution_count": 11,
     "metadata": {},
     "output_type": "execute_result"
    }
   ],
   "source": [
    "\n",
    "x = 'Machine Learning'\n",
    "\n",
    "y = 'ALAN TURING'\n",
    "\n",
    "x,y"
   ]
  },
  {
   "cell_type": "code",
   "execution_count": 12,
   "id": "f1dfece3-845f-4731-85f4-4c6fad750d89",
   "metadata": {},
   "outputs": [
    {
     "data": {
      "text/plain": [
       "('Machine Learning', 'ALAN TURING')"
      ]
     },
     "execution_count": 12,
     "metadata": {},
     "output_type": "execute_result"
    }
   ],
   "source": [
    "x, y"
   ]
  },
  {
   "cell_type": "code",
   "execution_count": null,
   "id": "df1766b8-54c9-4b7f-9ec6-c56f6c34ccf1",
   "metadata": {},
   "outputs": [
    {
     "data": {
      "text/plain": [
       "(16, 11)"
      ]
     },
     "execution_count": 13,
     "metadata": {},
     "output_type": "execute_result"
    }
   ],
   "source": [
    "len(x), len(y)"
   ]
  },
  {
   "cell_type": "markdown",
   "id": "3ded09a3-2038-4faf-bc05-dea0d18c12c2",
   "metadata": {},
   "source": [
    "# String Slicing"
   ]
  },
  {
   "cell_type": "markdown",
   "id": "93fcd5c4-11df-4087-a3dd-2ea65a8971c9",
   "metadata": {},
   "source": [
    "A part of a sequence is called a `slice.`"
   ]
  },
  {
   "cell_type": "markdown",
   "id": "a17f3ca9-7041-49f6-9034-7502df394301",
   "metadata": {},
   "source": [
    "For slicing we use `indexing.`"
   ]
  },
  {
   "cell_type": "markdown",
   "id": "ef094634-433c-49b8-a4f7-e08bb647006c",
   "metadata": {},
   "source": [
    "**Slicing:**\n",
    "\n",
    "* `sequence[start : end : step]`\n",
    "* start -> leave blank -> default: 0\n",
    "* end -> leave blank -> default: last index\n",
    "* step -> leave blank -> default: 1\n",
    "* start is included, end is excluded -> [start, end]"
   ]
  },
  {
   "cell_type": "code",
   "execution_count": 7,
   "id": "2aab0f4e-5d52-4987-8ff4-374ecc996f6f",
   "metadata": {},
   "outputs": [],
   "source": [
    "s = 'Python Hands-On'"
   ]
  },
  {
   "cell_type": "markdown",
   "id": "13b2cb93-45d8-40ac-8372-063cc74e27f0",
   "metadata": {},
   "source": [
    "<pre>\n",
    "s       | P | y | t | h | o | n |   | H | a | n | d  | s  | -  | O  | n  |  \n",
    "\n",
    "index   | 0 | 1 | 2 | 3 | 4 | 5 | 6 | 7 | 8 | 9 | 10 | 11 | 12 | 13 | 14 | \n",
    "</pre>"
   ]
  },
  {
   "cell_type": "code",
   "execution_count": 4,
   "id": "6cd02e2c-6ba0-4531-849d-302880e31b20",
   "metadata": {},
   "outputs": [
    {
     "data": {
      "text/plain": [
       "'Python'"
      ]
     },
     "execution_count": 4,
     "metadata": {},
     "output_type": "execute_result"
    }
   ],
   "source": [
    "# We want to slice 'Python'\n",
    "\n",
    "s[0:6]"
   ]
  },
  {
   "cell_type": "code",
   "execution_count": 5,
   "id": "7d5e13b9-9564-47e8-93df-e0afbe2a9bd0",
   "metadata": {},
   "outputs": [
    {
     "data": {
      "text/plain": [
       "'Python'"
      ]
     },
     "execution_count": 5,
     "metadata": {},
     "output_type": "execute_result"
    }
   ],
   "source": [
    "# We don't need to put 0 for start\n",
    "\n",
    "s[:6]"
   ]
  },
  {
   "cell_type": "markdown",
   "id": "8334f436-06fd-4bed-a899-6ea22c412c19",
   "metadata": {},
   "source": [
    "**How to Read:**\n",
    "\n",
    "`s[0:6]` : Start slicing from index 0 up to index 6. (Step is 1)"
   ]
  },
  {
   "cell_type": "code",
   "execution_count": 8,
   "id": "0c246f62-d1ea-41fc-898d-7b4910273f56",
   "metadata": {},
   "outputs": [
    {
     "data": {
      "text/plain": [
       "'Hands'"
      ]
     },
     "execution_count": 8,
     "metadata": {},
     "output_type": "execute_result"
    }
   ],
   "source": [
    "# We want the word Hands\n",
    "\n",
    "s[7:12]"
   ]
  },
  {
   "cell_type": "markdown",
   "id": "32d6ff9c-1c3e-4d26-81e3-6e692f78e1c0",
   "metadata": {},
   "source": [
    "**How to Read:**\n",
    "\n",
    "`s[7:12]` : Start slicing from index 7 up to index 12. (Step is 1)"
   ]
  },
  {
   "cell_type": "markdown",
   "id": "cc89aad7-8d17-480b-ab31-967c06fdcc0d",
   "metadata": {},
   "source": [
    "**Step Size:**\n",
    "\n",
    "It determines by how much you increase/decrease the index."
   ]
  },
  {
   "cell_type": "code",
   "execution_count": 9,
   "id": "b1c41333-e0ac-42b7-a63c-417a5ef2e544",
   "metadata": {},
   "outputs": [
    {
     "data": {
      "text/plain": [
       "'123456789'"
      ]
     },
     "execution_count": 9,
     "metadata": {},
     "output_type": "execute_result"
    }
   ],
   "source": [
    "numbers = '123456789'\n",
    "numbers"
   ]
  },
  {
   "cell_type": "code",
   "execution_count": 10,
   "id": "761cdafb-1288-48eb-9d2c-b6ef49f350a1",
   "metadata": {},
   "outputs": [
    {
     "data": {
      "text/plain": [
       "'13579'"
      ]
     },
     "execution_count": 10,
     "metadata": {},
     "output_type": "execute_result"
    }
   ],
   "source": [
    "# get the odd numbers\n",
    "\n",
    "numbers[::2]"
   ]
  },
  {
   "cell_type": "code",
   "execution_count": 11,
   "id": "30afdd62-17a4-48b8-9f5c-5650ef7e473d",
   "metadata": {},
   "outputs": [
    {
     "data": {
      "text/plain": [
       "'2468'"
      ]
     },
     "execution_count": 11,
     "metadata": {},
     "output_type": "execute_result"
    }
   ],
   "source": [
    "# get even number\n",
    "\n",
    "numbers[1::2]"
   ]
  },
  {
   "cell_type": "code",
   "execution_count": 12,
   "id": "3d7f482f-a64d-4767-b865-882e51f91096",
   "metadata": {},
   "outputs": [
    {
     "data": {
      "text/plain": [
       "'123456789'"
      ]
     },
     "execution_count": 12,
     "metadata": {},
     "output_type": "execute_result"
    }
   ],
   "source": [
    "# we want to slice all \n",
    "# copy the whole sequence\n",
    "\n",
    "numbers[::]"
   ]
  },
  {
   "cell_type": "code",
   "execution_count": null,
   "id": "a676fc20-6cb2-4db8-8d2d-7fe608c59536",
   "metadata": {},
   "outputs": [
    {
     "data": {
      "text/plain": [
       "'123456789'"
      ]
     },
     "execution_count": 13,
     "metadata": {},
     "output_type": "execute_result"
    }
   ],
   "source": [
    "copy_of_numbers = numbers[::]\n",
    "copy_of_numbers"
   ]
  },
  {
   "cell_type": "markdown",
   "id": "1eab18c0-b39d-414f-9086-be04b3b10723",
   "metadata": {},
   "source": [
    "# Negative Index"
   ]
  },
  {
   "cell_type": "markdown",
   "id": "f6de4c64-3637-435e-bf61-e8d283d9c7eb",
   "metadata": {},
   "source": [
    "Index from Left to Right:\n",
    "* normal index\n",
    "* index\n",
    "* start from `0`\n",
    "\n",
    "Index from Right to Left:\n",
    "* reverse index\n",
    "* negative index\n",
    "* start from `-1`"
   ]
  },
  {
   "cell_type": "code",
   "execution_count": 1,
   "id": "d2dbde44-2e4e-47a6-8924-877eacc83baa",
   "metadata": {},
   "outputs": [
    {
     "data": {
      "text/plain": [
       "'123456789'"
      ]
     },
     "execution_count": 1,
     "metadata": {},
     "output_type": "execute_result"
    }
   ],
   "source": [
    "numbers = '123456789'\n",
    "numbers"
   ]
  },
  {
   "cell_type": "code",
   "execution_count": 3,
   "id": "0ed3e43a-b091-41ed-b9ff-2438bb857009",
   "metadata": {},
   "outputs": [
    {
     "data": {
      "text/plain": [
       "'9'"
      ]
     },
     "execution_count": 3,
     "metadata": {},
     "output_type": "execute_result"
    }
   ],
   "source": [
    "# get the last element\n",
    "# index (normal)\n",
    "\n",
    "numbers[8]"
   ]
  },
  {
   "cell_type": "code",
   "execution_count": 4,
   "id": "5d736f55-667d-4c64-b3e5-42f75fc02d2b",
   "metadata": {},
   "outputs": [
    {
     "data": {
      "text/plain": [
       "'9'"
      ]
     },
     "execution_count": 4,
     "metadata": {},
     "output_type": "execute_result"
    }
   ],
   "source": [
    "# get the last element\n",
    "# negative index\n",
    "\n",
    "numbers[-1]"
   ]
  },
  {
   "cell_type": "code",
   "execution_count": 5,
   "id": "69523aec-13db-4b50-9a67-e3c5ce0b21b6",
   "metadata": {},
   "outputs": [
    {
     "data": {
      "text/plain": [
       "'Python'"
      ]
     },
     "execution_count": 5,
     "metadata": {},
     "output_type": "execute_result"
    }
   ],
   "source": [
    "s = 'Python'\n",
    "s"
   ]
  },
  {
   "cell_type": "markdown",
   "id": "79869db4-0611-4a51-8323-e39a25dda9bc",
   "metadata": {},
   "source": [
    "Rule:\n",
    "* Going from Start to End (Left to Right) index starts at **0**.\n",
    "* Going from End to Start (Right to Left) index starts at **-1**."
   ]
  },
  {
   "cell_type": "markdown",
   "id": "6fcaee47-8dec-4858-a023-b4fa4fd0490b",
   "metadata": {},
   "source": [
    "<pre>\n",
    "s               |  P  |  y  |  t  |  h  |  o  |  n  | \n",
    "        \n",
    "                >>>>>>>>>>>\n",
    "index           |  0  |  1  |  2  |  3  |  4  |  5  | \n",
    "\n",
    "                <<<<<<<<<<<\n",
    "negative index  | -6  | -5  | -4  | -3  | -2  | -1  |\n",
    "</pre>"
   ]
  },
  {
   "cell_type": "code",
   "execution_count": 10,
   "id": "cf20b408-92de-4848-94ed-3c781e6c8a33",
   "metadata": {},
   "outputs": [
    {
     "data": {
      "text/plain": [
       "('n', 'n')"
      ]
     },
     "execution_count": 10,
     "metadata": {},
     "output_type": "execute_result"
    }
   ],
   "source": [
    "# Last letter (item)\n",
    "\n",
    "s[5], s[-1]"
   ]
  },
  {
   "cell_type": "code",
   "execution_count": 11,
   "id": "31b66f8f-6bad-48da-a350-0ab9a3c00313",
   "metadata": {},
   "outputs": [
    {
     "data": {
      "text/plain": [
       "('P', 'P')"
      ]
     },
     "execution_count": 11,
     "metadata": {},
     "output_type": "execute_result"
    }
   ],
   "source": [
    "# Frist letter (item)\n",
    "\n",
    "s[0], s[-6]"
   ]
  },
  {
   "cell_type": "code",
   "execution_count": 14,
   "id": "909c889d-060d-4c06-b3b7-608eec8ddc52",
   "metadata": {},
   "outputs": [
    {
     "data": {
      "text/plain": [
       "('o', 'o')"
      ]
     },
     "execution_count": 14,
     "metadata": {},
     "output_type": "execute_result"
    }
   ],
   "source": [
    "# 4th index (normal index)\n",
    "\n",
    "s[4], s[-2]"
   ]
  },
  {
   "cell_type": "code",
   "execution_count": 15,
   "id": "66a3187e-6883-494f-bf75-bbaf9ce0863c",
   "metadata": {},
   "outputs": [
    {
     "data": {
      "text/plain": [
       "6"
      ]
     },
     "execution_count": 15,
     "metadata": {},
     "output_type": "execute_result"
    }
   ],
   "source": [
    "len(s)"
   ]
  },
  {
   "cell_type": "markdown",
   "id": "e3db3141-8a2e-4ebe-8814-c8ed6a5abd27",
   "metadata": {},
   "source": [
    "**Hint:**\n",
    "\n",
    "**Sum** of absolute values of Normal Index and Negative Index is **Length** of sequence."
   ]
  },
  {
   "cell_type": "code",
   "execution_count": 16,
   "id": "f8856101-95de-4dd1-a886-84cc1fa7e454",
   "metadata": {},
   "outputs": [
    {
     "data": {
      "text/plain": [
       "'h'"
      ]
     },
     "execution_count": 16,
     "metadata": {},
     "output_type": "execute_result"
    }
   ],
   "source": [
    "# index -3\n",
    "# you want to get the same index (normal)\n",
    "\n",
    "s[-3]"
   ]
  },
  {
   "cell_type": "raw",
   "id": "aad17e4d-d952-43e7-a1fb-77bca4f23633",
   "metadata": {},
   "source": [
    "negative index = 3\n",
    "index = 3\n",
    "\n",
    "3 + ..3.. = 6"
   ]
  },
  {
   "cell_type": "code",
   "execution_count": 17,
   "id": "20bd92d4-b1b2-422f-9fd3-ba970e21903e",
   "metadata": {},
   "outputs": [
    {
     "data": {
      "text/plain": [
       "('h', 'h')"
      ]
     },
     "execution_count": 17,
     "metadata": {},
     "output_type": "execute_result"
    }
   ],
   "source": [
    "s[-3] , s[3]"
   ]
  },
  {
   "cell_type": "raw",
   "id": "5ca7ff65-6c9c-4c1a-901c-0c4114e605f4",
   "metadata": {},
   "source": [
    "negative index = -2\n",
    "index = 4\n",
    "\n",
    "2 + ..4.. = 6"
   ]
  },
  {
   "cell_type": "code",
   "execution_count": 18,
   "id": "2fb2829f-5f89-4ef1-b72c-1ccf3cfa6e25",
   "metadata": {},
   "outputs": [
    {
     "data": {
      "text/plain": [
       "('o', 'o')"
      ]
     },
     "execution_count": 18,
     "metadata": {},
     "output_type": "execute_result"
    }
   ],
   "source": [
    "s[-2], s[4]"
   ]
  },
  {
   "cell_type": "markdown",
   "id": "d5ae5655-405d-4c5a-bb5d-4c1c8462a9bd",
   "metadata": {},
   "source": [
    "**Practical Way**:\n",
    "\n",
    "For negative index:\n",
    "* you write the sequence at the begining of the original one\n",
    "* then you start from 0 for original one\n",
    "* then -1 and so on for the copy"
   ]
  },
  {
   "cell_type": "code",
   "execution_count": 19,
   "id": "078acd96-cb23-43ca-8c9d-ec1a79d9bbb6",
   "metadata": {},
   "outputs": [],
   "source": [
    "txt = 'numpy'  "
   ]
  },
  {
   "cell_type": "code",
   "execution_count": 20,
   "id": "ff11b747-56cf-43a0-8b49-ab0f35ccd168",
   "metadata": {},
   "outputs": [
    {
     "data": {
      "text/plain": [
       "'y'"
      ]
     },
     "execution_count": 20,
     "metadata": {},
     "output_type": "execute_result"
    }
   ],
   "source": [
    "txt[len(txt) - 1]"
   ]
  },
  {
   "cell_type": "code",
   "execution_count": 21,
   "id": "a582beb1-cba7-4ed4-a1a0-a0c39915cdde",
   "metadata": {},
   "outputs": [
    {
     "data": {
      "text/plain": [
       "5"
      ]
     },
     "execution_count": 21,
     "metadata": {},
     "output_type": "execute_result"
    }
   ],
   "source": [
    "len(txt)"
   ]
  },
  {
   "cell_type": "code",
   "execution_count": 22,
   "id": "4486b4fe-8196-4de8-afd6-caf2fc58c547",
   "metadata": {},
   "outputs": [
    {
     "data": {
      "text/plain": [
       "'y'"
      ]
     },
     "execution_count": 22,
     "metadata": {},
     "output_type": "execute_result"
    }
   ],
   "source": [
    "txt[4]"
   ]
  },
  {
   "cell_type": "code",
   "execution_count": 23,
   "id": "9289ad09-89ef-4a9c-8788-61c4f24bd13e",
   "metadata": {},
   "outputs": [
    {
     "data": {
      "text/plain": [
       "'y'"
      ]
     },
     "execution_count": 23,
     "metadata": {},
     "output_type": "execute_result"
    }
   ],
   "source": [
    "txt[-1]"
   ]
  },
  {
   "cell_type": "markdown",
   "id": "9f95f31a-085e-42c4-b58a-7e217f7e848d",
   "metadata": {},
   "source": [
    "# Reverse Slicing"
   ]
  },
  {
   "cell_type": "markdown",
   "id": "e359874e-ed94-4047-8240-fe64dfb00e47",
   "metadata": {},
   "source": [
    "Reverse slicing is slicing the sequence from end to start (from right to left).\n",
    "\n",
    "We use reverse index or negative step size."
   ]
  },
  {
   "cell_type": "markdown",
   "id": "831f4bfa-a730-4112-a69d-6deaa0740a73",
   "metadata": {},
   "source": [
    "**Reverse Slicing:**\n",
    "* sequence[start : end : step]\n",
    "* from end to start\n",
    "* the last index **-1** (not 0)"
   ]
  },
  {
   "cell_type": "code",
   "execution_count": 1,
   "id": "30173201-672a-4e31-bf02-243b1122ec49",
   "metadata": {},
   "outputs": [
    {
     "data": {
      "text/plain": [
       "'123456789'"
      ]
     },
     "execution_count": 1,
     "metadata": {},
     "output_type": "execute_result"
    }
   ],
   "source": [
    "numbers = '123456789'\n",
    "numbers"
   ]
  },
  {
   "cell_type": "code",
   "execution_count": 2,
   "id": "a6cfdd08-54b1-46b3-a82c-e12d98ffe3ae",
   "metadata": {},
   "outputs": [
    {
     "data": {
      "text/plain": [
       "'123456789'"
      ]
     },
     "execution_count": 2,
     "metadata": {},
     "output_type": "execute_result"
    }
   ],
   "source": [
    "# print numbers (normal)\n",
    "\n",
    "numbers[::]"
   ]
  },
  {
   "cell_type": "code",
   "execution_count": 3,
   "id": "c9496a54-edf9-47a3-a124-d48209f91935",
   "metadata": {},
   "outputs": [
    {
     "data": {
      "text/plain": [
       "'987654321'"
      ]
     },
     "execution_count": 3,
     "metadata": {},
     "output_type": "execute_result"
    }
   ],
   "source": [
    "# print numbers from end to start -> reverse order\n",
    "\n",
    "numbers[::-1]"
   ]
  },
  {
   "cell_type": "markdown",
   "id": "a058071a-3fa7-46d0-bdae-ebb86a119de6",
   "metadata": {},
   "source": [
    "**Step Size:**\n",
    "\n",
    "* positive -> Left to Right (normal)\n",
    "* negative -> Right to Left (reverse)"
   ]
  },
  {
   "cell_type": "code",
   "execution_count": 5,
   "id": "bcebcb9b-7b4d-4521-a132-4977f57b3b2d",
   "metadata": {},
   "outputs": [
    {
     "data": {
      "text/plain": [
       "'13579'"
      ]
     },
     "execution_count": 5,
     "metadata": {},
     "output_type": "execute_result"
    }
   ],
   "source": [
    "# print numbers from start to end by incrementing 2 (step => 3)\n",
    "\n",
    "numbers[::2]"
   ]
  },
  {
   "cell_type": "code",
   "execution_count": 6,
   "id": "047c515a-f93f-4e80-bae8-64112c04ded9",
   "metadata": {},
   "outputs": [
    {
     "data": {
      "text/plain": [
       "'97531'"
      ]
     },
     "execution_count": 6,
     "metadata": {},
     "output_type": "execute_result"
    }
   ],
   "source": [
    "# print numbers from end to start by decrementing 2 (step => -2)\n",
    "\n",
    "numbers[::-2]"
   ]
  },
  {
   "cell_type": "markdown",
   "id": "c242f5e9-f289-4eec-b7b9-06d635047bbb",
   "metadata": {},
   "source": [
    "<pre>\n",
    "numbers         |  1  |  2  |  3  |  4  |  5  |  6  |  7  |  8  |  9  | \n",
    "        \n",
    "                >>>>>>>>>>>\n",
    "index           |  0  |  1  |  2  |  3  |  4  |  5  |  6  |  7  |  8  |\n",
    "\n",
    "                <<<<<<<<<<<\n",
    "negative index  | -9  | -8  | -7  | -6  | -5  | -4  | -3  | -2  | -1  |\n",
    "</pre>"
   ]
  },
  {
   "cell_type": "markdown",
   "id": "65ab3cdf-c810-46dd-8c7e-efdbf2c29690",
   "metadata": {},
   "source": [
    "**Normal Index** -> get '456' and '654\""
   ]
  },
  {
   "cell_type": "code",
   "execution_count": 8,
   "id": "5ba37860-007b-4c88-a240-89c1fbe52030",
   "metadata": {},
   "outputs": [
    {
     "data": {
      "text/plain": [
       "'456'"
      ]
     },
     "execution_count": 8,
     "metadata": {},
     "output_type": "execute_result"
    }
   ],
   "source": [
    "# normal index ------->\n",
    "# 456  -> index from 3 up to 6\n",
    "\n",
    "numbers[3:6]"
   ]
  },
  {
   "cell_type": "code",
   "execution_count": 9,
   "id": "384d1661-f66d-4537-9ddd-8f7cfd718fff",
   "metadata": {},
   "outputs": [
    {
     "data": {
      "text/plain": [
       "'456'"
      ]
     },
     "execution_count": 9,
     "metadata": {},
     "output_type": "execute_result"
    }
   ],
   "source": [
    "# negative index  <--------\n",
    "# 456  -> index from -6 up to -3\n",
    "\n",
    "numbers[-6:-3:1]"
   ]
  },
  {
   "cell_type": "markdown",
   "id": "4e4cb39e-bada-4672-a076-de667f4441aa",
   "metadata": {},
   "source": [
    "**Negative Index:** take 654."
   ]
  },
  {
   "cell_type": "code",
   "execution_count": 10,
   "id": "89752a23-0d93-4f02-a3b4-76e3bb8a0443",
   "metadata": {},
   "outputs": [
    {
     "data": {
      "text/plain": [
       "'654'"
      ]
     },
     "execution_count": 10,
     "metadata": {},
     "output_type": "execute_result"
    }
   ],
   "source": [
    "numbers[-4:-7:-1]"
   ]
  },
  {
   "cell_type": "markdown",
   "id": "83cd32a6-ed69-4912-987a-0ff45a03237c",
   "metadata": {},
   "source": [
    "# Strings are Immutable"
   ]
  },
  {
   "cell_type": "markdown",
   "id": "56d28881-ff1f-459d-9a50-d17b7a52866d",
   "metadata": {},
   "source": [
    "In Python, Strings are Immutable:\n",
    "\n",
    "You can not change any part of a string."
   ]
  },
  {
   "cell_type": "markdown",
   "id": "4e66336a-0fa9-49e7-98d4-77cbec972bef",
   "metadata": {},
   "source": [
    "You can **reassign** but can not **mutate.**"
   ]
  },
  {
   "cell_type": "code",
   "execution_count": 1,
   "id": "2fcf0b91-6c3c-491f-ae1b-14076cc3e899",
   "metadata": {},
   "outputs": [
    {
     "data": {
      "text/plain": [
       "'Hello world'"
      ]
     },
     "execution_count": 1,
     "metadata": {},
     "output_type": "execute_result"
    }
   ],
   "source": [
    "say_hello = 'Hello world'\n",
    "say_hello"
   ]
  },
  {
   "cell_type": "code",
   "execution_count": 2,
   "id": "716deefe-c478-4f4b-a5b2-58e3ac2e79fd",
   "metadata": {},
   "outputs": [
    {
     "data": {
      "text/plain": [
       "'w'"
      ]
     },
     "execution_count": 2,
     "metadata": {},
     "output_type": "execute_result"
    }
   ],
   "source": [
    "say_hello[6]"
   ]
  },
  {
   "cell_type": "code",
   "execution_count": 3,
   "id": "35946476-fe73-4127-95a5-252d9b484bb3",
   "metadata": {},
   "outputs": [
    {
     "ename": "TypeError",
     "evalue": "'str' object does not support item assignment",
     "output_type": "error",
     "traceback": [
      "\u001b[1;31m---------------------------------------------------------------------------\u001b[0m",
      "\u001b[1;31mTypeError\u001b[0m                                 Traceback (most recent call last)",
      "\u001b[1;32m~\\AppData\\Local\\Temp/ipykernel_3928/419934116.py\u001b[0m in \u001b[0;36m<module>\u001b[1;34m\u001b[0m\n\u001b[0;32m      1\u001b[0m \u001b[1;31m# fix the value in index = 6\u001b[0m\u001b[1;33m\u001b[0m\u001b[1;33m\u001b[0m\u001b[1;33m\u001b[0m\u001b[0m\n\u001b[0;32m      2\u001b[0m \u001b[1;33m\u001b[0m\u001b[0m\n\u001b[1;32m----> 3\u001b[1;33m \u001b[0msay_hello\u001b[0m\u001b[1;33m[\u001b[0m\u001b[1;36m6\u001b[0m\u001b[1;33m]\u001b[0m \u001b[1;33m=\u001b[0m \u001b[1;34m'W'\u001b[0m\u001b[1;33m\u001b[0m\u001b[1;33m\u001b[0m\u001b[0m\n\u001b[0m",
      "\u001b[1;31mTypeError\u001b[0m: 'str' object does not support item assignment"
     ]
    }
   ],
   "source": [
    "# fix the value in index = 6\n",
    "\n",
    "say_hello[6] = 'W'"
   ]
  },
  {
   "cell_type": "markdown",
   "id": "8905a491-1395-476d-9a44-7a4d0835f1ea",
   "metadata": {},
   "source": [
    "TypeError: Strings are not mutable"
   ]
  },
  {
   "cell_type": "markdown",
   "id": "21bd8bb5-9584-4ba4-b700-463dbcbd0024",
   "metadata": {},
   "source": [
    "**Question:**\n",
    "\n",
    "How do we fix the error if we can not mutate?\n",
    "\n",
    "**Answer 1:**\n",
    "\n",
    "You can reassign.\n",
    "\n",
    "**Answer 2:**\n",
    "\n",
    "We will do slicing and concatinating."
   ]
  },
  {
   "cell_type": "code",
   "execution_count": 5,
   "id": "b8487d55-5069-413f-a86b-9ac778408067",
   "metadata": {},
   "outputs": [
    {
     "data": {
      "text/plain": [
       "'Hello '"
      ]
     },
     "execution_count": 5,
     "metadata": {},
     "output_type": "execute_result"
    }
   ],
   "source": [
    "slice_1 = say_hello[:6]\n",
    "slice_1"
   ]
  },
  {
   "cell_type": "code",
   "execution_count": 6,
   "id": "9516abcb-2142-46ef-9e5c-de55d5fd5af8",
   "metadata": {},
   "outputs": [
    {
     "data": {
      "text/plain": [
       "'orld'"
      ]
     },
     "execution_count": 6,
     "metadata": {},
     "output_type": "execute_result"
    }
   ],
   "source": [
    "slice_2 = say_hello[7:]\n",
    "slice_2"
   ]
  },
  {
   "cell_type": "code",
   "execution_count": 7,
   "id": "829ae98c-142e-4af8-91bf-45f3ef6c2e03",
   "metadata": {},
   "outputs": [
    {
     "data": {
      "text/plain": [
       "'Hello World'"
      ]
     },
     "execution_count": 7,
     "metadata": {},
     "output_type": "execute_result"
    }
   ],
   "source": [
    "say_hello_new = slice_1 + \"W\" + slice_2\n",
    "say_hello_new"
   ]
  },
  {
   "cell_type": "code",
   "execution_count": 8,
   "id": "8ad8b632-8fb4-4f7f-9176-eafd450c5777",
   "metadata": {},
   "outputs": [
    {
     "data": {
      "text/plain": [
       "'Hello world'"
      ]
     },
     "execution_count": 8,
     "metadata": {},
     "output_type": "execute_result"
    }
   ],
   "source": [
    "say_hello"
   ]
  },
  {
   "cell_type": "code",
   "execution_count": 9,
   "id": "49c27f8e-47fc-486f-9547-8417609b7b30",
   "metadata": {},
   "outputs": [
    {
     "data": {
      "text/plain": [
       "'Hello World'"
      ]
     },
     "execution_count": 9,
     "metadata": {},
     "output_type": "execute_result"
    }
   ],
   "source": [
    "say_hello = slice_1 + \"W\" + slice_2\n",
    "say_hello"
   ]
  },
  {
   "cell_type": "markdown",
   "id": "70c5f21f-bb93-4844-8345-e39f54627a65",
   "metadata": {},
   "source": [
    "# String Methods"
   ]
  },
  {
   "cell_type": "markdown",
   "id": "c0ab3806-f660-4377-8390-45c9e574872e",
   "metadata": {},
   "source": [
    "**upper()**: Converts string into upper case."
   ]
  },
  {
   "cell_type": "code",
   "execution_count": 1,
   "id": "67cf6465-978c-47d9-9fc2-cdf3307367e1",
   "metadata": {},
   "outputs": [
    {
     "data": {
      "text/plain": [
       "'computer'"
      ]
     },
     "execution_count": 1,
     "metadata": {},
     "output_type": "execute_result"
    }
   ],
   "source": [
    "word = 'computer'\n",
    "word"
   ]
  },
  {
   "cell_type": "code",
   "execution_count": 3,
   "id": "8a5f0d61-eb8d-4d45-90a5-f931f28eb9f9",
   "metadata": {},
   "outputs": [
    {
     "data": {
      "text/plain": [
       "'COMPUTER'"
      ]
     },
     "execution_count": 3,
     "metadata": {},
     "output_type": "execute_result"
    }
   ],
   "source": [
    "word_upper_case = word.upper()\n",
    "word_upper_case"
   ]
  },
  {
   "cell_type": "code",
   "execution_count": 4,
   "id": "a0343c0e-edbb-4aca-adc7-a9b53246fbb4",
   "metadata": {},
   "outputs": [
    {
     "data": {
      "text/plain": [
       "'computer'"
      ]
     },
     "execution_count": 4,
     "metadata": {},
     "output_type": "execute_result"
    }
   ],
   "source": [
    "word"
   ]
  },
  {
   "cell_type": "markdown",
   "id": "710444d1-ee5c-47b2-be62-3fdcdcae9b2f",
   "metadata": {},
   "source": [
    "**lower()**: Converts string into lower case."
   ]
  },
  {
   "cell_type": "code",
   "execution_count": 6,
   "id": "c3fe40dd-4d77-4928-b43b-2ddf5a3d5367",
   "metadata": {},
   "outputs": [
    {
     "data": {
      "text/plain": [
       "'LEARNING'"
      ]
     },
     "execution_count": 6,
     "metadata": {},
     "output_type": "execute_result"
    }
   ],
   "source": [
    "word = 'LEARNING'\n",
    "word"
   ]
  },
  {
   "cell_type": "code",
   "execution_count": 7,
   "id": "4275613d-2c4d-4c7b-8f15-f31ad247989c",
   "metadata": {},
   "outputs": [
    {
     "data": {
      "text/plain": [
       "'learning'"
      ]
     },
     "execution_count": 7,
     "metadata": {},
     "output_type": "execute_result"
    }
   ],
   "source": [
    "word_lower_case = word.lower()\n",
    "word_lower_case"
   ]
  },
  {
   "cell_type": "code",
   "execution_count": 8,
   "id": "145b4f31-3181-41e7-9992-2ea25fd7d82f",
   "metadata": {},
   "outputs": [
    {
     "data": {
      "text/plain": [
       "'LEARNING'"
      ]
     },
     "execution_count": 8,
     "metadata": {},
     "output_type": "execute_result"
    }
   ],
   "source": [
    "word"
   ]
  },
  {
   "cell_type": "markdown",
   "id": "eb2ad467-7ada-49a6-9e7d-b9039fbf12ba",
   "metadata": {},
   "source": [
    "**strip()**: Removes the space chars at the beginning and end of the string."
   ]
  },
  {
   "cell_type": "code",
   "execution_count": 10,
   "id": "c41ff0cd-579d-49a6-8e42-6bcdd0779076",
   "metadata": {},
   "outputs": [
    {
     "data": {
      "text/plain": [
       "'This is a sentence.'"
      ]
     },
     "execution_count": 10,
     "metadata": {},
     "output_type": "execute_result"
    }
   ],
   "source": [
    "sentence = '   This is a sentence.   '\n",
    "sentence.strip()"
   ]
  },
  {
   "cell_type": "code",
   "execution_count": 11,
   "id": "5ab2e36d-1a47-4f2b-a65d-f8cc31168e58",
   "metadata": {},
   "outputs": [
    {
     "data": {
      "text/plain": [
       "'   This is a sentence.   '"
      ]
     },
     "execution_count": 11,
     "metadata": {},
     "output_type": "execute_result"
    }
   ],
   "source": [
    "sentence"
   ]
  },
  {
   "cell_type": "code",
   "execution_count": 12,
   "id": "e9d8b36c-1809-478b-945e-100784848723",
   "metadata": {},
   "outputs": [
    {
     "data": {
      "text/plain": [
       "'This is a sentence.'"
      ]
     },
     "execution_count": 12,
     "metadata": {},
     "output_type": "execute_result"
    }
   ],
   "source": [
    "new_sentence = sentence.strip()\n",
    "new_sentence"
   ]
  },
  {
   "cell_type": "code",
   "execution_count": 13,
   "id": "2f0a28b0-a2ab-45ee-9ae1-f7972e25dd7f",
   "metadata": {},
   "outputs": [
    {
     "data": {
      "text/plain": [
       "'gmail.com'"
      ]
     },
     "execution_count": 13,
     "metadata": {},
     "output_type": "execute_result"
    }
   ],
   "source": [
    "text = '#@gmail.com@#'\n",
    "text.strip('@#')"
   ]
  },
  {
   "cell_type": "markdown",
   "id": "3c982eca-553e-40e3-8dff-b16295cd1904",
   "metadata": {},
   "source": [
    "**lstrip()**: Removes the space chars at the beginning of the string.\n",
    "\n",
    "**rstrip()**: Removes the space chars at the end of the string."
   ]
  },
  {
   "cell_type": "code",
   "execution_count": 14,
   "id": "2b582958-e68f-4282-82db-212257e3aa4b",
   "metadata": {},
   "outputs": [
    {
     "data": {
      "text/plain": [
       "'dashes before string'"
      ]
     },
     "execution_count": 14,
     "metadata": {},
     "output_type": "execute_result"
    }
   ],
   "source": [
    "text = '------ dashes before string'\n",
    "text.lstrip(' -')"
   ]
  },
  {
   "cell_type": "markdown",
   "id": "a29148ae-ca4f-4cfa-9263-9fdd625cc8ab",
   "metadata": {},
   "source": [
    "**format():** decorates the string with variables."
   ]
  },
  {
   "cell_type": "code",
   "execution_count": 15,
   "id": "bf2d2402-00de-45dd-9925-12c8421fd32c",
   "metadata": {},
   "outputs": [
    {
     "data": {
      "text/plain": [
       "'Python - Machine Learning'"
      ]
     },
     "execution_count": 15,
     "metadata": {},
     "output_type": "execute_result"
    }
   ],
   "source": [
    "A = 'Python'\n",
    "B = 'Machine'\n",
    "C = 'Learning'\n",
    "\n",
    "arg = '{0} - {1} {2}'.format(A, B, C)\n",
    "arg"
   ]
  },
  {
   "cell_type": "code",
   "execution_count": 16,
   "id": "bd95ed14-1cdb-4bde-b1fd-1d158e0074da",
   "metadata": {},
   "outputs": [
    {
     "name": "stdout",
     "output_type": "stream",
     "text": [
      "Python - Machine Learning\n"
     ]
    }
   ],
   "source": [
    "arg = '{0} - {1} {2}'\n",
    "print(arg.format(A, B, C))"
   ]
  },
  {
   "cell_type": "markdown",
   "id": "4d40251b-623a-4b9c-9d3d-a942d8987f47",
   "metadata": {},
   "source": [
    "**find():** Looks for cht or string inside a string.\n",
    "\n",
    "* if it finds -> the first index\n",
    "* if it doesn't find -> -1"
   ]
  },
  {
   "cell_type": "code",
   "execution_count": 17,
   "id": "80b78aa8-f4e6-47b2-b062-76945de7cb3b",
   "metadata": {},
   "outputs": [
    {
     "data": {
      "text/plain": [
       "'window'"
      ]
     },
     "execution_count": 17,
     "metadata": {},
     "output_type": "execute_result"
    }
   ],
   "source": [
    "word = 'window'\n",
    "word"
   ]
  },
  {
   "cell_type": "code",
   "execution_count": 18,
   "id": "ca1f2b66-d8f5-483e-b63b-2c9449149662",
   "metadata": {},
   "outputs": [
    {
     "data": {
      "text/plain": [
       "0"
      ]
     },
     "execution_count": 18,
     "metadata": {},
     "output_type": "execute_result"
    }
   ],
   "source": [
    "word.find('w')"
   ]
  },
  {
   "cell_type": "code",
   "execution_count": 19,
   "id": "76defbd7-6d00-4b9c-908f-84927df4c7f1",
   "metadata": {},
   "outputs": [
    {
     "data": {
      "text/plain": [
       "1"
      ]
     },
     "execution_count": 19,
     "metadata": {},
     "output_type": "execute_result"
    }
   ],
   "source": [
    "word.find('in')"
   ]
  },
  {
   "cell_type": "code",
   "execution_count": 20,
   "id": "a51478a5-b239-484d-bcea-c12434bfd426",
   "metadata": {},
   "outputs": [
    {
     "data": {
      "text/plain": [
       "-1"
      ]
     },
     "execution_count": 20,
     "metadata": {},
     "output_type": "execute_result"
    }
   ],
   "source": [
    "word.find('t')"
   ]
  },
  {
   "cell_type": "code",
   "execution_count": 21,
   "id": "d854341d-369c-46e8-b8ff-5d7f38db9be6",
   "metadata": {},
   "outputs": [
    {
     "data": {
      "text/plain": [
       "5"
      ]
     },
     "execution_count": 21,
     "metadata": {},
     "output_type": "execute_result"
    }
   ],
   "source": [
    "# specify starting index\n",
    "\n",
    "word.find('w', 1)"
   ]
  },
  {
   "cell_type": "code",
   "execution_count": 22,
   "id": "b68b5057-2f6d-4ec8-9804-94ae253d7f59",
   "metadata": {},
   "outputs": [
    {
     "data": {
      "text/plain": [
       "'Batman Dark Knight'"
      ]
     },
     "execution_count": 22,
     "metadata": {},
     "output_type": "execute_result"
    }
   ],
   "source": [
    "# start - end -> find('x', start, end)\n",
    "\n",
    "movie_name = 'Batman Dark Knight'\n",
    "movie_name"
   ]
  },
  {
   "cell_type": "code",
   "execution_count": 23,
   "id": "62f9f550-e715-4bc6-b484-d824aaa88fec",
   "metadata": {},
   "outputs": [
    {
     "data": {
      "text/plain": [
       "4"
      ]
     },
     "execution_count": 23,
     "metadata": {},
     "output_type": "execute_result"
    }
   ],
   "source": [
    "movie_name.find('a', 2, 5)"
   ]
  },
  {
   "cell_type": "markdown",
   "id": "96c8bd64-2e74-42c7-9bb6-78aa7fb28e84",
   "metadata": {},
   "source": [
    "**capitalize():** It converts the first letter -> upper"
   ]
  },
  {
   "cell_type": "code",
   "execution_count": 24,
   "id": "c0483e07-77a2-4cde-a70f-5521eb25352b",
   "metadata": {},
   "outputs": [],
   "source": [
    "movie = 'the godfather'"
   ]
  },
  {
   "cell_type": "code",
   "execution_count": 25,
   "id": "6e793fca-2d90-4147-92e7-2b754f3eabca",
   "metadata": {},
   "outputs": [
    {
     "data": {
      "text/plain": [
       "'The godfather'"
      ]
     },
     "execution_count": 25,
     "metadata": {},
     "output_type": "execute_result"
    }
   ],
   "source": [
    "movie.capitalize()"
   ]
  },
  {
   "cell_type": "markdown",
   "id": "464d68f1-9c8c-4957-8aa7-e77e1e704531",
   "metadata": {},
   "source": [
    "**title():** It converts all the first letter or word-> upper"
   ]
  },
  {
   "cell_type": "code",
   "execution_count": 26,
   "id": "15cd2f67-9ad3-418a-9b19-63a32a80ec1a",
   "metadata": {},
   "outputs": [
    {
     "data": {
      "text/plain": [
       "'The Godfather Part Two'"
      ]
     },
     "execution_count": 26,
     "metadata": {},
     "output_type": "execute_result"
    }
   ],
   "source": [
    "movie = 'the godfather part two'\n",
    "movie.title()"
   ]
  },
  {
   "cell_type": "markdown",
   "id": "a2f5d346-44ae-411a-a34c-1c1f804af69c",
   "metadata": {},
   "source": [
    "**isdigit():** checks if integer."
   ]
  },
  {
   "cell_type": "code",
   "execution_count": 28,
   "id": "2c8471f9-8f15-44b3-9c86-1791041b2759",
   "metadata": {},
   "outputs": [
    {
     "data": {
      "text/plain": [
       "False"
      ]
     },
     "execution_count": 28,
     "metadata": {},
     "output_type": "execute_result"
    }
   ],
   "source": [
    "txt = 'abc'\n",
    "txt.isdigit()"
   ]
  },
  {
   "cell_type": "code",
   "execution_count": 29,
   "id": "f75b2b0e-1cc6-4362-8e29-aaa771f58a7a",
   "metadata": {},
   "outputs": [
    {
     "data": {
      "text/plain": [
       "True"
      ]
     },
     "execution_count": 29,
     "metadata": {},
     "output_type": "execute_result"
    }
   ],
   "source": [
    "txt = '45'\n",
    "txt.isdigit()"
   ]
  },
  {
   "cell_type": "code",
   "execution_count": 30,
   "id": "6fbc17af-f7e8-434a-af19-b7a56e92d61c",
   "metadata": {},
   "outputs": [
    {
     "data": {
      "text/plain": [
       "False"
      ]
     },
     "execution_count": 30,
     "metadata": {},
     "output_type": "execute_result"
    }
   ],
   "source": [
    "'4.5'.isdigit()"
   ]
  },
  {
   "cell_type": "markdown",
   "id": "3630e5ee-6364-46a6-9eb3-7fed3dea0287",
   "metadata": {},
   "source": [
    "**startswith():** check if the string start with a char or a string.\n",
    "\n",
    "(endswith())"
   ]
  },
  {
   "cell_type": "code",
   "execution_count": 31,
   "id": "a106dd36-5af1-421d-abdc-97cf48afa1f7",
   "metadata": {},
   "outputs": [
    {
     "data": {
      "text/plain": [
       "False"
      ]
     },
     "execution_count": 31,
     "metadata": {},
     "output_type": "execute_result"
    }
   ],
   "source": [
    "planet = 'Mars'\n",
    "planet.startswith('T')"
   ]
  },
  {
   "cell_type": "code",
   "execution_count": 32,
   "id": "5f179ee6-2402-433a-b268-a3d28fb22c6d",
   "metadata": {},
   "outputs": [
    {
     "data": {
      "text/plain": [
       "True"
      ]
     },
     "execution_count": 32,
     "metadata": {},
     "output_type": "execute_result"
    }
   ],
   "source": [
    "planet.startswith('M')"
   ]
  },
  {
   "cell_type": "code",
   "execution_count": 33,
   "id": "c9ad933d-84af-4342-bdbf-fa053421ce94",
   "metadata": {},
   "outputs": [
    {
     "data": {
      "text/plain": [
       "True"
      ]
     },
     "execution_count": 33,
     "metadata": {},
     "output_type": "execute_result"
    }
   ],
   "source": [
    "planet.startswith('Ma')"
   ]
  },
  {
   "cell_type": "markdown",
   "id": "b0013e54-d001-44e0-b8dc-8e2b1ff5bc7e",
   "metadata": {},
   "source": [
    "**replace():** replaces the string with another."
   ]
  },
  {
   "cell_type": "code",
   "execution_count": 34,
   "id": "2bfe7584-db06-461d-8ef9-5b182d20774e",
   "metadata": {},
   "outputs": [
    {
     "data": {
      "text/plain": [
       "'In 2008 Java is the most populat language.'"
      ]
     },
     "execution_count": 34,
     "metadata": {},
     "output_type": "execute_result"
    }
   ],
   "source": [
    "language = 'In 2008 Java is the most populat language.'\n",
    "language"
   ]
  },
  {
   "cell_type": "code",
   "execution_count": 38,
   "id": "f6e16ad3-d0ea-4379-a176-cacf5fb94de4",
   "metadata": {},
   "outputs": [
    {
     "data": {
      "text/plain": [
       "'In 2021 Python is the most populat language.'"
      ]
     },
     "execution_count": 38,
     "metadata": {},
     "output_type": "execute_result"
    }
   ],
   "source": [
    "new_language = language.replace('2008', '2021').replace('Java', 'Python')\n",
    "new_language"
   ]
  },
  {
   "cell_type": "code",
   "execution_count": null,
   "id": "95f20ff3-7a31-43e7-8dbe-46caf7b2aa30",
   "metadata": {},
   "outputs": [],
   "source": []
  }
 ],
 "metadata": {
  "kernelspec": {
   "display_name": "Python 3 (ipykernel)",
   "language": "python",
   "name": "python3"
  },
  "language_info": {
   "codemirror_mode": {
    "name": "ipython",
    "version": 3
   },
   "file_extension": ".py",
   "mimetype": "text/x-python",
   "name": "python",
   "nbconvert_exporter": "python",
   "pygments_lexer": "ipython3",
   "version": "3.8.12"
  }
 },
 "nbformat": 4,
 "nbformat_minor": 5
}
