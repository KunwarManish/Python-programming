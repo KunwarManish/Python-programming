{
 "cells": [
  {
   "cell_type": "markdown",
   "id": "16bd5c2c-84bb-47c1-be1b-3291ee6122bb",
   "metadata": {},
   "source": [
    "# Strings"
   ]
  },
  {
   "cell_type": "markdown",
   "id": "3e8d466d-fa7d-40b9-9ae0-6d505f248f31",
   "metadata": {},
   "source": [
    "Strings are different from other primitive types, int, float, bool."
   ]
  },
  {
   "cell_type": "markdown",
   "id": "1f3d625b-2ada-4351-8f53-b0c7185941e2",
   "metadata": {},
   "source": [
    "Strings are sequence."
   ]
  },
  {
   "cell_type": "markdown",
   "id": "e96d1182-8340-479c-b017-d36684b362c2",
   "metadata": {},
   "source": [
    "Strings include array of characters in them."
   ]
  },
  {
   "cell_type": "markdown",
   "id": "5a0281dd-5d29-489e-b223-a9f228f73576",
   "metadata": {},
   "source": [
    "**Ex:**\n",
    "\n",
    "\"Python\" -> P y t h o n"
   ]
  },
  {
   "cell_type": "markdown",
   "id": "190981b6-c926-4d56-9fde-9d0355450312",
   "metadata": {},
   "source": [
    "**Sequence Types:**\n",
    "* String\n",
    "* List\n",
    "* Tuple"
   ]
  },
  {
   "cell_type": "markdown",
   "id": "39de65ca-e9dc-4455-b395-e9842457ec1d",
   "metadata": {},
   "source": [
    "# String is a Squence"
   ]
  },
  {
   "cell_type": "code",
   "execution_count": 1,
   "id": "61eb7327-c591-4901-bda3-91e4b0c966a2",
   "metadata": {},
   "outputs": [
    {
     "data": {
      "text/plain": [
       "'orange'"
      ]
     },
     "execution_count": 1,
     "metadata": {},
     "output_type": "execute_result"
    }
   ],
   "source": [
    "fruit = 'orange'\n",
    "fruit"
   ]
  },
  {
   "cell_type": "code",
   "execution_count": 2,
   "id": "6954d461-99f9-4154-b9e5-188ba695e4e3",
   "metadata": {},
   "outputs": [
    {
     "data": {
      "text/plain": [
       "'o'"
      ]
     },
     "execution_count": 2,
     "metadata": {},
     "output_type": "execute_result"
    }
   ],
   "source": [
    "fruit[0]"
   ]
  },
  {
   "cell_type": "code",
   "execution_count": 3,
   "id": "3fa2d8bf-1b46-4928-b7a0-444e9006a86d",
   "metadata": {},
   "outputs": [
    {
     "data": {
      "text/plain": [
       "'r'"
      ]
     },
     "execution_count": 3,
     "metadata": {},
     "output_type": "execute_result"
    }
   ],
   "source": [
    "fruit[1]"
   ]
  },
  {
   "cell_type": "markdown",
   "id": "9f06a11b-14c4-4ce1-91bd-314f8658f08e",
   "metadata": {},
   "source": [
    "In Python, for sequence types, we access elements via indices.\n",
    "\n",
    "`sequence[index]`"
   ]
  },
  {
   "cell_type": "markdown",
   "id": "ed052b8f-7900-4f67-a9c1-8c4d0dd44b0f",
   "metadata": {},
   "source": [
    "**In Python, index start from 0:**\n",
    "\n",
    "0,1,2,3,...."
   ]
  },
  {
   "cell_type": "raw",
   "id": "4548293d-3ad6-418d-91b8-fc59b53232fa",
   "metadata": {},
   "source": [
    "fruit\n",
    "get the element in the third  (3rd) order\n",
    "\n",
    "Orders:\n",
    "1 2 3 4 5 6     \n",
    "o r a n g e\n",
    "0 1 2 3 4 5\n",
    "Index: \n",
    "    "
   ]
  },
  {
   "cell_type": "code",
   "execution_count": 6,
   "id": "b45f64c8-a1fc-4cfc-a16a-b86cad9d98b2",
   "metadata": {},
   "outputs": [
    {
     "data": {
      "text/plain": [
       "'a'"
      ]
     },
     "execution_count": 6,
     "metadata": {},
     "output_type": "execute_result"
    }
   ],
   "source": [
    "# we want the letter in fruit of order 3\n",
    "# order 3 = index 2\n",
    "\n",
    "fruit[2]"
   ]
  },
  {
   "cell_type": "code",
   "execution_count": 7,
   "id": "cf1c09ec-7187-4380-a20c-9f87c9401338",
   "metadata": {},
   "outputs": [
    {
     "data": {
      "text/plain": [
       "'e'"
      ]
     },
     "execution_count": 7,
     "metadata": {},
     "output_type": "execute_result"
    }
   ],
   "source": [
    "# the letter in 6th order\n",
    "# order 6 = index 5\n",
    "\n",
    "fruit[5]"
   ]
  },
  {
   "cell_type": "code",
   "execution_count": 1,
   "id": "40a1b958-d432-464f-9021-0745f37519ab",
   "metadata": {},
   "outputs": [],
   "source": [
    "# get the last element"
   ]
  },
  {
   "cell_type": "markdown",
   "id": "7c767047-0db4-4ce9-94ab-988cc27cdd6f",
   "metadata": {},
   "source": [
    "## String Length (len)"
   ]
  },
  {
   "cell_type": "markdown",
   "id": "b7053c56-2d1b-4275-898c-f3ef6eefcdea",
   "metadata": {},
   "source": [
    "In Python, to get the length of sequence types we use standard function: `len()`"
   ]
  },
  {
   "cell_type": "code",
   "execution_count": 4,
   "id": "bb5e3d90-9805-4cb4-a490-2b8e75ed44bb",
   "metadata": {},
   "outputs": [
    {
     "data": {
      "text/plain": [
       "'orange'"
      ]
     },
     "execution_count": 4,
     "metadata": {},
     "output_type": "execute_result"
    }
   ],
   "source": [
    "fruit = 'orange'\n",
    "fruit"
   ]
  },
  {
   "cell_type": "code",
   "execution_count": 5,
   "id": "c657e967-6125-44a3-b01b-cf1c16b6e88d",
   "metadata": {},
   "outputs": [
    {
     "data": {
      "text/plain": [
       "6"
      ]
     },
     "execution_count": 5,
     "metadata": {},
     "output_type": "execute_result"
    }
   ],
   "source": [
    "# length of fruit\n",
    "\n",
    "len(fruit)"
   ]
  },
  {
   "cell_type": "markdown",
   "id": "31ec6b8e-c958-4fca-9508-90aa1be39491",
   "metadata": {},
   "source": [
    "We want to get the last element -> the index = 5"
   ]
  },
  {
   "cell_type": "code",
   "execution_count": 7,
   "id": "0376942a-a543-4842-9a10-251e6ad209c3",
   "metadata": {},
   "outputs": [
    {
     "name": "stdout",
     "output_type": "stream",
     "text": [
      "last index: 5\n",
      "last element: e\n"
     ]
    }
   ],
   "source": [
    "# the last element -> order 6\n",
    "# index = 5\n",
    "# last index = length -1\n",
    "\n",
    "last_index = len(fruit) -1\n",
    "print('last index:', last_index)\n",
    "\n",
    "last_element = fruit[last_index]\n",
    "print(\"last element:\", last_element)"
   ]
  },
  {
   "cell_type": "code",
   "execution_count": 8,
   "id": "0c567345-7f07-429a-a70f-191bf9b3e63c",
   "metadata": {},
   "outputs": [
    {
     "data": {
      "text/plain": [
       "'e'"
      ]
     },
     "execution_count": 8,
     "metadata": {},
     "output_type": "execute_result"
    }
   ],
   "source": [
    "# in one line\n",
    "# last element\n",
    "\n",
    "fruit[len(fruit)-1]"
   ]
  },
  {
   "cell_type": "code",
   "execution_count": 9,
   "id": "084639d7-ae27-495b-836d-7dfbcb39657e",
   "metadata": {},
   "outputs": [
    {
     "ename": "IndexError",
     "evalue": "string index out of range",
     "output_type": "error",
     "traceback": [
      "\u001b[1;31m---------------------------------------------------------------------------\u001b[0m",
      "\u001b[1;31mIndexError\u001b[0m                                Traceback (most recent call last)",
      "\u001b[1;32m~\\AppData\\Local\\Temp/ipykernel_9444/3643081050.py\u001b[0m in \u001b[0;36m<module>\u001b[1;34m\u001b[0m\n\u001b[0;32m      3\u001b[0m \u001b[1;31m# fruit[6]\u001b[0m\u001b[1;33m\u001b[0m\u001b[1;33m\u001b[0m\u001b[1;33m\u001b[0m\u001b[0m\n\u001b[0;32m      4\u001b[0m \u001b[1;33m\u001b[0m\u001b[0m\n\u001b[1;32m----> 5\u001b[1;33m \u001b[0mfruit\u001b[0m\u001b[1;33m[\u001b[0m\u001b[0mlen\u001b[0m\u001b[1;33m(\u001b[0m\u001b[0mfruit\u001b[0m\u001b[1;33m)\u001b[0m\u001b[1;33m]\u001b[0m\u001b[1;33m\u001b[0m\u001b[1;33m\u001b[0m\u001b[0m\n\u001b[0m\u001b[0;32m      6\u001b[0m \u001b[1;33m\u001b[0m\u001b[0m\n\u001b[0;32m      7\u001b[0m \u001b[1;31m# IndexError -> no index with this value\u001b[0m\u001b[1;33m\u001b[0m\u001b[1;33m\u001b[0m\u001b[1;33m\u001b[0m\u001b[0m\n",
      "\u001b[1;31mIndexError\u001b[0m: string index out of range"
     ]
    }
   ],
   "source": [
    "# wrong last index\n",
    "\n",
    "# fruit[6]\n",
    "\n",
    "fruit[len(fruit)]\n",
    "\n",
    "# IndexError -> no index with this value"
   ]
  },
  {
   "cell_type": "code",
   "execution_count": 10,
   "id": "a736c3f9-e889-48d9-8674-e13c5d8dfa00",
   "metadata": {},
   "outputs": [
    {
     "ename": "IndexError",
     "evalue": "string index out of range",
     "output_type": "error",
     "traceback": [
      "\u001b[1;31m---------------------------------------------------------------------------\u001b[0m",
      "\u001b[1;31mIndexError\u001b[0m                                Traceback (most recent call last)",
      "\u001b[1;32m~\\AppData\\Local\\Temp/ipykernel_9444/421212574.py\u001b[0m in \u001b[0;36m<module>\u001b[1;34m\u001b[0m\n\u001b[1;32m----> 1\u001b[1;33m \u001b[0mfruit\u001b[0m\u001b[1;33m[\u001b[0m\u001b[1;36m8\u001b[0m\u001b[1;33m]\u001b[0m\u001b[1;33m\u001b[0m\u001b[1;33m\u001b[0m\u001b[0m\n\u001b[0m",
      "\u001b[1;31mIndexError\u001b[0m: string index out of range"
     ]
    }
   ],
   "source": [
    "fruit[8]"
   ]
  },
  {
   "cell_type": "code",
   "execution_count": 11,
   "id": "2ca8d4c1-38e0-445c-9e5d-d2d0e504d19d",
   "metadata": {},
   "outputs": [
    {
     "data": {
      "text/plain": [
       "('Machine Learning', 'ALAN TURING')"
      ]
     },
     "execution_count": 11,
     "metadata": {},
     "output_type": "execute_result"
    }
   ],
   "source": [
    "\n",
    "x = 'Machine Learning'\n",
    "\n",
    "y = 'ALAN TURING'\n",
    "\n",
    "x,y"
   ]
  },
  {
   "cell_type": "code",
   "execution_count": 12,
   "id": "f1dfece3-845f-4731-85f4-4c6fad750d89",
   "metadata": {},
   "outputs": [
    {
     "data": {
      "text/plain": [
       "('Machine Learning', 'ALAN TURING')"
      ]
     },
     "execution_count": 12,
     "metadata": {},
     "output_type": "execute_result"
    }
   ],
   "source": [
    "x, y"
   ]
  },
  {
   "cell_type": "code",
   "execution_count": null,
   "id": "df1766b8-54c9-4b7f-9ec6-c56f6c34ccf1",
   "metadata": {},
   "outputs": [
    {
     "data": {
      "text/plain": [
       "(16, 11)"
      ]
     },
     "execution_count": 13,
     "metadata": {},
     "output_type": "execute_result"
    }
   ],
   "source": [
    "len(x), len(y)"
   ]
  },
  {
   "cell_type": "code",
   "execution_count": null,
   "id": "a1034b8e-9c4c-4ac8-930e-e5045cad2478",
   "metadata": {},
   "outputs": [],
   "source": []
  }
 ],
 "metadata": {
  "kernelspec": {
   "display_name": "Python 3 (ipykernel)",
   "language": "python",
   "name": "python3"
  },
  "language_info": {
   "codemirror_mode": {
    "name": "ipython",
    "version": 3
   },
   "file_extension": ".py",
   "mimetype": "text/x-python",
   "name": "python",
   "nbconvert_exporter": "python",
   "pygments_lexer": "ipython3",
   "version": "3.8.12"
  }
 },
 "nbformat": 4,
 "nbformat_minor": 5
}
