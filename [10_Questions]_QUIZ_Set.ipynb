{
 "cells": [
  {
   "cell_type": "markdown",
   "id": "returning-delay",
   "metadata": {},
   "source": [
    "## [10 Questions] QUIZ - Set"
   ]
  },
  {
   "cell_type": "markdown",
   "id": "olympic-accreditation",
   "metadata": {},
   "source": [
    "**Q 1:**\n",
    "\n",
    "Define a function named **create_set_and_add**.\n",
    "\n",
    "It will take a list as parameter.\n",
    "\n",
    "First it will create a set containing the elements below:\n",
    "\n",
    "\"Apple\", \"Banana\", \"Cherry\", \"Orange\"\n",
    "\n",
    "Then it will the items of the parameter list into this set.\n",
    "\n",
    "And finally it will return the final set.\n",
    "\n",
    "**Hints:**\n",
    "* {}\n",
    "* add()\n",
    "\n",
    "<pre style=\"background: gold\">\n",
    "Parameter:\n",
    "list_to_add = ['Cranberry', 'Grape', 'Pineapple', 'Mango']\n",
    "\n",
    "Expected Output:\n",
    "{'Mango', 'Apple', 'Cranberry', 'Banana', 'Cherry', 'Grape', 'Pineapple', 'Orange'}\n",
    "</pre>"
   ]
  },
  {
   "cell_type": "code",
   "execution_count": 1,
   "id": "accessory-worry",
   "metadata": {},
   "outputs": [],
   "source": [
    "# S 1:\n",
    "\n",
    "def create_set_and_add(a_list):\n",
    "    \n",
    "    # first create the set\n",
    "    fruits = {\"Apple\", \"Banana\", \"Cherry\", \"Orange\"}\n",
    "    \n",
    "    # loop over the list -> add elements\n",
    "    for e in a_list:\n",
    "        fruits.add(e)\n",
    "        \n",
    "    return fruits\n",
    "    "
   ]
  },
  {
   "cell_type": "code",
   "execution_count": 2,
   "id": "transparent-reference",
   "metadata": {},
   "outputs": [
    {
     "name": "stdout",
     "output_type": "stream",
     "text": [
      "{'Orange', 'Banana', 'Grape', 'Cherry', 'Cranberry', 'Mango', 'Apple', 'Pineapple'}\n"
     ]
    }
   ],
   "source": [
    "list_to_add = ['Cranberry', 'Grape', 'Pineapple', 'Mango']\n",
    "\n",
    "all_fruits = create_set_and_add(list_to_add)\n",
    "\n",
    "print(all_fruits)"
   ]
  },
  {
   "cell_type": "markdown",
   "id": "super-danger",
   "metadata": {},
   "source": [
    "---"
   ]
  },
  {
   "cell_type": "markdown",
   "id": "quantitative-satin",
   "metadata": {},
   "source": [
    "**Q 2:**\n",
    "\n",
    "Define a function named **create_set_and_add_all_at_once**.\n",
    "\n",
    "It will take a list as parameter.\n",
    "\n",
    "First it will create a set containing the elements below:\n",
    "\n",
    "\"Apple\", \"Banana\", \"Cherry\", \"Orange\"\n",
    "\n",
    "Then it will the items of the parameter list into this set (all at once).\n",
    "\n",
    "And finally it will return the final set.\n",
    "\n",
    "**Hints:**\n",
    "* set()\n",
    "* update()\n",
    "\n",
    "<pre style=\"background: gold\">\n",
    "Parameter:\n",
    "list_to_add = ['Cranberry', 'Grape', 'Pineapple', 'Mango']\n",
    "\n",
    "Expected Output:\n",
    "{'Mango', 'Apple', 'Cranberry', 'Banana', 'Cherry', 'Grape', 'Pineapple', 'Orange'}\n",
    "</pre>"
   ]
  },
  {
   "cell_type": "code",
   "execution_count": 3,
   "id": "indonesian-window",
   "metadata": {},
   "outputs": [],
   "source": [
    "# S 2:\n",
    "\n",
    "def create_set_and_add_all_at_once(a_list):\n",
    "    \n",
    "    # first create the set\n",
    "    fruits = {\"Apple\", \"Banana\", \"Cherry\", \"Orange\"}\n",
    "    \n",
    "    # add all elements -> update()\n",
    "    fruits.update(a_list)\n",
    "        \n",
    "    return fruits\n",
    "    \n"
   ]
  },
  {
   "cell_type": "code",
   "execution_count": 5,
   "id": "civic-priest",
   "metadata": {},
   "outputs": [
    {
     "name": "stdout",
     "output_type": "stream",
     "text": [
      "{'Orange', 'Banana', 'Grape', 'Another Fruit', 'Cherry', 'Cranberry', 'Mango', 'Apple', 'Pineapple'}\n"
     ]
    }
   ],
   "source": [
    "list_to_add = ['Cranberry', 'Grape', 'Pineapple', 'Mango', 'Another Fruit']\n",
    "\n",
    "all_fruits = create_set_and_add_all_at_once(list_to_add)\n",
    "\n",
    "print(all_fruits)"
   ]
  },
  {
   "cell_type": "markdown",
   "id": "single-removal",
   "metadata": {},
   "source": [
    "---"
   ]
  },
  {
   "cell_type": "markdown",
   "id": "frequent-temperature",
   "metadata": {},
   "source": [
    "**Q 3:**\n",
    "\n",
    "Define a function named **same_elements**.\n",
    "\n",
    "It will take two Sets as parameters.\n",
    "\n",
    "The function will return the same elements (intersection) of both sets in a List.\n",
    "\n",
    "And this list is going to be sorted in ascending order.\n",
    "\n",
    "**Hints:**\n",
    "* no loops\n",
    "* intersection()\n",
    "* sorted()\n",
    "\n",
    "<pre style=\"background: gold\">\n",
    "Parameters:\n",
    "set_1 = {10, 20, 30, 40, 50, 60}\n",
    "set_2 = {20, 40, 60, 80, 90, 100}\n",
    "\n",
    "Expected Output:\n",
    "[20, 40, 60]\n",
    "</pre>"
   ]
  },
  {
   "cell_type": "code",
   "execution_count": 7,
   "id": "unable-permit",
   "metadata": {},
   "outputs": [],
   "source": [
    "# S 3:\n",
    "\n",
    "def same_elements(set_1, set_2):\n",
    "    \n",
    "    # get intersection -> common\n",
    "    # set\n",
    "    intersection = set_1.intersection(set_2)\n",
    "    \n",
    "    # pass the set -> sorted() -> return a list\n",
    "    intersection = sorted(intersection)\n",
    "    \n",
    "    return intersection\n",
    "    "
   ]
  },
  {
   "cell_type": "code",
   "execution_count": 8,
   "id": "criminal-belize",
   "metadata": {},
   "outputs": [
    {
     "name": "stdout",
     "output_type": "stream",
     "text": [
      "[20, 40, 60]\n"
     ]
    }
   ],
   "source": [
    "set_1 = {10, 20, 30, 40, 50, 60}\n",
    "set_2 = {20, 40, 60, 80, 90, 100}\n",
    "\n",
    "intersection = same_elements(set_1, set_2)\n",
    "\n",
    "print(intersection)"
   ]
  },
  {
   "cell_type": "markdown",
   "id": "adjusted-alias",
   "metadata": {},
   "source": [
    "---"
   ]
  },
  {
   "cell_type": "markdown",
   "id": "sticky-slave",
   "metadata": {},
   "source": [
    "**Q 4:**\n",
    "\n",
    "\n",
    "Define a function named **all_elements**.\n",
    "\n",
    "It will take two Sets as parameters.\n",
    "\n",
    "The function will return all the elements (union) of both sets in a List.\n",
    "\n",
    "And this list is going to be sorted in ascending order.\n",
    "\n",
    "**Hints:**\n",
    "* no loops\n",
    "* unioun()\n",
    "* sort()\n",
    "\n",
    "<pre style=\"background: gold\">\n",
    "Parameters:\n",
    "set_1 = {10, 20, 30, 40, 50, 60}\n",
    "set_2 = {20, 40, 60, 80, 90, 100}\n",
    "\n",
    "Expected Output:\n",
    "[100, 90, 80, 60, 50, 40, 30, 20, 10]\n",
    "</pre>"
   ]
  },
  {
   "cell_type": "code",
   "execution_count": 9,
   "id": "understanding-services",
   "metadata": {},
   "outputs": [],
   "source": [
    "# S 4:\n",
    "\n",
    "def all_elements(set_1, set_2):\n",
    "    \n",
    "    # get the union -> all elements\n",
    "    # set\n",
    "    union = set_1.union(set_2)\n",
    "    \n",
    "    # sort() is a list function\n",
    "    union_list = list(union)\n",
    "    \n",
    "    # pass the set -> sort() -> return a list\n",
    "    # sort() -> mutates\n",
    "    union_list.sort()\n",
    "    \n",
    "    return union_list\n",
    "    "
   ]
  },
  {
   "cell_type": "code",
   "execution_count": 11,
   "id": "major-norway",
   "metadata": {},
   "outputs": [
    {
     "name": "stdout",
     "output_type": "stream",
     "text": [
      "[10, 20, 30, 40, 50, 60, 80, 90, 100]\n"
     ]
    }
   ],
   "source": [
    "set_1 = {10, 20, 30, 40, 50, 60}\n",
    "set_2 = {20, 40, 60, 80, 90, 100}\n",
    "\n",
    "union = all_elements(set_1, set_2)\n",
    "\n",
    "print(union)"
   ]
  },
  {
   "cell_type": "markdown",
   "id": "optional-planner",
   "metadata": {},
   "source": [
    "---"
   ]
  },
  {
   "cell_type": "markdown",
   "id": "express-acoustic",
   "metadata": {},
   "source": [
    "**Q 5:**\n",
    "\n",
    "Define a function named **get_difference**.\n",
    "\n",
    "It will take two lists (list_1, list_2) as parameters.\n",
    "\n",
    "The function will return the Set of elements which are in list_1 but not in list_2.\n",
    "\n",
    "\n",
    "**Hints:**\n",
    "* no loops\n",
    "* set()\n",
    "* difference()\n",
    "\n",
    "<pre style=\"background: gold\">\n",
    "Parameters:\n",
    "l_1 = [1, 2, 3, 4, 5, 6, 7, 8, 9]\n",
    "l_2 = [2, 4, 6, 8]\n",
    "\n",
    "Expected Output:\n",
    "{1, 3, 5, 7, 9}\n",
    "</pre>"
   ]
  },
  {
   "cell_type": "code",
   "execution_count": 12,
   "id": "considered-force",
   "metadata": {},
   "outputs": [],
   "source": [
    "# S 5:\n",
    "\n",
    "def get_difference(list_1, list_2):\n",
    "    \n",
    "    # first -> convert Lists into Sets\n",
    "    set_1 = set(list_1)\n",
    "    set_2 = set(list_2)\n",
    "    \n",
    "    # get difference\n",
    "    diff = set_1.difference(set_2)\n",
    "    \n",
    "    return diff\n",
    "    "
   ]
  },
  {
   "cell_type": "code",
   "execution_count": 13,
   "id": "norman-necessity",
   "metadata": {},
   "outputs": [
    {
     "name": "stdout",
     "output_type": "stream",
     "text": [
      "{1, 3, 5, 7, 9}\n"
     ]
    }
   ],
   "source": [
    "l_1 = [1, 2, 3, 4, 5, 6, 7, 8, 9]\n",
    "l_2 = [2, 4, 6, 8]\n",
    "\n",
    "diff = get_difference(l_1, l_2)\n",
    "\n",
    "print(diff)"
   ]
  },
  {
   "cell_type": "markdown",
   "id": "patent-rough",
   "metadata": {},
   "source": [
    "---"
   ]
  },
  {
   "cell_type": "markdown",
   "id": "aware-violence",
   "metadata": {},
   "source": [
    "**Q 6:**\n",
    "\n",
    "Define a function named **is_completely_different**.\n",
    "\n",
    "It wil check if two sets (parameters) are completely different or not.\n",
    "\n",
    "Completely different means they have no elements in common.\n",
    "\n",
    "* If they are completely different it will return -> \"They are completely different.\"\n",
    "* If they have any elements in common it will return -> \"They are not completely different.\"\n",
    "\n",
    "The function will also check if the two parameters are Set or not.\n",
    "\n",
    "If any of them is not a Set it will raise an Exception as \"Parameters must be of Set type.\"\n",
    "\n",
    "**Hints:**\n",
    "* no loops\n",
    "* completely different: `isdisjoint()`\n",
    "* isinstance()\n",
    "* raise Exception()\n",
    "\n",
    "<pre style=\"background: gold\">\n",
    "Parameters:\n",
    "set_1 = {20, 10, 40, 30, 50}\n",
    "set_2 = {60, 80, 70, 100, 90}\n",
    "Expected Output:\n",
    "'They are completely different.'\n",
    "\n",
    "----------------------------------------\n",
    "Parameters:\n",
    "set_1 = {20, 10, 40, 30, 50, 60}\n",
    "set_2 = {60, 80, 70, 90, 40, 10}\n",
    "Expected Output:\n",
    "'They are not completely different.'\n",
    "</pre>"
   ]
  },
  {
   "cell_type": "code",
   "execution_count": 15,
   "id": "senior-perception",
   "metadata": {},
   "outputs": [],
   "source": [
    "# S 6:\n",
    "\n",
    "def is_completely_different(set_1, set_2):\n",
    "    \n",
    "    #check if both are Set type\n",
    "    if not isinstance(set_1, set) or not isinstance(set_2, set):\n",
    "        raise Exception(\"Parameters must be of Set type.\")\n",
    "        \n",
    "    # they are both Set type\n",
    "    else:\n",
    "        \n",
    "        # check if completely different\n",
    "        if set_1.isdisjoint(set_2):\n",
    "            return 'They are completely different.'\n",
    "        else:\n",
    "            return 'They are not completely different.'\n",
    "    "
   ]
  },
  {
   "cell_type": "code",
   "execution_count": 16,
   "id": "dense-parking",
   "metadata": {},
   "outputs": [
    {
     "data": {
      "text/plain": [
       "'They are completely different.'"
      ]
     },
     "execution_count": 16,
     "metadata": {},
     "output_type": "execute_result"
    }
   ],
   "source": [
    "set_1 = {20, 10, 40, 30, 50}\n",
    "set_2 = {60, 80, 70, 100, 90}\n",
    "\n",
    "is_completely_different(set_1, set_2)"
   ]
  },
  {
   "cell_type": "code",
   "execution_count": 17,
   "id": "historic-montana",
   "metadata": {},
   "outputs": [
    {
     "data": {
      "text/plain": [
       "'They are not completely different.'"
      ]
     },
     "execution_count": 17,
     "metadata": {},
     "output_type": "execute_result"
    }
   ],
   "source": [
    "set_1 = {20, 10, 40, 30, 50, 60}\n",
    "set_2 = {60, 80, 70, 90, 40, 10}\n",
    "\n",
    "is_completely_different(set_1, set_2)"
   ]
  },
  {
   "cell_type": "markdown",
   "id": "enormous-money",
   "metadata": {},
   "source": [
    "---"
   ]
  },
  {
   "cell_type": "markdown",
   "id": "oriented-tourism",
   "metadata": {},
   "source": [
    "**Q 7:**\n",
    "\n",
    "Define a function named **is_completely_different_2**.\n",
    "\n",
    "It wil check if two sets (parameters) are completely different or not.\n",
    "\n",
    "Completely different means they have no elements in common.\n",
    "\n",
    "* If they are completely different it will return -> \"They are completely different.\"\n",
    "* If they have any elements in common it will return -> \"They are not completely different:\"\n",
    "    * And it will give the common elements in a set\n",
    "\n",
    "The function will also check if the two parameters are Set or not.\n",
    "\n",
    "If any of them is not a Set it will raise an Exception as \"Parameters must be of Set type.\"\n",
    "\n",
    "**Hints:**\n",
    "* no loops\n",
    "* completely different: `isdisjoint()`\n",
    "* isinstance()\n",
    "* raise Exception()\n",
    "\n",
    "<pre style=\"background: gold\">\n",
    "Parameters:\n",
    "set_1 = {20, 10, 40, 30, 50}\n",
    "set_2 = {60, 80, 70, 100, 90}\n",
    "Expected Output:\n",
    "'They are completely different.'\n",
    "\n",
    "----------------------------------------\n",
    "Parameters:\n",
    "set_1 = {20, 10, 40, 30, 50, 60}\n",
    "set_2 = {60, 80, 70, 90, 40, 10}\n",
    "Expected Output:\n",
    "'They are not completely different: {40, 10, 60}'\n",
    "</pre>"
   ]
  },
  {
   "cell_type": "code",
   "execution_count": 23,
   "id": "fossil-authority",
   "metadata": {},
   "outputs": [],
   "source": [
    "# S 7:\n",
    "\n",
    "def is_completely_different_2(set_1, set_2):\n",
    "    \n",
    "    #check if both are Set type\n",
    "    if not isinstance(set_1, set) or not isinstance(set_2, set):\n",
    "        raise Exception(\"Parameters must be of Set type.\")\n",
    "        \n",
    "    # they are both Set type\n",
    "    else:\n",
    "        \n",
    "        # check if completely different\n",
    "        if set_1.isdisjoint(set_2):\n",
    "            return 'They are completely different.'\n",
    "        else:\n",
    "            # set\n",
    "            common_elements = set_1.intersection(set_2)\n",
    "            return 'They are not completely different:' + str(common_elements)\n",
    "    "
   ]
  },
  {
   "cell_type": "code",
   "execution_count": 24,
   "id": "dense-excitement",
   "metadata": {},
   "outputs": [
    {
     "data": {
      "text/plain": [
       "'They are completely different.'"
      ]
     },
     "execution_count": 24,
     "metadata": {},
     "output_type": "execute_result"
    }
   ],
   "source": [
    "set_1 = {20, 10, 40, 30, 50}\n",
    "set_2 = {60, 80, 70, 100, 90}\n",
    "\n",
    "is_completely_different_2(set_1, set_2)"
   ]
  },
  {
   "cell_type": "code",
   "execution_count": 25,
   "id": "realistic-wilderness",
   "metadata": {},
   "outputs": [
    {
     "data": {
      "text/plain": [
       "'They are not completely different:{40, 10, 60}'"
      ]
     },
     "execution_count": 25,
     "metadata": {},
     "output_type": "execute_result"
    }
   ],
   "source": [
    "set_1 = {20, 10, 40, 30, 50, 60}\n",
    "set_2 = {60, 80, 70, 90, 40, 10}\n",
    "\n",
    "is_completely_different_2(set_1, set_2)"
   ]
  },
  {
   "cell_type": "markdown",
   "id": "bound-longer",
   "metadata": {},
   "source": [
    "---"
   ]
  },
  {
   "cell_type": "markdown",
   "id": "continent-sheet",
   "metadata": {},
   "source": [
    "**Q 8:**\n",
    "\n",
    "Define a function named **copy_and_clear**.\n",
    "\n",
    "It will take a Set as parameter.\n",
    "\n",
    "And it will clear (remove all elements) this Set but copy its elements into another Set.\n",
    "\n",
    "Finally it will return this new Set.\n",
    "\n",
    "**Hints:**\n",
    "* no loops\n",
    "* copy()\n",
    "* clear()\n",
    "* remember Pass by Reference\n",
    "\n",
    "<pre style=\"background: gold\">\n",
    "Parameter:\n",
    "set1 = {'A', 'B', 'C', 'D', 'E'}\n",
    "\n",
    "Expected Output:\n",
    "before the function call -> set1: {'E', 'C', 'D', 'B', 'A'}\n",
    "after the function call -> set1: set()\n",
    "set1_copy: {'D', 'B', 'E', 'A', 'C'}\n",
    "</pre>"
   ]
  },
  {
   "cell_type": "code",
   "execution_count": 17,
   "id": "intimate-produce",
   "metadata": {},
   "outputs": [],
   "source": [
    "# S 8:\n",
    "\n",
    "\n",
    "    "
   ]
  },
  {
   "cell_type": "code",
   "execution_count": 18,
   "id": "respiratory-preserve",
   "metadata": {},
   "outputs": [
    {
     "name": "stdout",
     "output_type": "stream",
     "text": [
      "before the function call -> set1: {'E', 'A', 'D', 'C', 'B'}\n",
      "after the function call -> set1: set()\n",
      "set1_copy: {'E', 'A', 'C', 'B', 'D'}\n"
     ]
    }
   ],
   "source": [
    "set1 = {'A', 'B', 'C', 'D', 'E'}\n",
    "print('before the function call -> set1:', set1)\n",
    "\n",
    "set1_copy = copy_and_clear(set1)\n",
    "print('after the function call -> set1:', set1)\n",
    "print('set1_copy:', set1_copy)"
   ]
  },
  {
   "cell_type": "markdown",
   "id": "synthetic-vanilla",
   "metadata": {},
   "source": [
    "---"
   ]
  },
  {
   "cell_type": "markdown",
   "id": "preceding-jefferson",
   "metadata": {},
   "source": [
    "**Q 9:**\n",
    "\n",
    "Define a function named **remove_common_elements**.\n",
    "\n",
    "It will take two Sets (set_1, set_2) as parameters.\n",
    "\n",
    "The function will remove the elements of set_1 which are also in set_2.\n",
    "\n",
    "And this operation will change the original sets. \n",
    "\n",
    "Namely it will mutate the parameter.\n",
    "\n",
    "**Hints:**\n",
    "* no loops\n",
    "* difference_update()\n",
    "\n",
    "<pre style=\"background: gold\">\n",
    "Parameters:\n",
    "set_1 = {'a', 'b', 'c', 'd', 'e', 'f'}\n",
    "set_2 = {'d', 'b', 'e', 'f', 'h', 'g'}\n",
    "\n",
    "Expected Output:\n",
    "before the function -> set_1: {'c', 'a', 'b', 'f', 'd', 'e'}\n",
    "after the function -> set_1: {'c', 'a'}\n",
    "</pre>"
   ]
  },
  {
   "cell_type": "code",
   "execution_count": 20,
   "id": "dominant-brisbane",
   "metadata": {},
   "outputs": [],
   "source": [
    "# S 9:\n",
    "\n",
    "\n",
    "        "
   ]
  },
  {
   "cell_type": "code",
   "execution_count": 22,
   "id": "bronze-exposure",
   "metadata": {},
   "outputs": [
    {
     "name": "stdout",
     "output_type": "stream",
     "text": [
      "before the function -> set_1: {'d', 'e', 'c', 'a', 'b', 'f'}\n",
      "after the function -> set_1: {'c', 'a'}\n"
     ]
    }
   ],
   "source": [
    "set_1 = {'a', 'b', 'c', 'd', 'e', 'f'}\n",
    "set_2 = {'d', 'b', 'e', 'f', 'h', 'g'}\n",
    "\n",
    "print('before the function -> set_1:', set_1)\n",
    "\n",
    "remove_common_elements(set_1, set_2)\n",
    "\n",
    "print('after the function -> set_1:', set_1)"
   ]
  },
  {
   "cell_type": "markdown",
   "id": "perfect-tanzania",
   "metadata": {},
   "source": [
    "---"
   ]
  },
  {
   "cell_type": "markdown",
   "id": "aggressive-decision",
   "metadata": {},
   "source": [
    "**Q 10:**\n",
    "\n",
    "Define a function named **which_one_is_superset**.\n",
    "\n",
    "It will take two Sets (set_1, set_2) as parameters.\n",
    "\n",
    "If set_1 is the superset of set_2 it will return:\n",
    "* \"set_1: {....} is superset of set_2: {....}\"\n",
    "\n",
    "It the opposite is true it will return:\n",
    "* \"set_2: {....} is superset of set_1: {....}\"\n",
    "\n",
    "Here \"{....}\" are set elements.\n",
    "\n",
    "**Hints:**\n",
    "* no loop\n",
    "* issuperset()\n",
    "\n",
    "<pre style=\"background: gold\">\n",
    "Parameters:\n",
    "set_1 = {'a', 'b', 'c', 'd'}\n",
    "set_2 = {'d', 'b', 'e', 'f', 'a', 'c'}\n",
    "Expected Output:\n",
    "\"set_2: {'c', 'a', 'b', 'f', 'd', 'e'} is superset of set_1: {'b', 'c', 'd', 'a'}.\"\n",
    "\n",
    "----------------------------\n",
    "Parameters:\n",
    "set_1 = {'d', 'b', 'e', 'f', 'a', 'c'}\n",
    "set_2 = {'a', 'b', 'c', 'd'}\n",
    "Expected Output:\n",
    "\"set_1: {'c', 'a', 'b', 'f', 'd', 'e'} is superset of set_2: {'b', 'c', 'd', 'a'}\"\n",
    "</pre>"
   ]
  },
  {
   "cell_type": "code",
   "execution_count": 23,
   "id": "sophisticated-migration",
   "metadata": {},
   "outputs": [],
   "source": [
    "# S 10:\n",
    "\n",
    "\n",
    "    "
   ]
  },
  {
   "cell_type": "code",
   "execution_count": 24,
   "id": "educated-skirt",
   "metadata": {},
   "outputs": [
    {
     "data": {
      "text/plain": [
       "\"set_2: {'d', 'e', 'a', 'b', 'c', 'f'} is superset of set_1: {'c', 'a', 'b', 'd'}.\""
      ]
     },
     "execution_count": 24,
     "metadata": {},
     "output_type": "execute_result"
    }
   ],
   "source": [
    "set_1 = {'a', 'b', 'c', 'd'}\n",
    "set_2 = {'d', 'b', 'e', 'f', 'a', 'c'}\n",
    "\n",
    "which_one_is_superset(set_1, set_2)"
   ]
  },
  {
   "cell_type": "code",
   "execution_count": 25,
   "id": "minute-veteran",
   "metadata": {},
   "outputs": [
    {
     "data": {
      "text/plain": [
       "\"set_1: {'d', 'e', 'a', 'b', 'c', 'f'} is superset of set_2: {'c', 'a', 'b', 'd'}\""
      ]
     },
     "execution_count": 25,
     "metadata": {},
     "output_type": "execute_result"
    }
   ],
   "source": [
    "set_1 = {'d', 'b', 'e', 'f', 'a', 'c'}\n",
    "set_2 = {'a', 'b', 'c', 'd'}\n",
    "\n",
    "which_one_is_superset(set_1, set_2)"
   ]
  }
 ],
 "metadata": {
  "kernelspec": {
   "display_name": "Python 3 (ipykernel)",
   "language": "python",
   "name": "python3"
  },
  "language_info": {
   "codemirror_mode": {
    "name": "ipython",
    "version": 3
   },
   "file_extension": ".py",
   "mimetype": "text/x-python",
   "name": "python",
   "nbconvert_exporter": "python",
   "pygments_lexer": "ipython3",
   "version": "3.8.12"
  }
 },
 "nbformat": 4,
 "nbformat_minor": 5
}
