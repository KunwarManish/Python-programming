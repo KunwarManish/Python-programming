{
 "cells": [
  {
   "cell_type": "markdown",
   "metadata": {},
   "source": [
    "# Introduction"
   ]
  },
  {
   "cell_type": "markdown",
   "metadata": {},
   "source": [
    "We are learning python today"
   ]
  },
  {
   "cell_type": "code",
   "execution_count": null,
   "metadata": {},
   "outputs": [],
   "source": []
  },
  {
   "cell_type": "markdown",
   "metadata": {},
   "source": [
    "Welcome to NextStep InfoTech Training Center.\n",
    "\n",
    "And Welcome to Python Free 1 Week Crash Course.\n",
    "\n",
    "We will go through very basic to few intermediate python terms and will be able to make complete programs at last. But we will not go very deep in each terms since we need to cover all topic within 1 week.\n",
    "\n",
    "Topics we will cover are:\n",
    "\n",
    "https://nextstepinfotech.com/view-course/python-crash-course\n"
   ]
  },
  {
   "cell_type": "markdown",
   "metadata": {},
   "source": [
    "# Day 1 Topics"
   ]
  },
  {
   "cell_type": "markdown",
   "metadata": {},
   "source": [
    "Introduction\n",
    "\n",
    "Installing Python 3\n",
    "\n",
    "VS Code Installation\n",
    "\n",
    "Your First Python Program\n",
    "\n",
    "Comments, Reserved Keywords and Variables\n",
    "\n",
    "Data Types\n",
    "\n",
    "Operators in Python"
   ]
  },
  {
   "cell_type": "markdown",
   "metadata": {},
   "source": [
    "## Introduction"
   ]
  },
  {
   "cell_type": "markdown",
   "metadata": {},
   "source": [
    "Python is a general purpose, free, open source, simple, dynamically typed, easy to learn, powerful and high level programming language.\n",
    "\n",
    "Guido Van Rossum is known as the founder of Python Programming.\n",
    "\n",
    "YouTube, Google, Instagram, Pinterest and many more are made in Python.\n",
    "\n",
    "Python Application Areas includes, web applications, GUI Applications, software development, CAD Softwares, ML, AI, Data Science and so on."
   ]
  },
  {
   "cell_type": "markdown",
   "metadata": {},
   "source": [
    "### Install Python"
   ]
  },
  {
   "cell_type": "markdown",
   "metadata": {},
   "source": [
    "Go to following link and download python file: \n",
    "\n",
    "> https://www.python.org/\n",
    "\n",
    "Then install it."
   ]
  },
  {
   "cell_type": "markdown",
   "metadata": {},
   "source": [
    "### Install VS Code"
   ]
  },
  {
   "cell_type": "markdown",
   "metadata": {},
   "source": [
    "Go to following link and download vs code file: \n",
    "\n",
    "> https://code.visualstudio.com/\n",
    "\n",
    "Then install it.\n",
    "\n",
    "Also install extensions:\n",
    "\n",
    "+ Python\n",
    "+ Jupyter\n"
   ]
  },
  {
   "cell_type": "markdown",
   "metadata": {},
   "source": [
    "### Your First Program"
   ]
  },
  {
   "cell_type": "code",
   "execution_count": 2,
   "metadata": {},
   "outputs": [
    {
     "name": "stdout",
     "output_type": "stream",
     "text": [
      "Hello World!!!\n"
     ]
    }
   ],
   "source": [
    "print(\"Hello World!!!\")"
   ]
  },
  {
   "cell_type": "code",
   "execution_count": 3,
   "metadata": {},
   "outputs": [
    {
     "name": "stdout",
     "output_type": "stream",
     "text": [
      "Hello World\n"
     ]
    }
   ],
   "source": [
    "print('Hello World')"
   ]
  },
  {
   "cell_type": "code",
   "execution_count": 4,
   "metadata": {},
   "outputs": [
    {
     "name": "stdout",
     "output_type": "stream",
     "text": [
      "Welcome to NextStep InfoTech\n"
     ]
    }
   ],
   "source": [
    "print(\"Welcome to NextStep InfoTech\")"
   ]
  },
  {
   "cell_type": "code",
   "execution_count": 5,
   "metadata": {},
   "outputs": [
    {
     "name": "stdout",
     "output_type": "stream",
     "text": [
      "Python Free One Week Crash Course, November 28, 2021\n"
     ]
    }
   ],
   "source": [
    "a = 'Python Free One Week Crash Course, '\n",
    "b = 'November 28, 2021'\n",
    "print(a+b)"
   ]
  },
  {
   "cell_type": "code",
   "execution_count": 6,
   "metadata": {},
   "outputs": [
    {
     "name": "stdout",
     "output_type": "stream",
     "text": [
      "1368\n"
     ]
    }
   ],
   "source": [
    "c = 123\n",
    "d = 456\n",
    "e = 789\n",
    "total = c+d+e\n",
    "print(total)"
   ]
  },
  {
   "cell_type": "markdown",
   "metadata": {},
   "source": [
    "## Comments"
   ]
  },
  {
   "cell_type": "markdown",
   "metadata": {},
   "source": [
    "A piece of text placed within a program to help other users to understand it, which the computer ignores when running the program. In Python comments starts with # and python will ignore them."
   ]
  },
  {
   "cell_type": "markdown",
   "metadata": {},
   "source": [
    "Comments can be used to explain Python code or to make the code more readable."
   ]
  },
  {
   "cell_type": "code",
   "execution_count": 7,
   "metadata": {},
   "outputs": [],
   "source": [
    "#Example\n",
    "#This is comment. Even the above line is a comment."
   ]
  },
  {
   "cell_type": "code",
   "execution_count": 9,
   "metadata": {},
   "outputs": [
    {
     "name": "stdout",
     "output_type": "stream",
     "text": [
      "25 35\n"
     ]
    }
   ],
   "source": [
    "#Example(At the end of line):\n",
    "x = 25 #First Variable\n",
    "y = 35 #Second Variable\n",
    "print(x, y)"
   ]
  },
  {
   "cell_type": "markdown",
   "metadata": {},
   "source": [
    "Comments can be used to prevent execution when testing code."
   ]
  },
  {
   "cell_type": "code",
   "execution_count": 10,
   "metadata": {},
   "outputs": [
    {
     "name": "stdout",
     "output_type": "stream",
     "text": [
      "60\n"
     ]
    }
   ],
   "source": [
    "x = 25\n",
    "y = 35\n",
    "print(x+y) #This will print sum of x and y.\n",
    "# print(x-y) #This will not run since this is a comment."
   ]
  },
  {
   "cell_type": "markdown",
   "metadata": {},
   "source": [
    "## Reserved Words or Keywords"
   ]
  },
  {
   "cell_type": "markdown",
   "metadata": {},
   "source": [
    "Python language uses the following keywords which are not available to users to use them as identifiers."
   ]
  },
  {
   "cell_type": "code",
   "execution_count": 11,
   "metadata": {},
   "outputs": [
    {
     "name": "stdout",
     "output_type": "stream",
     "text": [
      "\n",
      "Here is a list of the Python keywords.  Enter any keyword to get more help.\n",
      "\n",
      "False               class               from                or\n",
      "None                continue            global              pass\n",
      "True                def                 if                  raise\n",
      "and                 del                 import              return\n",
      "as                  elif                in                  try\n",
      "assert              else                is                  while\n",
      "async               except              lambda              with\n",
      "await               finally             nonlocal            yield\n",
      "break               for                 not                 \n",
      "\n"
     ]
    }
   ],
   "source": [
    "#shift + Enter - keyboard shortcut for executing cell\n",
    "help('keywords')"
   ]
  },
  {
   "cell_type": "markdown",
   "metadata": {},
   "source": [
    "## Variables"
   ]
  },
  {
   "cell_type": "markdown",
   "metadata": {},
   "source": [
    "Variables are containers for storing data values in any computer program."
   ]
  },
  {
   "cell_type": "code",
   "execution_count": 12,
   "metadata": {},
   "outputs": [
    {
     "name": "stdout",
     "output_type": "stream",
     "text": [
      "Krishna\n"
     ]
    }
   ],
   "source": [
    "name = \"Krishna\"\n",
    "print(name)"
   ]
  },
  {
   "cell_type": "code",
   "execution_count": 13,
   "metadata": {},
   "outputs": [
    {
     "name": "stdout",
     "output_type": "stream",
     "text": [
      "258\n"
     ]
    }
   ],
   "source": [
    "num = 258\n",
    "print(num)"
   ]
  },
  {
   "cell_type": "markdown",
   "metadata": {},
   "source": [
    "### Rules for creating variables in Python"
   ]
  },
  {
   "cell_type": "markdown",
   "metadata": {},
   "source": [
    "1. Every variable name should start with alphabets or underscore(_).\n",
    "2. No spaces are allowed in variable declaration.\n",
    "3. Except underscore(_) no other special symbol are allowed in the middle of the variable declaration.\n",
    "4. A variable is written with a combination of letters, numbers and special characters _(underscore).\n",
    "5. No Reserved keyword"
   ]
  },
  {
   "cell_type": "markdown",
   "metadata": {},
   "source": [
    "#### Good Examples:"
   ]
  },
  {
   "cell_type": "markdown",
   "metadata": {},
   "source": [
    "    hello, python123, _taker, python_sikumna, CAPITAL, capital"
   ]
  },
  {
   "cell_type": "code",
   "execution_count": 14,
   "metadata": {},
   "outputs": [
    {
     "name": "stdout",
     "output_type": "stream",
     "text": [
      "Hello and welcome all\n"
     ]
    }
   ],
   "source": [
    "hello = \"Hello and welcome all\"\n",
    "print(hello)"
   ]
  },
  {
   "cell_type": "code",
   "execution_count": 15,
   "metadata": {},
   "outputs": [
    {
     "name": "stdout",
     "output_type": "stream",
     "text": [
      "We are learning python\n"
     ]
    }
   ],
   "source": [
    "python123 = \"We are learning python\"\n",
    "print(python123)"
   ]
  },
  {
   "cell_type": "code",
   "execution_count": 16,
   "metadata": {},
   "outputs": [],
   "source": [
    "_taker = \"Wrestler\""
   ]
  },
  {
   "cell_type": "code",
   "execution_count": 17,
   "metadata": {},
   "outputs": [],
   "source": [
    "python_sikumna = \"Let's learn python\""
   ]
  },
  {
   "cell_type": "code",
   "execution_count": 20,
   "metadata": {},
   "outputs": [
    {
     "name": "stdout",
     "output_type": "stream",
     "text": [
      "Kathmandu\n"
     ]
    }
   ],
   "source": [
    "CAPITAL = \"Kathmandu\"\n",
    "print(CAPITAL)"
   ]
  },
  {
   "cell_type": "code",
   "execution_count": 23,
   "metadata": {},
   "outputs": [
    {
     "name": "stdout",
     "output_type": "stream",
     "text": [
      "Tokyo\n"
     ]
    }
   ],
   "source": [
    "CAPITAl = \"Tokyo\"\n",
    "print(CAPITAl)"
   ]
  },
  {
   "cell_type": "markdown",
   "metadata": {},
   "source": [
    "#### Bad Examples:"
   ]
  },
  {
   "cell_type": "markdown",
   "metadata": {},
   "source": [
    "    25number, 10_20, personal computer, @tag, face$book, and"
   ]
  },
  {
   "cell_type": "code",
   "execution_count": 24,
   "metadata": {},
   "outputs": [
    {
     "ename": "SyntaxError",
     "evalue": "invalid syntax (<ipython-input-24-831ff3a38dd1>, line 1)",
     "output_type": "error",
     "traceback": [
      "\u001b[1;36m  File \u001b[1;32m\"<ipython-input-24-831ff3a38dd1>\"\u001b[1;36m, line \u001b[1;32m1\u001b[0m\n\u001b[1;33m    25number = \"25\"\u001b[0m\n\u001b[1;37m      ^\u001b[0m\n\u001b[1;31mSyntaxError\u001b[0m\u001b[1;31m:\u001b[0m invalid syntax\n"
     ]
    }
   ],
   "source": [
    "25number = \"25\""
   ]
  },
  {
   "cell_type": "code",
   "execution_count": 25,
   "metadata": {},
   "outputs": [
    {
     "ename": "SyntaxError",
     "evalue": "cannot assign to literal (<ipython-input-25-e137f5495967>, line 1)",
     "output_type": "error",
     "traceback": [
      "\u001b[1;36m  File \u001b[1;32m\"<ipython-input-25-e137f5495967>\"\u001b[1;36m, line \u001b[1;32m1\u001b[0m\n\u001b[1;33m    10_20 = \"10 and 20\"\u001b[0m\n\u001b[1;37m    ^\u001b[0m\n\u001b[1;31mSyntaxError\u001b[0m\u001b[1;31m:\u001b[0m cannot assign to literal\n"
     ]
    }
   ],
   "source": [
    "10_20 = \"10 and 20\""
   ]
  },
  {
   "cell_type": "code",
   "execution_count": 26,
   "metadata": {},
   "outputs": [
    {
     "ename": "SyntaxError",
     "evalue": "invalid syntax (<ipython-input-26-643835c5ea85>, line 1)",
     "output_type": "error",
     "traceback": [
      "\u001b[1;36m  File \u001b[1;32m\"<ipython-input-26-643835c5ea85>\"\u001b[1;36m, line \u001b[1;32m1\u001b[0m\n\u001b[1;33m    personal computer = \"pc\"\u001b[0m\n\u001b[1;37m             ^\u001b[0m\n\u001b[1;31mSyntaxError\u001b[0m\u001b[1;31m:\u001b[0m invalid syntax\n"
     ]
    }
   ],
   "source": [
    "personal computer = \"pc\""
   ]
  },
  {
   "cell_type": "code",
   "execution_count": 27,
   "metadata": {},
   "outputs": [
    {
     "ename": "SyntaxError",
     "evalue": "invalid syntax (<ipython-input-27-b3f1d9714c56>, line 1)",
     "output_type": "error",
     "traceback": [
      "\u001b[1;36m  File \u001b[1;32m\"<ipython-input-27-b3f1d9714c56>\"\u001b[1;36m, line \u001b[1;32m1\u001b[0m\n\u001b[1;33m    @tag = \"Tag it\"\u001b[0m\n\u001b[1;37m         ^\u001b[0m\n\u001b[1;31mSyntaxError\u001b[0m\u001b[1;31m:\u001b[0m invalid syntax\n"
     ]
    }
   ],
   "source": [
    "@tag = \"Tag it\""
   ]
  },
  {
   "cell_type": "code",
   "execution_count": 28,
   "metadata": {},
   "outputs": [
    {
     "ename": "SyntaxError",
     "evalue": "invalid syntax (<ipython-input-28-ea51f377dcd1>, line 1)",
     "output_type": "error",
     "traceback": [
      "\u001b[1;36m  File \u001b[1;32m\"<ipython-input-28-ea51f377dcd1>\"\u001b[1;36m, line \u001b[1;32m1\u001b[0m\n\u001b[1;33m    face$book = \"social media\"\u001b[0m\n\u001b[1;37m        ^\u001b[0m\n\u001b[1;31mSyntaxError\u001b[0m\u001b[1;31m:\u001b[0m invalid syntax\n"
     ]
    }
   ],
   "source": [
    "face$book = \"social media\""
   ]
  },
  {
   "cell_type": "code",
   "execution_count": 29,
   "metadata": {},
   "outputs": [
    {
     "ename": "SyntaxError",
     "evalue": "invalid syntax (<ipython-input-29-b9642ea6a645>, line 1)",
     "output_type": "error",
     "traceback": [
      "\u001b[1;36m  File \u001b[1;32m\"<ipython-input-29-b9642ea6a645>\"\u001b[1;36m, line \u001b[1;32m1\u001b[0m\n\u001b[1;33m    and = \"conjuction\"\u001b[0m\n\u001b[1;37m    ^\u001b[0m\n\u001b[1;31mSyntaxError\u001b[0m\u001b[1;31m:\u001b[0m invalid syntax\n"
     ]
    }
   ],
   "source": [
    "and = \"conjuction\""
   ]
  },
  {
   "cell_type": "markdown",
   "metadata": {},
   "source": [
    "### Various ways to declare a variable"
   ]
  },
  {
   "cell_type": "code",
   "execution_count": 34,
   "metadata": {},
   "outputs": [
    {
     "name": "stdout",
     "output_type": "stream",
     "text": [
      "<class 'int'>\n",
      "<class 'float'>\n",
      "<class 'str'>\n",
      "<class 'str'>\n"
     ]
    }
   ],
   "source": [
    "#Example: Integer, Float, String(2). Check type\n",
    "x = 25\n",
    "y = 25.52\n",
    "n = \"name\"\n",
    "n1 = 'name1'\n",
    "\n",
    "print(type(x))\n",
    "print(type(y))\n",
    "print(type(n))\n",
    "print(type(n1))\n"
   ]
  },
  {
   "cell_type": "markdown",
   "metadata": {},
   "source": [
    "We can assign values to multiple variables in one line in python."
   ]
  },
  {
   "cell_type": "code",
   "execution_count": 35,
   "metadata": {},
   "outputs": [
    {
     "name": "stdout",
     "output_type": "stream",
     "text": [
      "<class 'int'> 12\n",
      "<class 'str'> Python\n",
      "<class 'float'> 4.37\n"
     ]
    }
   ],
   "source": [
    "#Example:\n",
    "a,b,c = 12,\"Python\", 4.37\n",
    "print(type(a), a)\n",
    "print(type(b), b)\n",
    "print(type(c), c)"
   ]
  },
  {
   "cell_type": "markdown",
   "metadata": {},
   "source": [
    "We can also assign same value to multiple variables"
   ]
  },
  {
   "cell_type": "code",
   "execution_count": 36,
   "metadata": {},
   "outputs": [
    {
     "name": "stdout",
     "output_type": "stream",
     "text": [
      "<class 'int'> 27\n",
      "<class 'int'> 27\n",
      "<class 'int'> 27\n"
     ]
    }
   ],
   "source": [
    "a = b = c = 27\n",
    "print(type(a), a)\n",
    "print(type(b), b)\n",
    "print(type(c), c)"
   ]
  },
  {
   "cell_type": "markdown",
   "metadata": {},
   "source": [
    "Variables do not need to be declared with any particular type.m"
   ]
  },
  {
   "cell_type": "code",
   "execution_count": 37,
   "metadata": {},
   "outputs": [
    {
     "name": "stdout",
     "output_type": "stream",
     "text": [
      "<class 'str'> mandatory\n",
      "<class 'int'> 25\n"
     ]
    }
   ],
   "source": [
    "#Example:\n",
    "m = \"mandatory\" # No need to declare m as string.\n",
    "n = 25 # No need to declare n as integer.\n",
    "\n",
    "print(type(m), m)\n",
    "print(type(n), n)"
   ]
  },
  {
   "cell_type": "markdown",
   "metadata": {},
   "source": [
    "### Multiwords Variables"
   ]
  },
  {
   "cell_type": "markdown",
   "metadata": {},
   "source": [
    "Variable names with more than one word can be difficult to read. We can make them more readable by using **snake case**:"
   ]
  },
  {
   "cell_type": "markdown",
   "metadata": {},
   "source": [
    "All words are lower case and each word is separated by an underscore character:"
   ]
  },
  {
   "cell_type": "code",
   "execution_count": null,
   "metadata": {},
   "outputs": [],
   "source": [
    "cup_of_tea = \"Milk Tea\"\n",
    "print(type(cup_of_tea), cup_of_tea)"
   ]
  },
  {
   "cell_type": "markdown",
   "metadata": {},
   "source": [
    "## Data Type in Python"
   ]
  },
  {
   "cell_type": "markdown",
   "metadata": {},
   "source": [
    "Variables can store data of different types, and different types can do different things.\n",
    "\n",
    "+ Text Type: str\n",
    "+ Numeric Types: int, float\n",
    "+ Sequence Types: list, tuple, range\n",
    "+ Mapping Type: dict\n",
    "+ Set Types: set\n",
    "+ Boolean Type: bool"
   ]
  },
  {
   "cell_type": "markdown",
   "metadata": {},
   "source": [
    "### Text Type: str"
   ]
  },
  {
   "cell_type": "code",
   "execution_count": 38,
   "metadata": {},
   "outputs": [
    {
     "name": "stdout",
     "output_type": "stream",
     "text": [
      "<class 'str'> Personal Computer\n",
      "<class 'str'> cappuccino\n"
     ]
    }
   ],
   "source": [
    "#Example:\n",
    "pc = \"Personal Computer\"\n",
    "coffee = 'cappuccino'\n",
    "print(type(pc), pc)\n",
    "print(type(coffee), coffee)"
   ]
  },
  {
   "cell_type": "markdown",
   "metadata": {},
   "source": [
    "### Numeric Types: int, float"
   ]
  },
  {
   "cell_type": "code",
   "execution_count": 39,
   "metadata": {},
   "outputs": [
    {
     "name": "stdout",
     "output_type": "stream",
     "text": [
      "<class 'int'> 25\n",
      "<class 'int'> -65\n",
      "<class 'int'> 13452486785215\n",
      "<class 'int'> -1625255456\n"
     ]
    }
   ],
   "source": [
    "int_a = 25\n",
    "int_b = -65\n",
    "int_c = 13452486785215 #There is no limit on the maximum value. It is possible to handle as large value as memory is available.\n",
    "int_d = -1625255456\n",
    "\n",
    "print(type(int_a), int_a)\n",
    "print(type(int_b), int_b)\n",
    "print(type(int_c), int_c)\n",
    "print(type(int_d), int_d)"
   ]
  },
  {
   "cell_type": "code",
   "execution_count": 40,
   "metadata": {},
   "outputs": [
    {
     "name": "stdout",
     "output_type": "stream",
     "text": [
      "<class 'float'> 12.35\n",
      "<class 'float'> -45.672\n",
      "<class 'float'> 12.547896548563566\n",
      "<class 'float'> -23.36547954554822\n",
      "<class 'float'> -1.253e+17\n"
     ]
    }
   ],
   "source": [
    "float_p = 12.35\n",
    "float_n = -45.672\n",
    "float_l = 12.5478965485635655\n",
    "float_s = -23.36547954554822\n",
    "float_sci = -1.253e17\n",
    "print(type(float_p), float_p)\n",
    "print(type(float_n), float_n)\n",
    "print(type(float_l), float_l)\n",
    "print(type(float_s), float_s)\n",
    "print(type(float_sci), float_sci)"
   ]
  },
  {
   "cell_type": "markdown",
   "metadata": {},
   "source": [
    "### Sequence Types: list, tuple, range"
   ]
  },
  {
   "cell_type": "code",
   "execution_count": 42,
   "metadata": {},
   "outputs": [
    {
     "name": "stdout",
     "output_type": "stream",
     "text": [
      "<class 'str'>\n"
     ]
    }
   ],
   "source": [
    "xyz = \"hello\"\n",
    "print(type(xyz))"
   ]
  },
  {
   "cell_type": "code",
   "execution_count": 41,
   "metadata": {},
   "outputs": [
    {
     "name": "stdout",
     "output_type": "stream",
     "text": [
      "<class 'list'> [14, 47, 78, 96, 32, 25, 58]\n"
     ]
    }
   ],
   "source": [
    "# List Example:\n",
    "num_list = [14,47,78,96,32,25,58]\n",
    "print(type(num_list), num_list)"
   ]
  },
  {
   "cell_type": "code",
   "execution_count": 45,
   "metadata": {},
   "outputs": [
    {
     "name": "stdout",
     "output_type": "stream",
     "text": [
      "<class 'tuple'> (14, 47, 78, 96, 32, 25, 58, 'hello')\n"
     ]
    }
   ],
   "source": [
    "# Tuple Example:\n",
    "num_tuple = (14,47,78,96,32,25,58, \"hello\")\n",
    "print(type(num_tuple), num_tuple)"
   ]
  },
  {
   "cell_type": "code",
   "execution_count": 44,
   "metadata": {},
   "outputs": [
    {
     "name": "stdout",
     "output_type": "stream",
     "text": [
      "('python', 123, 12.58)\n"
     ]
    }
   ],
   "source": [
    "tuple2 = (\"python\", 123, 12.58)\n",
    "print(tuple2)"
   ]
  },
  {
   "cell_type": "code",
   "execution_count": 43,
   "metadata": {},
   "outputs": [
    {
     "name": "stdout",
     "output_type": "stream",
     "text": [
      "<class 'range'> range(0, 10)\n"
     ]
    }
   ],
   "source": [
    "# Range Example:\n",
    "r = range(10)\n",
    "print(type(r), r)"
   ]
  },
  {
   "cell_type": "markdown",
   "metadata": {},
   "source": [
    "### Mapping Type: Dict"
   ]
  },
  {
   "cell_type": "code",
   "execution_count": 46,
   "metadata": {},
   "outputs": [
    {
     "name": "stdout",
     "output_type": "stream",
     "text": [
      "<class 'dict'> {'Name': 'Ram', 'Class': 10, 'Roll No': 1, 'Marks': 95}\n"
     ]
    }
   ],
   "source": [
    "#Example:\n",
    "student = {'Name':'Ram', 'Class':10, 'Roll No': 1, \"Marks\": 95}\n",
    "print(type(student), student)"
   ]
  },
  {
   "cell_type": "markdown",
   "metadata": {},
   "source": [
    "### Set Types: Set"
   ]
  },
  {
   "cell_type": "code",
   "execution_count": 50,
   "metadata": {},
   "outputs": [
    {
     "name": "stdout",
     "output_type": "stream",
     "text": [
      "<class 'set'> {96, 32, 78, 14, 47, 25, 58}\n"
     ]
    }
   ],
   "source": [
    "#Example:\n",
    "num_set = {14,47,78,96,32,25,58,58}\n",
    "print(type(num_set), num_set)"
   ]
  },
  {
   "cell_type": "markdown",
   "metadata": {},
   "source": [
    "### Boolean Type: bool"
   ]
  },
  {
   "cell_type": "code",
   "execution_count": 51,
   "metadata": {},
   "outputs": [
    {
     "name": "stdout",
     "output_type": "stream",
     "text": [
      "True\n",
      "False\n"
     ]
    }
   ],
   "source": [
    "print(True)\n",
    "print(False)"
   ]
  },
  {
   "cell_type": "code",
   "execution_count": 52,
   "metadata": {},
   "outputs": [
    {
     "name": "stdout",
     "output_type": "stream",
     "text": [
      "True\n"
     ]
    }
   ],
   "source": [
    "a = 15\n",
    "b = 25\n",
    "print(a < b) "
   ]
  },
  {
   "cell_type": "code",
   "execution_count": 53,
   "metadata": {},
   "outputs": [
    {
     "name": "stdout",
     "output_type": "stream",
     "text": [
      "True\n",
      "True\n",
      "True\n",
      "True\n",
      "True\n",
      "True\n"
     ]
    }
   ],
   "source": [
    "# The bool() function allows you to evaluate any value, and give you True or False in return.\n",
    "# Almost any value is evaluated to True if it has some sort of content.\n",
    "print(bool(\"Hello\"))\n",
    "print(bool(12345))\n",
    "print(bool([\"a\", \"b\", \"c\"]))\n",
    "print(bool((\"a\", \"b\", \"c\")))\n",
    "print(bool({\"a\", \"b\", \"c\"}))\n",
    "print(bool({\"a\":\"apple\", \"b\":\"ball\", \"c\":\"cat\"}))"
   ]
  },
  {
   "cell_type": "code",
   "execution_count": 54,
   "metadata": {},
   "outputs": [
    {
     "name": "stdout",
     "output_type": "stream",
     "text": [
      "False\n",
      "False\n",
      "False\n",
      "False\n",
      "False\n",
      "False\n",
      "False\n"
     ]
    }
   ],
   "source": [
    "# Empty values, such as (), [], {}, \"\", the number 0, and the value None will give false\n",
    "print(bool(()))\n",
    "print(bool([]))\n",
    "print(bool({}))\n",
    "print(bool(set()))\n",
    "print(bool(\"\"))\n",
    "print(bool(0))\n",
    "print(bool(False))"
   ]
  },
  {
   "cell_type": "markdown",
   "metadata": {},
   "source": [
    "## Operators in Python"
   ]
  },
  {
   "cell_type": "markdown",
   "metadata": {},
   "source": [
    "+ Arithmetic\n",
    "+ Relational or Comparison\n",
    "+ Logical\n",
    "+ Assignment\n",
    "+ Membership  "
   ]
  },
  {
   "cell_type": "markdown",
   "metadata": {},
   "source": [
    "### Arithmetic Operators in Python"
   ]
  },
  {
   "cell_type": "code",
   "execution_count": 55,
   "metadata": {},
   "outputs": [
    {
     "name": "stdout",
     "output_type": "stream",
     "text": [
      "Addition arithmetic Operators:  8\n",
      "Subtraction arithmetic Operators:  6\n",
      "Multiplication arithmetic Operators:  10\n",
      "Division arithmetic Operators:  2.5\n",
      "Remainder arithmetic Operators:  1\n",
      "Power arithmetic Operators:  81\n",
      "Floor Division arithmetic Operators:  2\n"
     ]
    }
   ],
   "source": [
    "#Arithmetic Operators are used to perform basic arithmetic operations like addition, subtraction, division etc.\n",
    "#Examples\n",
    "print(\"Addition arithmetic Operators: \", 5+3) #Addition\n",
    "print(\"Subtraction arithmetic Operators: \",8-2) #Subtraction\n",
    "print(\"Multiplication arithmetic Operators: \",2*5) #Multiplication\n",
    "print(\"Division arithmetic Operators: \",10/4) #Division\n",
    "print(\"Remainder arithmetic Operators: \",25%6) #Remainder\n",
    "print(\"Power arithmetic Operators: \",3**4) #Power\n",
    "print(\"Floor Division arithmetic Operators: \",10//4) #Floor Division"
   ]
  },
  {
   "cell_type": "markdown",
   "metadata": {},
   "source": [
    "### Relational or Comparison Operators in Python"
   ]
  },
  {
   "cell_type": "code",
   "execution_count": 56,
   "metadata": {},
   "outputs": [
    {
     "name": "stdout",
     "output_type": "stream",
     "text": [
      "False\n",
      "True\n",
      "False\n",
      "True\n",
      "False\n",
      "True\n"
     ]
    }
   ],
   "source": [
    "#Relational operators are used to compare the value of operands (expressions) to produce a logical value. A logical value is either True or False.\n",
    "#Examples:\n",
    "print(10<2)\n",
    "print(10>2)\n",
    "print(10<=2)\n",
    "print(10>=2)\n",
    "print(10==2)\n",
    "print(10!=2)"
   ]
  },
  {
   "cell_type": "markdown",
   "metadata": {},
   "source": [
    "### Logical Operators in Python"
   ]
  },
  {
   "cell_type": "markdown",
   "metadata": {},
   "source": [
    "Logical operators are used to connect more relational operations to form a complex expression called logical expression. A value obtained by evaluating a logical expression is always logical, i.e. either True or False."
   ]
  },
  {
   "cell_type": "markdown",
   "metadata": {},
   "source": [
    "#### Logical And"
   ]
  },
  {
   "cell_type": "code",
   "execution_count": 57,
   "metadata": {},
   "outputs": [
    {
     "name": "stdout",
     "output_type": "stream",
     "text": [
      "True\n",
      "False\n",
      "False\n",
      "False\n"
     ]
    }
   ],
   "source": [
    "\n",
    "print(5>2 and 3>2) # True and True will give True\n",
    "print(5>2 and 3<2) # True and False will give False\n",
    "print(5<2 and 3>2) # False and True will give False\n",
    "print(5<2 and 3<2) # False and False will give False\n"
   ]
  },
  {
   "cell_type": "markdown",
   "metadata": {},
   "source": [
    "#### Logical Or\n"
   ]
  },
  {
   "cell_type": "code",
   "execution_count": 58,
   "metadata": {},
   "outputs": [
    {
     "name": "stdout",
     "output_type": "stream",
     "text": [
      "True\n",
      "True\n",
      "True\n",
      "False\n"
     ]
    }
   ],
   "source": [
    "print(5>2 or 3>2) # True or True will give True\n",
    "print(5>2 or 3<2) # True or False will give True\n",
    "print(5<2 or 3>2) # False or True will give True\n",
    "print(5<2 or 3<2) # False or False will give False"
   ]
  },
  {
   "cell_type": "markdown",
   "metadata": {},
   "source": [
    "#### Logical Not"
   ]
  },
  {
   "cell_type": "code",
   "execution_count": 59,
   "metadata": {},
   "outputs": [
    {
     "name": "stdout",
     "output_type": "stream",
     "text": [
      "False\n",
      "True\n"
     ]
    }
   ],
   "source": [
    "print(not(5>2)) # not True will give False\n",
    "print(not(3<2)) # not False will give True"
   ]
  },
  {
   "cell_type": "markdown",
   "metadata": {},
   "source": [
    "### Assignment Operators in Python"
   ]
  },
  {
   "cell_type": "markdown",
   "metadata": {},
   "source": [
    "Assignment operators are used to perform arithmetic operations while assigning value to a variable."
   ]
  },
  {
   "cell_type": "code",
   "execution_count": 60,
   "metadata": {},
   "outputs": [
    {
     "name": "stdout",
     "output_type": "stream",
     "text": [
      "10\n",
      "30\n"
     ]
    }
   ],
   "source": [
    "x = 10\n",
    "print(x)\n",
    "x = x + 20\n",
    "print(x)"
   ]
  },
  {
   "cell_type": "code",
   "execution_count": 61,
   "metadata": {},
   "outputs": [
    {
     "name": "stdout",
     "output_type": "stream",
     "text": [
      "10\n",
      "30\n"
     ]
    }
   ],
   "source": [
    "x = 10\n",
    "print(x)\n",
    "x += 20\n",
    "print(x)"
   ]
  },
  {
   "cell_type": "code",
   "execution_count": 62,
   "metadata": {},
   "outputs": [
    {
     "name": "stdout",
     "output_type": "stream",
     "text": [
      "10\n",
      "-10\n"
     ]
    }
   ],
   "source": [
    "x = 10\n",
    "print(x)\n",
    "x -= 20\n",
    "print(x)"
   ]
  },
  {
   "cell_type": "code",
   "execution_count": 63,
   "metadata": {},
   "outputs": [
    {
     "name": "stdout",
     "output_type": "stream",
     "text": [
      "10\n",
      "200\n"
     ]
    }
   ],
   "source": [
    "x = 10\n",
    "print(x)\n",
    "x *= 20\n",
    "print(x)"
   ]
  },
  {
   "cell_type": "code",
   "execution_count": 64,
   "metadata": {},
   "outputs": [
    {
     "name": "stdout",
     "output_type": "stream",
     "text": [
      "10\n",
      "3.3333333333333335\n"
     ]
    }
   ],
   "source": [
    "x = 10\n",
    "print(x)\n",
    "x /= 3\n",
    "print(x)"
   ]
  },
  {
   "cell_type": "code",
   "execution_count": 65,
   "metadata": {},
   "outputs": [
    {
     "name": "stdout",
     "output_type": "stream",
     "text": [
      "10\n",
      "1\n"
     ]
    }
   ],
   "source": [
    "x = 10\n",
    "print(x)\n",
    "x %= 3\n",
    "print(x)"
   ]
  },
  {
   "cell_type": "code",
   "execution_count": 66,
   "metadata": {},
   "outputs": [
    {
     "name": "stdout",
     "output_type": "stream",
     "text": [
      "10\n",
      "100\n"
     ]
    }
   ],
   "source": [
    "x = 10\n",
    "print(x)\n",
    "x **= 2\n",
    "print(x)"
   ]
  },
  {
   "cell_type": "code",
   "execution_count": 67,
   "metadata": {},
   "outputs": [
    {
     "name": "stdout",
     "output_type": "stream",
     "text": [
      "10\n",
      "3\n"
     ]
    }
   ],
   "source": [
    "x = 10\n",
    "print(x)\n",
    "x //= 3\n",
    "print(x)"
   ]
  },
  {
   "cell_type": "markdown",
   "metadata": {},
   "source": [
    "## Membership Operators"
   ]
  },
  {
   "cell_type": "markdown",
   "metadata": {},
   "source": [
    "The membership operators are useful to test for membership in a sequence such as string, lists, tuples and dictionaries.\n",
    "\n",
    "There are two type of Membership operator:\n",
    "\n",
    "+ in\n",
    "+ not in"
   ]
  },
  {
   "cell_type": "code",
   "execution_count": 68,
   "metadata": {},
   "outputs": [
    {
     "name": "stdout",
     "output_type": "stream",
     "text": [
      "True\n",
      "False\n",
      "True\n",
      "False\n"
     ]
    }
   ],
   "source": [
    "#Examples:\n",
    "print(\"p\" in \"python\") #Gives True\n",
    "print(\"P\" in \"python\") #Gives False, because python is case sensetive.\n",
    "print(12 in [10,12,14,16,18]) #Gives True\n",
    "print(100 in [10,12,14,16,18]) #Gives False"
   ]
  },
  {
   "cell_type": "code",
   "execution_count": 71,
   "metadata": {},
   "outputs": [
    {
     "name": "stdout",
     "output_type": "stream",
     "text": [
      "False\n",
      "True\n",
      "True\n",
      "True\n",
      "False\n"
     ]
    }
   ],
   "source": [
    "print(\"p\" not in \"python\")\n",
    "print(\"P\" not in \"python\")\n",
    "print(20 not in [10,12,14,16,18])\n",
    "print(20 not in [10,12,14,16,18])\n",
    "print(18 not in [10,12,14,16,18])"
   ]
  },
  {
   "cell_type": "code",
   "execution_count": null,
   "metadata": {},
   "outputs": [],
   "source": []
  }
 ],
 "metadata": {
  "interpreter": {
   "hash": "c8e829dafc3660d20662d589f3270e4c770d897f8207ab99cee52b17abd986f6"
  },
  "kernelspec": {
   "display_name": "Python 3 (ipykernel)",
   "language": "python",
   "name": "python3"
  },
  "language_info": {
   "codemirror_mode": {
    "name": "ipython",
    "version": 3
   },
   "file_extension": ".py",
   "mimetype": "text/x-python",
   "name": "python",
   "nbconvert_exporter": "python",
   "pygments_lexer": "ipython3",
   "version": "3.8.12"
  }
 },
 "nbformat": 4,
 "nbformat_minor": 4
}
