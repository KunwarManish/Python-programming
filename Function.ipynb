{
 "cells": [
  {
   "cell_type": "markdown",
   "id": "11145f8e-79c4-4fcf-9c06-acc9026ae980",
   "metadata": {},
   "source": [
    "# Functions I"
   ]
  },
  {
   "cell_type": "markdown",
   "id": "9277ca7b-ec17-4b6a-954e-9b256c788955",
   "metadata": {},
   "source": [
    "## What is a Function?"
   ]
  },
  {
   "cell_type": "markdown",
   "id": "4f573944-bd27-4891-ad09-e2fa6e06d266",
   "metadata": {},
   "source": [
    "**Functions** is a special code fragment written to perform a specific task."
   ]
  },
  {
   "cell_type": "markdown",
   "id": "2e8ba545-204e-4b59-88ff-fcb95f6373ed",
   "metadata": {},
   "source": [
    "Funciton only run, when you call them."
   ]
  },
  {
   "cell_type": "markdown",
   "id": "8c4f3174-25e7-412d-bde3-a47d7adde20c",
   "metadata": {},
   "source": [
    "Function may have parameters(arguments)."
   ]
  },
  {
   "cell_type": "markdown",
   "id": "4cb6dcba-08d6-46b1-8c6d-db80e0e1d715",
   "metadata": {},
   "source": [
    "Functions may return a value back."
   ]
  },
  {
   "cell_type": "markdown",
   "id": "ee1d7e19-918b-4c40-8681-08e14b07d980",
   "metadata": {},
   "source": [
    "Calling a function.\n",
    "\n",
    "**function_name()**"
   ]
  },
  {
   "cell_type": "markdown",
   "id": "ff02d618-87de-45d5-8e76-e1ed91514b62",
   "metadata": {},
   "source": [
    "Calling a function with parameters:\n",
    "\n",
    "**function_name(parameter_1,parameter_2,...)"
   ]
  },
  {
   "cell_type": "markdown",
   "id": "6e93dcb2-1b59-482e-9cb7-78029f106332",
   "metadata": {},
   "source": [
    "Functions prevent code duplications."
   ]
  },
  {
   "cell_type": "code",
   "execution_count": 2,
   "id": "41195492-860d-4a3a-bb5a-0d2b57151d51",
   "metadata": {},
   "outputs": [
    {
     "data": {
      "text/plain": [
       "int"
      ]
     },
     "execution_count": 2,
     "metadata": {},
     "output_type": "execute_result"
    }
   ],
   "source": [
    "# type()\n",
    "\n",
    "type(42)"
   ]
  },
  {
   "cell_type": "code",
   "execution_count": 3,
   "id": "f73e7a57-0492-4113-9c1c-634042ae444c",
   "metadata": {},
   "outputs": [
    {
     "data": {
      "text/plain": [
       "str"
      ]
     },
     "execution_count": 3,
     "metadata": {},
     "output_type": "execute_result"
    }
   ],
   "source": [
    "type('a sunny day')"
   ]
  },
  {
   "cell_type": "code",
   "execution_count": 4,
   "id": "8a585efe-ade7-43bf-8453-dd2c7c21f884",
   "metadata": {},
   "outputs": [
    {
     "data": {
      "text/plain": [
       "str"
      ]
     },
     "execution_count": 4,
     "metadata": {},
     "output_type": "execute_result"
    }
   ],
   "source": [
    "type('AI')"
   ]
  },
  {
   "cell_type": "code",
   "execution_count": 6,
   "id": "fa2137bf-defd-49b1-a898-1015788b1e87",
   "metadata": {},
   "outputs": [
    {
     "data": {
      "text/plain": [
       "5"
      ]
     },
     "execution_count": 6,
     "metadata": {},
     "output_type": "execute_result"
    }
   ],
   "source": [
    "# int() -> coverts the given argument to int\n",
    "\n",
    "int(5.68)"
   ]
  },
  {
   "cell_type": "code",
   "execution_count": 7,
   "id": "1a079ef2-73e1-4f88-8eef-1412157abfc0",
   "metadata": {},
   "outputs": [
    {
     "ename": "ValueError",
     "evalue": "invalid literal for int() with base 10: 'value'",
     "output_type": "error",
     "traceback": [
      "\u001b[1;31m---------------------------------------------------------------------------\u001b[0m",
      "\u001b[1;31mValueError\u001b[0m                                Traceback (most recent call last)",
      "\u001b[1;32m~\\AppData\\Local\\Temp/ipykernel_1212/2009041744.py\u001b[0m in \u001b[0;36m<module>\u001b[1;34m\u001b[0m\n\u001b[1;32m----> 1\u001b[1;33m \u001b[0mint\u001b[0m\u001b[1;33m(\u001b[0m\u001b[1;34m'value'\u001b[0m\u001b[1;33m)\u001b[0m\u001b[1;33m\u001b[0m\u001b[1;33m\u001b[0m\u001b[0m\n\u001b[0m",
      "\u001b[1;31mValueError\u001b[0m: invalid literal for int() with base 10: 'value'"
     ]
    }
   ],
   "source": [
    "int('value')"
   ]
  },
  {
   "cell_type": "code",
   "execution_count": 8,
   "id": "a627bc0d-06f1-4526-9caf-360e24be5527",
   "metadata": {},
   "outputs": [
    {
     "data": {
      "text/plain": [
       "82"
      ]
     },
     "execution_count": 8,
     "metadata": {},
     "output_type": "execute_result"
    }
   ],
   "source": [
    "int(\"82\")"
   ]
  },
  {
   "cell_type": "code",
   "execution_count": 9,
   "id": "e69c10bb-9abb-4ed5-9150-4fbabf8332b1",
   "metadata": {},
   "outputs": [
    {
     "data": {
      "text/plain": [
       "'45'"
      ]
     },
     "execution_count": 9,
     "metadata": {},
     "output_type": "execute_result"
    }
   ],
   "source": [
    "# str() -> coverts (casts) the given argument into string\n",
    "\n",
    "str(45)"
   ]
  },
  {
   "cell_type": "code",
   "execution_count": 10,
   "id": "b63ea033-6818-4d4d-bef0-c193652b34b7",
   "metadata": {},
   "outputs": [
    {
     "data": {
      "text/plain": [
       "'4.57'"
      ]
     },
     "execution_count": 10,
     "metadata": {},
     "output_type": "execute_result"
    }
   ],
   "source": [
    "str(4.57)"
   ]
  },
  {
   "cell_type": "code",
   "execution_count": 11,
   "id": "6af0855a-7b2b-42f1-84c3-dafbd931d9ad",
   "metadata": {},
   "outputs": [
    {
     "data": {
      "text/plain": [
       "'Gotham'"
      ]
     },
     "execution_count": 11,
     "metadata": {},
     "output_type": "execute_result"
    }
   ],
   "source": [
    "str('Gotham')"
   ]
  },
  {
   "cell_type": "code",
   "execution_count": 12,
   "id": "2a27a00e-1e8e-4e95-b72b-43f03d2bb50e",
   "metadata": {},
   "outputs": [
    {
     "data": {
      "text/plain": [
       "12.0"
      ]
     },
     "execution_count": 12,
     "metadata": {},
     "output_type": "execute_result"
    }
   ],
   "source": [
    "# float() -> casts the given arugment into floot\n",
    "\n",
    "float(12)"
   ]
  },
  {
   "cell_type": "code",
   "execution_count": 13,
   "id": "a4a682a9-3a42-4bd6-bff7-43eda925c0f5",
   "metadata": {},
   "outputs": [
    {
     "data": {
      "text/plain": [
       "4.0"
      ]
     },
     "execution_count": 13,
     "metadata": {},
     "output_type": "execute_result"
    }
   ],
   "source": [
    "float('4')"
   ]
  },
  {
   "cell_type": "code",
   "execution_count": 14,
   "id": "840ef7ae-a393-4bd4-bcaf-6799cded23b9",
   "metadata": {},
   "outputs": [
    {
     "data": {
      "text/plain": [
       "-78.0"
      ]
     },
     "execution_count": 14,
     "metadata": {},
     "output_type": "execute_result"
    }
   ],
   "source": [
    "num = '-78'\n",
    "float(num)"
   ]
  },
  {
   "cell_type": "code",
   "execution_count": 15,
   "id": "ee62f34e-71ea-419a-bbc4-c9db79034cfe",
   "metadata": {},
   "outputs": [
    {
     "ename": "ValueError",
     "evalue": "could not convert string to float: '78-'",
     "output_type": "error",
     "traceback": [
      "\u001b[1;31m---------------------------------------------------------------------------\u001b[0m",
      "\u001b[1;31mValueError\u001b[0m                                Traceback (most recent call last)",
      "\u001b[1;32m~\\AppData\\Local\\Temp/ipykernel_1212/3302151430.py\u001b[0m in \u001b[0;36m<module>\u001b[1;34m\u001b[0m\n\u001b[0;32m      1\u001b[0m \u001b[0mnum\u001b[0m \u001b[1;33m=\u001b[0m \u001b[1;34m'78-'\u001b[0m\u001b[1;33m\u001b[0m\u001b[1;33m\u001b[0m\u001b[0m\n\u001b[1;32m----> 2\u001b[1;33m \u001b[0mfloat\u001b[0m\u001b[1;33m(\u001b[0m\u001b[0mnum\u001b[0m\u001b[1;33m)\u001b[0m\u001b[1;33m\u001b[0m\u001b[1;33m\u001b[0m\u001b[0m\n\u001b[0m",
      "\u001b[1;31mValueError\u001b[0m: could not convert string to float: '78-'"
     ]
    }
   ],
   "source": [
    "num = '78-'\n",
    "float(num)"
   ]
  },
  {
   "cell_type": "code",
   "execution_count": null,
   "id": "d7bd2080-6e39-46f2-b662-4dac2db9ded8",
   "metadata": {},
   "outputs": [],
   "source": []
  }
 ],
 "metadata": {
  "kernelspec": {
   "display_name": "Python 3 (ipykernel)",
   "language": "python",
   "name": "python3"
  },
  "language_info": {
   "codemirror_mode": {
    "name": "ipython",
    "version": 3
   },
   "file_extension": ".py",
   "mimetype": "text/x-python",
   "name": "python",
   "nbconvert_exporter": "python",
   "pygments_lexer": "ipython3",
   "version": "3.8.12"
  }
 },
 "nbformat": 4,
 "nbformat_minor": 5
}
