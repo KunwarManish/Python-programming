{
 "cells": [
  {
   "cell_type": "markdown",
   "id": "11145f8e-79c4-4fcf-9c06-acc9026ae980",
   "metadata": {},
   "source": [
    "# Functions I"
   ]
  },
  {
   "cell_type": "markdown",
   "id": "9277ca7b-ec17-4b6a-954e-9b256c788955",
   "metadata": {},
   "source": [
    "## What is a Function?"
   ]
  },
  {
   "cell_type": "markdown",
   "id": "4f573944-bd27-4891-ad09-e2fa6e06d266",
   "metadata": {},
   "source": [
    "**Functions** is a special code fragment written to perform a specific task."
   ]
  },
  {
   "cell_type": "markdown",
   "id": "2e8ba545-204e-4b59-88ff-fcb95f6373ed",
   "metadata": {},
   "source": [
    "Funciton only run, when you call them."
   ]
  },
  {
   "cell_type": "markdown",
   "id": "8c4f3174-25e7-412d-bde3-a47d7adde20c",
   "metadata": {},
   "source": [
    "Function may have parameters(arguments)."
   ]
  },
  {
   "cell_type": "markdown",
   "id": "4cb6dcba-08d6-46b1-8c6d-db80e0e1d715",
   "metadata": {},
   "source": [
    "Functions may return a value back."
   ]
  },
  {
   "cell_type": "markdown",
   "id": "ee1d7e19-918b-4c40-8681-08e14b07d980",
   "metadata": {},
   "source": [
    "Calling a function.\n",
    "\n",
    "**function_name()**"
   ]
  },
  {
   "cell_type": "markdown",
   "id": "ff02d618-87de-45d5-8e76-e1ed91514b62",
   "metadata": {},
   "source": [
    "Calling a function with parameters:\n",
    "\n",
    "**function_name(parameter_1,parameter_2,...)"
   ]
  },
  {
   "cell_type": "markdown",
   "id": "6e93dcb2-1b59-482e-9cb7-78029f106332",
   "metadata": {},
   "source": [
    "Functions prevent code duplications."
   ]
  },
  {
   "cell_type": "code",
   "execution_count": 1,
   "id": "41195492-860d-4a3a-bb5a-0d2b57151d51",
   "metadata": {},
   "outputs": [
    {
     "data": {
      "text/plain": [
       "int"
      ]
     },
     "execution_count": 1,
     "metadata": {},
     "output_type": "execute_result"
    }
   ],
   "source": [
    "# type()\n",
    "\n",
    "type(42)"
   ]
  },
  {
   "cell_type": "code",
   "execution_count": 2,
   "id": "f73e7a57-0492-4113-9c1c-634042ae444c",
   "metadata": {},
   "outputs": [
    {
     "data": {
      "text/plain": [
       "str"
      ]
     },
     "execution_count": 2,
     "metadata": {},
     "output_type": "execute_result"
    }
   ],
   "source": [
    "type('a sunny day')"
   ]
  },
  {
   "cell_type": "code",
   "execution_count": 3,
   "id": "8a585efe-ade7-43bf-8453-dd2c7c21f884",
   "metadata": {},
   "outputs": [
    {
     "data": {
      "text/plain": [
       "str"
      ]
     },
     "execution_count": 3,
     "metadata": {},
     "output_type": "execute_result"
    }
   ],
   "source": [
    "type('AI')"
   ]
  },
  {
   "cell_type": "code",
   "execution_count": 4,
   "id": "fa2137bf-defd-49b1-a898-1015788b1e87",
   "metadata": {},
   "outputs": [
    {
     "data": {
      "text/plain": [
       "5"
      ]
     },
     "execution_count": 4,
     "metadata": {},
     "output_type": "execute_result"
    }
   ],
   "source": [
    "# int() -> coverts the given argument to int\n",
    "\n",
    "int(5.68)"
   ]
  },
  {
   "cell_type": "code",
   "execution_count": 5,
   "id": "1a079ef2-73e1-4f88-8eef-1412157abfc0",
   "metadata": {},
   "outputs": [
    {
     "ename": "ValueError",
     "evalue": "invalid literal for int() with base 10: 'value'",
     "output_type": "error",
     "traceback": [
      "\u001b[1;31m---------------------------------------------------------------------------\u001b[0m",
      "\u001b[1;31mValueError\u001b[0m                                Traceback (most recent call last)",
      "\u001b[1;32m~\\AppData\\Local\\Temp/ipykernel_15552/2009041744.py\u001b[0m in \u001b[0;36m<module>\u001b[1;34m\u001b[0m\n\u001b[1;32m----> 1\u001b[1;33m \u001b[0mint\u001b[0m\u001b[1;33m(\u001b[0m\u001b[1;34m'value'\u001b[0m\u001b[1;33m)\u001b[0m\u001b[1;33m\u001b[0m\u001b[1;33m\u001b[0m\u001b[0m\n\u001b[0m",
      "\u001b[1;31mValueError\u001b[0m: invalid literal for int() with base 10: 'value'"
     ]
    }
   ],
   "source": [
    "int('value')"
   ]
  },
  {
   "cell_type": "code",
   "execution_count": null,
   "id": "a627bc0d-06f1-4526-9caf-360e24be5527",
   "metadata": {},
   "outputs": [],
   "source": [
    "int(\"82\")"
   ]
  },
  {
   "cell_type": "code",
   "execution_count": null,
   "id": "e69c10bb-9abb-4ed5-9150-4fbabf8332b1",
   "metadata": {},
   "outputs": [],
   "source": [
    "# str() -> coverts (casts) the given argument into string\n",
    "\n",
    "str(45)"
   ]
  },
  {
   "cell_type": "code",
   "execution_count": 6,
   "id": "b63ea033-6818-4d4d-bef0-c193652b34b7",
   "metadata": {},
   "outputs": [
    {
     "data": {
      "text/plain": [
       "'4.57'"
      ]
     },
     "execution_count": 6,
     "metadata": {},
     "output_type": "execute_result"
    }
   ],
   "source": [
    "str(4.57)"
   ]
  },
  {
   "cell_type": "code",
   "execution_count": 7,
   "id": "6af0855a-7b2b-42f1-84c3-dafbd931d9ad",
   "metadata": {},
   "outputs": [
    {
     "data": {
      "text/plain": [
       "'Gotham'"
      ]
     },
     "execution_count": 7,
     "metadata": {},
     "output_type": "execute_result"
    }
   ],
   "source": [
    "str('Gotham')"
   ]
  },
  {
   "cell_type": "code",
   "execution_count": 8,
   "id": "2a27a00e-1e8e-4e95-b72b-43f03d2bb50e",
   "metadata": {},
   "outputs": [
    {
     "data": {
      "text/plain": [
       "12.0"
      ]
     },
     "execution_count": 8,
     "metadata": {},
     "output_type": "execute_result"
    }
   ],
   "source": [
    "# float() -> casts the given arugment into floot\n",
    "\n",
    "float(12)"
   ]
  },
  {
   "cell_type": "code",
   "execution_count": 9,
   "id": "a4a682a9-3a42-4bd6-bff7-43eda925c0f5",
   "metadata": {},
   "outputs": [
    {
     "data": {
      "text/plain": [
       "4.0"
      ]
     },
     "execution_count": 9,
     "metadata": {},
     "output_type": "execute_result"
    }
   ],
   "source": [
    "float('4')"
   ]
  },
  {
   "cell_type": "code",
   "execution_count": 10,
   "id": "840ef7ae-a393-4bd4-bcaf-6799cded23b9",
   "metadata": {},
   "outputs": [
    {
     "data": {
      "text/plain": [
       "-78.0"
      ]
     },
     "execution_count": 10,
     "metadata": {},
     "output_type": "execute_result"
    }
   ],
   "source": [
    "num = '-78'\n",
    "float(num)"
   ]
  },
  {
   "cell_type": "code",
   "execution_count": 11,
   "id": "ee62f34e-71ea-419a-bbc4-c9db79034cfe",
   "metadata": {},
   "outputs": [
    {
     "ename": "ValueError",
     "evalue": "could not convert string to float: '78-'",
     "output_type": "error",
     "traceback": [
      "\u001b[1;31m---------------------------------------------------------------------------\u001b[0m",
      "\u001b[1;31mValueError\u001b[0m                                Traceback (most recent call last)",
      "\u001b[1;32m~\\AppData\\Local\\Temp/ipykernel_15552/3302151430.py\u001b[0m in \u001b[0;36m<module>\u001b[1;34m\u001b[0m\n\u001b[0;32m      1\u001b[0m \u001b[0mnum\u001b[0m \u001b[1;33m=\u001b[0m \u001b[1;34m'78-'\u001b[0m\u001b[1;33m\u001b[0m\u001b[1;33m\u001b[0m\u001b[0m\n\u001b[1;32m----> 2\u001b[1;33m \u001b[0mfloat\u001b[0m\u001b[1;33m(\u001b[0m\u001b[0mnum\u001b[0m\u001b[1;33m)\u001b[0m\u001b[1;33m\u001b[0m\u001b[1;33m\u001b[0m\u001b[0m\n\u001b[0m",
      "\u001b[1;31mValueError\u001b[0m: could not convert string to float: '78-'"
     ]
    }
   ],
   "source": [
    "num = '78-'\n",
    "float(num)"
   ]
  },
  {
   "cell_type": "markdown",
   "id": "b563e83c-cc6d-4e66-a93d-7f361483e810",
   "metadata": {},
   "source": [
    "# Math Functions (math)"
   ]
  },
  {
   "cell_type": "markdown",
   "id": "2430299f-30e7-4b1b-a9ab-95bc8be559d1",
   "metadata": {},
   "source": [
    "We use **math** module to do mathematical operations."
   ]
  },
  {
   "cell_type": "markdown",
   "id": "b01f5828-e393-4bc8-a7c8-883925810ba7",
   "metadata": {},
   "source": [
    "**Module** is any Pythn file(.py) that includes executable python code."
   ]
  },
  {
   "cell_type": "code",
   "execution_count": 12,
   "id": "a7dcdeda-ad2f-41b4-87a5-f52fa5bb1acc",
   "metadata": {},
   "outputs": [],
   "source": [
    "# import math module\n",
    "\n",
    "import math"
   ]
  },
  {
   "cell_type": "code",
   "execution_count": 13,
   "id": "360fd263-0d52-4bbb-adba-61f57b3ec15d",
   "metadata": {},
   "outputs": [
    {
     "name": "stdout",
     "output_type": "stream",
     "text": [
      "<module 'math' (built-in)>\n"
     ]
    }
   ],
   "source": [
    "# see the module docs\n",
    "\n",
    "print(math)"
   ]
  },
  {
   "cell_type": "code",
   "execution_count": 14,
   "id": "bed419d6-ccd7-4ff1-8201-9d31fdfe120f",
   "metadata": {
    "collapsed": true,
    "jupyter": {
     "outputs_hidden": true
    },
    "tags": []
   },
   "outputs": [
    {
     "name": "stdout",
     "output_type": "stream",
     "text": [
      "Help on built-in module math:\n",
      "\n",
      "NAME\n",
      "    math\n",
      "\n",
      "DESCRIPTION\n",
      "    This module provides access to the mathematical functions\n",
      "    defined by the C standard.\n",
      "\n",
      "FUNCTIONS\n",
      "    acos(x, /)\n",
      "        Return the arc cosine (measured in radians) of x.\n",
      "    \n",
      "    acosh(x, /)\n",
      "        Return the inverse hyperbolic cosine of x.\n",
      "    \n",
      "    asin(x, /)\n",
      "        Return the arc sine (measured in radians) of x.\n",
      "    \n",
      "    asinh(x, /)\n",
      "        Return the inverse hyperbolic sine of x.\n",
      "    \n",
      "    atan(x, /)\n",
      "        Return the arc tangent (measured in radians) of x.\n",
      "    \n",
      "    atan2(y, x, /)\n",
      "        Return the arc tangent (measured in radians) of y/x.\n",
      "        \n",
      "        Unlike atan(y/x), the signs of both x and y are considered.\n",
      "    \n",
      "    atanh(x, /)\n",
      "        Return the inverse hyperbolic tangent of x.\n",
      "    \n",
      "    ceil(x, /)\n",
      "        Return the ceiling of x as an Integral.\n",
      "        \n",
      "        This is the smallest integer >= x.\n",
      "    \n",
      "    comb(n, k, /)\n",
      "        Number of ways to choose k items from n items without repetition and without order.\n",
      "        \n",
      "        Evaluates to n! / (k! * (n - k)!) when k <= n and evaluates\n",
      "        to zero when k > n.\n",
      "        \n",
      "        Also called the binomial coefficient because it is equivalent\n",
      "        to the coefficient of k-th term in polynomial expansion of the\n",
      "        expression (1 + x)**n.\n",
      "        \n",
      "        Raises TypeError if either of the arguments are not integers.\n",
      "        Raises ValueError if either of the arguments are negative.\n",
      "    \n",
      "    copysign(x, y, /)\n",
      "        Return a float with the magnitude (absolute value) of x but the sign of y.\n",
      "        \n",
      "        On platforms that support signed zeros, copysign(1.0, -0.0)\n",
      "        returns -1.0.\n",
      "    \n",
      "    cos(x, /)\n",
      "        Return the cosine of x (measured in radians).\n",
      "    \n",
      "    cosh(x, /)\n",
      "        Return the hyperbolic cosine of x.\n",
      "    \n",
      "    degrees(x, /)\n",
      "        Convert angle x from radians to degrees.\n",
      "    \n",
      "    dist(p, q, /)\n",
      "        Return the Euclidean distance between two points p and q.\n",
      "        \n",
      "        The points should be specified as sequences (or iterables) of\n",
      "        coordinates.  Both inputs must have the same dimension.\n",
      "        \n",
      "        Roughly equivalent to:\n",
      "            sqrt(sum((px - qx) ** 2.0 for px, qx in zip(p, q)))\n",
      "    \n",
      "    erf(x, /)\n",
      "        Error function at x.\n",
      "    \n",
      "    erfc(x, /)\n",
      "        Complementary error function at x.\n",
      "    \n",
      "    exp(x, /)\n",
      "        Return e raised to the power of x.\n",
      "    \n",
      "    expm1(x, /)\n",
      "        Return exp(x)-1.\n",
      "        \n",
      "        This function avoids the loss of precision involved in the direct evaluation of exp(x)-1 for small x.\n",
      "    \n",
      "    fabs(x, /)\n",
      "        Return the absolute value of the float x.\n",
      "    \n",
      "    factorial(x, /)\n",
      "        Find x!.\n",
      "        \n",
      "        Raise a ValueError if x is negative or non-integral.\n",
      "    \n",
      "    floor(x, /)\n",
      "        Return the floor of x as an Integral.\n",
      "        \n",
      "        This is the largest integer <= x.\n",
      "    \n",
      "    fmod(x, y, /)\n",
      "        Return fmod(x, y), according to platform C.\n",
      "        \n",
      "        x % y may differ.\n",
      "    \n",
      "    frexp(x, /)\n",
      "        Return the mantissa and exponent of x, as pair (m, e).\n",
      "        \n",
      "        m is a float and e is an int, such that x = m * 2.**e.\n",
      "        If x is 0, m and e are both 0.  Else 0.5 <= abs(m) < 1.0.\n",
      "    \n",
      "    fsum(seq, /)\n",
      "        Return an accurate floating point sum of values in the iterable seq.\n",
      "        \n",
      "        Assumes IEEE-754 floating point arithmetic.\n",
      "    \n",
      "    gamma(x, /)\n",
      "        Gamma function at x.\n",
      "    \n",
      "    gcd(x, y, /)\n",
      "        greatest common divisor of x and y\n",
      "    \n",
      "    hypot(...)\n",
      "        hypot(*coordinates) -> value\n",
      "        \n",
      "        Multidimensional Euclidean distance from the origin to a point.\n",
      "        \n",
      "        Roughly equivalent to:\n",
      "            sqrt(sum(x**2 for x in coordinates))\n",
      "        \n",
      "        For a two dimensional point (x, y), gives the hypotenuse\n",
      "        using the Pythagorean theorem:  sqrt(x*x + y*y).\n",
      "        \n",
      "        For example, the hypotenuse of a 3/4/5 right triangle is:\n",
      "        \n",
      "            >>> hypot(3.0, 4.0)\n",
      "            5.0\n",
      "    \n",
      "    isclose(a, b, *, rel_tol=1e-09, abs_tol=0.0)\n",
      "        Determine whether two floating point numbers are close in value.\n",
      "        \n",
      "          rel_tol\n",
      "            maximum difference for being considered \"close\", relative to the\n",
      "            magnitude of the input values\n",
      "          abs_tol\n",
      "            maximum difference for being considered \"close\", regardless of the\n",
      "            magnitude of the input values\n",
      "        \n",
      "        Return True if a is close in value to b, and False otherwise.\n",
      "        \n",
      "        For the values to be considered close, the difference between them\n",
      "        must be smaller than at least one of the tolerances.\n",
      "        \n",
      "        -inf, inf and NaN behave similarly to the IEEE 754 Standard.  That\n",
      "        is, NaN is not close to anything, even itself.  inf and -inf are\n",
      "        only close to themselves.\n",
      "    \n",
      "    isfinite(x, /)\n",
      "        Return True if x is neither an infinity nor a NaN, and False otherwise.\n",
      "    \n",
      "    isinf(x, /)\n",
      "        Return True if x is a positive or negative infinity, and False otherwise.\n",
      "    \n",
      "    isnan(x, /)\n",
      "        Return True if x is a NaN (not a number), and False otherwise.\n",
      "    \n",
      "    isqrt(n, /)\n",
      "        Return the integer part of the square root of the input.\n",
      "    \n",
      "    ldexp(x, i, /)\n",
      "        Return x * (2**i).\n",
      "        \n",
      "        This is essentially the inverse of frexp().\n",
      "    \n",
      "    lgamma(x, /)\n",
      "        Natural logarithm of absolute value of Gamma function at x.\n",
      "    \n",
      "    log(...)\n",
      "        log(x, [base=math.e])\n",
      "        Return the logarithm of x to the given base.\n",
      "        \n",
      "        If the base not specified, returns the natural logarithm (base e) of x.\n",
      "    \n",
      "    log10(x, /)\n",
      "        Return the base 10 logarithm of x.\n",
      "    \n",
      "    log1p(x, /)\n",
      "        Return the natural logarithm of 1+x (base e).\n",
      "        \n",
      "        The result is computed in a way which is accurate for x near zero.\n",
      "    \n",
      "    log2(x, /)\n",
      "        Return the base 2 logarithm of x.\n",
      "    \n",
      "    modf(x, /)\n",
      "        Return the fractional and integer parts of x.\n",
      "        \n",
      "        Both results carry the sign of x and are floats.\n",
      "    \n",
      "    perm(n, k=None, /)\n",
      "        Number of ways to choose k items from n items without repetition and with order.\n",
      "        \n",
      "        Evaluates to n! / (n - k)! when k <= n and evaluates\n",
      "        to zero when k > n.\n",
      "        \n",
      "        If k is not specified or is None, then k defaults to n\n",
      "        and the function returns n!.\n",
      "        \n",
      "        Raises TypeError if either of the arguments are not integers.\n",
      "        Raises ValueError if either of the arguments are negative.\n",
      "    \n",
      "    pow(x, y, /)\n",
      "        Return x**y (x to the power of y).\n",
      "    \n",
      "    prod(iterable, /, *, start=1)\n",
      "        Calculate the product of all the elements in the input iterable.\n",
      "        \n",
      "        The default start value for the product is 1.\n",
      "        \n",
      "        When the iterable is empty, return the start value.  This function is\n",
      "        intended specifically for use with numeric values and may reject\n",
      "        non-numeric types.\n",
      "    \n",
      "    radians(x, /)\n",
      "        Convert angle x from degrees to radians.\n",
      "    \n",
      "    remainder(x, y, /)\n",
      "        Difference between x and the closest integer multiple of y.\n",
      "        \n",
      "        Return x - n*y where n*y is the closest integer multiple of y.\n",
      "        In the case where x is exactly halfway between two multiples of\n",
      "        y, the nearest even value of n is used. The result is always exact.\n",
      "    \n",
      "    sin(x, /)\n",
      "        Return the sine of x (measured in radians).\n",
      "    \n",
      "    sinh(x, /)\n",
      "        Return the hyperbolic sine of x.\n",
      "    \n",
      "    sqrt(x, /)\n",
      "        Return the square root of x.\n",
      "    \n",
      "    tan(x, /)\n",
      "        Return the tangent of x (measured in radians).\n",
      "    \n",
      "    tanh(x, /)\n",
      "        Return the hyperbolic tangent of x.\n",
      "    \n",
      "    trunc(x, /)\n",
      "        Truncates the Real x to the nearest Integral toward 0.\n",
      "        \n",
      "        Uses the __trunc__ magic method.\n",
      "\n",
      "DATA\n",
      "    e = 2.718281828459045\n",
      "    inf = inf\n",
      "    nan = nan\n",
      "    pi = 3.141592653589793\n",
      "    tau = 6.283185307179586\n",
      "\n",
      "FILE\n",
      "    (built-in)\n",
      "\n",
      "\n"
     ]
    }
   ],
   "source": [
    "# see details docs\n",
    "\n",
    "# help() -> gives you the detailed docs\n",
    "help(math)"
   ]
  },
  {
   "cell_type": "code",
   "execution_count": 15,
   "id": "2a7ae61e-16ad-4bad-ab6f-a335756c0608",
   "metadata": {},
   "outputs": [
    {
     "data": {
      "text/plain": [
       "3.141592653589793"
      ]
     },
     "execution_count": 15,
     "metadata": {},
     "output_type": "execute_result"
    }
   ],
   "source": [
    "# we can call any function from module -> . notation\n",
    "\n",
    "math.pi"
   ]
  },
  {
   "cell_type": "code",
   "execution_count": 16,
   "id": "3baf999a-1187-4808-9005-8674ef0f62af",
   "metadata": {},
   "outputs": [
    {
     "name": "stdout",
     "output_type": "stream",
     "text": [
      "62.83185307179586\n"
     ]
    }
   ],
   "source": [
    "# Example: \n",
    "\n",
    "# What is the perimeter (circumference) of a circle having radius of 10 cm?\n",
    "# Perimeter = 2 * pi * r\n",
    "\n",
    "# radius\n",
    "r = 10\n",
    "\n",
    "# perimeter\n",
    "perimeter = 2 * math.pi * r\n",
    "\n",
    "print(perimeter)"
   ]
  },
  {
   "cell_type": "code",
   "execution_count": 17,
   "id": "af3ad97c-d802-44f6-b8f4-fba6e9c12449",
   "metadata": {},
   "outputs": [
    {
     "name": "stdout",
     "output_type": "stream",
     "text": [
      "0.5235987755982988\n"
     ]
    }
   ],
   "source": [
    "# Example :\n",
    "\n",
    "# Calculate the sine of 30 degrees -> sin(30)\n",
    "\n",
    "degree = 30\n",
    "\n",
    "# calculate radian\n",
    "radian = math.radians(30)\n",
    "\n",
    "print(radian)"
   ]
  },
  {
   "cell_type": "code",
   "execution_count": 18,
   "id": "62c27442-2408-41a2-b1dc-37d5677ca8b5",
   "metadata": {},
   "outputs": [
    {
     "data": {
      "text/plain": [
       "-0.9880316240928618"
      ]
     },
     "execution_count": 18,
     "metadata": {},
     "output_type": "execute_result"
    }
   ],
   "source": [
    "# False usage of function\n",
    "\n",
    "sine = math.sin(degree)\n",
    "sine"
   ]
  },
  {
   "cell_type": "code",
   "execution_count": 19,
   "id": "86756ee3-6ebd-46de-bd23-03893eb45344",
   "metadata": {},
   "outputs": [
    {
     "name": "stdout",
     "output_type": "stream",
     "text": [
      "Help on built-in function sin in module math:\n",
      "\n",
      "sin(x, /)\n",
      "    Return the sine of x (measured in radians).\n",
      "\n"
     ]
    }
   ],
   "source": [
    "help(math.sin)"
   ]
  },
  {
   "cell_type": "code",
   "execution_count": 20,
   "id": "78e69862-fd65-4280-b232-4764f063b71e",
   "metadata": {},
   "outputs": [
    {
     "data": {
      "text/plain": [
       "0.49999999999999994"
      ]
     },
     "execution_count": 20,
     "metadata": {},
     "output_type": "execute_result"
    }
   ],
   "source": [
    "# Correct usage of function\n",
    "\n",
    "sine = math.sin(radian)\n",
    "sine"
   ]
  },
  {
   "cell_type": "markdown",
   "id": "90f172f5-e63e-4349-b725-079af63e8b06",
   "metadata": {},
   "source": [
    "**Compostion of Functions**"
   ]
  },
  {
   "cell_type": "markdown",
   "id": "af4d9ed6-7559-45cf-b12a-2acaa55fd6b7",
   "metadata": {},
   "source": [
    "Chaining Functions."
   ]
  },
  {
   "cell_type": "code",
   "execution_count": 21,
   "id": "dc61b36d-f33e-4e14-a8a4-e700d76ec399",
   "metadata": {},
   "outputs": [
    {
     "data": {
      "text/plain": [
       "0.49999999999999994"
      ]
     },
     "execution_count": 21,
     "metadata": {},
     "output_type": "execute_result"
    }
   ],
   "source": [
    "\n",
    "degree = 30 \n",
    "sine = math.sin(math.radians(degree))\n",
    "sine\n"
   ]
  },
  {
   "cell_type": "markdown",
   "id": "88ca5425-44b8-44ed-b8b4-2313beb15aae",
   "metadata": {},
   "source": [
    "# Defining Functions"
   ]
  },
  {
   "cell_type": "code",
   "execution_count": 22,
   "id": "3b8c85f0-86e4-4b3a-a96d-f40dccc99cc0",
   "metadata": {},
   "outputs": [],
   "source": [
    "# Without Parameter\n",
    "\n",
    "def function_name():\n",
    "    # print line \n",
    "    print(\"My first function\")\n",
    "    "
   ]
  },
  {
   "cell_type": "code",
   "execution_count": 23,
   "id": "f810e6fb-f396-4e28-a973-610b178c46e6",
   "metadata": {},
   "outputs": [
    {
     "name": "stdout",
     "output_type": "stream",
     "text": [
      "My first function\n"
     ]
    }
   ],
   "source": [
    "# call the function\n",
    "\n",
    "function_name()"
   ]
  },
  {
   "cell_type": "markdown",
   "id": "93706e6f-fdae-4b72-8af4-4018a3c92654",
   "metadata": {},
   "source": [
    "**Indent:** Python uses indent for scoping.\n",
    "\n",
    "    * indent: tab\n",
    "    * indent: 4 space\n",
    "    "
   ]
  },
  {
   "cell_type": "code",
   "execution_count": 24,
   "id": "dee41e9e-4386-46b1-98b2-db1c6116a57f",
   "metadata": {},
   "outputs": [
    {
     "name": "stdout",
     "output_type": "stream",
     "text": [
      "Name: John Doe\n",
      "Age: 24\n",
      "Language: Python\n"
     ]
    }
   ],
   "source": [
    "\n",
    "# Student Data\n",
    "print(\"Name: John Doe\")\n",
    "print(\"Age: 24\")\n",
    "print(\"Language: Python\")"
   ]
  },
  {
   "cell_type": "code",
   "execution_count": 25,
   "id": "beceb4ee-e988-41dc-a181-c2350b988e57",
   "metadata": {},
   "outputs": [
    {
     "name": "stdout",
     "output_type": "stream",
     "text": [
      "Name: John Doe\n",
      "Age: 24\n",
      "Language: Python\n"
     ]
    }
   ],
   "source": [
    "\n",
    "# we need student data again\n",
    "\n",
    "print(\"Name: John Doe\")\n",
    "print(\"Age: 24\")\n",
    "print(\"Language: Python\")\n"
   ]
  },
  {
   "cell_type": "code",
   "execution_count": 26,
   "id": "8a2cc841-4c66-48d1-a565-3f3349e2b9ec",
   "metadata": {},
   "outputs": [],
   "source": [
    "\n",
    "# Define a function for student name\n",
    "\n",
    "def student_name():\n",
    "    print(\"Name: John Doe\")"
   ]
  },
  {
   "cell_type": "code",
   "execution_count": 27,
   "id": "00027e0a-9ac7-4750-a872-8cf6fa41d14a",
   "metadata": {},
   "outputs": [
    {
     "name": "stdout",
     "output_type": "stream",
     "text": [
      "Name: John Doe\n"
     ]
    }
   ],
   "source": [
    "student_name()"
   ]
  },
  {
   "cell_type": "code",
   "execution_count": 28,
   "id": "c5404fb8-3168-45be-8f53-4acb9501df79",
   "metadata": {},
   "outputs": [],
   "source": [
    "\n",
    "# Define a function for student age\n",
    "\n",
    "def student_age():\n",
    "    print(\"Age: 24\")"
   ]
  },
  {
   "cell_type": "code",
   "execution_count": 29,
   "id": "c99d2521-b8cd-4074-a616-5d122a4999c0",
   "metadata": {},
   "outputs": [
    {
     "name": "stdout",
     "output_type": "stream",
     "text": [
      "Age: 24\n"
     ]
    }
   ],
   "source": [
    "student_age()"
   ]
  },
  {
   "cell_type": "code",
   "execution_count": 30,
   "id": "de805fcb-0870-4c1a-ba38-03b783afb577",
   "metadata": {},
   "outputs": [],
   "source": [
    "# Define a function for student language\n",
    "\n",
    "def student_language():\n",
    "    print(\"Language: Python\")"
   ]
  },
  {
   "cell_type": "code",
   "execution_count": 31,
   "id": "b3c23b2a-c16f-44b9-9145-5017346ca49b",
   "metadata": {},
   "outputs": [
    {
     "name": "stdout",
     "output_type": "stream",
     "text": [
      "Language: Python\n"
     ]
    }
   ],
   "source": [
    "student_language()"
   ]
  },
  {
   "cell_type": "code",
   "execution_count": 32,
   "id": "f55758ea-cc46-42e7-95b4-ae6f438d54c5",
   "metadata": {},
   "outputs": [
    {
     "name": "stdout",
     "output_type": "stream",
     "text": [
      "Name: John Doe\n",
      "Age: 24\n",
      "Language: Python\n"
     ]
    }
   ],
   "source": [
    "# Print Student data again\n",
    "\n",
    "student_name()\n",
    "student_age()\n",
    "student_language()"
   ]
  },
  {
   "cell_type": "code",
   "execution_count": 34,
   "id": "9b4c7228-f1b0-445b-872f-7b237429999d",
   "metadata": {},
   "outputs": [
    {
     "name": "stdout",
     "output_type": "stream",
     "text": [
      "Name: John Doe\n",
      "Age: 24\n",
      "Language: Python\n"
     ]
    }
   ],
   "source": [
    "# print student data again\n",
    "\n",
    "student_name()\n",
    "student_age()\n",
    "student_language()"
   ]
  },
  {
   "cell_type": "code",
   "execution_count": 35,
   "id": "c3171c2f-2f1b-4f59-bc71-ad860dd8ec1b",
   "metadata": {},
   "outputs": [],
   "source": [
    "\n",
    "# One Function to call all three\n",
    "\n",
    "def student_data():\n",
    "    student_name()\n",
    "    student_age()\n",
    "    student_language()\n",
    "    "
   ]
  },
  {
   "cell_type": "code",
   "execution_count": 36,
   "id": "eef0630a-1f5b-4477-9c39-0253f43bae4b",
   "metadata": {},
   "outputs": [
    {
     "name": "stdout",
     "output_type": "stream",
     "text": [
      "Name: John Doe\n",
      "Age: 24\n",
      "Language: Python\n"
     ]
    }
   ],
   "source": [
    "# print student data again\n",
    "\n",
    "student_data()"
   ]
  },
  {
   "cell_type": "code",
   "execution_count": 37,
   "id": "937d4a23-e25c-4e27-bfa1-de5748191176",
   "metadata": {},
   "outputs": [
    {
     "name": "stdout",
     "output_type": "stream",
     "text": [
      "Name: John Doe\n",
      "Age: 24\n",
      "Language: Python\n"
     ]
    }
   ],
   "source": [
    "student_data()"
   ]
  },
  {
   "cell_type": "markdown",
   "id": "20974196-135c-430f-9f9a-7f8f515fd97c",
   "metadata": {},
   "source": [
    "We want to print students name and lastname seperately.\n",
    "\n",
    "\"Name: Manish\"\n",
    "\n",
    "\"Lastname: Kunwar\""
   ]
  },
  {
   "cell_type": "code",
   "execution_count": 40,
   "id": "9ee5f346-6d92-42aa-9c9d-0d7ce75cd717",
   "metadata": {},
   "outputs": [],
   "source": [
    "\n",
    "# create two seperate function\n",
    "\n",
    "def student_firstname():\n",
    "    print(\"Name: Manish\")\n",
    "    \n",
    "def student_lastname():\n",
    "    print(\"Lastname: Kunwar\")\n",
    "    \n",
    "    "
   ]
  },
  {
   "cell_type": "code",
   "execution_count": 41,
   "id": "a0bfcc01-08d1-49bf-8382-86251edb4231",
   "metadata": {},
   "outputs": [],
   "source": [
    "\n",
    "# print students name with these functions\n",
    "\n",
    "def student_name():\n",
    "    student_firstname()\n",
    "    student_lastname() \n",
    "    "
   ]
  },
  {
   "cell_type": "code",
   "execution_count": 42,
   "id": "a6ab1047-f8ce-4d0d-933b-842d2eaf2640",
   "metadata": {},
   "outputs": [
    {
     "name": "stdout",
     "output_type": "stream",
     "text": [
      "Name: Manish\n",
      "Lastname: Kunwar\n"
     ]
    }
   ],
   "source": [
    "student_name()"
   ]
  },
  {
   "cell_type": "code",
   "execution_count": 43,
   "id": "dc4a9314-0cdb-4c8a-b744-213980c43050",
   "metadata": {},
   "outputs": [
    {
     "name": "stdout",
     "output_type": "stream",
     "text": [
      "Name: Manish\n",
      "Lastname: Kunwar\n",
      "Age: 24\n",
      "Language: Python\n"
     ]
    }
   ],
   "source": [
    "student_data()"
   ]
  },
  {
   "cell_type": "markdown",
   "id": "756e9ace-8a0c-461c-aa72-cf0a5379bc29",
   "metadata": {},
   "source": [
    "**Execution Flow**\n",
    "* Python Interpreter runs the code from the first line\n",
    "* And moves down \n",
    "* If it encounters a function call \n",
    "    * Frist it goes into that function\n",
    "    * Executes it \n",
    "    * Waits it to finish\n",
    "    * Returns back\n",
    "* Moves down"
   ]
  },
  {
   "cell_type": "code",
   "execution_count": 44,
   "id": "fc15e4f6-9b41-45a3-8762-8364c5ad0a10",
   "metadata": {},
   "outputs": [],
   "source": [
    "def A():\n",
    "    print(\"A\")\n",
    " \n",
    "def B():\n",
    "    print(\"B\")\n",
    " \n",
    "def C():\n",
    "    A()\n",
    " \n",
    "def D():\n",
    "    A()\n",
    "    B()\n",
    "    C()"
   ]
  },
  {
   "cell_type": "code",
   "execution_count": 45,
   "id": "fa0f9f32-1a52-4d89-9a01-5f4cabde8920",
   "metadata": {},
   "outputs": [
    {
     "name": "stdout",
     "output_type": "stream",
     "text": [
      "A\n",
      "B\n",
      "A\n"
     ]
    }
   ],
   "source": [
    "D()"
   ]
  },
  {
   "cell_type": "markdown",
   "id": "ae090180-f340-4377-bd45-5b160c04e17d",
   "metadata": {},
   "source": [
    "# Parameter (Arguments)"
   ]
  },
  {
   "cell_type": "markdown",
   "id": "2ab82103-3f61-409e-9f33-89121feb8194",
   "metadata": {},
   "source": [
    "**Parameters** are inputs you provide to the function."
   ]
  },
  {
   "cell_type": "markdown",
   "id": "c745800e-adc1-421a-b79a-d55acb0180c6",
   "metadata": {},
   "source": [
    "You pass the parameters during function call."
   ]
  },
  {
   "cell_type": "code",
   "execution_count": 46,
   "id": "4d01f509-997c-4bf2-856b-744e849859f6",
   "metadata": {},
   "outputs": [],
   "source": [
    "# define a function which takes a parameter\n",
    "\n",
    "def print_square(number):\n",
    "    \n",
    "    # get the square \n",
    "    sqr = number ** 2\n",
    "    \n",
    "    # print sqr\n",
    "    print(sqr)"
   ]
  },
  {
   "cell_type": "code",
   "execution_count": 47,
   "id": "80ee9bc6-4b7a-4ee1-8878-a660bda460cf",
   "metadata": {},
   "outputs": [
    {
     "ename": "TypeError",
     "evalue": "print_square() missing 1 required positional argument: 'number'",
     "output_type": "error",
     "traceback": [
      "\u001b[1;31m---------------------------------------------------------------------------\u001b[0m",
      "\u001b[1;31mTypeError\u001b[0m                                 Traceback (most recent call last)",
      "\u001b[1;32m~\\AppData\\Local\\Temp/ipykernel_15552/3479929094.py\u001b[0m in \u001b[0;36m<module>\u001b[1;34m\u001b[0m\n\u001b[0;32m      1\u001b[0m \u001b[1;31m# call it without a parameter\u001b[0m\u001b[1;33m\u001b[0m\u001b[1;33m\u001b[0m\u001b[1;33m\u001b[0m\u001b[0m\n\u001b[0;32m      2\u001b[0m \u001b[1;33m\u001b[0m\u001b[0m\n\u001b[1;32m----> 3\u001b[1;33m \u001b[0mprint_square\u001b[0m\u001b[1;33m(\u001b[0m\u001b[1;33m)\u001b[0m\u001b[1;33m\u001b[0m\u001b[1;33m\u001b[0m\u001b[0m\n\u001b[0m",
      "\u001b[1;31mTypeError\u001b[0m: print_square() missing 1 required positional argument: 'number'"
     ]
    }
   ],
   "source": [
    "# call it without a parameter\n",
    "\n",
    "print_square()"
   ]
  },
  {
   "cell_type": "code",
   "execution_count": 48,
   "id": "37bacfe6-2095-4ea7-8319-075facbd25f5",
   "metadata": {},
   "outputs": [
    {
     "name": "stdout",
     "output_type": "stream",
     "text": [
      "36\n"
     ]
    }
   ],
   "source": [
    "print_square(6)"
   ]
  },
  {
   "cell_type": "code",
   "execution_count": 49,
   "id": "3abd4666-3103-40c2-aa24-20e1150b5a23",
   "metadata": {},
   "outputs": [
    {
     "name": "stdout",
     "output_type": "stream",
     "text": [
      "64\n"
     ]
    }
   ],
   "source": [
    "print_square(8)"
   ]
  },
  {
   "cell_type": "code",
   "execution_count": 50,
   "id": "35c66f65-6af1-4fdf-b4d2-afc68268ef11",
   "metadata": {},
   "outputs": [
    {
     "name": "stdout",
     "output_type": "stream",
     "text": [
      "9\n"
     ]
    }
   ],
   "source": [
    "print_square(3)"
   ]
  },
  {
   "cell_type": "code",
   "execution_count": 55,
   "id": "fc1a4921-953d-4109-97ae-8ce1a8fc5aea",
   "metadata": {},
   "outputs": [],
   "source": [
    "# Example:\n",
    "\n",
    "# Define a functions that takes 2 parameters\n",
    "# Parameters: short, long\n",
    "# Function will print the area of the rectangle\n",
    "\n",
    "def area_of_rectangle(short, long):\n",
    "    \n",
    "    # area -> assign to a variable\n",
    "    area = short * long\n",
    "    \n",
    "    # print the area\n",
    "    print(area)\n",
    "    "
   ]
  },
  {
   "cell_type": "code",
   "execution_count": 56,
   "id": "67f92fbe-addd-431e-b734-2e97a1b9d182",
   "metadata": {},
   "outputs": [
    {
     "name": "stdout",
     "output_type": "stream",
     "text": [
      "24\n"
     ]
    }
   ],
   "source": [
    "# call with two parameters\n",
    "\n",
    "area_of_rectangle(4, 6)\n"
   ]
  },
  {
   "cell_type": "code",
   "execution_count": 57,
   "id": "ce36b717-95e3-4dc4-8a8c-633b73ffedb6",
   "metadata": {},
   "outputs": [
    {
     "name": "stdout",
     "output_type": "stream",
     "text": [
      "24\n"
     ]
    }
   ],
   "source": [
    "s = 4\n",
    "u = 6\n",
    "\n",
    "area_of_rectangle(s,u)"
   ]
  },
  {
   "cell_type": "code",
   "execution_count": 84,
   "id": "3bd368ea-90c2-4213-b910-a24aad9a4267",
   "metadata": {},
   "outputs": [],
   "source": [
    "# Example: \n",
    "\n",
    "# Let's make student_data function as parametric \n",
    "\n",
    "# first name\n",
    "def student_firstname(first):\n",
    "    print(\"Name: \" + first)\n",
    "    \n",
    "# last name\n",
    "def student_lastname(last):\n",
    "    print(\"Lastname: \" + last)\n",
    "\n",
    "# Age\n",
    "def student_age(age):\n",
    "    print(\"Age: \" + str(age))\n",
    "\n",
    "# Language\n",
    "def student_language(lang):\n",
    "    print(\"Language: \" + lang)\n",
    "    \n",
    "def student_data(firstname, lastname, age, language):\n",
    "    \n",
    "    student_firstname(firstname)\n",
    "    \n",
    "    student_lastname(lastname)\n",
    "    \n",
    "    student_age(age)\n",
    "    \n",
    "    student_language(language)"
   ]
  },
  {
   "cell_type": "code",
   "execution_count": 72,
   "id": "c4e9ee2d-8020-410a-92f9-04864081b949",
   "metadata": {},
   "outputs": [
    {
     "ename": "TypeError",
     "evalue": "student_firstname() takes 0 positional arguments but 1 was given",
     "output_type": "error",
     "traceback": [
      "\u001b[1;31m---------------------------------------------------------------------------\u001b[0m",
      "\u001b[1;31mTypeError\u001b[0m                                 Traceback (most recent call last)",
      "\u001b[1;32m~\\AppData\\Local\\Temp/ipykernel_15552/444702545.py\u001b[0m in \u001b[0;36m<module>\u001b[1;34m\u001b[0m\n\u001b[0;32m      4\u001b[0m \u001b[0mlang\u001b[0m \u001b[1;33m=\u001b[0m\u001b[1;34m'Python'\u001b[0m\u001b[1;33m\u001b[0m\u001b[1;33m\u001b[0m\u001b[0m\n\u001b[0;32m      5\u001b[0m \u001b[1;33m\u001b[0m\u001b[0m\n\u001b[1;32m----> 6\u001b[1;33m \u001b[0mstudent_data\u001b[0m\u001b[1;33m(\u001b[0m\u001b[0mfirst\u001b[0m\u001b[1;33m,\u001b[0m \u001b[0mlast\u001b[0m\u001b[1;33m,\u001b[0m \u001b[0mage\u001b[0m\u001b[1;33m,\u001b[0m \u001b[0mlang\u001b[0m\u001b[1;33m)\u001b[0m\u001b[1;33m\u001b[0m\u001b[1;33m\u001b[0m\u001b[0m\n\u001b[0m",
      "\u001b[1;32m~\\AppData\\Local\\Temp/ipykernel_15552/2015991844.py\u001b[0m in \u001b[0;36mstudent_data\u001b[1;34m(firstname, lastname, age, language)\u001b[0m\n\u001b[0;32m     10\u001b[0m \u001b[1;32mdef\u001b[0m \u001b[0mstudent_data\u001b[0m\u001b[1;33m(\u001b[0m\u001b[0mfirstname\u001b[0m\u001b[1;33m,\u001b[0m \u001b[0mlastname\u001b[0m\u001b[1;33m,\u001b[0m \u001b[0mage\u001b[0m\u001b[1;33m,\u001b[0m \u001b[0mlanguage\u001b[0m\u001b[1;33m)\u001b[0m\u001b[1;33m:\u001b[0m\u001b[1;33m\u001b[0m\u001b[1;33m\u001b[0m\u001b[0m\n\u001b[0;32m     11\u001b[0m \u001b[1;33m\u001b[0m\u001b[0m\n\u001b[1;32m---> 12\u001b[1;33m     \u001b[0mstudent_firstname\u001b[0m\u001b[1;33m(\u001b[0m\u001b[0mfirstname\u001b[0m\u001b[1;33m)\u001b[0m\u001b[1;33m\u001b[0m\u001b[1;33m\u001b[0m\u001b[0m\n\u001b[0m\u001b[0;32m     13\u001b[0m \u001b[1;33m\u001b[0m\u001b[0m\n\u001b[0;32m     14\u001b[0m \u001b[1;33m\u001b[0m\u001b[0m\n",
      "\u001b[1;31mTypeError\u001b[0m: student_firstname() takes 0 positional arguments but 1 was given"
     ]
    }
   ],
   "source": [
    "\n",
    "first = 'Ram'\n",
    "Last = 'KC'\n",
    "age = '28'\n",
    "lang ='Python'\n",
    "\n",
    "student_data(first, last, age, lang)"
   ]
  },
  {
   "cell_type": "code",
   "execution_count": 78,
   "id": "cc62d931-cedd-442e-b6ad-1e1d1d6b63af",
   "metadata": {},
   "outputs": [
    {
     "name": "stdout",
     "output_type": "stream",
     "text": [
      "Name: Ram\n",
      "Lastname: KC\n"
     ]
    }
   ],
   "source": [
    "\n",
    "first = 'Ram'\n",
    "Last = 'KC'\n",
    "age = '28'\n",
    "lang ='Python'\n",
    "\n",
    "student_data(first, last, age, lang)"
   ]
  },
  {
   "cell_type": "code",
   "execution_count": 81,
   "id": "042f8644-a333-4f01-ae12-6db136a620b1",
   "metadata": {},
   "outputs": [
    {
     "name": "stdout",
     "output_type": "stream",
     "text": [
      "Name: Ram\n",
      "Lastname: KC\n"
     ]
    },
    {
     "ename": "TypeError",
     "evalue": "can only concatenate str (not \"int\") to str",
     "output_type": "error",
     "traceback": [
      "\u001b[1;31m---------------------------------------------------------------------------\u001b[0m",
      "\u001b[1;31mTypeError\u001b[0m                                 Traceback (most recent call last)",
      "\u001b[1;32m~\\AppData\\Local\\Temp/ipykernel_15552/1304754073.py\u001b[0m in \u001b[0;36m<module>\u001b[1;34m\u001b[0m\n\u001b[0;32m      4\u001b[0m \u001b[0mlang\u001b[0m \u001b[1;33m=\u001b[0m\u001b[1;34m'Python'\u001b[0m\u001b[1;33m\u001b[0m\u001b[1;33m\u001b[0m\u001b[0m\n\u001b[0;32m      5\u001b[0m \u001b[1;33m\u001b[0m\u001b[0m\n\u001b[1;32m----> 6\u001b[1;33m \u001b[0mstudent_data\u001b[0m\u001b[1;33m(\u001b[0m\u001b[0mfirst\u001b[0m\u001b[1;33m,\u001b[0m \u001b[0mlast\u001b[0m\u001b[1;33m,\u001b[0m \u001b[0mage\u001b[0m\u001b[1;33m,\u001b[0m \u001b[0mlang\u001b[0m\u001b[1;33m)\u001b[0m\u001b[1;33m\u001b[0m\u001b[1;33m\u001b[0m\u001b[0m\n\u001b[0m",
      "\u001b[1;32m~\\AppData\\Local\\Temp/ipykernel_15552/1033739544.py\u001b[0m in \u001b[0;36mstudent_data\u001b[1;34m(firstname, lastname, age, language)\u001b[0m\n\u001b[0;32m     21\u001b[0m     \u001b[0mstudent_lastname\u001b[0m\u001b[1;33m(\u001b[0m\u001b[0mlastname\u001b[0m\u001b[1;33m)\u001b[0m\u001b[1;33m\u001b[0m\u001b[1;33m\u001b[0m\u001b[0m\n\u001b[0;32m     22\u001b[0m \u001b[1;33m\u001b[0m\u001b[0m\n\u001b[1;32m---> 23\u001b[1;33m     \u001b[0mstudent_age\u001b[0m\u001b[1;33m(\u001b[0m\u001b[0mage\u001b[0m\u001b[1;33m)\u001b[0m\u001b[1;33m\u001b[0m\u001b[1;33m\u001b[0m\u001b[0m\n\u001b[0m\u001b[0;32m     24\u001b[0m \u001b[1;33m\u001b[0m\u001b[0m\n",
      "\u001b[1;32m~\\AppData\\Local\\Temp/ipykernel_15552/1033739544.py\u001b[0m in \u001b[0;36mstudent_age\u001b[1;34m(age)\u001b[0m\n\u001b[0;32m     13\u001b[0m \u001b[1;31m# Age\u001b[0m\u001b[1;33m\u001b[0m\u001b[1;33m\u001b[0m\u001b[1;33m\u001b[0m\u001b[0m\n\u001b[0;32m     14\u001b[0m \u001b[1;32mdef\u001b[0m \u001b[0mstudent_age\u001b[0m\u001b[1;33m(\u001b[0m\u001b[0mage\u001b[0m\u001b[1;33m)\u001b[0m\u001b[1;33m:\u001b[0m\u001b[1;33m\u001b[0m\u001b[1;33m\u001b[0m\u001b[0m\n\u001b[1;32m---> 15\u001b[1;33m     \u001b[0mprint\u001b[0m\u001b[1;33m(\u001b[0m\u001b[1;34m\"Age: \"\u001b[0m \u001b[1;33m+\u001b[0m \u001b[0mage\u001b[0m\u001b[1;33m)\u001b[0m\u001b[1;33m\u001b[0m\u001b[1;33m\u001b[0m\u001b[0m\n\u001b[0m\u001b[0;32m     16\u001b[0m \u001b[1;33m\u001b[0m\u001b[0m\n\u001b[0;32m     17\u001b[0m \u001b[1;32mdef\u001b[0m \u001b[0mstudent_data\u001b[0m\u001b[1;33m(\u001b[0m\u001b[0mfirstname\u001b[0m\u001b[1;33m,\u001b[0m \u001b[0mlastname\u001b[0m\u001b[1;33m,\u001b[0m \u001b[0mage\u001b[0m\u001b[1;33m,\u001b[0m \u001b[0mlanguage\u001b[0m\u001b[1;33m)\u001b[0m\u001b[1;33m:\u001b[0m\u001b[1;33m\u001b[0m\u001b[1;33m\u001b[0m\u001b[0m\n",
      "\u001b[1;31mTypeError\u001b[0m: can only concatenate str (not \"int\") to str"
     ]
    }
   ],
   "source": [
    "\n",
    "first = 'Ram'\n",
    "Last = 'KC'\n",
    "age = 28\n",
    "lang ='Python'\n",
    "\n",
    "student_data(first, last, age, lang)"
   ]
  },
  {
   "cell_type": "code",
   "execution_count": 85,
   "id": "aae02c7c-8fe1-4b62-bd96-78ea15a7c286",
   "metadata": {},
   "outputs": [
    {
     "name": "stdout",
     "output_type": "stream",
     "text": [
      "Name: Ram\n",
      "Lastname: KC\n",
      "Age: 28\n",
      "Language: Python\n"
     ]
    }
   ],
   "source": [
    "\n",
    "first = 'Ram'\n",
    "Last = 'KC'\n",
    "age = 28\n",
    "lang ='Python'\n",
    "\n",
    "student_data(first, last, age, lang)"
   ]
  },
  {
   "cell_type": "code",
   "execution_count": 86,
   "id": "b41af0b5-379f-4846-b249-1acb3fdc5262",
   "metadata": {},
   "outputs": [
    {
     "ename": "SyntaxError",
     "evalue": "invalid syntax (Temp/ipykernel_15552/2449123068.py, line 1)",
     "output_type": "error",
     "traceback": [
      "\u001b[1;36m  File \u001b[1;32m\"C:\\Users\\Kunwar\\AppData\\Local\\Temp/ipykernel_15552/2449123068.py\"\u001b[1;36m, line \u001b[1;32m1\u001b[0m\n\u001b[1;33m    def two_param_function(a b):\u001b[0m\n\u001b[1;37m                             ^\u001b[0m\n\u001b[1;31mSyntaxError\u001b[0m\u001b[1;31m:\u001b[0m invalid syntax\n"
     ]
    }
   ],
   "source": [
    "def two_param_function(a b):\n",
    "    print(a)\n",
    "    print(b)"
   ]
  },
  {
   "cell_type": "code",
   "execution_count": null,
   "id": "7b2cecf4-ff4c-4c78-98ec-66c6ec225d40",
   "metadata": {},
   "outputs": [],
   "source": []
  }
 ],
 "metadata": {
  "kernelspec": {
   "display_name": "Python 3 (ipykernel)",
   "language": "python",
   "name": "python3"
  },
  "language_info": {
   "codemirror_mode": {
    "name": "ipython",
    "version": 3
   },
   "file_extension": ".py",
   "mimetype": "text/x-python",
   "name": "python",
   "nbconvert_exporter": "python",
   "pygments_lexer": "ipython3",
   "version": "3.8.12"
  }
 },
 "nbformat": 4,
 "nbformat_minor": 5
}
