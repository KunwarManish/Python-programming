{
 "cells": [
  {
   "cell_type": "markdown",
   "id": "11145f8e-79c4-4fcf-9c06-acc9026ae980",
   "metadata": {},
   "source": [
    "# Functions I"
   ]
  },
  {
   "cell_type": "markdown",
   "id": "9277ca7b-ec17-4b6a-954e-9b256c788955",
   "metadata": {},
   "source": [
    "## What is a Function?"
   ]
  },
  {
   "cell_type": "markdown",
   "id": "4f573944-bd27-4891-ad09-e2fa6e06d266",
   "metadata": {},
   "source": [
    "**Functions** is a special code fragment written to perform a specific task."
   ]
  },
  {
   "cell_type": "markdown",
   "id": "2e8ba545-204e-4b59-88ff-fcb95f6373ed",
   "metadata": {},
   "source": [
    "Funciton only run, when you call them."
   ]
  },
  {
   "cell_type": "code",
   "execution_count": null,
   "id": "0fcf8ed4-171d-4f06-937e-bb18ebb93cad",
   "metadata": {},
   "outputs": [],
   "source": [
    "Function may have parameters(argu"
   ]
  }
 ],
 "metadata": {
  "kernelspec": {
   "display_name": "Python 3 (ipykernel)",
   "language": "python",
   "name": "python3"
  },
  "language_info": {
   "codemirror_mode": {
    "name": "ipython",
    "version": 3
   },
   "file_extension": ".py",
   "mimetype": "text/x-python",
   "name": "python",
   "nbconvert_exporter": "python",
   "pygments_lexer": "ipython3",
   "version": "3.8.12"
  }
 },
 "nbformat": 4,
 "nbformat_minor": 5
}
