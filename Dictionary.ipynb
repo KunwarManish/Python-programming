{
 "cells": [
  {
   "cell_type": "markdown",
   "id": "1d84adbf-2804-460d-a016-33c352eb40aa",
   "metadata": {},
   "source": [
    "# Dictionary "
   ]
  },
  {
   "cell_type": "markdown",
   "id": "8aad85d8-50c7-4ece-95c2-e5362845352e",
   "metadata": {},
   "source": [
    "## What is a Dictionary?"
   ]
  },
  {
   "cell_type": "markdown",
   "id": "3ad115dd-928c-4222-8548-a9b889f5d3b2",
   "metadata": {},
   "source": [
    "Let's say we want to store employee data; name, age, department"
   ]
  },
  {
   "cell_type": "code",
   "execution_count": 1,
   "id": "a7fb192a-d683-487c-b38f-b854e1d0a3c5",
   "metadata": {},
   "outputs": [],
   "source": [
    "employee = {\n",
    "    'name': 'Suresh Thapa',\n",
    "    \"age\" : 30,\n",
    "    \"department\": 'News Service'\n",
    "}"
   ]
  },
  {
   "cell_type": "markdown",
   "id": "2e3a5490-7c61-41ec-a84d-c8677d5a2bbf",
   "metadata": {},
   "source": [
    "We can think of Dictionaries as a general form Lists.\n",
    "\n",
    "In List, indices are integer (int) and they are defined implicity by Python.\n",
    "\n",
    "You don't define indices for lists.\n",
    "\n",
    "But for Dictionary, we define indices manually, and they do not have to be integers. They may be any sutiable type."
   ]
  },
  {
   "cell_type": "markdown",
   "id": "5da8daff-cd45-4a81-899a-0896583810fa",
   "metadata": {},
   "source": [
    "Element Structure:\n",
    "    \n",
    "{ key : value }"
   ]
  },
  {
   "cell_type": "markdown",
   "id": "2ecf12fc-d8f3-424d-84f0-14d5d5e59a4c",
   "metadata": {},
   "source": [
    "So in a dictionary, each **key** is mapped to a **value.**\n",
    "\n",
    "Key-Value pairs."
   ]
  },
  {
   "cell_type": "markdown",
   "id": "5e0b5cd9-1eab-4c18-ab07-7e01aa85f67e",
   "metadata": {},
   "source": [
    "| Key | Value |\n",
    "| --- | --- |\n",
    "| name | Suresh Thapa |\n",
    "| age | 30 |"
   ]
  },
  {
   "cell_type": "markdown",
   "id": "674730f9-e237-4a8e-95d6-ab89ff07c693",
   "metadata": {},
   "source": [
    "**Keys** must be unique.\n",
    "\n",
    "You can not have duplicate keys."
   ]
  },
  {
   "cell_type": "code",
   "execution_count": 4,
   "id": "06ba19f2-29f9-452f-bcf3-c970d402078b",
   "metadata": {},
   "outputs": [],
   "source": [
    "numbers = {\n",
    "    1: \"one\",\n",
    "    2: \"two\",\n",
    "    3: \"three\",\n",
    "    4: \"four\"\n",
    "}"
   ]
  },
  {
   "cell_type": "markdown",
   "id": "ed063eb9-cf36-4979-9185-61e920c6e207",
   "metadata": {},
   "source": [
    "# Creating a Dictionary"
   ]
  },
  {
   "cell_type": "markdown",
   "id": "c95966d3-6336-4861-a9f0-871bca3c5a8f",
   "metadata": {},
   "source": [
    "List -> create list[] -> list()"
   ]
  },
  {
   "cell_type": "markdown",
   "id": "2e56373f-6cc3-456b-8d64-b41067d3f8a6",
   "metadata": {},
   "source": [
    "**Dictionary** -> create dict **{}** -> **dict()**"
   ]
  },
  {
   "cell_type": "code",
   "execution_count": 5,
   "id": "8a06f6b8-997d-48a8-b802-8e39cbd3e186",
   "metadata": {},
   "outputs": [],
   "source": [
    "# empty dict\n",
    "\n",
    "cars_empty = {}"
   ]
  },
  {
   "cell_type": "code",
   "execution_count": 6,
   "id": "1c325c8a-aef9-4944-9e4f-d61d2e3e435a",
   "metadata": {},
   "outputs": [
    {
     "data": {
      "text/plain": [
       "dict"
      ]
     },
     "execution_count": 6,
     "metadata": {},
     "output_type": "execute_result"
    }
   ],
   "source": [
    "type(cars_empty)"
   ]
  },
  {
   "cell_type": "code",
   "execution_count": 8,
   "id": "3b507f48-b6a9-45ac-9b7e-10c2e3c8c4e4",
   "metadata": {},
   "outputs": [],
   "source": [
    "# dict with elements\n",
    "\n",
    "cars = {\n",
    "    'Audi': 'Germany',\n",
    "    'Mazda': 'Japan',\n",
    "    'Fiat': 'Italy'\n",
    "}"
   ]
  },
  {
   "cell_type": "code",
   "execution_count": 9,
   "id": "648f4f45-c2f9-43ca-8103-c737ae690c9b",
   "metadata": {},
   "outputs": [
    {
     "data": {
      "text/plain": [
       "{'Audi': 'Germany', 'Mazda': 'Japan', 'Fiat': 'Italy'}"
      ]
     },
     "execution_count": 9,
     "metadata": {},
     "output_type": "execute_result"
    }
   ],
   "source": [
    "cars"
   ]
  },
  {
   "cell_type": "code",
   "execution_count": 10,
   "id": "3b7fc80b-3edb-4286-90bb-11e1e2131dcc",
   "metadata": {},
   "outputs": [
    {
     "name": "stdout",
     "output_type": "stream",
     "text": [
      "{'Audi': 'Germany', 'Mazda': 'Japan', 'Fiat': 'Italy'}\n"
     ]
    }
   ],
   "source": [
    "print(cars)"
   ]
  },
  {
   "cell_type": "code",
   "execution_count": 11,
   "id": "046b6852-76c2-4c8f-ad56-5ea2206ce511",
   "metadata": {},
   "outputs": [
    {
     "data": {
      "text/plain": [
       "dict"
      ]
     },
     "execution_count": 11,
     "metadata": {},
     "output_type": "execute_result"
    }
   ],
   "source": [
    "type(cars)"
   ]
  },
  {
   "cell_type": "markdown",
   "id": "ea00c7fa-49d2-4f85-989c-38ad602e3543",
   "metadata": {},
   "source": [
    "**dict():**"
   ]
  },
  {
   "cell_type": "code",
   "execution_count": 13,
   "id": "c07e61df-acb1-499e-ab1f-85afd9c16bab",
   "metadata": {},
   "outputs": [],
   "source": [
    "# empty dict\n",
    "\n",
    "cars_empty_2 = dict()"
   ]
  },
  {
   "cell_type": "code",
   "execution_count": 15,
   "id": "58bc96b7-3a9d-4f72-bd65-2355a17682e8",
   "metadata": {},
   "outputs": [
    {
     "data": {
      "text/plain": [
       "dict"
      ]
     },
     "execution_count": 15,
     "metadata": {},
     "output_type": "execute_result"
    }
   ],
   "source": [
    "type(cars_empty_2)"
   ]
  },
  {
   "cell_type": "code",
   "execution_count": 17,
   "id": "813311eb-6007-4a11-8662-0f9117ec3535",
   "metadata": {},
   "outputs": [],
   "source": [
    "# dict with elements\n",
    "\n",
    "cars_2 = dict({\n",
    "    'Audi': 'Germenty',\n",
    "    'Mazda': 'Japan',\n",
    "    'Fiat': 'Italy'\n",
    "})"
   ]
  },
  {
   "cell_type": "code",
   "execution_count": 18,
   "id": "42b347b5-fdc8-4556-bf8d-5393efe5ee18",
   "metadata": {},
   "outputs": [
    {
     "data": {
      "text/plain": [
       "{'Audi': 'Germenty', 'Mazda': 'Japan', 'Fiat': 'Italy'}"
      ]
     },
     "execution_count": 18,
     "metadata": {},
     "output_type": "execute_result"
    }
   ],
   "source": [
    "cars_2"
   ]
  },
  {
   "cell_type": "code",
   "execution_count": 19,
   "id": "59bf3076-0bae-4dde-b6ac-3781b1b7ee1b",
   "metadata": {},
   "outputs": [
    {
     "data": {
      "text/plain": [
       "dict"
      ]
     },
     "execution_count": 19,
     "metadata": {},
     "output_type": "execute_result"
    }
   ],
   "source": [
    "type(cars_2)"
   ]
  },
  {
   "cell_type": "markdown",
   "id": "240d684e-f81e-4ffb-a81f-f6e6d017ff05",
   "metadata": {},
   "source": [
    "**Note:**\n",
    "\n",
    "* In Lists -> we access elements via [] -> my_list[index]\n",
    "* In dict we do not use index -> **my_dic[key]**"
   ]
  },
  {
   "cell_type": "code",
   "execution_count": 20,
   "id": "f262b5d9-d172-4942-85ab-5bebbfa13c29",
   "metadata": {},
   "outputs": [
    {
     "data": {
      "text/plain": [
       "{'Audi': 'Germany', 'Mazda': 'Japan', 'Fiat': 'Italy'}"
      ]
     },
     "execution_count": 20,
     "metadata": {},
     "output_type": "execute_result"
    }
   ],
   "source": [
    "cars"
   ]
  },
  {
   "cell_type": "code",
   "execution_count": 21,
   "id": "ec86f9ed-0e36-4bca-aa7d-fac5692cfaa7",
   "metadata": {},
   "outputs": [
    {
     "ename": "KeyError",
     "evalue": "0",
     "output_type": "error",
     "traceback": [
      "\u001b[1;31m---------------------------------------------------------------------------\u001b[0m",
      "\u001b[1;31mKeyError\u001b[0m                                  Traceback (most recent call last)",
      "\u001b[1;32m~\\AppData\\Local\\Temp/ipykernel_8516/3774312380.py\u001b[0m in \u001b[0;36m<module>\u001b[1;34m\u001b[0m\n\u001b[0;32m      1\u001b[0m \u001b[1;31m# wrong -> no index for dict\u001b[0m\u001b[1;33m\u001b[0m\u001b[1;33m\u001b[0m\u001b[1;33m\u001b[0m\u001b[0m\n\u001b[0;32m      2\u001b[0m \u001b[1;33m\u001b[0m\u001b[0m\n\u001b[1;32m----> 3\u001b[1;33m \u001b[0mcars\u001b[0m\u001b[1;33m[\u001b[0m\u001b[1;36m0\u001b[0m\u001b[1;33m]\u001b[0m\u001b[1;33m\u001b[0m\u001b[1;33m\u001b[0m\u001b[0m\n\u001b[0m",
      "\u001b[1;31mKeyError\u001b[0m: 0"
     ]
    }
   ],
   "source": [
    "# wrong -> no index for dict \n",
    "\n",
    "cars[0]"
   ]
  },
  {
   "cell_type": "code",
   "execution_count": 22,
   "id": "fe8823aa-d328-46d3-9c6e-a9f2fbcc52e9",
   "metadata": {},
   "outputs": [
    {
     "data": {
      "text/plain": [
       "'Germany'"
      ]
     },
     "execution_count": 22,
     "metadata": {},
     "output_type": "execute_result"
    }
   ],
   "source": [
    "# right -> [key]\n",
    "\n",
    "cars['Audi']"
   ]
  },
  {
   "cell_type": "code",
   "execution_count": 23,
   "id": "8eddcdef-d6bf-4297-a850-2b7dbc0915cb",
   "metadata": {},
   "outputs": [
    {
     "data": {
      "text/plain": [
       "'Italy'"
      ]
     },
     "execution_count": 23,
     "metadata": {},
     "output_type": "execute_result"
    }
   ],
   "source": [
    "cars['Fiat']"
   ]
  },
  {
   "cell_type": "code",
   "execution_count": 24,
   "id": "c54df7d9-3ade-4a91-8313-c6c87bd9284e",
   "metadata": {},
   "outputs": [
    {
     "ename": "KeyError",
     "evalue": "'Ford'",
     "output_type": "error",
     "traceback": [
      "\u001b[1;31m---------------------------------------------------------------------------\u001b[0m",
      "\u001b[1;31mKeyError\u001b[0m                                  Traceback (most recent call last)",
      "\u001b[1;32m~\\AppData\\Local\\Temp/ipykernel_8516/766498875.py\u001b[0m in \u001b[0;36m<module>\u001b[1;34m\u001b[0m\n\u001b[0;32m      1\u001b[0m \u001b[1;31m# no element with key -> Ford\u001b[0m\u001b[1;33m\u001b[0m\u001b[1;33m\u001b[0m\u001b[1;33m\u001b[0m\u001b[0m\n\u001b[0;32m      2\u001b[0m \u001b[1;33m\u001b[0m\u001b[0m\n\u001b[1;32m----> 3\u001b[1;33m \u001b[0mcars\u001b[0m\u001b[1;33m[\u001b[0m\u001b[1;34m'Ford'\u001b[0m\u001b[1;33m]\u001b[0m\u001b[1;33m\u001b[0m\u001b[1;33m\u001b[0m\u001b[0m\n\u001b[0m",
      "\u001b[1;31mKeyError\u001b[0m: 'Ford'"
     ]
    }
   ],
   "source": [
    " # no element with key -> Ford\n",
    "    \n",
    "cars['Ford']"
   ]
  },
  {
   "cell_type": "markdown",
   "id": "c6bd68d3-f9f5-456f-bfb4-07c4a8c9a888",
   "metadata": {},
   "source": [
    "# Adding Elements to a Dictionary"
   ]
  },
  {
   "cell_type": "markdown",
   "id": "16792581-db33-4fb0-8896-f632ffc433ee",
   "metadata": {},
   "source": [
    "In Lists -> append(), insert()"
   ]
  },
  {
   "cell_type": "markdown",
   "id": "36f04db1-ad5d-434c-9dd9-1e99b749458c",
   "metadata": {},
   "source": [
    "In List we don't have these methods:\n",
    "\n",
    "* my_dic[key] = value\n",
    "* update()"
   ]
  },
  {
   "cell_type": "markdown",
   "id": "46e889ba-7b40-4344-82a9-84522d65d3bf",
   "metadata": {},
   "source": [
    "Remember:\n",
    "    \n",
    "* Dictionary -> `{ key: value }`"
   ]
  },
  {
   "cell_type": "code",
   "execution_count": 1,
   "id": "a0540220-3b2d-4a0c-80e3-35ebda4a99c2",
   "metadata": {},
   "outputs": [],
   "source": [
    "numbers = {\n",
    "    1: \"one\",\n",
    "    2: \"two\",\n",
    "    3: 'three',\n",
    "    4: 'four'\n",
    "}"
   ]
  },
  {
   "cell_type": "code",
   "execution_count": 2,
   "id": "b9cd2e7c-83c5-4710-a9e8-4b33d5d95700",
   "metadata": {},
   "outputs": [
    {
     "data": {
      "text/plain": [
       "dict"
      ]
     },
     "execution_count": 2,
     "metadata": {},
     "output_type": "execute_result"
    }
   ],
   "source": [
    "type(numbers)"
   ]
  },
  {
   "cell_type": "code",
   "execution_count": 3,
   "id": "7c1c9336-e0bb-4c12-b9c6-5133557cc974",
   "metadata": {},
   "outputs": [],
   "source": [
    "# add with key\n",
    "\n",
    "numbers[5] = 'five'"
   ]
  },
  {
   "cell_type": "code",
   "execution_count": 4,
   "id": "61067383-404f-4731-a8b7-ff1c0213acf0",
   "metadata": {},
   "outputs": [
    {
     "data": {
      "text/plain": [
       "{1: 'one', 2: 'two', 3: 'three', 4: 'four', 5: 'five'}"
      ]
     },
     "execution_count": 4,
     "metadata": {},
     "output_type": "execute_result"
    }
   ],
   "source": [
    "numbers"
   ]
  },
  {
   "cell_type": "code",
   "execution_count": 5,
   "id": "29c8136e-03c6-491f-a8f5-227a542da9f8",
   "metadata": {},
   "outputs": [
    {
     "data": {
      "text/plain": [
       "{1: 'one', 2: 'two', 3: 'three', 4: 'four', 5: 'five'}"
      ]
     },
     "execution_count": 5,
     "metadata": {},
     "output_type": "execute_result"
    }
   ],
   "source": [
    "numbers[6]: 'sixt'\n",
    "numbers    "
   ]
  },
  {
   "cell_type": "code",
   "execution_count": 6,
   "id": "a5019f39-ae04-4e8b-b5bf-4c5241583477",
   "metadata": {},
   "outputs": [
    {
     "data": {
      "text/plain": [
       "{1: 'one', 2: 'two', 3: 'three', 4: 'four', 5: 'five', 6: 'six'}"
      ]
     },
     "execution_count": 6,
     "metadata": {},
     "output_type": "execute_result"
    }
   ],
   "source": [
    "# to fix it -> we will reassing that element\n",
    "\n",
    "numbers[6] = 'six'\n",
    "numbers"
   ]
  },
  {
   "cell_type": "code",
   "execution_count": 7,
   "id": "76201856-cd9e-4400-8824-1d43b043ea8c",
   "metadata": {},
   "outputs": [
    {
     "ename": "AttributeError",
     "evalue": "'dict' object has no attribute 'append'",
     "output_type": "error",
     "traceback": [
      "\u001b[1;31m---------------------------------------------------------------------------\u001b[0m",
      "\u001b[1;31mAttributeError\u001b[0m                            Traceback (most recent call last)",
      "\u001b[1;32m~\\AppData\\Local\\Temp/ipykernel_6472/2156188637.py\u001b[0m in \u001b[0;36m<module>\u001b[1;34m\u001b[0m\n\u001b[1;32m----> 1\u001b[1;33m \u001b[0mnumbers\u001b[0m\u001b[1;33m.\u001b[0m\u001b[0mappend\u001b[0m\u001b[1;33m(\u001b[0m\u001b[1;33m{\u001b[0m\u001b[1;36m7\u001b[0m\u001b[1;33m:\u001b[0m \u001b[1;34m'seven'\u001b[0m\u001b[1;33m}\u001b[0m\u001b[1;33m)\u001b[0m\u001b[1;33m\u001b[0m\u001b[1;33m\u001b[0m\u001b[0m\n\u001b[0m",
      "\u001b[1;31mAttributeError\u001b[0m: 'dict' object has no attribute 'append'"
     ]
    }
   ],
   "source": [
    "numbers.append({7: 'seven'})"
   ]
  },
  {
   "cell_type": "code",
   "execution_count": 8,
   "id": "af62f520-59b0-4ee9-a28f-85467527072f",
   "metadata": {},
   "outputs": [],
   "source": [
    "numbers[7] = 'seven'\n",
    "numbers[8] = 'eight'\n",
    "numbers[9] = 'nine'"
   ]
  },
  {
   "cell_type": "code",
   "execution_count": 9,
   "id": "26307405-965c-42f6-9b72-801b670d913c",
   "metadata": {},
   "outputs": [
    {
     "name": "stdout",
     "output_type": "stream",
     "text": [
      "{1: 'one', 2: 'two', 3: 'three', 4: 'four', 5: 'five', 6: 'six', 7: 'seven', 8: 'eight', 9: 'nine'}\n"
     ]
    }
   ],
   "source": [
    "print(numbers)"
   ]
  },
  {
   "cell_type": "code",
   "execution_count": 10,
   "id": "0266ff91-0d1f-489e-8a67-ff0b3de4edee",
   "metadata": {},
   "outputs": [
    {
     "data": {
      "text/plain": [
       "{1: 'one',\n",
       " 2: 'two',\n",
       " 3: 'three',\n",
       " 4: 'four',\n",
       " 5: 'five',\n",
       " 6: 'six',\n",
       " 7: 'seven',\n",
       " 8: 'eight',\n",
       " 9: 'nine'}"
      ]
     },
     "execution_count": 10,
     "metadata": {},
     "output_type": "execute_result"
    }
   ],
   "source": [
    "numbers"
   ]
  },
  {
   "cell_type": "markdown",
   "id": "4ac4093e-f24c-42b5-92ba-2b5e77afd594",
   "metadata": {},
   "source": [
    "**update()**"
   ]
  },
  {
   "cell_type": "code",
   "execution_count": 11,
   "id": "e3a5f676-18eb-4498-9c9e-0b38e7aaed58",
   "metadata": {},
   "outputs": [
    {
     "data": {
      "text/plain": [
       "{'brand': 'Ford', 'model': 'Mustang', 'year': 1964}"
      ]
     },
     "execution_count": 11,
     "metadata": {},
     "output_type": "execute_result"
    }
   ],
   "source": [
    "car = {\n",
    "    \"brand\": 'Ford',\n",
    "    'model': \"Mustang\",\n",
    "    'year': 1964\n",
    "}\n",
    "\n",
    "car"
   ]
  },
  {
   "cell_type": "code",
   "execution_count": 12,
   "id": "2aebabed-13a2-4691-9787-f4d7b48d8c66",
   "metadata": {},
   "outputs": [
    {
     "data": {
      "text/plain": [
       "{'brand': 'Ford', 'model': 'Mustang', 'year': 1964, 'color': 'red'}"
      ]
     },
     "execution_count": 12,
     "metadata": {},
     "output_type": "execute_result"
    }
   ],
   "source": [
    "# add color into car dict\n",
    "\n",
    "element_to_add = {'color': 'red'}\n",
    "\n",
    "car.update(element_to_add)\n",
    "\n",
    "car"
   ]
  },
  {
   "cell_type": "code",
   "execution_count": 13,
   "id": "5cb7ea5d-8eab-4694-b004-9b5c9af34e03",
   "metadata": {},
   "outputs": [],
   "source": [
    "# inside paranthesis\n",
    "\n",
    "car.update({ 'age': 50})"
   ]
  },
  {
   "cell_type": "code",
   "execution_count": 14,
   "id": "a17962c9-3327-4750-ad47-1e65b67da409",
   "metadata": {},
   "outputs": [
    {
     "data": {
      "text/plain": [
       "{'brand': 'Ford', 'model': 'Mustang', 'year': 1964, 'color': 'red', 'age': 50}"
      ]
     },
     "execution_count": 14,
     "metadata": {},
     "output_type": "execute_result"
    }
   ],
   "source": [
    "car"
   ]
  },
  {
   "cell_type": "code",
   "execution_count": 15,
   "id": "502e5e17-a3fb-40a1-b4e7-8bd014e47247",
   "metadata": {},
   "outputs": [],
   "source": [
    "# add more than one key-value pair\n",
    "\n",
    "elements_to_add = {\n",
    "    'price': 100000,\n",
    "    'motor': 1.6,\n",
    "    'age': 72\n",
    "}\n",
    "\n",
    "car.update(elements_to_add)"
   ]
  },
  {
   "cell_type": "code",
   "execution_count": 16,
   "id": "f8dac692-e3d1-47e9-af13-d3aa4614e582",
   "metadata": {},
   "outputs": [
    {
     "data": {
      "text/plain": [
       "{'brand': 'Ford',\n",
       " 'model': 'Mustang',\n",
       " 'year': 1964,\n",
       " 'color': 'red',\n",
       " 'age': 72,\n",
       " 'price': 100000,\n",
       " 'motor': 1.6}"
      ]
     },
     "execution_count": 16,
     "metadata": {},
     "output_type": "execute_result"
    }
   ],
   "source": [
    "car"
   ]
  },
  {
   "cell_type": "markdown",
   "id": "5cf390c5-dbfe-42f7-a638-9aed4fcc26e9",
   "metadata": {},
   "source": [
    "# Deleting Elements from a Dictionary"
   ]
  },
  {
   "cell_type": "markdown",
   "id": "f839a6d4-04c0-45ec-8d59-7614d258b041",
   "metadata": {},
   "source": [
    "In Lists to delete -> `pop(),del`"
   ]
  },
  {
   "cell_type": "markdown",
   "id": "a7467e04-9c6b-4035-9fa3-3950a6e393f6",
   "metadata": {},
   "source": [
    "We use both for Dictionary also."
   ]
  },
  {
   "cell_type": "markdown",
   "id": "85f77690-f9b5-437b-b8de-8a38954e9453",
   "metadata": {},
   "source": [
    "**pop()**"
   ]
  },
  {
   "cell_type": "markdown",
   "id": "021aa063-9453-49cc-a466-58ef43be7006",
   "metadata": {},
   "source": [
    "It returns the deleted element."
   ]
  },
  {
   "cell_type": "code",
   "execution_count": 18,
   "id": "f7ec2949-d047-43e8-95aa-5ac347d706cb",
   "metadata": {},
   "outputs": [
    {
     "data": {
      "text/plain": [
       "{'one': 1,\n",
       " 'two': 2,\n",
       " 'three': 3,\n",
       " 'four': 4,\n",
       " 'five': 5,\n",
       " 'six': 6,\n",
       " 'seven': 7,\n",
       " 'eight': 8}"
      ]
     },
     "execution_count": 18,
     "metadata": {},
     "output_type": "execute_result"
    }
   ],
   "source": [
    "\n",
    "number_names = {}\n",
    "\n",
    "number_names['one'] = 1\n",
    "number_names['two'] = 2\n",
    "number_names['three'] = 3\n",
    "number_names['four'] = 4\n",
    "number_names['five'] = 5\n",
    "number_names['six'] = 6\n",
    "number_names['seven'] = 7\n",
    "number_names['eight'] = 8\n",
    "\n",
    "number_names"
   ]
  },
  {
   "cell_type": "code",
   "execution_count": 19,
   "id": "67c60e89-260e-41b5-969d-b6aa3f282cef",
   "metadata": {},
   "outputs": [],
   "source": [
    "deleted_element = number_names.pop('eight')"
   ]
  },
  {
   "cell_type": "code",
   "execution_count": 20,
   "id": "5d15a2d0-7c66-491b-a329-f3a82f29b1f8",
   "metadata": {},
   "outputs": [
    {
     "data": {
      "text/plain": [
       "{'one': 1, 'two': 2, 'three': 3, 'four': 4, 'five': 5, 'six': 6, 'seven': 7}"
      ]
     },
     "execution_count": 20,
     "metadata": {},
     "output_type": "execute_result"
    }
   ],
   "source": [
    "number_names"
   ]
  },
  {
   "cell_type": "code",
   "execution_count": 21,
   "id": "1c5ef7c9-e036-4346-a0ed-1e413c2a1d90",
   "metadata": {},
   "outputs": [
    {
     "data": {
      "text/plain": [
       "7"
      ]
     },
     "execution_count": 21,
     "metadata": {},
     "output_type": "execute_result"
    }
   ],
   "source": [
    "number_names.pop('seven')"
   ]
  },
  {
   "cell_type": "code",
   "execution_count": 22,
   "id": "7b37024b-11f3-4e56-8411-e8eb8145ae14",
   "metadata": {},
   "outputs": [
    {
     "data": {
      "text/plain": [
       "{'one': 1, 'two': 2, 'three': 3, 'four': 4, 'five': 5, 'six': 6}"
      ]
     },
     "execution_count": 22,
     "metadata": {},
     "output_type": "execute_result"
    }
   ],
   "source": [
    "number_names"
   ]
  },
  {
   "cell_type": "code",
   "execution_count": 24,
   "id": "1f5eb498-7f3e-409c-be70-22b175685a57",
   "metadata": {},
   "outputs": [],
   "source": [
    "deleted_element = number_names.pop('four')"
   ]
  },
  {
   "cell_type": "code",
   "execution_count": 25,
   "id": "54d35fac-feb3-44df-9563-ba50802a76bd",
   "metadata": {},
   "outputs": [
    {
     "data": {
      "text/plain": [
       "4"
      ]
     },
     "execution_count": 25,
     "metadata": {},
     "output_type": "execute_result"
    }
   ],
   "source": [
    "deleted_element"
   ]
  },
  {
   "cell_type": "code",
   "execution_count": 26,
   "id": "6e1b26de-b0ac-41fc-a3cd-1ed666f6eaaa",
   "metadata": {},
   "outputs": [
    {
     "data": {
      "text/plain": [
       "{'one': 1, 'two': 2, 'three': 3, 'five': 5, 'six': 6}"
      ]
     },
     "execution_count": 26,
     "metadata": {},
     "output_type": "execute_result"
    }
   ],
   "source": [
    "number_names"
   ]
  },
  {
   "cell_type": "markdown",
   "id": "9f739c95-f618-4eef-8c77-1b9004db6732",
   "metadata": {},
   "source": [
    "**del:**"
   ]
  },
  {
   "cell_type": "markdown",
   "id": "3b37d872-7ca1-4480-b48a-db5e7476d546",
   "metadata": {},
   "source": [
    "Doesn't return the element."
   ]
  },
  {
   "cell_type": "code",
   "execution_count": 27,
   "id": "6e76ccae-212c-4f43-bad6-ffc7c6b7f86e",
   "metadata": {},
   "outputs": [
    {
     "data": {
      "text/plain": [
       "{'one': 1,\n",
       " 'two': 2,\n",
       " 'three': 3,\n",
       " 'four': 4,\n",
       " 'five': 5,\n",
       " 'six': 6,\n",
       " 'seven': 7,\n",
       " 'eight': 8}"
      ]
     },
     "execution_count": 27,
     "metadata": {},
     "output_type": "execute_result"
    }
   ],
   "source": [
    "number_names = dict()\n",
    "\n",
    "number_names['one'] = 1\n",
    "number_names['two'] = 2\n",
    "number_names['three'] = 3\n",
    "number_names['four'] = 4\n",
    "number_names['five'] = 5\n",
    "number_names['six'] = 6\n",
    "number_names['seven'] = 7\n",
    "number_names['eight'] = 8\n",
    "\n",
    "number_names"
   ]
  },
  {
   "cell_type": "code",
   "execution_count": 28,
   "id": "a63a3949-7144-4a8f-9981-2b028fdb6134",
   "metadata": {},
   "outputs": [],
   "source": [
    "del number_names['one']"
   ]
  },
  {
   "cell_type": "code",
   "execution_count": 29,
   "id": "e8f46ce0-ed10-4a4e-81ca-9415ef5b700c",
   "metadata": {},
   "outputs": [
    {
     "data": {
      "text/plain": [
       "{'two': 2, 'three': 3, 'four': 4, 'five': 5, 'six': 6, 'seven': 7, 'eight': 8}"
      ]
     },
     "execution_count": 29,
     "metadata": {},
     "output_type": "execute_result"
    }
   ],
   "source": [
    "number_names"
   ]
  },
  {
   "cell_type": "code",
   "execution_count": 30,
   "id": "5fc6dd6d-10d7-42a2-8124-1979665ce2fb",
   "metadata": {},
   "outputs": [],
   "source": [
    "del number_names['five']"
   ]
  },
  {
   "cell_type": "code",
   "execution_count": 31,
   "id": "463bbf04-67e4-4f9e-a594-52afc306b130",
   "metadata": {},
   "outputs": [
    {
     "data": {
      "text/plain": [
       "{'two': 2, 'three': 3, 'four': 4, 'six': 6, 'seven': 7, 'eight': 8}"
      ]
     },
     "execution_count": 31,
     "metadata": {},
     "output_type": "execute_result"
    }
   ],
   "source": [
    "number_names"
   ]
  },
  {
   "cell_type": "code",
   "execution_count": 32,
   "id": "883977b0-bbf0-4021-8413-b64887e4dd81",
   "metadata": {},
   "outputs": [
    {
     "ename": "KeyError",
     "evalue": "'ten'",
     "output_type": "error",
     "traceback": [
      "\u001b[1;31m---------------------------------------------------------------------------\u001b[0m",
      "\u001b[1;31mKeyError\u001b[0m                                  Traceback (most recent call last)",
      "\u001b[1;32m~\\AppData\\Local\\Temp/ipykernel_6472/3907112597.py\u001b[0m in \u001b[0;36m<module>\u001b[1;34m\u001b[0m\n\u001b[0;32m      1\u001b[0m \u001b[1;31m# pass a key which does not exist\u001b[0m\u001b[1;33m\u001b[0m\u001b[1;33m\u001b[0m\u001b[1;33m\u001b[0m\u001b[0m\n\u001b[0;32m      2\u001b[0m \u001b[1;33m\u001b[0m\u001b[0m\n\u001b[1;32m----> 3\u001b[1;33m \u001b[1;32mdel\u001b[0m \u001b[0mnumber_names\u001b[0m\u001b[1;33m[\u001b[0m\u001b[1;34m'ten'\u001b[0m\u001b[1;33m]\u001b[0m\u001b[1;33m\u001b[0m\u001b[1;33m\u001b[0m\u001b[0m\n\u001b[0m",
      "\u001b[1;31mKeyError\u001b[0m: 'ten'"
     ]
    }
   ],
   "source": [
    "# pass a key which does not exist\n",
    "\n",
    "del number_names['ten']"
   ]
  },
  {
   "cell_type": "markdown",
   "id": "1a1b1780-a891-49de-964a-4bd57b6fae7a",
   "metadata": {},
   "source": [
    "# Read Elements from a Dictionary "
   ]
  },
  {
   "cell_type": "markdown",
   "id": "73afe34b-9794-478e-99a4-af62fe9d7f79",
   "metadata": {},
   "source": [
    "dict[key] => value"
   ]
  },
  {
   "cell_type": "code",
   "execution_count": 1,
   "id": "40f95049-06e3-4e11-b567-c1b8bc65760b",
   "metadata": {},
   "outputs": [
    {
     "data": {
      "text/plain": [
       "{'one': 1,\n",
       " 'two': 2,\n",
       " 'three': 3,\n",
       " 'four': 4,\n",
       " 'five': 5,\n",
       " 'six': 6,\n",
       " 'seven': 7,\n",
       " 'eight': 8}"
      ]
     },
     "execution_count": 1,
     "metadata": {},
     "output_type": "execute_result"
    }
   ],
   "source": [
    "number_names = dict()\n",
    "\n",
    "number_names['one'] = 1\n",
    "number_names['two'] = 2\n",
    "number_names['three'] = 3\n",
    "number_names['four'] = 4\n",
    "number_names['five'] = 5\n",
    "number_names['six'] = 6\n",
    "number_names['seven'] = 7\n",
    "number_names['eight'] = 8\n",
    "\n",
    "number_names"
   ]
  },
  {
   "cell_type": "code",
   "execution_count": 2,
   "id": "afdc1786-a6bd-4a02-b97f-00d29bace53a",
   "metadata": {},
   "outputs": [
    {
     "data": {
      "text/plain": [
       "7"
      ]
     },
     "execution_count": 2,
     "metadata": {},
     "output_type": "execute_result"
    }
   ],
   "source": [
    "number_names['seven']"
   ]
  },
  {
   "cell_type": "code",
   "execution_count": 3,
   "id": "4c22b41d-e897-4dcd-9fa1-4e74a242a231",
   "metadata": {},
   "outputs": [
    {
     "data": {
      "text/plain": [
       "2"
      ]
     },
     "execution_count": 3,
     "metadata": {},
     "output_type": "execute_result"
    }
   ],
   "source": [
    "number_names['two']"
   ]
  },
  {
   "cell_type": "markdown",
   "id": "33d8959e-7c5e-471c-858d-f66dc05e69b9",
   "metadata": {},
   "source": [
    "**dict.items()**\n",
    "\n",
    "Returns the items as `key-value` pairs."
   ]
  },
  {
   "cell_type": "code",
   "execution_count": 4,
   "id": "6e41dc94-e83c-4a64-a4c0-230ac015a02e",
   "metadata": {},
   "outputs": [
    {
     "data": {
      "text/plain": [
       "dict_items([('one', 1), ('two', 2), ('three', 3), ('four', 4), ('five', 5), ('six', 6), ('seven', 7), ('eight', 8)])"
      ]
     },
     "execution_count": 4,
     "metadata": {},
     "output_type": "execute_result"
    }
   ],
   "source": [
    "number_names.items()"
   ]
  },
  {
   "cell_type": "markdown",
   "id": "a669d211-5b79-421a-afe5-94208a268c9d",
   "metadata": {},
   "source": [
    "**dict.keys()**\n",
    "\n",
    "Returns only the keys."
   ]
  },
  {
   "cell_type": "code",
   "execution_count": 6,
   "id": "82f78c29-d20b-4c2e-bb17-b1e812cfec9c",
   "metadata": {},
   "outputs": [
    {
     "data": {
      "text/plain": [
       "dict_keys(['one', 'two', 'three', 'four', 'five', 'six', 'seven', 'eight'])"
      ]
     },
     "execution_count": 6,
     "metadata": {},
     "output_type": "execute_result"
    }
   ],
   "source": [
    "number_names.keys()"
   ]
  },
  {
   "cell_type": "markdown",
   "id": "7c4ced6c-74ca-4e2b-a302-19db755cfb01",
   "metadata": {},
   "source": [
    "**dict.values()**\n",
    "\n",
    "Returns the values only."
   ]
  },
  {
   "cell_type": "code",
   "execution_count": 7,
   "id": "0dba247b-5cbc-46eb-96a7-ca60de820a1f",
   "metadata": {},
   "outputs": [
    {
     "data": {
      "text/plain": [
       "dict_values([1, 2, 3, 4, 5, 6, 7, 8])"
      ]
     },
     "execution_count": 7,
     "metadata": {},
     "output_type": "execute_result"
    }
   ],
   "source": [
    "number_names.values()"
   ]
  },
  {
   "cell_type": "code",
   "execution_count": 8,
   "id": "bd691248-154d-4733-b368-a2423ba598ca",
   "metadata": {},
   "outputs": [
    {
     "name": "stdout",
     "output_type": "stream",
     "text": [
      "one : 1\n",
      "two : 2\n",
      "three : 3\n",
      "four : 4\n",
      "five : 5\n",
      "six : 6\n",
      "seven : 7\n",
      "eight : 8\n"
     ]
    }
   ],
   "source": [
    "# with for loop, print the items\n",
    "\n",
    "for key, value in number_names.items():\n",
    "    print(key, ':', value)\n",
    "    "
   ]
  },
  {
   "cell_type": "code",
   "execution_count": 9,
   "id": "f2c417fd-7859-43ac-b651-8f97b1cac631",
   "metadata": {},
   "outputs": [
    {
     "name": "stdout",
     "output_type": "stream",
     "text": [
      "one : 1\n",
      "two : 2\n",
      "three : 3\n",
      "four : 4\n",
      "five : 5\n",
      "six : 6\n",
      "seven : 7\n",
      "eight : 8\n"
     ]
    }
   ],
   "source": [
    "for k, v in number_names.items():\n",
    "    print(k, ':', v)\n",
    "    "
   ]
  },
  {
   "cell_type": "code",
   "execution_count": 10,
   "id": "b32a085c-eb44-42b0-8d23-e1e9c5bd1111",
   "metadata": {},
   "outputs": [
    {
     "name": "stdout",
     "output_type": "stream",
     "text": [
      "one\n",
      "two\n",
      "three\n",
      "four\n",
      "five\n",
      "six\n",
      "seven\n",
      "eight\n"
     ]
    }
   ],
   "source": [
    "# only the keys \n",
    "\n",
    "for k in number_names.keys():\n",
    "    print(k)"
   ]
  },
  {
   "cell_type": "code",
   "execution_count": 11,
   "id": "1d57c121-a595-4ce8-8141-edf972563eb7",
   "metadata": {},
   "outputs": [
    {
     "name": "stdout",
     "output_type": "stream",
     "text": [
      "1\n",
      "2\n",
      "3\n",
      "4\n",
      "5\n",
      "6\n",
      "7\n",
      "8\n"
     ]
    }
   ],
   "source": [
    "# only the values\n",
    "\n",
    "for p in number_names.values():\n",
    "    print(p)\n",
    "    "
   ]
  },
  {
   "cell_type": "code",
   "execution_count": 12,
   "id": "dc4cf0a9-8f55-475f-af32-9ecb991d3fc5",
   "metadata": {},
   "outputs": [],
   "source": [
    "car = {\n",
    "    'brand': 'Ford',\n",
    "    'model': 'Mustang',\n",
    "    'year': 1964,\n",
    "    'color': 'red',\n",
    "    'age': 72,\n",
    "    'price': 100000,\n",
    "    'motor': 1.6\n",
    "}"
   ]
  },
  {
   "cell_type": "code",
   "execution_count": 13,
   "id": "9a279867-e057-4a01-9f5d-de1501042c3b",
   "metadata": {},
   "outputs": [
    {
     "data": {
      "text/plain": [
       "{'brand': 'Ford',\n",
       " 'model': 'Mustang',\n",
       " 'year': 1964,\n",
       " 'color': 'red',\n",
       " 'age': 72,\n",
       " 'price': 100000,\n",
       " 'motor': 1.6}"
      ]
     },
     "execution_count": 13,
     "metadata": {},
     "output_type": "execute_result"
    }
   ],
   "source": [
    "car"
   ]
  },
  {
   "cell_type": "code",
   "execution_count": 14,
   "id": "b21d74c7-7547-4691-8ad3-92e581622ff6",
   "metadata": {},
   "outputs": [
    {
     "data": {
      "text/plain": [
       "'Ford'"
      ]
     },
     "execution_count": 14,
     "metadata": {},
     "output_type": "execute_result"
    }
   ],
   "source": [
    "car['brand']"
   ]
  },
  {
   "cell_type": "code",
   "execution_count": 15,
   "id": "1cc85db0-48a4-4692-9235-f551ed06f8e4",
   "metadata": {},
   "outputs": [
    {
     "ename": "KeyError",
     "evalue": "'BRAND'",
     "output_type": "error",
     "traceback": [
      "\u001b[1;31m---------------------------------------------------------------------------\u001b[0m",
      "\u001b[1;31mKeyError\u001b[0m                                  Traceback (most recent call last)",
      "\u001b[1;32m~\\AppData\\Local\\Temp/ipykernel_12096/2581101725.py\u001b[0m in \u001b[0;36m<module>\u001b[1;34m\u001b[0m\n\u001b[1;32m----> 1\u001b[1;33m \u001b[0mcar\u001b[0m\u001b[1;33m[\u001b[0m\u001b[1;34m'BRAND'\u001b[0m\u001b[1;33m]\u001b[0m\u001b[1;33m\u001b[0m\u001b[1;33m\u001b[0m\u001b[0m\n\u001b[0m",
      "\u001b[1;31mKeyError\u001b[0m: 'BRAND'"
     ]
    }
   ],
   "source": [
    "car['BRAND']"
   ]
  },
  {
   "cell_type": "markdown",
   "id": "23b70bb4-77d6-4f6e-8fe1-7c30898ac5cd",
   "metadata": {},
   "source": [
    "**get()**\n",
    "\n",
    "It returns the element if exists, None if not."
   ]
  },
  {
   "cell_type": "code",
   "execution_count": 16,
   "id": "81278f52-98e8-44a5-878d-90d93f2196d6",
   "metadata": {},
   "outputs": [
    {
     "data": {
      "text/plain": [
       "'Ford'"
      ]
     },
     "execution_count": 16,
     "metadata": {},
     "output_type": "execute_result"
    }
   ],
   "source": [
    "car.get('brand')"
   ]
  },
  {
   "cell_type": "code",
   "execution_count": 17,
   "id": "21717d35-9bf3-435c-8dcb-4666ff785a08",
   "metadata": {},
   "outputs": [],
   "source": [
    "car.get('BRAND')"
   ]
  },
  {
   "cell_type": "markdown",
   "id": "38ddcdd9-9138-425e-9062-283260b5e906",
   "metadata": {},
   "source": [
    "**len()**\n",
    "\n",
    "It gives you the length of Dictionary -> number of key-value pair."
   ]
  },
  {
   "cell_type": "code",
   "execution_count": 18,
   "id": "2257d620-6e7d-4d7b-8636-bd47534217c0",
   "metadata": {},
   "outputs": [
    {
     "data": {
      "text/plain": [
       "7"
      ]
     },
     "execution_count": 18,
     "metadata": {},
     "output_type": "execute_result"
    }
   ],
   "source": [
    "len(car)"
   ]
  },
  {
   "cell_type": "code",
   "execution_count": 19,
   "id": "57911d9e-0fc4-40f8-a930-22f1e669bb4d",
   "metadata": {},
   "outputs": [
    {
     "data": {
      "text/plain": [
       "8"
      ]
     },
     "execution_count": 19,
     "metadata": {},
     "output_type": "execute_result"
    }
   ],
   "source": [
    "len(number_names)"
   ]
  },
  {
   "cell_type": "markdown",
   "id": "bfe3d1c5-6ebd-45a6-b00f-7da3c01d87f0",
   "metadata": {},
   "source": [
    "**in**\n",
    "\n",
    "To check if the key is in Dictionary Keys."
   ]
  },
  {
   "cell_type": "code",
   "execution_count": 20,
   "id": "87473e5e-900a-4f2a-8975-99cb8c7eabdc",
   "metadata": {},
   "outputs": [
    {
     "data": {
      "text/plain": [
       "True"
      ]
     },
     "execution_count": 20,
     "metadata": {},
     "output_type": "execute_result"
    }
   ],
   "source": [
    "# in -> keys\n",
    "\n",
    "'age' in car"
   ]
  },
  {
   "cell_type": "code",
   "execution_count": 21,
   "id": "25ed1bac-e0b6-4299-be13-015fd04c8d85",
   "metadata": {},
   "outputs": [
    {
     "data": {
      "text/plain": [
       "False"
      ]
     },
     "execution_count": 21,
     "metadata": {},
     "output_type": "execute_result"
    }
   ],
   "source": [
    "'height' in car"
   ]
  },
  {
   "cell_type": "code",
   "execution_count": 22,
   "id": "6d2999b0-8758-4ee1-8e9f-142c697db3fc",
   "metadata": {},
   "outputs": [
    {
     "data": {
      "text/plain": [
       "True"
      ]
     },
     "execution_count": 22,
     "metadata": {},
     "output_type": "execute_result"
    }
   ],
   "source": [
    "# check for values\n",
    "\n",
    "6 in number_names.values()"
   ]
  },
  {
   "cell_type": "code",
   "execution_count": 23,
   "id": "13ee58de-4edf-43ea-b45c-76a6b99c663e",
   "metadata": {},
   "outputs": [
    {
     "data": {
      "text/plain": [
       "True"
      ]
     },
     "execution_count": 23,
     "metadata": {},
     "output_type": "execute_result"
    }
   ],
   "source": [
    "value_to_check = 'Mustang'\n",
    "\n",
    "value_to_check in car.values()"
   ]
  },
  {
   "cell_type": "code",
   "execution_count": 24,
   "id": "b6a67385-c49a-43db-ab2d-323bf5ae6021",
   "metadata": {},
   "outputs": [
    {
     "data": {
      "text/plain": [
       "False"
      ]
     },
     "execution_count": 24,
     "metadata": {},
     "output_type": "execute_result"
    }
   ],
   "source": [
    "value_to_check = 'Mondeo'\n",
    "\n",
    "value_to_check in car.values()"
   ]
  },
  {
   "cell_type": "markdown",
   "id": "b52432e6-8d46-4d4a-a979-8b91aff0f862",
   "metadata": {},
   "source": [
    "# Loop Over Dictionary"
   ]
  },
  {
   "cell_type": "code",
   "execution_count": 25,
   "id": "9419f9ba-ab14-46d1-946b-66c636a228e9",
   "metadata": {},
   "outputs": [
    {
     "data": {
      "text/plain": [
       "{'Audi': 'Germany', 'Mazda': 'Japan', 'Fiat': 'Italy', 'Ford': 'US'}"
      ]
     },
     "execution_count": 25,
     "metadata": {},
     "output_type": "execute_result"
    }
   ],
   "source": [
    "cars = {\n",
    "    'Audi': 'Germany',\n",
    "    'Mazda': 'Japan',\n",
    "    'Fiat': 'Italy',\n",
    "    'Ford' : 'US'\n",
    "}\n",
    "\n",
    "cars"
   ]
  },
  {
   "cell_type": "markdown",
   "id": "34318dba-bc35-4e33-abe0-e490447f121b",
   "metadata": {},
   "source": [
    "**items(),keys(),values()**"
   ]
  },
  {
   "cell_type": "code",
   "execution_count": 26,
   "id": "2b09102a-b0de-437d-a752-36f92ddc0b30",
   "metadata": {},
   "outputs": [
    {
     "name": "stdout",
     "output_type": "stream",
     "text": [
      "('Audi', 'Germany')\n",
      "('Mazda', 'Japan')\n",
      "('Fiat', 'Italy')\n",
      "('Ford', 'US')\n"
     ]
    }
   ],
   "source": [
    "\n",
    "for car in cars.items():\n",
    "    print(car)\n",
    "    "
   ]
  },
  {
   "cell_type": "code",
   "execution_count": 27,
   "id": "bf941448-722f-4789-a4c9-c22c1bb35def",
   "metadata": {},
   "outputs": [
    {
     "name": "stdout",
     "output_type": "stream",
     "text": [
      "Audi - Germany\n",
      "Mazda - Japan\n",
      "Fiat - Italy\n",
      "Ford - US\n"
     ]
    }
   ],
   "source": [
    "# deconstructing\n",
    "\n",
    "for brand, country in cars.items():\n",
    "    print(brand, '-', country)\n",
    "    "
   ]
  },
  {
   "cell_type": "code",
   "execution_count": 28,
   "id": "20308069-2cb0-40fc-b2c1-b15cc5ba8203",
   "metadata": {},
   "outputs": [
    {
     "name": "stdout",
     "output_type": "stream",
     "text": [
      "Audi\n",
      "Mazda\n",
      "Fiat\n",
      "Ford\n"
     ]
    }
   ],
   "source": [
    "\n",
    "for k in cars.keys():\n",
    "    print(k)\n",
    "    "
   ]
  },
  {
   "cell_type": "code",
   "execution_count": 29,
   "id": "faedda74-8e56-491a-b82e-806cb7d7191c",
   "metadata": {},
   "outputs": [
    {
     "name": "stdout",
     "output_type": "stream",
     "text": [
      "Germany\n",
      "Japan\n",
      "Italy\n",
      "US\n"
     ]
    }
   ],
   "source": [
    "for country in cars.values():\n",
    "    print(country)"
   ]
  },
  {
   "cell_type": "markdown",
   "id": "b96e82e2-ff44-4498-99e6-9d78583b112e",
   "metadata": {},
   "source": [
    "**Example:**"
   ]
  },
  {
   "cell_type": "markdown",
   "id": "1b69fd40-7340-46d6-ad30-e0424ee50876",
   "metadata": {},
   "source": [
    "Define a function named **count_letters**.\n",
    "\n",
    "It will count each letter in a text and print.\n",
    "\n",
    "Ex: {'a':3, 's':3, 'e':1}"
   ]
  },
  {
   "cell_type": "code",
   "execution_count": 39,
   "id": "313efd7e-76f9-45d9-a58c-fa051bb1f79d",
   "metadata": {},
   "outputs": [],
   "source": [
    "# Solution\n",
    "\n",
    "def count_letters(text):\n",
    "    \n",
    "    # a dict for numbers and counts\n",
    "    letters = {}\n",
    "    \n",
    "    for l in text:\n",
    "        \n",
    "        # check if l is aplhanumeric \n",
    "        if l.isalpha():\n",
    "            # check if this letter is already in dict\n",
    "            if l in letters.keys():\n",
    "                letters[l] += 1\n",
    "        \n",
    "            # first time\n",
    "            else:\n",
    "                letters[l] = 1\n",
    "        \n",
    "    return letters\n",
    "    "
   ]
  },
  {
   "cell_type": "code",
   "execution_count": 40,
   "id": "d8c687fe-aa01-4c8e-b408-46a4ff6b51e1",
   "metadata": {},
   "outputs": [
    {
     "data": {
      "text/plain": [
       "{'e': 3, 'x': 2, 'a': 1, 'm': 1, 'p': 1, 'l': 1, 't': 2}"
      ]
     },
     "execution_count": 40,
     "metadata": {},
     "output_type": "execute_result"
    }
   ],
   "source": [
    "text = 'example text'\n",
    "letters = count_letters(text)\n",
    "letters"
   ]
  },
  {
   "cell_type": "code",
   "execution_count": 41,
   "id": "26a3c5b3-6458-4926-b7ce-368363839360",
   "metadata": {},
   "outputs": [
    {
     "data": {
      "text/plain": [
       "{'e': 3, 'x': 2, 'a': 1, 'm': 1, 'p': 1, 'l': 1, 't': 2}"
      ]
     },
     "execution_count": 41,
     "metadata": {},
     "output_type": "execute_result"
    }
   ],
   "source": [
    "text = 'example text.'\n",
    "letters = count_letters(text)\n",
    "letters"
   ]
  },
  {
   "cell_type": "code",
   "execution_count": 52,
   "id": "4c2c79e3-eae1-4d29-afdf-e083c626ee30",
   "metadata": {},
   "outputs": [],
   "source": [
    "# Solution 1\n",
    "# More Pythonic \n",
    "\n",
    "def count_letters_2(text):\n",
    "\n",
    "    # a dict for numbers and counts\n",
    "    letters = dict()\n",
    "    \n",
    "    for letter in text:\n",
    "        \n",
    "        if letter.isaplha():\n",
    "            letters[char] = letters.get(char, 0) + 1\n",
    "    \n",
    "    return letters\n",
    "            "
   ]
  },
  {
   "cell_type": "code",
   "execution_count": 43,
   "id": "9aee7280-6ce3-4c8c-b3a0-f5fc296c5a0c",
   "metadata": {},
   "outputs": [
    {
     "data": {
      "text/plain": [
       "{'e': 3, 'x': 2, 'a': 1, 'm': 1, 'p': 1, 'l': 1, 't': 2}"
      ]
     },
     "execution_count": 43,
     "metadata": {},
     "output_type": "execute_result"
    }
   ],
   "source": [
    "letters"
   ]
  },
  {
   "cell_type": "code",
   "execution_count": 46,
   "id": "9df49d9f-7a27-408a-a7ec-5ac71c0cec07",
   "metadata": {},
   "outputs": [
    {
     "data": {
      "text/plain": [
       "3"
      ]
     },
     "execution_count": 46,
     "metadata": {},
     "output_type": "execute_result"
    }
   ],
   "source": [
    "letters.get('e')"
   ]
  },
  {
   "cell_type": "code",
   "execution_count": 47,
   "id": "6e9923e3-7a82-415e-9f22-1556de343ae1",
   "metadata": {},
   "outputs": [
    {
     "data": {
      "text/plain": [
       "2"
      ]
     },
     "execution_count": 47,
     "metadata": {},
     "output_type": "execute_result"
    }
   ],
   "source": [
    "letters.get('t')"
   ]
  },
  {
   "cell_type": "code",
   "execution_count": 48,
   "id": "f332b552-4e4a-4b23-9aa6-be5610854a63",
   "metadata": {},
   "outputs": [
    {
     "data": {
      "text/plain": [
       "0"
      ]
     },
     "execution_count": 48,
     "metadata": {},
     "output_type": "execute_result"
    }
   ],
   "source": [
    "# get(key, <return if not found>)\n",
    "\n",
    "letters.get('AA', 0)"
   ]
  },
  {
   "cell_type": "code",
   "execution_count": 49,
   "id": "e5edd255-4195-42a7-8149-b6b2a0dde6f9",
   "metadata": {},
   "outputs": [
    {
     "ename": "NameError",
     "evalue": "name 'count_letters_2' is not defined",
     "output_type": "error",
     "traceback": [
      "\u001b[1;31m---------------------------------------------------------------------------\u001b[0m",
      "\u001b[1;31mNameError\u001b[0m                                 Traceback (most recent call last)",
      "\u001b[1;32m~\\AppData\\Local\\Temp/ipykernel_12096/1468250500.py\u001b[0m in \u001b[0;36m<module>\u001b[1;34m\u001b[0m\n\u001b[0;32m      1\u001b[0m \u001b[0mtext\u001b[0m \u001b[1;33m=\u001b[0m \u001b[1;34m'example text!'\u001b[0m\u001b[1;33m\u001b[0m\u001b[1;33m\u001b[0m\u001b[0m\n\u001b[1;32m----> 2\u001b[1;33m \u001b[0mletters\u001b[0m \u001b[1;33m=\u001b[0m \u001b[0mcount_letters_2\u001b[0m\u001b[1;33m(\u001b[0m\u001b[0mtext\u001b[0m\u001b[1;33m)\u001b[0m\u001b[1;33m\u001b[0m\u001b[1;33m\u001b[0m\u001b[0m\n\u001b[0m\u001b[0;32m      3\u001b[0m \u001b[0mletters\u001b[0m\u001b[1;33m\u001b[0m\u001b[1;33m\u001b[0m\u001b[0m\n",
      "\u001b[1;31mNameError\u001b[0m: name 'count_letters_2' is not defined"
     ]
    }
   ],
   "source": [
    "text = 'example text!'\n",
    "letters = count_letters_2(text)\n",
    "letters"
   ]
  },
  {
   "cell_type": "code",
   "execution_count": null,
   "id": "75e44b46-e86e-4de6-8b2a-63a6d3d1838d",
   "metadata": {},
   "outputs": [],
   "source": []
  }
 ],
 "metadata": {
  "kernelspec": {
   "display_name": "Python 3 (ipykernel)",
   "language": "python",
   "name": "python3"
  },
  "language_info": {
   "codemirror_mode": {
    "name": "ipython",
    "version": 3
   },
   "file_extension": ".py",
   "mimetype": "text/x-python",
   "name": "python",
   "nbconvert_exporter": "python",
   "pygments_lexer": "ipython3",
   "version": "3.8.12"
  }
 },
 "nbformat": 4,
 "nbformat_minor": 5
}
