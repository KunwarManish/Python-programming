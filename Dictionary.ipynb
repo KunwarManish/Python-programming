{
 "cells": [
  {
   "cell_type": "markdown",
   "id": "1d84adbf-2804-460d-a016-33c352eb40aa",
   "metadata": {},
   "source": [
    "# Dictionary "
   ]
  },
  {
   "cell_type": "markdown",
   "id": "8aad85d8-50c7-4ece-95c2-e5362845352e",
   "metadata": {},
   "source": [
    "## What is a Dictionary?"
   ]
  },
  {
   "cell_type": "markdown",
   "id": "3ad115dd-928c-4222-8548-a9b889f5d3b2",
   "metadata": {},
   "source": [
    "Let's say we want to store employee data; name, age, department"
   ]
  },
  {
   "cell_type": "code",
   "execution_count": 1,
   "id": "a7fb192a-d683-487c-b38f-b854e1d0a3c5",
   "metadata": {},
   "outputs": [],
   "source": [
    "employee = {\n",
    "    'name': 'Suresh Thapa',\n",
    "    \"age\" : 30,\n",
    "    \"department\": 'News Service'\n",
    "}"
   ]
  },
  {
   "cell_type": "markdown",
   "id": "2e3a5490-7c61-41ec-a84d-c8677d5a2bbf",
   "metadata": {},
   "source": [
    "We can think of Dictionaries as a general form Lists.\n",
    "\n",
    "In List, indices are integer (int) and they are defined implicity by Python.\n",
    "\n",
    "You don't define indices for lists.\n",
    "\n",
    "But for Dictionary, we define indices manually, and they do not have to be integers. They may be any sutiable type."
   ]
  },
  {
   "cell_type": "markdown",
   "id": "5da8daff-cd45-4a81-899a-0896583810fa",
   "metadata": {},
   "source": [
    "Element Structure:\n",
    "    \n",
    "{ key : value }"
   ]
  },
  {
   "cell_type": "markdown",
   "id": "2ecf12fc-d8f3-424d-84f0-14d5d5e59a4c",
   "metadata": {},
   "source": [
    "So in a dictionary, each **key** is mapped to a **value.**\n",
    "\n",
    "Key-Value pairs."
   ]
  },
  {
   "cell_type": "markdown",
   "id": "5e0b5cd9-1eab-4c18-ab07-7e01aa85f67e",
   "metadata": {},
   "source": [
    "| Key | Value |\n",
    "| --- | --- |\n",
    "| name | Suresh Thapa |\n",
    "| age | 30 |"
   ]
  },
  {
   "cell_type": "markdown",
   "id": "674730f9-e237-4a8e-95d6-ab89ff07c693",
   "metadata": {},
   "source": [
    "**Keys** must be unique.\n",
    "\n",
    "You can not have duplicate keys."
   ]
  },
  {
   "cell_type": "code",
   "execution_count": 4,
   "id": "06ba19f2-29f9-452f-bcf3-c970d402078b",
   "metadata": {},
   "outputs": [],
   "source": [
    "numbers = {\n",
    "    1: \"one\",\n",
    "    2: \"two\",\n",
    "    3: \"three\",\n",
    "    4: \"four\"\n",
    "}"
   ]
  },
  {
   "cell_type": "code",
   "execution_count": null,
   "id": "1dfcac80-123f-4287-82da-339f051b5bcc",
   "metadata": {},
   "outputs": [],
   "source": []
  }
 ],
 "metadata": {
  "kernelspec": {
   "display_name": "Python 3 (ipykernel)",
   "language": "python",
   "name": "python3"
  },
  "language_info": {
   "codemirror_mode": {
    "name": "ipython",
    "version": 3
   },
   "file_extension": ".py",
   "mimetype": "text/x-python",
   "name": "python",
   "nbconvert_exporter": "python",
   "pygments_lexer": "ipython3",
   "version": "3.8.12"
  }
 },
 "nbformat": 4,
 "nbformat_minor": 5
}
