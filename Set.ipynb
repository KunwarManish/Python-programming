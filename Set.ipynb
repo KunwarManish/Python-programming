{
 "cells": [
  {
   "cell_type": "markdown",
   "id": "b7cde7c1-b983-4a59-b6ef-deea96fa42c7",
   "metadata": {},
   "source": [
    "# Set Creation"
   ]
  },
  {
   "cell_type": "markdown",
   "id": "0b50d58f-bf13-41d4-8a7a-70c430ec8f16",
   "metadata": {},
   "source": [
    "So far, we have covered List, Dictionary and Tuple.\n",
    "\n",
    "Now we will learn another built-in data type in Python: `Set`"
   ]
  },
  {
   "cell_type": "markdown",
   "id": "877b63de-0006-41d2-81d0-3fdcdd09b19c",
   "metadata": {},
   "source": [
    "`Set:`\n",
    "\n",
    "* is a datatype that include other data types (like List, Dict, String)\n",
    "* is **unordered** and **unindexed**\n",
    "* elements are **unique**\n",
    "* is created:\n",
    "    * `{}` -> but with elements in it\n",
    "    * `set()`"
   ]
  },
  {
   "cell_type": "markdown",
   "id": "e7355ca0-7d82-4141-b487-f3eeddcb52f8",
   "metadata": {},
   "source": [
    "**Create a Set via** `{}`"
   ]
  },
  {
   "cell_type": "code",
   "execution_count": 1,
   "id": "37a34383-6563-4dd7-a925-54f2ac1bf95c",
   "metadata": {},
   "outputs": [
    {
     "data": {
      "text/plain": [
       "{}"
      ]
     },
     "execution_count": 1,
     "metadata": {},
     "output_type": "execute_result"
    }
   ],
   "source": [
    "# Create Set\n",
    "\n",
    "my_set = {}\n",
    "\n",
    "my_set"
   ]
  },
  {
   "cell_type": "code",
   "execution_count": 2,
   "id": "4be0af1d-c8bb-49a7-a3e8-672bbde6765a",
   "metadata": {},
   "outputs": [
    {
     "data": {
      "text/plain": [
       "dict"
      ]
     },
     "execution_count": 2,
     "metadata": {},
     "output_type": "execute_result"
    }
   ],
   "source": [
    "type(my_set)"
   ]
  },
  {
   "cell_type": "code",
   "execution_count": 3,
   "id": "446e216a-02f9-4a98-b8d2-141af30d91d8",
   "metadata": {},
   "outputs": [
    {
     "data": {
      "text/plain": [
       "{'cat', 'dog', 'horse'}"
      ]
     },
     "execution_count": 3,
     "metadata": {},
     "output_type": "execute_result"
    }
   ],
   "source": [
    "# empty {} -> dict\n",
    "\n",
    "my_set = {'dog', 'cat', 'horse'}\n",
    "\n",
    "my_set"
   ]
  },
  {
   "cell_type": "code",
   "execution_count": 4,
   "id": "eca587f1-3c9d-4215-8a36-968e96f9ea68",
   "metadata": {},
   "outputs": [
    {
     "data": {
      "text/plain": [
       "set"
      ]
     },
     "execution_count": 4,
     "metadata": {},
     "output_type": "execute_result"
    }
   ],
   "source": [
    "type(my_set)"
   ]
  },
  {
   "cell_type": "markdown",
   "id": "3eb872dd-a6c6-4000-b839-1b46d313fd7b",
   "metadata": {},
   "source": [
    "**Create a Set via** `set()`"
   ]
  },
  {
   "cell_type": "code",
   "execution_count": 5,
   "id": "8a4dc9be-20e3-410b-bc3d-4f139e3acd1c",
   "metadata": {},
   "outputs": [
    {
     "data": {
      "text/plain": [
       "{'A', 'B', 'C', 'D'}"
      ]
     },
     "execution_count": 5,
     "metadata": {},
     "output_type": "execute_result"
    }
   ],
   "source": [
    "# set({})\n",
    "\n",
    "letters = set({'A', 'B', 'C', 'D'})\n",
    "\n",
    "letters"
   ]
  },
  {
   "cell_type": "code",
   "execution_count": 6,
   "id": "ac729860-1c94-4663-a347-7092a3bfb5db",
   "metadata": {},
   "outputs": [
    {
     "data": {
      "text/plain": [
       "set"
      ]
     },
     "execution_count": 6,
     "metadata": {},
     "output_type": "execute_result"
    }
   ],
   "source": [
    "type(letters)"
   ]
  },
  {
   "cell_type": "code",
   "execution_count": 7,
   "id": "04c9084a-1c51-46f6-8d63-1cbc81a1cd6c",
   "metadata": {},
   "outputs": [
    {
     "name": "stdout",
     "output_type": "stream",
     "text": [
      "['A', 'A', 'B', 'C', 'B', 'C']\n"
     ]
    }
   ],
   "source": [
    "# Some element in a set -> only once\n",
    "\n",
    "grades = ['A', 'A', 'B', 'C', 'B', 'C']\n",
    "\n",
    "print(grades)"
   ]
  },
  {
   "cell_type": "code",
   "execution_count": 8,
   "id": "614e4575-8d6a-4f53-a8b4-b72a86024e4f",
   "metadata": {},
   "outputs": [
    {
     "data": {
      "text/plain": [
       "{'A', 'B', 'C'}"
      ]
     },
     "execution_count": 8,
     "metadata": {},
     "output_type": "execute_result"
    }
   ],
   "source": [
    "# convert the List -> Set\n",
    "\n",
    "# the same elements -> removed\n",
    "grades_set = set(grades)\n",
    "\n",
    "grades_set"
   ]
  },
  {
   "cell_type": "code",
   "execution_count": 9,
   "id": "b19593f0-8a79-4960-b07b-e7cfa29f1a5c",
   "metadata": {},
   "outputs": [
    {
     "data": {
      "text/plain": [
       "{' ', 'D', 'P', 'S', 'a', 'c', 'e', 'h', 'i', 'n', 'o', 't', 'y'}"
      ]
     },
     "execution_count": 9,
     "metadata": {},
     "output_type": "execute_result"
    }
   ],
   "source": [
    "# String -> Set\n",
    "\n",
    "text = 'Python Data Science'\n",
    "\n",
    "text_set = set(text)\n",
    "\n",
    "text_set"
   ]
  },
  {
   "cell_type": "code",
   "execution_count": 10,
   "id": "c488087d-91be-445d-b259-43b878dbb00b",
   "metadata": {},
   "outputs": [
    {
     "data": {
      "text/plain": [
       "{'c', 'e', 'n', 's', 't'}"
      ]
     },
     "execution_count": 10,
     "metadata": {},
     "output_type": "execute_result"
    }
   ],
   "source": [
    "sentence = 'sentence'\n",
    "set(sentence)"
   ]
  },
  {
   "cell_type": "code",
   "execution_count": 11,
   "id": "a58124d7-faf9-4c88-a599-8bb276a03d9e",
   "metadata": {},
   "outputs": [
    {
     "data": {
      "text/plain": [
       "{' ', 'D', 'P', 'S', 'a', 'c', 'e', 'h', 'i', 'n', 'o', 't', 'y'}"
      ]
     },
     "execution_count": 11,
     "metadata": {},
     "output_type": "execute_result"
    }
   ],
   "source": [
    "# try to access the elements of a Set with index\n",
    "\n",
    "text_set"
   ]
  },
  {
   "cell_type": "code",
   "execution_count": 12,
   "id": "536c4819-3d5b-4d47-b01a-fc3168e5d043",
   "metadata": {},
   "outputs": [
    {
     "ename": "TypeError",
     "evalue": "'set' object is not subscriptable",
     "output_type": "error",
     "traceback": [
      "\u001b[1;31m---------------------------------------------------------------------------\u001b[0m",
      "\u001b[1;31mTypeError\u001b[0m                                 Traceback (most recent call last)",
      "\u001b[1;32m~\\AppData\\Local\\Temp/ipykernel_15040/2767761451.py\u001b[0m in \u001b[0;36m<module>\u001b[1;34m\u001b[0m\n\u001b[1;32m----> 1\u001b[1;33m \u001b[0mtext_set\u001b[0m\u001b[1;33m[\u001b[0m\u001b[1;36m0\u001b[0m\u001b[1;33m]\u001b[0m\u001b[1;33m\u001b[0m\u001b[1;33m\u001b[0m\u001b[0m\n\u001b[0m",
      "\u001b[1;31mTypeError\u001b[0m: 'set' object is not subscriptable"
     ]
    }
   ],
   "source": [
    "text_set[0]"
   ]
  },
  {
   "cell_type": "markdown",
   "id": "61f6e5a5-b4d5-4740-a847-3de2ed355708",
   "metadata": {},
   "source": [
    "**index -> subscritable**"
   ]
  },
  {
   "cell_type": "markdown",
   "id": "c9c9efc4-921c-4c25-b85e-3f7fec002497",
   "metadata": {},
   "source": [
    "# Set Methods"
   ]
  },
  {
   "cell_type": "markdown",
   "id": "052dbc65-373e-4973-a2b8-e88e4bd1508f",
   "metadata": {},
   "source": [
    "**intersection**\n",
    "\n",
    "Intersection of two sets:\n",
    "    \n",
    "$$ A \\cap B $$"
   ]
  },
  {
   "cell_type": "code",
   "execution_count": 2,
   "id": "66cc38fd-be95-4a71-8b72-737b5ba303b4",
   "metadata": {},
   "outputs": [
    {
     "data": {
      "text/plain": [
       "{'A', 'B', 'C'}"
      ]
     },
     "execution_count": 2,
     "metadata": {},
     "output_type": "execute_result"
    }
   ],
   "source": [
    "grades = ['A', 'A', 'B', 'C', 'B', 'C']\n",
    "grades = set(grades)\n",
    "grades"
   ]
  },
  {
   "cell_type": "code",
   "execution_count": 3,
   "id": "1fc8357d-790e-47b7-81b9-ff2da4dd86f6",
   "metadata": {},
   "outputs": [
    {
     "data": {
      "text/plain": [
       "{'A', 'B', 'F', 'L', 'T'}"
      ]
     },
     "execution_count": 3,
     "metadata": {},
     "output_type": "execute_result"
    }
   ],
   "source": [
    "letters = ['A', 'L', 'T', 'B', 'F']\n",
    "letters = set(letters)\n",
    "letters"
   ]
  },
  {
   "cell_type": "code",
   "execution_count": 4,
   "id": "a2625328-01cc-4d33-9b5e-5867c73b959a",
   "metadata": {},
   "outputs": [
    {
     "data": {
      "text/plain": [
       "{'A', 'B'}"
      ]
     },
     "execution_count": 4,
     "metadata": {},
     "output_type": "execute_result"
    }
   ],
   "source": [
    "# A.intersection(B)\n",
    "\n",
    "grades.intersection(letters)"
   ]
  },
  {
   "cell_type": "markdown",
   "id": "d7120f6f-1571-472b-8275-8b3cc6bae841",
   "metadata": {},
   "source": [
    "**union:**\n",
    "\n",
    "Union of two sets:\n",
    "\n",
    "$$ A \\cup B $$\n",
    "\n",
    "A.union(B)"
   ]
  },
  {
   "cell_type": "code",
   "execution_count": 6,
   "id": "86ac39eb-fb57-4c88-b5e1-f892947f7fde",
   "metadata": {},
   "outputs": [
    {
     "data": {
      "text/plain": [
       "{'A', 'B', 'C', 'F', 'L', 'T'}"
      ]
     },
     "execution_count": 6,
     "metadata": {},
     "output_type": "execute_result"
    }
   ],
   "source": [
    "grades.union(letters)"
   ]
  },
  {
   "cell_type": "markdown",
   "id": "57f7a05b-8e9c-43b0-ae4a-cdc9aee1ae2d",
   "metadata": {},
   "source": [
    "**difference:**\n",
    "\n",
    "Difference of two sets:\n",
    "\n",
    "$$ A \\setminus B $$\n",
    "\n",
    "A.difference(B)"
   ]
  },
  {
   "cell_type": "code",
   "execution_count": 7,
   "id": "cd94f55f-5df6-493d-b3c0-d66066b26ed1",
   "metadata": {},
   "outputs": [
    {
     "data": {
      "text/plain": [
       "{'C'}"
      ]
     },
     "execution_count": 7,
     "metadata": {},
     "output_type": "execute_result"
    }
   ],
   "source": [
    "grades.difference(letters)"
   ]
  },
  {
   "cell_type": "code",
   "execution_count": 8,
   "id": "9fd43516-891d-4494-ad20-61d08d570771",
   "metadata": {},
   "outputs": [
    {
     "data": {
      "text/plain": [
       "{'F', 'L', 'T'}"
      ]
     },
     "execution_count": 8,
     "metadata": {},
     "output_type": "execute_result"
    }
   ],
   "source": [
    "letters.difference(grades)"
   ]
  },
  {
   "cell_type": "markdown",
   "id": "3117acad-61eb-4747-b111-4cf9304c4c26",
   "metadata": {},
   "source": [
    "**issubset()**\n",
    "\n",
    "Checks if a set is the subset of the other one.\n",
    "\n",
    "(All elements of A are in B)"
   ]
  },
  {
   "cell_type": "code",
   "execution_count": 9,
   "id": "25588d77-b7ce-4a3e-a8f0-ce57638a17ab",
   "metadata": {},
   "outputs": [
    {
     "data": {
      "text/plain": [
       "False"
      ]
     },
     "execution_count": 9,
     "metadata": {},
     "output_type": "execute_result"
    }
   ],
   "source": [
    "# if grades is a subset of letters\n",
    "\n",
    "grades.issubset(letters)"
   ]
  },
  {
   "cell_type": "code",
   "execution_count": 10,
   "id": "b3fe8521-1888-43ae-a6ed-c52a55d7cf6d",
   "metadata": {},
   "outputs": [
    {
     "data": {
      "text/plain": [
       "{'A', 'B', 'C'}"
      ]
     },
     "execution_count": 10,
     "metadata": {},
     "output_type": "execute_result"
    }
   ],
   "source": [
    "grades"
   ]
  },
  {
   "cell_type": "code",
   "execution_count": 11,
   "id": "ea545d98-bd15-407e-92a3-961fe63bc6b5",
   "metadata": {},
   "outputs": [
    {
     "data": {
      "text/plain": [
       "{'A', 'B', 'F', 'L', 'T'}"
      ]
     },
     "execution_count": 11,
     "metadata": {},
     "output_type": "execute_result"
    }
   ],
   "source": [
    "letters"
   ]
  },
  {
   "cell_type": "code",
   "execution_count": 12,
   "id": "2254805b-7ea2-4222-9ab2-853625eae09e",
   "metadata": {},
   "outputs": [],
   "source": [
    "grades_small = {'A', 'B'}"
   ]
  },
  {
   "cell_type": "code",
   "execution_count": 13,
   "id": "e1b1a06e-73b5-42b4-930a-e400a91e93d2",
   "metadata": {},
   "outputs": [
    {
     "data": {
      "text/plain": [
       "True"
      ]
     },
     "execution_count": 13,
     "metadata": {},
     "output_type": "execute_result"
    }
   ],
   "source": [
    "grades_small.issubset(letters)"
   ]
  },
  {
   "cell_type": "code",
   "execution_count": 14,
   "id": "b3d04310-aea3-4e9b-a3a5-9a88e89252c5",
   "metadata": {},
   "outputs": [
    {
     "data": {
      "text/plain": [
       "True"
      ]
     },
     "execution_count": 14,
     "metadata": {},
     "output_type": "execute_result"
    }
   ],
   "source": [
    "grades_small.issubset(grades)"
   ]
  },
  {
   "cell_type": "markdown",
   "id": "a5a41a43-77c1-486d-bbe2-cc8556ea86b3",
   "metadata": {},
   "source": [
    "**issuperset()**\n",
    "\n",
    "Checks if a set (A) is the superset of the other one (B).\n",
    "\n",
    "A.issuperset(B)\n",
    "\n",
    "(All elements of A are in B)"
   ]
  },
  {
   "cell_type": "code",
   "execution_count": 15,
   "id": "1cf2df26-3afc-4a6f-9c18-f15408087f0f",
   "metadata": {},
   "outputs": [
    {
     "data": {
      "text/plain": [
       "False"
      ]
     },
     "execution_count": 15,
     "metadata": {},
     "output_type": "execute_result"
    }
   ],
   "source": [
    "letters.issuperset(grades)"
   ]
  },
  {
   "cell_type": "code",
   "execution_count": 16,
   "id": "9ee9db5d-8964-4565-93e0-655947beebdf",
   "metadata": {},
   "outputs": [
    {
     "data": {
      "text/plain": [
       "True"
      ]
     },
     "execution_count": 16,
     "metadata": {},
     "output_type": "execute_result"
    }
   ],
   "source": [
    "letters.issuperset(grades_small)"
   ]
  },
  {
   "cell_type": "markdown",
   "id": "4bf9bb63-212a-4c9d-9e6a-f239b6635bca",
   "metadata": {},
   "source": [
    "**symmetric_difference()**\n",
    "\n",
    "Checks the symmetric difference between A and B.\n",
    "\n",
    "<pre>\n",
    "All elements which are only in A\n",
    "+\n",
    "All elements which are only in B\n",
    "</pre>\n",
    "\n",
    "$$ (A \\setminus B) \\cup (B \\setminus A) $$"
   ]
  },
  {
   "cell_type": "code",
   "execution_count": 17,
   "id": "004999ae-7c9b-47a3-b7be-f67db9790141",
   "metadata": {},
   "outputs": [
    {
     "data": {
      "text/plain": [
       "{'A', 'B', 'F', 'L', 'T'}"
      ]
     },
     "execution_count": 17,
     "metadata": {},
     "output_type": "execute_result"
    }
   ],
   "source": [
    "letters"
   ]
  },
  {
   "cell_type": "code",
   "execution_count": 18,
   "id": "b49e7527-75af-43e3-82ee-f1411e171c0a",
   "metadata": {},
   "outputs": [
    {
     "data": {
      "text/plain": [
       "{'A', 'B', 'C'}"
      ]
     },
     "execution_count": 18,
     "metadata": {},
     "output_type": "execute_result"
    }
   ],
   "source": [
    "grades"
   ]
  },
  {
   "cell_type": "code",
   "execution_count": 19,
   "id": "26e4152c-b873-46b5-973a-fe4b4924363a",
   "metadata": {},
   "outputs": [
    {
     "data": {
      "text/plain": [
       "{'C', 'F', 'L', 'T'}"
      ]
     },
     "execution_count": 19,
     "metadata": {},
     "output_type": "execute_result"
    }
   ],
   "source": [
    "letters.symmetric_difference(grades)"
   ]
  },
  {
   "cell_type": "code",
   "execution_count": 20,
   "id": "a899d2e1-9dec-4754-83ac-4756a7b46376",
   "metadata": {},
   "outputs": [
    {
     "name": "stdout",
     "output_type": "stream",
     "text": [
      "[1, 3, 4, 5]\n"
     ]
    }
   ],
   "source": [
    "num_list = [1,2,3,4,5]\n",
    "num_list.remove(2)\n",
    "print(num_list)"
   ]
  },
  {
   "cell_type": "code",
   "execution_count": 21,
   "id": "83a9a2eb-465d-431d-9323-d52033560448",
   "metadata": {},
   "outputs": [],
   "source": [
    "my_list = [2, 'apple', 3.5]"
   ]
  },
  {
   "cell_type": "code",
   "execution_count": 22,
   "id": "1de1ec31-65db-4394-b363-721c9ce75c6e",
   "metadata": {},
   "outputs": [
    {
     "data": {
      "text/plain": [
       "'apple'"
      ]
     },
     "execution_count": 22,
     "metadata": {},
     "output_type": "execute_result"
    }
   ],
   "source": [
    "my_list[1]"
   ]
  },
  {
   "cell_type": "code",
   "execution_count": 23,
   "id": "65e0b943-c2ef-4794-8d9c-eb6443d61dd1",
   "metadata": {},
   "outputs": [],
   "source": [
    "y = \"stuff;thing;junk;\""
   ]
  },
  {
   "cell_type": "code",
   "execution_count": 24,
   "id": "4a3d1138-e37c-475f-9761-6e6f66f113e7",
   "metadata": {},
   "outputs": [
    {
     "data": {
      "text/plain": [
       "4"
      ]
     },
     "execution_count": 24,
     "metadata": {},
     "output_type": "execute_result"
    }
   ],
   "source": [
    "z = y.split(';')\n",
    "len(z)"
   ]
  },
  {
   "cell_type": "code",
   "execution_count": 25,
   "id": "73b03227-2ab6-4d48-b65b-07e897c25bfd",
   "metadata": {},
   "outputs": [
    {
     "data": {
      "text/plain": [
       "True"
      ]
     },
     "execution_count": 25,
     "metadata": {},
     "output_type": "execute_result"
    }
   ],
   "source": [
    "5 != 6 "
   ]
  },
  {
   "cell_type": "markdown",
   "id": "2eda3b13-7717-4743-95ee-f6ad5d7bb280",
   "metadata": {},
   "source": [
    "# Set Operations"
   ]
  },
  {
   "cell_type": "code",
   "execution_count": 1,
   "id": "1dd37cb8-63b8-4621-a2bf-0ea535e4f316",
   "metadata": {},
   "outputs": [
    {
     "data": {
      "text/plain": [
       "{'A', 'B', 'C'}"
      ]
     },
     "execution_count": 1,
     "metadata": {},
     "output_type": "execute_result"
    }
   ],
   "source": [
    "grades = ['A', 'A', 'B', 'C', 'B', 'C']\n",
    "grades = set(grades)\n",
    "grades"
   ]
  },
  {
   "cell_type": "code",
   "execution_count": 2,
   "id": "a6b7cb2a-edef-4816-98a6-9ebb7c48f433",
   "metadata": {},
   "outputs": [
    {
     "data": {
      "text/plain": [
       "{'A', 'B', 'F', 'L', 'T'}"
      ]
     },
     "execution_count": 2,
     "metadata": {},
     "output_type": "execute_result"
    }
   ],
   "source": [
    "letters = ['A', 'L', 'T', 'B', 'F']\n",
    "letters = set(letters)\n",
    "letters"
   ]
  },
  {
   "cell_type": "markdown",
   "id": "cbed9578-2139-46ae-8c4f-e1a6d94f6aa6",
   "metadata": {},
   "source": [
    "**Add elements to set -> `add()`**"
   ]
  },
  {
   "cell_type": "code",
   "execution_count": 3,
   "id": "d15580da-e3f9-414c-bd89-fe625dcef863",
   "metadata": {},
   "outputs": [
    {
     "data": {
      "text/plain": [
       "{'A', 'B', 'C', 'F'}"
      ]
     },
     "execution_count": 3,
     "metadata": {},
     "output_type": "execute_result"
    }
   ],
   "source": [
    "grades.add('F')\n",
    "\n",
    "grades"
   ]
  },
  {
   "cell_type": "code",
   "execution_count": 4,
   "id": "a3973abd-d9a9-4b2b-beb7-ae9771036711",
   "metadata": {},
   "outputs": [
    {
     "data": {
      "text/plain": [
       "{'A', 'B', 'C', 'F', 'T'}"
      ]
     },
     "execution_count": 4,
     "metadata": {},
     "output_type": "execute_result"
    }
   ],
   "source": [
    "grades.add('T')\n",
    "\n",
    "grades"
   ]
  },
  {
   "cell_type": "code",
   "execution_count": 5,
   "id": "f576a7bb-23d9-41ed-a4df-5021052bc012",
   "metadata": {},
   "outputs": [
    {
     "data": {
      "text/plain": [
       "{'A', 'B', 'C', 'F', 'T'}"
      ]
     },
     "execution_count": 5,
     "metadata": {},
     "output_type": "execute_result"
    }
   ],
   "source": [
    "# Python will ignore the same element\n",
    "\n",
    "grades.add('F')\n",
    "\n",
    "grades"
   ]
  },
  {
   "cell_type": "markdown",
   "id": "3220d783-f519-4d61-b94a-ec1e3b5128cf",
   "metadata": {},
   "source": [
    "**Remove elements from set -> `remove()`**"
   ]
  },
  {
   "cell_type": "code",
   "execution_count": 6,
   "id": "3a0ddf17-2c04-4c05-8c6e-6d34d30ad609",
   "metadata": {},
   "outputs": [
    {
     "data": {
      "text/plain": [
       "{'A', 'B', 'C', 'F', 'T'}"
      ]
     },
     "execution_count": 6,
     "metadata": {},
     "output_type": "execute_result"
    }
   ],
   "source": [
    "grades"
   ]
  },
  {
   "cell_type": "code",
   "execution_count": 7,
   "id": "af3ff30f-7c85-4606-9b06-282107d93c36",
   "metadata": {},
   "outputs": [],
   "source": [
    "# set.remove(<element>)\n",
    "\n",
    "grades.remove('C')"
   ]
  },
  {
   "cell_type": "code",
   "execution_count": 8,
   "id": "dab4cfd7-9b5e-4881-b0bc-3bb29e9f13cb",
   "metadata": {},
   "outputs": [
    {
     "data": {
      "text/plain": [
       "{'A', 'B', 'F', 'T'}"
      ]
     },
     "execution_count": 8,
     "metadata": {},
     "output_type": "execute_result"
    }
   ],
   "source": [
    "grades"
   ]
  },
  {
   "cell_type": "code",
   "execution_count": 9,
   "id": "386f479f-ae9b-4f6b-afe5-6b45d8bccd36",
   "metadata": {},
   "outputs": [
    {
     "data": {
      "text/plain": [
       "{'A', 'B', 'T'}"
      ]
     },
     "execution_count": 9,
     "metadata": {},
     "output_type": "execute_result"
    }
   ],
   "source": [
    "grades.remove('F')\n",
    "grades"
   ]
  },
  {
   "cell_type": "markdown",
   "id": "065abe5a-053b-4e2a-b826-4e099405bafd",
   "metadata": {},
   "source": [
    "**Loop over a Set**"
   ]
  },
  {
   "cell_type": "code",
   "execution_count": 10,
   "id": "9464c3fe-bae0-43a7-89fb-c2e79f55f8d3",
   "metadata": {},
   "outputs": [
    {
     "name": "stdout",
     "output_type": "stream",
     "text": [
      "A\n",
      "L\n",
      "B\n",
      "F\n",
      "T\n"
     ]
    }
   ],
   "source": [
    "for letter in letters:\n",
    "    print(letter)"
   ]
  },
  {
   "cell_type": "code",
   "execution_count": 11,
   "id": "0a9a138b-4a74-45d8-b227-2fe27c1ff42a",
   "metadata": {},
   "outputs": [
    {
     "data": {
      "text/plain": [
       "{'A', 'B', 'T'}"
      ]
     },
     "execution_count": 11,
     "metadata": {},
     "output_type": "execute_result"
    }
   ],
   "source": [
    "grades"
   ]
  },
  {
   "cell_type": "code",
   "execution_count": 12,
   "id": "179c9970-5502-4669-9bd7-6f561507dcc6",
   "metadata": {},
   "outputs": [
    {
     "name": "stdout",
     "output_type": "stream",
     "text": [
      "A\n",
      "B\n",
      "T\n"
     ]
    }
   ],
   "source": [
    "for g in grades:\n",
    "    print(g)"
   ]
  },
  {
   "cell_type": "markdown",
   "id": "9b459734-f514-44a7-9a5a-1299b5efda91",
   "metadata": {},
   "source": [
    "**Assignment in Sets**\n",
    "\n",
    "Assignment is `Aliasing`.\n",
    "\n",
    "Aliasing: giving another name."
   ]
  },
  {
   "cell_type": "code",
   "execution_count": 13,
   "id": "135dc7c6-f094-4d0d-8a5c-e16108e58a7d",
   "metadata": {},
   "outputs": [
    {
     "name": "stdout",
     "output_type": "stream",
     "text": [
      "a: {2, 5, 7}\n",
      "b: {2, 5, 7}\n"
     ]
    }
   ],
   "source": [
    "# create a set\n",
    "\n",
    "a = {2, 5, 7}\n",
    "\n",
    "# assignment\n",
    "b = a\n",
    "\n",
    "print('a:', a)\n",
    "print('b:', b)"
   ]
  },
  {
   "cell_type": "code",
   "execution_count": 14,
   "id": "d2fe10aa-7511-4e5b-9e74-7a07904fd595",
   "metadata": {},
   "outputs": [],
   "source": [
    "# add element into b\n",
    "\n",
    "b.add('NEW')"
   ]
  },
  {
   "cell_type": "code",
   "execution_count": 15,
   "id": "239d7e3e-bf47-4710-a6c8-a589736d16a3",
   "metadata": {},
   "outputs": [
    {
     "name": "stdout",
     "output_type": "stream",
     "text": [
      "a: {2, 5, 'NEW', 7}\n",
      "b: {2, 5, 'NEW', 7}\n"
     ]
    }
   ],
   "source": [
    "print('a:', a)\n",
    "print('b:', b)"
   ]
  },
  {
   "cell_type": "markdown",
   "id": "ca0f92fe-e59c-4aff-a9e4-403e94ebddc2",
   "metadata": {},
   "source": [
    "**identical**"
   ]
  },
  {
   "cell_type": "code",
   "execution_count": 16,
   "id": "761580bf-69bf-47f2-8bb3-90f4d1224926",
   "metadata": {},
   "outputs": [
    {
     "data": {
      "text/plain": [
       "True"
      ]
     },
     "execution_count": 16,
     "metadata": {},
     "output_type": "execute_result"
    }
   ],
   "source": [
    "a is b"
   ]
  },
  {
   "cell_type": "markdown",
   "id": "68e0c76e-aa9b-4eb9-8321-f2e52fba423d",
   "metadata": {},
   "source": [
    "**equivalence**"
   ]
  },
  {
   "cell_type": "code",
   "execution_count": 18,
   "id": "ab816613-faae-41c0-9fac-1386c8f59a98",
   "metadata": {},
   "outputs": [
    {
     "data": {
      "text/plain": [
       "True"
      ]
     },
     "execution_count": 18,
     "metadata": {},
     "output_type": "execute_result"
    }
   ],
   "source": [
    "a == b"
   ]
  },
  {
   "cell_type": "code",
   "execution_count": 19,
   "id": "1c8ba814-0ab8-4cf7-8e14-1be6486f7cd2",
   "metadata": {},
   "outputs": [
    {
     "data": {
      "text/plain": [
       "True"
      ]
     },
     "execution_count": 19,
     "metadata": {},
     "output_type": "execute_result"
    }
   ],
   "source": [
    "a.issubset(b)"
   ]
  },
  {
   "cell_type": "code",
   "execution_count": 20,
   "id": "e1347d60-2f0b-4ed7-b07a-7220a6d03c66",
   "metadata": {},
   "outputs": [],
   "source": [
    "# add a new element to a\n",
    "\n",
    "a.add('YYYY')"
   ]
  },
  {
   "cell_type": "code",
   "execution_count": 21,
   "id": "01f54042-a342-41c3-8aa6-6a10e7868d9a",
   "metadata": {},
   "outputs": [
    {
     "name": "stdout",
     "output_type": "stream",
     "text": [
      "a: {2, 5, 'NEW', 7, 'YYYY'}\n",
      "b: {2, 5, 'NEW', 7, 'YYYY'}\n"
     ]
    }
   ],
   "source": [
    "print('a:', a)\n",
    "print('b:', b)"
   ]
  },
  {
   "cell_type": "markdown",
   "id": "27c4ec38-625a-4fb3-a5a9-e3f707fe70c7",
   "metadata": {},
   "source": [
    "**Adding multiple elements to a Set -> `update()`**"
   ]
  },
  {
   "cell_type": "code",
   "execution_count": 22,
   "id": "d8a28e25-138e-4e86-9d6a-22fb90f36d7d",
   "metadata": {},
   "outputs": [
    {
     "data": {
      "text/plain": [
       "{'Apple', 'Melon', 'Orange'}"
      ]
     },
     "execution_count": 22,
     "metadata": {},
     "output_type": "execute_result"
    }
   ],
   "source": [
    "fruits = {'Apple', 'Orange', 'Melon'}\n",
    "fruits"
   ]
  },
  {
   "cell_type": "code",
   "execution_count": 23,
   "id": "15c5b9fe-6df0-4151-a9f4-a30dec336333",
   "metadata": {},
   "outputs": [
    {
     "data": {
      "text/plain": [
       "['Cherry', 'Banana']"
      ]
     },
     "execution_count": 23,
     "metadata": {},
     "output_type": "execute_result"
    }
   ],
   "source": [
    "more_fruits = ['Cherry', 'Banana']\n",
    "more_fruits"
   ]
  },
  {
   "cell_type": "code",
   "execution_count": 24,
   "id": "fd710fa8-8491-4aff-95dc-011eb6e08e6e",
   "metadata": {},
   "outputs": [
    {
     "data": {
      "text/plain": [
       "{'Apple', 'Banana', 'Cherry', 'Melon', 'Orange'}"
      ]
     },
     "execution_count": 24,
     "metadata": {},
     "output_type": "execute_result"
    }
   ],
   "source": [
    "fruits.update(more_fruits)\n",
    "\n",
    "fruits"
   ]
  },
  {
   "cell_type": "code",
   "execution_count": null,
   "id": "9906f15c-b47d-4bc0-8d83-3bd414c662a1",
   "metadata": {},
   "outputs": [],
   "source": []
  }
 ],
 "metadata": {
  "kernelspec": {
   "display_name": "Python 3 (ipykernel)",
   "language": "python",
   "name": "python3"
  },
  "language_info": {
   "codemirror_mode": {
    "name": "ipython",
    "version": 3
   },
   "file_extension": ".py",
   "mimetype": "text/x-python",
   "name": "python",
   "nbconvert_exporter": "python",
   "pygments_lexer": "ipython3",
   "version": "3.8.12"
  }
 },
 "nbformat": 4,
 "nbformat_minor": 5
}
