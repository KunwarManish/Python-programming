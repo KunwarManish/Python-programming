{
 "cells": [
  {
   "cell_type": "markdown",
   "id": "e121b7be-c6c0-40b7-93af-269163be8851",
   "metadata": {},
   "source": [
    "# Loops "
   ]
  },
  {
   "cell_type": "markdown",
   "id": "479fb132-7ee2-4518-8c6a-6decb320aa99",
   "metadata": {
    "tags": []
   },
   "source": [
    "**Loop:** An iteration over a sequence."
   ]
  },
  {
   "cell_type": "markdown",
   "id": "6ab22f41-9cd7-47ac-a1c5-72f1b67ccc34",
   "metadata": {},
   "source": [
    "In Python, loops are build via **while** and **for** keywords."
   ]
  },
  {
   "cell_type": "markdown",
   "id": "41bdfa7d-9c36-4f3e-9736-5abc4ed72df7",
   "metadata": {},
   "source": [
    "# While Loop"
   ]
  },
  {
   "cell_type": "markdown",
   "id": "435aad7d-bb79-47b4-8577-7583d37f0702",
   "metadata": {},
   "source": [
    "**Example:**\n",
    "\n",
    "Let say we want to print numbers from 10 to 1 backwards."
   ]
  },
  {
   "cell_type": "code",
   "execution_count": 1,
   "id": "0c839d34-4619-43fc-b9ea-e540f421ddee",
   "metadata": {},
   "outputs": [
    {
     "name": "stdout",
     "output_type": "stream",
     "text": [
      "----- before while loop -----\n",
      "n: 10\n",
      "10\n",
      "9\n",
      "8\n",
      "7\n",
      "6\n",
      "5\n",
      "4\n",
      "3\n",
      "2\n",
      "1\n",
      "----- after while loop -----\n",
      "n: 0\n"
     ]
    }
   ],
   "source": [
    "n = 10 \n",
    "\n",
    "print(\"----- before while loop -----\")\n",
    "print(\"n:\", n)\n",
    "\n",
    "# while <condition>:\n",
    "#    .............\n",
    "#    .............\n",
    "#    .............\n",
    "    \n",
    "while n > 0:\n",
    "    print(n)\n",
    "    n = n - 1\n",
    "    \n",
    "print(\"----- after while loop -----\")\n",
    "print(\"n:\", n)"
   ]
  },
  {
   "cell_type": "markdown",
   "id": "f16f3788-b9ea-4fda-9757-af3419538428",
   "metadata": {},
   "source": [
    "**Operation of While Loop**\n",
    "\n",
    "While loop:\n",
    "\n",
    "- Checks the rule condition being True, before execution.\n",
    "- If the condition is True, it executes once (one iteration)\n",
    "- Checks the condition again, if it's True it executes again\n",
    "- This cycle goes on, it checks for the condition before starting each iteration\n",
    "- If the condition becomes False, then the loop stops."
   ]
  },
  {
   "cell_type": "markdown",
   "id": "f77074b4-b85c-4bea-9157-e68b36cba78c",
   "metadata": {},
   "source": [
    "**Condition Vaiable:**\n",
    "\n",
    "- It is important to set the condition variable\n",
    "- In the above example: **n = n - 1** \n",
    "- Since n has decreased by 1 at each iteration, eventually it became 0 and the loop stopped."
   ]
  },
  {
   "cell_type": "markdown",
   "id": "d3797d52-d605-4481-a328-25b8718862fc",
   "metadata": {},
   "source": [
    "If you do not set the condition variable properly -> Infinite Loop"
   ]
  },
  {
   "cell_type": "markdown",
   "id": "b85a805b-2c01-4e78-8fad-44d96c9b3c7d",
   "metadata": {},
   "source": [
    "**Example:**\n",
    "\n",
    "Let's find the squares of odd numbers from 1 to 20."
   ]
  },
  {
   "cell_type": "code",
   "execution_count": 2,
   "id": "1162395c-4d7b-4b44-b152-b0e8d4c80775",
   "metadata": {},
   "outputs": [
    {
     "name": "stdout",
     "output_type": "stream",
     "text": [
      "square of 1 is 1\n",
      "square of 3 is 9\n",
      "square of 5 is 25\n",
      "square of 7 is 49\n",
      "square of 9 is 81\n",
      "square of 11 is 121\n",
      "square of 13 is 169\n",
      "square of 15 is 225\n",
      "square of 17 is 289\n",
      "square of 19 is 361\n"
     ]
    }
   ],
   "source": [
    "x = 1\n",
    "\n",
    "while x <= 20:\n",
    "    \n",
    "    # odd?\n",
    "    if x % 2 == 1:\n",
    "        print(\"square of {0} is {1}\".format(x, x**2))\n",
    "        \n",
    "    # set condition variable\n",
    "    x += 1"
   ]
  },
  {
   "cell_type": "markdown",
   "id": "5f20e54d-ab62-4aca-b1de-b47029e5b4bb",
   "metadata": {},
   "source": [
    "**Example:**\n",
    "\n",
    "Let's find the sum of even numbers from 1 to 10."
   ]
  },
  {
   "cell_type": "code",
   "execution_count": 5,
   "id": "888ff855-3cd6-4d1b-ba44-4d4cb1c60d7f",
   "metadata": {},
   "outputs": [
    {
     "name": "stdout",
     "output_type": "stream",
     "text": [
      "30\n"
     ]
    }
   ],
   "source": [
    "\n",
    "k = 1\n",
    "summation = 0\n",
    "\n",
    "while k < 11:\n",
    "    \n",
    "    # even?\n",
    "    if k % 2 == 0:\n",
    "        summation += k\n",
    "    \n",
    "    # set condition variable\n",
    "    k += 1\n",
    "    \n",
    "    \n",
    "print(summation) "
   ]
  },
  {
   "cell_type": "markdown",
   "id": "1c387891-d2eb-447d-b755-b55f32b3da34",
   "metadata": {},
   "source": [
    "**Example:**\n",
    "\n",
    "Find the factors of a given number."
   ]
  },
  {
   "cell_type": "code",
   "execution_count": 6,
   "id": "b115e836-eb67-4394-8f28-8633f9a64461",
   "metadata": {},
   "outputs": [
    {
     "name": "stdin",
     "output_type": "stream",
     "text": [
      "Please enter a number: 48\n"
     ]
    },
    {
     "name": "stdout",
     "output_type": "stream",
     "text": [
      "2\n",
      "3\n",
      "4\n",
      "6\n",
      "8\n",
      "12\n",
      "16\n",
      "24\n"
     ]
    }
   ],
   "source": [
    "# ask for a number\n",
    "number = int(input(\"Please enter a number:\"))\n",
    "\n",
    "i = 2\n",
    "\n",
    "while i < number:\n",
    "    \n",
    "    # is number divisible by i? -> %\n",
    "    if number % i == 0:\n",
    "        print(i)\n",
    "        \n",
    "    # ser condition variable\n",
    "    i += 1"
   ]
  },
  {
   "cell_type": "markdown",
   "id": "2d7e891d-3827-4435-877b-1a8020b67bd8",
   "metadata": {},
   "source": [
    "**Example:**\n",
    "\n",
    "Find if a given number is a prime number?"
   ]
  },
  {
   "cell_type": "code",
   "execution_count": 8,
   "id": "8ea02dbd-f72a-4a5a-927c-3f115a742034",
   "metadata": {},
   "outputs": [
    {
     "name": "stdin",
     "output_type": "stream",
     "text": [
      "Please enter a number: 13\n"
     ]
    },
    {
     "name": "stdout",
     "output_type": "stream",
     "text": [
      "13 is PRIME\n"
     ]
    }
   ],
   "source": [
    "# ask for a number\n",
    "number = int(input(\"Please enter a number:\"))\n",
    "\n",
    "# assume the number is prime\n",
    "is_prime = True\n",
    "\n",
    "i = 2\n",
    "\n",
    "while i < number:\n",
    "    \n",
    "    # is number divisible by i? -> %\n",
    "    if number % i == 0:\n",
    "        is_prime = False\n",
    "        \n",
    "    # set condition variable\n",
    "    i = i + 1\n",
    "    \n",
    "if is_prime == True:\n",
    "    print(\"{0} is PRIME\".format(number))\n",
    "else:\n",
    "    print(\"{0} is NOT PRIME\".format(number))\n",
    "    "
   ]
  },
  {
   "cell_type": "markdown",
   "id": "f0bd8366-e818-4a38-a954-a8cce66fc024",
   "metadata": {},
   "source": [
    "# Infinite Loop\n",
    "\n",
    "i = 1\n",
    "\n",
    "while i < 10:\n",
    "    print(i)\n",
    "\n",
    "Always remeber to set condition variable."
   ]
  },
  {
   "cell_type": "code",
   "execution_count": null,
   "id": "9bf60bbb-d8d6-4143-a5ea-a9f8aaf744cf",
   "metadata": {},
   "outputs": [],
   "source": []
  }
 ],
 "metadata": {
  "kernelspec": {
   "display_name": "Python 3 (ipykernel)",
   "language": "python",
   "name": "python3"
  },
  "language_info": {
   "codemirror_mode": {
    "name": "ipython",
    "version": 3
   },
   "file_extension": ".py",
   "mimetype": "text/x-python",
   "name": "python",
   "nbconvert_exporter": "python",
   "pygments_lexer": "ipython3",
   "version": "3.8.12"
  }
 },
 "nbformat": 4,
 "nbformat_minor": 5
}
