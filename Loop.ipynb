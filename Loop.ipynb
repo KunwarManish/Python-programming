{
 "cells": [
  {
   "cell_type": "markdown",
   "id": "e121b7be-c6c0-40b7-93af-269163be8851",
   "metadata": {},
   "source": [
    "# Loops "
   ]
  },
  {
   "cell_type": "markdown",
   "id": "479fb132-7ee2-4518-8c6a-6decb320aa99",
   "metadata": {
    "tags": []
   },
   "source": [
    "**Loop:** An iteration over a sequence."
   ]
  },
  {
   "cell_type": "markdown",
   "id": "6ab22f41-9cd7-47ac-a1c5-72f1b67ccc34",
   "metadata": {},
   "source": [
    "In Python, loops are build via **while** and **for** keywords."
   ]
  },
  {
   "cell_type": "markdown",
   "id": "41bdfa7d-9c36-4f3e-9736-5abc4ed72df7",
   "metadata": {},
   "source": [
    "# While Loop"
   ]
  },
  {
   "cell_type": "markdown",
   "id": "435aad7d-bb79-47b4-8577-7583d37f0702",
   "metadata": {},
   "source": [
    "**Example:**\n",
    "\n",
    "Let say we want to print numbers from 10 to 1 backwards."
   ]
  },
  {
   "cell_type": "code",
   "execution_count": 1,
   "id": "0c839d34-4619-43fc-b9ea-e540f421ddee",
   "metadata": {},
   "outputs": [
    {
     "name": "stdout",
     "output_type": "stream",
     "text": [
      "----- before while loop -----\n",
      "n: 10\n",
      "10\n",
      "9\n",
      "8\n",
      "7\n",
      "6\n",
      "5\n",
      "4\n",
      "3\n",
      "2\n",
      "1\n",
      "----- after while loop -----\n",
      "n: 0\n"
     ]
    }
   ],
   "source": [
    "n = 10 \n",
    "\n",
    "print(\"----- before while loop -----\")\n",
    "print(\"n:\", n)\n",
    "\n",
    "# while <condition>:\n",
    "#    .............\n",
    "#    .............\n",
    "#    .............\n",
    "    \n",
    "while n > 0:\n",
    "    print(n)\n",
    "    n = n - 1\n",
    "    \n",
    "print(\"----- after while loop -----\")\n",
    "print(\"n:\", n)"
   ]
  },
  {
   "cell_type": "markdown",
   "id": "f16f3788-b9ea-4fda-9757-af3419538428",
   "metadata": {},
   "source": [
    "**Operation of While Loop**\n",
    "\n",
    "While loop:\n",
    "\n",
    "- Checks the rule condition being True, before execution.\n",
    "- If the condition is True, it executes once (one iteration)\n",
    "- Checks the condition again, if it's True it executes again\n",
    "- This cycle goes on, it checks for the condition before starting each iteration\n",
    "- If the condition becomes False, then the loop stops."
   ]
  },
  {
   "cell_type": "markdown",
   "id": "f77074b4-b85c-4bea-9157-e68b36cba78c",
   "metadata": {},
   "source": [
    "**Condition Vaiable:**\n",
    "\n",
    "- It is important to set the condition variable\n",
    "- In the above example: **n = n - 1** \n",
    "- Since n has decreased by 1 at each iteration, eventually it became 0 and the loop stopped."
   ]
  },
  {
   "cell_type": "markdown",
   "id": "d3797d52-d605-4481-a328-25b8718862fc",
   "metadata": {},
   "source": [
    "If you do not set the condition variable properly -> Infinite Loop"
   ]
  },
  {
   "cell_type": "markdown",
   "id": "b85a805b-2c01-4e78-8fad-44d96c9b3c7d",
   "metadata": {},
   "source": [
    "**Example:**\n",
    "\n",
    "Let's find the squares of odd numbers from 1 to 20."
   ]
  },
  {
   "cell_type": "code",
   "execution_count": 2,
   "id": "1162395c-4d7b-4b44-b152-b0e8d4c80775",
   "metadata": {},
   "outputs": [
    {
     "name": "stdout",
     "output_type": "stream",
     "text": [
      "square of 1 is 1\n",
      "square of 3 is 9\n",
      "square of 5 is 25\n",
      "square of 7 is 49\n",
      "square of 9 is 81\n",
      "square of 11 is 121\n",
      "square of 13 is 169\n",
      "square of 15 is 225\n",
      "square of 17 is 289\n",
      "square of 19 is 361\n"
     ]
    }
   ],
   "source": [
    "x = 1\n",
    "\n",
    "while x <= 20:\n",
    "    \n",
    "    # odd?\n",
    "    if x % 2 == 1:\n",
    "        print(\"square of {0} is {1}\".format(x, x**2))\n",
    "        \n",
    "    # set condition variable\n",
    "    x += 1"
   ]
  },
  {
   "cell_type": "markdown",
   "id": "5f20e54d-ab62-4aca-b1de-b47029e5b4bb",
   "metadata": {},
   "source": [
    "**Example:**\n",
    "\n",
    "Let's find the sum of even numbers from 1 to 10."
   ]
  },
  {
   "cell_type": "code",
   "execution_count": 5,
   "id": "888ff855-3cd6-4d1b-ba44-4d4cb1c60d7f",
   "metadata": {},
   "outputs": [
    {
     "name": "stdout",
     "output_type": "stream",
     "text": [
      "30\n"
     ]
    }
   ],
   "source": [
    "\n",
    "k = 1\n",
    "summation = 0\n",
    "\n",
    "while k < 11:\n",
    "    \n",
    "    # even?\n",
    "    if k % 2 == 0:\n",
    "        summation += k\n",
    "    \n",
    "    # set condition variable\n",
    "    k += 1\n",
    "    \n",
    "    \n",
    "print(summation) "
   ]
  },
  {
   "cell_type": "markdown",
   "id": "1c387891-d2eb-447d-b755-b55f32b3da34",
   "metadata": {},
   "source": [
    "**Example:**\n",
    "\n",
    "Find the factors of a given number."
   ]
  },
  {
   "cell_type": "code",
   "execution_count": 6,
   "id": "b115e836-eb67-4394-8f28-8633f9a64461",
   "metadata": {},
   "outputs": [
    {
     "name": "stdin",
     "output_type": "stream",
     "text": [
      "Please enter a number: 48\n"
     ]
    },
    {
     "name": "stdout",
     "output_type": "stream",
     "text": [
      "2\n",
      "3\n",
      "4\n",
      "6\n",
      "8\n",
      "12\n",
      "16\n",
      "24\n"
     ]
    }
   ],
   "source": [
    "# ask for a number\n",
    "number = int(input(\"Please enter a number:\"))\n",
    "\n",
    "i = 2\n",
    "\n",
    "while i < number:\n",
    "    \n",
    "    # is number divisible by i? -> %\n",
    "    if number % i == 0:\n",
    "        print(i)\n",
    "        \n",
    "    # ser condition variable\n",
    "    i += 1"
   ]
  },
  {
   "cell_type": "markdown",
   "id": "2d7e891d-3827-4435-877b-1a8020b67bd8",
   "metadata": {},
   "source": [
    "**Example:**\n",
    "\n",
    "Find if a given number is a prime number?"
   ]
  },
  {
   "cell_type": "code",
   "execution_count": 8,
   "id": "8ea02dbd-f72a-4a5a-927c-3f115a742034",
   "metadata": {},
   "outputs": [
    {
     "name": "stdin",
     "output_type": "stream",
     "text": [
      "Please enter a number: 13\n"
     ]
    },
    {
     "name": "stdout",
     "output_type": "stream",
     "text": [
      "13 is PRIME\n"
     ]
    }
   ],
   "source": [
    "# ask for a number\n",
    "number = int(input(\"Please enter a number:\"))\n",
    "\n",
    "# assume the number is prime\n",
    "is_prime = True\n",
    "\n",
    "i = 2\n",
    "\n",
    "while i < number:\n",
    "    \n",
    "    # is number divisible by i? -> %\n",
    "    if number % i == 0:\n",
    "        is_prime = False\n",
    "        \n",
    "    # set condition variable\n",
    "    i = i + 1\n",
    "    \n",
    "if is_prime == True:\n",
    "    print(\"{0} is PRIME\".format(number))\n",
    "else:\n",
    "    print(\"{0} is NOT PRIME\".format(number))\n",
    "    "
   ]
  },
  {
   "cell_type": "markdown",
   "id": "f0bd8366-e818-4a38-a954-a8cce66fc024",
   "metadata": {},
   "source": [
    "# Infinite Loop\n",
    "\n",
    "i = 1\n",
    "\n",
    "while i < 10:\n",
    "    print(i)\n",
    "\n",
    "Always remeber to set condition variable."
   ]
  },
  {
   "cell_type": "markdown",
   "id": "602184d7-1510-46b0-be40-d293cf54d61c",
   "metadata": {},
   "source": [
    "# For Loop"
   ]
  },
  {
   "cell_type": "markdown",
   "id": "b8713e70-8897-4bc8-8554-ae5b3ef1770a",
   "metadata": {},
   "source": [
    "**Example:**\n",
    "\n",
    "Print numbers from 0 to 10."
   ]
  },
  {
   "cell_type": "code",
   "execution_count": 4,
   "id": "357225c8-dea6-4511-912d-c6ec8cf37826",
   "metadata": {},
   "outputs": [
    {
     "name": "stdout",
     "output_type": "stream",
     "text": [
      "0\n",
      "1\n",
      "2\n",
      "3\n",
      "4\n",
      "5\n",
      "6\n",
      "7\n",
      "8\n",
      "9\n"
     ]
    }
   ],
   "source": [
    "\n",
    "for i in range(10):\n",
    "    print(i)"
   ]
  },
  {
   "cell_type": "code",
   "execution_count": 5,
   "id": "d31b2cd1-803f-4a6c-b577-c33fcf647e03",
   "metadata": {},
   "outputs": [
    {
     "data": {
      "text/plain": [
       "range(0, 10)"
      ]
     },
     "execution_count": 5,
     "metadata": {},
     "output_type": "execute_result"
    }
   ],
   "source": [
    "range(10)"
   ]
  },
  {
   "cell_type": "raw",
   "id": "4b7c153c-b421-43bf-8efa-31e9a0c82938",
   "metadata": {},
   "source": [
    "for <loop_variable> in <sequence>:\n",
    "    ..............\n",
    "    .............."
   ]
  },
  {
   "cell_type": "markdown",
   "id": "1fda3446-55d0-4438-9407-87518968bc37",
   "metadata": {},
   "source": [
    "**For Loop Properties:**\n",
    "\n",
    "* Loops over a sequence, list, string, range...\n",
    "* range (start, end, step)\n",
    "    * start -> inc\n",
    "    * end -> exc\n",
    "    * step -> 1"
   ]
  },
  {
   "cell_type": "markdown",
   "id": "1b692a1d-00b4-44f0-a365-751872ba26d7",
   "metadata": {},
   "source": [
    "**Example:**\n",
    "\n",
    "Print numbers from 1 to 10, step size 2."
   ]
  },
  {
   "cell_type": "code",
   "execution_count": 6,
   "id": "94c13372-e6e3-4749-ba20-115a002cdbd8",
   "metadata": {},
   "outputs": [
    {
     "name": "stdout",
     "output_type": "stream",
     "text": [
      "1\n",
      "3\n",
      "5\n",
      "7\n",
      "9\n"
     ]
    }
   ],
   "source": [
    "for i in range(1, 10, 2):\n",
    "    print(i)"
   ]
  },
  {
   "cell_type": "markdown",
   "id": "a39fae5f-0e5e-4c3e-9619-bd52928c8566",
   "metadata": {},
   "source": [
    "**Example:**\n",
    "\n",
    "Print numbers from 5 up to 30 (included), and step size is 3."
   ]
  },
  {
   "cell_type": "code",
   "execution_count": 7,
   "id": "df7492f7-b203-46f3-8657-99e6712edae9",
   "metadata": {},
   "outputs": [
    {
     "name": "stdout",
     "output_type": "stream",
     "text": [
      "5\n",
      "8\n",
      "11\n",
      "14\n",
      "17\n",
      "20\n",
      "23\n",
      "26\n",
      "29\n"
     ]
    }
   ],
   "source": [
    "\n",
    "for i in range(5, 31, 3):\n",
    "    print(i)\n"
   ]
  },
  {
   "cell_type": "markdown",
   "id": "2af5de9e-1a81-4518-9a1e-8541671abb5a",
   "metadata": {},
   "source": [
    "**Example:**\n",
    "\n",
    "Find all factors of a given number."
   ]
  },
  {
   "cell_type": "code",
   "execution_count": 8,
   "id": "561b578a-7143-42c4-9263-2682d94c8e4b",
   "metadata": {},
   "outputs": [
    {
     "name": "stdin",
     "output_type": "stream",
     "text": [
      "Please enter a number:  24\n"
     ]
    },
    {
     "name": "stdout",
     "output_type": "stream",
     "text": [
      "2\n",
      "3\n",
      "4\n",
      "6\n",
      "8\n",
      "12\n"
     ]
    }
   ],
   "source": [
    "# ask for a number\n",
    "number = int(input(\"Please enter a number: \"))\n",
    "\n",
    "# factors -> start at 2 -> number\n",
    "\n",
    "for x in range(2, number):\n",
    "    \n",
    "    # is number divisible by x \n",
    "    if number % x == 0:\n",
    "        print(x)"
   ]
  },
  {
   "cell_type": "markdown",
   "id": "720af239-453b-4fcb-888a-82539a0f13b9",
   "metadata": {},
   "source": [
    "**Example:**\n",
    "\n",
    "Check if a given number is prime."
   ]
  },
  {
   "cell_type": "code",
   "execution_count": 10,
   "id": "27545d88-e9ee-48b9-aba6-5c5c0b825fc3",
   "metadata": {},
   "outputs": [
    {
     "name": "stdin",
     "output_type": "stream",
     "text": [
      "Please enter a number:  12\n"
     ]
    },
    {
     "name": "stdout",
     "output_type": "stream",
     "text": [
      "12 is NOT PRIME\n"
     ]
    }
   ],
   "source": [
    "# ask for a number\n",
    "number = int(input(\"Please enter a number: \"))\n",
    "\n",
    "# assume prime\n",
    "is_prime = True\n",
    "\n",
    "for p in range(2, number):\n",
    "    \n",
    "    # divisibility \n",
    "    if number % p == 0:\n",
    "        is_prime = False\n",
    "        \n",
    "if is_prime:\n",
    "    print(\"{} is PRIME\".format(number))\n",
    "else:\n",
    "    print(\"{} is NOT PRIME\".format(number))\n",
    "    "
   ]
  },
  {
   "cell_type": "markdown",
   "id": "a81273da-f13a-4287-a3ec-955e73a60f21",
   "metadata": {},
   "source": [
    "**Example:**\n",
    "\n",
    "Print odd numbers from 20 to 1 (exc), backwards."
   ]
  },
  {
   "cell_type": "code",
   "execution_count": 11,
   "id": "8eabf464-1668-4f4f-b763-79510ae3ebfc",
   "metadata": {},
   "outputs": [
    {
     "name": "stdout",
     "output_type": "stream",
     "text": [
      "19\n",
      "17\n",
      "15\n",
      "13\n",
      "11\n",
      "9\n",
      "7\n",
      "5\n",
      "3\n"
     ]
    }
   ],
   "source": [
    "# range(start, end, step)\n",
    "# step -> - (minus) -> backwards\n",
    "\n",
    "for i in range(20, 1, -1):\n",
    "    if i % 2 == 1:\n",
    "        print(i)\n",
    "    "
   ]
  },
  {
   "cell_type": "markdown",
   "id": "0dc223e3-cdf2-43bf-851c-4b19366a123a",
   "metadata": {},
   "source": [
    "**Example:**\n",
    "\n",
    "Print odd numbers from 20 to 1 (inc), backwards."
   ]
  },
  {
   "cell_type": "code",
   "execution_count": 12,
   "id": "aa22e50b-d2d7-4fa1-a54f-1992edb69b25",
   "metadata": {},
   "outputs": [
    {
     "name": "stdout",
     "output_type": "stream",
     "text": [
      "19\n",
      "17\n",
      "15\n",
      "13\n",
      "11\n",
      "9\n",
      "7\n",
      "5\n",
      "3\n",
      "1\n"
     ]
    }
   ],
   "source": [
    "# range(start, end, step)\n",
    "# step -> - (minus) -> backwards\n",
    "\n",
    "for i in range(20, 0, -1):\n",
    "    if i % 2 == 1:\n",
    "        print(i)\n",
    "    "
   ]
  },
  {
   "cell_type": "markdown",
   "id": "23838e0a-a3cf-4e0e-af50-7c562caf3b3f",
   "metadata": {},
   "source": [
    "# Loop Over Strings with For"
   ]
  },
  {
   "cell_type": "code",
   "execution_count": 2,
   "id": "e6045f0a-36cb-4605-a1e9-421b0830a160",
   "metadata": {},
   "outputs": [
    {
     "name": "stdout",
     "output_type": "stream",
     "text": [
      "P\n",
      "y\n",
      "t\n",
      "h\n",
      "o\n",
      "n\n"
     ]
    }
   ],
   "source": [
    "\n",
    "text = 'Python'\n",
    "\n",
    "for character in text:\n",
    "    print(character)"
   ]
  },
  {
   "cell_type": "markdown",
   "id": "dfa46a44-2327-4fd0-a7a3-9f307039204d",
   "metadata": {},
   "source": [
    "**Example:**\n",
    "\n",
    "Concatenate the given text characters with \"-\".\n",
    "\n",
    "Python\n",
    "P-y-t-h-o-n"
   ]
  },
  {
   "cell_type": "code",
   "execution_count": 3,
   "id": "a5cb8d39-0b2f-4dff-ac76-123b94bcac6a",
   "metadata": {},
   "outputs": [
    {
     "name": "stdin",
     "output_type": "stream",
     "text": [
      "Please enter a text:  pandas\n"
     ]
    },
    {
     "name": "stdout",
     "output_type": "stream",
     "text": [
      "p-a-n-d-a-s-\n"
     ]
    }
   ],
   "source": [
    "# ask for an input\n",
    "user_input = input(\"Please enter a text: \")\n",
    "\n",
    "# variable for new input\n",
    "new_input = \"\"\n",
    "\n",
    "# Loop\n",
    "for letter in user_input:\n",
    "    \n",
    "    # add - after character and concatenate into new_input\n",
    "    new_input += letter + \"-\"\n",
    "    \n",
    "    \n",
    "print(new_input)"
   ]
  },
  {
   "cell_type": "markdown",
   "id": "da5473f6-1bac-44ac-8b12-2651396392dd",
   "metadata": {},
   "source": [
    "## len()"
   ]
  },
  {
   "cell_type": "markdown",
   "id": "d9cb38cc-bab6-4321-b2e4-e5988ba67520",
   "metadata": {},
   "source": [
    "In Python, for sequence types (str, list, ...), to get length of the object we use **len()** function."
   ]
  },
  {
   "cell_type": "code",
   "execution_count": 1,
   "id": "a6f1606b-c2e5-4cc4-b8d9-e2e9e0a4df18",
   "metadata": {},
   "outputs": [
    {
     "data": {
      "text/plain": [
       "6"
      ]
     },
     "execution_count": 1,
     "metadata": {},
     "output_type": "execute_result"
    }
   ],
   "source": [
    "len(\"Python\")"
   ]
  },
  {
   "cell_type": "code",
   "execution_count": 2,
   "id": "aaffd252-69c6-48f8-a0b7-d027808dbad8",
   "metadata": {},
   "outputs": [
    {
     "data": {
      "text/plain": [
       "[1, 2, 3, 'A', 'B']"
      ]
     },
     "execution_count": 2,
     "metadata": {},
     "output_type": "execute_result"
    }
   ],
   "source": [
    "list_of_numbers_and_letters = [1, 2, 3, 'A', 'B']\n",
    "list_of_numbers_and_letters"
   ]
  },
  {
   "cell_type": "code",
   "execution_count": 3,
   "id": "4ef4e366-55a0-4e6c-97d1-03c9c8cb1c6b",
   "metadata": {},
   "outputs": [
    {
     "data": {
      "text/plain": [
       "5"
      ]
     },
     "execution_count": 3,
     "metadata": {},
     "output_type": "execute_result"
    }
   ],
   "source": [
    "len(list_of_numbers_and_letters)"
   ]
  },
  {
   "cell_type": "code",
   "execution_count": 5,
   "id": "f787f025-f61d-417e-b65e-37e5358ca2cb",
   "metadata": {},
   "outputs": [
    {
     "name": "stdin",
     "output_type": "stream",
     "text": [
      "Please enter a text to learn its length: Machine Learning\n"
     ]
    },
    {
     "name": "stdout",
     "output_type": "stream",
     "text": [
      "16\n"
     ]
    }
   ],
   "source": [
    "# ask for an input\n",
    "user_input = input(\"Please enter a text to learn its length:\")\n",
    "\n",
    "# get the length of the text\n",
    "length = len(user_input)\n",
    "\n",
    "print(length)"
   ]
  },
  {
   "cell_type": "code",
   "execution_count": 6,
   "id": "6c0fa850-287b-442a-88dd-980bb4178126",
   "metadata": {},
   "outputs": [
    {
     "data": {
      "text/plain": [
       "\u001b[1;31mSignature:\u001b[0m \u001b[0mlen\u001b[0m\u001b[1;33m(\u001b[0m\u001b[0mobj\u001b[0m\u001b[1;33m,\u001b[0m \u001b[1;33m/\u001b[0m\u001b[1;33m)\u001b[0m\u001b[1;33m\u001b[0m\u001b[1;33m\u001b[0m\u001b[0m\n",
       "\u001b[1;31mDocstring:\u001b[0m Return the number of items in a container.\n",
       "\u001b[1;31mType:\u001b[0m      builtin_function_or_method\n"
      ]
     },
     "metadata": {},
     "output_type": "display_data"
    }
   ],
   "source": [
    "len?"
   ]
  },
  {
   "cell_type": "markdown",
   "id": "9ab3c95a-c786-4ed5-b7f0-4505253af830",
   "metadata": {},
   "source": [
    "# enumerate()"
   ]
  },
  {
   "cell_type": "markdown",
   "id": "1ad20ca0-04de-4969-a17a-6099dd153b0b",
   "metadata": {},
   "source": [
    "In Python, when looping over sequences we might need the index of current iteration.\n",
    "\n",
    "**enumerate()** to get index."
   ]
  },
  {
   "cell_type": "markdown",
   "id": "b3c0316c-c3cc-4c09-8b04-a627368fab59",
   "metadata": {},
   "source": [
    "**Example:**\n",
    "\n",
    "Remove the unnecassary \"-\" from the end of text in the above example."
   ]
  },
  {
   "cell_type": "code",
   "execution_count": 4,
   "id": "69123ef3-c7c5-446c-a0e6-deabb1c8861f",
   "metadata": {},
   "outputs": [
    {
     "name": "stdin",
     "output_type": "stream",
     "text": [
      "Please enter a text:  pandas\n"
     ]
    },
    {
     "name": "stdout",
     "output_type": "stream",
     "text": [
      "p-a-n-d-a-s\n"
     ]
    }
   ],
   "source": [
    "# ask for an input\n",
    "user_input = input(\"Please enter a text: \")\n",
    "\n",
    "# variable for new input\n",
    "new_input = \"\"\n",
    "\n",
    "# Loop with enumerate\n",
    "for index, letter in enumerate(user_input):\n",
    "    \n",
    "    # concatenate the letter\n",
    "    new_input += letter \n",
    "    \n",
    "    # if this is the last index\n",
    "    if index < len(user_input) -1:\n",
    "        new_input += \"-\"\n",
    "        \n",
    "print(new_input)"
   ]
  },
  {
   "cell_type": "code",
   "execution_count": 1,
   "id": "57c89916-26bd-43e3-af77-55251602db08",
   "metadata": {},
   "outputs": [
    {
     "data": {
      "text/plain": [
       "\u001b[1;31mInit signature:\u001b[0m \u001b[0menumerate\u001b[0m\u001b[1;33m(\u001b[0m\u001b[0miterable\u001b[0m\u001b[1;33m,\u001b[0m \u001b[0mstart\u001b[0m\u001b[1;33m=\u001b[0m\u001b[1;36m0\u001b[0m\u001b[1;33m)\u001b[0m\u001b[1;33m\u001b[0m\u001b[1;33m\u001b[0m\u001b[0m\n",
       "\u001b[1;31mDocstring:\u001b[0m     \n",
       "Return an enumerate object.\n",
       "\n",
       "  iterable\n",
       "    an object supporting iteration\n",
       "\n",
       "The enumerate object yields pairs containing a count (from start, which\n",
       "defaults to zero) and a value yielded by the iterable argument.\n",
       "\n",
       "enumerate is useful for obtaining an indexed list:\n",
       "    (0, seq[0]), (1, seq[1]), (2, seq[2]), ...\n",
       "\u001b[1;31mType:\u001b[0m           type\n",
       "\u001b[1;31mSubclasses:\u001b[0m     \n"
      ]
     },
     "metadata": {},
     "output_type": "display_data"
    }
   ],
   "source": [
    "enumerate?"
   ]
  },
  {
   "cell_type": "code",
   "execution_count": 3,
   "id": "2ff445c9-64d8-45e3-8547-2467a1d1bdfa",
   "metadata": {},
   "outputs": [
    {
     "data": {
      "text/plain": [
       "6"
      ]
     },
     "execution_count": 3,
     "metadata": {},
     "output_type": "execute_result"
    }
   ],
   "source": [
    "len('pandas')"
   ]
  },
  {
   "cell_type": "markdown",
   "id": "146368a8-bc85-494e-9e37-e450808f14cb",
   "metadata": {},
   "source": [
    "In python -> indices start from 0.\n",
    "\n",
    "pandas -> \n",
    "0, 1, 2, 3, 4, 5"
   ]
  },
  {
   "cell_type": "code",
   "execution_count": 5,
   "id": "2bf2f5fd-f641-47e8-8c91-f3d884978f3f",
   "metadata": {},
   "outputs": [
    {
     "name": "stdout",
     "output_type": "stream",
     "text": [
      "0\n",
      "1\n",
      "2\n",
      "3\n",
      "4\n",
      "5\n"
     ]
    }
   ],
   "source": [
    "# 0, 1, 2, 3, 4, 5\n",
    "\n",
    "for index, letter in enumerate('pandas'):\n",
    "    print(index)"
   ]
  },
  {
   "cell_type": "markdown",
   "id": "dd93c32f-2cef-41fb-94be-3944a563eb62",
   "metadata": {},
   "source": [
    "# index Example "
   ]
  },
  {
   "cell_type": "markdown",
   "id": "972d2a69-9ace-482e-a79a-e24c25155edb",
   "metadata": {},
   "source": [
    "Start from 10, print up to 100 (inc) with step size of 5."
   ]
  },
  {
   "cell_type": "code",
   "execution_count": 3,
   "id": "04e32c78-0e7c-44f8-afac-ecc8f86224ca",
   "metadata": {},
   "outputs": [
    {
     "data": {
      "text/plain": [
       "(10, 15, 20, Ellipsis, 100)"
      ]
     },
     "execution_count": 3,
     "metadata": {},
     "output_type": "execute_result"
    }
   ],
   "source": [
    "10, 15, 20, ..., 100"
   ]
  },
  {
   "cell_type": "markdown",
   "id": "1bdc4646-610b-484a-8725-17c82ba674a4",
   "metadata": {},
   "source": [
    "Find \n",
    "\n",
    "the number in index of 5 = the number of in 6th order.\n",
    "\n",
    "`Indices start from 0.`"
   ]
  },
  {
   "cell_type": "code",
   "execution_count": 4,
   "id": "9259cafe-7f04-4482-9e65-296919cb3964",
   "metadata": {},
   "outputs": [
    {
     "name": "stdout",
     "output_type": "stream",
     "text": [
      "10\n",
      "15\n",
      "20\n",
      "25\n",
      "30\n",
      "35\n",
      "40\n",
      "45\n",
      "50\n",
      "55\n",
      "60\n",
      "65\n",
      "70\n",
      "75\n",
      "80\n",
      "85\n",
      "90\n",
      "95\n",
      "100\n"
     ]
    }
   ],
   "source": [
    "\n",
    "# first let's see the numbers\n",
    "\n",
    "for number in range(10, 101, 5):\n",
    "    print(number)"
   ]
  },
  {
   "cell_type": "code",
   "execution_count": 5,
   "id": "b3c1dbaa-61d5-4007-977b-7ae61e8f1dcf",
   "metadata": {},
   "outputs": [
    {
     "name": "stdout",
     "output_type": "stream",
     "text": [
      "35\n"
     ]
    }
   ],
   "source": [
    "# index 5 -> element in 6th order\n",
    "\n",
    "number_range = range(10, 101, 5)\n",
    "\n",
    "for index, number in enumerate(number_range):\n",
    "    \n",
    "    if index == 5:\n",
    "        print(number)\n",
    "        "
   ]
  },
  {
   "cell_type": "code",
   "execution_count": 6,
   "id": "dda197b7-7da6-4255-a4eb-f92fca158ba9",
   "metadata": {},
   "outputs": [
    {
     "name": "stdout",
     "output_type": "stream",
     "text": [
      "35\n"
     ]
    }
   ],
   "source": [
    "\n",
    "# do it in one line\n",
    "\n",
    "for i, num in enumerate(range(10, 101, 5)):\n",
    "    if i == 5:\n",
    "        print(num)"
   ]
  },
  {
   "cell_type": "markdown",
   "id": "74fd5f19-88a5-4e78-ba8c-6ac11e3ba9bb",
   "metadata": {},
   "source": [
    "# Nested Loops"
   ]
  },
  {
   "cell_type": "raw",
   "id": "bb8f07f0-f9cb-4edb-a981-5be40a2dbdf3",
   "metadata": {},
   "source": [
    "for .....:\n",
    "    \n",
    "    for .....:\n",
    "    \n",
    "    for .....:\n",
    "        \n",
    "        for .....:"
   ]
  },
  {
   "cell_type": "markdown",
   "id": "c166222f-0fd8-4078-83d2-d017b356c6db",
   "metadata": {},
   "source": [
    "**Example:**\n",
    "\n",
    "We will draw a square of stars on screen.\n",
    "\n",
    "3 stars on a rows and 3 stars on a column."
   ]
  },
  {
   "cell_type": "code",
   "execution_count": 2,
   "id": "5bf01ae2-5a2f-4d5b-9a9d-53f2e67e4e87",
   "metadata": {},
   "outputs": [
    {
     "name": "stdout",
     "output_type": "stream",
     "text": [
      " *  *  * \n",
      " *  *  * \n",
      " *  *  * \n"
     ]
    }
   ],
   "source": [
    "\n",
    "# while\n",
    "\n",
    "i = 0\n",
    "\n",
    "# rows\n",
    "while i < 3:\n",
    "    \n",
    "    stars = \"\"\n",
    "    \n",
    "    # columns\n",
    "    j = 0\n",
    "    \n",
    "    while j < 3:\n",
    "        stars += \" * \"\n",
    "        j += 1\n",
    "        \n",
    "    # print the rows stars\n",
    "    print(stars)\n",
    "    \n",
    "    i += 1\n",
    "    "
   ]
  },
  {
   "cell_type": "code",
   "execution_count": 3,
   "id": "3208b7ba-a835-428d-9674-7246e1bc1097",
   "metadata": {},
   "outputs": [
    {
     "name": "stdout",
     "output_type": "stream",
     "text": [
      " *  *  * \n",
      " *  *  * \n",
      " *  *  * \n"
     ]
    }
   ],
   "source": [
    "\n",
    "# for \n",
    "\n",
    "# iterate over rows \n",
    "    # iterate over columns\n",
    "    \n",
    "# rows    \n",
    "for i in range(3):\n",
    "    \n",
    "    stars = \"\"\n",
    "    \n",
    "    # columns\n",
    "    for j in range(3):\n",
    "        stars += \" * \"\n",
    "        \n",
    "    print(stars)"
   ]
  },
  {
   "cell_type": "markdown",
   "id": "2b320878-9e5e-4314-a156-1cef7854fb23",
   "metadata": {},
   "source": [
    "# Exit Loop : `break`"
   ]
  },
  {
   "cell_type": "markdown",
   "id": "182ce058-6a40-4d7a-9d6a-132ccc50b40c",
   "metadata": {},
   "source": [
    "**Example:**\n",
    "\n",
    "Let's print the letter of a string.\n",
    "\n",
    "If we encounter a space character we will exit the loop."
   ]
  },
  {
   "cell_type": "code",
   "execution_count": 2,
   "id": "f6624fd4-542d-4afe-9fc7-3adbeb511ded",
   "metadata": {},
   "outputs": [
    {
     "name": "stdin",
     "output_type": "stream",
     "text": [
      "Please entr a text:  abc xyz asdffsdf\n"
     ]
    },
    {
     "name": "stdout",
     "output_type": "stream",
     "text": [
      "----- before the loop -----\n",
      "a\n",
      "b\n",
      "c\n",
      "------ after the loop -------\n"
     ]
    }
   ],
   "source": [
    "# ask for an input \n",
    "\n",
    "text = input(\"Please entr a text: \")\n",
    "\n",
    "print(\"----- before the loop -----\")\n",
    "\n",
    "for character in text:\n",
    "    \n",
    "    # check is space \n",
    "    if character == ' ':\n",
    "        break\n",
    "    \n",
    "    # if not space -> print it\n",
    "    print(character)\n",
    "    \n",
    "print(\"------ after the loop -------\")"
   ]
  },
  {
   "cell_type": "markdown",
   "id": "b5fe15bb-a0e0-4702-9104-9961dca5a23a",
   "metadata": {},
   "source": [
    "**Example:**\n",
    "\n",
    "Start from 30 up to 100 and print the numbers.\n",
    "\n",
    "If the number is a multiple of 11 we terminate execution."
   ]
  },
  {
   "cell_type": "code",
   "execution_count": 3,
   "id": "4d1160dc-bbaf-40ad-bd4f-e9534f2ca366",
   "metadata": {},
   "outputs": [
    {
     "name": "stdout",
     "output_type": "stream",
     "text": [
      "----- before the loop -----\n",
      "30\n",
      "31\n",
      "32\n",
      "33\n",
      "----- after the loop -----\n"
     ]
    }
   ],
   "source": [
    "# multiple of 11\n",
    "\n",
    "print(\"----- before the loop -----\")\n",
    "\n",
    "for i in range(30, 101):\n",
    "    \n",
    "    # check for multiple of 11\n",
    "    if i % 11 == 0:\n",
    "        print(i)\n",
    "        break\n",
    "    else:\n",
    "        # it is not a multiple of 11\n",
    "        print(i)\n",
    "        \n",
    "print(\"----- after the loop -----\")"
   ]
  },
  {
   "cell_type": "markdown",
   "id": "94bd1bf2-c4e1-43dd-8257-34abc620dabf",
   "metadata": {},
   "source": [
    "# Skip to the Next Iteration: `continue`"
   ]
  },
  {
   "cell_type": "markdown",
   "id": "436fece9-d39a-4994-abe9-587501ca204c",
   "metadata": {},
   "source": [
    "Sometimes we need only to skip the current iteretion and pass with the next one."
   ]
  },
  {
   "cell_type": "markdown",
   "id": "d35e3d79-3ae3-429f-b9e9-af785c3e7c91",
   "metadata": {},
   "source": [
    "For these cases-> **continue**"
   ]
  },
  {
   "cell_type": "markdown",
   "id": "557d18fd-56aa-4c38-a229-c2eace5f2f61",
   "metadata": {},
   "source": [
    "`continue` will not finalize all the loop (like break) it will only **finalize the current iteration.**"
   ]
  },
  {
   "cell_type": "markdown",
   "id": "33812751-abcf-40f3-8898-17caf863e165",
   "metadata": {},
   "source": [
    "**Example:**\n",
    "\n",
    "We want to print even numbers from 1 to 10.\n",
    "\n",
    "`continue`"
   ]
  },
  {
   "cell_type": "code",
   "execution_count": 1,
   "id": "d4422498-99f2-48d3-90dd-f8d8f14776be",
   "metadata": {},
   "outputs": [
    {
     "name": "stdout",
     "output_type": "stream",
     "text": [
      "2\n",
      "4\n",
      "6\n",
      "8\n",
      "10\n"
     ]
    }
   ],
   "source": [
    "\n",
    "for i in range(1, 11):\n",
    "    \n",
    "    # if odd\n",
    "    if i % 2 == 1:\n",
    "        continue\n",
    "    \n",
    "    # if it comes here, which means it is even\n",
    "    print(i)\n",
    "    \n",
    "    "
   ]
  },
  {
   "cell_type": "markdown",
   "id": "717e1323-f5eb-44d4-b213-2e4a6415f341",
   "metadata": {},
   "source": [
    "**Example:**\n",
    "\n",
    "Print the letters in a string.\n",
    "\n",
    "If we encounter the space character we will skip that character.\n",
    "\n",
    "We will print all the chars but space."
   ]
  },
  {
   "cell_type": "code",
   "execution_count": null,
   "id": "e6b98e6e-71ca-4f71-9569-fdf31d96fce4",
   "metadata": {},
   "outputs": [
    {
     "name": "stdin",
     "output_type": "stream",
     "text": [
      "Please enter a text:  Python Machine Learning\n"
     ]
    },
    {
     "name": "stdout",
     "output_type": "stream",
     "text": [
      "P\n",
      "y\n",
      "t\n",
      "h\n",
      "o\n",
      "n\n",
      " \n",
      "M\n",
      "a\n",
      "c\n",
      "h\n",
      "i\n",
      "n\n",
      "e\n",
      " \n",
      "L\n",
      "e\n",
      "a\n",
      "r\n",
      "n\n",
      "i\n",
      "n\n",
      "g\n"
     ]
    }
   ],
   "source": [
    "# ask for an input\n",
    "text = input('Please enter a text: ')\n",
    "\n",
    "for char in text:\n",
    "    \n",
    "    # check if space\n",
    "    if char == '  ':\n",
    "        continue\n",
    "        \n",
    "    # if not space -> we are here\n",
    "    print(char)\n",
    "    "
   ]
  },
  {
   "cell_type": "markdown",
   "id": "9634efec-4677-428a-b14f-93e3196dc15b",
   "metadata": {},
   "source": [
    "# `For-Else` Structure"
   ]
  },
  {
   "cell_type": "markdown",
   "id": "c563f2b7-5189-4925-80fb-88a6a4bf5716",
   "metadata": {},
   "source": [
    "Sometimes you need to know if your loop has completed sucessfully.\n",
    "\n",
    "**Sucessful Loos**: Loops with no `break` statements executed in them."
   ]
  },
  {
   "cell_type": "markdown",
   "id": "2de1b120-c2c4-4b5e-b085-9dbcb641445a",
   "metadata": {},
   "source": [
    "For these case we use `for-else` structures."
   ]
  },
  {
   "cell_type": "raw",
   "id": "a572b423-5fb6-4244-ae71-ccde9c075320",
   "metadata": {},
   "source": [
    "\n",
    "for .......:\n",
    "    \n",
    "    ..........\n",
    "    ..........\n",
    "    break\n",
    "    ..........\n",
    "    ..........\n",
    "else:\n",
    "    ...... no break executed .........\n",
    "    \n",
    "..............\n"
   ]
  },
  {
   "cell_type": "markdown",
   "id": "d6d38981-d30e-45ab-aa30-3b87ed690790",
   "metadata": {},
   "source": [
    "**Example:**\n",
    "\n",
    "Print numbers from 2 to 10.\n",
    "\n",
    "If the numbers is 7, exit the loop (break).\n",
    "\n",
    "If the loop executes sucessfully we will print: \"Loop executed sucessfully\"    "
   ]
  },
  {
   "cell_type": "code",
   "execution_count": 5,
   "id": "44900025-211a-477c-a495-1367112875f0",
   "metadata": {},
   "outputs": [
    {
     "name": "stdout",
     "output_type": "stream",
     "text": [
      "--------Before For Loop ----------\n",
      "2\n",
      "3\n",
      "4\n",
      "5\n",
      "6\n",
      "7\n",
      "-------After For Loop ---------\n"
     ]
    }
   ],
   "source": [
    "\n",
    "print(\"--------Before For Loop ----------\")\n",
    "\n",
    "for i in range(2, 10):\n",
    "    \n",
    "    print(i)\n",
    "    \n",
    "    if i % 7 == 0:\n",
    "        break\n",
    "        \n",
    "else: \n",
    "    print(\"Loop executed sucessfully\")\n",
    "    \n",
    "print(\"-------After For Loop ---------\")"
   ]
  },
  {
   "cell_type": "code",
   "execution_count": 6,
   "id": "c9ca1cc4-4936-4028-8861-be4c061e2c96",
   "metadata": {},
   "outputs": [
    {
     "name": "stdout",
     "output_type": "stream",
     "text": [
      "--------Before For Loop ----------\n",
      "2\n",
      "3\n",
      "4\n",
      "5\n",
      "6\n",
      "7\n",
      "8\n",
      "9\n",
      "Loop executed sucessfully\n",
      "-------After For Loop ---------\n"
     ]
    }
   ],
   "source": [
    "\n",
    "print(\"--------Before For Loop ----------\")\n",
    "\n",
    "for i in range(2, 10):\n",
    "    \n",
    "    print(i)\n",
    "    \n",
    "    if i % 17 == 0:\n",
    "        break\n",
    "        \n",
    "else: \n",
    "    print(\"Loop executed sucessfully\")\n",
    "    \n",
    "print(\"-------After For Loop ---------\")"
   ]
  },
  {
   "cell_type": "code",
   "execution_count": null,
   "id": "c18d2053-e552-41da-b0fe-eca416c11a3f",
   "metadata": {},
   "outputs": [],
   "source": []
  }
 ],
 "metadata": {
  "kernelspec": {
   "display_name": "Python 3 (ipykernel)",
   "language": "python",
   "name": "python3"
  },
  "language_info": {
   "codemirror_mode": {
    "name": "ipython",
    "version": 3
   },
   "file_extension": ".py",
   "mimetype": "text/x-python",
   "name": "python",
   "nbconvert_exporter": "python",
   "pygments_lexer": "ipython3",
   "version": "3.8.12"
  }
 },
 "nbformat": 4,
 "nbformat_minor": 5
}
