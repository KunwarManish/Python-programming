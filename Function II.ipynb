{
 "cells": [
  {
   "cell_type": "markdown",
   "id": "76671090-a331-4bb5-a44b-67777f8a496f",
   "metadata": {},
   "source": [
    "# Function II"
   ]
  },
  {
   "cell_type": "markdown",
   "id": "ed8d5d79-c223-400a-8bc5-5ce44d57ddad",
   "metadata": {},
   "source": [
    "## Return Value"
   ]
  },
  {
   "cell_type": "markdown",
   "id": "17afa188-4562-4959-86e0-ef63989eb26c",
   "metadata": {},
   "source": [
    "Most of the time functions return a value after execution.\n",
    "\n",
    "The caller of that function receives this returned value and uses it.\n",
    "\n",
    "There are functions which do not return any value -> **void functions**"
   ]
  },
  {
   "cell_type": "markdown",
   "id": "5940efa3-09ae-4962-be4f-7b8a601b232c",
   "metadata": {},
   "source": [
    "**Important:**"
   ]
  },
  {
   "cell_type": "markdown",
   "id": "2020da45-a9fe-4b34-a1bc-14d87670b0ce",
   "metadata": {},
   "source": [
    "In a function, the code lines below return is not executed\n",
    "\n",
    "Return is the final line in a function."
   ]
  },
  {
   "cell_type": "code",
   "execution_count": 1,
   "id": "81c47373-7d9b-4e46-ad2a-05099ee6301b",
   "metadata": {},
   "outputs": [
    {
     "name": "stdout",
     "output_type": "stream",
     "text": [
      "2.718281828459045\n"
     ]
    }
   ],
   "source": [
    "import math\n",
    "\n",
    "e = math.exp(1.0)\n",
    "\n",
    "print(e)"
   ]
  },
  {
   "cell_type": "markdown",
   "id": "9da01b8d-174a-4e6d-a2b8-4909e92e6c52",
   "metadata": {},
   "source": [
    "**Example:**\n",
    "\n",
    "Define a function to calculate the area of the circle and returns it.\n",
    "\n",
    "Then call this function, get the area and print it."
   ]
  },
  {
   "cell_type": "code",
   "execution_count": 2,
   "id": "18bf02d5-4e53-479a-a2da-a0e379521139",
   "metadata": {},
   "outputs": [],
   "source": [
    "def area_of_circle(radius):\n",
    "    \n",
    "    a = math.pi * radius**2\n",
    "    \n",
    "    return a\n"
   ]
  },
  {
   "cell_type": "code",
   "execution_count": 3,
   "id": "3c768d62-0546-46b9-8201-8e2542bd086b",
   "metadata": {},
   "outputs": [
    {
     "name": "stdout",
     "output_type": "stream",
     "text": [
      "50.26548245743669\n"
     ]
    }
   ],
   "source": [
    "area = area_of_circle(4)\n",
    "\n",
    "print(area)"
   ]
  },
  {
   "cell_type": "markdown",
   "id": "e5014536-0a65-40ca-8d3a-d71ed802d6fc",
   "metadata": {},
   "source": [
    "**Temporary Variable:**\n",
    "\n",
    "In the function above, the variable `a` is called temp variable.\n",
    "\n",
    "It's purpose is to keep the area and pass it to return statement."
   ]
  },
  {
   "cell_type": "markdown",
   "id": "63ef8bca-45ba-4cd5-8df8-6620baee3e40",
   "metadata": {},
   "source": [
    "We don't have use this temp variable."
   ]
  },
  {
   "cell_type": "code",
   "execution_count": 4,
   "id": "64f1b071-5e83-4e90-8c5f-f7491d4b040d",
   "metadata": {},
   "outputs": [],
   "source": [
    "# function without temp variable\n",
    "\n",
    "def area_of_circle_without_temp(radius):\n",
    "    \n",
    "    return math.pi * radius**2\n"
   ]
  },
  {
   "cell_type": "markdown",
   "id": "672776b9-d585-45b1-aed0-6865db90efe9",
   "metadata": {},
   "source": [
    "Mainly, temp variables are used for debugging purposes."
   ]
  },
  {
   "cell_type": "code",
   "execution_count": 5,
   "id": "8048a83f-3a9a-472d-8971-0be1a3e06a94",
   "metadata": {},
   "outputs": [
    {
     "name": "stdout",
     "output_type": "stream",
     "text": [
      "50.26548245743669\n"
     ]
    }
   ],
   "source": [
    "area = area_of_circle_without_temp(4)\n",
    "\n",
    "print(area)"
   ]
  },
  {
   "cell_type": "markdown",
   "id": "ef80babb-37a0-4972-8a2e-66f071edf7eb",
   "metadata": {},
   "source": [
    "In fucntion call -> `area` variable is a temp variable.\n",
    "\n",
    "We don't need to use it."
   ]
  },
  {
   "cell_type": "code",
   "execution_count": 6,
   "id": "fef79fa4-1502-4a9a-aaf5-79fc1f7ed71d",
   "metadata": {},
   "outputs": [
    {
     "name": "stdout",
     "output_type": "stream",
     "text": [
      "50.26548245743669\n"
     ]
    }
   ],
   "source": [
    "# More Functional Approach\n",
    "\n",
    "print(area_of_circle_without_temp(4))"
   ]
  },
  {
   "cell_type": "markdown",
   "id": "f291da85-aabc-456b-93fa-2b0ff95792e2",
   "metadata": {},
   "source": [
    "## Incremental Development \n",
    "\n",
    "We can not consider and code everything at once, while developing programs.\n",
    "\n",
    "That's why we have to concentrate on **Incremental Development.** \n",
    "\n",
    "Incremental Development is essential for Debugging.\n",
    "\n",
    "If you can not debug every step of your code, and make sure that it works correctly, you can not be sure about its quality.\n",
    "\n",
    "**Example:** \n",
    "\n",
    "Let's say we are trying to calculate the distance between to points.\n",
    "\n",
    "In Math it is very easy to calculate via Pythagoras' Theorem \n",
    "\n",
    "**distance** = $\\sqrt{(x_{2} - x_{1})^2 + (x_{2} - x_{1})^2}$\n",
    "\n",
    "But this single line of equation is not that easy to do this calculation.\n",
    "\n",
    "Let's see it in a function:\n"
   ]
  },
  {
   "cell_type": "code",
   "execution_count": 7,
   "id": "827dd168-c695-4a59-9824-cb81f3168e8a",
   "metadata": {},
   "outputs": [],
   "source": [
    "\n",
    "def distance(x1, y1, x2, y2):\n",
    "    \n",
    "    # first diff of x's\n",
    "    dx = x2 - x1\n",
    "    \n",
    "    # diff of y's\n",
    "    dy = y2 - y1\n",
    "    \n",
    "    # <--------DEBUG ---------> #\n",
    "    \n",
    "    print(\"dx:\", dx)\n",
    "    print(\"dy:\", dy)\n",
    "    "
   ]
  },
  {
   "cell_type": "code",
   "execution_count": 8,
   "id": "bc5a89b3-b40b-4612-8009-d461afcd6d20",
   "metadata": {},
   "outputs": [
    {
     "name": "stdout",
     "output_type": "stream",
     "text": [
      "dx: 3\n",
      "dy: 4\n"
     ]
    }
   ],
   "source": [
    "distance(1, 6, 4, 10)"
   ]
  },
  {
   "cell_type": "markdown",
   "id": "9231db40-1499-4ca3-8e89-26870e30724c",
   "metadata": {},
   "source": [
    "Move on developing"
   ]
  },
  {
   "cell_type": "code",
   "execution_count": 9,
   "id": "e05da8c4-61bf-4058-9d6a-f6a24c975c7a",
   "metadata": {},
   "outputs": [],
   "source": [
    "\n",
    "def distance(x1, y1, x2, y2):\n",
    "    \n",
    "    # first diff of x's\n",
    "    dx = x2 - x1\n",
    "    \n",
    "    # diff of y's\n",
    "    dy = y2 - y1\n",
    "    \n",
    "    # <--------DEBUG ---------> #\n",
    "    \n",
    "    # print(\"dx:\", dx)\n",
    "    # print(\"dy:\", dy)\n",
    "    \n",
    "    # calculate sum of squares\n",
    "    sum_of_squares = dx**2 + dy**2\n",
    "    \n",
    "    print(\"sum_of_squares:\", sum_of_squares)\n",
    "    "
   ]
  },
  {
   "cell_type": "code",
   "execution_count": 10,
   "id": "42e521f2-fb5e-44df-b6bd-ec4bcfeb53a2",
   "metadata": {},
   "outputs": [
    {
     "name": "stdout",
     "output_type": "stream",
     "text": [
      "sum_of_squares: 25\n"
     ]
    }
   ],
   "source": [
    "distance(1, 6, 4, 10)"
   ]
  },
  {
   "cell_type": "code",
   "execution_count": 11,
   "id": "daf9f08a-885d-44ba-98e1-1c59489c1fc8",
   "metadata": {},
   "outputs": [
    {
     "name": "stdout",
     "output_type": "stream",
     "text": [
      "sum_of_squares: 289\n"
     ]
    }
   ],
   "source": [
    "distance(2, 6, 10, 21)"
   ]
  },
  {
   "cell_type": "markdown",
   "id": "848d57d4-05df-4881-9e9b-9d72470bb8de",
   "metadata": {},
   "source": [
    "**TDD (Test Driven Development)**\n",
    "\n",
    "We test every function and every step."
   ]
  },
  {
   "cell_type": "code",
   "execution_count": 12,
   "id": "6d246b34-f4e3-434b-bef0-77e3866253a4",
   "metadata": {},
   "outputs": [],
   "source": [
    "import math\n",
    "\n",
    "def distance(x1, y1, x2, y2):\n",
    "    \n",
    "    # first diff of x's\n",
    "    dx = x2 - x1\n",
    "    \n",
    "    # diff of y's\n",
    "    dy = y2 - y1\n",
    "    \n",
    "    # <--------DEBUG ---------> #\n",
    "    # print(\"dx:\", dx)\n",
    "    # print(\"dy:\", dy)\n",
    "    \n",
    "    # calculate sum of squares\n",
    "    sum_of_squares = dx**2 + dy**2\n",
    "    \n",
    "    # <--------DEBUG ---------> #\n",
    "    # print(\"sum_of_squares:\", sum_of_squares)\n",
    "    \n",
    "    return math.sqrt(sum_of_squares)\n",
    "    "
   ]
  },
  {
   "cell_type": "code",
   "execution_count": 13,
   "id": "6c54ac37-a211-4a3c-9795-72a358599951",
   "metadata": {},
   "outputs": [
    {
     "data": {
      "text/plain": [
       "5.0"
      ]
     },
     "execution_count": 13,
     "metadata": {},
     "output_type": "execute_result"
    }
   ],
   "source": [
    "distance(1, 6, 4, 10)"
   ]
  },
  {
   "cell_type": "code",
   "execution_count": 14,
   "id": "6bb8b451-75c4-43d1-a79d-74f5492c51d6",
   "metadata": {},
   "outputs": [
    {
     "data": {
      "text/plain": [
       "17.0"
      ]
     },
     "execution_count": 14,
     "metadata": {},
     "output_type": "execute_result"
    }
   ],
   "source": [
    "distance(2, 6, 10, 21)"
   ]
  },
  {
   "cell_type": "markdown",
   "id": "a5fa25ea-1783-47da-a091-ea9a3ed0dd04",
   "metadata": {},
   "source": [
    "# More Compositions"
   ]
  },
  {
   "cell_type": "markdown",
   "id": "1bfb40ef-544e-471c-aa31-f1f45d15c6af",
   "metadata": {},
   "source": [
    "**Functional Programming**"
   ]
  },
  {
   "cell_type": "markdown",
   "id": "56e220cd-25ee-4764-91a0-93ba05e26191",
   "metadata": {},
   "source": [
    "In its core, FP is dividing tasks into pieces and define seperate functions for these tasks.\n",
    "\n",
    "Each function is responsible from its own task."
   ]
  },
  {
   "cell_type": "markdown",
   "id": "96be2eac-f5ff-4f1b-973d-aaa37e325dc7",
   "metadata": {},
   "source": [
    "**Example:**"
   ]
  },
  {
   "cell_type": "markdown",
   "id": "3f4fac53-15af-412a-85a2-c57033b9fd8f",
   "metadata": {},
   "source": [
    "Let's say we have two points.\n",
    "\n",
    "And let's assume the line segment combining these two pieces as the radius.\n",
    "\n",
    "And let's try to calculate the area of the circle having this radius.\n",
    "\n",
    "Instead of doing all the steps in one giant function,\n",
    "\n",
    "We will create seperate functions for each task and call them when needed."
   ]
  },
  {
   "cell_type": "code",
   "execution_count": 15,
   "id": "c31de9c9-fce0-4707-9574-e2c64bd920b0",
   "metadata": {},
   "outputs": [],
   "source": [
    "\n",
    "def area_of_circle_combining_two_points(x1, y1, x2, y2):\n",
    "    \"\"\"\n",
    "    Calculates the area f circle with radius from point one to point two.\n",
    "    Parameters: int x1, y1 first point, int x2, y2 second point\n",
    "    Returns: The area of circle\n",
    "    \"\"\"\n",
    "    \n",
    "    # calculate the radius from points\n",
    "    # distance between point 1 and point 2\n",
    "    r = distance(x1, y1, x2, y2)\n",
    "    \n",
    "    # calculate area\n",
    "    area = area_of_circle(r)\n",
    "    \n",
    "    # return the result\n",
    "    return area"
   ]
  },
  {
   "cell_type": "code",
   "execution_count": 16,
   "id": "b897161e-adae-49dc-9f33-d08f2601bb7d",
   "metadata": {},
   "outputs": [
    {
     "data": {
      "text/plain": [
       "78.53981633974483"
      ]
     },
     "execution_count": 16,
     "metadata": {},
     "output_type": "execute_result"
    }
   ],
   "source": [
    "area_of_circle_combining_two_points(1, 6, 4, 10)"
   ]
  },
  {
   "cell_type": "markdown",
   "id": "6e62af82-1340-44f2-b172-26903bdfac76",
   "metadata": {},
   "source": [
    "**Bool Functions**\n",
    "\n",
    "Functions which return either True or False."
   ]
  },
  {
   "cell_type": "code",
   "execution_count": 17,
   "id": "bee681b8-cf1b-4ce7-a0c1-c8e10a7809c6",
   "metadata": {},
   "outputs": [],
   "source": [
    "# if a number is even or odd\n",
    "\n",
    "# even function\n",
    "def is_even(x):\n",
    "    return x % 2 == 0\n",
    "\n",
    "# odd function\n",
    "def is_odd(x):\n",
    "    return x % 2 == 1\n"
   ]
  },
  {
   "cell_type": "code",
   "execution_count": 18,
   "id": "23465f8b-e1a7-48f8-b666-024ffe4e15a3",
   "metadata": {},
   "outputs": [
    {
     "data": {
      "text/plain": [
       "False"
      ]
     },
     "execution_count": 18,
     "metadata": {},
     "output_type": "execute_result"
    }
   ],
   "source": [
    "is_even(11)"
   ]
  },
  {
   "cell_type": "code",
   "execution_count": 19,
   "id": "32d32347-860d-4bec-9ace-f4094855fa35",
   "metadata": {},
   "outputs": [
    {
     "data": {
      "text/plain": [
       "True"
      ]
     },
     "execution_count": 19,
     "metadata": {},
     "output_type": "execute_result"
    }
   ],
   "source": [
    "is_odd(11)"
   ]
  },
  {
   "cell_type": "code",
   "execution_count": 20,
   "id": "bb307fc9-bc18-46e2-a7f5-4734ec2a642a",
   "metadata": {},
   "outputs": [
    {
     "data": {
      "text/plain": [
       "True"
      ]
     },
     "execution_count": 20,
     "metadata": {},
     "output_type": "execute_result"
    }
   ],
   "source": [
    "is_even(40)"
   ]
  },
  {
   "cell_type": "markdown",
   "id": "5c3d0507-9c36-437b-8a1d-fa283ea7eb84",
   "metadata": {},
   "source": [
    "## Function are First-Class Citizens"
   ]
  },
  {
   "cell_type": "markdown",
   "id": "6a2e188c-bc56-45df-857d-9bee2e358179",
   "metadata": {},
   "source": [
    "In python, Functions are First-Class Citizens:\n",
    "    \n",
    "* assign function to variables\n",
    "* pass functions as parameters\n",
    "* reassing functions "
   ]
  },
  {
   "cell_type": "code",
   "execution_count": 21,
   "id": "a16bc7a3-f7de-4bb2-bb4d-3ea70a56bb80",
   "metadata": {},
   "outputs": [],
   "source": [
    "\n",
    "def cube(num):\n",
    "    \n",
    "    out = num**3\n",
    "    \n",
    "    return out"
   ]
  },
  {
   "cell_type": "code",
   "execution_count": 22,
   "id": "4946aec8-2651-4b50-98ab-d5a8858cc2a9",
   "metadata": {},
   "outputs": [
    {
     "data": {
      "text/plain": [
       "125"
      ]
     },
     "execution_count": 22,
     "metadata": {},
     "output_type": "execute_result"
    }
   ],
   "source": [
    "cube(5)"
   ]
  },
  {
   "cell_type": "code",
   "execution_count": 23,
   "id": "c96577ab-4894-4351-bdfe-efeb2d2947eb",
   "metadata": {},
   "outputs": [],
   "source": [
    "# assign this function to a variable\n",
    "\n",
    "q = cube"
   ]
  },
  {
   "cell_type": "code",
   "execution_count": 24,
   "id": "83031383-1cf8-4785-8bd8-b8d6bb579fef",
   "metadata": {},
   "outputs": [
    {
     "data": {
      "text/plain": [
       "<function __main__.cube(num)>"
      ]
     },
     "execution_count": 24,
     "metadata": {},
     "output_type": "execute_result"
    }
   ],
   "source": [
    "q"
   ]
  },
  {
   "cell_type": "code",
   "execution_count": 25,
   "id": "cc1931b8-4534-4757-b282-8c320b14e0f4",
   "metadata": {},
   "outputs": [
    {
     "data": {
      "text/plain": [
       "125"
      ]
     },
     "execution_count": 25,
     "metadata": {},
     "output_type": "execute_result"
    }
   ],
   "source": [
    "# call q \n",
    "\n",
    "q(5)"
   ]
  },
  {
   "cell_type": "markdown",
   "id": "9a65be53-5b4c-49de-a940-401baee89291",
   "metadata": {},
   "source": [
    "when we call q -> Python executes cube fuction."
   ]
  },
  {
   "cell_type": "markdown",
   "id": "a87f26b2-bdc5-4333-92d1-5bc10d1661fb",
   "metadata": {},
   "source": [
    "**Alising:** Add a new name to the function\n",
    "\n",
    "* cube\n",
    "* q"
   ]
  },
  {
   "cell_type": "code",
   "execution_count": 26,
   "id": "2e99a48e-d861-41d6-88d6-8a6de03b93ec",
   "metadata": {},
   "outputs": [],
   "source": [
    "def say_hello(text):\n",
    "    \n",
    "    print(text)\n",
    "    "
   ]
  },
  {
   "cell_type": "code",
   "execution_count": 27,
   "id": "241eaee9-9083-4397-b0f2-998beef26f54",
   "metadata": {},
   "outputs": [
    {
     "name": "stdout",
     "output_type": "stream",
     "text": [
      "Hi there Python\n"
     ]
    }
   ],
   "source": [
    "say_hello(\"Hi there Python\")"
   ]
  },
  {
   "cell_type": "code",
   "execution_count": 28,
   "id": "1a8a5e24-d0b9-4890-82cd-ce7afc167d4c",
   "metadata": {},
   "outputs": [],
   "source": [
    "hello = say_hello"
   ]
  },
  {
   "cell_type": "code",
   "execution_count": 29,
   "id": "9c4a99d8-c258-485a-8d57-4dd8543f885a",
   "metadata": {},
   "outputs": [
    {
     "name": "stdout",
     "output_type": "stream",
     "text": [
      "Hi yourself Developer\n"
     ]
    }
   ],
   "source": [
    "hello(\"Hi yourself Developer\")"
   ]
  },
  {
   "cell_type": "markdown",
   "id": "42005ca1-cafa-4c8a-b510-76d6df848c61",
   "metadata": {},
   "source": [
    "## Unknown Parameters: *args"
   ]
  },
  {
   "cell_type": "markdown",
   "id": "6121aa9d-e5c0-4072-b5b1-4fd3f19026b4",
   "metadata": {},
   "source": [
    "In some cases, you may not know the actual number of parameters.\n",
    "\n",
    "`*agrs`"
   ]
  },
  {
   "cell_type": "code",
   "execution_count": 30,
   "id": "f1115e81-7ab9-4f6a-bc86-e9fe0cd13013",
   "metadata": {},
   "outputs": [],
   "source": [
    "# summation with unknown parameters\n",
    "\n",
    "def summation(*args):\n",
    "    \n",
    "    print('args:', args)\n"
   ]
  },
  {
   "cell_type": "code",
   "execution_count": 31,
   "id": "82579ee1-b127-45e0-9769-022993c2497a",
   "metadata": {},
   "outputs": [
    {
     "name": "stdout",
     "output_type": "stream",
     "text": [
      "args: (5, 7)\n"
     ]
    }
   ],
   "source": [
    "summation(5, 7)"
   ]
  },
  {
   "cell_type": "code",
   "execution_count": 32,
   "id": "5cd55752-5631-44cd-8cc8-7cc1387c9845",
   "metadata": {},
   "outputs": [
    {
     "name": "stdout",
     "output_type": "stream",
     "text": [
      "args: (5, 7, 1, 4, 3)\n"
     ]
    }
   ],
   "source": [
    "summation(5, 7, 1, 4, 3)"
   ]
  },
  {
   "cell_type": "code",
   "execution_count": 33,
   "id": "9dc846a3-f57c-4382-a8d1-a52a4cb7e1f4",
   "metadata": {},
   "outputs": [],
   "source": [
    "# summation\n",
    "\n",
    "def summation(*args):\n",
    "    \n",
    "    summation_result = sum(args)\n",
    "    \n",
    "    print(summation_result)"
   ]
  },
  {
   "cell_type": "code",
   "execution_count": 34,
   "id": "6fc4b059-3fe8-458c-9d78-c37976de2fd0",
   "metadata": {},
   "outputs": [
    {
     "name": "stdout",
     "output_type": "stream",
     "text": [
      "12\n"
     ]
    }
   ],
   "source": [
    "summation(5, 7)"
   ]
  },
  {
   "cell_type": "code",
   "execution_count": 35,
   "id": "dcbe4c31-832d-41df-9642-97b9fdd329f7",
   "metadata": {},
   "outputs": [
    {
     "name": "stdout",
     "output_type": "stream",
     "text": [
      "20\n"
     ]
    }
   ],
   "source": [
    "summation(5, 7, 1, 4, 3)"
   ]
  },
  {
   "cell_type": "code",
   "execution_count": 36,
   "id": "65bf64bc-6a57-4e38-8e2d-f264a180ae95",
   "metadata": {},
   "outputs": [],
   "source": [
    "# summation\n",
    "\n",
    "def summation(*args):\n",
    "    return sum(args)\n"
   ]
  },
  {
   "cell_type": "code",
   "execution_count": 37,
   "id": "7ab49ead-7df1-4ee3-804b-382a73dd6dde",
   "metadata": {},
   "outputs": [
    {
     "data": {
      "text/plain": [
       "20"
      ]
     },
     "execution_count": 37,
     "metadata": {},
     "output_type": "execute_result"
    }
   ],
   "source": [
    "sum_of_numbers = summation(5, 7, 1, 4, 3)\n",
    "sum_of_numbers"
   ]
  },
  {
   "cell_type": "code",
   "execution_count": 38,
   "id": "fe1bfe86-6ea1-4660-81d3-4cf6e47e2243",
   "metadata": {},
   "outputs": [],
   "source": [
    "\n",
    "def print_parameters(*args):\n",
    "    \n",
    "    for arg in args:\n",
    "        print(arg)\n",
    "        "
   ]
  },
  {
   "cell_type": "code",
   "execution_count": 39,
   "id": "c513fb4c-e0f3-4177-a345-ec7ac265148c",
   "metadata": {},
   "outputs": [
    {
     "name": "stdout",
     "output_type": "stream",
     "text": [
      "A\n",
      "B\n",
      "45\n",
      "True\n",
      "Python\n"
     ]
    }
   ],
   "source": [
    "print_parameters('A', 'B', 45, True, 'Python')"
   ]
  },
  {
   "cell_type": "code",
   "execution_count": 40,
   "id": "009e9e42-061b-4de5-97bc-db565dd29f53",
   "metadata": {},
   "outputs": [
    {
     "name": "stdout",
     "output_type": "stream",
     "text": [
      "Book\n",
      "[1, 2, 3]\n",
      "('A', 'B')\n",
      "45\n",
      "True\n",
      "Python\n"
     ]
    }
   ],
   "source": [
    "print_parameters('Book', [1,2,3],('A', 'B'), 45, True, 'Python')"
   ]
  },
  {
   "cell_type": "markdown",
   "id": "d861656d-3d32-4699-9836-b2b062ceacd1",
   "metadata": {},
   "source": [
    "# lambda Function"
   ]
  },
  {
   "cell_type": "markdown",
   "id": "2eeb9aec-0953-4665-9fcd-49f32571691e",
   "metadata": {},
   "source": [
    "Sometimes, we need to define a function without a name.\n",
    "\n",
    "We use `lamba` for this purpose.\n",
    "\n",
    "Lambda functions are known as **one line functions.**"
   ]
  },
  {
   "cell_type": "code",
   "execution_count": 41,
   "id": "6dbe25eb-0a75-45b5-9dbe-d01e18c75fb7",
   "metadata": {},
   "outputs": [
    {
     "data": {
      "text/plain": [
       "['Hi', 'there', 'you', 'Python']"
      ]
     },
     "execution_count": 41,
     "metadata": {},
     "output_type": "execute_result"
    }
   ],
   "source": [
    "text = 'Hi there you Python'\n",
    "text.split()"
   ]
  },
  {
   "cell_type": "code",
   "execution_count": 42,
   "id": "8dd56cbb-e7a4-422f-8ca4-d227b7187f9b",
   "metadata": {},
   "outputs": [],
   "source": [
    "# we will define a lambda function to use split()\n",
    "\n",
    "# def function_name(text):\n",
    "#    .........\n",
    "#    .........\n",
    "\n",
    "split_text = lambda x: x.split()\n"
   ]
  },
  {
   "cell_type": "code",
   "execution_count": 43,
   "id": "9fdd2528-bbf0-4e7b-8796-bdbe9f0b0df3",
   "metadata": {},
   "outputs": [
    {
     "data": {
      "text/plain": [
       "['Hi', 'there', 'you', 'Python']"
      ]
     },
     "execution_count": 43,
     "metadata": {},
     "output_type": "execute_result"
    }
   ],
   "source": [
    "split_text('Hi there you Python')"
   ]
  },
  {
   "cell_type": "code",
   "execution_count": 44,
   "id": "ba972434-c890-40c5-b034-a72074cfa412",
   "metadata": {},
   "outputs": [
    {
     "data": {
      "text/plain": [
       "['A', 'B', 'C', 'D']"
      ]
     },
     "execution_count": 44,
     "metadata": {},
     "output_type": "execute_result"
    }
   ],
   "source": [
    "split_text('A B C D')"
   ]
  },
  {
   "cell_type": "code",
   "execution_count": 45,
   "id": "1f5b68bd-0c09-4b27-97f4-8b231c251b73",
   "metadata": {},
   "outputs": [],
   "source": [
    "# Multiplication with lambda function\n",
    "\n",
    "multiply = lambda x, y: x * y\n"
   ]
  },
  {
   "cell_type": "code",
   "execution_count": 46,
   "id": "5aafc556-7058-403f-a59e-5fdc8c976d4b",
   "metadata": {},
   "outputs": [
    {
     "data": {
      "text/plain": [
       "60"
      ]
     },
     "execution_count": 46,
     "metadata": {},
     "output_type": "execute_result"
    }
   ],
   "source": [
    "multiply(10,6)"
   ]
  },
  {
   "cell_type": "code",
   "execution_count": 47,
   "id": "389615f6-c684-4bdd-a5c3-46146011bc59",
   "metadata": {},
   "outputs": [
    {
     "data": {
      "text/plain": [
       "15"
      ]
     },
     "execution_count": 47,
     "metadata": {},
     "output_type": "execute_result"
    }
   ],
   "source": [
    "multiply(5,3)"
   ]
  },
  {
   "cell_type": "code",
   "execution_count": 48,
   "id": "39fb8b56-c3dc-47b2-b448-95599d190cf4",
   "metadata": {},
   "outputs": [],
   "source": [
    "# power function with lambda\n",
    "\n",
    "exponential = lambda num, p: num**p\n"
   ]
  },
  {
   "cell_type": "code",
   "execution_count": 49,
   "id": "dae74e0a-439b-486a-b278-60e5c89d65c7",
   "metadata": {},
   "outputs": [
    {
     "data": {
      "text/plain": [
       "32"
      ]
     },
     "execution_count": 49,
     "metadata": {},
     "output_type": "execute_result"
    }
   ],
   "source": [
    "exponential(2, 5)"
   ]
  },
  {
   "cell_type": "code",
   "execution_count": 50,
   "id": "36dc38fe-a03f-4bac-8f44-c8ec5eb6ae00",
   "metadata": {},
   "outputs": [
    {
     "data": {
      "text/plain": [
       "64"
      ]
     },
     "execution_count": 50,
     "metadata": {},
     "output_type": "execute_result"
    }
   ],
   "source": [
    "exponential(4, 3)"
   ]
  },
  {
   "cell_type": "markdown",
   "id": "6de23385-aa62-46a9-a480-40b0d4a6a0db",
   "metadata": {},
   "source": [
    "# Functions Returning Functions"
   ]
  },
  {
   "cell_type": "code",
   "execution_count": 51,
   "id": "68edf4cc-18f9-43a4-b201-f1e46ceb0d7a",
   "metadata": {},
   "outputs": [],
   "source": [
    "\n",
    "def multiply_by(n):\n",
    "    \"\"\"\n",
    "    Generic multiplication function.\n",
    "    Parameter: int n\n",
    "    Returns: lambda a: a * n\n",
    "    \"\"\"\n",
    "    \n",
    "    return lambda a: a * n\n"
   ]
  },
  {
   "cell_type": "code",
   "execution_count": 53,
   "id": "d618b0f4-1b13-4f9a-b0bf-44add47afce6",
   "metadata": {},
   "outputs": [],
   "source": [
    "double_multiplier = multiply_by(2)"
   ]
  },
  {
   "cell_type": "code",
   "execution_count": 54,
   "id": "bb6816fb-53c9-4400-bd7f-d907d404a9ae",
   "metadata": {},
   "outputs": [
    {
     "data": {
      "text/plain": [
       "function"
      ]
     },
     "execution_count": 54,
     "metadata": {},
     "output_type": "execute_result"
    }
   ],
   "source": [
    "type(double_multiplier)"
   ]
  },
  {
   "cell_type": "code",
   "execution_count": 55,
   "id": "ddc4c449-7ace-4c84-80b1-f8ce03e28676",
   "metadata": {},
   "outputs": [
    {
     "data": {
      "text/plain": [
       "30"
      ]
     },
     "execution_count": 55,
     "metadata": {},
     "output_type": "execute_result"
    }
   ],
   "source": [
    "double_multiplier(15)"
   ]
  },
  {
   "cell_type": "code",
   "execution_count": 57,
   "id": "4ae572b3-21a4-406e-bfde-303e6c8a8961",
   "metadata": {},
   "outputs": [
    {
     "data": {
      "text/plain": [
       "18"
      ]
     },
     "execution_count": 57,
     "metadata": {},
     "output_type": "execute_result"
    }
   ],
   "source": [
    "double_multiplier(9)"
   ]
  },
  {
   "cell_type": "code",
   "execution_count": 58,
   "id": "8015d13e-4be6-422f-8d3d-2ef9b0b5b119",
   "metadata": {},
   "outputs": [],
   "source": [
    "triple_multiplier = multiply_by(3)"
   ]
  },
  {
   "cell_type": "code",
   "execution_count": 59,
   "id": "6ff968b3-1ada-477e-82b7-f496da79c76a",
   "metadata": {},
   "outputs": [
    {
     "data": {
      "text/plain": [
       "function"
      ]
     },
     "execution_count": 59,
     "metadata": {},
     "output_type": "execute_result"
    }
   ],
   "source": [
    "type(triple_multiplier)"
   ]
  },
  {
   "cell_type": "code",
   "execution_count": 60,
   "id": "4b666436-4727-4e65-ab23-268c40a8d846",
   "metadata": {},
   "outputs": [
    {
     "data": {
      "text/plain": [
       "24"
      ]
     },
     "execution_count": 60,
     "metadata": {},
     "output_type": "execute_result"
    }
   ],
   "source": [
    "triple_multiplier(8)"
   ]
  },
  {
   "cell_type": "code",
   "execution_count": 61,
   "id": "1d1f9b8b-2898-4dbb-b9e6-b59b86a8a82b",
   "metadata": {},
   "outputs": [
    {
     "data": {
      "text/plain": [
       "\u001b[1;31mSignature:\u001b[0m \u001b[0mtriple_multiplier\u001b[0m\u001b[1;33m(\u001b[0m\u001b[0ma\u001b[0m\u001b[1;33m)\u001b[0m\u001b[1;33m\u001b[0m\u001b[1;33m\u001b[0m\u001b[0m\n",
       "\u001b[1;31mDocstring:\u001b[0m <no docstring>\n",
       "\u001b[1;31mSource:\u001b[0m        \u001b[1;32mreturn\u001b[0m \u001b[1;32mlambda\u001b[0m \u001b[0ma\u001b[0m\u001b[1;33m:\u001b[0m \u001b[0ma\u001b[0m \u001b[1;33m*\u001b[0m \u001b[0mn\u001b[0m\u001b[1;33m\u001b[0m\u001b[1;33m\u001b[0m\u001b[0m\n",
       "\u001b[1;31mFile:\u001b[0m      c:\\users\\kunwar\\appdata\\local\\temp\\ipykernel_2952\\2423485669.py\n",
       "\u001b[1;31mType:\u001b[0m      function\n"
      ]
     },
     "metadata": {},
     "output_type": "display_data"
    }
   ],
   "source": [
    "triple_multiplier??"
   ]
  },
  {
   "cell_type": "code",
   "execution_count": 62,
   "id": "9c407f5c-d5bc-40b6-ade6-c51abe67a9d8",
   "metadata": {},
   "outputs": [
    {
     "data": {
      "text/plain": [
       "\u001b[1;31mSignature:\u001b[0m \u001b[0mdouble_multiplier\u001b[0m\u001b[1;33m(\u001b[0m\u001b[0ma\u001b[0m\u001b[1;33m)\u001b[0m\u001b[1;33m\u001b[0m\u001b[1;33m\u001b[0m\u001b[0m\n",
       "\u001b[1;31mDocstring:\u001b[0m <no docstring>\n",
       "\u001b[1;31mSource:\u001b[0m        \u001b[1;32mreturn\u001b[0m \u001b[1;32mlambda\u001b[0m \u001b[0ma\u001b[0m\u001b[1;33m:\u001b[0m \u001b[0ma\u001b[0m \u001b[1;33m*\u001b[0m \u001b[0mn\u001b[0m\u001b[1;33m\u001b[0m\u001b[1;33m\u001b[0m\u001b[0m\n",
       "\u001b[1;31mFile:\u001b[0m      c:\\users\\kunwar\\appdata\\local\\temp\\ipykernel_2952\\2423485669.py\n",
       "\u001b[1;31mType:\u001b[0m      function\n"
      ]
     },
     "metadata": {},
     "output_type": "display_data"
    }
   ],
   "source": [
    "double_multiplier??"
   ]
  },
  {
   "cell_type": "code",
   "execution_count": 63,
   "id": "3a7e3311-8306-4ada-9918-1865410be359",
   "metadata": {},
   "outputs": [],
   "source": [
    "penta_multiplier = multiply_by(5)"
   ]
  },
  {
   "cell_type": "code",
   "execution_count": 64,
   "id": "f1f4e641-711a-4572-911d-bb289cd3909b",
   "metadata": {},
   "outputs": [
    {
     "data": {
      "text/plain": [
       "\u001b[1;31mSignature:\u001b[0m \u001b[0mpenta_multiplier\u001b[0m\u001b[1;33m(\u001b[0m\u001b[0ma\u001b[0m\u001b[1;33m)\u001b[0m\u001b[1;33m\u001b[0m\u001b[1;33m\u001b[0m\u001b[0m\n",
       "\u001b[1;31mDocstring:\u001b[0m <no docstring>\n",
       "\u001b[1;31mSource:\u001b[0m        \u001b[1;32mreturn\u001b[0m \u001b[1;32mlambda\u001b[0m \u001b[0ma\u001b[0m\u001b[1;33m:\u001b[0m \u001b[0ma\u001b[0m \u001b[1;33m*\u001b[0m \u001b[0mn\u001b[0m\u001b[1;33m\u001b[0m\u001b[1;33m\u001b[0m\u001b[0m\n",
       "\u001b[1;31mFile:\u001b[0m      c:\\users\\kunwar\\appdata\\local\\temp\\ipykernel_2952\\2423485669.py\n",
       "\u001b[1;31mType:\u001b[0m      function\n"
      ]
     },
     "metadata": {},
     "output_type": "display_data"
    }
   ],
   "source": [
    "penta_multiplier??"
   ]
  },
  {
   "cell_type": "code",
   "execution_count": 65,
   "id": "a4028b99-3838-4882-8265-b2947e117c70",
   "metadata": {},
   "outputs": [
    {
     "data": {
      "text/plain": [
       "30"
      ]
     },
     "execution_count": 65,
     "metadata": {},
     "output_type": "execute_result"
    }
   ],
   "source": [
    "penta_multiplier(6)"
   ]
  },
  {
   "cell_type": "code",
   "execution_count": null,
   "id": "06fb8685-0f9f-4303-99e4-afa4984157f4",
   "metadata": {},
   "outputs": [],
   "source": []
  }
 ],
 "metadata": {
  "kernelspec": {
   "display_name": "Python 3 (ipykernel)",
   "language": "python",
   "name": "python3"
  },
  "language_info": {
   "codemirror_mode": {
    "name": "ipython",
    "version": 3
   },
   "file_extension": ".py",
   "mimetype": "text/x-python",
   "name": "python",
   "nbconvert_exporter": "python",
   "pygments_lexer": "ipython3",
   "version": "3.8.12"
  }
 },
 "nbformat": 4,
 "nbformat_minor": 5
}
