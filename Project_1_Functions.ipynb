{
 "cells": [
  {
   "cell_type": "markdown",
   "id": "5b193289-218a-49f9-9f46-9686387e4cac",
   "metadata": {},
   "source": [
    "## Project 1 - Functions"
   ]
  },
  {
   "cell_type": "markdown",
   "id": "4828d680-30ea-472d-bf95-965f8c906298",
   "metadata": {},
   "source": [
    "https://docs.python.org/3/library/turtle.html"
   ]
  },
  {
   "cell_type": "code",
   "execution_count": 1,
   "id": "b8f363b1-b253-40ce-a5fb-f37f186eb23c",
   "metadata": {},
   "outputs": [],
   "source": [
    "# import the module -> turtle\n",
    "\n",
    "import turtle"
   ]
  },
  {
   "cell_type": "code",
   "execution_count": 2,
   "id": "12a5a50e-b48a-4568-a404-b164da37c7ff",
   "metadata": {},
   "outputs": [],
   "source": [
    "t = turtle.Turtle()"
   ]
  },
  {
   "cell_type": "code",
   "execution_count": 3,
   "id": "d89e8add-d8b5-42d4-a0d1-a817ee027f60",
   "metadata": {},
   "outputs": [],
   "source": [
    "t.fd(100)"
   ]
  },
  {
   "cell_type": "code",
   "execution_count": 4,
   "id": "002f0e31-a0eb-4eb2-bb24-a4c05dc33670",
   "metadata": {},
   "outputs": [],
   "source": [
    "t.lt(90)"
   ]
  },
  {
   "cell_type": "code",
   "execution_count": 5,
   "id": "051ba930-fad4-4a72-b87f-4302ca46b1ec",
   "metadata": {},
   "outputs": [],
   "source": [
    "t.fd(300)"
   ]
  },
  {
   "cell_type": "code",
   "execution_count": 6,
   "id": "548013a6-aaf9-4233-bb71-45ba48908e8b",
   "metadata": {},
   "outputs": [],
   "source": [
    "t.lt(90)"
   ]
  },
  {
   "cell_type": "code",
   "execution_count": 8,
   "id": "ad2a4ee7-2fdd-42fe-8004-8c147de4ce5c",
   "metadata": {},
   "outputs": [],
   "source": [
    "t.fd(100)"
   ]
  },
  {
   "cell_type": "code",
   "execution_count": 9,
   "id": "3886e36f-bc82-44d7-b633-59010776c466",
   "metadata": {},
   "outputs": [],
   "source": [
    "t.lt(90)"
   ]
  },
  {
   "cell_type": "code",
   "execution_count": 10,
   "id": "ea94aad5-b51b-4353-84e0-0233e1694eae",
   "metadata": {},
   "outputs": [],
   "source": [
    "t.fd(300)"
   ]
  },
  {
   "cell_type": "markdown",
   "id": "d9b0ba2b-3021-4770-87f6-fe4a5d96863c",
   "metadata": {},
   "source": [
    "Move functions:\n",
    "* fd(px) -> forward\n",
    "* bk(px) -> backward\n",
    "* lt(angle) -> turns left\n",
    "* rt(angle) -> turns right"
   ]
  },
  {
   "cell_type": "code",
   "execution_count": 11,
   "id": "062656c0-d9ac-4bed-9e8f-8a4721fc9264",
   "metadata": {},
   "outputs": [],
   "source": [
    "# clear screen\n",
    "\n",
    "t.clear()"
   ]
  },
  {
   "cell_type": "code",
   "execution_count": 12,
   "id": "6539c96c-91a9-444d-aa0c-ee62f1936ee4",
   "metadata": {},
   "outputs": [],
   "source": [
    "turtle.resetscreen()"
   ]
  },
  {
   "cell_type": "code",
   "execution_count": 13,
   "id": "8e1a2424-56f0-40b7-86fd-f18c8e29da72",
   "metadata": {},
   "outputs": [],
   "source": [
    "# We want to create a square \n",
    "\n",
    "\n",
    "# Move 100 pixel forward \n",
    "# Turn left 90 deg\n",
    "\n",
    "# Move 100 pixel forward\n",
    "# Turn left 90 deg\n",
    "\n",
    "# Move 100 pixel forward\n",
    "# Turn left 90 deg\n",
    "\n",
    "# Move 100 pixel forward\n",
    "# Turn left 90 deg\n",
    "\n",
    "t.fd(100)\n",
    "t.lt(90)\n",
    "\n",
    "t.fd(100)\n",
    "t.lt(90)\n",
    "\n",
    "t.fd(100)\n",
    "t.lt(90)\n",
    "\n",
    "t.fd(100)\n",
    "t.lt(90)"
   ]
  },
  {
   "cell_type": "code",
   "execution_count": 15,
   "id": "7a4c57c8-12a7-4968-95bf-2875f64fd094",
   "metadata": {},
   "outputs": [],
   "source": [
    "turtle.resetscreen()"
   ]
  },
  {
   "cell_type": "code",
   "execution_count": 16,
   "id": "89dd9b8e-d567-4c5d-b149-df7db162abb0",
   "metadata": {},
   "outputs": [],
   "source": [
    "\n",
    "# with loop\n",
    "\n",
    "\n",
    "for i in range(4):\n",
    "    t.fd(100)\n",
    "    t.lt(90)\n",
    "    \n"
   ]
  },
  {
   "cell_type": "code",
   "execution_count": null,
   "id": "b6784a07-b958-41a0-8c0b-49f845fa0a9c",
   "metadata": {},
   "outputs": [],
   "source": []
  },
  {
   "cell_type": "code",
   "execution_count": null,
   "id": "f463e0f6-bd74-4c6e-8148-530a205fb3b1",
   "metadata": {},
   "outputs": [],
   "source": []
  },
  {
   "cell_type": "code",
   "execution_count": null,
   "id": "c909604a-c780-4ead-9569-63c92c66e6d7",
   "metadata": {},
   "outputs": [],
   "source": []
  },
  {
   "cell_type": "code",
   "execution_count": 17,
   "id": "353ff1e0-7d90-4381-ae6b-ea93d788ac75",
   "metadata": {},
   "outputs": [],
   "source": [
    "# last statement -> before close \n",
    "# restart the kernel after you close the turtle\n",
    "\n",
    "turtle.mainloop()"
   ]
  },
  {
   "cell_type": "code",
   "execution_count": null,
   "id": "1211d527-a1d2-4c9e-98ab-d12868ea0ce9",
   "metadata": {},
   "outputs": [],
   "source": []
  },
  {
   "cell_type": "code",
   "execution_count": null,
   "id": "ad78d78b-0be4-4389-a9d2-751ea4f0c11c",
   "metadata": {},
   "outputs": [],
   "source": []
  }
 ],
 "metadata": {
  "kernelspec": {
   "display_name": "Python 3 (ipykernel)",
   "language": "python",
   "name": "python3"
  },
  "language_info": {
   "codemirror_mode": {
    "name": "ipython",
    "version": 3
   },
   "file_extension": ".py",
   "mimetype": "text/x-python",
   "name": "python",
   "nbconvert_exporter": "python",
   "pygments_lexer": "ipython3",
   "version": "3.8.12"
  }
 },
 "nbformat": 4,
 "nbformat_minor": 5
}
