{
 "cells": [
  {
   "cell_type": "markdown",
   "id": "49811c54-cca6-4909-bed5-36763d675dda",
   "metadata": {},
   "source": [
    "# First Program"
   ]
  },
  {
   "cell_type": "markdown",
   "id": "1baffcda-1bf9-4823-b802-f76a4f811155",
   "metadata": {},
   "source": [
    "**Program:** A program is a procedure that tells the computer how to succeed a given task"
   ]
  },
  {
   "cell_type": "code",
   "execution_count": 1,
   "id": "a532ef06-835b-41be-a97f-74394b6a690f",
   "metadata": {},
   "outputs": [
    {
     "name": "stdout",
     "output_type": "stream",
     "text": [
      "Hello World!\n"
     ]
    }
   ],
   "source": [
    "print(\"Hello World!\")"
   ]
  },
  {
   "cell_type": "code",
   "execution_count": 2,
   "id": "ab6fbd22-9a63-4245-b508-3debe49240ce",
   "metadata": {},
   "outputs": [
    {
     "name": "stdout",
     "output_type": "stream",
     "text": [
      "This is second line of code\n"
     ]
    }
   ],
   "source": [
    "print(\"This is second line of code\")"
   ]
  },
  {
   "cell_type": "code",
   "execution_count": 3,
   "id": "0ddd6a52-596c-40dc-baae-d1cf5484aa52",
   "metadata": {},
   "outputs": [
    {
     "name": "stdout",
     "output_type": "stream",
     "text": [
      "2345\n"
     ]
    }
   ],
   "source": [
    "print(2345)"
   ]
  },
  {
   "cell_type": "code",
   "execution_count": 4,
   "id": "f14cbfd2-cefd-4daf-bc67-e765cc9cc686",
   "metadata": {},
   "outputs": [
    {
     "data": {
      "text/plain": [
       "7"
      ]
     },
     "execution_count": 4,
     "metadata": {},
     "output_type": "execute_result"
    }
   ],
   "source": [
    "5 + 2"
   ]
  },
  {
   "cell_type": "markdown",
   "id": "17e4370b-5c7d-4f95-b3b5-1052347eaf30",
   "metadata": {},
   "source": [
    "## Arithmetic Operations"
   ]
  },
  {
   "cell_type": "markdown",
   "id": "fe884928-ae24-4af6-918a-8a8486379564",
   "metadata": {},
   "source": [
    "* Addition: +\n",
    "* Subtraction: -\n",
    "* Division: /\n",
    "* Multiplication : *\n",
    "* Exponental: **\n",
    "* Modulus: %\n",
    "* Floor Division://"
   ]
  },
  {
   "cell_type": "code",
   "execution_count": 5,
   "id": "56457153-dc2b-4681-be2e-e7d9f9dd4dd1",
   "metadata": {},
   "outputs": [
    {
     "data": {
      "text/plain": [
       "40"
      ]
     },
     "execution_count": 5,
     "metadata": {},
     "output_type": "execute_result"
    }
   ],
   "source": [
    "24 + 16"
   ]
  },
  {
   "cell_type": "code",
   "execution_count": 6,
   "id": "b1106c51-8bfa-4cf7-a409-cdcd55ab042b",
   "metadata": {},
   "outputs": [
    {
     "data": {
      "text/plain": [
       "30"
      ]
     },
     "execution_count": 6,
     "metadata": {},
     "output_type": "execute_result"
    }
   ],
   "source": [
    "47 - 17"
   ]
  },
  {
   "cell_type": "code",
   "execution_count": 7,
   "id": "d3169976-b2d8-40e2-98ae-21ccba966929",
   "metadata": {},
   "outputs": [
    {
     "data": {
      "text/plain": [
       "40"
      ]
     },
     "execution_count": 7,
     "metadata": {},
     "output_type": "execute_result"
    }
   ],
   "source": [
    "5 * 8"
   ]
  },
  {
   "cell_type": "code",
   "execution_count": 8,
   "id": "d8bafcb7-0c12-47eb-b85b-e3abba5a2f86",
   "metadata": {},
   "outputs": [
    {
     "data": {
      "text/plain": [
       "8.0"
      ]
     },
     "execution_count": 8,
     "metadata": {},
     "output_type": "execute_result"
    }
   ],
   "source": [
    "80 / 10"
   ]
  },
  {
   "cell_type": "code",
   "execution_count": 9,
   "id": "eb7581dd-e191-4f7b-9dad-e4254ab60172",
   "metadata": {},
   "outputs": [
    {
     "data": {
      "text/plain": [
       "9"
      ]
     },
     "execution_count": 9,
     "metadata": {},
     "output_type": "execute_result"
    }
   ],
   "source": [
    "3 ** 2"
   ]
  },
  {
   "cell_type": "code",
   "execution_count": 10,
   "id": "1b479c09-126a-4237-8cf8-3793d9325094",
   "metadata": {},
   "outputs": [
    {
     "data": {
      "text/plain": [
       "64"
      ]
     },
     "execution_count": 10,
     "metadata": {},
     "output_type": "execute_result"
    }
   ],
   "source": [
    "4**3"
   ]
  },
  {
   "cell_type": "code",
   "execution_count": 11,
   "id": "c1079bca-e892-461e-aa66-0abe3a336249",
   "metadata": {},
   "outputs": [
    {
     "data": {
      "text/plain": [
       "4"
      ]
     },
     "execution_count": 11,
     "metadata": {},
     "output_type": "execute_result"
    }
   ],
   "source": [
    "64 % 5"
   ]
  },
  {
   "cell_type": "code",
   "execution_count": 12,
   "id": "67f4ec98-ec5c-495c-9ed4-5ab7429ed764",
   "metadata": {},
   "outputs": [
    {
     "data": {
      "text/plain": [
       "1"
      ]
     },
     "execution_count": 12,
     "metadata": {},
     "output_type": "execute_result"
    }
   ],
   "source": [
    "9 % 2"
   ]
  },
  {
   "cell_type": "code",
   "execution_count": 13,
   "id": "dfea2922-cddf-4ab3-969f-eb4b735e3519",
   "metadata": {},
   "outputs": [
    {
     "data": {
      "text/plain": [
       "4.5"
      ]
     },
     "execution_count": 13,
     "metadata": {},
     "output_type": "execute_result"
    }
   ],
   "source": [
    "9 / 2"
   ]
  },
  {
   "cell_type": "code",
   "execution_count": 14,
   "id": "93353644-83cd-43cb-be9a-df667a1edc11",
   "metadata": {},
   "outputs": [
    {
     "data": {
      "text/plain": [
       "4"
      ]
     },
     "execution_count": 14,
     "metadata": {},
     "output_type": "execute_result"
    }
   ],
   "source": [
    "9 // 2"
   ]
  },
  {
   "cell_type": "code",
   "execution_count": 15,
   "id": "696049d7-c8c0-4203-9674-735af8cad713",
   "metadata": {},
   "outputs": [
    {
     "data": {
      "text/plain": [
       "2.4"
      ]
     },
     "execution_count": 15,
     "metadata": {},
     "output_type": "execute_result"
    }
   ],
   "source": [
    "12 / 5"
   ]
  },
  {
   "cell_type": "code",
   "execution_count": 16,
   "id": "a6ce0299-4f05-43d4-ba65-d6a828440445",
   "metadata": {},
   "outputs": [
    {
     "data": {
      "text/plain": [
       "2"
      ]
     },
     "execution_count": 16,
     "metadata": {},
     "output_type": "execute_result"
    }
   ],
   "source": [
    "12 // 5"
   ]
  },
  {
   "cell_type": "code",
   "execution_count": null,
   "id": "33318779-6e03-4e9a-9342-05b80ab0b6ea",
   "metadata": {},
   "outputs": [],
   "source": []
  }
 ],
 "metadata": {
  "kernelspec": {
   "display_name": "Python 3 (ipykernel)",
   "language": "python",
   "name": "python3"
  },
  "language_info": {
   "codemirror_mode": {
    "name": "ipython",
    "version": 3
   },
   "file_extension": ".py",
   "mimetype": "text/x-python",
   "name": "python",
   "nbconvert_exporter": "python",
   "pygments_lexer": "ipython3",
   "version": "3.8.12"
  }
 },
 "nbformat": 4,
 "nbformat_minor": 5
}
