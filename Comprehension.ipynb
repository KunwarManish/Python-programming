{
 "cells": [
  {
   "cell_type": "markdown",
   "id": "417b9fbd-84a4-44ff-820c-dc4c28e14eb4",
   "metadata": {},
   "source": [
    "# Comprehension"
   ]
  },
  {
   "cell_type": "markdown",
   "id": "f162e7f3-b440-4d03-b367-3d11b3efdaf9",
   "metadata": {},
   "source": [
    "## What is Comprehension?"
   ]
  },
  {
   "cell_type": "markdown",
   "id": "06220c95-19fb-4c6c-8ef9-9303b412330a",
   "metadata": {},
   "source": [
    "## Comprehension\n",
    "\n",
    "Comprehension is an easy way to loop over sequences."
   ]
  },
  {
   "cell_type": "markdown",
   "id": "6c9a4ecf-dca1-4b95-a742-6847df7c5927",
   "metadata": {},
   "source": [
    "## List Comprehension\n",
    "\n",
    "**Example:**\n",
    "\n",
    "Create a list that contain the squares of numbers from 1 to 10:"
   ]
  },
  {
   "cell_type": "code",
   "execution_count": 1,
   "id": "2ece8450-b461-4750-9c72-45642a0c7800",
   "metadata": {},
   "outputs": [
    {
     "name": "stdout",
     "output_type": "stream",
     "text": [
      "[1, 4, 9, 16, 25, 36, 49, 64, 81, 100]\n"
     ]
    }
   ],
   "source": [
    "# classical -> loop\n",
    "\n",
    "squares = []\n",
    "\n",
    "for i in range(1, 11):\n",
    "    squares.append(i**2)\n",
    "    \n",
    "print(squares)"
   ]
  },
  {
   "cell_type": "code",
   "execution_count": 3,
   "id": "db35a00d-2087-4bed-b906-7f14646df2e3",
   "metadata": {},
   "outputs": [
    {
     "name": "stdout",
     "output_type": "stream",
     "text": [
      "[1, 4, 9, 16, 25, 36, 49, 64, 81, 100]\n"
     ]
    }
   ],
   "source": [
    "# comprehension\n",
    "\n",
    "squares_comp = [i**2 for i in range(1, 11)]\n",
    "                \n",
    "print(squares_comp)"
   ]
  },
  {
   "cell_type": "code",
   "execution_count": 4,
   "id": "0bc5f0ee-32b5-443d-abee-ffcafed7c1e7",
   "metadata": {},
   "outputs": [
    {
     "name": "stdout",
     "output_type": "stream",
     "text": [
      "[1, 4, 9, 16, 25, 36, 49, 64, 81, 100]\n"
     ]
    }
   ],
   "source": [
    "# comprehension\n",
    "\n",
    "squares_comp = [i**2\n",
    "                for i in range(1, 11)]\n",
    "\n",
    "print(squares_comp)"
   ]
  },
  {
   "cell_type": "markdown",
   "id": "623564d0-5723-47f0-ab61-1e8391052375",
   "metadata": {},
   "source": [
    "**Example:**\n",
    "\n",
    "Create a list that contain the cubes of numbers from 1 to 7:"
   ]
  },
  {
   "cell_type": "code",
   "execution_count": 5,
   "id": "5c90b9d7-4fbb-4cb8-95de-233f5a5b232c",
   "metadata": {},
   "outputs": [
    {
     "data": {
      "text/plain": [
       "[1, 8, 27, 64, 125, 216]"
      ]
     },
     "execution_count": 5,
     "metadata": {},
     "output_type": "execute_result"
    }
   ],
   "source": [
    "# classical - loops\n",
    "\n",
    "cubes = list()\n",
    "\n",
    "for k in range(1, 7):\n",
    "    cubes.append(k**3)\n",
    "    \n",
    "cubes"
   ]
  },
  {
   "cell_type": "code",
   "execution_count": 6,
   "id": "0c27d7a5-cbc7-4bc6-b161-5909809d819b",
   "metadata": {},
   "outputs": [
    {
     "data": {
      "text/plain": [
       "[1, 8, 27, 64, 125, 216]"
      ]
     },
     "execution_count": 6,
     "metadata": {},
     "output_type": "execute_result"
    }
   ],
   "source": [
    "# comprehension\n",
    "\n",
    "cubes_comp = [k**3\n",
    "              for k in range(1, 7)]\n",
    "\n",
    "cubes_comp"
   ]
  },
  {
   "cell_type": "markdown",
   "id": "4fbcda69-72a2-4aa3-a92b-04852ccc33ec",
   "metadata": {},
   "source": [
    "**Example:**\n",
    "\n",
    "Covert the letters of 'lorem impsum' into upper case and append them to a list:"
   ]
  },
  {
   "cell_type": "code",
   "execution_count": 7,
   "id": "ff012c3a-f8c0-4f67-8b88-cfb370965b69",
   "metadata": {},
   "outputs": [],
   "source": [
    "text = 'lorem ipsum'"
   ]
  },
  {
   "cell_type": "code",
   "execution_count": 9,
   "id": "4d2efa75-0960-4ed6-abbd-a37ba193d95f",
   "metadata": {},
   "outputs": [
    {
     "data": {
      "text/plain": [
       "['L', 'O', 'R', 'E', 'M', ' ', 'I', 'P', 'S', 'U', 'M']"
      ]
     },
     "execution_count": 9,
     "metadata": {},
     "output_type": "execute_result"
    }
   ],
   "source": [
    "# classical - loops\n",
    "\n",
    "capitals = []\n",
    "\n",
    "for letter in text:\n",
    "    capitals.append(letter.upper())\n",
    "    \n",
    "capitals"
   ]
  },
  {
   "cell_type": "code",
   "execution_count": 13,
   "id": "6d8cb3ce-a18a-48f4-b2fb-8196393a379a",
   "metadata": {},
   "outputs": [
    {
     "data": {
      "text/plain": [
       "['L', 'O', 'R', 'E', 'M', ' ', 'I', 'P', 'S', 'U', 'M']"
      ]
     },
     "execution_count": 13,
     "metadata": {},
     "output_type": "execute_result"
    }
   ],
   "source": [
    "# Comprehension\n",
    "\n",
    "capitals_comp = [letter.upper()\n",
    "                for letter in text]\n",
    "\n",
    "capitals_comp"
   ]
  },
  {
   "cell_type": "markdown",
   "id": "b42e77c8-12bf-41df-bf1f-f26272526a3f",
   "metadata": {},
   "source": [
    "## Dictionary Comprehension\n",
    "\n",
    "**Example:**\n",
    "\n",
    "We have two lists:\n",
    "\n",
    "Programming Languages ve Release Years:\n",
    "\n",
    "    languages = ['Python', 'Java', 'JavaScript', 'C#']\n",
    "    years = [1989, 1995, 1995, 2000]\n",
    "   \n",
    "We will combine these two lists in a dictionary:"
   ]
  },
  {
   "cell_type": "code",
   "execution_count": 2,
   "id": "759b72c2-d1fa-4958-b601-848f84e1a9d2",
   "metadata": {},
   "outputs": [],
   "source": [
    "languages = ['Python', 'Java', 'JavaScript', 'C#']\n",
    "years = [1989, 1995, 1995, 2000]"
   ]
  },
  {
   "cell_type": "code",
   "execution_count": 3,
   "id": "c6fce1cd-2b36-4839-8061-6d5e11f262b8",
   "metadata": {},
   "outputs": [
    {
     "data": {
      "text/plain": [
       "{'Python': 1989, 'Java': 1995, 'JavaScript': 1995, 'C#': 2000}"
      ]
     },
     "execution_count": 3,
     "metadata": {},
     "output_type": "execute_result"
    }
   ],
   "source": [
    "# classical -> loop\n",
    "\n",
    "lang_year = {}\n",
    "for lang, year in zip(languages, years):\n",
    "    lang_year[lang] = year\n",
    "    \n",
    "lang_year"
   ]
  },
  {
   "cell_type": "code",
   "execution_count": 4,
   "id": "e9514e2d-d353-40fd-85f6-19593c1397d6",
   "metadata": {},
   "outputs": [
    {
     "data": {
      "text/plain": [
       "{'Python': 1989, 'Java': 1995, 'JavaScript': 1995, 'C#': 2000}"
      ]
     },
     "execution_count": 4,
     "metadata": {},
     "output_type": "execute_result"
    }
   ],
   "source": [
    "# Comprehension\n",
    "\n",
    "lang_year_comp = {lang: year\n",
    "                  for lang, year in zip(languages, years)}\n",
    "\n",
    "lang_year_comp"
   ]
  },
  {
   "cell_type": "code",
   "execution_count": 6,
   "id": "2cfe5821-cd6a-489b-91f2-a5597a3b950a",
   "metadata": {},
   "outputs": [
    {
     "data": {
      "text/plain": [
       "{'Python': 1989, 'Java': 1995, 'JavaScript': 1995, 'C#': 2000}"
      ]
     },
     "execution_count": 6,
     "metadata": {},
     "output_type": "execute_result"
    }
   ],
   "source": [
    "lang_year_comp_2 = {lang: year for lang, year in zip(languages, years)}\n",
    "\n",
    "lang_year_comp_2"
   ]
  },
  {
   "cell_type": "markdown",
   "id": "0c86b92f-41bb-410a-8a0e-3ad85385d739",
   "metadata": {},
   "source": [
    "## Set Comprehension\n",
    "\n",
    "**Example:**\n",
    "\n",
    "Let's create a set containing the letters of 'pepper'/"
   ]
  },
  {
   "cell_type": "code",
   "execution_count": 7,
   "id": "3ffd385e-2cc1-42a4-85d3-677c82ff0e56",
   "metadata": {},
   "outputs": [],
   "source": [
    "pepper = 'pepper'"
   ]
  },
  {
   "cell_type": "code",
   "execution_count": 9,
   "id": "9af4df43-0d39-4cdd-a245-bcf5bbc9032f",
   "metadata": {},
   "outputs": [
    {
     "data": {
      "text/plain": [
       "{'e', 'p', 'r'}"
      ]
     },
     "execution_count": 9,
     "metadata": {},
     "output_type": "execute_result"
    }
   ],
   "source": [
    "# loop\n",
    "\n",
    "letters = set()\n",
    "\n",
    "for l in pepper:\n",
    "    letters.add(l)\n",
    "    \n",
    "letters"
   ]
  },
  {
   "cell_type": "code",
   "execution_count": 11,
   "id": "dc2d544e-62ff-4ed5-88a6-e33b62afd8b6",
   "metadata": {},
   "outputs": [
    {
     "data": {
      "text/plain": [
       "{'e', 'p', 'r'}"
      ]
     },
     "execution_count": 11,
     "metadata": {},
     "output_type": "execute_result"
    }
   ],
   "source": [
    "# comprehension\n",
    "\n",
    "letters_comp = {l for l in pepper}\n",
    "letters_comp"
   ]
  },
  {
   "cell_type": "markdown",
   "id": "a6580110-1207-4452-b211-68e2c592a6c8",
   "metadata": {},
   "source": [
    "## Nested Comprehensions"
   ]
  },
  {
   "cell_type": "markdown",
   "id": "21a6a1cb-e371-4411-a095-da392956eaa0",
   "metadata": {},
   "source": [
    "**Example:**\n",
    "\n",
    "We have two lists and we want to create a new list of Tuples.\n",
    "\n",
    "The Tuple elements will be the pairs of the items from these lists:"
   ]
  },
  {
   "cell_type": "code",
   "execution_count": 12,
   "id": "811120ca-21d7-440c-acb3-900b8736ce1b",
   "metadata": {},
   "outputs": [],
   "source": [
    "# lists\n",
    "\n",
    "letters = ['A', 'B']\n",
    "numbers = [1, 2, 3]"
   ]
  },
  {
   "cell_type": "raw",
   "id": "4184967b-ee19-4662-bbaf-8a173c1ee0bb",
   "metadata": {},
   "source": [
    "Expected Output:\n",
    "    \n",
    "    [\n",
    "    ('A', 1),\n",
    "    ('A', 2),\n",
    "    ('A', 3),\n",
    "    ...\n",
    "    ]"
   ]
  },
  {
   "cell_type": "code",
   "execution_count": 13,
   "id": "c4ddeb11-f577-4a79-be3a-a2ca9cb82947",
   "metadata": {},
   "outputs": [
    {
     "name": "stdout",
     "output_type": "stream",
     "text": [
      "[('A', 1), ('A', 2), ('A', 3), ('B', 1), ('B', 2), ('B', 3)]\n"
     ]
    }
   ],
   "source": [
    "# classical -> loop\n",
    "\n",
    "result = []\n",
    "\n",
    "for letter in letters:\n",
    "    for number in numbers:\n",
    "        tup = (letter, number)\n",
    "        result.append(tup)\n",
    "\n",
    "print(result)"
   ]
  },
  {
   "cell_type": "code",
   "execution_count": 14,
   "id": "b6d70d34-b645-4b72-a600-11bfe4372d6b",
   "metadata": {},
   "outputs": [
    {
     "data": {
      "text/plain": [
       "[('A', 1), ('A', 2), ('A', 3), ('B', 1), ('B', 2), ('B', 3)]"
      ]
     },
     "execution_count": 14,
     "metadata": {},
     "output_type": "execute_result"
    }
   ],
   "source": [
    "# nested comprehension\n",
    "\n",
    "result_comp = [(letter, number)\n",
    "               for letter in letters\n",
    "               for number in numbers]\n",
    "result_comp"
   ]
  },
  {
   "cell_type": "markdown",
   "id": "b9c600a8-4d83-43c7-96d8-50f53b71e2cf",
   "metadata": {},
   "source": [
    "**Example:**\n",
    "\n",
    "We want to create a dictionary for numbers from 1 to 10.\n",
    "\n",
    "The number itself will be the key and a list of all the numbers less than or equal to that number will be the value:\n",
    "    \n",
    "    \n",
    "    smallers = {\n",
    "    1: [1],\n",
    "    2: [1, 2],\n",
    "    3: [1, 2, 3],\n",
    "    4: [1, 2, 3, 4],\n",
    "    5: [1, 2, 3, 4, 5],\n",
    "    6: [1, 2, 3, 4, 5, 6],\n",
    "    7: [1, 2, 3, 4, 5, 6, 7],\n",
    "    8: [1, 2, 3, 4, 5, 6, 7, 8],\n",
    "    9: [1, 2, 3, 4, 5, 6, 7, 8, 9, 10]\n",
    "    }"
   ]
  },
  {
   "cell_type": "code",
   "execution_count": 16,
   "id": "faa33780-70a3-4298-92f9-88fead75907f",
   "metadata": {},
   "outputs": [
    {
     "data": {
      "text/plain": [
       "{1: [1],\n",
       " 2: [1, 2],\n",
       " 3: [1, 2, 3],\n",
       " 4: [1, 2, 3, 4],\n",
       " 5: [1, 2, 3, 4, 5],\n",
       " 6: [1, 2, 3, 4, 5, 6],\n",
       " 7: [1, 2, 3, 4, 5, 6, 7],\n",
       " 8: [1, 2, 3, 4, 5, 6, 7, 8],\n",
       " 9: [1, 2, 3, 4, 5, 6, 7, 8, 9],\n",
       " 10: [1, 2, 3, 4, 5, 6, 7, 8, 9, 10]}"
      ]
     },
     "execution_count": 16,
     "metadata": {},
     "output_type": "execute_result"
    }
   ],
   "source": [
    "# classical -> loop\n",
    "\n",
    "smallers = dict()\n",
    "\n",
    "for i in range(1, 11):\n",
    "    \n",
    "    for j in range(1, i+1):\n",
    "        \n",
    "        # if already not in dict\n",
    "        if not i in smallers:\n",
    "            smallers[i] = [j]\n",
    "        else:\n",
    "            smallers[i].append(j)\n",
    "\n",
    "smallers"
   ]
  },
  {
   "cell_type": "code",
   "execution_count": 17,
   "id": "4c4cb2c8-6351-4587-b0cc-521e9d423c1a",
   "metadata": {},
   "outputs": [
    {
     "data": {
      "text/plain": [
       "{1: [1],\n",
       " 2: [1, 2],\n",
       " 3: [1, 2, 3],\n",
       " 4: [1, 2, 3, 4],\n",
       " 5: [1, 2, 3, 4, 5],\n",
       " 6: [1, 2, 3, 4, 5, 6],\n",
       " 7: [1, 2, 3, 4, 5, 6, 7],\n",
       " 8: [1, 2, 3, 4, 5, 6, 7, 8],\n",
       " 9: [1, 2, 3, 4, 5, 6, 7, 8, 9],\n",
       " 10: [1, 2, 3, 4, 5, 6, 7, 8, 9, 10]}"
      ]
     },
     "execution_count": 17,
     "metadata": {},
     "output_type": "execute_result"
    }
   ],
   "source": [
    "# nested comprehension\n",
    "\n",
    "smallers_comp = {i: [j for j in range(1, i+1)]\n",
    "                 for i in range(1, 11)}\n",
    "\n",
    "smallers_comp"
   ]
  },
  {
   "cell_type": "code",
   "execution_count": null,
   "id": "c0aa76db-4ebe-43d3-a842-74b5d40badf8",
   "metadata": {},
   "outputs": [],
   "source": []
  }
 ],
 "metadata": {
  "kernelspec": {
   "display_name": "Python 3 (ipykernel)",
   "language": "python",
   "name": "python3"
  },
  "language_info": {
   "codemirror_mode": {
    "name": "ipython",
    "version": 3
   },
   "file_extension": ".py",
   "mimetype": "text/x-python",
   "name": "python",
   "nbconvert_exporter": "python",
   "pygments_lexer": "ipython3",
   "version": "3.8.12"
  }
 },
 "nbformat": 4,
 "nbformat_minor": 5
}
