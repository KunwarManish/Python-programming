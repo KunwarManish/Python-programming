{
 "cells": [
  {
   "cell_type": "markdown",
   "metadata": {},
   "source": [
    "# Day 3"
   ]
  },
  {
   "cell_type": "markdown",
   "metadata": {},
   "source": [
    "## Conditionals"
   ]
  },
  {
   "cell_type": "markdown",
   "metadata": {},
   "source": [
    "It is used to execute an instruction or block of instructions only if a condition if fulfilled."
   ]
  },
  {
   "cell_type": "code",
   "execution_count": 7,
   "metadata": {},
   "outputs": [],
   "source": [
    "x = 5\n",
    "# x>5\n",
    "if x>5:\n",
    "    print(\"X is greater than 5.\")"
   ]
  },
  {
   "cell_type": "code",
   "execution_count": 14,
   "metadata": {},
   "outputs": [],
   "source": [
    "num = float(input(\"Please enter a number.\"))\n",
    "if num%7 == 0:\n",
    "    print(\"This number is divisible by 7.\")"
   ]
  },
  {
   "cell_type": "code",
   "execution_count": 16,
   "metadata": {},
   "outputs": [
    {
     "data": {
      "text/plain": [
       "0.490000000000002"
      ]
     },
     "execution_count": 16,
     "metadata": {},
     "output_type": "execute_result"
    }
   ],
   "source": [
    "49.49%7"
   ]
  },
  {
   "cell_type": "code",
   "execution_count": 9,
   "metadata": {},
   "outputs": [
    {
     "data": {
      "text/plain": [
       "1.0"
      ]
     },
     "execution_count": 9,
     "metadata": {},
     "output_type": "execute_result"
    }
   ],
   "source": [
    "7/7"
   ]
  },
  {
   "cell_type": "code",
   "execution_count": 10,
   "metadata": {},
   "outputs": [
    {
     "data": {
      "text/plain": [
       "2.0"
      ]
     },
     "execution_count": 10,
     "metadata": {},
     "output_type": "execute_result"
    }
   ],
   "source": [
    "14/7"
   ]
  },
  {
   "cell_type": "code",
   "execution_count": 11,
   "metadata": {},
   "outputs": [
    {
     "data": {
      "text/plain": [
       "0"
      ]
     },
     "execution_count": 11,
     "metadata": {},
     "output_type": "execute_result"
    }
   ],
   "source": [
    "7%7"
   ]
  },
  {
   "cell_type": "code",
   "execution_count": 12,
   "metadata": {},
   "outputs": [
    {
     "data": {
      "text/plain": [
       "0"
      ]
     },
     "execution_count": 12,
     "metadata": {},
     "output_type": "execute_result"
    }
   ],
   "source": [
    "14%7"
   ]
  },
  {
   "cell_type": "code",
   "execution_count": null,
   "metadata": {},
   "outputs": [],
   "source": []
  },
  {
   "cell_type": "code",
   "execution_count": 18,
   "metadata": {},
   "outputs": [
    {
     "name": "stdout",
     "output_type": "stream",
     "text": [
      "This number is not divisible by 7.\n"
     ]
    }
   ],
   "source": [
    "num = int(input(\"Please enter a number.\"))\n",
    "if num%7 == 0:\n",
    "    print(\"This number is divisible by 7.\")\n",
    "else:\n",
    "    print(\"This number is not divisible by 7.\")"
   ]
  },
  {
   "cell_type": "code",
   "execution_count": 21,
   "metadata": {},
   "outputs": [
    {
     "name": "stdout",
     "output_type": "stream",
     "text": [
      "It is a zero.\n"
     ]
    }
   ],
   "source": [
    "n = int(input(\"Enter a number: \"))\n",
    "if n>0:\n",
    "    print(\"It is a positive number.\")\n",
    "elif n<0:\n",
    "    print(\"It is a negative number.\")\n",
    "else:\n",
    "    print(\"It is a zero.\")"
   ]
  },
  {
   "cell_type": "code",
   "execution_count": 23,
   "metadata": {},
   "outputs": [
    {
     "name": "stdout",
     "output_type": "stream",
     "text": [
      "This is a html file.\n"
     ]
    }
   ],
   "source": [
    "file = input(\"Enter file name: \")\n",
    "if file.endswith(\"png\"):\n",
    "    print(\"This is a image file.\")\n",
    "elif file.endswith(\"xlsx\"):\n",
    "    print(\"This is a excel file.\")\n",
    "elif file.endswith(\".html\"):\n",
    "    print(\"This is a html file.\")\n",
    "else:\n",
    "    print(\"This file is neither image file nor excel file nor html file.\")"
   ]
  },
  {
   "cell_type": "code",
   "execution_count": 27,
   "metadata": {},
   "outputs": [
    {
     "name": "stdout",
     "output_type": "stream",
     "text": [
      "That's fine.\n"
     ]
    }
   ],
   "source": [
    "num = int(input(\"Enter a number: \"))\n",
    "if num%9 == 0 and num%10== 0 :\n",
    "    print(\"This is a good number.\")\n",
    "elif num%7 == 0 or num%3 == 0:\n",
    "    print(\"This is a average number.\")\n",
    "else:\n",
    "    print(\"That's fine.\")\n"
   ]
  },
  {
   "cell_type": "markdown",
   "metadata": {},
   "source": [
    "# Project 2"
   ]
  },
  {
   "cell_type": "code",
   "execution_count": 6,
   "metadata": {},
   "outputs": [
    {
     "name": "stdout",
     "output_type": "stream",
     "text": [
      "Your weight in pounds is 158 pounds.\n"
     ]
    }
   ],
   "source": [
    "# KG to Pound Converter or ViceVersa.\n",
    "# Create a simple program to take weight as user input and based on input units. Convert it into another unit.\n",
    "weight_input = int(input(\"Enter your weight: \"))\n",
    "unit = input(\"Please enter 1 if you want to convert it to kg or 2 if you want to convert it to pounds: \")\n",
    "\n",
    "if unit == \"1\":\n",
    "    weight_in_kg = weight_input/2.20462\n",
    "    print(f\"Your weight in kg is {int(weight_in_kg)} kg.\")\n",
    "elif unit == \"2\":\n",
    "    weight_in_pounds = weight_input*2.20462\n",
    "    print(f\"Your weight in pounds is {int(weight_in_pounds)} pounds.\")\n",
    "\n"
   ]
  },
  {
   "cell_type": "markdown",
   "metadata": {},
   "source": [
    "## Loops"
   ]
  },
  {
   "cell_type": "markdown",
   "metadata": {},
   "source": [
    "In Python, loops statements gives you a way to execute certain block of code repeatedly.\n",
    "\n",
    "We can used loops to either execute for a fixed number of times or while some condition is true."
   ]
  },
  {
   "cell_type": "markdown",
   "metadata": {},
   "source": [
    "### While Loops"
   ]
  },
  {
   "cell_type": "markdown",
   "metadata": {},
   "source": [
    "With the while loop we can execute a set of statements as long as a condition is true."
   ]
  },
  {
   "cell_type": "code",
   "execution_count": 8,
   "metadata": {},
   "outputs": [
    {
     "name": "stdout",
     "output_type": "stream",
     "text": [
      "1\n",
      "2\n",
      "3\n",
      "4\n",
      "5\n"
     ]
    }
   ],
   "source": [
    "i = 1\n",
    "while i<=5:\n",
    "    print(i)\n",
    "    i+=1"
   ]
  },
  {
   "cell_type": "markdown",
   "metadata": {},
   "source": [
    "While loops can be nested inside if/elif/else statements, and vice versa:"
   ]
  },
  {
   "cell_type": "code",
   "execution_count": 9,
   "metadata": {},
   "outputs": [
    {
     "name": "stdout",
     "output_type": "stream",
     "text": [
      "2\n",
      "4\n",
      "6\n",
      "8\n"
     ]
    }
   ],
   "source": [
    "i = 1\n",
    "while i<10:\n",
    "    if i%2==0:\n",
    "        print(i)\n",
    "    i+=1"
   ]
  },
  {
   "cell_type": "code",
   "execution_count": 10,
   "metadata": {},
   "outputs": [
    {
     "name": "stdout",
     "output_type": "stream",
     "text": [
      "Please enter number less than 10 only.\n"
     ]
    }
   ],
   "source": [
    "num = int(input(\"Enter a random number: \"))\n",
    "\n",
    "i = 1\n",
    "if num<10:\n",
    "    while i<num:\n",
    "        print(i)\n",
    "        i+=1\n",
    "else:\n",
    "    print(\"Please enter number less than 10 only.\")"
   ]
  },
  {
   "cell_type": "code",
   "execution_count": 11,
   "metadata": {},
   "outputs": [
    {
     "name": "stdout",
     "output_type": "stream",
     "text": [
      "5050\n"
     ]
    }
   ],
   "source": [
    "counter=0\n",
    "total=0\n",
    "\n",
    "#Construct your while loop here.\n",
    "while counter <= 100:\n",
    "    total = total+counter\n",
    "    counter += 1\n",
    "print(total)"
   ]
  },
  {
   "cell_type": "markdown",
   "metadata": {},
   "source": [
    "# Project 3"
   ]
  },
  {
   "cell_type": "code",
   "execution_count": 13,
   "metadata": {},
   "outputs": [
    {
     "name": "stdout",
     "output_type": "stream",
     "text": [
      "Sorry guess again. Little bit lower next time.\n",
      "Congratulation!!! You have correctly guessed the number 27.Since you take 1 chance, you have won Rs.10000\n"
     ]
    }
   ],
   "source": [
    "random_number = 27\n",
    "guess = 0\n",
    "count = 0\n",
    "while guess != random_number:\n",
    "    guess = int(input(f\"Guess a number between 1 and 100: \"))\n",
    "    if guess < random_number-25:\n",
    "        print(\"Sorry, guess again. Too low.\")\n",
    "    elif guess > random_number+25:\n",
    "        print('Sorry, guess again. Too high.')\n",
    "    else:\n",
    "        if guess < random_number:\n",
    "            print(\"Sorry guess again. Little bit higher next time.\")\n",
    "        else:\n",
    "            print(\"Sorry guess again. Little bit lower next time.\")\n",
    "    count += 1\n",
    "print(f\"Congratulation!!! You have correctly guessed the number {random_number}.\\\n",
    "Since you take {count} chance, you have won Rs.{int(10000/count)}\")"
   ]
  },
  {
   "cell_type": "code",
   "execution_count": null,
   "metadata": {},
   "outputs": [],
   "source": []
  }
 ],
 "metadata": {
  "interpreter": {
   "hash": "c8e829dafc3660d20662d589f3270e4c770d897f8207ab99cee52b17abd986f6"
  },
  "kernelspec": {
   "display_name": "Python 3 (ipykernel)",
   "language": "python",
   "name": "python3"
  },
  "language_info": {
   "codemirror_mode": {
    "name": "ipython",
    "version": 3
   },
   "file_extension": ".py",
   "mimetype": "text/x-python",
   "name": "python",
   "nbconvert_exporter": "python",
   "pygments_lexer": "ipython3",
   "version": "3.8.12"
  }
 },
 "nbformat": 4,
 "nbformat_minor": 4
}
