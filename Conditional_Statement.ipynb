{
 "cells": [
  {
   "cell_type": "markdown",
   "id": "76cca044-494f-4692-963a-38946402cc5e",
   "metadata": {},
   "source": [
    "# Conditional Statements"
   ]
  },
  {
   "cell_type": "markdown",
   "id": "b6f57358-ebfb-47d3-a5da-01697e4e3316",
   "metadata": {},
   "source": [
    "# What is a Conditional Statement?"
   ]
  },
  {
   "cell_type": "markdown",
   "id": "6368b43a-2ca4-4cca-a027-fd84b6a8a080",
   "metadata": {},
   "source": [
    "A conditional statement is an experssion which evalutes either **True** or **False**."
   ]
  },
  {
   "cell_type": "code",
   "execution_count": 1,
   "id": "20d31cdc-9626-4daf-9f4d-5ee472d1e815",
   "metadata": {},
   "outputs": [
    {
     "data": {
      "text/plain": [
       "True"
      ]
     },
     "execution_count": 1,
     "metadata": {},
     "output_type": "execute_result"
    }
   ],
   "source": [
    "6 == 6"
   ]
  },
  {
   "cell_type": "code",
   "execution_count": 2,
   "id": "b13e533e-8396-4320-be32-46ba1705bdcc",
   "metadata": {},
   "outputs": [
    {
     "data": {
      "text/plain": [
       "6"
      ]
     },
     "execution_count": 2,
     "metadata": {},
     "output_type": "execute_result"
    }
   ],
   "source": [
    "# single equal sign -> = , assignment\n",
    "\n",
    "a = 6\n",
    "a"
   ]
  },
  {
   "cell_type": "code",
   "execution_count": 3,
   "id": "29ffe974-670d-4412-ad54-388e86ea306d",
   "metadata": {},
   "outputs": [
    {
     "data": {
      "text/plain": [
       "True"
      ]
     },
     "execution_count": 3,
     "metadata": {},
     "output_type": "execute_result"
    }
   ],
   "source": [
    "# double equal sign -> == , equality check\n",
    "\n",
    "6 == 6 "
   ]
  },
  {
   "cell_type": "code",
   "execution_count": 4,
   "id": "ced8684c-393f-4430-872d-ea614aa0d9ab",
   "metadata": {},
   "outputs": [
    {
     "data": {
      "text/plain": [
       "False"
      ]
     },
     "execution_count": 4,
     "metadata": {},
     "output_type": "execute_result"
    }
   ],
   "source": [
    "6 == 8"
   ]
  },
  {
   "cell_type": "markdown",
   "id": "aed0a2c5-9596-40e6-a3a3-548cb1af0868",
   "metadata": {},
   "source": [
    "`=` is assignment \n",
    "\n",
    "`==` is equality check"
   ]
  },
  {
   "cell_type": "code",
   "execution_count": 5,
   "id": "24e63e4e-c451-4490-819e-e843570ddff1",
   "metadata": {},
   "outputs": [
    {
     "data": {
      "text/plain": [
       "True"
      ]
     },
     "execution_count": 5,
     "metadata": {},
     "output_type": "execute_result"
    }
   ],
   "source": [
    "True"
   ]
  },
  {
   "cell_type": "code",
   "execution_count": 6,
   "id": "ea6c8ed4-faeb-4af7-9abc-bdd79324f47e",
   "metadata": {},
   "outputs": [
    {
     "data": {
      "text/plain": [
       "False"
      ]
     },
     "execution_count": 6,
     "metadata": {},
     "output_type": "execute_result"
    }
   ],
   "source": [
    "False"
   ]
  },
  {
   "cell_type": "code",
   "execution_count": 7,
   "id": "38e72565-dad5-40c3-b2a5-cbc0c277f054",
   "metadata": {},
   "outputs": [
    {
     "data": {
      "text/plain": [
       "bool"
      ]
     },
     "execution_count": 7,
     "metadata": {},
     "output_type": "execute_result"
    }
   ],
   "source": [
    "type(True)"
   ]
  },
  {
   "cell_type": "markdown",
   "id": "9c3b9193-06f9-49c9-8c86-145230f60dad",
   "metadata": {},
   "source": [
    "**Boolean Experssions:**\n",
    "\n",
    "* x == y : x is equal to y\n",
    "* x != y : x is not equal to y\n",
    "* x < y : x is less than y\n",
    "* x > y : x is greater than y\n",
    "* x <= y : x is less than or equal to y\n",
    "* x >= y : x is greater than or equal to y"
   ]
  },
  {
   "cell_type": "code",
   "execution_count": 8,
   "id": "fdc96e14-c02a-4937-a8e4-89dab2c3d121",
   "metadata": {},
   "outputs": [
    {
     "name": "stdout",
     "output_type": "stream",
     "text": [
      "x == y : False\n",
      "x != y : True\n",
      "x < y : False\n",
      "x > y : True\n",
      "x <= y : False\n",
      "x >= y : True\n"
     ]
    }
   ],
   "source": [
    "x = 12\n",
    "y = 8\n",
    "\n",
    "print(\"x == y :\", x == y)\n",
    "print(\"x != y :\", x != y)\n",
    "print(\"x < y :\", x < y)\n",
    "print(\"x > y :\", x > y)\n",
    "print(\"x <= y :\", x <= y)\n",
    "print(\"x >= y :\", x >=y)"
   ]
  },
  {
   "cell_type": "code",
   "execution_count": null,
   "id": "a5da3d40-5a7a-4117-bafa-415fec6d9818",
   "metadata": {},
   "outputs": [],
   "source": []
  }
 ],
 "metadata": {
  "kernelspec": {
   "display_name": "Python 3 (ipykernel)",
   "language": "python",
   "name": "python3"
  },
  "language_info": {
   "codemirror_mode": {
    "name": "ipython",
    "version": 3
   },
   "file_extension": ".py",
   "mimetype": "text/x-python",
   "name": "python",
   "nbconvert_exporter": "python",
   "pygments_lexer": "ipython3",
   "version": "3.8.12"
  }
 },
 "nbformat": 4,
 "nbformat_minor": 5
}
