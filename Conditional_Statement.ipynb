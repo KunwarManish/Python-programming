{
 "cells": [
  {
   "cell_type": "markdown",
   "id": "76cca044-494f-4692-963a-38946402cc5e",
   "metadata": {},
   "source": [
    "# Conditional Statements"
   ]
  },
  {
   "cell_type": "markdown",
   "id": "b6f57358-ebfb-47d3-a5da-01697e4e3316",
   "metadata": {},
   "source": [
    "# What is a Conditional Statement?"
   ]
  },
  {
   "cell_type": "markdown",
   "id": "6368b43a-2ca4-4cca-a027-fd84b6a8a080",
   "metadata": {},
   "source": [
    "A conditional statement is an experssion which evalutes either **True** or **False**."
   ]
  },
  {
   "cell_type": "code",
   "execution_count": 1,
   "id": "20d31cdc-9626-4daf-9f4d-5ee472d1e815",
   "metadata": {},
   "outputs": [
    {
     "data": {
      "text/plain": [
       "True"
      ]
     },
     "execution_count": 1,
     "metadata": {},
     "output_type": "execute_result"
    }
   ],
   "source": [
    "6 == 6"
   ]
  },
  {
   "cell_type": "code",
   "execution_count": 2,
   "id": "b13e533e-8396-4320-be32-46ba1705bdcc",
   "metadata": {},
   "outputs": [
    {
     "data": {
      "text/plain": [
       "6"
      ]
     },
     "execution_count": 2,
     "metadata": {},
     "output_type": "execute_result"
    }
   ],
   "source": [
    "# single equal sign -> = , assignment\n",
    "\n",
    "a = 6\n",
    "a"
   ]
  },
  {
   "cell_type": "code",
   "execution_count": 3,
   "id": "29ffe974-670d-4412-ad54-388e86ea306d",
   "metadata": {},
   "outputs": [
    {
     "data": {
      "text/plain": [
       "True"
      ]
     },
     "execution_count": 3,
     "metadata": {},
     "output_type": "execute_result"
    }
   ],
   "source": [
    "# double equal sign -> == , equality check\n",
    "\n",
    "6 == 6 "
   ]
  },
  {
   "cell_type": "code",
   "execution_count": 4,
   "id": "ced8684c-393f-4430-872d-ea614aa0d9ab",
   "metadata": {},
   "outputs": [
    {
     "data": {
      "text/plain": [
       "False"
      ]
     },
     "execution_count": 4,
     "metadata": {},
     "output_type": "execute_result"
    }
   ],
   "source": [
    "6 == 8"
   ]
  },
  {
   "cell_type": "markdown",
   "id": "aed0a2c5-9596-40e6-a3a3-548cb1af0868",
   "metadata": {},
   "source": [
    "`=` is assignment \n",
    "\n",
    "`==` is equality check"
   ]
  },
  {
   "cell_type": "code",
   "execution_count": 5,
   "id": "24e63e4e-c451-4490-819e-e843570ddff1",
   "metadata": {},
   "outputs": [
    {
     "data": {
      "text/plain": [
       "True"
      ]
     },
     "execution_count": 5,
     "metadata": {},
     "output_type": "execute_result"
    }
   ],
   "source": [
    "True"
   ]
  },
  {
   "cell_type": "code",
   "execution_count": 6,
   "id": "ea6c8ed4-faeb-4af7-9abc-bdd79324f47e",
   "metadata": {},
   "outputs": [
    {
     "data": {
      "text/plain": [
       "False"
      ]
     },
     "execution_count": 6,
     "metadata": {},
     "output_type": "execute_result"
    }
   ],
   "source": [
    "False"
   ]
  },
  {
   "cell_type": "code",
   "execution_count": 7,
   "id": "38e72565-dad5-40c3-b2a5-cbc0c277f054",
   "metadata": {},
   "outputs": [
    {
     "data": {
      "text/plain": [
       "bool"
      ]
     },
     "execution_count": 7,
     "metadata": {},
     "output_type": "execute_result"
    }
   ],
   "source": [
    "type(True)"
   ]
  },
  {
   "cell_type": "markdown",
   "id": "9c3b9193-06f9-49c9-8c86-145230f60dad",
   "metadata": {},
   "source": [
    "**Boolean Experssions:**\n",
    "\n",
    "* x == y : x is equal to y\n",
    "* x != y : x is not equal to y\n",
    "* x < y : x is less than y\n",
    "* x > y : x is greater than y\n",
    "* x <= y : x is less than or equal to y\n",
    "* x >= y : x is greater than or equal to y"
   ]
  },
  {
   "cell_type": "code",
   "execution_count": 8,
   "id": "fdc96e14-c02a-4937-a8e4-89dab2c3d121",
   "metadata": {},
   "outputs": [
    {
     "name": "stdout",
     "output_type": "stream",
     "text": [
      "x == y : False\n",
      "x != y : True\n",
      "x < y : False\n",
      "x > y : True\n",
      "x <= y : False\n",
      "x >= y : True\n"
     ]
    }
   ],
   "source": [
    "x = 12\n",
    "y = 8\n",
    "\n",
    "print(\"x == y :\", x == y)\n",
    "print(\"x != y :\", x != y)\n",
    "print(\"x < y :\", x < y)\n",
    "print(\"x > y :\", x > y)\n",
    "print(\"x <= y :\", x <= y)\n",
    "print(\"x >= y :\", x >=y)"
   ]
  },
  {
   "cell_type": "markdown",
   "id": "9a9f3b12-1e81-4b26-a011-639937badc50",
   "metadata": {},
   "source": [
    "**Logical Expressions:**\n",
    "* `and` : True if both of the conditions are True, False otherwise\n",
    "* `or` : True if any of the conditions is True, False if all conditions are False."
   ]
  },
  {
   "cell_type": "markdown",
   "id": "f4522824-4c9d-4bb8-8824-8ca75fab8f59",
   "metadata": {},
   "source": [
    "**and:**"
   ]
  },
  {
   "cell_type": "code",
   "execution_count": 9,
   "id": "8fb2f795-779f-45e8-b241-3a4ff6a2f54a",
   "metadata": {},
   "outputs": [
    {
     "data": {
      "text/plain": [
       "True"
      ]
     },
     "execution_count": 9,
     "metadata": {},
     "output_type": "execute_result"
    }
   ],
   "source": [
    "True and True"
   ]
  },
  {
   "cell_type": "code",
   "execution_count": 10,
   "id": "7439f0c6-ddde-4a5e-bee1-61a71cb47030",
   "metadata": {},
   "outputs": [
    {
     "data": {
      "text/plain": [
       "False"
      ]
     },
     "execution_count": 10,
     "metadata": {},
     "output_type": "execute_result"
    }
   ],
   "source": [
    "True and False"
   ]
  },
  {
   "cell_type": "code",
   "execution_count": 11,
   "id": "7cd3dcba-778e-4c98-9cce-625ef53efc47",
   "metadata": {},
   "outputs": [
    {
     "data": {
      "text/plain": [
       "False"
      ]
     },
     "execution_count": 11,
     "metadata": {},
     "output_type": "execute_result"
    }
   ],
   "source": [
    "False and True"
   ]
  },
  {
   "cell_type": "code",
   "execution_count": 12,
   "id": "df80120e-1929-468c-b403-2716a23b90ba",
   "metadata": {},
   "outputs": [
    {
     "data": {
      "text/plain": [
       "False"
      ]
     },
     "execution_count": 12,
     "metadata": {},
     "output_type": "execute_result"
    }
   ],
   "source": [
    "False and False"
   ]
  },
  {
   "cell_type": "markdown",
   "id": "5cbe1d53-6164-492c-9157-ebaec396d5f4",
   "metadata": {},
   "source": [
    "**or:**"
   ]
  },
  {
   "cell_type": "code",
   "execution_count": 13,
   "id": "bd69071f-6ff1-4c79-b7a0-9273b58f2496",
   "metadata": {},
   "outputs": [
    {
     "data": {
      "text/plain": [
       "True"
      ]
     },
     "execution_count": 13,
     "metadata": {},
     "output_type": "execute_result"
    }
   ],
   "source": [
    "True  or True"
   ]
  },
  {
   "cell_type": "code",
   "execution_count": 14,
   "id": "5459d882-3b8a-4702-bc5c-fcc84451e0aa",
   "metadata": {},
   "outputs": [
    {
     "data": {
      "text/plain": [
       "True"
      ]
     },
     "execution_count": 14,
     "metadata": {},
     "output_type": "execute_result"
    }
   ],
   "source": [
    "True or False"
   ]
  },
  {
   "cell_type": "code",
   "execution_count": 15,
   "id": "5be4d743-b929-4b00-b6b3-a1677f77494d",
   "metadata": {},
   "outputs": [
    {
     "data": {
      "text/plain": [
       "True"
      ]
     },
     "execution_count": 15,
     "metadata": {},
     "output_type": "execute_result"
    }
   ],
   "source": [
    "False or True"
   ]
  },
  {
   "cell_type": "code",
   "execution_count": 16,
   "id": "1a6e09b5-5f77-44a3-9911-30f489534ee4",
   "metadata": {},
   "outputs": [
    {
     "data": {
      "text/plain": [
       "False"
      ]
     },
     "execution_count": 16,
     "metadata": {},
     "output_type": "execute_result"
    }
   ],
   "source": [
    "False or False"
   ]
  },
  {
   "cell_type": "markdown",
   "id": "e49a9c86-442d-444a-9d27-159ec4a1ad2c",
   "metadata": {},
   "source": [
    "**Example with Variables:**"
   ]
  },
  {
   "cell_type": "code",
   "execution_count": 17,
   "id": "9a8e0178-514f-42ce-a4bf-836aca95fab6",
   "metadata": {},
   "outputs": [
    {
     "data": {
      "text/plain": [
       "True"
      ]
     },
     "execution_count": 17,
     "metadata": {},
     "output_type": "execute_result"
    }
   ],
   "source": [
    "# a -> True\n",
    "\n",
    "a = 5 == 5\n",
    "a "
   ]
  },
  {
   "cell_type": "code",
   "execution_count": 18,
   "id": "f0f09cf0-a7f3-4b39-8efc-8e23c6953c12",
   "metadata": {},
   "outputs": [
    {
     "data": {
      "text/plain": [
       "False"
      ]
     },
     "execution_count": 18,
     "metadata": {},
     "output_type": "execute_result"
    }
   ],
   "source": [
    "# b -> False\n",
    "\n",
    "b = 'a' == 'A'\n",
    "b"
   ]
  },
  {
   "cell_type": "code",
   "execution_count": 19,
   "id": "2436ff9f-f85b-47ef-aee9-8412b1b22011",
   "metadata": {},
   "outputs": [
    {
     "name": "stdout",
     "output_type": "stream",
     "text": [
      "---- and ----\n",
      "True and False : False\n"
     ]
    }
   ],
   "source": [
    "# and \n",
    "\n",
    "print(\"---- and ----\")\n",
    "print(\"{0} and {1} : {2}\".format(a,b, a and b))"
   ]
  },
  {
   "cell_type": "code",
   "execution_count": 20,
   "id": "c1c6fad5-1add-44cf-a25e-c48c533043d0",
   "metadata": {},
   "outputs": [
    {
     "name": "stdout",
     "output_type": "stream",
     "text": [
      "---- or ----\n",
      "True or False : True\n"
     ]
    }
   ],
   "source": [
    "# or\n",
    "\n",
    "print(\"---- or ----\")\n",
    "print(\"{0} or {1} : {2}\".format(a,b, a or b))"
   ]
  },
  {
   "cell_type": "markdown",
   "id": "79b74cea-7059-4ecf-af80-1dc9b1edefae",
   "metadata": {},
   "source": [
    "\"=\" is assignment, whereas \"==\" is equality check. They are different operators."
   ]
  },
  {
   "cell_type": "markdown",
   "id": "9131dc8f-15b9-466b-a892-1c2490020d94",
   "metadata": {},
   "source": [
    "(True and False) or (False or True)  expression will evaluate as True."
   ]
  },
  {
   "cell_type": "markdown",
   "id": "87566084-f76e-422a-8f92-87cdcd087f46",
   "metadata": {},
   "source": [
    "First paranthesis is False, and the second one is True. Since there is \"or\" between paranthesis, the final result is True."
   ]
  },
  {
   "cell_type": "markdown",
   "id": "5e8ed1db-0913-4956-85e1-ab52917341f2",
   "metadata": {},
   "source": [
    "# if "
   ]
  },
  {
   "cell_type": "markdown",
   "id": "5d53b1de-76d9-4b9c-880b-49a7f6372707",
   "metadata": {},
   "source": [
    "Python runs the code from top to down."
   ]
  },
  {
   "cell_type": "markdown",
   "id": "bbf32377-9f3f-42ca-9fd6-1be7738e7ed7",
   "metadata": {},
   "source": [
    "We call it Execution Flow."
   ]
  },
  {
   "cell_type": "markdown",
   "id": "a71f784d-5600-4d58-a0f3-868c1b7d057e",
   "metadata": {},
   "source": [
    "There will be places in the code, that you may want to control this flow."
   ]
  },
  {
   "cell_type": "markdown",
   "id": "f29e9bdd-107d-4698-b484-887c8dabc3d0",
   "metadata": {},
   "source": [
    "For example, let's say you want to print the number if it is positive."
   ]
  },
  {
   "cell_type": "markdown",
   "id": "a13734dd-eb2d-41d4-889e-20b6be8c4858",
   "metadata": {},
   "source": [
    "This decision making is called **conditional execution** and it is done via **if statements**."
   ]
  },
  {
   "cell_type": "code",
   "execution_count": 2,
   "id": "2e6a7189-6153-44ec-9e5e-8f119cab6e52",
   "metadata": {},
   "outputs": [
    {
     "name": "stdout",
     "output_type": "stream",
     "text": [
      "7 is greater than 0.\n"
     ]
    }
   ],
   "source": [
    "#Print x, if it is greater than zero (positive)\n",
    "\n",
    "x = 7\n",
    "\n",
    "if x > 0:\n",
    "    print(\"{} is greater than 0.\".format(x))\n",
    "    "
   ]
  },
  {
   "cell_type": "code",
   "execution_count": 3,
   "id": "82fdceb6-078b-42d4-8d88-4c3a713ed3e8",
   "metadata": {},
   "outputs": [
    {
     "name": "stdout",
     "output_type": "stream",
     "text": [
      "end of if statement\n"
     ]
    }
   ],
   "source": [
    "x = -10\n",
    "\n",
    "if x > 0:\n",
    "    print(\"{} is greater than 0.\".format(x))\n",
    "    \n",
    "print(\"end of if statement\")"
   ]
  },
  {
   "cell_type": "code",
   "execution_count": 4,
   "id": "88693afb-5c1b-4dea-81d6-f6224aff9ba7",
   "metadata": {},
   "outputs": [
    {
     "name": "stdout",
     "output_type": "stream",
     "text": [
      "---------\n",
      "10 is greater than 0 and less than or equal to 10.\n",
      "---------\n"
     ]
    }
   ],
   "source": [
    "# If x is greater than 0 and less than or equal to 10, print it\n",
    "\n",
    "x = 10\n",
    "\n",
    "print(\"---------\")\n",
    "\n",
    "if x > 0 and x <= 10:\n",
    "    print(\"{} is greater than 0 and less than or equal to 10.\".format(x))\n",
    "\n",
    "print(\"---------\")"
   ]
  },
  {
   "cell_type": "code",
   "execution_count": 5,
   "id": "150613df-7939-4e8c-a03c-36d4a3b7eec7",
   "metadata": {},
   "outputs": [
    {
     "name": "stdout",
     "output_type": "stream",
     "text": [
      "---------\n",
      "---------\n"
     ]
    }
   ],
   "source": [
    "x = 17\n",
    "\n",
    "print(\"---------\")\n",
    "\n",
    "if x > 0 and x <= 10:\n",
    "    print(\"{} is greater than 0 and less than or equal to 10.\".format(x))\n",
    "\n",
    "print(\"---------\")"
   ]
  },
  {
   "cell_type": "code",
   "execution_count": 6,
   "id": "9ac88ccc-67bb-49cc-9dbe-39a3e9462a1f",
   "metadata": {},
   "outputs": [
    {
     "name": "stdout",
     "output_type": "stream",
     "text": [
      "---------\n",
      "6 is greater than 0 and less than or equal to 10.\n",
      "---------\n"
     ]
    }
   ],
   "source": [
    "x = 6\n",
    "\n",
    "print(\"---------\")\n",
    "\n",
    "if x > 0 and x <= 10:\n",
    "    print(\"{} is greater than 0 and less than or equal to 10.\".format(x))\n",
    "\n",
    "print(\"---------\")"
   ]
  },
  {
   "cell_type": "code",
   "execution_count": 7,
   "id": "88c715bf-0560-46b5-b65c-4679b58c2d2a",
   "metadata": {},
   "outputs": [
    {
     "name": "stdout",
     "output_type": "stream",
     "text": [
      "---------\n",
      "19 is greater than or equal to 0 and less than 20.\n",
      "---------\n"
     ]
    }
   ],
   "source": [
    "# if x is greater than or equal to 0 and less than 20, print it.\n",
    "\n",
    "x = 19\n",
    "\n",
    "print(\"---------\")\n",
    "\n",
    "if x >= 0 and x < 20:\n",
    "    print(\"{} is greater than or equal to 0 and less than 20.\".format(x))\n",
    "\n",
    "print(\"---------\")"
   ]
  },
  {
   "cell_type": "code",
   "execution_count": 8,
   "id": "07fdafd0-3ca2-44c0-818c-b8730b4a90b4",
   "metadata": {},
   "outputs": [
    {
     "name": "stdout",
     "output_type": "stream",
     "text": [
      "---------\n",
      "---------\n"
     ]
    }
   ],
   "source": [
    "x = 49\n",
    "\n",
    "print(\"---------\")\n",
    "\n",
    "if x >= 0 and x < 20:\n",
    "    print(\"{} is greater than or equal to 0 and less than 20.\".format(x))\n",
    "\n",
    "print(\"---------\")"
   ]
  },
  {
   "cell_type": "code",
   "execution_count": 9,
   "id": "302bf5b5-235d-4c12-ba69-4788c86006a3",
   "metadata": {},
   "outputs": [
    {
     "name": "stdout",
     "output_type": "stream",
     "text": [
      "---------\n",
      "---------\n"
     ]
    }
   ],
   "source": [
    "x = -6\n",
    "\n",
    "print(\"---------\")\n",
    "\n",
    "if x >= 0 and x < 20:\n",
    "    print(\"{} is greater than or equal to 0 and less than 20.\".format(x))\n",
    "\n",
    "print(\"---------\")"
   ]
  },
  {
   "cell_type": "code",
   "execution_count": 10,
   "id": "e9d82a2e-acf4-4640-ad76-29c84883d8cb",
   "metadata": {},
   "outputs": [
    {
     "name": "stdout",
     "output_type": "stream",
     "text": [
      "---------\n",
      "---------\n"
     ]
    }
   ],
   "source": [
    "# or \n",
    "\n",
    "# if x is greater than 100 or less than 0, print it\n",
    "\n",
    "x = 80\n",
    "\n",
    "print(\"---------\")\n",
    "\n",
    "if x > 100 or x < 0:\n",
    "    print(\"{} is greater than 100 or less than 0.\".format(x))\n",
    "\n",
    "print(\"---------\")"
   ]
  },
  {
   "cell_type": "code",
   "execution_count": 11,
   "id": "c035aaa4-2118-4435-94d6-6b2d74492fe2",
   "metadata": {},
   "outputs": [
    {
     "name": "stdout",
     "output_type": "stream",
     "text": [
      "---------\n",
      "280 is greater than 100 or less than 0.\n",
      "---------\n"
     ]
    }
   ],
   "source": [
    "x = 280\n",
    "\n",
    "print(\"---------\")\n",
    "\n",
    "if x > 100 or x < 0:\n",
    "    print(\"{} is greater than 100 or less than 0.\".format(x))\n",
    "\n",
    "print(\"---------\")"
   ]
  },
  {
   "cell_type": "code",
   "execution_count": 12,
   "id": "8f82b778-25e0-4cd6-8b25-9274f4d0e6e5",
   "metadata": {},
   "outputs": [
    {
     "name": "stdout",
     "output_type": "stream",
     "text": [
      "---------\n",
      "-300 is greater than 100 or less than 0.\n",
      "---------\n"
     ]
    }
   ],
   "source": [
    "x = -300\n",
    "\n",
    "print(\"---------\")\n",
    "\n",
    "if x > 100 or x < 0:\n",
    "    print(\"{} is greater than 100 or less than 0.\".format(x))\n",
    "\n",
    "print(\"---------\")"
   ]
  },
  {
   "cell_type": "markdown",
   "id": "9798d4b0-aee2-4279-bc06-caebd1b65f92",
   "metadata": {},
   "source": [
    "## Quiz "
   ]
  },
  {
   "cell_type": "code",
   "execution_count": 3,
   "id": "959a44aa-aa9f-4b98-a115-649990b91e9f",
   "metadata": {},
   "outputs": [
    {
     "name": "stdout",
     "output_type": "stream",
     "text": [
      "60 is greater than or equal to 0 or less than 20\n"
     ]
    }
   ],
   "source": [
    "#60 is greater than or equal to 0 or less than 20\n",
    "x = 60\n",
    "if x >= 0 or x < 20:\n",
    "    print(\"{} is greater than or equal to 0 or less than 20\".format(x))"
   ]
  },
  {
   "cell_type": "code",
   "execution_count": 5,
   "id": "45676b00-ec5e-49f3-8f86-630eff8ec95a",
   "metadata": {},
   "outputs": [],
   "source": [
    "#49 is greater than or equal to 0 and less than 20\n",
    "x = 49\n",
    "if x >= 0 and x < 20:\n",
    "    print(\"{} is greater than or equal to 0 and less than 20\".format(x))"
   ]
  },
  {
   "cell_type": "markdown",
   "id": "9da5b591-3d84-4358-a719-1b3995947727",
   "metadata": {},
   "source": [
    "49 < 20 will evaluates False. Since \"and\" wants both sides to be True, the code in if statement will not run."
   ]
  },
  {
   "cell_type": "markdown",
   "id": "a0d08db4-dcb0-4dcb-9550-18527616a259",
   "metadata": {},
   "source": [
    "# else "
   ]
  },
  {
   "cell_type": "markdown",
   "id": "86197bd2-f1bc-43bb-8144-4594193412ea",
   "metadata": {},
   "source": [
    "**Alternative Execution: else**"
   ]
  },
  {
   "cell_type": "markdown",
   "id": "a8d3501c-6536-46b7-b6a2-4736ef7cc648",
   "metadata": {},
   "source": [
    "Most of the time we need more than one condition to check.\n",
    "\n",
    "For multiple conditions check we use **else** with **if**."
   ]
  },
  {
   "cell_type": "code",
   "execution_count": 7,
   "id": "19c70df8-700c-417b-b3fd-2993da68a4f9",
   "metadata": {},
   "outputs": [
    {
     "name": "stdout",
     "output_type": "stream",
     "text": [
      "---- before if block ----\n",
      "EVEN\n",
      "---- after if block ----\n"
     ]
    }
   ],
   "source": [
    "# if x is an even number, print \"EVEN\"\n",
    "# if not (else) print \"ODD\"\n",
    "\n",
    "# condition for being even: divisible by 2 (% modulus operator)\n",
    "\n",
    "x = 14\n",
    "\n",
    "print(\"---- before if block ----\")\n",
    "\n",
    "if x % 2 == 0:\n",
    "    print(\"EVEN\")\n",
    "else:\n",
    "    print(\"ODD\")\n",
    "\n",
    "print(\"---- after if block ----\")"
   ]
  },
  {
   "cell_type": "code",
   "execution_count": 8,
   "id": "79d35190-a755-4603-b7df-411132215166",
   "metadata": {},
   "outputs": [
    {
     "name": "stdout",
     "output_type": "stream",
     "text": [
      "---- before if block ----\n",
      "ODD\n",
      "---- after if block ----\n"
     ]
    }
   ],
   "source": [
    "x = 9\n",
    "\n",
    "print(\"---- before if block ----\")\n",
    "\n",
    "if x % 2 == 0:\n",
    "    print(\"EVEN\")\n",
    "else:\n",
    "    print(\"ODD\")\n",
    "\n",
    "print(\"---- after if block ----\")"
   ]
  },
  {
   "cell_type": "code",
   "execution_count": 12,
   "id": "cd6f7843-35d9-4910-9195-5b5942754569",
   "metadata": {},
   "outputs": [
    {
     "name": "stdout",
     "output_type": "stream",
     "text": [
      "INTEGER\n"
     ]
    }
   ],
   "source": [
    "# if x is intege, print \"INTEGER\"\n",
    "# else print \"NOT INTEGER\"\n",
    "\n",
    "# for integer check -> type()\n",
    "\n",
    "x = 9\n",
    "\n",
    "if type(x) == int:\n",
    "    print(\"INTEGER\")\n",
    "else:\n",
    "    print(\"NOT INTEGER\")\n",
    "\n"
   ]
  },
  {
   "cell_type": "code",
   "execution_count": 10,
   "id": "4e9bd42c-6624-488d-94fb-9021409f1adc",
   "metadata": {},
   "outputs": [
    {
     "data": {
      "text/plain": [
       "int"
      ]
     },
     "execution_count": 10,
     "metadata": {},
     "output_type": "execute_result"
    }
   ],
   "source": [
    "type(4)"
   ]
  },
  {
   "cell_type": "code",
   "execution_count": 11,
   "id": "7be617c2-856a-4182-93cb-dcc1043d2134",
   "metadata": {},
   "outputs": [
    {
     "data": {
      "text/plain": [
       "str"
      ]
     },
     "execution_count": 11,
     "metadata": {},
     "output_type": "execute_result"
    }
   ],
   "source": [
    "type(\"abc\")"
   ]
  },
  {
   "cell_type": "code",
   "execution_count": 14,
   "id": "16d64704-9e73-4739-a487-f08b17fc8e45",
   "metadata": {},
   "outputs": [
    {
     "name": "stdout",
     "output_type": "stream",
     "text": [
      "NOT INTEGER\n"
     ]
    }
   ],
   "source": [
    "x = \"xyz\"\n",
    "\n",
    "if type(x) == int:\n",
    "    print(\"INTEGER\")\n",
    "else:\n",
    "    print(\"NOT INTEGER\")"
   ]
  },
  {
   "cell_type": "markdown",
   "id": "022c40b4-b11a-443d-84ed-1a95641ad2ec",
   "metadata": {},
   "source": [
    "## Quiz"
   ]
  },
  {
   "cell_type": "code",
   "execution_count": 1,
   "id": "a24e025b-5379-4080-8364-7e741ec32710",
   "metadata": {},
   "outputs": [
    {
     "name": "stdout",
     "output_type": "stream",
     "text": [
      "EVEN\n"
     ]
    }
   ],
   "source": [
    "#The code below will print ODD :\n",
    "\n",
    "x = 17\n",
    "if x % 2 == 0:\n",
    "    print(\"ODD\")\n",
    "else:\n",
    "    print(\"EVEN\")"
   ]
  },
  {
   "cell_type": "markdown",
   "id": "2a3aff3f-ed52-4571-b19a-fd668fad9ae9",
   "metadata": {},
   "source": [
    "It writes \"ODD\" when the number is even, and \"EVEN\" when it is odd :)"
   ]
  },
  {
   "cell_type": "code",
   "execution_count": 3,
   "id": "1032dd88-3985-4613-8c12-a845bf24fafd",
   "metadata": {},
   "outputs": [],
   "source": [
    "#Value of x will be 6 after executing the code below:\n",
    "\n",
    "x = 5\n",
    "if False:\n",
    "    x -= 1\n",
    "else:\n",
    "    x += 1"
   ]
  },
  {
   "cell_type": "markdown",
   "id": "f5daedcd-d862-4ca7-ac00-5892a8070b3a",
   "metadata": {},
   "source": [
    "if False will never run, so the else block will be executed and x will be incremented by 1."
   ]
  },
  {
   "cell_type": "markdown",
   "id": "376fe4eb-b0d3-41cd-889a-085e9dfd174a",
   "metadata": {},
   "source": [
    "## elif"
   ]
  },
  {
   "cell_type": "markdown",
   "id": "9db66476-4093-4606-a5ec-b72a7109dd84",
   "metadata": {},
   "source": [
    "So far, we only checked for 2 conditions:\n",
    "* if \n",
    "* else\n",
    "\n",
    "When need more than 2 conditions: **elif**\n",
    "\n",
    "Namely: **if-elif-elif-...-else**\n",
    "\n",
    "* if\n",
    "* elif\n",
    "* elif\n",
    "* elif\n",
    "* .\n",
    "* .\n",
    "* .\n",
    "* else"
   ]
  },
  {
   "cell_type": "markdown",
   "id": "a185690e-8a73-440d-8c10-b9f3941265a8",
   "metadata": {},
   "source": [
    "**elif** : `el`se `if`"
   ]
  },
  {
   "cell_type": "code",
   "execution_count": 7,
   "id": "35eb32ad-53c8-46f8-8056-9909a0584b38",
   "metadata": {},
   "outputs": [],
   "source": [
    "# ask the user to enter a number\n",
    "# and check if the input is 'POSITIVE', 'ZERO', 'NEGATIVE'\n",
    "\n",
    "def is_positive():\n",
    "    \n",
    "    # input() returns str\n",
    "    user_input = input(\"Please enter a number: \")\n",
    "    \n",
    "    # cast input into int -> int()\n",
    "    n = int(user_input)\n",
    "    \n",
    "    # check conditions\n",
    "    if n > 0:\n",
    "        print(\"POSITIVE\")\n",
    "    elif n == 0:\n",
    "        print(\"ZERO\")\n",
    "    else:\n",
    "        print(\"NEGATIVE\")"
   ]
  },
  {
   "cell_type": "code",
   "execution_count": 10,
   "id": "dbddcf8f-1e5f-4ab7-b01f-3a0a5fb68f75",
   "metadata": {},
   "outputs": [
    {
     "name": "stdin",
     "output_type": "stream",
     "text": [
      "Please enter a number:  8\n"
     ]
    },
    {
     "name": "stdout",
     "output_type": "stream",
     "text": [
      "POSITIVE\n"
     ]
    }
   ],
   "source": [
    "is_positive()"
   ]
  },
  {
   "cell_type": "code",
   "execution_count": 11,
   "id": "ad622892-92ed-44ee-81eb-909310e48a2d",
   "metadata": {},
   "outputs": [
    {
     "name": "stdin",
     "output_type": "stream",
     "text": [
      "Please enter a number:  0\n"
     ]
    },
    {
     "name": "stdout",
     "output_type": "stream",
     "text": [
      "ZERO\n"
     ]
    }
   ],
   "source": [
    "is_positive()"
   ]
  },
  {
   "cell_type": "code",
   "execution_count": 12,
   "id": "1307fd73-eb72-4f2a-a09b-0e8b7880dcae",
   "metadata": {},
   "outputs": [
    {
     "name": "stdin",
     "output_type": "stream",
     "text": [
      "Please enter a number:  -9\n"
     ]
    },
    {
     "name": "stdout",
     "output_type": "stream",
     "text": [
      "NEGATIVE\n"
     ]
    }
   ],
   "source": [
    "is_positive()"
   ]
  },
  {
   "cell_type": "markdown",
   "id": "dc74136e-8de9-4db1-964e-b061a7bec879",
   "metadata": {},
   "source": [
    "**Important**\n",
    "\n",
    "You can not use **elif without if**."
   ]
  },
  {
   "cell_type": "code",
   "execution_count": 10,
   "id": "e6fe683d-590d-4bf2-a04d-dfe12980b3db",
   "metadata": {},
   "outputs": [
    {
     "ename": "SyntaxError",
     "evalue": "invalid syntax (Temp/ipykernel_1272/2619454577.py, line 3)",
     "output_type": "error",
     "traceback": [
      "\u001b[1;36m  File \u001b[1;32m\"C:\\Users\\Kunwar\\AppData\\Local\\Temp/ipykernel_1272/2619454577.py\"\u001b[1;36m, line \u001b[1;32m3\u001b[0m\n\u001b[1;33m    elif a == 1:\u001b[0m\n\u001b[1;37m    ^\u001b[0m\n\u001b[1;31mSyntaxError\u001b[0m\u001b[1;31m:\u001b[0m invalid syntax\n"
     ]
    }
   ],
   "source": [
    "a = 1\n",
    "\n",
    "elif a == 1:\n",
    "    print(\"a is 1\")\n",
    "else:\n",
    "    print(\"not 1\")"
   ]
  },
  {
   "cell_type": "markdown",
   "id": "b7b09b35-0d1a-45db-89d5-5b00ac4e13c2",
   "metadata": {},
   "source": [
    "**Exercise**:\n",
    "    \n",
    "Define a function.\n",
    "\n",
    "Ask for a number between 1-7.\n",
    "\n",
    "We will decide the day of the week via this number."
   ]
  },
  {
   "cell_type": "code",
   "execution_count": 2,
   "id": "695d8c01-9d04-47df-82b9-8034bcca02a6",
   "metadata": {},
   "outputs": [],
   "source": [
    "def day_of_week():\n",
    "    \n",
    "    # ask for number of the day\n",
    "    number_of_day = int(input(\"Please enter a number(1-7):\"))\n",
    "    \n",
    "    # define a variable for name of the day\n",
    "    name_of_day = \"\"\n",
    "    \n",
    "    # conditions\n",
    "    if number_of_day == 1:\n",
    "        name_of_day = 'MONDAY'\n",
    "    elif number_of_day == 2:\n",
    "        name_of_day = 'TUESDAY'\n",
    "    elif number_of_day == 3:\n",
    "        name_of_day = 'WEDNESDAY'\n",
    "    elif number_of_day == 4:\n",
    "        name_of_day = 'THURSDAY'\n",
    "    elif number_of_day == 5:\n",
    "        name_of_day = 'FRIDAY'\n",
    "    elif number_of_day == 6:\n",
    "        name_of_day = 'SATURDAY'\n",
    "    else:\n",
    "        name_of_day = 'SUNDAY'\n",
    "        \n",
    "    # return name of day\n",
    "    return name_of_day\n",
    "    "
   ]
  },
  {
   "cell_type": "code",
   "execution_count": 13,
   "id": "a7fbebb1-a885-4bc6-ae3f-b280bce85dc9",
   "metadata": {},
   "outputs": [
    {
     "name": "stdin",
     "output_type": "stream",
     "text": [
      "Please enter a number(1-7): 4\n"
     ]
    },
    {
     "data": {
      "text/plain": [
       "'THURSDAY'"
      ]
     },
     "execution_count": 13,
     "metadata": {},
     "output_type": "execute_result"
    }
   ],
   "source": [
    "day_of_week()"
   ]
  },
  {
   "cell_type": "code",
   "execution_count": 14,
   "id": "2648d829-e2f9-4301-be36-4b7de13d8017",
   "metadata": {},
   "outputs": [
    {
     "name": "stdin",
     "output_type": "stream",
     "text": [
      "Please enter a number(1-7): 7\n"
     ]
    },
    {
     "data": {
      "text/plain": [
       "'SUNDAY'"
      ]
     },
     "execution_count": 14,
     "metadata": {},
     "output_type": "execute_result"
    }
   ],
   "source": [
    "day_of_week()"
   ]
  },
  {
   "cell_type": "code",
   "execution_count": 15,
   "id": "859df907-9da0-4d68-8725-42c56cfd32d6",
   "metadata": {},
   "outputs": [
    {
     "name": "stdin",
     "output_type": "stream",
     "text": [
      "Please enter a number(1-7): 1\n"
     ]
    },
    {
     "data": {
      "text/plain": [
       "'MONDAY'"
      ]
     },
     "execution_count": 15,
     "metadata": {},
     "output_type": "execute_result"
    }
   ],
   "source": [
    "day_of_week()"
   ]
  },
  {
   "cell_type": "markdown",
   "id": "33d70a79-f188-467f-b0d6-ad50dac8f208",
   "metadata": {},
   "source": [
    "day_of_week seems working fine, but has bugs:\n",
    "\n",
    "What if the user:\n",
    "* enters a letter instead a number\n",
    "* enters a number greater than 7\n",
    "* enters a number less than 1"
   ]
  },
  {
   "cell_type": "code",
   "execution_count": 3,
   "id": "a879f08d-87c9-473f-8199-3f487ed3c3f7",
   "metadata": {},
   "outputs": [
    {
     "name": "stdin",
     "output_type": "stream",
     "text": [
      "Please enter a number(1-7): Kunwar\n"
     ]
    },
    {
     "ename": "ValueError",
     "evalue": "invalid literal for int() with base 10: 'Kunwar'",
     "output_type": "error",
     "traceback": [
      "\u001b[1;31m---------------------------------------------------------------------------\u001b[0m",
      "\u001b[1;31mValueError\u001b[0m                                Traceback (most recent call last)",
      "\u001b[1;32m~\\AppData\\Local\\Temp/ipykernel_16524/3764202026.py\u001b[0m in \u001b[0;36m<module>\u001b[1;34m\u001b[0m\n\u001b[1;32m----> 1\u001b[1;33m \u001b[0mday_of_week\u001b[0m\u001b[1;33m(\u001b[0m\u001b[1;33m)\u001b[0m\u001b[1;33m\u001b[0m\u001b[1;33m\u001b[0m\u001b[0m\n\u001b[0m",
      "\u001b[1;32m~\\AppData\\Local\\Temp/ipykernel_16524/1671972669.py\u001b[0m in \u001b[0;36mday_of_week\u001b[1;34m()\u001b[0m\n\u001b[0;32m      2\u001b[0m \u001b[1;33m\u001b[0m\u001b[0m\n\u001b[0;32m      3\u001b[0m     \u001b[1;31m# ask for number of the day\u001b[0m\u001b[1;33m\u001b[0m\u001b[1;33m\u001b[0m\u001b[1;33m\u001b[0m\u001b[0m\n\u001b[1;32m----> 4\u001b[1;33m     \u001b[0mnumber_of_day\u001b[0m \u001b[1;33m=\u001b[0m \u001b[0mint\u001b[0m\u001b[1;33m(\u001b[0m\u001b[0minput\u001b[0m\u001b[1;33m(\u001b[0m\u001b[1;34m\"Please enter a number(1-7):\"\u001b[0m\u001b[1;33m)\u001b[0m\u001b[1;33m)\u001b[0m\u001b[1;33m\u001b[0m\u001b[1;33m\u001b[0m\u001b[0m\n\u001b[0m\u001b[0;32m      5\u001b[0m \u001b[1;33m\u001b[0m\u001b[0m\n\u001b[0;32m      6\u001b[0m     \u001b[1;31m# define a variable for name of the day\u001b[0m\u001b[1;33m\u001b[0m\u001b[1;33m\u001b[0m\u001b[1;33m\u001b[0m\u001b[0m\n",
      "\u001b[1;31mValueError\u001b[0m: invalid literal for int() with base 10: 'Kunwar'"
     ]
    }
   ],
   "source": [
    "day_of_week()"
   ]
  },
  {
   "cell_type": "code",
   "execution_count": 4,
   "id": "79a40f06-1bd6-424b-ace0-270c38a3be40",
   "metadata": {},
   "outputs": [
    {
     "name": "stdin",
     "output_type": "stream",
     "text": [
      "Please enter a number(1-7): 8\n"
     ]
    },
    {
     "data": {
      "text/plain": [
       "'SUNDAY'"
      ]
     },
     "execution_count": 4,
     "metadata": {},
     "output_type": "execute_result"
    }
   ],
   "source": [
    "day_of_week()"
   ]
  },
  {
   "cell_type": "code",
   "execution_count": 5,
   "id": "e4072ca5-c0eb-4829-90f3-e67e9b6ed2ee",
   "metadata": {},
   "outputs": [
    {
     "name": "stdin",
     "output_type": "stream",
     "text": [
      "Please enter a number(1-7): 0\n"
     ]
    },
    {
     "data": {
      "text/plain": [
       "'SUNDAY'"
      ]
     },
     "execution_count": 5,
     "metadata": {},
     "output_type": "execute_result"
    }
   ],
   "source": [
    "day_of_week()"
   ]
  },
  {
   "cell_type": "markdown",
   "id": "e321d3c0-1fb2-487b-8ad1-8b85b839fca7",
   "metadata": {},
   "source": [
    "Let's fix the bugs (code refactoring)"
   ]
  },
  {
   "cell_type": "code",
   "execution_count": 16,
   "id": "7cf8fa08-0c94-4c98-896d-e303759ee9d5",
   "metadata": {},
   "outputs": [],
   "source": [
    "def day_of_week():\n",
    "    \n",
    "    # ask for number of the day\n",
    "    # check if its numeric -> cast into int\n",
    "    user_input = input(\"Please enter a number(1-7):\")\n",
    "    \n",
    "    # Control 1 - BEING INTEGER\n",
    "    if user_input.isdigit():\n",
    "        number_of_day = int(user_input)\n",
    "    else:\n",
    "        print(\"Please enter an integer.\")\n",
    "        #end the program -> return\n",
    "        return\n",
    "    \n",
    "    print(\"------ CONTROL #1 is SUCCESSFUL------\")\n",
    "    \n",
    "    # Control 2 - BEING BETWEEN 1-7\n",
    "    if number_of_day < 1 or number_of_day > 7:\n",
    "        print(\"Please enter a number between 1-7.\")\n",
    "        #end the program -> return\n",
    "        return\n",
    "    \n",
    "    print(\"------ CONTROL #2 is SUCCESSFUL------\")\n",
    "    \n",
    "    \n",
    "    # define a variable for name of the day\n",
    "    name_of_day = \"\"\n",
    "    \n",
    "    # conditions\n",
    "    if number_of_day == 1:\n",
    "        name_of_day = 'MONDAY'\n",
    "    elif number_of_day == 2:\n",
    "        name_of_day = 'TUESDAY'\n",
    "    elif number_of_day == 3:\n",
    "        name_of_day = 'WEDNESDAY'\n",
    "    elif number_of_day == 4:\n",
    "        name_of_day = 'THURSDAY'\n",
    "    elif number_of_day == 5:\n",
    "        name_of_day = 'FRIDAY'\n",
    "    elif number_of_day == 6:\n",
    "        name_of_day = 'SATURDAY'\n",
    "    else:\n",
    "        name_of_day = 'SUNDAY'\n",
    "        \n",
    "    # return name of day\n",
    "    return name_of_day"
   ]
  },
  {
   "cell_type": "code",
   "execution_count": 17,
   "id": "0e1d20b0-eea1-489c-8cd3-8bb9d32e2a2f",
   "metadata": {},
   "outputs": [
    {
     "name": "stdin",
     "output_type": "stream",
     "text": [
      "Please enter a number(1-7): Kunwar\n"
     ]
    },
    {
     "name": "stdout",
     "output_type": "stream",
     "text": [
      "Please enter an integer.\n"
     ]
    }
   ],
   "source": [
    "day_of_week()"
   ]
  },
  {
   "cell_type": "code",
   "execution_count": 18,
   "id": "6cf87ba7-472a-4776-9c10-b3f857ebd088",
   "metadata": {},
   "outputs": [
    {
     "name": "stdin",
     "output_type": "stream",
     "text": [
      "Please enter a number(1-7): 8\n"
     ]
    },
    {
     "name": "stdout",
     "output_type": "stream",
     "text": [
      "------ CONTROL #1 is SUCCESSFUL------\n",
      "Please enter a number between 1-7.\n"
     ]
    }
   ],
   "source": [
    "day_of_week()"
   ]
  },
  {
   "cell_type": "code",
   "execution_count": 19,
   "id": "94d4a70d-8668-4103-abae-f8c03a5de7b9",
   "metadata": {},
   "outputs": [
    {
     "name": "stdin",
     "output_type": "stream",
     "text": [
      "Please enter a number(1-7): 0\n"
     ]
    },
    {
     "name": "stdout",
     "output_type": "stream",
     "text": [
      "------ CONTROL #1 is SUCCESSFUL------\n",
      "Please enter a number between 1-7.\n"
     ]
    }
   ],
   "source": [
    "day_of_week()"
   ]
  },
  {
   "cell_type": "code",
   "execution_count": 20,
   "id": "d873517d-2b04-4459-8598-4be62971fed2",
   "metadata": {},
   "outputs": [
    {
     "name": "stdin",
     "output_type": "stream",
     "text": [
      "Please enter a number(1-7): 5\n"
     ]
    },
    {
     "name": "stdout",
     "output_type": "stream",
     "text": [
      "------ CONTROL #1 is SUCCESSFUL------\n",
      "------ CONTROL #2 is SUCCESSFUL------\n"
     ]
    },
    {
     "data": {
      "text/plain": [
       "'FRIDAY'"
      ]
     },
     "execution_count": 20,
     "metadata": {},
     "output_type": "execute_result"
    }
   ],
   "source": [
    "day_of_week()"
   ]
  },
  {
   "cell_type": "markdown",
   "id": "1195cc11-16d3-4e5a-954c-b77849a2c701",
   "metadata": {},
   "source": [
    "## Quiz "
   ]
  },
  {
   "cell_type": "code",
   "execution_count": 21,
   "id": "22de595e-81f8-49a9-a1a9-3f5c2efc7b51",
   "metadata": {},
   "outputs": [],
   "source": [
    "# When the code below runs and the user enters 0 (zero), it will print \"ZERO\" on the screen.\n",
    "\n",
    "\n",
    "def is_negative():\n",
    "    user_input = input(\"Please enter a number: \")\n",
    " \n",
    "    if not user_input.isdigit():\n",
    "        return\n",
    "    else:\n",
    "        n = int(user_input)\n",
    " \n",
    "    if n <= 0:\n",
    "        print(\"NEGATIVE\")\n",
    "    elif n == 0:\n",
    "        print(\"ZERO\")\n",
    "    else:\n",
    "        print(\"POZITIVE\")"
   ]
  },
  {
   "cell_type": "code",
   "execution_count": 22,
   "id": "7e8a428c-efd7-40a8-ad29-74789cf9a5d6",
   "metadata": {},
   "outputs": [
    {
     "name": "stdin",
     "output_type": "stream",
     "text": [
      "Please enter a number:  0\n"
     ]
    },
    {
     "name": "stdout",
     "output_type": "stream",
     "text": [
      "NEGATIVE\n"
     ]
    }
   ],
   "source": [
    "is_negative()"
   ]
  },
  {
   "cell_type": "markdown",
   "id": "4d248d61-5337-4eae-ba37-3cc246d20414",
   "metadata": {},
   "source": [
    "The first condition is \"if n <= 0\". Which will evaluate True if the user enters 0. So it will print \"NEGATIVE\"."
   ]
  },
  {
   "cell_type": "code",
   "execution_count": 25,
   "id": "bc50928d-ef70-4432-ac38-1f2ef23b5d81",
   "metadata": {},
   "outputs": [
    {
     "ename": "SyntaxError",
     "evalue": "invalid syntax (Temp/ipykernel_16524/3514232713.py, line 5)",
     "output_type": "error",
     "traceback": [
      "\u001b[1;36m  File \u001b[1;32m\"C:\\Users\\Kunwar\\AppData\\Local\\Temp/ipykernel_16524/3514232713.py\"\u001b[1;36m, line \u001b[1;32m5\u001b[0m\n\u001b[1;33m    elif == \"Python\":\u001b[0m\n\u001b[1;37m    ^\u001b[0m\n\u001b[1;31mSyntaxError\u001b[0m\u001b[1;31m:\u001b[0m invalid syntax\n"
     ]
    }
   ],
   "source": [
    "# The code below will print TRUE:\n",
    "\n",
    "name = \"Python\"\n",
    " \n",
    "elif == \"Python\"\n",
    "    print(\"FALSE\")\n",
    "elif == \"Python\":\n",
    "    print(\"TRUE\")\n",
    "else:\n",
    "    print(\"NOT SURE\")"
   ]
  },
  {
   "cell_type": "code",
   "execution_count": null,
   "id": "bd92b357-8e80-4195-8efe-aca71afe0262",
   "metadata": {},
   "outputs": [],
   "source": []
  }
 ],
 "metadata": {
  "kernelspec": {
   "display_name": "Python 3 (ipykernel)",
   "language": "python",
   "name": "python3"
  },
  "language_info": {
   "codemirror_mode": {
    "name": "ipython",
    "version": 3
   },
   "file_extension": ".py",
   "mimetype": "text/x-python",
   "name": "python",
   "nbconvert_exporter": "python",
   "pygments_lexer": "ipython3",
   "version": "3.8.12"
  }
 },
 "nbformat": 4,
 "nbformat_minor": 5
}
