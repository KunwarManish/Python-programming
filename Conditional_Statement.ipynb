{
 "cells": [
  {
   "cell_type": "markdown",
   "id": "76cca044-494f-4692-963a-38946402cc5e",
   "metadata": {},
   "source": [
    "# Conditional Statements"
   ]
  },
  {
   "cell_type": "markdown",
   "id": "b6f57358-ebfb-47d3-a5da-01697e4e3316",
   "metadata": {},
   "source": [
    "# What is a Conditional Statement?"
   ]
  },
  {
   "cell_type": "markdown",
   "id": "6368b43a-2ca4-4cca-a027-fd84b6a8a080",
   "metadata": {},
   "source": [
    "A conditional statement is an experssion which evalutes either **True** or **False**."
   ]
  },
  {
   "cell_type": "code",
   "execution_count": 1,
   "id": "20d31cdc-9626-4daf-9f4d-5ee472d1e815",
   "metadata": {},
   "outputs": [
    {
     "data": {
      "text/plain": [
       "True"
      ]
     },
     "execution_count": 1,
     "metadata": {},
     "output_type": "execute_result"
    }
   ],
   "source": [
    "6 == 6"
   ]
  },
  {
   "cell_type": "code",
   "execution_count": 2,
   "id": "b13e533e-8396-4320-be32-46ba1705bdcc",
   "metadata": {},
   "outputs": [
    {
     "data": {
      "text/plain": [
       "6"
      ]
     },
     "execution_count": 2,
     "metadata": {},
     "output_type": "execute_result"
    }
   ],
   "source": [
    "# single equal sign -> = , assignment\n",
    "\n",
    "a = 6\n",
    "a"
   ]
  },
  {
   "cell_type": "code",
   "execution_count": 3,
   "id": "29ffe974-670d-4412-ad54-388e86ea306d",
   "metadata": {},
   "outputs": [
    {
     "data": {
      "text/plain": [
       "True"
      ]
     },
     "execution_count": 3,
     "metadata": {},
     "output_type": "execute_result"
    }
   ],
   "source": [
    "# double equal sign -> == , equality check\n",
    "\n",
    "6 == 6 "
   ]
  },
  {
   "cell_type": "code",
   "execution_count": 4,
   "id": "ced8684c-393f-4430-872d-ea614aa0d9ab",
   "metadata": {},
   "outputs": [
    {
     "data": {
      "text/plain": [
       "False"
      ]
     },
     "execution_count": 4,
     "metadata": {},
     "output_type": "execute_result"
    }
   ],
   "source": [
    "6 == 8"
   ]
  },
  {
   "cell_type": "markdown",
   "id": "aed0a2c5-9596-40e6-a3a3-548cb1af0868",
   "metadata": {},
   "source": [
    "`=` is assignment \n",
    "\n",
    "`==` is equality check"
   ]
  },
  {
   "cell_type": "code",
   "execution_count": 5,
   "id": "24e63e4e-c451-4490-819e-e843570ddff1",
   "metadata": {},
   "outputs": [
    {
     "data": {
      "text/plain": [
       "True"
      ]
     },
     "execution_count": 5,
     "metadata": {},
     "output_type": "execute_result"
    }
   ],
   "source": [
    "True"
   ]
  },
  {
   "cell_type": "code",
   "execution_count": 6,
   "id": "ea6c8ed4-faeb-4af7-9abc-bdd79324f47e",
   "metadata": {},
   "outputs": [
    {
     "data": {
      "text/plain": [
       "False"
      ]
     },
     "execution_count": 6,
     "metadata": {},
     "output_type": "execute_result"
    }
   ],
   "source": [
    "False"
   ]
  },
  {
   "cell_type": "code",
   "execution_count": 7,
   "id": "38e72565-dad5-40c3-b2a5-cbc0c277f054",
   "metadata": {},
   "outputs": [
    {
     "data": {
      "text/plain": [
       "bool"
      ]
     },
     "execution_count": 7,
     "metadata": {},
     "output_type": "execute_result"
    }
   ],
   "source": [
    "type(True)"
   ]
  },
  {
   "cell_type": "markdown",
   "id": "9c3b9193-06f9-49c9-8c86-145230f60dad",
   "metadata": {},
   "source": [
    "**Boolean Experssions:**\n",
    "\n",
    "* x == y : x is equal to y\n",
    "* x != y : x is not equal to y\n",
    "* x < y : x is less than y\n",
    "* x > y : x is greater than y\n",
    "* x <= y : x is less than or equal to y\n",
    "* x >= y : x is greater than or equal to y"
   ]
  },
  {
   "cell_type": "code",
   "execution_count": 8,
   "id": "fdc96e14-c02a-4937-a8e4-89dab2c3d121",
   "metadata": {},
   "outputs": [
    {
     "name": "stdout",
     "output_type": "stream",
     "text": [
      "x == y : False\n",
      "x != y : True\n",
      "x < y : False\n",
      "x > y : True\n",
      "x <= y : False\n",
      "x >= y : True\n"
     ]
    }
   ],
   "source": [
    "x = 12\n",
    "y = 8\n",
    "\n",
    "print(\"x == y :\", x == y)\n",
    "print(\"x != y :\", x != y)\n",
    "print(\"x < y :\", x < y)\n",
    "print(\"x > y :\", x > y)\n",
    "print(\"x <= y :\", x <= y)\n",
    "print(\"x >= y :\", x >=y)"
   ]
  },
  {
   "cell_type": "markdown",
   "id": "9a9f3b12-1e81-4b26-a011-639937badc50",
   "metadata": {},
   "source": [
    "**Logical Expressions:**\n",
    "* `and` : True if both of the conditions are True, False otherwise\n",
    "* `or` : True if any of the conditions is True, False if all conditions are False."
   ]
  },
  {
   "cell_type": "markdown",
   "id": "f4522824-4c9d-4bb8-8824-8ca75fab8f59",
   "metadata": {},
   "source": [
    "**and:**"
   ]
  },
  {
   "cell_type": "code",
   "execution_count": 9,
   "id": "8fb2f795-779f-45e8-b241-3a4ff6a2f54a",
   "metadata": {},
   "outputs": [
    {
     "data": {
      "text/plain": [
       "True"
      ]
     },
     "execution_count": 9,
     "metadata": {},
     "output_type": "execute_result"
    }
   ],
   "source": [
    "True and True"
   ]
  },
  {
   "cell_type": "code",
   "execution_count": 10,
   "id": "7439f0c6-ddde-4a5e-bee1-61a71cb47030",
   "metadata": {},
   "outputs": [
    {
     "data": {
      "text/plain": [
       "False"
      ]
     },
     "execution_count": 10,
     "metadata": {},
     "output_type": "execute_result"
    }
   ],
   "source": [
    "True and False"
   ]
  },
  {
   "cell_type": "code",
   "execution_count": 11,
   "id": "7cd3dcba-778e-4c98-9cce-625ef53efc47",
   "metadata": {},
   "outputs": [
    {
     "data": {
      "text/plain": [
       "False"
      ]
     },
     "execution_count": 11,
     "metadata": {},
     "output_type": "execute_result"
    }
   ],
   "source": [
    "False and True"
   ]
  },
  {
   "cell_type": "code",
   "execution_count": 12,
   "id": "df80120e-1929-468c-b403-2716a23b90ba",
   "metadata": {},
   "outputs": [
    {
     "data": {
      "text/plain": [
       "False"
      ]
     },
     "execution_count": 12,
     "metadata": {},
     "output_type": "execute_result"
    }
   ],
   "source": [
    "False and False"
   ]
  },
  {
   "cell_type": "markdown",
   "id": "5cbe1d53-6164-492c-9157-ebaec396d5f4",
   "metadata": {},
   "source": [
    "**or:**"
   ]
  },
  {
   "cell_type": "code",
   "execution_count": 14,
   "id": "bd69071f-6ff1-4c79-b7a0-9273b58f2496",
   "metadata": {},
   "outputs": [
    {
     "data": {
      "text/plain": [
       "True"
      ]
     },
     "execution_count": 14,
     "metadata": {},
     "output_type": "execute_result"
    }
   ],
   "source": [
    "True  or True"
   ]
  },
  {
   "cell_type": "code",
   "execution_count": 15,
   "id": "5459d882-3b8a-4702-bc5c-fcc84451e0aa",
   "metadata": {},
   "outputs": [
    {
     "data": {
      "text/plain": [
       "True"
      ]
     },
     "execution_count": 15,
     "metadata": {},
     "output_type": "execute_result"
    }
   ],
   "source": [
    "True or False"
   ]
  },
  {
   "cell_type": "code",
   "execution_count": 16,
   "id": "5be4d743-b929-4b00-b6b3-a1677f77494d",
   "metadata": {},
   "outputs": [
    {
     "data": {
      "text/plain": [
       "True"
      ]
     },
     "execution_count": 16,
     "metadata": {},
     "output_type": "execute_result"
    }
   ],
   "source": [
    "False or True"
   ]
  },
  {
   "cell_type": "code",
   "execution_count": 17,
   "id": "1a6e09b5-5f77-44a3-9911-30f489534ee4",
   "metadata": {},
   "outputs": [
    {
     "data": {
      "text/plain": [
       "False"
      ]
     },
     "execution_count": 17,
     "metadata": {},
     "output_type": "execute_result"
    }
   ],
   "source": [
    "False or False"
   ]
  },
  {
   "cell_type": "markdown",
   "id": "e49a9c86-442d-444a-9d27-159ec4a1ad2c",
   "metadata": {},
   "source": [
    "**Example with Variables:**"
   ]
  },
  {
   "cell_type": "code",
   "execution_count": 18,
   "id": "9a8e0178-514f-42ce-a4bf-836aca95fab6",
   "metadata": {},
   "outputs": [
    {
     "data": {
      "text/plain": [
       "True"
      ]
     },
     "execution_count": 18,
     "metadata": {},
     "output_type": "execute_result"
    }
   ],
   "source": [
    "# a -> True\n",
    "\n",
    "a = 5 == 5\n",
    "a "
   ]
  },
  {
   "cell_type": "code",
   "execution_count": 19,
   "id": "f0f09cf0-a7f3-4b39-8efc-8e23c6953c12",
   "metadata": {},
   "outputs": [
    {
     "data": {
      "text/plain": [
       "False"
      ]
     },
     "execution_count": 19,
     "metadata": {},
     "output_type": "execute_result"
    }
   ],
   "source": [
    "# b -> False\n",
    "\n",
    "b = 'a' == 'A'\n",
    "b"
   ]
  },
  {
   "cell_type": "code",
   "execution_count": 20,
   "id": "2436ff9f-f85b-47ef-aee9-8412b1b22011",
   "metadata": {},
   "outputs": [
    {
     "name": "stdout",
     "output_type": "stream",
     "text": [
      "---- and ----\n",
      "True and False : False\n"
     ]
    }
   ],
   "source": [
    "# and \n",
    "\n",
    "print(\"---- and ----\")\n",
    "print(\"{0} and {1} : {2}\".format(a,b, a and b))"
   ]
  },
  {
   "cell_type": "code",
   "execution_count": 21,
   "id": "c1c6fad5-1add-44cf-a25e-c48c533043d0",
   "metadata": {},
   "outputs": [
    {
     "name": "stdout",
     "output_type": "stream",
     "text": [
      "---- or ----\n",
      "True or False : True\n"
     ]
    }
   ],
   "source": [
    "# or\n",
    "\n",
    "print(\"---- or ----\")\n",
    "print(\"{0} or {1} : {2}\".format(a,b, a or b))"
   ]
  },
  {
   "cell_type": "markdown",
   "id": "79b74cea-7059-4ecf-af80-1dc9b1edefae",
   "metadata": {},
   "source": [
    "\"=\" is assignment, whereas \"==\" is equality check. They are different operators."
   ]
  },
  {
   "cell_type": "markdown",
   "id": "9131dc8f-15b9-466b-a892-1c2490020d94",
   "metadata": {},
   "source": [
    "(True and False) or (False or True)  expression will evaluate as True."
   ]
  },
  {
   "cell_type": "markdown",
   "id": "87566084-f76e-422a-8f92-87cdcd087f46",
   "metadata": {},
   "source": [
    "First paranthesis is False, and the second one is True. Since there is \"or\" between paranthesis, the final result is True."
   ]
  },
  {
   "cell_type": "code",
   "execution_count": null,
   "id": "1ffb1ea1-1ae5-4f39-b3ca-452218cb90c6",
   "metadata": {},
   "outputs": [],
   "source": []
  }
 ],
 "metadata": {
  "kernelspec": {
   "display_name": "Python 3 (ipykernel)",
   "language": "python",
   "name": "python3"
  },
  "language_info": {
   "codemirror_mode": {
    "name": "ipython",
    "version": 3
   },
   "file_extension": ".py",
   "mimetype": "text/x-python",
   "name": "python",
   "nbconvert_exporter": "python",
   "pygments_lexer": "ipython3",
   "version": "3.8.12"
  }
 },
 "nbformat": 4,
 "nbformat_minor": 5
}
