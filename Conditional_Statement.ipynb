{
 "cells": [
  {
   "cell_type": "markdown",
   "id": "76cca044-494f-4692-963a-38946402cc5e",
   "metadata": {},
   "source": [
    "# Conditional Statements"
   ]
  },
  {
   "cell_type": "markdown",
   "id": "b6f57358-ebfb-47d3-a5da-01697e4e3316",
   "metadata": {},
   "source": [
    "# What is a Conditional Statement?"
   ]
  },
  {
   "cell_type": "markdown",
   "id": "6368b43a-2ca4-4cca-a027-fd84b6a8a080",
   "metadata": {},
   "source": [
    "A conditional statement is an experssion which evalutes either **True** or **False**."
   ]
  },
  {
   "cell_type": "code",
   "execution_count": 1,
   "id": "20d31cdc-9626-4daf-9f4d-5ee472d1e815",
   "metadata": {},
   "outputs": [
    {
     "data": {
      "text/plain": [
       "True"
      ]
     },
     "execution_count": 1,
     "metadata": {},
     "output_type": "execute_result"
    }
   ],
   "source": [
    "6 == 6"
   ]
  },
  {
   "cell_type": "code",
   "execution_count": 2,
   "id": "b13e533e-8396-4320-be32-46ba1705bdcc",
   "metadata": {},
   "outputs": [
    {
     "data": {
      "text/plain": [
       "6"
      ]
     },
     "execution_count": 2,
     "metadata": {},
     "output_type": "execute_result"
    }
   ],
   "source": [
    "# single equal sign -> = , assignment\n",
    "\n",
    "a = 6\n",
    "a"
   ]
  },
  {
   "cell_type": "code",
   "execution_count": 3,
   "id": "29ffe974-670d-4412-ad54-388e86ea306d",
   "metadata": {},
   "outputs": [
    {
     "data": {
      "text/plain": [
       "True"
      ]
     },
     "execution_count": 3,
     "metadata": {},
     "output_type": "execute_result"
    }
   ],
   "source": [
    "# double equal sign -> == , equality check\n",
    "\n",
    "6 == 6 "
   ]
  },
  {
   "cell_type": "code",
   "execution_count": 4,
   "id": "ced8684c-393f-4430-872d-ea614aa0d9ab",
   "metadata": {},
   "outputs": [
    {
     "data": {
      "text/plain": [
       "False"
      ]
     },
     "execution_count": 4,
     "metadata": {},
     "output_type": "execute_result"
    }
   ],
   "source": [
    "6 == 8"
   ]
  },
  {
   "cell_type": "markdown",
   "id": "aed0a2c5-9596-40e6-a3a3-548cb1af0868",
   "metadata": {},
   "source": [
    "`=` is assignment \n",
    "\n",
    "`==` is equality check"
   ]
  },
  {
   "cell_type": "code",
   "execution_count": 5,
   "id": "24e63e4e-c451-4490-819e-e843570ddff1",
   "metadata": {},
   "outputs": [
    {
     "data": {
      "text/plain": [
       "True"
      ]
     },
     "execution_count": 5,
     "metadata": {},
     "output_type": "execute_result"
    }
   ],
   "source": [
    "True"
   ]
  },
  {
   "cell_type": "code",
   "execution_count": 6,
   "id": "ea6c8ed4-faeb-4af7-9abc-bdd79324f47e",
   "metadata": {},
   "outputs": [
    {
     "data": {
      "text/plain": [
       "False"
      ]
     },
     "execution_count": 6,
     "metadata": {},
     "output_type": "execute_result"
    }
   ],
   "source": [
    "False"
   ]
  },
  {
   "cell_type": "code",
   "execution_count": 7,
   "id": "38e72565-dad5-40c3-b2a5-cbc0c277f054",
   "metadata": {},
   "outputs": [
    {
     "data": {
      "text/plain": [
       "bool"
      ]
     },
     "execution_count": 7,
     "metadata": {},
     "output_type": "execute_result"
    }
   ],
   "source": [
    "type(True)"
   ]
  },
  {
   "cell_type": "markdown",
   "id": "9c3b9193-06f9-49c9-8c86-145230f60dad",
   "metadata": {},
   "source": [
    "**Boolean Experssions:**\n",
    "\n",
    "* x == y : x is equal to y\n",
    "* x != y : x is not equal to y\n",
    "* x < y : x is less than y\n",
    "* x > y : x is greater than y\n",
    "* x <= y : x is less than or equal to y\n",
    "* x >= y : x is greater than or equal to y"
   ]
  },
  {
   "cell_type": "code",
   "execution_count": 8,
   "id": "fdc96e14-c02a-4937-a8e4-89dab2c3d121",
   "metadata": {},
   "outputs": [
    {
     "name": "stdout",
     "output_type": "stream",
     "text": [
      "x == y : False\n",
      "x != y : True\n",
      "x < y : False\n",
      "x > y : True\n",
      "x <= y : False\n",
      "x >= y : True\n"
     ]
    }
   ],
   "source": [
    "x = 12\n",
    "y = 8\n",
    "\n",
    "print(\"x == y :\", x == y)\n",
    "print(\"x != y :\", x != y)\n",
    "print(\"x < y :\", x < y)\n",
    "print(\"x > y :\", x > y)\n",
    "print(\"x <= y :\", x <= y)\n",
    "print(\"x >= y :\", x >=y)"
   ]
  },
  {
   "cell_type": "markdown",
   "id": "9a9f3b12-1e81-4b26-a011-639937badc50",
   "metadata": {},
   "source": [
    "**Logical Expressions:**\n",
    "* `and` : True if both of the conditions are True, False otherwise\n",
    "* `or` : True if any of the conditions is True, False if all conditions are False."
   ]
  },
  {
   "cell_type": "markdown",
   "id": "f4522824-4c9d-4bb8-8824-8ca75fab8f59",
   "metadata": {},
   "source": [
    "**and:**"
   ]
  },
  {
   "cell_type": "code",
   "execution_count": 9,
   "id": "8fb2f795-779f-45e8-b241-3a4ff6a2f54a",
   "metadata": {},
   "outputs": [
    {
     "data": {
      "text/plain": [
       "True"
      ]
     },
     "execution_count": 9,
     "metadata": {},
     "output_type": "execute_result"
    }
   ],
   "source": [
    "True and True"
   ]
  },
  {
   "cell_type": "code",
   "execution_count": 10,
   "id": "7439f0c6-ddde-4a5e-bee1-61a71cb47030",
   "metadata": {},
   "outputs": [
    {
     "data": {
      "text/plain": [
       "False"
      ]
     },
     "execution_count": 10,
     "metadata": {},
     "output_type": "execute_result"
    }
   ],
   "source": [
    "True and False"
   ]
  },
  {
   "cell_type": "code",
   "execution_count": 11,
   "id": "7cd3dcba-778e-4c98-9cce-625ef53efc47",
   "metadata": {},
   "outputs": [
    {
     "data": {
      "text/plain": [
       "False"
      ]
     },
     "execution_count": 11,
     "metadata": {},
     "output_type": "execute_result"
    }
   ],
   "source": [
    "False and True"
   ]
  },
  {
   "cell_type": "code",
   "execution_count": 12,
   "id": "df80120e-1929-468c-b403-2716a23b90ba",
   "metadata": {},
   "outputs": [
    {
     "data": {
      "text/plain": [
       "False"
      ]
     },
     "execution_count": 12,
     "metadata": {},
     "output_type": "execute_result"
    }
   ],
   "source": [
    "False and False"
   ]
  },
  {
   "cell_type": "markdown",
   "id": "5cbe1d53-6164-492c-9157-ebaec396d5f4",
   "metadata": {},
   "source": [
    "**or:**"
   ]
  },
  {
   "cell_type": "code",
   "execution_count": 14,
   "id": "bd69071f-6ff1-4c79-b7a0-9273b58f2496",
   "metadata": {},
   "outputs": [
    {
     "data": {
      "text/plain": [
       "True"
      ]
     },
     "execution_count": 14,
     "metadata": {},
     "output_type": "execute_result"
    }
   ],
   "source": [
    "True  or True"
   ]
  },
  {
   "cell_type": "code",
   "execution_count": 15,
   "id": "5459d882-3b8a-4702-bc5c-fcc84451e0aa",
   "metadata": {},
   "outputs": [
    {
     "data": {
      "text/plain": [
       "True"
      ]
     },
     "execution_count": 15,
     "metadata": {},
     "output_type": "execute_result"
    }
   ],
   "source": [
    "True or False"
   ]
  },
  {
   "cell_type": "code",
   "execution_count": 16,
   "id": "5be4d743-b929-4b00-b6b3-a1677f77494d",
   "metadata": {},
   "outputs": [
    {
     "data": {
      "text/plain": [
       "True"
      ]
     },
     "execution_count": 16,
     "metadata": {},
     "output_type": "execute_result"
    }
   ],
   "source": [
    "False or True"
   ]
  },
  {
   "cell_type": "code",
   "execution_count": 17,
   "id": "1a6e09b5-5f77-44a3-9911-30f489534ee4",
   "metadata": {},
   "outputs": [
    {
     "data": {
      "text/plain": [
       "False"
      ]
     },
     "execution_count": 17,
     "metadata": {},
     "output_type": "execute_result"
    }
   ],
   "source": [
    "False or False"
   ]
  },
  {
   "cell_type": "markdown",
   "id": "e49a9c86-442d-444a-9d27-159ec4a1ad2c",
   "metadata": {},
   "source": [
    "**Example with Variables:**"
   ]
  },
  {
   "cell_type": "code",
   "execution_count": 18,
   "id": "9a8e0178-514f-42ce-a4bf-836aca95fab6",
   "metadata": {},
   "outputs": [
    {
     "data": {
      "text/plain": [
       "True"
      ]
     },
     "execution_count": 18,
     "metadata": {},
     "output_type": "execute_result"
    }
   ],
   "source": [
    "# a -> True\n",
    "\n",
    "a = 5 == 5\n",
    "a "
   ]
  },
  {
   "cell_type": "code",
   "execution_count": 19,
   "id": "f0f09cf0-a7f3-4b39-8efc-8e23c6953c12",
   "metadata": {},
   "outputs": [
    {
     "data": {
      "text/plain": [
       "False"
      ]
     },
     "execution_count": 19,
     "metadata": {},
     "output_type": "execute_result"
    }
   ],
   "source": [
    "# b -> False\n",
    "\n",
    "b = 'a' == 'A'\n",
    "b"
   ]
  },
  {
   "cell_type": "code",
   "execution_count": 20,
   "id": "2436ff9f-f85b-47ef-aee9-8412b1b22011",
   "metadata": {},
   "outputs": [
    {
     "name": "stdout",
     "output_type": "stream",
     "text": [
      "---- and ----\n",
      "True and False : False\n"
     ]
    }
   ],
   "source": [
    "# and \n",
    "\n",
    "print(\"---- and ----\")\n",
    "print(\"{0} and {1} : {2}\".format(a,b, a and b))"
   ]
  },
  {
   "cell_type": "code",
   "execution_count": 21,
   "id": "c1c6fad5-1add-44cf-a25e-c48c533043d0",
   "metadata": {},
   "outputs": [
    {
     "name": "stdout",
     "output_type": "stream",
     "text": [
      "---- or ----\n",
      "True or False : True\n"
     ]
    }
   ],
   "source": [
    "# or\n",
    "\n",
    "print(\"---- or ----\")\n",
    "print(\"{0} or {1} : {2}\".format(a,b, a or b))"
   ]
  },
  {
   "cell_type": "markdown",
   "id": "79b74cea-7059-4ecf-af80-1dc9b1edefae",
   "metadata": {},
   "source": [
    "\"=\" is assignment, whereas \"==\" is equality check. They are different operators."
   ]
  },
  {
   "cell_type": "markdown",
   "id": "9131dc8f-15b9-466b-a892-1c2490020d94",
   "metadata": {},
   "source": [
    "(True and False) or (False or True)  expression will evaluate as True."
   ]
  },
  {
   "cell_type": "markdown",
   "id": "87566084-f76e-422a-8f92-87cdcd087f46",
   "metadata": {},
   "source": [
    "First paranthesis is False, and the second one is True. Since there is \"or\" between paranthesis, the final result is True."
   ]
  },
  {
   "cell_type": "markdown",
   "id": "5e8ed1db-0913-4956-85e1-ab52917341f2",
   "metadata": {},
   "source": [
    "# if "
   ]
  },
  {
   "cell_type": "markdown",
   "id": "5d53b1de-76d9-4b9c-880b-49a7f6372707",
   "metadata": {},
   "source": [
    "Python runs the code from top to down."
   ]
  },
  {
   "cell_type": "markdown",
   "id": "bbf32377-9f3f-42ca-9fd6-1be7738e7ed7",
   "metadata": {},
   "source": [
    "We call it Execution Flow."
   ]
  },
  {
   "cell_type": "markdown",
   "id": "a71f784d-5600-4d58-a0f3-868c1b7d057e",
   "metadata": {},
   "source": [
    "There will be places in the code, that you may want to control this flow."
   ]
  },
  {
   "cell_type": "markdown",
   "id": "f29e9bdd-107d-4698-b484-887c8dabc3d0",
   "metadata": {},
   "source": [
    "For example, let's say you want to print the number if it is positive."
   ]
  },
  {
   "cell_type": "markdown",
   "id": "a13734dd-eb2d-41d4-889e-20b6be8c4858",
   "metadata": {},
   "source": [
    "This decision making is called **conditional execution** and it is done via **if statements**."
   ]
  },
  {
   "cell_type": "code",
   "execution_count": 2,
   "id": "2e6a7189-6153-44ec-9e5e-8f119cab6e52",
   "metadata": {},
   "outputs": [
    {
     "name": "stdout",
     "output_type": "stream",
     "text": [
      "7 is greater than 0.\n"
     ]
    }
   ],
   "source": [
    "#Print x, if it is greater than zero (positive)\n",
    "\n",
    "x = 7\n",
    "\n",
    "if x > 0:\n",
    "    print(\"{} is greater than 0.\".format(x))\n",
    "    "
   ]
  },
  {
   "cell_type": "code",
   "execution_count": 3,
   "id": "82fdceb6-078b-42d4-8d88-4c3a713ed3e8",
   "metadata": {},
   "outputs": [
    {
     "name": "stdout",
     "output_type": "stream",
     "text": [
      "end of if statement\n"
     ]
    }
   ],
   "source": [
    "x = -10\n",
    "\n",
    "if x > 0:\n",
    "    print(\"{} is greater than 0.\".format(x))\n",
    "    \n",
    "print(\"end of if statement\")"
   ]
  },
  {
   "cell_type": "code",
   "execution_count": 4,
   "id": "88693afb-5c1b-4dea-81d6-f6224aff9ba7",
   "metadata": {},
   "outputs": [
    {
     "name": "stdout",
     "output_type": "stream",
     "text": [
      "---------\n",
      "10 is greater than 0 and less than or equal to 10.\n",
      "---------\n"
     ]
    }
   ],
   "source": [
    "# If x is greater than 0 and less than or equal to 10, print it\n",
    "\n",
    "x = 10\n",
    "\n",
    "print(\"---------\")\n",
    "\n",
    "if x > 0 and x <= 10:\n",
    "    print(\"{} is greater than 0 and less than or equal to 10.\".format(x))\n",
    "\n",
    "print(\"---------\")"
   ]
  },
  {
   "cell_type": "code",
   "execution_count": 5,
   "id": "150613df-7939-4e8c-a03c-36d4a3b7eec7",
   "metadata": {},
   "outputs": [
    {
     "name": "stdout",
     "output_type": "stream",
     "text": [
      "---------\n",
      "---------\n"
     ]
    }
   ],
   "source": [
    "x = 17\n",
    "\n",
    "print(\"---------\")\n",
    "\n",
    "if x > 0 and x <= 10:\n",
    "    print(\"{} is greater than 0 and less than or equal to 10.\".format(x))\n",
    "\n",
    "print(\"---------\")"
   ]
  },
  {
   "cell_type": "code",
   "execution_count": 6,
   "id": "9ac88ccc-67bb-49cc-9dbe-39a3e9462a1f",
   "metadata": {},
   "outputs": [
    {
     "name": "stdout",
     "output_type": "stream",
     "text": [
      "---------\n",
      "6 is greater than 0 and less than or equal to 10.\n",
      "---------\n"
     ]
    }
   ],
   "source": [
    "x = 6\n",
    "\n",
    "print(\"---------\")\n",
    "\n",
    "if x > 0 and x <= 10:\n",
    "    print(\"{} is greater than 0 and less than or equal to 10.\".format(x))\n",
    "\n",
    "print(\"---------\")"
   ]
  },
  {
   "cell_type": "code",
   "execution_count": 7,
   "id": "88c715bf-0560-46b5-b65c-4679b58c2d2a",
   "metadata": {},
   "outputs": [
    {
     "name": "stdout",
     "output_type": "stream",
     "text": [
      "---------\n",
      "19 is greater than or equal to 0 and less than 20.\n",
      "---------\n"
     ]
    }
   ],
   "source": [
    "# if x is greater than or equal to 0 and less than 20, print it.\n",
    "\n",
    "x = 19\n",
    "\n",
    "print(\"---------\")\n",
    "\n",
    "if x >= 0 and x < 20:\n",
    "    print(\"{} is greater than or equal to 0 and less than 20.\".format(x))\n",
    "\n",
    "print(\"---------\")"
   ]
  },
  {
   "cell_type": "code",
   "execution_count": 8,
   "id": "07fdafd0-3ca2-44c0-818c-b8730b4a90b4",
   "metadata": {},
   "outputs": [
    {
     "name": "stdout",
     "output_type": "stream",
     "text": [
      "---------\n",
      "---------\n"
     ]
    }
   ],
   "source": [
    "x = 49\n",
    "\n",
    "print(\"---------\")\n",
    "\n",
    "if x >= 0 and x < 20:\n",
    "    print(\"{} is greater than or equal to 0 and less than 20.\".format(x))\n",
    "\n",
    "print(\"---------\")"
   ]
  },
  {
   "cell_type": "code",
   "execution_count": 9,
   "id": "302bf5b5-235d-4c12-ba69-4788c86006a3",
   "metadata": {},
   "outputs": [
    {
     "name": "stdout",
     "output_type": "stream",
     "text": [
      "---------\n",
      "---------\n"
     ]
    }
   ],
   "source": [
    "x = -6\n",
    "\n",
    "print(\"---------\")\n",
    "\n",
    "if x >= 0 and x < 20:\n",
    "    print(\"{} is greater than or equal to 0 and less than 20.\".format(x))\n",
    "\n",
    "print(\"---------\")"
   ]
  },
  {
   "cell_type": "code",
   "execution_count": 10,
   "id": "e9d82a2e-acf4-4640-ad76-29c84883d8cb",
   "metadata": {},
   "outputs": [
    {
     "name": "stdout",
     "output_type": "stream",
     "text": [
      "---------\n",
      "---------\n"
     ]
    }
   ],
   "source": [
    "# or \n",
    "\n",
    "# if x is greater than 100 or less than 0, print it\n",
    "\n",
    "x = 80\n",
    "\n",
    "print(\"---------\")\n",
    "\n",
    "if x > 100 or x < 0:\n",
    "    print(\"{} is greater than 100 or less than 0.\".format(x))\n",
    "\n",
    "print(\"---------\")"
   ]
  },
  {
   "cell_type": "code",
   "execution_count": 11,
   "id": "c035aaa4-2118-4435-94d6-6b2d74492fe2",
   "metadata": {},
   "outputs": [
    {
     "name": "stdout",
     "output_type": "stream",
     "text": [
      "---------\n",
      "280 is greater than 100 or less than 0.\n",
      "---------\n"
     ]
    }
   ],
   "source": [
    "x = 280\n",
    "\n",
    "print(\"---------\")\n",
    "\n",
    "if x > 100 or x < 0:\n",
    "    print(\"{} is greater than 100 or less than 0.\".format(x))\n",
    "\n",
    "print(\"---------\")"
   ]
  },
  {
   "cell_type": "code",
   "execution_count": 12,
   "id": "8f82b778-25e0-4cd6-8b25-9274f4d0e6e5",
   "metadata": {},
   "outputs": [
    {
     "name": "stdout",
     "output_type": "stream",
     "text": [
      "---------\n",
      "-300 is greater than 100 or less than 0.\n",
      "---------\n"
     ]
    }
   ],
   "source": [
    "x = -300\n",
    "\n",
    "print(\"---------\")\n",
    "\n",
    "if x > 100 or x < 0:\n",
    "    print(\"{} is greater than 100 or less than 0.\".format(x))\n",
    "\n",
    "print(\"---------\")"
   ]
  },
  {
   "cell_type": "markdown",
   "id": "9798d4b0-aee2-4279-bc06-caebd1b65f92",
   "metadata": {},
   "source": [
    "# Quiz "
   ]
  },
  {
   "cell_type": "code",
   "execution_count": 3,
   "id": "959a44aa-aa9f-4b98-a115-649990b91e9f",
   "metadata": {},
   "outputs": [
    {
     "name": "stdout",
     "output_type": "stream",
     "text": [
      "60 is greater than or equal to 0 or less than 20\n"
     ]
    }
   ],
   "source": [
    "#60 is greater than or equal to 0 or less than 20\n",
    "x = 60\n",
    "if x >= 0 or x < 20:\n",
    "    print(\"{} is greater than or equal to 0 or less than 20\".format(x))"
   ]
  },
  {
   "cell_type": "code",
   "execution_count": 5,
   "id": "45676b00-ec5e-49f3-8f86-630eff8ec95a",
   "metadata": {},
   "outputs": [],
   "source": [
    "#49 is greater than or equal to 0 and less than 20\n",
    "x = 49\n",
    "if x >= 0 and x < 20:\n",
    "    print(\"{} is greater than or equal to 0 and less than 20\".format(x))"
   ]
  },
  {
   "cell_type": "markdown",
   "id": "9da5b591-3d84-4358-a719-1b3995947727",
   "metadata": {},
   "source": [
    "49 < 20 will evaluates False. Since \"and\" wants both sides to be True, the code in if statement will not run."
   ]
  },
  {
   "cell_type": "code",
   "execution_count": null,
   "id": "05d63e86-d286-48fd-a226-2db30fb4cbb8",
   "metadata": {},
   "outputs": [],
   "source": []
  }
 ],
 "metadata": {
  "kernelspec": {
   "display_name": "Python 3 (ipykernel)",
   "language": "python",
   "name": "python3"
  },
  "language_info": {
   "codemirror_mode": {
    "name": "ipython",
    "version": 3
   },
   "file_extension": ".py",
   "mimetype": "text/x-python",
   "name": "python",
   "nbconvert_exporter": "python",
   "pygments_lexer": "ipython3",
   "version": "3.8.12"
  }
 },
 "nbformat": 4,
 "nbformat_minor": 5
}
