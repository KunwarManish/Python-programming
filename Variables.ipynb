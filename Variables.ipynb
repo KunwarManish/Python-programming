{
 "cells": [
  {
   "cell_type": "markdown",
   "id": "ceb6d565-302c-4e0e-93ea-70f76d9382ad",
   "metadata": {},
   "source": [
    "# Variables"
   ]
  },
  {
   "cell_type": "markdown",
   "id": "6f057a93-28d7-49f0-aba1-53d67c75a43f",
   "metadata": {},
   "source": [
    "## What is a Variable?"
   ]
  },
  {
   "cell_type": "markdown",
   "id": "7bae0231-2c5f-41a2-861f-9368cfafce38",
   "metadata": {},
   "source": [
    "**Variable** is a name referring to a value."
   ]
  },
  {
   "cell_type": "markdown",
   "id": "771e1e3f-0d2f-49e1-9a3a-a0be1eb8ac94",
   "metadata": {},
   "source": [
    "It is the **name of the address** for that **value** in the memory."
   ]
  },
  {
   "cell_type": "markdown",
   "id": "bd35d356-c2e1-4499-b65a-785a5ff01f03",
   "metadata": {},
   "source": [
    "**Assignment** create a vairable and binds it to the given value.\n",
    "\n",
    "="
   ]
  },
  {
   "cell_type": "code",
   "execution_count": 1,
   "id": "62ecca1b-f179-48d9-bb21-30ed9f935270",
   "metadata": {},
   "outputs": [],
   "source": [
    "a = 12"
   ]
  },
  {
   "cell_type": "code",
   "execution_count": 2,
   "id": "45caa938-ff19-40fe-8a22-4bd0600e462e",
   "metadata": {},
   "outputs": [
    {
     "data": {
      "text/plain": [
       "12"
      ]
     },
     "execution_count": 2,
     "metadata": {},
     "output_type": "execute_result"
    }
   ],
   "source": [
    "a"
   ]
  },
  {
   "cell_type": "code",
   "execution_count": 3,
   "id": "46ae41f3-656d-481c-a513-debe6f17234a",
   "metadata": {},
   "outputs": [],
   "source": [
    "info = \"Python name comes from Monthy Python and Holly Grail\""
   ]
  },
  {
   "cell_type": "code",
   "execution_count": 4,
   "id": "9bacfe72-8776-4b7a-8410-f52b67b73a6f",
   "metadata": {},
   "outputs": [
    {
     "name": "stdout",
     "output_type": "stream",
     "text": [
      "Python name comes from Monthy Python and Holly Grail\n"
     ]
    }
   ],
   "source": [
    "print(info)"
   ]
  },
  {
   "cell_type": "code",
   "execution_count": 5,
   "id": "32dfa4cc-a5f0-47e7-9cf8-4db64fae63a2",
   "metadata": {},
   "outputs": [
    {
     "name": "stdout",
     "output_type": "stream",
     "text": [
      "3.1415\n"
     ]
    }
   ],
   "source": [
    "pi = 3.1415\n",
    "print(pi)"
   ]
  },
  {
   "cell_type": "code",
   "execution_count": 6,
   "id": "820eecae-f560-4ecf-92a0-6384e707f255",
   "metadata": {},
   "outputs": [],
   "source": [
    "n = 12"
   ]
  },
  {
   "cell_type": "code",
   "execution_count": 7,
   "id": "568b87d3-63c4-4c43-93a8-5bc76037131a",
   "metadata": {},
   "outputs": [
    {
     "data": {
      "text/plain": [
       "12"
      ]
     },
     "execution_count": 7,
     "metadata": {},
     "output_type": "execute_result"
    }
   ],
   "source": [
    "n"
   ]
  },
  {
   "cell_type": "code",
   "execution_count": 8,
   "id": "dc5d0b57-43fe-418e-be47-933011059f77",
   "metadata": {},
   "outputs": [
    {
     "data": {
      "text/plain": [
       "12"
      ]
     },
     "execution_count": 8,
     "metadata": {},
     "output_type": "execute_result"
    }
   ],
   "source": [
    "a"
   ]
  },
  {
   "cell_type": "code",
   "execution_count": 9,
   "id": "1b1b578d-079d-4828-9256-e87623bf7f3e",
   "metadata": {},
   "outputs": [],
   "source": [
    "a = 1000"
   ]
  },
  {
   "cell_type": "code",
   "execution_count": 10,
   "id": "ac776a87-17d0-4468-8b4f-df388fdc768a",
   "metadata": {},
   "outputs": [
    {
     "data": {
      "text/plain": [
       "1000"
      ]
     },
     "execution_count": 10,
     "metadata": {},
     "output_type": "execute_result"
    }
   ],
   "source": [
    "a"
   ]
  },
  {
   "cell_type": "code",
   "execution_count": 11,
   "id": "bac3ae0b-6c49-4599-a9ea-26f0964f6eaa",
   "metadata": {},
   "outputs": [
    {
     "data": {
      "text/plain": [
       "3000"
      ]
     },
     "execution_count": 11,
     "metadata": {},
     "output_type": "execute_result"
    }
   ],
   "source": [
    "a = 3000\n",
    "a"
   ]
  },
  {
   "cell_type": "markdown",
   "id": "1f477c48-3cef-4249-9ad9-8d366fe59c28",
   "metadata": {},
   "source": [
    "# Variable Names"
   ]
  },
  {
   "cell_type": "markdown",
   "id": "0aea4ab2-7340-41b8-aedc-3457d50c2f58",
   "metadata": {},
   "source": [
    "In python, Variable Names:\n",
    "\n",
    "* should be meaningful, self-explanatory\n",
    "* generally we use snake_case\n",
    "\n",
    "average_car\n",
    "\n",
    "starting_index"
   ]
  },
  {
   "cell_type": "markdown",
   "id": "7acb0a55-c6c3-4bdf-b4d4-e41adc9fc42e",
   "metadata": {},
   "source": [
    "Variables Names CAN NOT:\n",
    "\n",
    "* start with a number\n",
    "    * 1number\n",
    "    * 3_rd_postion\n",
    "    \n",
    "* include space\n",
    "    * average speed\n",
    "\n",
    "* include special characters\n",
    "    * @,-,+,*,etc.\n",
    "    * @number\n",
    "    \n",
    "* include keywords\n",
    "    * and, for, return, True, if..."
   ]
  },
  {
   "cell_type": "code",
   "execution_count": 12,
   "id": "909a9f7a-dad0-4c0d-813d-0579aa7a325c",
   "metadata": {},
   "outputs": [
    {
     "ename": "SyntaxError",
     "evalue": "invalid syntax (Temp/ipykernel_13344/388009423.py, line 1)",
     "output_type": "error",
     "traceback": [
      "\u001b[1;36m  File \u001b[1;32m\"C:\\Users\\Kunwar\\AppData\\Local\\Temp/ipykernel_13344/388009423.py\"\u001b[1;36m, line \u001b[1;32m1\u001b[0m\n\u001b[1;33m    1number = 1245\u001b[0m\n\u001b[1;37m     ^\u001b[0m\n\u001b[1;31mSyntaxError\u001b[0m\u001b[1;31m:\u001b[0m invalid syntax\n"
     ]
    }
   ],
   "source": [
    "1number = 1245"
   ]
  },
  {
   "cell_type": "code",
   "execution_count": 13,
   "id": "a8e34065-7875-4e8a-bdc1-957beb530cae",
   "metadata": {},
   "outputs": [],
   "source": [
    "average_speed = 80"
   ]
  },
  {
   "cell_type": "code",
   "execution_count": 14,
   "id": "20fc3608-9257-4b44-9eb1-ce190386d7fc",
   "metadata": {},
   "outputs": [
    {
     "ename": "SyntaxError",
     "evalue": "invalid syntax (Temp/ipykernel_13344/3979765169.py, line 1)",
     "output_type": "error",
     "traceback": [
      "\u001b[1;36m  File \u001b[1;32m\"C:\\Users\\Kunwar\\AppData\\Local\\Temp/ipykernel_13344/3979765169.py\"\u001b[1;36m, line \u001b[1;32m1\u001b[0m\n\u001b[1;33m    average speed = 85\u001b[0m\n\u001b[1;37m            ^\u001b[0m\n\u001b[1;31mSyntaxError\u001b[0m\u001b[1;31m:\u001b[0m invalid syntax\n"
     ]
    }
   ],
   "source": [
    "average speed = 85"
   ]
  },
  {
   "cell_type": "code",
   "execution_count": 15,
   "id": "c4a423c9-f022-4a20-b959-2e6b9f025387",
   "metadata": {},
   "outputs": [
    {
     "ename": "SyntaxError",
     "evalue": "invalid syntax (Temp/ipykernel_13344/2714986626.py, line 1)",
     "output_type": "error",
     "traceback": [
      "\u001b[1;36m  File \u001b[1;32m\"C:\\Users\\Kunwar\\AppData\\Local\\Temp/ipykernel_13344/2714986626.py\"\u001b[1;36m, line \u001b[1;32m1\u001b[0m\n\u001b[1;33m    @tenth = 10\u001b[0m\n\u001b[1;37m           ^\u001b[0m\n\u001b[1;31mSyntaxError\u001b[0m\u001b[1;31m:\u001b[0m invalid syntax\n"
     ]
    }
   ],
   "source": [
    "@tenth = 10"
   ]
  },
  {
   "cell_type": "code",
   "execution_count": 16,
   "id": "a0e7e166-7ac2-4a50-a167-3becde6250c8",
   "metadata": {},
   "outputs": [
    {
     "ename": "SyntaxError",
     "evalue": "invalid syntax (Temp/ipykernel_13344/3439871925.py, line 1)",
     "output_type": "error",
     "traceback": [
      "\u001b[1;36m  File \u001b[1;32m\"C:\\Users\\Kunwar\\AppData\\Local\\Temp/ipykernel_13344/3439871925.py\"\u001b[1;36m, line \u001b[1;32m1\u001b[0m\n\u001b[1;33m    for = 4\u001b[0m\n\u001b[1;37m        ^\u001b[0m\n\u001b[1;31mSyntaxError\u001b[0m\u001b[1;31m:\u001b[0m invalid syntax\n"
     ]
    }
   ],
   "source": [
    "for = 4 "
   ]
  },
  {
   "cell_type": "code",
   "execution_count": 17,
   "id": "41bc639a-f80e-4dc8-91e7-bdecfdaa18d3",
   "metadata": {},
   "outputs": [
    {
     "ename": "SyntaxError",
     "evalue": "starred assignment target must be in a list or tuple (Temp/ipykernel_13344/1810212927.py, line 1)",
     "output_type": "error",
     "traceback": [
      "\u001b[1;36m  File \u001b[1;32m\"C:\\Users\\Kunwar\\AppData\\Local\\Temp/ipykernel_13344/1810212927.py\"\u001b[1;36m, line \u001b[1;32m1\u001b[0m\n\u001b[1;33m    *a = 45\u001b[0m\n\u001b[1;37m    ^\u001b[0m\n\u001b[1;31mSyntaxError\u001b[0m\u001b[1;31m:\u001b[0m starred assignment target must be in a list or tuple\n"
     ]
    }
   ],
   "source": [
    "*a = 45"
   ]
  },
  {
   "cell_type": "markdown",
   "id": "095b5746-573b-4abe-b848-737a0e485fc9",
   "metadata": {},
   "source": [
    "**Important:**\n",
    "\n",
    "In Python, **CAPTIAL-small** letters are different.\n",
    "\n",
    "`Python is CASE SENSITIVE`"
   ]
  },
  {
   "cell_type": "code",
   "execution_count": 18,
   "id": "f5e33b95-3f06-4f3b-8726-505cb65ad19e",
   "metadata": {},
   "outputs": [],
   "source": [
    "a = 10\n",
    "A = 45"
   ]
  },
  {
   "cell_type": "code",
   "execution_count": 19,
   "id": "a8e234d1-971c-44ad-8975-60b106ac60ef",
   "metadata": {},
   "outputs": [
    {
     "name": "stdout",
     "output_type": "stream",
     "text": [
      "10\n"
     ]
    }
   ],
   "source": [
    "print(a)"
   ]
  },
  {
   "cell_type": "code",
   "execution_count": 20,
   "id": "003f5304-7f87-4fef-9b00-d36853a641f8",
   "metadata": {},
   "outputs": [
    {
     "name": "stdout",
     "output_type": "stream",
     "text": [
      "45\n"
     ]
    }
   ],
   "source": [
    "print(A)"
   ]
  },
  {
   "cell_type": "markdown",
   "id": "1ab7260c-57cc-4bf4-b668-efea934bc4b8",
   "metadata": {},
   "source": [
    "a is not equal to A in Python."
   ]
  },
  {
   "cell_type": "code",
   "execution_count": 21,
   "id": "d048265b-6538-4c2f-bbbc-18951d5bdb61",
   "metadata": {},
   "outputs": [
    {
     "name": "stdout",
     "output_type": "stream",
     "text": [
      "5\n"
     ]
    }
   ],
   "source": [
    "num = 5\n",
    "Num = 12\n",
    "print(num)"
   ]
  },
  {
   "cell_type": "markdown",
   "id": "741d5b70-c95f-4646-b8c7-972badf1b91b",
   "metadata": {},
   "source": [
    "**Unicode Characters:**\n",
    "\n",
    "Try not to use Unicode Characters in varaible names.\n",
    "\n",
    "Only use English Alphabet (ASCII)."
   ]
  },
  {
   "cell_type": "code",
   "execution_count": 22,
   "id": "1db8dbff-d93b-47ac-9b61-ef54ec60df85",
   "metadata": {},
   "outputs": [],
   "source": [
    "Ω_omega = 80"
   ]
  },
  {
   "cell_type": "code",
   "execution_count": 23,
   "id": "3a491c48-dee4-4521-9e6b-c9adc5149065",
   "metadata": {},
   "outputs": [
    {
     "name": "stdout",
     "output_type": "stream",
     "text": [
      "80\n"
     ]
    }
   ],
   "source": [
    "print(Ω_omega)"
   ]
  },
  {
   "cell_type": "code",
   "execution_count": 24,
   "id": "31498d28-7749-4908-bfd2-35df63c65370",
   "metadata": {},
   "outputs": [
    {
     "name": "stdout",
     "output_type": "stream",
     "text": [
      "80\n"
     ]
    }
   ],
   "source": [
    "omega = 80\n",
    "print(omega)"
   ]
  },
  {
   "cell_type": "markdown",
   "id": "aefb4dc1-4607-4d49-9dc0-0a140fe1df52",
   "metadata": {},
   "source": [
    "## Python Data Types"
   ]
  },
  {
   "cell_type": "markdown",
   "id": "737c163e-49ca-483d-842f-1b0e74917804",
   "metadata": {},
   "source": [
    "In python Data Types are:\n",
    "\n",
    "* Text Type:**str**\n",
    "* Numeric Types: **int, float, complex**\n",
    "* Sequence Types: **list, tuple, range**\n",
    "* Mapping Types: **set , frozenset**\n",
    "* Boolen Types: **bool**\n",
    "* Binary Types: **bytes,bytearray,memortyview**"
   ]
  },
  {
   "cell_type": "markdown",
   "id": "be174909-c8af-4daa-8c0c-a09aec5e7596",
   "metadata": {},
   "source": [
    "To get the type of a variable `type()`"
   ]
  },
  {
   "cell_type": "code",
   "execution_count": 25,
   "id": "5b365972-3f4f-4b59-8dd6-1547a123544e",
   "metadata": {},
   "outputs": [
    {
     "data": {
      "text/plain": [
       "str"
      ]
     },
     "execution_count": 25,
     "metadata": {},
     "output_type": "execute_result"
    }
   ],
   "source": [
    "text = 'This is a string'\n",
    "type(text)"
   ]
  },
  {
   "cell_type": "code",
   "execution_count": 26,
   "id": "f1d0c877-7ab4-4000-91cf-891b8285c74a",
   "metadata": {},
   "outputs": [
    {
     "data": {
      "text/plain": [
       "int"
      ]
     },
     "execution_count": 26,
     "metadata": {},
     "output_type": "execute_result"
    }
   ],
   "source": [
    "integer = 16\n",
    "type(integer)"
   ]
  },
  {
   "cell_type": "code",
   "execution_count": 27,
   "id": "233b2f81-d5de-4169-a256-dec44269340c",
   "metadata": {},
   "outputs": [
    {
     "name": "stdout",
     "output_type": "stream",
     "text": [
      "<class 'float'>\n"
     ]
    }
   ],
   "source": [
    "floating_point_number = 4.6\n",
    "print(type(floating_point_number))"
   ]
  },
  {
   "cell_type": "code",
   "execution_count": 28,
   "id": "fb640e07-f16d-40b7-988c-14075cb89e7e",
   "metadata": {},
   "outputs": [
    {
     "name": "stdout",
     "output_type": "stream",
     "text": [
      "[1, 2, 3, 4, 5]\n"
     ]
    }
   ],
   "source": [
    "my_list = [1, 2, 3, 4, 5]\n",
    "print(my_list)"
   ]
  },
  {
   "cell_type": "code",
   "execution_count": 29,
   "id": "f24723a6-cbc0-494c-b3b7-ceeeb3be21d8",
   "metadata": {},
   "outputs": [
    {
     "data": {
      "text/plain": [
       "list"
      ]
     },
     "execution_count": 29,
     "metadata": {},
     "output_type": "execute_result"
    }
   ],
   "source": [
    "type(my_list)"
   ]
  },
  {
   "cell_type": "code",
   "execution_count": 30,
   "id": "3a68be3e-1339-466d-a696-eed92fa38179",
   "metadata": {},
   "outputs": [
    {
     "name": "stdout",
     "output_type": "stream",
     "text": [
      "('A', 'B', 'C')\n"
     ]
    },
    {
     "data": {
      "text/plain": [
       "tuple"
      ]
     },
     "execution_count": 30,
     "metadata": {},
     "output_type": "execute_result"
    }
   ],
   "source": [
    "triple = ('A', 'B', 'C')\n",
    "print(triple)\n",
    "type(triple)"
   ]
  },
  {
   "cell_type": "code",
   "execution_count": 31,
   "id": "0c4b6f7b-efea-4e6f-9dd1-6f779acb3652",
   "metadata": {},
   "outputs": [
    {
     "name": "stdout",
     "output_type": "stream",
     "text": [
      "range(0, 10)\n"
     ]
    }
   ],
   "source": [
    "to_ten = range(10)\n",
    "print(to_ten)"
   ]
  },
  {
   "cell_type": "code",
   "execution_count": 32,
   "id": "07125d93-6410-49fc-9b09-897ec95b91a4",
   "metadata": {},
   "outputs": [
    {
     "data": {
      "text/plain": [
       "range"
      ]
     },
     "execution_count": 32,
     "metadata": {},
     "output_type": "execute_result"
    }
   ],
   "source": [
    "type(to_ten)"
   ]
  },
  {
   "cell_type": "code",
   "execution_count": 33,
   "id": "2fe0d353-a489-4a68-9ad3-4aa8b2298a74",
   "metadata": {},
   "outputs": [
    {
     "name": "stdout",
     "output_type": "stream",
     "text": [
      "0\n",
      "1\n",
      "2\n",
      "3\n",
      "4\n",
      "5\n",
      "6\n",
      "7\n",
      "8\n",
      "9\n"
     ]
    }
   ],
   "source": [
    "for i in to_ten:\n",
    "    print(i)"
   ]
  },
  {
   "cell_type": "code",
   "execution_count": 34,
   "id": "aa17dc47-81ee-40a3-b57f-9244da21d33b",
   "metadata": {},
   "outputs": [
    {
     "name": "stdout",
     "output_type": "stream",
     "text": [
      "{'name': 'Manish', 'lastname': 'Kunwar', 'language': 'Python'}\n"
     ]
    }
   ],
   "source": [
    "dictionary = {\n",
    "    \"name\" : \"Manish\",\n",
    "    \"lastname\" : \"Kunwar\",\n",
    "    \"language\" : \"Python\"\n",
    "}\n",
    "\n",
    "# <TAB>\n",
    "print(dictionary)   "
   ]
  },
  {
   "cell_type": "code",
   "execution_count": 35,
   "id": "1d6f3064-b7fb-4696-8edb-c23d12d2ea39",
   "metadata": {},
   "outputs": [
    {
     "data": {
      "text/plain": [
       "dict"
      ]
     },
     "execution_count": 35,
     "metadata": {},
     "output_type": "execute_result"
    }
   ],
   "source": [
    "type(dictionary)"
   ]
  },
  {
   "cell_type": "code",
   "execution_count": 36,
   "id": "f6cf9cb9-641b-4574-b69f-f43628ccfae3",
   "metadata": {},
   "outputs": [
    {
     "name": "stdout",
     "output_type": "stream",
     "text": [
      "{1, 2, 3, 4}\n"
     ]
    }
   ],
   "source": [
    "set_of_numbers = set([1 , 2, 2, 3, 1, 3, 4, 4])\n",
    "print(set_of_numbers)"
   ]
  },
  {
   "cell_type": "code",
   "execution_count": 37,
   "id": "2b3eef8c-d6c6-48db-98bd-41344136f53a",
   "metadata": {},
   "outputs": [
    {
     "data": {
      "text/plain": [
       "set"
      ]
     },
     "execution_count": 37,
     "metadata": {},
     "output_type": "execute_result"
    }
   ],
   "source": [
    "type(set_of_numbers)"
   ]
  },
  {
   "cell_type": "code",
   "execution_count": 38,
   "id": "e5912ae6-28fd-4bb3-8edd-eb6cc0e1c692",
   "metadata": {},
   "outputs": [],
   "source": [
    "correct = True\n",
    "wrong = False"
   ]
  },
  {
   "cell_type": "code",
   "execution_count": 39,
   "id": "6614cd8d-9e4d-41aa-a448-9de012b2fa08",
   "metadata": {},
   "outputs": [
    {
     "name": "stdout",
     "output_type": "stream",
     "text": [
      "True\n"
     ]
    }
   ],
   "source": [
    "print(correct)"
   ]
  },
  {
   "cell_type": "code",
   "execution_count": 40,
   "id": "87d99bd8-183f-4128-a540-9a78f0d1796e",
   "metadata": {},
   "outputs": [
    {
     "name": "stdout",
     "output_type": "stream",
     "text": [
      "False\n"
     ]
    }
   ],
   "source": [
    "print(wrong)"
   ]
  },
  {
   "cell_type": "code",
   "execution_count": 41,
   "id": "4bda4003-3acf-439d-802c-2c8bd75aa5af",
   "metadata": {},
   "outputs": [
    {
     "data": {
      "text/plain": [
       "bool"
      ]
     },
     "execution_count": 41,
     "metadata": {},
     "output_type": "execute_result"
    }
   ],
   "source": [
    "type(correct)"
   ]
  },
  {
   "cell_type": "markdown",
   "id": "7617a877-e925-43c3-8d96-2e0e7452d6ba",
   "metadata": {},
   "source": [
    "# Python Comments"
   ]
  },
  {
   "cell_type": "markdown",
   "id": "190fe431-7933-4bf3-b0d1-5f3ffeb9c447",
   "metadata": {},
   "source": [
    "**Complier** translates your source code into machine langauge.\n",
    "\n",
    "Compiler does this translation all at once, when you finish coding.(as a whole)\n",
    "\n",
    "**Interpreter** tranlates your source code into manchine language.\n",
    "\n",
    "Interpeter does this translation while you are coding.(line by line)\n",
    "\n",
    "In python, we have Python Interpreter."
   ]
  },
  {
   "cell_type": "markdown",
   "id": "f7a022b3-45f5-4164-8fcb-b1baa1e5004b",
   "metadata": {},
   "source": [
    "**Comments** are lines, which are `igonred` by Python Interpreter.\n",
    "\n",
    "Interpreter does not run Comments."
   ]
  },
  {
   "cell_type": "code",
   "execution_count": 42,
   "id": "50cfe03f-b429-4042-af20-773e0df4ce7e",
   "metadata": {},
   "outputs": [],
   "source": [
    "# One line comment\n",
    "\n",
    "# This is one line comment"
   ]
  },
  {
   "cell_type": "code",
   "execution_count": 43,
   "id": "3d76711c-c80c-4a65-bc99-218a35ea076f",
   "metadata": {},
   "outputs": [
    {
     "name": "stdout",
     "output_type": "stream",
     "text": [
      "90000\n"
     ]
    }
   ],
   "source": [
    "# keeps the miles traveled\n",
    "miles_traveled = 90000\n",
    "\n",
    "print(miles_traveled)"
   ]
  },
  {
   "cell_type": "code",
   "execution_count": 44,
   "id": "beb6848e-baa5-463a-8058-fc0c60db2454",
   "metadata": {},
   "outputs": [
    {
     "name": "stdout",
     "output_type": "stream",
     "text": [
      "75.0\n"
     ]
    }
   ],
   "source": [
    "\n",
    "# average speed = displacement / change in time\n",
    "\n",
    "# first get the displacement\n",
    "displacement = 450  # km\n",
    "\n",
    "# then get the change in time\n",
    "change_in_time = 6 # hr\n",
    "\n",
    "#calculate the average speed\n",
    "average_speed = displacement / change_in_time\n",
    "\n",
    "#print the result\n",
    "print(average_speed)"
   ]
  },
  {
   "cell_type": "code",
   "execution_count": 45,
   "id": "33f2686a-6a0e-45a8-b217-f5aa7df53bc0",
   "metadata": {},
   "outputs": [],
   "source": [
    "# ONE LINE COMMENT"
   ]
  },
  {
   "cell_type": "code",
   "execution_count": 46,
   "id": "262f7a21-a8fb-4578-aead-750a1f3afb53",
   "metadata": {},
   "outputs": [
    {
     "data": {
      "text/plain": [
       "'\\nMulti-Line Commet\\n\\nIn Python, Multi-Line Comments, \\nare created via two (triple) double quotes\\n\\nAs in this case\\n\\n'"
      ]
     },
     "execution_count": 46,
     "metadata": {},
     "output_type": "execute_result"
    }
   ],
   "source": [
    "\"\"\"\n",
    "Multi-Line Commet\n",
    "\n",
    "In Python, Multi-Line Comments, \n",
    "are created via two (triple) double quotes\n",
    "\"\"\"    \"\"\"\n",
    "As in this case\n",
    "\n",
    "\"\"\""
   ]
  },
  {
   "cell_type": "code",
   "execution_count": 47,
   "id": "193e6631-47f2-4aea-98bc-c339267a5339",
   "metadata": {},
   "outputs": [
    {
     "name": "stdout",
     "output_type": "stream",
     "text": [
      "Line 1 \n",
      "Line 2 \n",
      "Line 3\n"
     ]
    }
   ],
   "source": [
    "multi_line_text = \"Line 1 \\nLine 2 \\nLine 3\"\n",
    "print(multi_line_text)"
   ]
  },
  {
   "cell_type": "markdown",
   "id": "f8063b61-ae66-44b4-95da-2d4048109f40",
   "metadata": {},
   "source": [
    "`\\n` new line character."
   ]
  },
  {
   "cell_type": "code",
   "execution_count": 48,
   "id": "0b2206f0-292d-430f-b5cf-47c1b7dd4190",
   "metadata": {},
   "outputs": [
    {
     "name": "stdout",
     "output_type": "stream",
     "text": [
      "Hello my dear \n",
      "Python\n"
     ]
    }
   ],
   "source": [
    "print(\"Hello my dear \\nPython\")"
   ]
  },
  {
   "cell_type": "code",
   "execution_count": 49,
   "id": "ef25cce9-9230-4ccf-a126-b4d9179db2f3",
   "metadata": {},
   "outputs": [
    {
     "data": {
      "text/plain": [
       "'\\n\\nThis is line 1\\n    This is line 2\\n        This is line 3\\n\\n'"
      ]
     },
     "execution_count": 49,
     "metadata": {},
     "output_type": "execute_result"
    }
   ],
   "source": [
    "\"\"\"\n",
    "\n",
    "This is line 1\n",
    "    This is line 2\n",
    "        This is line 3\n",
    "\n",
    "\"\"\""
   ]
  },
  {
   "cell_type": "code",
   "execution_count": 50,
   "id": "5e3b12e4-f81f-4df8-bfb4-4fe4f4336de0",
   "metadata": {},
   "outputs": [
    {
     "name": "stdout",
     "output_type": "stream",
     "text": [
      "\n",
      "\n",
      "This is line 1\n",
      "    This is line 2\n",
      "        This is line 3\n",
      "\n",
      "\n"
     ]
    }
   ],
   "source": [
    "print(\"\"\"\n",
    "\n",
    "This is line 1\n",
    "    This is line 2\n",
    "        This is line 3\n",
    "\n",
    "\"\"\")"
   ]
  },
  {
   "cell_type": "code",
   "execution_count": null,
   "id": "35a75dfa-2ba4-41f0-a7b5-be7d3b7915ef",
   "metadata": {},
   "outputs": [],
   "source": []
  }
 ],
 "metadata": {
  "kernelspec": {
   "display_name": "Python 3 (ipykernel)",
   "language": "python",
   "name": "python3"
  },
  "language_info": {
   "codemirror_mode": {
    "name": "ipython",
    "version": 3
   },
   "file_extension": ".py",
   "mimetype": "text/x-python",
   "name": "python",
   "nbconvert_exporter": "python",
   "pygments_lexer": "ipython3",
   "version": "3.8.12"
  }
 },
 "nbformat": 4,
 "nbformat_minor": 5
}
