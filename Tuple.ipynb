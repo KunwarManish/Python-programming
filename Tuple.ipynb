{
 "cells": [
  {
   "cell_type": "markdown",
   "id": "3e237187-a491-437d-9e69-9aaefd5db9ba",
   "metadata": {},
   "source": [
    "# Tuple Creation"
   ]
  },
  {
   "cell_type": "markdown",
   "id": "29eb44a8-1bd8-4f51-ae6e-17027b9b8e33",
   "metadata": {},
   "source": [
    "Tuple is a Sequence Type like String and List.\n",
    "\n",
    "They can take any type as elements.\n",
    "\n",
    "Tuple's are indexed by integers (implicitly).\n",
    "\n",
    "They look like List.\n",
    "\n",
    "Main Difference:\n",
    "    \n",
    "    * List -> Mutable\n",
    "    * Tuple -> Immutable\n",
    "    \n",
    "**Tuple** is a sequence seperated by comma.\n",
    "\n",
    "**Creating a Tuple by assigning elements seperated with comma**"
   ]
  },
  {
   "cell_type": "code",
   "execution_count": 1,
   "id": "0175639d-bd9e-4124-84b8-f04b1e1c0d78",
   "metadata": {},
   "outputs": [
    {
     "data": {
      "text/plain": [
       "('x', 'y', 'z', 'q', 'p')"
      ]
     },
     "execution_count": 1,
     "metadata": {},
     "output_type": "execute_result"
    }
   ],
   "source": [
    "t = 'x', 'y', 'z', 'q', 'p'\n",
    "t"
   ]
  },
  {
   "cell_type": "code",
   "execution_count": 2,
   "id": "22a98f98-d4f3-452f-a966-2a85643882ff",
   "metadata": {},
   "outputs": [
    {
     "data": {
      "text/plain": [
       "tuple"
      ]
     },
     "execution_count": 2,
     "metadata": {},
     "output_type": "execute_result"
    }
   ],
   "source": [
    "type(t)"
   ]
  },
  {
   "cell_type": "code",
   "execution_count": 3,
   "id": "7b5b4912-c809-47fa-af82-1a12c6fffe15",
   "metadata": {},
   "outputs": [
    {
     "data": {
      "text/plain": [
       "(1, 2, 4, 6, 8, 20)"
      ]
     },
     "execution_count": 3,
     "metadata": {},
     "output_type": "execute_result"
    }
   ],
   "source": [
    "t2 = (1, 2, 4, 6, 8, 20)\n",
    "t2"
   ]
  },
  {
   "cell_type": "code",
   "execution_count": 4,
   "id": "dc25987b-ce29-4186-bb72-b9ae92222e13",
   "metadata": {},
   "outputs": [
    {
     "data": {
      "text/plain": [
       "(1, 2, 4, 6, 8, 20)"
      ]
     },
     "execution_count": 4,
     "metadata": {},
     "output_type": "execute_result"
    }
   ],
   "source": [
    "tuple(t2)"
   ]
  },
  {
   "cell_type": "code",
   "execution_count": 5,
   "id": "fc543cb8-a785-4951-88e3-b18c79e458b7",
   "metadata": {},
   "outputs": [
    {
     "data": {
      "text/plain": [
       "True"
      ]
     },
     "execution_count": 5,
     "metadata": {},
     "output_type": "execute_result"
    }
   ],
   "source": [
    "isinstance(t2, tuple)"
   ]
  },
  {
   "cell_type": "code",
   "execution_count": 7,
   "id": "8a9b4388-a610-40cd-bfd7-68b4411562ea",
   "metadata": {},
   "outputs": [
    {
     "data": {
      "text/plain": [
       "False"
      ]
     },
     "execution_count": 7,
     "metadata": {},
     "output_type": "execute_result"
    }
   ],
   "source": [
    "isinstance(t2, list)"
   ]
  },
  {
   "cell_type": "markdown",
   "id": "00c60c76-994c-42f9-9232-b79905d08118",
   "metadata": {},
   "source": [
    "**Question:**\n",
    "\n",
    "How to create a tuple with only one element?"
   ]
  },
  {
   "cell_type": "code",
   "execution_count": 8,
   "id": "4150a011-2d73-4f59-b57c-2b0bd025d0c3",
   "metadata": {},
   "outputs": [],
   "source": [
    "one_tuple = 'x'"
   ]
  },
  {
   "cell_type": "code",
   "execution_count": 9,
   "id": "093e6b47-be0f-4baa-8ae3-a364489d71dd",
   "metadata": {},
   "outputs": [
    {
     "data": {
      "text/plain": [
       "str"
      ]
     },
     "execution_count": 9,
     "metadata": {},
     "output_type": "execute_result"
    }
   ],
   "source": [
    "type(one_tuple)"
   ]
  },
  {
   "cell_type": "code",
   "execution_count": 10,
   "id": "498c02a3-ea7b-43a0-92ca-7e40e35059a0",
   "metadata": {},
   "outputs": [
    {
     "data": {
      "text/plain": [
       "'x'"
      ]
     },
     "execution_count": 10,
     "metadata": {},
     "output_type": "execute_result"
    }
   ],
   "source": [
    "one_tuple = ('x')\n",
    "one_tuple"
   ]
  },
  {
   "cell_type": "code",
   "execution_count": 11,
   "id": "3b5565b5-f842-47c6-bc79-863411a4a369",
   "metadata": {},
   "outputs": [
    {
     "data": {
      "text/plain": [
       "str"
      ]
     },
     "execution_count": 11,
     "metadata": {},
     "output_type": "execute_result"
    }
   ],
   "source": [
    "type(one_tuple)"
   ]
  },
  {
   "cell_type": "markdown",
   "id": "f5fe895c-f95a-40fd-bbb9-06e1aa498582",
   "metadata": {},
   "source": [
    "**Answer:**\n",
    "\n",
    "You add a comma after the element."
   ]
  },
  {
   "cell_type": "code",
   "execution_count": 12,
   "id": "e770b7d3-3ec8-4112-9d8d-54217be86601",
   "metadata": {},
   "outputs": [
    {
     "data": {
      "text/plain": [
       "('x',)"
      ]
     },
     "execution_count": 12,
     "metadata": {},
     "output_type": "execute_result"
    }
   ],
   "source": [
    "one_tuple = ('x',)\n",
    "one_tuple"
   ]
  },
  {
   "cell_type": "code",
   "execution_count": 13,
   "id": "3d85402f-8d87-4198-830c-18149bde1a45",
   "metadata": {},
   "outputs": [
    {
     "data": {
      "text/plain": [
       "tuple"
      ]
     },
     "execution_count": 13,
     "metadata": {},
     "output_type": "execute_result"
    }
   ],
   "source": [
    "type(one_tuple)"
   ]
  },
  {
   "cell_type": "code",
   "execution_count": 16,
   "id": "5ca647d5-7357-4fad-b0b9-f0f1148944db",
   "metadata": {},
   "outputs": [
    {
     "data": {
      "text/plain": [
       "('y',)"
      ]
     },
     "execution_count": 16,
     "metadata": {},
     "output_type": "execute_result"
    }
   ],
   "source": [
    "one_tuple_2 = 'y',\n",
    "one_tuple_2"
   ]
  },
  {
   "cell_type": "code",
   "execution_count": 17,
   "id": "509d7fda-4513-4cf9-88e2-659e76a24508",
   "metadata": {},
   "outputs": [
    {
     "data": {
      "text/plain": [
       "tuple"
      ]
     },
     "execution_count": 17,
     "metadata": {},
     "output_type": "execute_result"
    }
   ],
   "source": [
    "type(one_tuple_2)"
   ]
  },
  {
   "cell_type": "markdown",
   "id": "3e33e703-1a83-4848-97e4-8d59bbb6465e",
   "metadata": {},
   "source": [
    "**Create Tuple with ->  `tuple()`**"
   ]
  },
  {
   "cell_type": "code",
   "execution_count": 18,
   "id": "9f1fcb7c-1c04-4363-b3de-8f7afcf2f04c",
   "metadata": {},
   "outputs": [
    {
     "data": {
      "text/plain": [
       "()"
      ]
     },
     "execution_count": 18,
     "metadata": {},
     "output_type": "execute_result"
    }
   ],
   "source": [
    "t = tuple()\n",
    "t"
   ]
  },
  {
   "cell_type": "code",
   "execution_count": 19,
   "id": "cd22c5ed-3711-4d23-a050-9673c8229267",
   "metadata": {},
   "outputs": [
    {
     "data": {
      "text/plain": [
       "True"
      ]
     },
     "execution_count": 19,
     "metadata": {},
     "output_type": "execute_result"
    }
   ],
   "source": [
    "isinstance(t, tuple)"
   ]
  },
  {
   "cell_type": "code",
   "execution_count": 20,
   "id": "e07301f5-2103-4e0f-a839-7ff6120454b7",
   "metadata": {},
   "outputs": [
    {
     "data": {
      "text/plain": [
       "('x',)"
      ]
     },
     "execution_count": 20,
     "metadata": {},
     "output_type": "execute_result"
    }
   ],
   "source": [
    "# let's create a tuple with single element\n",
    "\n",
    "single = tuple('x')\n",
    "single"
   ]
  },
  {
   "cell_type": "code",
   "execution_count": 21,
   "id": "67d4fb55-f465-4022-9905-e79ca4bbd12f",
   "metadata": {},
   "outputs": [
    {
     "data": {
      "text/plain": [
       "tuple"
      ]
     },
     "execution_count": 21,
     "metadata": {},
     "output_type": "execute_result"
    }
   ],
   "source": [
    "type(single)"
   ]
  },
  {
   "cell_type": "markdown",
   "id": "67505fba-cb85-4cc1-af8e-bf3a6070ecd5",
   "metadata": {},
   "source": [
    "**tuple()** -> enter a string, it will convert into a Tuple"
   ]
  },
  {
   "cell_type": "code",
   "execution_count": 22,
   "id": "74f9dac2-a748-4550-b1a3-9e7decb4aeeb",
   "metadata": {},
   "outputs": [
    {
     "data": {
      "text/plain": [
       "('P', 'y', 't', 'h', 'o', 'n')"
      ]
     },
     "execution_count": 22,
     "metadata": {},
     "output_type": "execute_result"
    }
   ],
   "source": [
    "lang = tuple('Python')\n",
    "lang"
   ]
  },
  {
   "cell_type": "code",
   "execution_count": 24,
   "id": "d31edf07-f23a-48b9-841b-7feb939f5d77",
   "metadata": {},
   "outputs": [
    {
     "data": {
      "text/plain": [
       "'P'"
      ]
     },
     "execution_count": 24,
     "metadata": {},
     "output_type": "execute_result"
    }
   ],
   "source": [
    "lang[0]"
   ]
  },
  {
   "cell_type": "code",
   "execution_count": 25,
   "id": "194ad3da-53ea-49de-8f5a-4ff44c64325a",
   "metadata": {},
   "outputs": [
    {
     "data": {
      "text/plain": [
       "'t'"
      ]
     },
     "execution_count": 25,
     "metadata": {},
     "output_type": "execute_result"
    }
   ],
   "source": [
    "lang[2]"
   ]
  },
  {
   "cell_type": "markdown",
   "id": "9e689eda-b75e-4ea2-ab7d-53df9332e5ab",
   "metadata": {},
   "source": [
    "**tuple()** -> enter a list, it will convert into a Tuple"
   ]
  },
  {
   "cell_type": "code",
   "execution_count": 26,
   "id": "eec3b0f1-6531-4377-83f0-5609e42a7a7d",
   "metadata": {},
   "outputs": [
    {
     "data": {
      "text/plain": [
       "('A', 'B', 'C', 'D')"
      ]
     },
     "execution_count": 26,
     "metadata": {},
     "output_type": "execute_result"
    }
   ],
   "source": [
    "my_list = ['A', 'B', 'C', 'D']\n",
    "\n",
    "list_tuple = tuple(my_list)\n",
    "\n",
    "list_tuple"
   ]
  },
  {
   "cell_type": "code",
   "execution_count": 27,
   "id": "d2de3c5d-0917-451f-8236-ff4da9eaf085",
   "metadata": {},
   "outputs": [
    {
     "data": {
      "text/plain": [
       "tuple"
      ]
     },
     "execution_count": 27,
     "metadata": {},
     "output_type": "execute_result"
    }
   ],
   "source": [
    "type(list_tuple)"
   ]
  },
  {
   "cell_type": "code",
   "execution_count": 28,
   "id": "df67892b-174c-4793-aa14-56880ed431c3",
   "metadata": {},
   "outputs": [
    {
     "data": {
      "text/plain": [
       "'D'"
      ]
     },
     "execution_count": 28,
     "metadata": {},
     "output_type": "execute_result"
    }
   ],
   "source": [
    "list_tuple[3]"
   ]
  },
  {
   "cell_type": "markdown",
   "id": "98521145-5829-4b2a-886a-93518e8fb96c",
   "metadata": {},
   "source": [
    "If there is indexing in a type -> slicing"
   ]
  },
  {
   "cell_type": "code",
   "execution_count": 1,
   "id": "fcfef0cb-b774-46f7-aeb1-4d1c1b203b7f",
   "metadata": {},
   "outputs": [],
   "source": [
    "text = 'Moon is the orbit of Earth.'"
   ]
  },
  {
   "cell_type": "code",
   "execution_count": 2,
   "id": "ac6d77fa-89fa-4738-bc35-ed01027377f3",
   "metadata": {},
   "outputs": [
    {
     "name": "stdout",
     "output_type": "stream",
     "text": [
      "('M', 'o', 'o', 'n', ' ', 'i', 's', ' ', 't', 'h', 'e', ' ', 'o', 'r', 'b', 'i', 't', ' ', 'o', 'f', ' ', 'E', 'a', 'r', 't', 'h', '.')\n"
     ]
    }
   ],
   "source": [
    "tup = tuple(text)\n",
    "\n",
    "print(tup)"
   ]
  },
  {
   "cell_type": "markdown",
   "id": "509e01b3-40ff-4449-9321-de2081f93e49",
   "metadata": {},
   "source": [
    "`slicing[start, end, step]`"
   ]
  },
  {
   "cell_type": "code",
   "execution_count": 3,
   "id": "b41e7c2d-b2b5-4030-b5ac-ac31bb855324",
   "metadata": {},
   "outputs": [
    {
     "data": {
      "text/plain": [
       "('M', 'o', 'o', 'n')"
      ]
     },
     "execution_count": 3,
     "metadata": {},
     "output_type": "execute_result"
    }
   ],
   "source": [
    "# slicing \n",
    "# the word -> Moon\n",
    "\n",
    "tup[0:4]"
   ]
  },
  {
   "cell_type": "code",
   "execution_count": 4,
   "id": "af774410-2c26-4880-b03f-36809304edfd",
   "metadata": {},
   "outputs": [
    {
     "data": {
      "text/plain": [
       "('E', 'a', 'r', 't', 'h')"
      ]
     },
     "execution_count": 4,
     "metadata": {},
     "output_type": "execute_result"
    }
   ],
   "source": [
    "# negative index -> start -1, right to left\n",
    "# Earth.\n",
    "# [-6 -5 -4 -3 -2] -1\n",
    "\n",
    "tup[-6:-1]"
   ]
  },
  {
   "cell_type": "code",
   "execution_count": 5,
   "id": "9d0ce799-2b56-4e1b-8736-6b77b01ed6a2",
   "metadata": {},
   "outputs": [
    {
     "name": "stdout",
     "output_type": "stream",
     "text": [
      "('M', 'o', 'o', 'n', ' ', 'i', 's', ' ', 't', 'h', 'e', ' ', 'o', 'r', 'b', 'i', 't', ' ', 'o', 'f', ' ', 'E', 'a', 'r', 't', 'h', '.')\n"
     ]
    }
   ],
   "source": [
    "# copy the whole tuple\n",
    "\n",
    "new_tup = tup[::]\n",
    "\n",
    "print(new_tup)"
   ]
  },
  {
   "cell_type": "code",
   "execution_count": 6,
   "id": "23481b4e-de13-4edf-a60b-2a406287d733",
   "metadata": {},
   "outputs": [
    {
     "name": "stdout",
     "output_type": "stream",
     "text": [
      "('.', 'h', 't', 'r', 'a', 'E', ' ', 'f', 'o', ' ', 't', 'i', 'b', 'r', 'o', ' ', 'e', 'h', 't', ' ', 's', 'i', ' ', 'n', 'o', 'o', 'M')\n"
     ]
    }
   ],
   "source": [
    "# take the inverse of tup\n",
    "\n",
    "inv_tup = tup[::-1]\n",
    "\n",
    "print(inv_tup)"
   ]
  },
  {
   "cell_type": "markdown",
   "id": "f1fee36b-d9fb-4b9c-9d51-9ad035d2bac1",
   "metadata": {},
   "source": [
    "**Tuples are Immutable**"
   ]
  },
  {
   "cell_type": "code",
   "execution_count": 7,
   "id": "5f7e2b33-908e-403a-a89f-ac4449b9f0f5",
   "metadata": {},
   "outputs": [
    {
     "data": {
      "text/plain": [
       "(0, 1, 2, 34, 5)"
      ]
     },
     "execution_count": 7,
     "metadata": {},
     "output_type": "execute_result"
    }
   ],
   "source": [
    "t = tuple([0,1,2,34,5])\n",
    "\n",
    "t"
   ]
  },
  {
   "cell_type": "code",
   "execution_count": 9,
   "id": "b2f69214-30ca-4e82-941b-c180fe76092f",
   "metadata": {},
   "outputs": [
    {
     "data": {
      "text/plain": [
       "34"
      ]
     },
     "execution_count": 9,
     "metadata": {},
     "output_type": "execute_result"
    }
   ],
   "source": [
    "t[3]"
   ]
  },
  {
   "cell_type": "code",
   "execution_count": 10,
   "id": "5d657b9d-42ab-4678-aa02-c9525c268f22",
   "metadata": {},
   "outputs": [
    {
     "ename": "TypeError",
     "evalue": "'tuple' object does not support item assignment",
     "output_type": "error",
     "traceback": [
      "\u001b[1;31m---------------------------------------------------------------------------\u001b[0m",
      "\u001b[1;31mTypeError\u001b[0m                                 Traceback (most recent call last)",
      "\u001b[1;32m~\\AppData\\Local\\Temp/ipykernel_9624/271707014.py\u001b[0m in \u001b[0;36m<module>\u001b[1;34m\u001b[0m\n\u001b[1;32m----> 1\u001b[1;33m \u001b[0mt\u001b[0m\u001b[1;33m[\u001b[0m\u001b[1;36m3\u001b[0m\u001b[1;33m]\u001b[0m \u001b[1;33m=\u001b[0m \u001b[1;36m3\u001b[0m\u001b[1;33m\u001b[0m\u001b[1;33m\u001b[0m\u001b[0m\n\u001b[0m",
      "\u001b[1;31mTypeError\u001b[0m: 'tuple' object does not support item assignment"
     ]
    }
   ],
   "source": [
    "t[3] = 3"
   ]
  },
  {
   "cell_type": "markdown",
   "id": "cb061516-af38-4859-8330-4dbd0b322599",
   "metadata": {},
   "source": [
    "TypeError: 'tuple' object does not support item assignment -> you can not **mutate** it"
   ]
  },
  {
   "cell_type": "code",
   "execution_count": 11,
   "id": "a3e5a646-0484-4a40-80ba-83d3a9ee85b7",
   "metadata": {},
   "outputs": [
    {
     "data": {
      "text/plain": [
       "(0, 1, 2, 3, 4, 5)"
      ]
     },
     "execution_count": 11,
     "metadata": {},
     "output_type": "execute_result"
    }
   ],
   "source": [
    "# we will reassing it\n",
    "\n",
    "t = tuple([0,1,2,3,4,5])\n",
    "\n",
    "t"
   ]
  },
  {
   "cell_type": "markdown",
   "id": "684ae73d-18a0-4d44-8624-2ec8c26d0e6b",
   "metadata": {},
   "source": [
    "**Tuple Comparison**"
   ]
  },
  {
   "cell_type": "markdown",
   "id": "a1c6af5d-73d1-4e15-8a61-72f10636c2e1",
   "metadata": {},
   "source": [
    "Comparing Tuples -> the same as comparing Strings -> Alphabetical Order"
   ]
  },
  {
   "cell_type": "code",
   "execution_count": 12,
   "id": "da3ef157-a160-441d-9038-ba303e40e514",
   "metadata": {},
   "outputs": [
    {
     "data": {
      "text/plain": [
       "True"
      ]
     },
     "execution_count": 12,
     "metadata": {},
     "output_type": "execute_result"
    }
   ],
   "source": [
    "'abxc' < 'ated'"
   ]
  },
  {
   "cell_type": "code",
   "execution_count": 13,
   "id": "bc748efd-93dd-49b6-8be9-b504afe6d1f5",
   "metadata": {},
   "outputs": [
    {
     "data": {
      "text/plain": [
       "False"
      ]
     },
     "execution_count": 13,
     "metadata": {},
     "output_type": "execute_result"
    }
   ],
   "source": [
    "'abc' < 'aac'"
   ]
  },
  {
   "cell_type": "code",
   "execution_count": 14,
   "id": "925bdeac-01e3-4d37-9b66-e0d78c779e69",
   "metadata": {},
   "outputs": [
    {
     "data": {
      "text/plain": [
       "True"
      ]
     },
     "execution_count": 14,
     "metadata": {},
     "output_type": "execute_result"
    }
   ],
   "source": [
    "(1,2,3) < (5,4,3)"
   ]
  },
  {
   "cell_type": "code",
   "execution_count": 15,
   "id": "8c10ad0a-418a-4dff-8197-7263e629f01e",
   "metadata": {},
   "outputs": [
    {
     "data": {
      "text/plain": [
       "True"
      ]
     },
     "execution_count": 15,
     "metadata": {},
     "output_type": "execute_result"
    }
   ],
   "source": [
    "(5, 40 ,200) < (6, 1, 3)"
   ]
  },
  {
   "cell_type": "code",
   "execution_count": 16,
   "id": "661760b6-2985-4861-bbc0-5d713fa490a5",
   "metadata": {},
   "outputs": [
    {
     "data": {
      "text/plain": [
       "False"
      ]
     },
     "execution_count": 16,
     "metadata": {},
     "output_type": "execute_result"
    }
   ],
   "source": [
    "'1243' < '1234'"
   ]
  },
  {
   "cell_type": "code",
   "execution_count": 17,
   "id": "123a7fb2-b59c-4f20-90bb-1a59d4f3f687",
   "metadata": {},
   "outputs": [
    {
     "data": {
      "text/plain": [
       "False"
      ]
     },
     "execution_count": 17,
     "metadata": {},
     "output_type": "execute_result"
    }
   ],
   "source": [
    "tuple('1243') < tuple('1234')"
   ]
  },
  {
   "cell_type": "markdown",
   "id": "f94fdfb2-3105-4a52-b443-d47ba25de07e",
   "metadata": {},
   "source": [
    "# Tuple Assignment"
   ]
  },
  {
   "cell_type": "code",
   "execution_count": 1,
   "id": "f3534be4-5143-40a4-88ae-80a042756a62",
   "metadata": {},
   "outputs": [],
   "source": [
    "a = 99\n",
    "b = 1"
   ]
  },
  {
   "cell_type": "code",
   "execution_count": 3,
   "id": "26105505-987d-4387-82b9-5af9f0d8388b",
   "metadata": {},
   "outputs": [
    {
     "name": "stdout",
     "output_type": "stream",
     "text": [
      "a: 1\n",
      "b: 1\n",
      "after assignment\n",
      "a: 1\n",
      "b: 1\n"
     ]
    }
   ],
   "source": [
    "# assing the value of a to b\n",
    "# and the value of b to a\n",
    "# a = 1\n",
    "# b = 99\n",
    "\n",
    "# Way 1 -> temporary variable\n",
    "\n",
    "print('a:', a)\n",
    "print('b:', b)\n",
    "\n",
    "temp = a\n",
    "\n",
    "a = b\n",
    "\n",
    "print(\"after assignment\")\n",
    "\n",
    "print('a:', b)\n",
    "print('b:', b)"
   ]
  },
  {
   "cell_type": "markdown",
   "id": "ae4bbf07-d078-4dad-b281-5f489acd45da",
   "metadata": {},
   "source": [
    "We can change the value of variables -> `Tuple Assignment`"
   ]
  },
  {
   "cell_type": "code",
   "execution_count": 5,
   "id": "7d5f81ba-c6fc-44fb-93eb-13cbf2503354",
   "metadata": {},
   "outputs": [
    {
     "name": "stdout",
     "output_type": "stream",
     "text": [
      "a: 99\n",
      "b: 1\n",
      "after tuple assignment\n",
      "a: 1\n",
      "b: 99\n"
     ]
    }
   ],
   "source": [
    "# Tuple Assignment\n",
    "\n",
    "a = 99 \n",
    "b = 1\n",
    "\n",
    "print('a:', a)\n",
    "print('b:', b)\n",
    "\n",
    "a, b = b, a\n",
    "\n",
    "print(\"after tuple assignment\")\n",
    "\n",
    "print('a:', a)\n",
    "print('b:', b)"
   ]
  },
  {
   "cell_type": "markdown",
   "id": "abebe752-6e03-4734-a8e8-fa62e9b3ac84",
   "metadata": {},
   "source": [
    "**Example:**\n",
    "\n",
    "a = 500 \n",
    "b = 800\n",
    "\n",
    "via Tuple Assignment."
   ]
  },
  {
   "cell_type": "code",
   "execution_count": 7,
   "id": "dc0678d4-df6e-4ecc-9652-f744d4ffee64",
   "metadata": {},
   "outputs": [
    {
     "name": "stdout",
     "output_type": "stream",
     "text": [
      "a: 500\n",
      "b: 800\n"
     ]
    }
   ],
   "source": [
    "a, b = 500, 800\n",
    "\n",
    "print('a:', a)\n",
    "print('b:', b)"
   ]
  },
  {
   "cell_type": "code",
   "execution_count": 8,
   "id": "e59eaf97-f2c8-4002-8445-f9e6a3a59528",
   "metadata": {},
   "outputs": [
    {
     "ename": "ValueError",
     "evalue": "too many values to unpack (expected 2)",
     "output_type": "error",
     "traceback": [
      "\u001b[1;31m---------------------------------------------------------------------------\u001b[0m",
      "\u001b[1;31mValueError\u001b[0m                                Traceback (most recent call last)",
      "\u001b[1;32m~\\AppData\\Local\\Temp/ipykernel_16564/98354065.py\u001b[0m in \u001b[0;36m<module>\u001b[1;34m\u001b[0m\n\u001b[1;32m----> 1\u001b[1;33m \u001b[0ma\u001b[0m\u001b[1;33m,\u001b[0m \u001b[0mb\u001b[0m \u001b[1;33m=\u001b[0m \u001b[1;36m500\u001b[0m\u001b[1;33m,\u001b[0m \u001b[1;36m800\u001b[0m\u001b[1;33m,\u001b[0m \u001b[1;36m600\u001b[0m\u001b[1;33m\u001b[0m\u001b[1;33m\u001b[0m\u001b[0m\n\u001b[0m",
      "\u001b[1;31mValueError\u001b[0m: too many values to unpack (expected 2)"
     ]
    }
   ],
   "source": [
    "a, b = 500, 800, 600"
   ]
  },
  {
   "cell_type": "markdown",
   "id": "f5aca8ee-05a6-4c78-99ba-ea6442470cb8",
   "metadata": {},
   "source": [
    "**Important:**\n",
    "\n",
    "In Tuple Assignment, number of variables must be the same for both sides."
   ]
  },
  {
   "cell_type": "markdown",
   "id": "3a08a303-4aaa-4a1e-8c7a-8ec408c71609",
   "metadata": {},
   "source": [
    "**Example:**\n",
    "\n",
    "Split the user name and domain name from an email via Tuple Assingment."
   ]
  },
  {
   "cell_type": "code",
   "execution_count": 9,
   "id": "e6f4e8e9-aed9-4958-a9e1-cdbd27306018",
   "metadata": {},
   "outputs": [
    {
     "data": {
      "text/plain": [
       "['johndoe', 'example.com']"
      ]
     },
     "execution_count": 9,
     "metadata": {},
     "output_type": "execute_result"
    }
   ],
   "source": [
    "'johndoe@example.com'.split('@')"
   ]
  },
  {
   "cell_type": "code",
   "execution_count": 11,
   "id": "71956167-3388-481f-8cef-90ecfc362f22",
   "metadata": {},
   "outputs": [],
   "source": [
    "\n",
    "user_name, domain = 'johndoe@example.com'.split('@')\n"
   ]
  },
  {
   "cell_type": "code",
   "execution_count": 12,
   "id": "090044c6-b049-4613-b02c-7b2e8f77bcbd",
   "metadata": {},
   "outputs": [
    {
     "name": "stdout",
     "output_type": "stream",
     "text": [
      "johndoe\n"
     ]
    }
   ],
   "source": [
    "print(user_name)"
   ]
  },
  {
   "cell_type": "code",
   "execution_count": 13,
   "id": "c64948d7-49b7-461a-99b0-f550056d913c",
   "metadata": {},
   "outputs": [
    {
     "data": {
      "text/plain": [
       "'example.com'"
      ]
     },
     "execution_count": 13,
     "metadata": {},
     "output_type": "execute_result"
    }
   ],
   "source": [
    "domain"
   ]
  },
  {
   "cell_type": "markdown",
   "id": "0b9c0e4a-9bf3-469a-9562-fb0a1a5f5dae",
   "metadata": {},
   "source": [
    "**Example:**\n",
    "\n",
    "Assign each element of a list into a seperate variable via Tuple Assignment."
   ]
  },
  {
   "cell_type": "code",
   "execution_count": 15,
   "id": "bfd82940-94f3-469c-9ce2-0eb103a621e5",
   "metadata": {},
   "outputs": [
    {
     "data": {
      "text/plain": [
       "['A', 'B', 'C', 'D']"
      ]
     },
     "execution_count": 15,
     "metadata": {},
     "output_type": "execute_result"
    }
   ],
   "source": [
    "my_list = ['A', 'B', 'C', 'D']\n",
    "\n",
    "my_list"
   ]
  },
  {
   "cell_type": "code",
   "execution_count": 16,
   "id": "17e1ba47-08cc-4cfc-8c54-864ea8596ba9",
   "metadata": {},
   "outputs": [],
   "source": [
    "# unpack list elements into seperate variable\n",
    "\n",
    "a, b, c, d = my_list"
   ]
  },
  {
   "cell_type": "code",
   "execution_count": 17,
   "id": "9753e612-1ec4-4f36-b154-bccae3d1c539",
   "metadata": {},
   "outputs": [
    {
     "name": "stdout",
     "output_type": "stream",
     "text": [
      "a: A\n",
      "b: B\n",
      "c: C\n",
      "d: D\n"
     ]
    }
   ],
   "source": [
    "print('a:', a)\n",
    "print('b:', b)\n",
    "print('c:', c)\n",
    "print('d:', d)"
   ]
  },
  {
   "cell_type": "markdown",
   "id": "63fb8498-2f6f-4153-b8c5-daa178489a2d",
   "metadata": {},
   "source": [
    "**Tuples and Functions**\n",
    "\n",
    "You may notice that, functions can return only one value.\n",
    "\n",
    "**Question**: What we will do if we want the function to return multiple values.\n",
    "\n",
    "**Answer**: `Tuple`"
   ]
  },
  {
   "cell_type": "markdown",
   "id": "935c7d22-4783-4d1b-8998-960ebb2905c5",
   "metadata": {},
   "source": [
    "**As an example:**\n",
    "\n",
    "`divmod()` function takes two parameter: \n",
    "    \n",
    "* dividend\n",
    "* divisor\n",
    "    \n",
    "And returns a tuple of two results:\n",
    "\n",
    "* quotient\n",
    "* remainder\n",
    "    "
   ]
  },
  {
   "cell_type": "code",
   "execution_count": 18,
   "id": "5f09e7f0-43d2-4bbd-8f25-7e7985cc8c85",
   "metadata": {},
   "outputs": [
    {
     "data": {
      "text/plain": [
       "(5, 3)"
      ]
     },
     "execution_count": 18,
     "metadata": {},
     "output_type": "execute_result"
    }
   ],
   "source": [
    "# divide 23 by 4\n",
    "\n",
    "result = divmod(23, 4)\n",
    "\n",
    "result"
   ]
  },
  {
   "cell_type": "code",
   "execution_count": 20,
   "id": "a0d584b7-eff3-4252-9cd0-42c14e9ff2f1",
   "metadata": {},
   "outputs": [
    {
     "name": "stdout",
     "output_type": "stream",
     "text": [
      "quotient: 5\n",
      "remainder: 3\n"
     ]
    }
   ],
   "source": [
    "# create seperate variables -> quotient, remainder\n",
    "\n",
    "quotient = result[0]\n",
    "print('quotient:', quotient)\n",
    "\n",
    "remainder = result[1]\n",
    "print('remainder:', remainder)"
   ]
  },
  {
   "cell_type": "code",
   "execution_count": 21,
   "id": "369c5726-3a09-4850-b14f-8c1f6d884f0a",
   "metadata": {},
   "outputs": [
    {
     "name": "stdout",
     "output_type": "stream",
     "text": [
      "quotient: 5\n",
      "remainder: 3\n"
     ]
    }
   ],
   "source": [
    "# tuple assignment\n",
    "# unpacking \n",
    "\n",
    "quotient, remainder = divmod(23, 4)\n",
    "\n",
    "print('quotient:', quotient)\n",
    "print('remainder:', remainder)"
   ]
  },
  {
   "cell_type": "markdown",
   "id": "2043da58-b3e1-4ba2-97ae-6e5c7c1fcc4d",
   "metadata": {},
   "source": [
    "**Example:**\n",
    "\n",
    "Define a function with unknown parameters(*args).\n",
    "\n",
    "The fn will return the multiplication result of these parameters."
   ]
  },
  {
   "cell_type": "code",
   "execution_count": 22,
   "id": "0c48f767-6e52-43d4-a86a-a44b3c49582c",
   "metadata": {},
   "outputs": [],
   "source": [
    "\n",
    "def sum_and_multiply(*args):\n",
    "    \n",
    "    print(args)\n",
    "    print(type(args))\n",
    "    "
   ]
  },
  {
   "cell_type": "code",
   "execution_count": 23,
   "id": "10a14c1e-df4b-4cb3-9b0c-415340f293cb",
   "metadata": {},
   "outputs": [
    {
     "name": "stdout",
     "output_type": "stream",
     "text": [
      "(2, 5, 4, 3)\n",
      "<class 'tuple'>\n"
     ]
    }
   ],
   "source": [
    "sum_and_multiply(2, 5, 4, 3)"
   ]
  },
  {
   "cell_type": "code",
   "execution_count": 26,
   "id": "8d93de21-b3a0-4e8e-89ba-545b99fb95b3",
   "metadata": {},
   "outputs": [],
   "source": [
    "# let's define\n",
    "\n",
    "\n",
    "def sum_and_multiply(*args):\n",
    "    \n",
    "    # summation\n",
    "    summation = sum(args)\n",
    "    \n",
    "    # multiplication -> for loop\n",
    "    multiplication = 1\n",
    "    for arg in args:\n",
    "        multiplication *= arg\n",
    "        \n",
    "    # return both results\n",
    "    return (summation, multiplication)\n"
   ]
  },
  {
   "cell_type": "code",
   "execution_count": 27,
   "id": "7556c4d9-a89c-4295-bd69-7c1dcdd66700",
   "metadata": {},
   "outputs": [
    {
     "data": {
      "text/plain": [
       "(14, 120)"
      ]
     },
     "execution_count": 27,
     "metadata": {},
     "output_type": "execute_result"
    }
   ],
   "source": [
    "sum_and_multiply(2, 5, 4, 3)"
   ]
  },
  {
   "cell_type": "code",
   "execution_count": 28,
   "id": "855c9765-ed76-4d24-a900-f90b1ea0b083",
   "metadata": {},
   "outputs": [
    {
     "name": "stdout",
     "output_type": "stream",
     "text": [
      "summation: 14\n",
      "mult: 120\n"
     ]
    }
   ],
   "source": [
    "# get the result elements from the tuple\n",
    "# via Tuple Assignment\n",
    "\n",
    "summation, mult = sum_and_multiply(2, 5, 4, 3)\n",
    "\n",
    "print('summation:', summation)\n",
    "print('mult:', mult)"
   ]
  },
  {
   "cell_type": "markdown",
   "id": "b41cf22d-e8f2-4383-99cf-2d3a64a673d0",
   "metadata": {},
   "source": [
    "**Example:**\n",
    "\n",
    "Define a function taking a list as parameter.\n",
    "\n",
    "It will return:\n",
    "\n",
    "* min \n",
    "* max\n",
    "* mean(average)\n",
    "\n",
    "Use statistics for mean."
   ]
  },
  {
   "cell_type": "code",
   "execution_count": 1,
   "id": "19085502-66a4-4b09-8d4d-28081d8e8fab",
   "metadata": {},
   "outputs": [],
   "source": [
    "# import the modules\n",
    "import statistics\n",
    "\n",
    "def simple_stats(a_list):\n",
    "    \n",
    "    # minimum\n",
    "    minimum = min(a_list)\n",
    "    \n",
    "    # maximum\n",
    "    maximum = max(a_list)\n",
    "    \n",
    "    # mean\n",
    "    mean = statistics.mean(a_list)\n",
    "    \n",
    "    # return -> tuple(min, max, average)\n",
    "    return (minimum, maximum, mean)\n"
   ]
  },
  {
   "cell_type": "code",
   "execution_count": 2,
   "id": "7a050b71-0bb1-4f01-9409-aba38b6527d9",
   "metadata": {},
   "outputs": [
    {
     "name": "stdout",
     "output_type": "stream",
     "text": [
      "minimum: 1\n",
      "maximum: 5\n",
      "average: 3\n"
     ]
    }
   ],
   "source": [
    "my_list = [1, 2, 3, 4, 5]\n",
    "\n",
    "minimum, maximum, average = simple_stats(my_list)\n",
    "\n",
    "print('minimum:', minimum)\n",
    "print('maximum:', maximum)\n",
    "print('average:', average)"
   ]
  },
  {
   "cell_type": "markdown",
   "id": "693979ce-8f49-4201-b687-502fce7a19a9",
   "metadata": {},
   "source": [
    "# zip() Function"
   ]
  },
  {
   "cell_type": "markdown",
   "id": "d67994d1-3e75-4991-b879-94b163ec9efe",
   "metadata": {},
   "source": [
    "In Python most of the time we need to use Lists and Tuples together.\n",
    "\n",
    "We will learn `zip()` function to see how we manage this.\n",
    "\n",
    "`zip()` function takes two or more Sequence Type parameters.\n",
    "\n",
    "**Sequence Type:** A type, you can access its elements via indices (int and implicit).\n",
    "\n",
    "* List\n",
    "* Tuple \n",
    "* String\n",
    "* Range"
   ]
  },
  {
   "cell_type": "markdown",
   "id": "7bb53e5d-0e1f-47cf-bc65-0f0e91bc6a25",
   "metadata": {},
   "source": [
    "`zip()`\n",
    "\n",
    "* takes the corresponding elements (with the same indices) from the parameters\n",
    "* returns them as Zip Object (containing Tuples)"
   ]
  },
  {
   "cell_type": "code",
   "execution_count": 4,
   "id": "d7ceafe0-7a06-4df6-8f4b-decd70592e3a",
   "metadata": {},
   "outputs": [
    {
     "name": "stdout",
     "output_type": "stream",
     "text": [
      "<zip object at 0x000002BCC3CA3080>\n"
     ]
    }
   ],
   "source": [
    "text = 'xyzt'\n",
    "a_list = [1, 2, 3, 4]\n",
    "\n",
    "# zip the text and the list\n",
    "zip_obj = zip(text, a_list)\n",
    "\n",
    "print(zip_obj)"
   ]
  },
  {
   "cell_type": "markdown",
   "id": "dd8c8295-4f4f-4764-b9e7-f2a493d1aad6",
   "metadata": {},
   "source": [
    "`zip object` is an **iterator.**"
   ]
  },
  {
   "cell_type": "markdown",
   "id": "5de9b8c0-5260-4669-a5da-68cdb2a6f043",
   "metadata": {},
   "source": [
    "**Iterator**: is an object which you can loop over it."
   ]
  },
  {
   "cell_type": "code",
   "execution_count": 5,
   "id": "1bfc6981-49a5-474f-a706-15ddd43703e2",
   "metadata": {},
   "outputs": [
    {
     "name": "stdout",
     "output_type": "stream",
     "text": [
      "('x', 1)\n",
      "('y', 2)\n",
      "('z', 3)\n",
      "('t', 4)\n"
     ]
    }
   ],
   "source": [
    "# loop over zip_obj\n",
    "\n",
    "for z in zip_obj:\n",
    "    print(z)\n"
   ]
  },
  {
   "cell_type": "markdown",
   "id": "882b8445-1367-4a2f-b9ba-bfde08149785",
   "metadata": {},
   "source": [
    "As you see, each element in the zip object is a Tuple.\n",
    "\n",
    "* First element is from the String\n",
    "* Second element is from the List"
   ]
  },
  {
   "cell_type": "code",
   "execution_count": 6,
   "id": "df65b6f7-1347-45f1-94ec-66e1e651aa06",
   "metadata": {},
   "outputs": [
    {
     "ename": "TypeError",
     "evalue": "'zip' object is not subscriptable",
     "output_type": "error",
     "traceback": [
      "\u001b[1;31m---------------------------------------------------------------------------\u001b[0m",
      "\u001b[1;31mTypeError\u001b[0m                                 Traceback (most recent call last)",
      "\u001b[1;32m~\\AppData\\Local\\Temp/ipykernel_1112/628552487.py\u001b[0m in \u001b[0;36m<module>\u001b[1;34m\u001b[0m\n\u001b[1;32m----> 1\u001b[1;33m \u001b[0mzip_obj\u001b[0m\u001b[1;33m[\u001b[0m\u001b[1;36m0\u001b[0m\u001b[1;33m]\u001b[0m\u001b[1;33m\u001b[0m\u001b[1;33m\u001b[0m\u001b[0m\n\u001b[0m",
      "\u001b[1;31mTypeError\u001b[0m: 'zip' object is not subscriptable"
     ]
    }
   ],
   "source": [
    "zip_obj[0]"
   ]
  },
  {
   "cell_type": "markdown",
   "id": "643bb80e-e9a7-40e9-9ab4-73776e86301a",
   "metadata": {},
   "source": [
    "You can not directly access the elements of zip object (iterator)."
   ]
  },
  {
   "cell_type": "code",
   "execution_count": 7,
   "id": "ba10ed18-6bab-407e-9000-ba689dbc8e4f",
   "metadata": {},
   "outputs": [
    {
     "data": {
      "text/plain": [
       "[]"
      ]
     },
     "execution_count": 7,
     "metadata": {},
     "output_type": "execute_result"
    }
   ],
   "source": [
    "zip_list = list(zip_obj)\n",
    "zip_list"
   ]
  },
  {
   "cell_type": "markdown",
   "id": "51b4a107-904b-4e27-9132-1d55cbcaf015",
   "metadata": {},
   "source": [
    "You may ask:\n",
    "    \n",
    "How is this possible? We already loop over it and it returned a list of Tuples.\n",
    "\n",
    "Yes you are right.\n",
    "\n",
    "But you can loop over an iterator only once.\n",
    "\n",
    "Python will stop iterating when you reach to the end of iterator.\n",
    "\n",
    "That's necessary to prevent infinte looping.\n",
    "\n",
    "If you need to loop over the iterator more than once, you can assign it to a list."
   ]
  },
  {
   "cell_type": "code",
   "execution_count": 8,
   "id": "82002ac4-36d0-4286-8593-ac595da49aae",
   "metadata": {},
   "outputs": [
    {
     "name": "stdout",
     "output_type": "stream",
     "text": [
      "<zip object at 0x000002BCC3D6FE40>\n"
     ]
    }
   ],
   "source": [
    "d1 = ['A', 'B', 'C', 'D', 'E']\n",
    "d2 = [10, 20, 30, 40, 50]\n",
    "\n",
    "new_zip = zip(d1, d2)\n",
    "\n",
    "print(new_zip)"
   ]
  },
  {
   "cell_type": "code",
   "execution_count": 9,
   "id": "41ff75da-4f7c-4dda-bb54-5e75e8838ab2",
   "metadata": {},
   "outputs": [
    {
     "data": {
      "text/plain": [
       "[('A', 10), ('B', 20), ('C', 30), ('D', 40), ('E', 50)]"
      ]
     },
     "execution_count": 9,
     "metadata": {},
     "output_type": "execute_result"
    }
   ],
   "source": [
    "zip_list = list(new_zip)\n",
    "\n",
    "zip_list"
   ]
  },
  {
   "cell_type": "code",
   "execution_count": 10,
   "id": "ec2c6cca-9a10-4915-a178-4c6acef7d95b",
   "metadata": {},
   "outputs": [
    {
     "name": "stdout",
     "output_type": "stream",
     "text": [
      "('A', 10)\n",
      "('B', 20)\n",
      "('C', 30)\n",
      "('D', 40)\n",
      "('E', 50)\n"
     ]
    }
   ],
   "source": [
    "for z in zip_list:\n",
    "    print(z)"
   ]
  },
  {
   "cell_type": "code",
   "execution_count": 11,
   "id": "1bfc6d7a-ac8d-4784-af5b-c39440f7165a",
   "metadata": {},
   "outputs": [
    {
     "data": {
      "text/plain": [
       "('A', 10)"
      ]
     },
     "execution_count": 11,
     "metadata": {},
     "output_type": "execute_result"
    }
   ],
   "source": [
    "zip_list[0]"
   ]
  },
  {
   "cell_type": "markdown",
   "id": "199e98dc-8497-4775-91ba-67d5dd159587",
   "metadata": {},
   "source": [
    "**Question:**\n",
    "\n",
    "What happends if the parameters are in different length?"
   ]
  },
  {
   "cell_type": "code",
   "execution_count": 12,
   "id": "4282e0a3-45c7-44fe-a473-4d71275cf65e",
   "metadata": {},
   "outputs": [
    {
     "name": "stdout",
     "output_type": "stream",
     "text": [
      "<zip object at 0x000002BCC3D20140>\n"
     ]
    }
   ],
   "source": [
    "d1 = ['A', 'B', 'C', 'D', 'E']\n",
    "d2 = [10, 20, 30]\n",
    "\n",
    "new_zip = zip(d1, d2)\n",
    "\n",
    "print(new_zip)"
   ]
  },
  {
   "cell_type": "code",
   "execution_count": 13,
   "id": "9bd87d8d-a22e-43f8-8d0e-9355b8854c4a",
   "metadata": {},
   "outputs": [
    {
     "data": {
      "text/plain": [
       "[('A', 10), ('B', 20), ('C', 30)]"
      ]
     },
     "execution_count": 13,
     "metadata": {},
     "output_type": "execute_result"
    }
   ],
   "source": [
    "# assing the zip object to a list\n",
    "\n",
    "zip_list = list(new_zip)\n",
    "\n",
    "zip_list"
   ]
  },
  {
   "cell_type": "code",
   "execution_count": 14,
   "id": "ee2b3ad2-613f-41db-a725-5ba05e27e19d",
   "metadata": {},
   "outputs": [
    {
     "data": {
      "text/plain": [
       "3"
      ]
     },
     "execution_count": 14,
     "metadata": {},
     "output_type": "execute_result"
    }
   ],
   "source": [
    "len(zip_list)"
   ]
  },
  {
   "cell_type": "markdown",
   "id": "7225f24a-97b3-4203-af45-155ceb818358",
   "metadata": {},
   "source": [
    "**Answer:** The minimum number will decide the final length."
   ]
  },
  {
   "cell_type": "markdown",
   "id": "009b01c0-3b67-4583-8c76-5e4b48d45454",
   "metadata": {},
   "source": [
    "**Loop over the zip list-> get Tuples**"
   ]
  },
  {
   "cell_type": "code",
   "execution_count": 15,
   "id": "0ce52e0d-61fe-4b8e-ad00-4dc60e22c6a1",
   "metadata": {},
   "outputs": [
    {
     "data": {
      "text/plain": [
       "[('A', 10), ('B', 20), ('C', 30)]"
      ]
     },
     "execution_count": 15,
     "metadata": {},
     "output_type": "execute_result"
    }
   ],
   "source": [
    "zip_list"
   ]
  },
  {
   "cell_type": "code",
   "execution_count": 17,
   "id": "c908d477-166c-40e3-802a-52aa70146b7a",
   "metadata": {},
   "outputs": [
    {
     "name": "stdout",
     "output_type": "stream",
     "text": [
      "('A', 10)\n",
      "<class 'tuple'>\n",
      "('B', 20)\n",
      "<class 'tuple'>\n",
      "('C', 30)\n",
      "<class 'tuple'>\n"
     ]
    }
   ],
   "source": [
    "for el in zip_list:\n",
    "    print(el)\n",
    "    print(type(el))"
   ]
  },
  {
   "cell_type": "code",
   "execution_count": 18,
   "id": "8d0f2447-9fd8-4482-bbbc-8fab68427c52",
   "metadata": {},
   "outputs": [
    {
     "name": "stdout",
     "output_type": "stream",
     "text": [
      "element from d1: A - element from d2: 10\n",
      "element from d1: B - element from d2: 20\n",
      "element from d1: C - element from d2: 30\n"
     ]
    }
   ],
   "source": [
    "# tuple unpacking\n",
    "\n",
    "for d1_el, d2_el in zip_list:\n",
    "    print(\"element from d1: {0} - element from d2: {1}\".format(d1_el, d2_el))\n",
    "    "
   ]
  },
  {
   "cell_type": "markdown",
   "id": "8fcd9331-c74d-4bde-9ad1-32172eb0bb4c",
   "metadata": {},
   "source": [
    "**Example:**\n",
    "\n",
    "Check the corresponding elements(at the same index) of two lists.\n",
    "\n",
    "And print them if they are equal. (common elements)"
   ]
  },
  {
   "cell_type": "code",
   "execution_count": 19,
   "id": "f088bc2d-8e68-4184-8c9b-09d2366aad65",
   "metadata": {},
   "outputs": [
    {
     "name": "stdout",
     "output_type": "stream",
     "text": [
      "B\n",
      "d\n",
      "F\n"
     ]
    }
   ],
   "source": [
    "l1 = ['a', 'B', 'C', 'd', 'e', 'F']\n",
    "l2 = ['A', 'B', 'c', 'd', 'E', 'F']\n",
    "\n",
    "for e1, e2 in zip(l1, l2):\n",
    "    \n",
    "    if e1 == e2:\n",
    "        print(e1)\n",
    "        "
   ]
  },
  {
   "cell_type": "markdown",
   "id": "13a3921f-f707-49cd-a00d-9dcb8b07a971",
   "metadata": {},
   "source": [
    "# Tuple & Dictionary\n",
    "\n",
    "We learned that to get the elements of a Dictionary -> `items()`\n",
    "\n",
    "And this **items()** returns a list of **Tuples.**"
   ]
  },
  {
   "cell_type": "code",
   "execution_count": 20,
   "id": "87e57ee9-fe68-4fc1-b93e-6528021ebb7e",
   "metadata": {},
   "outputs": [
    {
     "data": {
      "text/plain": [
       "{'A': 65, 'B': 66, 'C': 67, 'a': 97, 'b': 98, 'c': 99}"
      ]
     },
     "execution_count": 20,
     "metadata": {},
     "output_type": "execute_result"
    }
   ],
   "source": [
    "# ASCII codes of first 3 letters\n",
    "\n",
    "asciis = {\n",
    "    'A': ord('A'),\n",
    "    'B': ord('B'),\n",
    "    'C': ord('C'),\n",
    "    'a': ord('a'),\n",
    "    'b': ord('b'),\n",
    "    'c': ord('c')\n",
    "}\n",
    "\n",
    "asciis"
   ]
  },
  {
   "cell_type": "code",
   "execution_count": 21,
   "id": "032847e1-e40b-4d80-a9ce-95197757a85a",
   "metadata": {},
   "outputs": [
    {
     "data": {
      "text/plain": [
       "dict_items([('A', 65), ('B', 66), ('C', 67), ('a', 97), ('b', 98), ('c', 99)])"
      ]
     },
     "execution_count": 21,
     "metadata": {},
     "output_type": "execute_result"
    }
   ],
   "source": [
    "asciis.items()"
   ]
  },
  {
   "cell_type": "code",
   "execution_count": 23,
   "id": "734b9b13-51ca-4122-996c-c6781e4a9860",
   "metadata": {},
   "outputs": [
    {
     "name": "stdout",
     "output_type": "stream",
     "text": [
      "A 65\n",
      "B 66\n",
      "C 67\n",
      "a 97\n",
      "b 98\n",
      "c 99\n"
     ]
    }
   ],
   "source": [
    "# loop over items \n",
    "\n",
    "for key, value in asciis.items():\n",
    "    print(key, value)\n",
    "    "
   ]
  },
  {
   "cell_type": "markdown",
   "id": "cb6b024c-20b2-4560-ad6c-b9323af674d5",
   "metadata": {},
   "source": [
    "**Remainder:**\n",
    "\n",
    "Dictionaries are not ordered types.\n",
    "\n",
    "We can not expect its items to be ordered.\n",
    "\n",
    "Because Dictionary does not use implict integer indexing."
   ]
  },
  {
   "cell_type": "code",
   "execution_count": 24,
   "id": "525664e8-9054-46cc-8f95-1fef2ab98e36",
   "metadata": {},
   "outputs": [
    {
     "ename": "TypeError",
     "evalue": "'dict' object is not callable",
     "output_type": "error",
     "traceback": [
      "\u001b[1;31m---------------------------------------------------------------------------\u001b[0m",
      "\u001b[1;31mTypeError\u001b[0m                                 Traceback (most recent call last)",
      "\u001b[1;32m~\\AppData\\Local\\Temp/ipykernel_1112/1980035253.py\u001b[0m in \u001b[0;36m<module>\u001b[1;34m\u001b[0m\n\u001b[1;32m----> 1\u001b[1;33m \u001b[0masciis\u001b[0m\u001b[1;33m(\u001b[0m\u001b[1;36m0\u001b[0m\u001b[1;33m)\u001b[0m\u001b[1;33m\u001b[0m\u001b[1;33m\u001b[0m\u001b[0m\n\u001b[0m",
      "\u001b[1;31mTypeError\u001b[0m: 'dict' object is not callable"
     ]
    }
   ],
   "source": [
    "asciis(0)"
   ]
  },
  {
   "cell_type": "markdown",
   "id": "80f471c5-d796-4d93-92cf-f8247d7be7b0",
   "metadata": {},
   "source": [
    "**Convert Tuple List into a Dictionary:**\n",
    "\n",
    "We saw that items() returns the elements of a Dictionary as a list of Tuples.\n",
    "\n",
    "Now let's do the opposite.\n",
    "\n",
    "This time we will a list of Tuples and convert it into a Dictionary."
   ]
  },
  {
   "cell_type": "code",
   "execution_count": 25,
   "id": "b214306e-c2ac-4c48-86f5-900361bfbc50",
   "metadata": {},
   "outputs": [
    {
     "data": {
      "text/plain": [
       "[('January', 31), ('February', 28), ('March', 31), ('April', 30)]"
      ]
     },
     "execution_count": 25,
     "metadata": {},
     "output_type": "execute_result"
    }
   ],
   "source": [
    "months_days = [\n",
    "    ('January', 31),\n",
    "    ('February', 28),\n",
    "    ('March', 31),\n",
    "    ('April', 30)\n",
    "]\n",
    "\n",
    "months_days"
   ]
  },
  {
   "cell_type": "code",
   "execution_count": 26,
   "id": "2c6e3e18-b91b-4793-a80e-a17aad6bc898",
   "metadata": {},
   "outputs": [
    {
     "data": {
      "text/plain": [
       "{'January': 31, 'February': 28, 'March': 31, 'April': 30}"
      ]
     },
     "execution_count": 26,
     "metadata": {},
     "output_type": "execute_result"
    }
   ],
   "source": [
    "months = dict(months_days)\n",
    "\n",
    "months"
   ]
  },
  {
   "cell_type": "code",
   "execution_count": 27,
   "id": "a360dcb9-d985-45b8-9e18-07fbd97189a0",
   "metadata": {},
   "outputs": [
    {
     "name": "stdout",
     "output_type": "stream",
     "text": [
      "<class 'dict'>\n"
     ]
    }
   ],
   "source": [
    "print(type(months))"
   ]
  },
  {
   "cell_type": "markdown",
   "id": "4e418a6a-305b-4325-a81f-333ff75efc6e",
   "metadata": {},
   "source": [
    "**Example:**\n",
    "\n",
    "Use `zip()` and `range()` functions to create a Dictionary of days in a week.\n",
    "\n",
    "* 1: Monday\n",
    "* 2: Tuesday\n",
    "* 3: Wednesday\n",
    "* 4: Thursday\n",
    "* 5: Friday\n",
    "* 6: Saturday\n",
    "* 7: Sunday"
   ]
  },
  {
   "cell_type": "code",
   "execution_count": 2,
   "id": "851ebd97-b4b8-4ccc-a4eb-2a9405601ba9",
   "metadata": {},
   "outputs": [
    {
     "name": "stdout",
     "output_type": "stream",
     "text": [
      "<zip object at 0x000001A06C44C900>\n"
     ]
    }
   ],
   "source": [
    "# Solution:\n",
    "\n",
    "day_names = ['Monday', 'Tuesday', 'Wednesday', 'Thursday', 'Friday', 'Saturday', 'Sunday']\n",
    "numbers = range(1, 8)\n",
    "\n",
    "days = zip(numbers, day_names)\n",
    "\n",
    "print(days)"
   ]
  },
  {
   "cell_type": "code",
   "execution_count": 3,
   "id": "28e41e41-288a-4d37-a149-3f073de8895f",
   "metadata": {},
   "outputs": [
    {
     "name": "stdout",
     "output_type": "stream",
     "text": [
      "{1: 'Monday', 2: 'Tuesday', 3: 'Wednesday', 4: 'Thursday', 5: 'Friday', 6: 'Saturday', 7: 'Sunday'}\n"
     ]
    }
   ],
   "source": [
    "# convert the zip object (iterartor of list of tuples)\n",
    "\n",
    "days_dict = dict(days)\n",
    "\n",
    "print(days_dict)"
   ]
  },
  {
   "cell_type": "code",
   "execution_count": 5,
   "id": "edb89f82-a172-42cf-9f9c-857983af48fa",
   "metadata": {},
   "outputs": [
    {
     "name": "stdout",
     "output_type": "stream",
     "text": [
      "{1: 'Monday', 2: 'Tuesday', 3: 'Wednesday', 4: 'Thursday', 5: 'Friday', 6: 'Saturday', 7: 'Sunday'}\n"
     ]
    }
   ],
   "source": [
    "# do the same thing in one line\n",
    "\n",
    "days_dict_2 = dict(zip(numbers, day_names))\n",
    "\n",
    "print(days_dict_2)"
   ]
  },
  {
   "cell_type": "markdown",
   "id": "be6974b2-55dd-4146-8fbd-6f858643e5a9",
   "metadata": {},
   "source": [
    "**Tuples as Dictionary Key:**\n",
    "\n",
    "We have learned that the `key` of Dictionary must be `Immutable` type.\n",
    "\n",
    "Since Tuples are Immutable, we can assign them as Dictionary Keys."
   ]
  },
  {
   "cell_type": "markdown",
   "id": "25c81d2d-40d4-40f6-9191-9bd77bc304ea",
   "metadata": {},
   "source": [
    "**Example:**\n",
    "\n",
    "We want to store the students names and grades in a dictionary.\n",
    "\n",
    "`(FirstName, LastName)` will be the key and `Grade` will be the value.\n",
    "\n",
    "    student_grades = {\n",
    "        ('Manish', 'Kunwar'): 'MK',\n",
    "        ('Bruce', 'Wayne'): 'DC',\n",
    "        ('Klark', 'Kent'): 'FF',\n",
    "        ('Peter', 'Parket'): 'FD'\n",
    "    }"
   ]
  },
  {
   "cell_type": "code",
   "execution_count": 7,
   "id": "82025d53-2944-40d7-96e2-4f4a26805bec",
   "metadata": {},
   "outputs": [
    {
     "data": {
      "text/plain": [
       "{('Manish', 'Kunwar'): 'AA',\n",
       " ('Bruce', 'Wayne'): 'DC',\n",
       " ('Klark', 'Kent'): 'FF',\n",
       " ('Peter', 'Parker'): 'FD'}"
      ]
     },
     "execution_count": 7,
     "metadata": {},
     "output_type": "execute_result"
    }
   ],
   "source": [
    "# Solution\n",
    "\n",
    "# Create list\n",
    "names = ['Manish', 'Bruce', 'Klark', 'Peter']\n",
    "lastnames = ['Kunwar', 'Wayne', 'Kent', 'Parker']\n",
    "grades = ['AA', 'DC', 'FF', 'FD']\n",
    "\n",
    "# empty dict\n",
    "student_grades = {}\n",
    "\n",
    "# loop over 3 list simultaniously -> zip()\n",
    "for name, lastname, grade in zip(names, lastnames, grades):\n",
    "    \n",
    "    student_grades[(name, lastname)] = grade\n",
    "    \n",
    "student_grades"
   ]
  },
  {
   "cell_type": "markdown",
   "id": "3d07df06-52da-430f-a328-c79fa455bffa",
   "metadata": {},
   "source": [
    "# `lambda` Function as Key"
   ]
  },
  {
   "cell_type": "markdown",
   "id": "27bc1230-8dd7-42e1-b023-ad2e59498878",
   "metadata": {},
   "source": [
    "Some built-in Python functions expect a declaration to execute.\n",
    "\n",
    "We have to declare them how to process.\n",
    "\n",
    "This declaration is a function actully.\n",
    "\n",
    "We have to pass a function as parameter.\n",
    "\n",
    "We saw `lambda` function before.\n",
    "\n",
    "Now we will use the lambda function as function parameters."
   ]
  },
  {
   "cell_type": "markdown",
   "id": "f3032083-641a-4f91-9173-14ec1a554db3",
   "metadata": {},
   "source": [
    "For example:\n",
    "\n",
    "For sorting Python has two functions: `sort()` and `sorted()`\n",
    "\n",
    "* sort()\n",
    "    * list.sort(reverse = True|False,**key=myFunc)\n",
    "* sorted()\n",
    "    * sorted(list,**key=myFunc**, reverse=True|False)"
   ]
  },
  {
   "cell_type": "markdown",
   "id": "8a5b407d-9da6-470d-90f3-d8f4cd4fefe2",
   "metadata": {},
   "source": [
    "As you see, the **myFunc** that we pass to **key** parameter is our function.\n",
    "\n",
    "First we will, create a normal function and pass it to **key** parameter.\n",
    "\n",
    "Then we will do the same thing with lambda function."
   ]
  },
  {
   "cell_type": "code",
   "execution_count": 1,
   "id": "a731aa0b-cc69-43a1-8892-c28103d6c3d6",
   "metadata": {},
   "outputs": [],
   "source": [
    "cars = ('Mercedes', 'Audi', 'BMW', 'Porsche', 'VM')"
   ]
  },
  {
   "cell_type": "markdown",
   "id": "815e14c5-428f-4653-8b0c-5d0091040243",
   "metadata": {},
   "source": [
    "**Example:**\n",
    "\n",
    "Sort the cars tuple by length of elements in ascending order. (number of chars in elements)"
   ]
  },
  {
   "cell_type": "markdown",
   "id": "60c4ea8b-2acc-4118-aa53-73e5029d4149",
   "metadata": {},
   "source": [
    "**Define a Named Function**"
   ]
  },
  {
   "cell_type": "code",
   "execution_count": 2,
   "id": "0bf23fe8-eb11-4b06-8227-08393273264d",
   "metadata": {},
   "outputs": [],
   "source": [
    "\n",
    "def myFunc(e):\n",
    "    return len(e)\n"
   ]
  },
  {
   "cell_type": "code",
   "execution_count": 3,
   "id": "ffbcf46b-e635-4794-bf3f-d3d78734dcca",
   "metadata": {},
   "outputs": [
    {
     "data": {
      "text/plain": [
       "4"
      ]
     },
     "execution_count": 3,
     "metadata": {},
     "output_type": "execute_result"
    }
   ],
   "source": [
    "myFunc('Audi')"
   ]
  },
  {
   "cell_type": "code",
   "execution_count": 4,
   "id": "c997b631-9673-4457-8175-0ae6c6ca74a0",
   "metadata": {},
   "outputs": [
    {
     "data": {
      "text/plain": [
       "2"
      ]
     },
     "execution_count": 4,
     "metadata": {},
     "output_type": "execute_result"
    }
   ],
   "source": [
    "myFunc('VW')"
   ]
  },
  {
   "cell_type": "code",
   "execution_count": 6,
   "id": "84d5a7d0-a444-4712-b47e-84b4aaa95a2e",
   "metadata": {},
   "outputs": [
    {
     "data": {
      "text/plain": [
       "['VM', 'BMW', 'Audi', 'Porsche', 'Mercedes']"
      ]
     },
     "execution_count": 6,
     "metadata": {},
     "output_type": "execute_result"
    }
   ],
   "source": [
    "# sorted()\n",
    "\n",
    "# sorted() returns a list of sorted elements\n",
    "\n",
    "sorted(cars, key = myFunc)"
   ]
  },
  {
   "cell_type": "code",
   "execution_count": 7,
   "id": "a00c7e1c-5e97-499b-8894-91308fe0daa8",
   "metadata": {},
   "outputs": [
    {
     "ename": "AttributeError",
     "evalue": "'tuple' object has no attribute 'sort'",
     "output_type": "error",
     "traceback": [
      "\u001b[1;31m---------------------------------------------------------------------------\u001b[0m",
      "\u001b[1;31mAttributeError\u001b[0m                            Traceback (most recent call last)",
      "\u001b[1;32m~\\AppData\\Local\\Temp/ipykernel_7732/2326529055.py\u001b[0m in \u001b[0;36m<module>\u001b[1;34m\u001b[0m\n\u001b[0;32m      3\u001b[0m \u001b[1;31m# sorted() is a list function -> operates on lists\u001b[0m\u001b[1;33m\u001b[0m\u001b[1;33m\u001b[0m\u001b[1;33m\u001b[0m\u001b[0m\n\u001b[0;32m      4\u001b[0m \u001b[1;33m\u001b[0m\u001b[0m\n\u001b[1;32m----> 5\u001b[1;33m \u001b[0mcars\u001b[0m\u001b[1;33m.\u001b[0m\u001b[0msort\u001b[0m\u001b[1;33m(\u001b[0m\u001b[0mkey\u001b[0m \u001b[1;33m=\u001b[0m \u001b[0mmyFunc\u001b[0m\u001b[1;33m)\u001b[0m\u001b[1;33m\u001b[0m\u001b[1;33m\u001b[0m\u001b[0m\n\u001b[0m",
      "\u001b[1;31mAttributeError\u001b[0m: 'tuple' object has no attribute 'sort'"
     ]
    }
   ],
   "source": [
    "# sorted()\n",
    "\n",
    "# sorted() is a list function -> operates on lists\n",
    "\n",
    "cars.sort(key = myFunc)"
   ]
  },
  {
   "cell_type": "code",
   "execution_count": 9,
   "id": "b0dbdf13-e60b-461b-a018-88f61e256508",
   "metadata": {},
   "outputs": [
    {
     "name": "stdout",
     "output_type": "stream",
     "text": [
      "['Mercedes', 'Audi', 'BMW', 'Porsche', 'VM']\n",
      "**** after sort() *****\n",
      "['VM', 'BMW', 'Audi', 'Porsche', 'Mercedes']\n"
     ]
    }
   ],
   "source": [
    "# sort()\n",
    "\n",
    "# sort() is a list function -> operates on lists\n",
    "\n",
    "cars_list = list(cars)\n",
    "print(cars_list)\n",
    "\n",
    "#sort() -> sorts in place -> mutates the list\n",
    "cars_list.sort(key=myFunc)\n",
    "\n",
    "print(\"**** after sort() *****\")\n",
    "print(cars_list)"
   ]
  },
  {
   "cell_type": "markdown",
   "id": "dafe6b6d-55b2-4985-841e-f62c604a3ae2",
   "metadata": {},
   "source": [
    "# lambda Function"
   ]
  },
  {
   "cell_type": "markdown",
   "id": "51958900-34b2-4d61-869f-01389e14d695",
   "metadata": {},
   "source": [
    "**lambda:** one line, anomymous function."
   ]
  },
  {
   "cell_type": "code",
   "execution_count": 10,
   "id": "494f5995-03ec-4511-bb94-94faee88f602",
   "metadata": {},
   "outputs": [
    {
     "data": {
      "text/plain": [
       "('Mercedes', 'Audi', 'BMW', 'Porsche', 'VM')"
      ]
     },
     "execution_count": 10,
     "metadata": {},
     "output_type": "execute_result"
    }
   ],
   "source": [
    "# sorted()\n",
    "\n",
    "cars"
   ]
  },
  {
   "cell_type": "code",
   "execution_count": 11,
   "id": "c6461f6a-29e1-4b0b-851b-8f93d49172da",
   "metadata": {},
   "outputs": [
    {
     "data": {
      "text/plain": [
       "['VM', 'BMW', 'Audi', 'Porsche', 'Mercedes']"
      ]
     },
     "execution_count": 11,
     "metadata": {},
     "output_type": "execute_result"
    }
   ],
   "source": [
    "sorted(cars, key = lambda e: len(e))"
   ]
  },
  {
   "cell_type": "code",
   "execution_count": 12,
   "id": "270a6486-be6b-4713-a6ac-2411344ee0c5",
   "metadata": {},
   "outputs": [
    {
     "name": "stdout",
     "output_type": "stream",
     "text": [
      "['VM', 'BMW', 'Audi', 'Porsche', 'Mercedes']\n"
     ]
    }
   ],
   "source": [
    "# sort()\n",
    "\n",
    "cars_list = list(cars)\n",
    "\n",
    "cars_list.sort(key=lambda e: len(e))\n",
    "\n",
    "print(cars_list)"
   ]
  },
  {
   "cell_type": "markdown",
   "id": "5efa0605-dcdb-4d7a-a239-0505c0d7106e",
   "metadata": {},
   "source": [
    "**Question:**\n",
    "\n",
    "So far, we didn't pass any **key** parameter into sorted() or sort().\n",
    "\n",
    "How do they do the sorting?"
   ]
  },
  {
   "cell_type": "markdown",
   "id": "1647eb0b-d1e5-48b9-b372-4cd4add54304",
   "metadata": {},
   "source": [
    "**Answer:**\n",
    "\n",
    "They use standard sorting:\n",
    "\n",
    "* numbers -> numeric sort\n",
    "* str -> alphabetical sort"
   ]
  },
  {
   "cell_type": "code",
   "execution_count": 13,
   "id": "233772db-7dd6-43f2-8d06-18056e22f2da",
   "metadata": {},
   "outputs": [
    {
     "data": {
      "text/plain": [
       "(2, 1, 3, 7, 6, 5, 4)"
      ]
     },
     "execution_count": 13,
     "metadata": {},
     "output_type": "execute_result"
    }
   ],
   "source": [
    "# Example:\n",
    "\n",
    "numbers = (2, 1, 3, 7, 6, 5, 4)\n",
    "\n",
    "numbers"
   ]
  },
  {
   "cell_type": "code",
   "execution_count": 14,
   "id": "dc713db8-72e2-4b95-8032-767dd582a346",
   "metadata": {},
   "outputs": [
    {
     "data": {
      "text/plain": [
       "[1, 2, 3, 4, 5, 6, 7]"
      ]
     },
     "execution_count": 14,
     "metadata": {},
     "output_type": "execute_result"
    }
   ],
   "source": [
    "# default -> sorts numeric\n",
    "\n",
    "sorted(numbers)"
   ]
  },
  {
   "cell_type": "code",
   "execution_count": 15,
   "id": "c627f880-e802-4646-9ab0-e87db69eacc0",
   "metadata": {},
   "outputs": [
    {
     "data": {
      "text/plain": [
       "[1, 2, 3, 4, 5, 6, 7]"
      ]
     },
     "execution_count": 15,
     "metadata": {},
     "output_type": "execute_result"
    }
   ],
   "source": [
    "# lambda \n",
    "\n",
    "# sorted(numbers) === sorted(numbers, key = lambda e: e)\n",
    "\n",
    "sorted(numbers, key = lambda e:e)"
   ]
  },
  {
   "cell_type": "code",
   "execution_count": 16,
   "id": "8f6ffb7b-77d0-4095-8441-e26f67bea0ca",
   "metadata": {},
   "outputs": [
    {
     "name": "stdout",
     "output_type": "stream",
     "text": [
      "['a', 'b', 'c', 'd', 'e', 'f']\n"
     ]
    }
   ],
   "source": [
    "# Example\n",
    "\n",
    "letters = ['c', 'f', 'b', 'a', 'e', 'd']\n",
    "\n",
    "letters.sort()\n",
    "\n",
    "print(letters)"
   ]
  },
  {
   "cell_type": "code",
   "execution_count": null,
   "id": "16cb477f-9ea2-4b6b-b6a3-e851aaa801fc",
   "metadata": {},
   "outputs": [],
   "source": [
    "letters = ['c'"
   ]
  }
 ],
 "metadata": {
  "kernelspec": {
   "display_name": "Python 3 (ipykernel)",
   "language": "python",
   "name": "python3"
  },
  "language_info": {
   "codemirror_mode": {
    "name": "ipython",
    "version": 3
   },
   "file_extension": ".py",
   "mimetype": "text/x-python",
   "name": "python",
   "nbconvert_exporter": "python",
   "pygments_lexer": "ipython3",
   "version": "3.8.12"
  }
 },
 "nbformat": 4,
 "nbformat_minor": 5
}
