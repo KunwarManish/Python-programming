{
 "cells": [
  {
   "cell_type": "code",
   "execution_count": 1,
   "id": "823b3e53-f7fa-474a-bd88-c774f97293ba",
   "metadata": {},
   "outputs": [
    {
     "name": "stdout",
     "output_type": "stream",
     "text": [
      "Hello World!\n"
     ]
    }
   ],
   "source": [
    "print('Hello World!')"
   ]
  },
  {
   "cell_type": "markdown",
   "id": "4e7037fc-c9a8-4878-972f-a2a814e98d46",
   "metadata": {},
   "source": [
    "this is plain text"
   ]
  },
  {
   "cell_type": "markdown",
   "id": "7515fbe7-0b23-405a-9a1d-7555361e5654",
   "metadata": {},
   "source": [
    "this ia a markdown cell"
   ]
  },
  {
   "cell_type": "markdown",
   "id": "61cb81a5-dbf6-449f-854b-a0d7aa0a60e0",
   "metadata": {},
   "source": [
    "<b>bold cell</b> is here"
   ]
  },
  {
   "cell_type": "markdown",
   "id": "00ab0e00-3755-424f-b05a-6ef394e1c0ef",
   "metadata": {
    "tags": []
   },
   "source": [
    "**this is bold also** cell here"
   ]
  },
  {
   "cell_type": "code",
   "execution_count": 2,
   "id": "d984330d-8371-4036-af59-d3d0d5493428",
   "metadata": {
    "tags": []
   },
   "outputs": [
    {
     "data": {
      "text/plain": [
       "16"
      ]
     },
     "execution_count": 2,
     "metadata": {},
     "output_type": "execute_result"
    }
   ],
   "source": [
    "8 * 2"
   ]
  },
  {
   "cell_type": "code",
   "execution_count": null,
   "id": "6d3f02b6-0729-4592-9cf1-d6f34bfd5be0",
   "metadata": {},
   "outputs": [],
   "source": []
  }
 ],
 "metadata": {
  "kernelspec": {
   "display_name": "Python 3 (ipykernel)",
   "language": "python",
   "name": "python3"
  },
  "language_info": {
   "codemirror_mode": {
    "name": "ipython",
    "version": 3
   },
   "file_extension": ".py",
   "mimetype": "text/x-python",
   "name": "python",
   "nbconvert_exporter": "python",
   "pygments_lexer": "ipython3",
   "version": "3.8.12"
  }
 },
 "nbformat": 4,
 "nbformat_minor": 5
}
